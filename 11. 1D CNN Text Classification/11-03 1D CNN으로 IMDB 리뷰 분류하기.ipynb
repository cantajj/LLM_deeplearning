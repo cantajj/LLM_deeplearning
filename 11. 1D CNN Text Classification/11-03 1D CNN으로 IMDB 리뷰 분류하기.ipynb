{
 "cells": [
  {
   "cell_type": "markdown",
   "metadata": {
    "id": "6-OXsopEtDgV"
   },
   "source": [
    "2021년 10월 9일에 마지막으로 테스트 되었습니다.  \n",
    "\n",
    "이 자료는 위키독스 '딥 러닝을 이용한 자연어 처리 입문'의 1D CNN 학습 자료입니다.  \n",
    "\n",
    "링크 : https://wikidocs.net/80783"
   ]
  },
  {
   "cell_type": "markdown",
   "metadata": {
    "id": "esQdls0NkhTt"
   },
   "source": [
    "## **11-03 1D CNN으로 IMDB 리뷰 분류하기**\n",
    "---\n",
    "1D CNN을 이용하여 IMDB 리뷰를 분류해보겠습니다. 이전에 다룬 데이터이므로 데이터에 대한 설명은 생략합니다."
   ]
  },
  {
   "cell_type": "markdown",
   "metadata": {
    "id": "zhuF7eTEeP85"
   },
   "source": [
    "---\n",
    "### **1. 데이터에 대한 전처리**\n"
   ]
  },
  {
   "cell_type": "code",
   "execution_count": 1,
   "metadata": {
    "executionInfo": {
     "elapsed": 4789,
     "status": "ok",
     "timestamp": 1747110082123,
     "user": {
      "displayName": "전정호",
      "userId": "01748710418857244015"
     },
     "user_tz": -540
    },
    "id": "UZklPRG2nUp-"
   },
   "outputs": [],
   "source": [
    "import tensorflow as tf\n",
    "from tensorflow.keras import datasets\n",
    "from tensorflow.keras.preprocessing.sequence import pad_sequences"
   ]
  },
  {
   "cell_type": "code",
   "execution_count": 2,
   "metadata": {
    "colab": {
     "base_uri": "https://localhost:8080/",
     "height": 36
    },
    "executionInfo": {
     "elapsed": 16,
     "status": "ok",
     "timestamp": 1747110082143,
     "user": {
      "displayName": "전정호",
      "userId": "01748710418857244015"
     },
     "user_tz": -540
    },
    "id": "mWnsu6TO23Qf",
    "outputId": "7d6eaf30-3edb-4b4a-bbd4-483c8fc74574"
   },
   "outputs": [
    {
     "data": {
      "text/plain": [
       "'2.19.0'"
      ]
     },
     "execution_count": 2,
     "metadata": {},
     "output_type": "execute_result"
    }
   ],
   "source": [
    "tf.__version__"
   ]
  },
  {
   "cell_type": "markdown",
   "metadata": {
    "id": "4V55TP08lFcU"
   },
   "source": [
    "최대 10,000개의 단어만을 허용하여 데이터를 로드합니다."
   ]
  },
  {
   "cell_type": "code",
   "execution_count": 3,
   "metadata": {
    "colab": {
     "base_uri": "https://localhost:8080/"
    },
    "executionInfo": {
     "elapsed": 3036,
     "status": "ok",
     "timestamp": 1747110085182,
     "user": {
      "displayName": "전정호",
      "userId": "01748710418857244015"
     },
     "user_tz": -540
    },
    "id": "drd-CDD1n9p-",
    "outputId": "c868079b-7408-410f-932f-b3fc8662e608"
   },
   "outputs": [],
   "source": [
    "vocab_size = 10000\n",
    "(X_train, y_train), (X_test, y_test) = datasets.imdb.load_data(num_words=vocab_size)"
   ]
  },
  {
   "cell_type": "markdown",
   "metadata": {
    "id": "buGRmyI7lH8j"
   },
   "source": [
    "X_train을 상위 5개만 출력해봅시다."
   ]
  },
  {
   "cell_type": "code",
   "execution_count": 4,
   "metadata": {
    "colab": {
     "base_uri": "https://localhost:8080/"
    },
    "executionInfo": {
     "elapsed": 26,
     "status": "ok",
     "timestamp": 1747110091005,
     "user": {
      "displayName": "전정호",
      "userId": "01748710418857244015"
     },
     "user_tz": -540
    },
    "id": "HfEREkFqoDh1",
    "outputId": "bceacbe8-e5ef-4d2b-d35c-ed0ff343a808"
   },
   "outputs": [
    {
     "name": "stdout",
     "output_type": "stream",
     "text": [
      "[list([1, 14, 22, 16, 43, 530, 973, 1622, 1385, 65, 458, 4468, 66, 3941, 4, 173, 36, 256, 5, 25, 100, 43, 838, 112, 50, 670, 2, 9, 35, 480, 284, 5, 150, 4, 172, 112, 167, 2, 336, 385, 39, 4, 172, 4536, 1111, 17, 546, 38, 13, 447, 4, 192, 50, 16, 6, 147, 2025, 19, 14, 22, 4, 1920, 4613, 469, 4, 22, 71, 87, 12, 16, 43, 530, 38, 76, 15, 13, 1247, 4, 22, 17, 515, 17, 12, 16, 626, 18, 2, 5, 62, 386, 12, 8, 316, 8, 106, 5, 4, 2223, 5244, 16, 480, 66, 3785, 33, 4, 130, 12, 16, 38, 619, 5, 25, 124, 51, 36, 135, 48, 25, 1415, 33, 6, 22, 12, 215, 28, 77, 52, 5, 14, 407, 16, 82, 2, 8, 4, 107, 117, 5952, 15, 256, 4, 2, 7, 3766, 5, 723, 36, 71, 43, 530, 476, 26, 400, 317, 46, 7, 4, 2, 1029, 13, 104, 88, 4, 381, 15, 297, 98, 32, 2071, 56, 26, 141, 6, 194, 7486, 18, 4, 226, 22, 21, 134, 476, 26, 480, 5, 144, 30, 5535, 18, 51, 36, 28, 224, 92, 25, 104, 4, 226, 65, 16, 38, 1334, 88, 12, 16, 283, 5, 16, 4472, 113, 103, 32, 15, 16, 5345, 19, 178, 32])\n",
      " list([1, 194, 1153, 194, 8255, 78, 228, 5, 6, 1463, 4369, 5012, 134, 26, 4, 715, 8, 118, 1634, 14, 394, 20, 13, 119, 954, 189, 102, 5, 207, 110, 3103, 21, 14, 69, 188, 8, 30, 23, 7, 4, 249, 126, 93, 4, 114, 9, 2300, 1523, 5, 647, 4, 116, 9, 35, 8163, 4, 229, 9, 340, 1322, 4, 118, 9, 4, 130, 4901, 19, 4, 1002, 5, 89, 29, 952, 46, 37, 4, 455, 9, 45, 43, 38, 1543, 1905, 398, 4, 1649, 26, 6853, 5, 163, 11, 3215, 2, 4, 1153, 9, 194, 775, 7, 8255, 2, 349, 2637, 148, 605, 2, 8003, 15, 123, 125, 68, 2, 6853, 15, 349, 165, 4362, 98, 5, 4, 228, 9, 43, 2, 1157, 15, 299, 120, 5, 120, 174, 11, 220, 175, 136, 50, 9, 4373, 228, 8255, 5, 2, 656, 245, 2350, 5, 4, 9837, 131, 152, 491, 18, 2, 32, 7464, 1212, 14, 9, 6, 371, 78, 22, 625, 64, 1382, 9, 8, 168, 145, 23, 4, 1690, 15, 16, 4, 1355, 5, 28, 6, 52, 154, 462, 33, 89, 78, 285, 16, 145, 95])\n",
      " list([1, 14, 47, 8, 30, 31, 7, 4, 249, 108, 7, 4, 5974, 54, 61, 369, 13, 71, 149, 14, 22, 112, 4, 2401, 311, 12, 16, 3711, 33, 75, 43, 1829, 296, 4, 86, 320, 35, 534, 19, 263, 4821, 1301, 4, 1873, 33, 89, 78, 12, 66, 16, 4, 360, 7, 4, 58, 316, 334, 11, 4, 1716, 43, 645, 662, 8, 257, 85, 1200, 42, 1228, 2578, 83, 68, 3912, 15, 36, 165, 1539, 278, 36, 69, 2, 780, 8, 106, 14, 6905, 1338, 18, 6, 22, 12, 215, 28, 610, 40, 6, 87, 326, 23, 2300, 21, 23, 22, 12, 272, 40, 57, 31, 11, 4, 22, 47, 6, 2307, 51, 9, 170, 23, 595, 116, 595, 1352, 13, 191, 79, 638, 89, 2, 14, 9, 8, 106, 607, 624, 35, 534, 6, 227, 7, 129, 113])\n",
      " list([1, 4, 2, 2, 33, 2804, 4, 2040, 432, 111, 153, 103, 4, 1494, 13, 70, 131, 67, 11, 61, 2, 744, 35, 3715, 761, 61, 5766, 452, 9214, 4, 985, 7, 2, 59, 166, 4, 105, 216, 1239, 41, 1797, 9, 15, 7, 35, 744, 2413, 31, 8, 4, 687, 23, 4, 2, 7339, 6, 3693, 42, 38, 39, 121, 59, 456, 10, 10, 7, 265, 12, 575, 111, 153, 159, 59, 16, 1447, 21, 25, 586, 482, 39, 4, 96, 59, 716, 12, 4, 172, 65, 9, 579, 11, 6004, 4, 1615, 5, 2, 7, 5168, 17, 13, 7064, 12, 19, 6, 464, 31, 314, 11, 2, 6, 719, 605, 11, 8, 202, 27, 310, 4, 3772, 3501, 8, 2722, 58, 10, 10, 537, 2116, 180, 40, 14, 413, 173, 7, 263, 112, 37, 152, 377, 4, 537, 263, 846, 579, 178, 54, 75, 71, 476, 36, 413, 263, 2504, 182, 5, 17, 75, 2306, 922, 36, 279, 131, 2895, 17, 2867, 42, 17, 35, 921, 2, 192, 5, 1219, 3890, 19, 2, 217, 4122, 1710, 537, 2, 1236, 5, 736, 10, 10, 61, 403, 9, 2, 40, 61, 4494, 5, 27, 4494, 159, 90, 263, 2311, 4319, 309, 8, 178, 5, 82, 4319, 4, 65, 15, 9225, 145, 143, 5122, 12, 7039, 537, 746, 537, 537, 15, 7979, 4, 2, 594, 7, 5168, 94, 9096, 3987, 2, 11, 2, 4, 538, 7, 1795, 246, 2, 9, 2, 11, 635, 14, 9, 51, 408, 12, 94, 318, 1382, 12, 47, 6, 2683, 936, 5, 6307, 2, 19, 49, 7, 4, 1885, 2, 1118, 25, 80, 126, 842, 10, 10, 2, 2, 4726, 27, 4494, 11, 1550, 3633, 159, 27, 341, 29, 2733, 19, 4185, 173, 7, 90, 2, 8, 30, 11, 4, 1784, 86, 1117, 8, 3261, 46, 11, 2, 21, 29, 9, 2841, 23, 4, 1010, 2, 793, 6, 2, 1386, 1830, 10, 10, 246, 50, 9, 6, 2750, 1944, 746, 90, 29, 2, 8, 124, 4, 882, 4, 882, 496, 27, 2, 2213, 537, 121, 127, 1219, 130, 5, 29, 494, 8, 124, 4, 882, 496, 4, 341, 7, 27, 846, 10, 10, 29, 9, 1906, 8, 97, 6, 236, 2, 1311, 8, 4, 2, 7, 31, 7, 2, 91, 2, 3987, 70, 4, 882, 30, 579, 42, 9, 12, 32, 11, 537, 10, 10, 11, 14, 65, 44, 537, 75, 2, 1775, 3353, 2, 1846, 4, 2, 7, 154, 5, 4, 518, 53, 2, 2, 7, 3211, 882, 11, 399, 38, 75, 257, 3807, 19, 2, 17, 29, 456, 4, 65, 7, 27, 205, 113, 10, 10, 2, 4, 2, 2, 9, 242, 4, 91, 1202, 2, 5, 2070, 307, 22, 7, 5168, 126, 93, 40, 2, 13, 188, 1076, 3222, 19, 4, 2, 7, 2348, 537, 23, 53, 537, 21, 82, 40, 2, 13, 2, 14, 280, 13, 219, 4, 2, 431, 758, 859, 4, 953, 1052, 2, 7, 5991, 5, 94, 40, 25, 238, 60, 2, 4, 2, 804, 2, 7, 4, 9941, 132, 8, 67, 6, 22, 15, 9, 283, 8, 5168, 14, 31, 9, 242, 955, 48, 25, 279, 2, 23, 12, 1685, 195, 25, 238, 60, 796, 2, 4, 671, 7, 2804, 5, 4, 559, 154, 888, 7, 726, 50, 26, 49, 7008, 15, 566, 30, 579, 21, 64, 2574])\n",
      " list([1, 249, 1323, 7, 61, 113, 10, 10, 13, 1637, 14, 20, 56, 33, 2401, 18, 457, 88, 13, 2626, 1400, 45, 3171, 13, 70, 79, 49, 706, 919, 13, 16, 355, 340, 355, 1696, 96, 143, 4, 22, 32, 289, 7, 61, 369, 71, 2359, 5, 13, 16, 131, 2073, 249, 114, 249, 229, 249, 20, 13, 28, 126, 110, 13, 473, 8, 569, 61, 419, 56, 429, 6, 1513, 18, 35, 534, 95, 474, 570, 5, 25, 124, 138, 88, 12, 421, 1543, 52, 725, 6397, 61, 419, 11, 13, 1571, 15, 1543, 20, 11, 4, 2, 5, 296, 12, 3524, 5, 15, 421, 128, 74, 233, 334, 207, 126, 224, 12, 562, 298, 2167, 1272, 7, 2601, 5, 516, 988, 43, 8, 79, 120, 15, 595, 13, 784, 25, 3171, 18, 165, 170, 143, 19, 14, 5, 7224, 6, 226, 251, 7, 61, 113])]\n"
     ]
    }
   ],
   "source": [
    "print(X_train[:5])"
   ]
  },
  {
   "cell_type": "code",
   "execution_count": 5,
   "metadata": {
    "colab": {
     "base_uri": "https://localhost:8080/"
    },
    "executionInfo": {
     "elapsed": 11,
     "status": "ok",
     "timestamp": 1747110107022,
     "user": {
      "displayName": "전정호",
      "userId": "01748710418857244015"
     },
     "user_tz": -540
    },
    "id": "5ji7ZFEeoGGN",
    "outputId": "50925b57-da2f-4b65-b368-939d90fb3fc5"
   },
   "outputs": [
    {
     "name": "stdout",
     "output_type": "stream",
     "text": [
      "[1 0 0 1 0]\n"
     ]
    }
   ],
   "source": [
    "print(y_train[:5])"
   ]
  },
  {
   "cell_type": "markdown",
   "metadata": {
    "id": "lQNuukPklKlv"
   },
   "source": [
    "각 샘플의 길이가 긴 관계로 출력 시 중간 내용은 중략하였습니다. 각 샘플은 이미 정수 인코딩까지 전처리가 된 상태입니다. 하지만 각 샘플들의 길이는 서로 다르죠? 패딩을 진행하여 모든 샘플들의 길이를 200으로 맞춥니다."
   ]
  },
  {
   "cell_type": "code",
   "execution_count": 6,
   "metadata": {
    "executionInfo": {
     "elapsed": 69,
     "status": "ok",
     "timestamp": 1747110130150,
     "user": {
      "displayName": "전정호",
      "userId": "01748710418857244015"
     },
     "user_tz": -540
    },
    "id": "L5zjSoW1oGnl"
   },
   "outputs": [],
   "source": [
    "max_len = 200\n",
    "X_train = pad_sequences(X_train, maxlen=max_len)\n",
    "X_test = pad_sequences(X_test, maxlen=max_len)"
   ]
  },
  {
   "cell_type": "markdown",
   "metadata": {
    "id": "SkCVUDYIlN8E"
   },
   "source": [
    "패딩이 되었는지 크기(shape)를 확인해봅시다."
   ]
  },
  {
   "cell_type": "code",
   "execution_count": 7,
   "metadata": {
    "colab": {
     "base_uri": "https://localhost:8080/"
    },
    "executionInfo": {
     "elapsed": 14,
     "status": "ok",
     "timestamp": 1747110137895,
     "user": {
      "displayName": "전정호",
      "userId": "01748710418857244015"
     },
     "user_tz": -540
    },
    "id": "MYV4O7tGp5vf",
    "outputId": "94f32d3a-b771-40f2-fc33-cba46b7cda23"
   },
   "outputs": [
    {
     "name": "stdout",
     "output_type": "stream",
     "text": [
      "X_train의 크기(shape) : (25000, 200)\n",
      "X_test의 크기(shape) : (25000, 200)\n"
     ]
    }
   ],
   "source": [
    "print('X_train의 크기(shape) :', X_train.shape)\n",
    "print('X_test의 크기(shape) :', X_test.shape)"
   ]
  },
  {
   "cell_type": "code",
   "execution_count": 8,
   "metadata": {
    "colab": {
     "base_uri": "https://localhost:8080/"
    },
    "executionInfo": {
     "elapsed": 17,
     "status": "ok",
     "timestamp": 1747110162342,
     "user": {
      "displayName": "전정호",
      "userId": "01748710418857244015"
     },
     "user_tz": -540
    },
    "id": "A901Falj4SeX",
    "outputId": "d9389fcf-0988-4192-82a5-103094205aff"
   },
   "outputs": [
    {
     "data": {
      "text/plain": [
       "array([[   5,   25,  100,   43,  838,  112,   50,  670,    2,    9,   35,\n",
       "         480,  284,    5,  150,    4,  172,  112,  167,    2,  336,  385,\n",
       "          39,    4,  172, 4536, 1111,   17,  546,   38,   13,  447,    4,\n",
       "         192,   50,   16,    6,  147, 2025,   19,   14,   22,    4, 1920,\n",
       "        4613,  469,    4,   22,   71,   87,   12,   16,   43,  530,   38,\n",
       "          76,   15,   13, 1247,    4,   22,   17,  515,   17,   12,   16,\n",
       "         626,   18,    2,    5,   62,  386,   12,    8,  316,    8,  106,\n",
       "           5,    4, 2223, 5244,   16,  480,   66, 3785,   33,    4,  130,\n",
       "          12,   16,   38,  619,    5,   25,  124,   51,   36,  135,   48,\n",
       "          25, 1415,   33,    6,   22,   12,  215,   28,   77,   52,    5,\n",
       "          14,  407,   16,   82,    2,    8,    4,  107,  117, 5952,   15,\n",
       "         256,    4,    2,    7, 3766,    5,  723,   36,   71,   43,  530,\n",
       "         476,   26,  400,  317,   46,    7,    4,    2, 1029,   13,  104,\n",
       "          88,    4,  381,   15,  297,   98,   32, 2071,   56,   26,  141,\n",
       "           6,  194, 7486,   18,    4,  226,   22,   21,  134,  476,   26,\n",
       "         480,    5,  144,   30, 5535,   18,   51,   36,   28,  224,   92,\n",
       "          25,  104,    4,  226,   65,   16,   38, 1334,   88,   12,   16,\n",
       "         283,    5,   16, 4472,  113,  103,   32,   15,   16, 5345,   19,\n",
       "         178,   32],\n",
       "       [   0,    0,    0,    0,    0,    0,    0,    0,    0,    0,    0,\n",
       "           1,  194, 1153,  194, 8255,   78,  228,    5,    6, 1463, 4369,\n",
       "        5012,  134,   26,    4,  715,    8,  118, 1634,   14,  394,   20,\n",
       "          13,  119,  954,  189,  102,    5,  207,  110, 3103,   21,   14,\n",
       "          69,  188,    8,   30,   23,    7,    4,  249,  126,   93,    4,\n",
       "         114,    9, 2300, 1523,    5,  647,    4,  116,    9,   35, 8163,\n",
       "           4,  229,    9,  340, 1322,    4,  118,    9,    4,  130, 4901,\n",
       "          19,    4, 1002,    5,   89,   29,  952,   46,   37,    4,  455,\n",
       "           9,   45,   43,   38, 1543, 1905,  398,    4, 1649,   26, 6853,\n",
       "           5,  163,   11, 3215,    2,    4, 1153,    9,  194,  775,    7,\n",
       "        8255,    2,  349, 2637,  148,  605,    2, 8003,   15,  123,  125,\n",
       "          68,    2, 6853,   15,  349,  165, 4362,   98,    5,    4,  228,\n",
       "           9,   43,    2, 1157,   15,  299,  120,    5,  120,  174,   11,\n",
       "         220,  175,  136,   50,    9, 4373,  228, 8255,    5,    2,  656,\n",
       "         245, 2350,    5,    4, 9837,  131,  152,  491,   18,    2,   32,\n",
       "        7464, 1212,   14,    9,    6,  371,   78,   22,  625,   64, 1382,\n",
       "           9,    8,  168,  145,   23,    4, 1690,   15,   16,    4, 1355,\n",
       "           5,   28,    6,   52,  154,  462,   33,   89,   78,  285,   16,\n",
       "         145,   95]])"
      ]
     },
     "execution_count": 8,
     "metadata": {},
     "output_type": "execute_result"
    }
   ],
   "source": [
    "X_train[:2]"
   ]
  },
  {
   "cell_type": "markdown",
   "metadata": {
    "id": "miPTEJJulTN7"
   },
   "source": [
    "훈련 데이터, 테스트 데이터 각 25,000 샘플이 전부 길이 200을 가지는 것을 확인할 수 있습니다. y_train도 출력해봅시다."
   ]
  },
  {
   "cell_type": "markdown",
   "metadata": {
    "id": "S0MMSanLeRlh"
   },
   "source": [
    "---\n",
    "### **2. 1D CNN으로 IMDB 리뷰 분류하기**\n"
   ]
  },
  {
   "cell_type": "markdown",
   "metadata": {
    "id": "mOxF7VVEmtRL"
   },
   "source": [
    "MDB 리뷰 분류를 위한 1D CNN 모델을 설계해봅시다. 하이퍼파라미터인 임베딩 벡터의 차원은 256, 드롭 아웃 비율은 0.3, 커널의 크기는 3이며 해당 커널은 총 256개 사용합니다. 합성곱 층과 맥스풀링 연산 후 전결합층(Fully Connected Layer)을 은닉층을 추가로 사용했는데, 은닉층의 뉴런 수는 128입니다. 해당 모델은 마지막 시점에서 두 개의 선택지 중 하나를 예측하는 이진 분류 문제를 수행하는 모델입니다. 이진 분류 문제의 경우, 출력층에 로지스틱 회귀를 사용해야 하므로 활성화 함수로는 시그모이드 함수를 사용하고, 손실 함수로 크로스 엔트로피 함수를 사용합니다. 20 에포크를 수행합니다.\n",
    "\n",
    "`EarlyStopping(monitor='val_loss', mode='min', verbose=1, patience=3)`는 검증 데이터 손실(val_loss)이 증가하면, 과적합 징후므로 검증 데이터 손실이 3회 증가하면 정해진 에포크가 도달하지 못하였더라도 학습을 조기 종료(Early Stopping)한다는 의미입니다. ModelCheckpoint를 사용하여 검증 데이터의 정확도(val_acc)가 이전보다 좋아질 경우에만 모델을 저장합니다. validation_data로는 X_test와 y_test를 사용합니다. val_loss가 줄어들다가 증가하는 상황이 오면 과적합으로 판단하기 위함입니다."
   ]
  },
  {
   "cell_type": "code",
   "execution_count": 9,
   "metadata": {
    "executionInfo": {
     "elapsed": 15,
     "status": "ok",
     "timestamp": 1747110179329,
     "user": {
      "displayName": "전정호",
      "userId": "01748710418857244015"
     },
     "user_tz": -540
    },
    "id": "K9PmfRG-oqAg"
   },
   "outputs": [],
   "source": [
    "from tensorflow.keras.models import Sequential\n",
    "from tensorflow.keras.layers import Embedding, Dropout, Conv1D, GlobalMaxPooling1D, Dense\n",
    "from tensorflow.keras.callbacks import EarlyStopping, ModelCheckpoint\n",
    "from tensorflow.keras.models import load_model"
   ]
  },
  {
   "cell_type": "code",
   "execution_count": 10,
   "metadata": {
    "id": "6mQ6yfYenUIJ"
   },
   "outputs": [],
   "source": [
    "# embedding_dim = 256 # 임베딩 벡터의 차원\n",
    "# dropout_ratio = 0.3 # 드롭아웃 비율\n",
    "# num_filters = 256 # 커널의 수\n",
    "# kernel_size = 3 # 커널의 크기\n",
    "# hidden_units = 128 # 뉴런의 수"
   ]
  },
  {
   "cell_type": "code",
   "execution_count": 11,
   "metadata": {
    "executionInfo": {
     "elapsed": 887,
     "status": "ok",
     "timestamp": 1747110241011,
     "user": {
      "displayName": "전정호",
      "userId": "01748710418857244015"
     },
     "user_tz": -540
    },
    "id": "UqtF4npfo5X2"
   },
   "outputs": [],
   "source": [
    "model = Sequential()\n",
    "model.add(Embedding(vocab_size, 256))\n",
    "model.add(Dropout(0.3))\n",
    "model.add(Conv1D(256, 3, padding='valid', activation='relu'))\n",
    "model.add(GlobalMaxPooling1D())\n",
    "model.add(Dense(128, activation='relu'))\n",
    "model.add(Dropout(0.5))\n",
    "model.add(Dense(1, activation='sigmoid'))"
   ]
  },
  {
   "cell_type": "code",
   "execution_count": 12,
   "metadata": {
    "colab": {
     "base_uri": "https://localhost:8080/",
     "height": 382
    },
    "executionInfo": {
     "elapsed": 63,
     "status": "ok",
     "timestamp": 1747110242823,
     "user": {
      "displayName": "전정호",
      "userId": "01748710418857244015"
     },
     "user_tz": -540
    },
    "id": "l_NAcLE6pZoN",
    "outputId": "981ed439-2a30-4bd3-9036-0a6845d31d45"
   },
   "outputs": [
    {
     "data": {
      "text/html": [
       "<pre style=\"white-space:pre;overflow-x:auto;line-height:normal;font-family:Menlo,'DejaVu Sans Mono',consolas,'Courier New',monospace\"><span style=\"font-weight: bold\">Model: \"sequential\"</span>\n",
       "</pre>\n"
      ],
      "text/plain": [
       "\u001b[1mModel: \"sequential\"\u001b[0m\n"
      ]
     },
     "metadata": {},
     "output_type": "display_data"
    },
    {
     "data": {
      "text/html": [
       "<pre style=\"white-space:pre;overflow-x:auto;line-height:normal;font-family:Menlo,'DejaVu Sans Mono',consolas,'Courier New',monospace\">┏━━━━━━━━━━━━━━━━━━━━━━━━━━━━━━━━━━━━━━┳━━━━━━━━━━━━━━━━━━━━━━━━━━━━━┳━━━━━━━━━━━━━━━━━┓\n",
       "┃<span style=\"font-weight: bold\"> Layer (type)                         </span>┃<span style=\"font-weight: bold\"> Output Shape                </span>┃<span style=\"font-weight: bold\">         Param # </span>┃\n",
       "┡━━━━━━━━━━━━━━━━━━━━━━━━━━━━━━━━━━━━━━╇━━━━━━━━━━━━━━━━━━━━━━━━━━━━━╇━━━━━━━━━━━━━━━━━┩\n",
       "│ embedding (<span style=\"color: #0087ff; text-decoration-color: #0087ff\">Embedding</span>)                │ ?                           │     <span style=\"color: #00af00; text-decoration-color: #00af00\">0</span> (unbuilt) │\n",
       "├──────────────────────────────────────┼─────────────────────────────┼─────────────────┤\n",
       "│ dropout (<span style=\"color: #0087ff; text-decoration-color: #0087ff\">Dropout</span>)                    │ ?                           │               <span style=\"color: #00af00; text-decoration-color: #00af00\">0</span> │\n",
       "├──────────────────────────────────────┼─────────────────────────────┼─────────────────┤\n",
       "│ conv1d (<span style=\"color: #0087ff; text-decoration-color: #0087ff\">Conv1D</span>)                      │ ?                           │     <span style=\"color: #00af00; text-decoration-color: #00af00\">0</span> (unbuilt) │\n",
       "├──────────────────────────────────────┼─────────────────────────────┼─────────────────┤\n",
       "│ global_max_pooling1d                 │ ?                           │               <span style=\"color: #00af00; text-decoration-color: #00af00\">0</span> │\n",
       "│ (<span style=\"color: #0087ff; text-decoration-color: #0087ff\">GlobalMaxPooling1D</span>)                 │                             │                 │\n",
       "├──────────────────────────────────────┼─────────────────────────────┼─────────────────┤\n",
       "│ dense (<span style=\"color: #0087ff; text-decoration-color: #0087ff\">Dense</span>)                        │ ?                           │     <span style=\"color: #00af00; text-decoration-color: #00af00\">0</span> (unbuilt) │\n",
       "├──────────────────────────────────────┼─────────────────────────────┼─────────────────┤\n",
       "│ dropout_1 (<span style=\"color: #0087ff; text-decoration-color: #0087ff\">Dropout</span>)                  │ ?                           │               <span style=\"color: #00af00; text-decoration-color: #00af00\">0</span> │\n",
       "├──────────────────────────────────────┼─────────────────────────────┼─────────────────┤\n",
       "│ dense_1 (<span style=\"color: #0087ff; text-decoration-color: #0087ff\">Dense</span>)                      │ ?                           │     <span style=\"color: #00af00; text-decoration-color: #00af00\">0</span> (unbuilt) │\n",
       "└──────────────────────────────────────┴─────────────────────────────┴─────────────────┘\n",
       "</pre>\n"
      ],
      "text/plain": [
       "┏━━━━━━━━━━━━━━━━━━━━━━━━━━━━━━━━━━━━━━┳━━━━━━━━━━━━━━━━━━━━━━━━━━━━━┳━━━━━━━━━━━━━━━━━┓\n",
       "┃\u001b[1m \u001b[0m\u001b[1mLayer (type)                        \u001b[0m\u001b[1m \u001b[0m┃\u001b[1m \u001b[0m\u001b[1mOutput Shape               \u001b[0m\u001b[1m \u001b[0m┃\u001b[1m \u001b[0m\u001b[1m        Param #\u001b[0m\u001b[1m \u001b[0m┃\n",
       "┡━━━━━━━━━━━━━━━━━━━━━━━━━━━━━━━━━━━━━━╇━━━━━━━━━━━━━━━━━━━━━━━━━━━━━╇━━━━━━━━━━━━━━━━━┩\n",
       "│ embedding (\u001b[38;5;33mEmbedding\u001b[0m)                │ ?                           │     \u001b[38;5;34m0\u001b[0m (unbuilt) │\n",
       "├──────────────────────────────────────┼─────────────────────────────┼─────────────────┤\n",
       "│ dropout (\u001b[38;5;33mDropout\u001b[0m)                    │ ?                           │               \u001b[38;5;34m0\u001b[0m │\n",
       "├──────────────────────────────────────┼─────────────────────────────┼─────────────────┤\n",
       "│ conv1d (\u001b[38;5;33mConv1D\u001b[0m)                      │ ?                           │     \u001b[38;5;34m0\u001b[0m (unbuilt) │\n",
       "├──────────────────────────────────────┼─────────────────────────────┼─────────────────┤\n",
       "│ global_max_pooling1d                 │ ?                           │               \u001b[38;5;34m0\u001b[0m │\n",
       "│ (\u001b[38;5;33mGlobalMaxPooling1D\u001b[0m)                 │                             │                 │\n",
       "├──────────────────────────────────────┼─────────────────────────────┼─────────────────┤\n",
       "│ dense (\u001b[38;5;33mDense\u001b[0m)                        │ ?                           │     \u001b[38;5;34m0\u001b[0m (unbuilt) │\n",
       "├──────────────────────────────────────┼─────────────────────────────┼─────────────────┤\n",
       "│ dropout_1 (\u001b[38;5;33mDropout\u001b[0m)                  │ ?                           │               \u001b[38;5;34m0\u001b[0m │\n",
       "├──────────────────────────────────────┼─────────────────────────────┼─────────────────┤\n",
       "│ dense_1 (\u001b[38;5;33mDense\u001b[0m)                      │ ?                           │     \u001b[38;5;34m0\u001b[0m (unbuilt) │\n",
       "└──────────────────────────────────────┴─────────────────────────────┴─────────────────┘\n"
      ]
     },
     "metadata": {},
     "output_type": "display_data"
    },
    {
     "data": {
      "text/html": [
       "<pre style=\"white-space:pre;overflow-x:auto;line-height:normal;font-family:Menlo,'DejaVu Sans Mono',consolas,'Courier New',monospace\"><span style=\"font-weight: bold\"> Total params: </span><span style=\"color: #00af00; text-decoration-color: #00af00\">0</span> (0.00 B)\n",
       "</pre>\n"
      ],
      "text/plain": [
       "\u001b[1m Total params: \u001b[0m\u001b[38;5;34m0\u001b[0m (0.00 B)\n"
      ]
     },
     "metadata": {},
     "output_type": "display_data"
    },
    {
     "data": {
      "text/html": [
       "<pre style=\"white-space:pre;overflow-x:auto;line-height:normal;font-family:Menlo,'DejaVu Sans Mono',consolas,'Courier New',monospace\"><span style=\"font-weight: bold\"> Trainable params: </span><span style=\"color: #00af00; text-decoration-color: #00af00\">0</span> (0.00 B)\n",
       "</pre>\n"
      ],
      "text/plain": [
       "\u001b[1m Trainable params: \u001b[0m\u001b[38;5;34m0\u001b[0m (0.00 B)\n"
      ]
     },
     "metadata": {},
     "output_type": "display_data"
    },
    {
     "data": {
      "text/html": [
       "<pre style=\"white-space:pre;overflow-x:auto;line-height:normal;font-family:Menlo,'DejaVu Sans Mono',consolas,'Courier New',monospace\"><span style=\"font-weight: bold\"> Non-trainable params: </span><span style=\"color: #00af00; text-decoration-color: #00af00\">0</span> (0.00 B)\n",
       "</pre>\n"
      ],
      "text/plain": [
       "\u001b[1m Non-trainable params: \u001b[0m\u001b[38;5;34m0\u001b[0m (0.00 B)\n"
      ]
     },
     "metadata": {},
     "output_type": "display_data"
    }
   ],
   "source": [
    "model.summary()"
   ]
  },
  {
   "cell_type": "code",
   "execution_count": 13,
   "metadata": {
    "executionInfo": {
     "elapsed": 10,
     "status": "ok",
     "timestamp": 1747110248067,
     "user": {
      "displayName": "전정호",
      "userId": "01748710418857244015"
     },
     "user_tz": -540
    },
    "id": "fcQ-Rmic1Xzt"
   },
   "outputs": [],
   "source": [
    "es = EarlyStopping(monitor = 'val_loss', mode = 'min', verbose = 1, patience = 5)\n",
    "mc = ModelCheckpoint('best_model.keras', monitor = 'val_acc', mode = 'max', verbose = 1, save_best_only = True)"
   ]
  },
  {
   "cell_type": "code",
   "execution_count": 14,
   "metadata": {
    "colab": {
     "base_uri": "https://localhost:8080/"
    },
    "executionInfo": {
     "elapsed": 29253,
     "status": "ok",
     "timestamp": 1747110367130,
     "user": {
      "displayName": "전정호",
      "userId": "01748710418857244015"
     },
     "user_tz": -540
    },
    "id": "Nl--UYIKpbl1",
    "outputId": "674cb4c0-730e-4b9b-e8ef-99bae9f851a0"
   },
   "outputs": [
    {
     "name": "stdout",
     "output_type": "stream",
     "text": [
      "Epoch 1/30\n",
      "\u001b[1m782/782\u001b[0m \u001b[32m━━━━━━━━━━━━━━━━━━━━\u001b[0m\u001b[37m\u001b[0m \u001b[1m0s\u001b[0m 39ms/step - acc: 0.6842 - loss: 0.5476 \n",
      "Epoch 1: val_acc improved from -inf to 0.87296, saving model to best_model.keras\n",
      "\u001b[1m782/782\u001b[0m \u001b[32m━━━━━━━━━━━━━━━━━━━━\u001b[0m\u001b[37m\u001b[0m \u001b[1m38s\u001b[0m 47ms/step - acc: 0.6843 - loss: 0.5475 - val_acc: 0.8730 - val_loss: 0.2975\n",
      "Epoch 2/30\n",
      "\u001b[1m781/782\u001b[0m \u001b[32m━━━━━━━━━━━━━━━━━━━\u001b[0m\u001b[37m━\u001b[0m \u001b[1m0s\u001b[0m 39ms/step - acc: 0.9065 - loss: 0.2338 \n",
      "Epoch 2: val_acc improved from 0.87296 to 0.88396, saving model to best_model.keras\n",
      "\u001b[1m782/782\u001b[0m \u001b[32m━━━━━━━━━━━━━━━━━━━━\u001b[0m\u001b[37m\u001b[0m \u001b[1m36s\u001b[0m 47ms/step - acc: 0.9065 - loss: 0.2338 - val_acc: 0.8840 - val_loss: 0.2728\n",
      "Epoch 3/30\n",
      "\u001b[1m782/782\u001b[0m \u001b[32m━━━━━━━━━━━━━━━━━━━━\u001b[0m\u001b[37m\u001b[0m \u001b[1m0s\u001b[0m 40ms/step - acc: 0.9582 - loss: 0.1217 \n",
      "Epoch 3: val_acc improved from 0.88396 to 0.88464, saving model to best_model.keras\n",
      "\u001b[1m782/782\u001b[0m \u001b[32m━━━━━━━━━━━━━━━━━━━━\u001b[0m\u001b[37m\u001b[0m \u001b[1m37s\u001b[0m 47ms/step - acc: 0.9582 - loss: 0.1217 - val_acc: 0.8846 - val_loss: 0.3114\n",
      "Epoch 4/30\n",
      "\u001b[1m781/782\u001b[0m \u001b[32m━━━━━━━━━━━━━━━━━━━\u001b[0m\u001b[37m━\u001b[0m \u001b[1m0s\u001b[0m 39ms/step - acc: 0.9834 - loss: 0.0524 \n",
      "Epoch 4: val_acc did not improve from 0.88464\n",
      "\u001b[1m782/782\u001b[0m \u001b[32m━━━━━━━━━━━━━━━━━━━━\u001b[0m\u001b[37m\u001b[0m \u001b[1m36s\u001b[0m 46ms/step - acc: 0.9834 - loss: 0.0524 - val_acc: 0.8845 - val_loss: 0.3814\n",
      "Epoch 5/30\n",
      "\u001b[1m781/782\u001b[0m \u001b[32m━━━━━━━━━━━━━━━━━━━\u001b[0m\u001b[37m━\u001b[0m \u001b[1m0s\u001b[0m 39ms/step - acc: 0.9913 - loss: 0.0291 \n",
      "Epoch 5: val_acc did not improve from 0.88464\n",
      "\u001b[1m782/782\u001b[0m \u001b[32m━━━━━━━━━━━━━━━━━━━━\u001b[0m\u001b[37m\u001b[0m \u001b[1m36s\u001b[0m 46ms/step - acc: 0.9913 - loss: 0.0291 - val_acc: 0.8842 - val_loss: 0.3894\n",
      "Epoch 6/30\n",
      "\u001b[1m782/782\u001b[0m \u001b[32m━━━━━━━━━━━━━━━━━━━━\u001b[0m\u001b[37m\u001b[0m \u001b[1m0s\u001b[0m 40ms/step - acc: 0.9947 - loss: 0.0173 \n",
      "Epoch 6: val_acc did not improve from 0.88464\n",
      "\u001b[1m782/782\u001b[0m \u001b[32m━━━━━━━━━━━━━━━━━━━━\u001b[0m\u001b[37m\u001b[0m \u001b[1m37s\u001b[0m 47ms/step - acc: 0.9947 - loss: 0.0173 - val_acc: 0.8782 - val_loss: 0.5998\n",
      "Epoch 7/30\n",
      "\u001b[1m781/782\u001b[0m \u001b[32m━━━━━━━━━━━━━━━━━━━\u001b[0m\u001b[37m━\u001b[0m \u001b[1m0s\u001b[0m 41ms/step - acc: 0.9941 - loss: 0.0187 \n",
      "Epoch 7: val_acc did not improve from 0.88464\n",
      "\u001b[1m782/782\u001b[0m \u001b[32m━━━━━━━━━━━━━━━━━━━━\u001b[0m\u001b[37m\u001b[0m \u001b[1m38s\u001b[0m 48ms/step - acc: 0.9941 - loss: 0.0187 - val_acc: 0.8775 - val_loss: 0.6058\n",
      "Epoch 7: early stopping\n"
     ]
    }
   ],
   "source": [
    "%%time\n",
    "## pc : EarlyStopping epoch 7\n",
    "## 4분 소요\n",
    "# Epoch 7: val_acc did not improve from 0.88464\n",
    "# 782/782 ━━━━━━━━━━━━━━━━━━━━ 38s 48ms/step - acc: 0.9941 - loss: 0.0187 - val_acc: 0.8775 - val_loss: 0.6058\n",
    "model.compile(optimizer='adam', loss = 'binary_crossentropy', metrics = ['acc'])\n",
    "history = model.fit(X_train, y_train, epochs = 30, validation_data = (X_test, y_test), callbacks=[es, mc])"
   ]
  },
  {
   "cell_type": "code",
   "execution_count": 16,
   "metadata": {
    "colab": {
     "base_uri": "https://localhost:8080/"
    },
    "executionInfo": {
     "elapsed": 3947,
     "status": "ok",
     "timestamp": 1747110385571,
     "user": {
      "displayName": "전정호",
      "userId": "01748710418857244015"
     },
     "user_tz": -540
    },
    "id": "I_PQJ4u30-O0",
    "outputId": "28da2095-a735-403b-ad73-be0c8e7e0afb"
   },
   "outputs": [
    {
     "name": "stdout",
     "output_type": "stream",
     "text": [
      "\u001b[1m782/782\u001b[0m \u001b[32m━━━━━━━━━━━━━━━━━━━━\u001b[0m\u001b[37m\u001b[0m \u001b[1m6s\u001b[0m 7ms/step - acc: 0.8827 - loss: 0.3181\n",
      "\n",
      " 테스트 정확도: 0.8846\n"
     ]
    }
   ],
   "source": [
    "loaded_model = load_model('best_model.keras')\n",
    "print(\"\\n 테스트 정확도: %.4f\" % (loaded_model.evaluate(X_test, y_test)[1]))"
   ]
  },
  {
   "cell_type": "code",
   "execution_count": 17,
   "metadata": {
    "colab": {
     "base_uri": "https://localhost:8080/",
     "height": 472
    },
    "executionInfo": {
     "elapsed": 241,
     "status": "ok",
     "timestamp": 1747110385822,
     "user": {
      "displayName": "전정호",
      "userId": "01748710418857244015"
     },
     "user_tz": -540
    },
    "id": "Pvh0jGH32K4D",
    "outputId": "a07eeb5c-0dde-4a57-a305-25b3f188f2ed"
   },
   "outputs": [
    {
     "data": {
      "image/png": "[encoded data removed]",
      "text/plain": [
       "<Figure size 640x480 with 1 Axes>"
      ]
     },
     "metadata": {},
     "output_type": "display_data"
    }
   ],
   "source": [
    "import matplotlib.pyplot as plt\n",
    "epochs = range(1, len(history.history['acc']) + 1)\n",
    "plt.plot(epochs, history.history['loss'])\n",
    "plt.plot(epochs, history.history['val_loss'])\n",
    "plt.title('model loss')\n",
    "plt.ylabel('loss')\n",
    "plt.xlabel('epoch')\n",
    "plt.legend(['train', 'test'], loc='upper left')\n",
    "plt.show()"
   ]
  },
  {
   "cell_type": "code",
   "execution_count": 20,
   "metadata": {
    "colab": {
     "base_uri": "https://localhost:8080/",
     "height": 449
    },
    "executionInfo": {
     "elapsed": 280,
     "status": "ok",
     "timestamp": 1747110386873,
     "user": {
      "displayName": "전정호",
      "userId": "01748710418857244015"
     },
     "user_tz": -540
    },
    "id": "IvA7ycYon1hi",
    "outputId": "5677cf2c-46fd-49dc-fe97-089bf6385c1a"
   },
   "outputs": [
    {
     "data": {
      "text/plain": [
       "<Axes: >"
      ]
     },
     "execution_count": 20,
     "metadata": {},
     "output_type": "execute_result"
    },
    {
     "data": {
      "image/png": "[encoded data removed]",
      "text/plain": [
       "<Figure size 640x480 with 1 Axes>"
      ]
     },
     "metadata": {},
     "output_type": "display_data"
    }
   ],
   "source": [
    "import pandas as pd\n",
    "df_history = pd.DataFrame(history.history)\n",
    "df_history.plot()"
   ]
  },
  {
   "cell_type": "code",
   "execution_count": 21,
   "metadata": {
    "colab": {
     "base_uri": "https://localhost:8080/"
    },
    "executionInfo": {
     "elapsed": 25,
     "status": "ok",
     "timestamp": 1747110422826,
     "user": {
      "displayName": "전정호",
      "userId": "01748710418857244015"
     },
     "user_tz": -540
    },
    "id": "YZuuOMJTrxlI",
    "outputId": "7daa5859-2fe3-4a45-8259-21c283939a68"
   },
   "outputs": [
    {
     "data": {
      "text/plain": [
       "array([[   0,    0,    0,    0,    0,    0,    0,    0,    0,    0,    0,\n",
       "           0,    0,    0,    0,    0,    0,    0,    0,    0,    0,    0,\n",
       "           0,    0,    0,    0,    0,    0,    0,    0,    0,    0,    0,\n",
       "           0,    0,    0,    0,    0,    0,    0,    0,    0,    0,    0,\n",
       "           0,    0,    0,    0,    0,    0,    0,    0,    0,    0,    0,\n",
       "           0,    0,    0,    0,    0,    0,    0,    0,    0,    0,    0,\n",
       "           0,    0,    0,    0,    0,    0,    0,    0,    0,    0,    0,\n",
       "           0,    0,    0,    0,    0,    0,    0,    0,    0,    0,    0,\n",
       "           0,    0,    0,    0,    0,    0,    0,    0,    0,    0,    0,\n",
       "           0,    0,    0,    0,    0,    0,    0,    0,    0,    0,    0,\n",
       "           0,    0,    0,    0,    0,    0,    0,    0,    0,    0,    0,\n",
       "           0,    0,    0,    0,    0,    0,    0,    0,    0,    0,    0,\n",
       "           1,  591,  202,   14,   31,    6,  717,   10,   10,    2,    2,\n",
       "           5,    4,  360,    7,    4,  177, 5760,  394,  354,    4,  123,\n",
       "           9, 1035, 1035, 1035,   10,   10,   13,   92,  124,   89,  488,\n",
       "        7944,  100,   28, 1668,   14,   31,   23,   27, 7479,   29,  220,\n",
       "         468,    8,  124,   14,  286,  170,    8,  157,   46,    5,   27,\n",
       "         239,   16,  179,    2,   38,   32,   25, 7944,  451,  202,   14,\n",
       "           6,  717],\n",
       "       [1987,    2,   45,   55,  221,   15,  670, 5304,  526,   14, 1069,\n",
       "           4,  405,    5, 2438,    7,   27,   85,  108,  131,    4, 5045,\n",
       "        5304, 3884,  405,    9, 3523,  133,    5,   50,   13,  104,   51,\n",
       "          66,  166,   14,   22,  157,    9,    4,  530,  239,   34, 8463,\n",
       "        2801,   45,  407,   31,    7,   41, 3778,  105,   21,   59,  299,\n",
       "          12,   38,  950,    5, 4521,   15,   45,  629,  488, 2733,  127,\n",
       "           6,   52,  292,   17,    4, 6936,  185,  132, 1988, 5304, 1799,\n",
       "         488, 2693,   47,    6,  392,  173,    4,    2, 4378,  270, 2352,\n",
       "           4, 1500,    7,    4,   65,   55,   73,   11,  346,   14,   20,\n",
       "           9,    6,  976, 2078,    7, 5293,  861,    2,    5, 4182,   30,\n",
       "        3127,    2,   56,    4,  841,    5,  990,  692,    8,    4, 1669,\n",
       "         398,  229,   10,   10,   13, 2822,  670, 5304,   14,    9,   31,\n",
       "           7,   27,  111,  108,   15, 2033,   19, 7836, 1429,  875,  551,\n",
       "          14,   22,    9, 1193,   21,   45, 4829,    5,   45,  252,    8,\n",
       "           2,    6,  565,  921, 3639,   39,    4,  529,   48,   25,  181,\n",
       "           8,   67,   35, 1732,   22,   49,  238,   60,  135, 1162,   14,\n",
       "           9,  290,    4,   58,   10,   10,  472,   45,   55,  878,    8,\n",
       "         169,   11,  374, 5687,   25,  203,   28,    8,  818,   12,  125,\n",
       "           4, 3077],\n",
       "       [4468,  189,    4,    2, 6287, 5774,    4, 4770,    5,   95,  271,\n",
       "          23,    6, 7742, 6063,    2, 5437,   33, 1526,    6,  425, 3155,\n",
       "           2, 4535, 1636,    7,    4, 4669,    2,  469,    4, 4552,   54,\n",
       "           4,  150, 5664,    2,  280,   53,    2,    2,   18,  339,   29,\n",
       "        1978,   27, 7885,    5,    2,   68, 1830,   19, 6571,    2,    4,\n",
       "        1515,    7,  263,   65, 2132,   34,    6, 5680, 7489,   43,  159,\n",
       "          29,    9, 4706,    9,  387,   73,  195,  584,   10,   10, 1069,\n",
       "           4,   58,  810,   54,   14, 6078,  117,   22,   16,   93,    5,\n",
       "        1069,    4,  192,   15,   12,   16,   93,   34,    6, 1766,    2,\n",
       "          33,    4, 5673,    7,   15,    2, 9252, 3286,  325,   12,   62,\n",
       "          30,  776,    8,   67,   14,   17,    6,    2,   44,  148,  687,\n",
       "           2,  203,   42,  203,   24,   28,   69,    2, 6676,   11,  330,\n",
       "          54,   29,   93,    2,   21,  845,    2,   27, 1099,    7,  819,\n",
       "           4,   22, 1407,   17,    6,    2,  787,    7, 2460,    2,    2,\n",
       "         100,   30,    4, 3737, 3617, 3169, 2321,   42, 1898,   11,    4,\n",
       "        3814,   42,  101,  704,    7,  101,  999,   15, 1625,   94, 2926,\n",
       "         180,    5,    9, 9101,   34,    2,   45,    6, 1429,   22,   60,\n",
       "           6, 1220,   31,   11,   94, 6408,   96,   21,   94,  749,    9,\n",
       "          57,  975]])"
      ]
     },
     "execution_count": 21,
     "metadata": {},
     "output_type": "execute_result"
    }
   ],
   "source": [
    "X_test[:3]"
   ]
  },
  {
   "cell_type": "code",
   "execution_count": 22,
   "metadata": {
    "colab": {
     "base_uri": "https://localhost:8080/"
    },
    "executionInfo": {
     "elapsed": 80,
     "status": "ok",
     "timestamp": 1747110512808,
     "user": {
      "displayName": "전정호",
      "userId": "01748710418857244015"
     },
     "user_tz": -540
    },
    "id": "gSUrOaPD5fN0",
    "outputId": "90b7e171-f6f6-4884-c67a-6d90d78ff750"
   },
   "outputs": [
    {
     "name": "stdout",
     "output_type": "stream",
     "text": [
      "\u001b[1m1/1\u001b[0m \u001b[32m━━━━━━━━━━━━━━━━━━━━\u001b[0m\u001b[37m\u001b[0m \u001b[1m0s\u001b[0m 86ms/step\n"
     ]
    },
    {
     "data": {
      "text/plain": [
       "array([[0.  ],\n",
       "       [1.  ],\n",
       "       [1.  ],\n",
       "       [0.92],\n",
       "       [1.  ]], dtype=float32)"
      ]
     },
     "execution_count": 22,
     "metadata": {},
     "output_type": "execute_result"
    }
   ],
   "source": [
    "model.predict(X_test[:5]).round(2)"
   ]
  },
  {
   "cell_type": "code",
   "execution_count": 23,
   "metadata": {
    "colab": {
     "base_uri": "https://localhost:8080/"
    },
    "executionInfo": {
     "elapsed": 11,
     "status": "ok",
     "timestamp": 1747110492441,
     "user": {
      "displayName": "전정호",
      "userId": "01748710418857244015"
     },
     "user_tz": -540
    },
    "id": "gC0On_np5kMT",
    "outputId": "fb5cdfb3-29aa-4f53-9f62-40cd07ab03c4"
   },
   "outputs": [
    {
     "data": {
      "text/plain": [
       "array([0, 1, 1, 0, 1], dtype=int64)"
      ]
     },
     "execution_count": 23,
     "metadata": {},
     "output_type": "execute_result"
    }
   ],
   "source": [
    "y_test[:5]"
   ]
  },
  {
   "cell_type": "code",
   "execution_count": null,
   "metadata": {
    "id": "yGF-e6dO5juV"
   },
   "outputs": [],
   "source": []
  },
  {
   "cell_type": "code",
   "execution_count": null,
   "metadata": {},
   "outputs": [],
   "source": []
  }
 ],
 "metadata": {
  "accelerator": "GPU",
  "colab": {
   "gpuType": "T4",
   "provenance": []
  },
  "kernelspec": {
   "display_name": "Python 3 (ipykernel)",
   "language": "python",
   "name": "python3"
  },
  "language_info": {
   "codemirror_mode": {
    "name": "ipython",
    "version": 3
   },
   "file_extension": ".py",
   "mimetype": "text/x-python",
   "name": "python",
   "nbconvert_exporter": "python",
   "pygments_lexer": "ipython3",
   "version": "3.10.18"
  }
 },
 "nbformat": 4,
 "nbformat_minor": 4
}
