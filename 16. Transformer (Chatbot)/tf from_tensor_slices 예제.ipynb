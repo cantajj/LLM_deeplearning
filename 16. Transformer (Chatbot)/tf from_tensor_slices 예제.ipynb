{
 "cells": [
  {
   "cell_type": "code",
   "execution_count": 26,
   "metadata": {},
   "outputs": [
    {
     "data": {
      "text/plain": [
       "<_BatchDataset element_spec=({'inputs': TensorSpec(shape=(None, 6), dtype=tf.int32, name=None), 'dec_inputs': TensorSpec(shape=(None, 5), dtype=tf.int32, name=None)}, {'outputs': TensorSpec(shape=(None, 5), dtype=tf.int32, name=None)})>"
      ]
     },
     "execution_count": 26,
     "metadata": {},
     "output_type": "execute_result"
    }
   ],
   "source": [
    "import tensorflow as tf\n",
    "\n",
    "# 예제 데이터 (questions는 인코더 입력, answers는 디코더 입력/출력)\n",
    "questions = tf.constant([\n",
    "    [1, 2, 3, 4, 0, 0],  # 패딩 토큰 0 사용\n",
    "    [5, 6, 7, 0, 0, 0],\n",
    "    [8, 9, 0, 0, 0, 0]\n",
    "])\n",
    "\n",
    "answers = tf.constant([\n",
    "    [11, 12, 13, 14, 0, 0],  # 실제 출력 시퀀스\n",
    "    [15, 16, 17, 0, 0, 0],\n",
    "    [18, 19, 0, 0, 0, 0]\n",
    "])\n",
    "\n",
    "# Dataset 생성\n",
    "dataset = tf.data.Dataset.from_tensor_slices((\n",
    "    {\n",
    "        'inputs': questions,\n",
    "        'dec_inputs': answers[:, :-1]  # 디코더의 입력. 마지막 패딩 토큰이 제거됨\n",
    "    },\n",
    "    {\n",
    "        'outputs': answers[:, 1:]  # 디코더의 실제 출력. 첫 번째 시작 토큰이 제거됨\n",
    "    }\n",
    "))\n",
    "\n",
    "# 배치 크기를 2로 설정하여 데이터셋을 배치로 나눔\n",
    "dataset = dataset.batch(2)\n",
    "dataset"
   ]
  },
  {
   "cell_type": "code",
   "execution_count": 27,
   "metadata": {},
   "outputs": [],
   "source": [
    "batch = dataset.take(1)\n",
    "# batch"
   ]
  },
  {
   "cell_type": "code",
   "execution_count": 28,
   "metadata": {},
   "outputs": [
    {
     "ename": "ValueError",
     "evalue": "not enough values to unpack (expected 2, got 1)",
     "output_type": "error",
     "traceback": [
      "\u001b[1;31m---------------------------------------------------------------------------\u001b[0m",
      "\u001b[1;31mValueError\u001b[0m                                Traceback (most recent call last)",
      "Cell \u001b[1;32mIn[28], line 1\u001b[0m\n\u001b[1;32m----> 1\u001b[0m inputs, targets \u001b[38;5;241m=\u001b[39m batch\n\u001b[0;32m      2\u001b[0m inputs, targets\n",
      "\u001b[1;31mValueError\u001b[0m: not enough values to unpack (expected 2, got 1)"
     ]
    }
   ],
   "source": [
    "inputs, targets = batch\n",
    "inputs, targets"
   ]
  },
  {
   "cell_type": "code",
   "execution_count": 20,
   "metadata": {},
   "outputs": [
    {
     "data": {
      "text/plain": [
       "<_TakeDataset element_spec=({'inputs': TensorSpec(shape=(None, 6), dtype=tf.int32, name=None), 'dec_inputs': TensorSpec(shape=(None, 5), dtype=tf.int32, name=None)}, {'outputs': TensorSpec(shape=(None, 5), dtype=tf.int32, name=None)})>"
      ]
     },
     "execution_count": 20,
     "metadata": {},
     "output_type": "execute_result"
    }
   ],
   "source": [
    "batch = dataset.take(1)\n",
    "batch"
   ]
  },
  {
   "cell_type": "code",
   "execution_count": 30,
   "metadata": {},
   "outputs": [
    {
     "name": "stdout",
     "output_type": "stream",
     "text": [
      "======================================\n",
      "Encoder Inputs:\n",
      "[[1 2 3 4 0 0]\n",
      " [5 6 7 0 0 0]]\n",
      "\n",
      "Decoder Inputs (for Teacher Forcing):\n",
      "[[11 12 13 14  0]\n",
      " [15 16 17  0  0]]\n",
      "\n",
      "Decoder Outputs (Actual Outputs):\n",
      "[[12 13 14  0  0]\n",
      " [16 17  0  0  0]]\n",
      "======================================\n",
      "Encoder Inputs:\n",
      "[[8 9 0 0 0 0]]\n",
      "\n",
      "Decoder Inputs (for Teacher Forcing):\n",
      "[[18 19  0  0  0]]\n",
      "\n",
      "Decoder Outputs (Actual Outputs):\n",
      "[[19  0  0  0  0]]\n"
     ]
    }
   ],
   "source": [
    "\n",
    "# `take(1)`을 사용하여 배치 하나를 가져와서 확인\n",
    "for batch in dataset.take(3):\n",
    "    print(\"======================================\")\n",
    "    inputs, targets = batch\n",
    "    print(\"Encoder Inputs:\")\n",
    "    print(inputs['inputs'].numpy())\n",
    "    print(\"\\nDecoder Inputs (for Teacher Forcing):\")\n",
    "    print(inputs['dec_inputs'].numpy())\n",
    "    print(\"\\nDecoder Outputs (Actual Outputs):\")\n",
    "    print(targets['outputs'].numpy())\n"
   ]
  },
  {
   "cell_type": "code",
   "execution_count": 31,
   "metadata": {},
   "outputs": [
    {
     "data": {
      "text/plain": [
       "2"
      ]
     },
     "execution_count": 31,
     "metadata": {},
     "output_type": "execute_result"
    }
   ],
   "source": [
    "len(dataset.take(3))"
   ]
  }
 ],
 "metadata": {
  "kernelspec": {
   "display_name": "py310",
   "language": "python",
   "name": "python3"
  },
  "language_info": {
   "codemirror_mode": {
    "name": "ipython",
    "version": 3
   },
   "file_extension": ".py",
   "mimetype": "text/x-python",
   "name": "python",
   "nbconvert_exporter": "python",
   "pygments_lexer": "ipython3",
   "version": "3.10.14"
  }
 },
 "nbformat": 4,
 "nbformat_minor": 2
}
