{
 "cells": [
  {
   "cell_type": "markdown",
   "metadata": {
    "id": "t3pVJtdaRZPe"
   },
   "source": [
    "챗봇의 성능이 아쉽다면 모델의 크기를 조정해보세요."
   ]
  },
  {
   "cell_type": "markdown",
   "metadata": {
    "id": "In6C4s6xRqod"
   },
   "source": [
    "출처 링크 :  \n",
    "16-02 https://wikidocs.net/31379  \n",
    "16-03 https://wikidocs.net/89786"
   ]
  },
  {
   "cell_type": "markdown",
   "metadata": {
    "id": "RGZ6PJ3P0Jxw"
   },
   "source": [
    "# **16. 트랜스포머(Transformer)**\n",
    "\n",
    "이번 트랜스포머 챕터에서는 seq2seq의 단점을 개선하면서도 여전히 인코더-디코더 구조를 유지하고 있는 트랜스포머 모델을 통해 챗봇을 구현해보도록 하겠습니다."
   ]
  },
  {
   "cell_type": "markdown",
   "metadata": {
    "id": "Dk6No9fxSSgf"
   },
   "source": [
    "## **16-01 트랜스포머(Transformer)**"
   ]
  },
  {
   "cell_type": "markdown",
   "metadata": {
    "id": "Rw96Irj9SSgf"
   },
   "source": [
    "* 이번 챕터는 앞서 설명한 어텐션 메커니즘 챕터에 대한 사전 이해가 필요합니다.  \n",
    "  \n",
    "트랜스포머(Transformer)는 2017년 구글이 발표한 논문인 \"Attention is all you need\"에서 나온 모델로 기존의 seq2seq의 구조인 인코더-디코더를 따르면서도, 논문의 이름처럼 어텐션(Attention)만으로 구현한 모델입니다. 이 모델은 RNN을 사용하지 않고, 인코더-디코더 구조를 설계하였음에도 번역 성능에서도 RNN보다 우수한 성능을 보여주었습니다.\n",
    "\n",
    "**당장 구현에 관심이 없다면 코드 부분만 스킵해서 이론만 읽으셔도 됩니다.**\n",
    "\n",
    "트랜스포머 전체 코드는 아래의 링크에 공유합니다.  \n",
    "깃허브 링크 : https://github.com/ukairia777/tensorflow-transformer"
   ]
  },
  {
   "cell_type": "code",
   "execution_count": 1,
   "metadata": {
    "colab": {
     "base_uri": "https://localhost:8080/",
     "height": 1000
    },
    "executionInfo": {
     "elapsed": 87858,
     "status": "ok",
     "timestamp": 1749779226698,
     "user": {
      "displayName": "전정호",
      "userId": "01748710418857244015"
     },
     "user_tz": -540
    },
    "id": "4JdxTFpJ0Jxy",
    "outputId": "ec6bb9b9-c6d0-49f7-bf38-ad727baf29c2"
   },
   "outputs": [
    {
     "name": "stdout",
     "output_type": "stream",
     "text": [
      "Collecting tensorflow==2.12.0\n",
      "  Downloading tensorflow-2.12.0-cp311-cp311-manylinux_2_17_x86_64.manylinux2014_x86_64.whl.metadata (3.4 kB)\n",
      "Requirement already satisfied: absl-py>=1.0.0 in /usr/local/lib/python3.11/dist-packages (from tensorflow==2.12.0) (1.4.0)\n",
      "Requirement already satisfied: astunparse>=1.6.0 in /usr/local/lib/python3.11/dist-packages (from tensorflow==2.12.0) (1.6.3)\n",
      "Requirement already satisfied: flatbuffers>=2.0 in /usr/local/lib/python3.11/dist-packages (from tensorflow==2.12.0) (25.2.10)\n",
      "Collecting gast<=0.4.0,>=0.2.1 (from tensorflow==2.12.0)\n",
      "  Downloading gast-0.4.0-py3-none-any.whl.metadata (1.1 kB)\n",
      "Requirement already satisfied: google-pasta>=0.1.1 in /usr/local/lib/python3.11/dist-packages (from tensorflow==2.12.0) (0.2.0)\n",
      "Requirement already satisfied: grpcio<2.0,>=1.24.3 in /usr/local/lib/python3.11/dist-packages (from tensorflow==2.12.0) (1.72.1)\n",
      "Requirement already satisfied: h5py>=2.9.0 in /usr/local/lib/python3.11/dist-packages (from tensorflow==2.12.0) (3.13.0)\n",
      "Requirement already satisfied: jax>=0.3.15 in /usr/local/lib/python3.11/dist-packages (from tensorflow==2.12.0) (0.5.2)\n",
      "Collecting keras<2.13,>=2.12.0 (from tensorflow==2.12.0)\n",
      "  Downloading keras-2.12.0-py2.py3-none-any.whl.metadata (1.4 kB)\n",
      "Requirement already satisfied: libclang>=13.0.0 in /usr/local/lib/python3.11/dist-packages (from tensorflow==2.12.0) (18.1.1)\n",
      "Collecting numpy<1.24,>=1.22 (from tensorflow==2.12.0)\n",
      "  Downloading numpy-1.23.5-cp311-cp311-manylinux_2_17_x86_64.manylinux2014_x86_64.whl.metadata (2.3 kB)\n",
      "Requirement already satisfied: opt-einsum>=2.3.2 in /usr/local/lib/python3.11/dist-packages (from tensorflow==2.12.0) (3.4.0)\n",
      "Requirement already satisfied: packaging in /usr/local/lib/python3.11/dist-packages (from tensorflow==2.12.0) (24.2)\n",
      "Collecting protobuf!=4.21.0,!=4.21.1,!=4.21.2,!=4.21.3,!=4.21.4,!=4.21.5,<5.0.0dev,>=3.20.3 (from tensorflow==2.12.0)\n",
      "  Downloading protobuf-4.25.8-cp37-abi3-manylinux2014_x86_64.whl.metadata (541 bytes)\n",
      "Requirement already satisfied: setuptools in /usr/local/lib/python3.11/dist-packages (from tensorflow==2.12.0) (75.2.0)\n",
      "Requirement already satisfied: six>=1.12.0 in /usr/local/lib/python3.11/dist-packages (from tensorflow==2.12.0) (1.17.0)\n",
      "Collecting tensorboard<2.13,>=2.12 (from tensorflow==2.12.0)\n",
      "  Downloading tensorboard-2.12.3-py3-none-any.whl.metadata (1.8 kB)\n",
      "Collecting tensorflow-estimator<2.13,>=2.12.0 (from tensorflow==2.12.0)\n",
      "  Downloading tensorflow_estimator-2.12.0-py2.py3-none-any.whl.metadata (1.3 kB)\n",
      "Requirement already satisfied: termcolor>=1.1.0 in /usr/local/lib/python3.11/dist-packages (from tensorflow==2.12.0) (3.1.0)\n",
      "Requirement already satisfied: typing-extensions>=3.6.6 in /usr/local/lib/python3.11/dist-packages (from tensorflow==2.12.0) (4.14.0)\n",
      "Collecting wrapt<1.15,>=1.11.0 (from tensorflow==2.12.0)\n",
      "  Downloading wrapt-1.14.1-cp311-cp311-manylinux_2_5_x86_64.manylinux1_x86_64.manylinux_2_17_x86_64.manylinux2014_x86_64.whl.metadata (6.7 kB)\n",
      "Requirement already satisfied: tensorflow-io-gcs-filesystem>=0.23.1 in /usr/local/lib/python3.11/dist-packages (from tensorflow==2.12.0) (0.37.1)\n",
      "Requirement already satisfied: wheel<1.0,>=0.23.0 in /usr/local/lib/python3.11/dist-packages (from astunparse>=1.6.0->tensorflow==2.12.0) (0.45.1)\n",
      "Requirement already satisfied: jaxlib<=0.5.2,>=0.5.1 in /usr/local/lib/python3.11/dist-packages (from jax>=0.3.15->tensorflow==2.12.0) (0.5.1)\n",
      "Requirement already satisfied: ml_dtypes>=0.4.0 in /usr/local/lib/python3.11/dist-packages (from jax>=0.3.15->tensorflow==2.12.0) (0.4.1)\n",
      "INFO: pip is looking at multiple versions of jax to determine which version is compatible with other requirements. This could take a while.\n",
      "Collecting jax>=0.3.15 (from tensorflow==2.12.0)\n",
      "  Downloading jax-0.6.1-py3-none-any.whl.metadata (13 kB)\n",
      "Collecting jaxlib<=0.6.1,>=0.6.1 (from jax>=0.3.15->tensorflow==2.12.0)\n",
      "  Downloading jaxlib-0.6.1-cp311-cp311-manylinux2014_x86_64.whl.metadata (1.2 kB)\n",
      "Collecting ml_dtypes>=0.5.0 (from jax>=0.3.15->tensorflow==2.12.0)\n",
      "  Downloading ml_dtypes-0.5.1-cp311-cp311-manylinux_2_17_x86_64.manylinux2014_x86_64.whl.metadata (21 kB)\n",
      "Collecting jax>=0.3.15 (from tensorflow==2.12.0)\n",
      "  Downloading jax-0.6.0-py3-none-any.whl.metadata (22 kB)\n",
      "Collecting jaxlib<=0.6.0,>=0.6.0 (from jax>=0.3.15->tensorflow==2.12.0)\n",
      "  Downloading jaxlib-0.6.0-cp311-cp311-manylinux2014_x86_64.whl.metadata (1.2 kB)\n",
      "Collecting jax>=0.3.15 (from tensorflow==2.12.0)\n",
      "  Downloading jax-0.5.3-py3-none-any.whl.metadata (22 kB)\n",
      "Collecting jaxlib<=0.5.3,>=0.5.3 (from jax>=0.3.15->tensorflow==2.12.0)\n",
      "  Downloading jaxlib-0.5.3-cp311-cp311-manylinux2014_x86_64.whl.metadata (1.2 kB)\n",
      "Collecting jax>=0.3.15 (from tensorflow==2.12.0)\n",
      "  Downloading jax-0.5.1-py3-none-any.whl.metadata (22 kB)\n",
      "  Downloading jax-0.5.0-py3-none-any.whl.metadata (22 kB)\n",
      "Collecting jaxlib<=0.5.0,>=0.5.0 (from jax>=0.3.15->tensorflow==2.12.0)\n",
      "  Downloading jaxlib-0.5.0-cp311-cp311-manylinux2014_x86_64.whl.metadata (978 bytes)\n",
      "Collecting jax>=0.3.15 (from tensorflow==2.12.0)\n",
      "  Downloading jax-0.4.38-py3-none-any.whl.metadata (22 kB)\n",
      "Collecting jaxlib<=0.4.38,>=0.4.38 (from jax>=0.3.15->tensorflow==2.12.0)\n",
      "  Downloading jaxlib-0.4.38-cp311-cp311-manylinux2014_x86_64.whl.metadata (1.0 kB)\n",
      "Collecting jax>=0.3.15 (from tensorflow==2.12.0)\n",
      "  Downloading jax-0.4.37-py3-none-any.whl.metadata (22 kB)\n",
      "Collecting jaxlib<=0.4.37,>=0.4.36 (from jax>=0.3.15->tensorflow==2.12.0)\n",
      "  Downloading jaxlib-0.4.36-cp311-cp311-manylinux2014_x86_64.whl.metadata (1.0 kB)\n",
      "INFO: pip is still looking at multiple versions of jax to determine which version is compatible with other requirements. This could take a while.\n",
      "Collecting jax>=0.3.15 (from tensorflow==2.12.0)\n",
      "  Downloading jax-0.4.36-py3-none-any.whl.metadata (22 kB)\n",
      "  Downloading jax-0.4.35-py3-none-any.whl.metadata (22 kB)\n",
      "Collecting jaxlib<=0.4.35,>=0.4.34 (from jax>=0.3.15->tensorflow==2.12.0)\n",
      "  Downloading jaxlib-0.4.35-cp311-cp311-manylinux2014_x86_64.whl.metadata (983 bytes)\n",
      "Collecting jax>=0.3.15 (from tensorflow==2.12.0)\n",
      "  Downloading jax-0.4.34-py3-none-any.whl.metadata (22 kB)\n",
      "Collecting jaxlib<=0.4.34,>=0.4.34 (from jax>=0.3.15->tensorflow==2.12.0)\n",
      "  Downloading jaxlib-0.4.34-cp311-cp311-manylinux2014_x86_64.whl.metadata (983 bytes)\n",
      "Collecting jax>=0.3.15 (from tensorflow==2.12.0)\n",
      "  Downloading jax-0.4.33-py3-none-any.whl.metadata (22 kB)\n",
      "Collecting jaxlib<=0.4.33,>=0.4.33 (from jax>=0.3.15->tensorflow==2.12.0)\n",
      "  Downloading jaxlib-0.4.33-cp311-cp311-manylinux2014_x86_64.whl.metadata (983 bytes)\n",
      "Collecting jax>=0.3.15 (from tensorflow==2.12.0)\n",
      "  Downloading jax-0.4.31-py3-none-any.whl.metadata (22 kB)\n",
      "Collecting jaxlib<=0.4.31,>=0.4.30 (from jax>=0.3.15->tensorflow==2.12.0)\n",
      "  Downloading jaxlib-0.4.31-cp311-cp311-manylinux2014_x86_64.whl.metadata (983 bytes)\n",
      "INFO: This is taking longer than usual. You might need to provide the dependency resolver with stricter constraints to reduce runtime. See https://pip.pypa.io/warnings/backtracking for guidance. If you want to abort this run, press Ctrl + C.\n",
      "Collecting jax>=0.3.15 (from tensorflow==2.12.0)\n",
      "  Downloading jax-0.4.30-py3-none-any.whl.metadata (22 kB)\n",
      "Collecting jaxlib<=0.4.30,>=0.4.27 (from jax>=0.3.15->tensorflow==2.12.0)\n",
      "  Downloading jaxlib-0.4.30-cp311-cp311-manylinux2014_x86_64.whl.metadata (1.0 kB)\n",
      "Requirement already satisfied: scipy>=1.9 in /usr/local/lib/python3.11/dist-packages (from jax>=0.3.15->tensorflow==2.12.0) (1.15.3)\n",
      "Requirement already satisfied: google-auth<3,>=1.6.3 in /usr/local/lib/python3.11/dist-packages (from tensorboard<2.13,>=2.12->tensorflow==2.12.0) (2.38.0)\n",
      "Collecting google-auth-oauthlib<1.1,>=0.5 (from tensorboard<2.13,>=2.12->tensorflow==2.12.0)\n",
      "  Downloading google_auth_oauthlib-1.0.0-py2.py3-none-any.whl.metadata (2.7 kB)\n",
      "Requirement already satisfied: markdown>=2.6.8 in /usr/local/lib/python3.11/dist-packages (from tensorboard<2.13,>=2.12->tensorflow==2.12.0) (3.8)\n",
      "Requirement already satisfied: requests<3,>=2.21.0 in /usr/local/lib/python3.11/dist-packages (from tensorboard<2.13,>=2.12->tensorflow==2.12.0) (2.32.3)\n",
      "Requirement already satisfied: tensorboard-data-server<0.8.0,>=0.7.0 in /usr/local/lib/python3.11/dist-packages (from tensorboard<2.13,>=2.12->tensorflow==2.12.0) (0.7.2)\n",
      "Requirement already satisfied: werkzeug>=1.0.1 in /usr/local/lib/python3.11/dist-packages (from tensorboard<2.13,>=2.12->tensorflow==2.12.0) (3.1.3)\n",
      "Requirement already satisfied: cachetools<6.0,>=2.0.0 in /usr/local/lib/python3.11/dist-packages (from google-auth<3,>=1.6.3->tensorboard<2.13,>=2.12->tensorflow==2.12.0) (5.5.2)\n",
      "Requirement already satisfied: pyasn1-modules>=0.2.1 in /usr/local/lib/python3.11/dist-packages (from google-auth<3,>=1.6.3->tensorboard<2.13,>=2.12->tensorflow==2.12.0) (0.4.2)\n",
      "Requirement already satisfied: rsa<5,>=3.1.4 in /usr/local/lib/python3.11/dist-packages (from google-auth<3,>=1.6.3->tensorboard<2.13,>=2.12->tensorflow==2.12.0) (4.9.1)\n",
      "Requirement already satisfied: requests-oauthlib>=0.7.0 in /usr/local/lib/python3.11/dist-packages (from google-auth-oauthlib<1.1,>=0.5->tensorboard<2.13,>=2.12->tensorflow==2.12.0) (2.0.0)\n",
      "Requirement already satisfied: charset-normalizer<4,>=2 in /usr/local/lib/python3.11/dist-packages (from requests<3,>=2.21.0->tensorboard<2.13,>=2.12->tensorflow==2.12.0) (3.4.2)\n",
      "Requirement already satisfied: idna<4,>=2.5 in /usr/local/lib/python3.11/dist-packages (from requests<3,>=2.21.0->tensorboard<2.13,>=2.12->tensorflow==2.12.0) (3.10)\n",
      "Requirement already satisfied: urllib3<3,>=1.21.1 in /usr/local/lib/python3.11/dist-packages (from requests<3,>=2.21.0->tensorboard<2.13,>=2.12->tensorflow==2.12.0) (2.4.0)\n",
      "Requirement already satisfied: certifi>=2017.4.17 in /usr/local/lib/python3.11/dist-packages (from requests<3,>=2.21.0->tensorboard<2.13,>=2.12->tensorflow==2.12.0) (2025.4.26)\n",
      "Requirement already satisfied: MarkupSafe>=2.1.1 in /usr/local/lib/python3.11/dist-packages (from werkzeug>=1.0.1->tensorboard<2.13,>=2.12->tensorflow==2.12.0) (3.0.2)\n",
      "Requirement already satisfied: pyasn1<0.7.0,>=0.6.1 in /usr/local/lib/python3.11/dist-packages (from pyasn1-modules>=0.2.1->google-auth<3,>=1.6.3->tensorboard<2.13,>=2.12->tensorflow==2.12.0) (0.6.1)\n",
      "Requirement already satisfied: oauthlib>=3.0.0 in /usr/local/lib/python3.11/dist-packages (from requests-oauthlib>=0.7.0->google-auth-oauthlib<1.1,>=0.5->tensorboard<2.13,>=2.12->tensorflow==2.12.0) (3.2.2)\n",
      "Downloading tensorflow-2.12.0-cp311-cp311-manylinux_2_17_x86_64.manylinux2014_x86_64.whl (586.0 MB)\n",
      "\u001b[2K   \u001b[90m━━━━━━━━━━━━━━━━━━━━━━━━━━━━━━━━━━━━━━━━\u001b[0m \u001b[32m586.0/586.0 MB\u001b[0m \u001b[31m3.3 MB/s\u001b[0m eta \u001b[36m0:00:00\u001b[0m\n",
      "\u001b[?25hDownloading gast-0.4.0-py3-none-any.whl (9.8 kB)\n",
      "Downloading jax-0.4.30-py3-none-any.whl (2.0 MB)\n",
      "\u001b[2K   \u001b[90m━━━━━━━━━━━━━━━━━━━━━━━━━━━━━━━━━━━━━━━━\u001b[0m \u001b[32m2.0/2.0 MB\u001b[0m \u001b[31m84.4 MB/s\u001b[0m eta \u001b[36m0:00:00\u001b[0m\n",
      "\u001b[?25hDownloading keras-2.12.0-py2.py3-none-any.whl (1.7 MB)\n",
      "\u001b[2K   \u001b[90m━━━━━━━━━━━━━━━━━━━━━━━━━━━━━━━━━━━━━━━━\u001b[0m \u001b[32m1.7/1.7 MB\u001b[0m \u001b[31m89.9 MB/s\u001b[0m eta \u001b[36m0:00:00\u001b[0m\n",
      "\u001b[?25hDownloading numpy-1.23.5-cp311-cp311-manylinux_2_17_x86_64.manylinux2014_x86_64.whl (17.1 MB)\n",
      "\u001b[2K   \u001b[90m━━━━━━━━━━━━━━━━━━━━━━━━━━━━━━━━━━━━━━━━\u001b[0m \u001b[32m17.1/17.1 MB\u001b[0m \u001b[31m116.9 MB/s\u001b[0m eta \u001b[36m0:00:00\u001b[0m\n",
      "\u001b[?25hDownloading protobuf-4.25.8-cp37-abi3-manylinux2014_x86_64.whl (294 kB)\n",
      "\u001b[2K   \u001b[90m━━━━━━━━━━━━━━━━━━━━━━━━━━━━━━━━━━━━━━━━\u001b[0m \u001b[32m294.9/294.9 kB\u001b[0m \u001b[31m26.1 MB/s\u001b[0m eta \u001b[36m0:00:00\u001b[0m\n",
      "\u001b[?25hDownloading tensorboard-2.12.3-py3-none-any.whl (5.6 MB)\n",
      "\u001b[2K   \u001b[90m━━━━━━━━━━━━━━━━━━━━━━━━━━━━━━━━━━━━━━━━\u001b[0m \u001b[32m5.6/5.6 MB\u001b[0m \u001b[31m126.6 MB/s\u001b[0m eta \u001b[36m0:00:00\u001b[0m\n",
      "\u001b[?25hDownloading tensorflow_estimator-2.12.0-py2.py3-none-any.whl (440 kB)\n",
      "\u001b[2K   \u001b[90m━━━━━━━━━━━━━━━━━━━━━━━━━━━━━━━━━━━━━━━━\u001b[0m \u001b[32m440.7/440.7 kB\u001b[0m \u001b[31m42.5 MB/s\u001b[0m eta \u001b[36m0:00:00\u001b[0m\n",
      "\u001b[?25hDownloading wrapt-1.14.1-cp311-cp311-manylinux_2_5_x86_64.manylinux1_x86_64.manylinux_2_17_x86_64.manylinux2014_x86_64.whl (78 kB)\n",
      "\u001b[2K   \u001b[90m━━━━━━━━━━━━━━━━━━━━━━━━━━━━━━━━━━━━━━━━\u001b[0m \u001b[32m78.4/78.4 kB\u001b[0m \u001b[31m9.1 MB/s\u001b[0m eta \u001b[36m0:00:00\u001b[0m\n",
      "\u001b[?25hDownloading google_auth_oauthlib-1.0.0-py2.py3-none-any.whl (18 kB)\n",
      "Downloading jaxlib-0.4.30-cp311-cp311-manylinux2014_x86_64.whl (79.6 MB)\n",
      "\u001b[2K   \u001b[90m━━━━━━━━━━━━━━━━━━━━━━━━━━━━━━━━━━━━━━━━\u001b[0m \u001b[32m79.6/79.6 MB\u001b[0m \u001b[31m9.5 MB/s\u001b[0m eta \u001b[36m0:00:00\u001b[0m\n",
      "\u001b[?25hInstalling collected packages: wrapt, tensorflow-estimator, protobuf, numpy, keras, gast, jaxlib, google-auth-oauthlib, tensorboard, jax, tensorflow\n",
      "  Attempting uninstall: wrapt\n",
      "    Found existing installation: wrapt 1.17.2\n",
      "    Uninstalling wrapt-1.17.2:\n",
      "      Successfully uninstalled wrapt-1.17.2\n",
      "  Attempting uninstall: protobuf\n",
      "    Found existing installation: protobuf 5.29.5\n",
      "    Uninstalling protobuf-5.29.5:\n",
      "      Successfully uninstalled protobuf-5.29.5\n",
      "  Attempting uninstall: numpy\n",
      "    Found existing installation: numpy 2.0.2\n",
      "    Uninstalling numpy-2.0.2:\n",
      "      Successfully uninstalled numpy-2.0.2\n",
      "  Attempting uninstall: keras\n",
      "    Found existing installation: keras 3.8.0\n",
      "    Uninstalling keras-3.8.0:\n",
      "      Successfully uninstalled keras-3.8.0\n",
      "  Attempting uninstall: gast\n",
      "    Found existing installation: gast 0.6.0\n",
      "    Uninstalling gast-0.6.0:\n",
      "      Successfully uninstalled gast-0.6.0\n",
      "  Attempting uninstall: jaxlib\n",
      "    Found existing installation: jaxlib 0.5.1\n",
      "    Uninstalling jaxlib-0.5.1:\n",
      "      Successfully uninstalled jaxlib-0.5.1\n",
      "  Attempting uninstall: google-auth-oauthlib\n",
      "    Found existing installation: google-auth-oauthlib 1.2.2\n",
      "    Uninstalling google-auth-oauthlib-1.2.2:\n",
      "      Successfully uninstalled google-auth-oauthlib-1.2.2\n",
      "  Attempting uninstall: tensorboard\n",
      "    Found existing installation: tensorboard 2.18.0\n",
      "    Uninstalling tensorboard-2.18.0:\n",
      "      Successfully uninstalled tensorboard-2.18.0\n",
      "  Attempting uninstall: jax\n",
      "    Found existing installation: jax 0.5.2\n",
      "    Uninstalling jax-0.5.2:\n",
      "      Successfully uninstalled jax-0.5.2\n",
      "  Attempting uninstall: tensorflow\n",
      "    Found existing installation: tensorflow 2.18.0\n",
      "    Uninstalling tensorflow-2.18.0:\n",
      "      Successfully uninstalled tensorflow-2.18.0\n",
      "\u001b[31mERROR: pip's dependency resolver does not currently take into account all the packages that are installed. This behaviour is the source of the following dependency conflicts.\n",
      "ydf 0.12.0 requires protobuf<6.0.0,>=5.29.1, but you have protobuf 4.25.8 which is incompatible.\n",
      "tf-keras 2.18.0 requires tensorflow<2.19,>=2.18, but you have tensorflow 2.12.0 which is incompatible.\n",
      "thinc 8.3.6 requires numpy<3.0.0,>=2.0.0, but you have numpy 1.23.5 which is incompatible.\n",
      "xarray 2025.3.1 requires numpy>=1.24, but you have numpy 1.23.5 which is incompatible.\n",
      "albucore 0.0.24 requires numpy>=1.24.4, but you have numpy 1.23.5 which is incompatible.\n",
      "scikit-image 0.25.2 requires numpy>=1.24, but you have numpy 1.23.5 which is incompatible.\n",
      "tensorflow-text 2.18.1 requires tensorflow<2.19,>=2.18.0, but you have tensorflow 2.12.0 which is incompatible.\n",
      "flax 0.10.6 requires jax>=0.5.1, but you have jax 0.4.30 which is incompatible.\n",
      "chex 0.1.89 requires numpy>=1.24.1, but you have numpy 1.23.5 which is incompatible.\n",
      "tensorflow-decision-forests 1.11.0 requires tensorflow==2.18.0, but you have tensorflow 2.12.0 which is incompatible.\n",
      "db-dtypes 1.4.3 requires numpy>=1.24.0, but you have numpy 1.23.5 which is incompatible.\n",
      "imbalanced-learn 0.13.0 requires numpy<3,>=1.24.3, but you have numpy 1.23.5 which is incompatible.\n",
      "albumentations 2.0.8 requires numpy>=1.24.4, but you have numpy 1.23.5 which is incompatible.\n",
      "orbax-checkpoint 0.11.13 requires jax>=0.5.0, but you have jax 0.4.30 which is incompatible.\n",
      "pymc 5.23.0 requires numpy>=1.25.0, but you have numpy 1.23.5 which is incompatible.\n",
      "bigframes 2.5.0 requires numpy>=1.24.0, but you have numpy 1.23.5 which is incompatible.\n",
      "grpcio-status 1.71.0 requires protobuf<6.0dev,>=5.26.1, but you have protobuf 4.25.8 which is incompatible.\n",
      "blosc2 3.3.4 requires numpy>=1.26, but you have numpy 1.23.5 which is incompatible.\n",
      "xarray-einstats 0.9.0 requires numpy>=1.25, but you have numpy 1.23.5 which is incompatible.\n",
      "treescope 0.1.9 requires numpy>=1.25.2, but you have numpy 1.23.5 which is incompatible.\u001b[0m\u001b[31m\n",
      "\u001b[0mSuccessfully installed gast-0.4.0 google-auth-oauthlib-1.0.0 jax-0.4.30 jaxlib-0.4.30 keras-2.12.0 numpy-1.23.5 protobuf-4.25.8 tensorboard-2.12.3 tensorflow-2.12.0 tensorflow-estimator-2.12.0 wrapt-1.14.1\n"
     ]
    },
    {
     "data": {
      "application/vnd.colab-display-data+json": {
       "id": "1e31821916e846fc914c12ea0326654b",
       "pip_warning": {
        "packages": [
         "google",
         "numpy"
        ]
       }
      }
     },
     "metadata": {},
     "output_type": "display_data"
    }
   ],
   "source": [
    "!pip install tensorflow==2.12.0"
   ]
  },
  {
   "cell_type": "code",
   "execution_count": 1,
   "metadata": {
    "executionInfo": {
     "elapsed": 8666,
     "status": "ok",
     "timestamp": 1749779293748,
     "user": {
      "displayName": "전정호",
      "userId": "01748710418857244015"
     },
     "user_tz": -540
    },
    "id": "-lx4tw2aSSgf"
   },
   "outputs": [],
   "source": [
    "import numpy as np\n",
    "import matplotlib.pyplot as plt\n",
    "import tensorflow as tf"
   ]
  },
  {
   "cell_type": "code",
   "execution_count": 2,
   "metadata": {
    "colab": {
     "base_uri": "https://localhost:8080/",
     "height": 36
    },
    "executionInfo": {
     "elapsed": 23,
     "status": "ok",
     "timestamp": 1749779324931,
     "user": {
      "displayName": "전정호",
      "userId": "01748710418857244015"
     },
     "user_tz": -540
    },
    "id": "ApDzbMCu0Jxz",
    "outputId": "2eecdd68-b05b-4b24-fce0-5f0c27693c63"
   },
   "outputs": [
    {
     "data": {
      "application/vnd.google.colaboratory.intrinsic+json": {
       "type": "string"
      },
      "text/plain": [
       "'2.12.0'"
      ]
     },
     "execution_count": 2,
     "metadata": {},
     "output_type": "execute_result"
    }
   ],
   "source": [
    "tf.__version__  ## tf 2.17.0 2024.08"
   ]
  },
  {
   "cell_type": "markdown",
   "metadata": {
    "id": "0wp7UUOYSSgg"
   },
   "source": [
    "### **1. 기존의 seq2seq 모델의 한계**\n",
    "트랜스포머에 대해서 배우기 전에 기존의 seq2seq를 상기해봅시다. 기존의 seq2seq 모델은 인코더-디코더 구조로 구성되어져 있었습니다. 여기서 인코더는 입력 시퀀스를 하나의 벡터 표현으로 압축하고, 디코더는 이 벡터 표현을 통해서 출력 시퀀스를 만들어냈습니다. 하지만 이러한 구조는 인코더가 입력 시퀀스를 하나의 벡터로 압축하는 과정에서 입력 시퀀스의 정보가 일부 손실된다는 단점이 있었고, 이를 보정하기 위해 어텐션이 사용되었습니다. 그런데 어텐션을 RNN의 보정을 위한 용도로서 사용하는 것이 아니라 어텐션만으로 인코더와 디코더를 만들어보면 어떨까요?"
   ]
  },
  {
   "cell_type": "markdown",
   "metadata": {
    "id": "qlBuF3NHSSgg"
   },
   "source": [
    "### **2. 트랜스포머(Transformer)의 주요 하이퍼파라미터**\n",
    "시작에 앞서 트랜스포머의 하이퍼파라미터를 정의합니다. 각 하이퍼파라미터의 의미에 대해서는 뒤에서 설명하기로하고, 여기서는 트랜스포머에는 이러한 하이퍼파라미터가 존재한다는 정도로만 이해해보겠습니다. 아래에서 정의하는 수치는 트랜스포머를 제안한 논문에서 사용한 수치로 하이퍼파라미터는 사용자가 모델 설계시 임의로 변경할 수 있는 값들입니다.  \n",
    "  \n",
    "  \n",
    "  $d_{model} = 512$"
   ]
  },
  {
   "cell_type": "markdown",
   "metadata": {
    "id": "U-mHTubfSSgh"
   },
   "source": [
    "트랜스포머의 인코더와 디코더에서의 정해진 입력과 출력의 크기를 의미합니다. 임베딩 벡터의 차원 또한 이며, 각 인코더와 디코더가 다음 층의 인코더와 디코더로 값을 보낼 때에도 이 차원을 유지합니다. 논문에서는 512입니다.  \n",
    "\n",
    "$${num\\_layers} = 6$$\n",
    "  \n",
    "트랜스포머에서 하나의 인코더와 디코더를 층으로 생각하였을 때, 트랜스포머 모델에서 인코더와 디코더가 총 몇 층으로 구성되었는지를 의미합니다. 논문에서는 인코더와 디코더를 각각 총 6개 쌓았습니다.  \n",
    "  \n",
    "  $${num\\_heads} = 8$$\n",
    "  \n",
    "트랜스포머에서는 어텐션을 사용할 때, 한 번 하는 것 보다 여러 개로 분할해서 병렬로 어텐션을 수행하고 결과값을 다시 하나로 합치는 방식을 택했습니다. 이때 이 병렬의 개수를 의미합니다.\n",
    "  \n",
    "  $$d_{ff} = 2048$$\n",
    "\n",
    "트랜스포머 내부에는 피드 포워드 신경망이 존재하며 해당 신경망의 은닉층의 크기를 의미합니다. 피드 포워드 신경망의 입력층과 출력층의 크기는 $d_{model}$입니다."
   ]
  },
  {
   "cell_type": "markdown",
   "metadata": {
    "id": "hbHb05MATbOm"
   },
   "source": [
    "### **3. 트랜스포머(Transformer)**"
   ]
  },
  {
   "cell_type": "markdown",
   "metadata": {
    "id": "KFvdLb2OTj1u"
   },
   "source": [
    "![image.png](data:image/png;base64,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)"
   ]
  },
  {
   "cell_type": "markdown",
   "metadata": {
    "id": "pjOSfMmdTmMl"
   },
   "source": [
    "트랜스포머는 RNN을 사용하지 않지만 기존의 seq2seq처럼 인코더에서 입력 시퀀스를 입력받고, 디코더에서 출력 시퀀스를 출력하는 **인코더-디코더 구조** 를 유지하고 있습니다. 이전 seq2seq 구조에서는 인코더와 디코더에서 각각 하나의 RNN이 t개의 시점(time step)을 가지는 구조였다면 이번에는 인코더와 디코더라는 단위가 N개로 구성되는 구조입니다. 트랜스포머를 제안한 논문에서는 인코더와 디코더의 개수를 각각 6개 사용하였습니다."
   ]
  },
  {
   "attachments": {
    "image.png": {
     "image/png": "[encoded data removed]"
    }
   },
   "cell_type": "markdown",
   "metadata": {
    "id": "F2irQOaZTq0t"
   },
   "source": [
    "![image.png](attachment:image.png)"
   ]
  },
  {
   "attachments": {
    "image.png": {
     "image/png": "[encoded data removed]"
    }
   },
   "cell_type": "markdown",
   "metadata": {
    "id": "4ApDVTZkTuGP"
   },
   "source": [
    "위의 그림은 인코더와 디코더가 6개씩 존재하는 트랜스포머의 구조를 보여줍니다. 이 책에서는 인코더와 디코더가 각각 여러 개 쌓여있다는 의미를 사용할 때는 알파벳 s를 뒤에 붙여 encoders, decoders라고 표현하겠습니다.  \n",
    "  ![image.png](attachment:image.png)"
   ]
  },
  {
   "cell_type": "markdown",
   "metadata": {
    "id": "pBrvm3PKT6s8"
   },
   "source": [
    "위의 그림은 인코더로부터 정보를 전달받아 디코더가 출력 결과를 만들어내는 트랜스포머 구조를 보여줍니다. 디코더는 마치 기존의 seq2seq 구조처럼 시작 심볼 <sos>를 입력으로 받아 종료 심볼 <eos>가 나올 때까지 연산을 진행합니다. 이는 RNN은 사용되지 않지만 여전히 인코더-디코더의 구조는 유지되고 있음을 보여줍니다.\n",
    "\n",
    "트랜스포머의 내부 구조를 조금씩 확대해가는 방식으로 트랜스포머를 이해해봅시다. 우선 인코더와 디코더의 구조를 이해하기 전에 트랜스포머의 입력에 대해서 이해해보겠습니다. 트랜스포머의 인코더와 디코더는 단순히 각 단어의 임베딩 벡터들을 입력받는 것이 아니라 임베딩 벡터에서 조정된 값을 입력받는데 이에 대해서 알아보기 위해 입력 부분을 확대해보겠습니다."
   ]
  },
  {
   "cell_type": "markdown",
   "metadata": {
    "id": "Mr_Z6Bc8T-BE"
   },
   "source": [
    "---\n",
    "### **4. 포지셔널 인코딩(Positional Encoding)**\n",
    "트랜스포머의 내부를 이해하기 전 우선 트랜스포머의 입력에 대해서 알아보겠습니다. RNN이 자연어 처리에서 유용했던 이유는 단어의 위치에 따라 단어를 순차적으로 입력받아서 처리하는 RNN의 특성으로 인해 각 단어의 위치 정보(position information)를 가질 수 있다는 점에 있었습니다.  \n",
    "  \n",
    "하지만 트랜스포머는 단어 입력을 순차적으로 받는 방식이 아니므로 단어의 위치 정보를 다른 방식으로 알려줄 필요가 있습니다. 트랜스포머는 단어의 위치 정보를 얻기 위해서 각 단어의 임베딩 벡터에 위치 정보들을 더하여 모델의 입력으로 사용하는데, 이를 포지셔널 인코딩(positional encoding)이라고 합니다."
   ]
  },
  {
   "cell_type": "markdown",
   "metadata": {
    "id": "Ue4cdbt9UFaN"
   },
   "source": [
    "![image.png](attachment:image.png)"
   ]
  },
  {
   "cell_type": "markdown",
   "metadata": {
    "id": "iVXpTyvJ0IMx"
   },
   "source": [
    "위의 그림은 입력으로 사용되는 임베딩 벡터들이 트랜스포머의 입력으로 사용되기 전에 포지셔널 인코딩의 값이 더해지는 것을 보여줍니다. 임베딩 벡터가 인코더의 입력으로 사용되기 전 포지셔널 인코딩값이 더해지는 과정을 시각화하면 아래와 같습니다.\n",
    "\n",
    "![image.png](attachment:image.png)"
   ]
  },
  {
   "cell_type": "markdown",
   "metadata": {
    "id": "RrClf7HP0MWD"
   },
   "source": [
    "포지셔널 인코딩 값들은 어떤 값이기에 위치 정보를 반영해줄 수 있는 것일까요? 트랜스포머는 위치 정보를 가진 값을 만들기 위해서 아래의 두 개의 함수를 사용합니다.\n",
    "\n",
    "$$PE_{(pos,\\ 2i)}=sin(pos/10000^{2i/d_{model}})$$\n",
    "\n",
    "$$PE_{(pos,\\ 2i+1)}=cos(pos/10000^{2i/d_{model}})$$\n"
   ]
  },
  {
   "cell_type": "markdown",
   "metadata": {
    "id": "xGwn2iGt0MF_"
   },
   "source": [
    "사인 함수와 코사인 함수의 그래프를 상기해보면 요동치는 값의 형태를 생각해볼 수 있는데, 트랜스포머는 사인 함수와 코사인 함수의 값을 임베딩 벡터에 더해주므로서 단어의 순서 정보를 더하여 줍니다. 그런데 위의 두 함수에는 $pos$, $i$, $d_{model}$  등의 생소한 변수들이 있습니다. 위의 함수를 이해하기 위해서는 위에서 본 임베딩 벡터와 포지셔널 인코딩의 덧셈은 사실 임베딩 벡터가 모여 만들어진 문장 행렬과 포지셔널 인코딩 행렬의 덧셈 연산을 통해 이루어진다는 점을 이해해야 합니다.\n",
    "\n",
    "![image.png](attachment:image.png)"
   ]
  },
  {
   "cell_type": "markdown",
   "metadata": {
    "id": "Dk6nJE9Y2n6E"
   },
   "source": [
    "$pos$는 입력 문장에서의 임베딩 벡터의 위치를 나타내며, $i$는 임베딩 벡터 내의 차원의 인덱스를 의미합니다. 위의 식에 따르면 임베딩 벡터 내의 각 차원의 인덱스가 짝수인 경우에는 사인 함수의 값을 사용하고 홀수인 경우에는 코사인 함수의 값을 사용합니다. 위의 수식에서 $(pos, 2i)$일 때는 사인 함수를 사용하고, $(pos, 2i+1)$일 때는 코사인 함수를 사용하고 있음을 주목합시다.\n",
    "\n",
    "또한 위의 식에서 $d_{model}$은 트랜스포머의 모든 층의 출력 차원을 의미하는 트랜스포머의 하이퍼파라미터입니다. 앞으로 보게 될 트랜스포머의 각종 구조에서 $d_{model}$의 값이 계속해서 등장하는 이유입니다. 임베딩 벡터 또한 $d_{model}$의 차원을 가지는데 위의 그림에서는 마치 4로 표현되었지만 실제 논문에서는 512의 값을 가집니다.\n",
    "\n",
    "위와 같은 포지셔널 인코딩 방법을 사용하면 순서 정보가 보존되는데, 예를 들어 각 임베딩 벡터에 포지셔널 인코딩의 값을 더하면 같은 단어라고 하더라도 문장 내의 위치에 따라서 트랜스포머의 입력으로 들어가는 임베딩 벡터의 값이 달라집니다. 이에 따라 트랜스포머의 입력은 순서 정보가 고려된 임베딩 벡터가 됩니다. 이를 코드로 구현하면 아래와 같습니다."
   ]
  },
  {
   "cell_type": "code",
   "execution_count": null,
   "metadata": {
    "id": "JY6lwO-oWZJd"
   },
   "outputs": [],
   "source": [
    "# 최종 버전\n",
    "class PositionalEncoding(tf.keras.layers.Layer):\n",
    "  def __init__(self, position, d_model):\n",
    "    super(PositionalEncoding, self).__init__()\n",
    "    self.pos_encoding = self.positional_encoding(position, d_model)\n",
    "\n",
    "  def get_angles(self, position, i, d_model):\n",
    "    angles = 1 / tf.pow(10000, (2 * (i // 2)) / tf.cast(d_model, tf.float32))\n",
    "    return position * angles\n",
    "\n",
    "  def positional_encoding(self, position, d_model):\n",
    "    angle_rads = self.get_angles(\n",
    "        position=tf.range(position, dtype=tf.float32)[:, tf.newaxis],\n",
    "        i=tf.range(d_model, dtype=tf.float32)[tf.newaxis, :],\n",
    "        d_model=d_model)\n",
    "\n",
    "    # 배열의 짝수 인덱스(2i)에는 사인 함수 적용\n",
    "    sines = tf.math.sin(angle_rads[:, 0::2])\n",
    "\n",
    "    # 배열의 홀수 인덱스(2i+1)에는 코사인 함수 적용\n",
    "    cosines = tf.math.cos(angle_rads[:, 1::2])\n",
    "\n",
    "    angle_rads = np.zeros(angle_rads.shape)\n",
    "    angle_rads[:, 0::2] = sines\n",
    "    angle_rads[:, 1::2] = cosines\n",
    "    pos_encoding = tf.constant(angle_rads)\n",
    "    pos_encoding = pos_encoding[tf.newaxis, ...]\n",
    "\n",
    "    print(pos_encoding.shape)\n",
    "    return tf.cast(pos_encoding, tf.float32)\n",
    "\n",
    "  def call(self, inputs):\n",
    "    # return inputs + self.pos_encoding[:, :tf.shape(inputs)[1], :]\n",
    "    if isinstance(inputs, tf.SparseTensor):\n",
    "        inputs = tf.sparse.to_dense(inputs)\n",
    "    return inputs + self.pos_encoding[:, :tf.shape(inputs)[1], :]"
   ]
  },
  {
   "cell_type": "markdown",
   "metadata": {
    "id": "grTFc4Yu4ffu"
   },
   "source": [
    "50 × 128의 크기를 가지는 포지셔널 인코딩 행렬을 시각화하여 어떤 형태를 가지는지 확인해봅시다. 이는 입력 문장의 단어가 50개이면서, 각 단어가 128차원의 임베딩 벡터를 가질 때 사용할 수 있는 행렬입니다."
   ]
  },
  {
   "cell_type": "code",
   "execution_count": null,
   "metadata": {
    "colab": {
     "base_uri": "https://localhost:8080/",
     "height": 301
    },
    "executionInfo": {
     "elapsed": 547,
     "status": "ok",
     "timestamp": 1672811527433,
     "user": {
      "displayName": "Jeong-Ho JEON (전정호)",
      "userId": "09770030589626015137"
     },
     "user_tz": -540
    },
    "id": "QiNrtgQUV36E",
    "outputId": "58c9a7f3-b596-4919-80fd-287a47fcf1a9"
   },
   "outputs": [
    {
     "name": "stdout",
     "output_type": "stream",
     "text": [
      "(1, 50, 128)\n"
     ]
    },
    {
     "data": {
      "image/png": "[encoded data removed]",
      "text/plain": [
       "<Figure size 640x480 with 2 Axes>"
      ]
     },
     "metadata": {},
     "output_type": "display_data"
    }
   ],
   "source": [
    "# 문장의 길이 50, 임베딩 벡터의 차원 128\n",
    "sample_pos_encoding = PositionalEncoding(50, 128)\n",
    "\n",
    "plt.pcolormesh(sample_pos_encoding.pos_encoding.numpy()[0], cmap='RdBu')\n",
    "plt.xlabel('Depth')\n",
    "plt.xlim((0, 128))\n",
    "plt.ylabel('Position')\n",
    "plt.colorbar()\n",
    "plt.show()"
   ]
  },
  {
   "cell_type": "markdown",
   "metadata": {
    "id": "xCR1_B9p4v3u"
   },
   "source": [
    "### **5. 어텐션(Attention)**\n",
    "트랜스포머에서 사용되는 세 가지의 어텐션에 대해서 간단히 정리해봅시다. 지금은 큰 그림을 이해하는 것에만 집중합니다.\n",
    "\n",
    "![image.png](attachment:image.png)"
   ]
  },
  {
   "cell_type": "markdown",
   "metadata": {
    "id": "8D-HuUdO4-He"
   },
   "source": [
    "첫번째 그림인 셀프 어텐션은 인코더에서 이루어지지만, 두번째 그림인 셀프 어텐션과 세번째 그림인 인코더-디코더 어텐션은 디코더에서 이루어집니다. 셀프 어텐션은 본질적으로 Query, Key, Value가 동일한 경우를 말합니다. 반면, 세번째 그림 인코더-디코더 어텐션에서는 Query가 디코더의 벡터인 반면에 Key와 Value가 인코더의 벡터이므로 셀프 어텐션이라고 부르지 않습니다.\n",
    "\n",
    "* 주의할 점은 여기서 Query, Key 등이 같다는 것은 벡터의 값이 같다는 것이 아니라 벡터의 출처가 같다는 의미입니다.  \n",
    "  \n",
    "정리하면 다음과 같습니다.\n",
    "  \n",
    "\n",
    "> 인코더의 셀프 어텐션 : `Query = Key = Value`  \n",
    "> 디코더의 마스크드 셀프 어텐션 : `Query = Key = Value`    \n",
    "> 디코더의 인코더-디코더 어텐션 : Query : 디코더 벡터 / `Key = Value` : 인코더 벡터\n"
   ]
  },
  {
   "cell_type": "markdown",
   "metadata": {
    "id": "A5Lt4H2r5LO5"
   },
   "source": [
    "![image.png](data:image/png;base64,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)\n",
    "  \n",
    "  \n",
    "위 그림은 트랜스포머의 아키텍처에서 세 가지 어텐션이 각각 어디에서 이루어지는지를 보여줍니다. 세 개의 어텐션에 추가적으로 '멀티 헤드'라는 이름이 붙어있습니다. 뒤에서 설명하겠지만 트랜스포머가 어텐션을 병렬적으로 수행하는 방법을 의미합니다."
   ]
  },
  {
   "cell_type": "markdown",
   "metadata": {
    "id": "VPMTiS5z5R0A"
   },
   "source": [
    "---\n",
    "### **6. 인코더(Encoder)**\n",
    "인코더의 구조에 대해서 알아보겠습니다."
   ]
  },
  {
   "cell_type": "markdown",
   "metadata": {
    "id": "jwNgbsoy5RAA"
   },
   "source": [
    "![image.png](data:image/png;base64,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)\n",
    "  \n",
    "\n",
    "트랜스포머는 하이퍼파라미터인  개수의 인코더 층을 쌓습니다. 논문에서는 총 6개의 인코더 층을 사용하였습니다. 인코더를 하나의 층이라는 개념으로 생각한다면, 하나의 인코더 층은 크게 총 2개의 서브층(sublayer)으로 나뉘어집니다. 셀프 어텐션과 피드 포워드 신경망입니다. 위의 그림에서는 멀티 헤드 셀프 어텐션과 포지션 와이즈 피드 포워드 신경망이라고 적혀있지만, 멀티 헤드 셀프 어텐션은 셀프 어텐션을 병렬적으로 사용하였다는 의미고, 포지션 와이즈 피드 포워드 신경망은 우리가 알고있는 일반적인 피드 포워드 신경망입니다. 우선 셀프 어텐션에 대해서 알아봅시다.\n"
   ]
  },
  {
   "cell_type": "markdown",
   "metadata": {
    "id": "tSETKgAd5jg6"
   },
   "source": [
    "### **7. 인코더의 셀프 어텐**션\n",
    "---\n",
    "트랜스포머에서는 셀프 어텐션이라는 어텐션 기법이 등장하는데 앞서 배웠던 어텐션 함수에 대해서 복습하고, 셀프 어텐션이 앞서 배웠던 어텐션과 무엇이 다른지 이해해보겠습니다.\n",
    "\n",
    "#### **1) 셀프 어텐션의 의미와 이점**\n",
    "어텐션 함수는 주어진 '쿼리(Query)'에 대해서 모든 '키(Key)'와의 유사도를 각각 구합니다. 그리고 구해낸 이 유사도를 가중치로 하여 키와 맵핑되어있는 각각의 '값(Value)'에 반영해줍니다. 그리고 유사도가 반영된 '값(Value)'을 모두 가중합하여 리턴합니다.\n",
    "  \n",
    "\n",
    "![image.png](attachment:image.png)"
   ]
  },
  {
   "cell_type": "markdown",
   "metadata": {
    "id": "UEKDwqLj51HA"
   },
   "source": [
    "여기까지는 앞서 배운 어텐션의 개념입니다. 그런데 어텐션 중에서는 셀프 어텐션(self-attention)이라는 것이 있습니다. 어텐션을 자기 자신에게 수행한다는 의미입니다. 앞서 배운 seq2seq에서 어텐션을 사용할 경우의 Q, K, V의 정의를 다시 생각해봅시다.\n",
    "\n",
    "```yaml\n",
    "    Q = Query : t 시점의 디코더 셀에서의 은닉 상태\n",
    "    K = Keys : 모든 시점의 인코더 셀의 은닉 상태들\n",
    "    V = Values : 모든 시점의 인코더 셀의 은닉 상태들\n",
    "```\n",
    "  \n",
    "사실 t 시점이라는 것은 계속 변화하면서 반복적으로 쿼리를 수행하므로 결국 전체 시점에 대해서 일반화를 할 수도 있습니다.\n",
    "  \n",
    "```yaml\n",
    "    Q = Querys : 모든 시점의 디코더 셀에서의 은닉 상태들\n",
    "    K = Keys : 모든 시점의 인코더 셀의 은닉 상태들\n",
    "    V = Values : 모든 시점의 인코더 셀의 은닉 상태들\n",
    "```\n",
    "  \n",
    "이처럼 기존에는 디코더 셀의 은닉 상태가 Q이고 인코더 셀의 은닉 상태가 K라는 점에서 Q와 K가 서로 다른 값을 가지고 있었습니다. 그런데 셀프 어텐션에서는 Q, K, V가 전부 동일합니다. 트랜스포머의 셀프 어텐션에서의 Q, K, V는 아래와 같습니다.\n",
    "  \n",
    "```yaml\n",
    "    Q : 입력 문장의 모든 단어 벡터들\n",
    "    K : 입력 문장의 모든 단어 벡터들\n",
    "    V : 입력 문장의 모든 단어 벡터들\n",
    "```\n",
    "  \n",
    "셀프 어텐션에 대한 구체적인 사항을 배우기 전에 셀프 어텐션을 통해 얻을 수 있는 대표적인 효과에 대해서 이해해봅시다."
   ]
  },
  {
   "cell_type": "markdown",
   "metadata": {
    "id": "rVR95Wlb6JL6"
   },
   "source": [
    "![image.png](data:image/png;base64,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)"
   ]
  },
  {
   "cell_type": "markdown",
   "metadata": {
    "id": "bZYvXsO-6LuF"
   },
   "source": [
    "위의 그림은 트랜스포머에 대한 구글 AI 블로그 포스트에서 가져왔습니다. 위의 예시 문장을 번역하면 '그 동물은 길을 건너지 않았다. 왜냐하면 그것은 너무 피곤하였기 때문이다.' 라는 의미가 됩니다. 그런데 여기서 그것(it)에 해당하는 것은 과연 길(street)일까요? 동물(animal)일까요? 우리는 피곤한 주체가 동물이라는 것을 아주 쉽게 알 수 있지만 기계는 그렇지 않습니다. 하지만 셀프 어텐션은 입력 문장 내의 단어들끼리 유사도를 구하므로서 그것(it)이 동물(animal)과 연관되었을 확률이 높다는 것을 찾아냅니다.\n",
    "\n",
    "트랜스포머에서의 셀프 어텐션의 동작 메커니즘을 알아봅시다."
   ]
  },
  {
   "cell_type": "markdown",
   "metadata": {
    "id": "y-6DFyrm6Lhs"
   },
   "source": [
    "#### **2) Q, K, V 벡터 얻기**\n",
    "앞서 셀프 어텐션은 입력 문장의 단어 벡터들을 가지고 수행한다고 하였는데, 사실 셀프 어텐션은 인코더의 초기 입력인 $d_{model}$의 차원을 가지는 단어 벡터들을 사용하여 셀프 어텐션을 수행하는 것이 아니라 우선 각 단어 벡터들로부터 Q벡터, K벡터, V벡터를 얻는 작업을 거칩니다. 이때 이 Q벡터, K벡터, V벡터들은 초기 입력인 $d_{model}$의 차원을 가지는 단어 벡터들보다 더 작은 차원을 가지는데, 논문에서는 $d_{model}$=512의 차원을 가졌던 각 단어 벡터들을 64의 차원을 가지는 Q벡터, K벡터, V벡터로 변환하였습니다.\n",
    "\n",
    "64라는 값은 트랜스포머의 또 다른 하이퍼파라미터인 $\\text{num\\_heads}$로 인해 결정되는데, 트랜스포머는 $d_{model}$을 $\\text{num\\_heads}$로 나눈 값을 각 Q벡터, K벡터, V벡터의 차원으로 결정합니다. 논문에서는 $\\text{num\\_heads}$를 8로하였습니다. 그림을 통해 이해해봅시다. 예를 들어 여기서 사용하고 있는 예문 중 student라는 단어 벡터를 Q, K, V의 벡터로 변환하는 과정을 보겠습니다."
   ]
  },
  {
   "cell_type": "markdown",
   "metadata": {
    "id": "coamkwRG68X2"
   },
   "source": [
    "![image.png](data:image/png;base64,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)"
   ]
  },
  {
   "cell_type": "markdown",
   "metadata": {
    "id": "c_VQWVSx7AnF"
   },
   "source": [
    "기존의 벡터로부터 더 작은 벡터는 가중치 행렬을 곱하므로서 완성됩니다. 각 가중치 행렬은 $d_{model} × (d_{model}\\text{/num\\_heads})$의 크기를 가집니다. 이 가중치 행렬은 훈련 과정에서 학습됩니다. 즉, 논문과 같이 $d_{model}$=512이고 $\\text{num\\_heads}$=8라면, 각 벡터에 3개의 서로 다른 가중치 행렬을 곱하고 64의 크기를 가지는 Q, K, V 벡터를 얻어냅니다. 위의 그림은 단어 벡터 중 student 벡터로부터 Q, K, V 벡터를 얻어내는 모습을 보여줍니다. 모든 단어 벡터에 위와 같은 과정을 거치면 I, am, a, student는 각각의 Q, K, V 벡터를 얻습니다."
   ]
  },
  {
   "cell_type": "markdown",
   "metadata": {
    "id": "wKcphTxy7cDB"
   },
   "source": [
    "#### **3) 스케일드 닷-프로덕트 어텐션(Scaled dot-product Attention)**\n",
    "Q, K, V 벡터를 얻었다면 지금부터는 기존에 배운 어텐션 메커니즘과 동일합니다. 각 Q벡터는 모든 K벡터에 대해서 어텐션 스코어를 구하고, 어텐션 분포를 구한 뒤에 이를 사용하여 모든 V벡터를 가중합하여 어텐션 값 또는 컨텍스트 벡터를 구하게 됩니다. 그리고 이를 모든 Q벡터에 대해서 반복합니다.\n",
    "\n",
    "그런데 앞서 어텐션 챕터에서 어텐션 함수의 종류는 다양하다고 언급한 바 있습니다. 트랜스포머에서는 어텐션 챕터에 사용했던 내적만을 사용하는 어텐션 함수 $score(q, k)=q⋅k$가 아니라 여기에 특정값으로 나눠준 어텐션 함수인 $score(q, k)=q⋅k/\\sqrt{n}$를 사용합니다. 이러한 함수를 사용하는 어텐션을 어텐션 챕터에서 배운 닷-프로덕트 어텐션(dot-product attention)에서 값을 스케일링하는 것을 추가하였다고 하여 **스케일드 닷-프로덕트 어텐션(Scaled dot-product Attention)** 이라고 합니다. 그림을 통해 이해해봅시다."
   ]
  },
  {
   "cell_type": "markdown",
   "metadata": {
    "id": "DwSSNlrv7wJl"
   },
   "source": [
    "![image.png](data:image/png;base64,iVBORw0KGgoAAAANSUhEUgAAAdsAAAFGCAIAAACt4KL+AAAgAElEQVR4nO2de1xT9/3/35EUUKkSYb/iZYpJWrXTwSDtXAsOOjWpuq/wrdPQuu+PVqqG7tHLdLKqVbz02xF1/a5uXGyt/rrVhNbfhFU0QSfMZNZ5ocnUgi2JeMX+SsAbyiWQ3x+f+vF4cuEkhOQkvp8PHz7I53wu73N7nfd5f97nHIHD4QAEQRCEBwwKtgEIgiDId6AiIwiC8AVUZARBEL6AiowgCMIXhAPRqVqtLigokMvlOp3Oq4b5+fklJSVFRUUrVqzgUl8gEACAxWIRi8W+GBpYQstaBEH8xYkTJw4ePKjX691VSE5Ofvfdd4GlyEQQyd8SiaSxsXFArUQGDqPRmJ6eDgA+XBcHwgxM6QlLGhoaGhsb58yZ43MPRqMxLS2N/jx9+jTpUCgcEGfRN1hG+sCbb75pt9t/+tOfZmRkuKwQGxv73V+Ou0gkElYluVzu8ImioiLfmqtUKgAoKiriWJ/YabFYvB0oKATSWrIlg759NBoN6zB7kCkqKqJnWeBHN5lMACCTyfzSW3d3d25urlKpbG5u9qE5PTBYKtHd3b1p06bk5OT6+nq/2Nkf3BnpjEwmKy0tdbf05s2bycnJHAf9Lo6s1WotFgsAGAwGsoD8DCcEAoFAILBarcE2xHfUarVAIMjPz++zJrnXkcvlALB7927movz8fIFAoFarfei2T6RSqUAgMBqN5KdSqSSHU/97DnVIKG/mzJlVVVXO3k8AqK+vB4AnnnjCL7298cYbAKDRaBISEnxorlQqycGZmprKLBcKhcuXL9+0aVN2dvbVq1f9YqrPuDOShdlsPnHixLx589xV0Ol006dP5zgoe2aPOudisTiId7t+J6SFmNLU1MSlmlarBQC5XJ6bmwsA27ZtYy513hQcu+VC+F3I/cXvfvc7AHj++ednzZo10PFAm80mEAhGjBjBLCRXx+Li4v73bzQatVrt1q1b+9/V008/7Vw4ffr0jIyMdevW9b9/v+DSSEpZWZlKpYqLi3NXQa/XE2XnBHFhDAYDq8SdAw+MqALrUq/RaEi5c9SCeRPNugVgdtJn1IJpJ+2T3pWz5EClUjHtYeLyRp5YotFomNY6LyV/kB7cjdintWQP0TUlm1cikbhr6+xmssZiQjonu4NUJrc+znLpvGVcbjRqGLWKaQ8ZiHmE0EGZ9ZlrympLoK3o4ethHcn29FCBVwQ4erNy5UoAWLBgwQD1P2/evLy8vH52QjZIS0uLy6UGgyEmJubmzZv9HKWfeDbS4XC0tLSIRCIaWnDJxIkTu7u7uY5I/2KdnEzNYioUc6nzzRexjKXIztcHughc4U6Rnc95pjEul5KBvFJk1kpRMWIttVgsHkbs01rPiuxsMFOgCe7EiMouGYipXNwV2XmPE9uoGayt5HJrOCuyc7fMjeCyZ6ZkMyEb0EOAz2QyLViwgHQiEolWrlxJyltaWpjxXLrNmeXM+jTIUFpaarFYWOO2tLSoVCrnVkxYG5mub1FRkUgkYq4jMZhUMJlMZKwFCxa0tLQQkRWJRFVVVcx9rVKpSCfg5spNOpfJZHSn0OYGg4FuIplMZjKZ6BqRLdPS0lJaWkr6Z56VQqHwz3/+M2s1mcbI5XKyMd3tHXJgkKA2PUhYe1MoFH722Wfu2rrDnTgyV1Z1F3fmcTeSuGgeOjl16tS8efPI3y6PJYlEwpQj9kWbeT6QfUBNobtEpVI5KxrTvWUqMjlR6Wow9YIeqaxF7hSZ2ObsxDEvD3QpNZvlHnqY5qKa67IH1tI+R/RsrQdFpqYy25I+uTiGrMuhs3fGGtq5W7IizDWl60XXkZzn1FSqKayzgqnIzpVZBwBrrVkb0FuINFgslpaWFplMRteXaBORTplMRjYUqUNOFcddZSSnjUqlomdmUVFRS0sL3XoWi0UkElEXiRjs0hjnHafRaDQaDWtnEZtJb0SI6RlhsViIKDNPJVK/qqqKaRXdkkRhnXcENYCslMViIZN+IpHI4XCsXLmSXgzIuldVVTHbXrx4EQBqamqYK0iNYV4APOw7suIrV64k13LWlYmQmJhYUlLirgevIKsgEolMJhPdqszhyPbxwUiZTObOaSBs2LDh/fffd9y9YrGOJbKhmCej6wOI6Ql6SJxw52Exm7h0i4Bxc+osDS4V2aWk0hKXS5n9c1dk5jWWRipYf7vrkI7o2VqHR0V2jmCwto9nkXI3a0Qt71ORnXcr7cH5xGZtFrpzyU9mfZfrxazPatvPuATpjRz3tLC0tBRc5RuQcnqQky3gIaZEYAo3aeIuk4G1lShkHcnlgcgic9u6vN2hbjgZ3dkrp+rDLGQ5Ro771Z9uLpcGU+0miz7//HMA+Prrr51XhO4sZtzMJdRdJUgkEub1g5CWlrZ27Vp3PXiFy6O0zxykPo00mUwikYgeYN3d3Tt27JDJZBcvXmSuBTMdhXUsEcOY9z2un9mrrq4mf1y5csVlBbg7d0z3gTvlJTifV/3M70NcYjQa3c2t7dy506uunK/BSqXSHzYGCHLoFxQUPProo2azmRTu2bMHAPLy8liVSXl2djb5WVdXx1x6+PBhAFi8eDGrVXl5OQAsXbpUJpMdOnSotLTU5WS41WolO+XJJ59kLSJzsGTi6OjRowDAVIFjx44BgEwmI48UkbOSzjKR0efPn8/q85///CcAsHYWWQW6gkajsa2tTSQSkdOQbh+WwTNmzKBtZ86cSZaSzNlr164xm5DcniVLlpCf5FEI5/WlkHUxGAzkJuNf//pXUlISq05LS0t0dLRzW6PRKHAPzfNh1icuPNkmpIJEIunzQa0+jSwrK1MqlXROj5xijY2NW7ZsISXXrl2z2+3MdBSyMcleptv5xz/+8b1OqXIzz0DmLTbrRtVxN2rBuiqSOs4+Mr1rpldjcrPGFHFS7hweYcEcgtncq6iFhxg86YHlKLH6Z172PY/o2VpWOJJGlByuojesqIWH4KnLCtQw5tDMaySrlfMeNxgMpD5HH5nZkNbnGLXwl49MRiSHPmvewvkYYDqM9K6WOkQsd9J51TzjzsVmOcXMsAnBgwftYXTSD8s/JatA14h1T8CaCWQ5xazVv3nzJgAwI7wsY0jnHqKrzHUhO8jlWRkbG+scrfYB1l0+GbHP46pPI8lx4uzar127NjY2tq2tzeFwaDSa1atXM5cynWLWXiDcU2RwwsPUHDMKTGDKE2sTOPfMiiQwRwT3iswakVrlYWaPud1Z9jv37/J+nxXWZB7onkf0bK3LrUcPYucbDuaUqfOqsdbR+W6RlLMuhHB/3J/ZrfOm4KjIzIYcZ/bcRTw8K7KHpeRUYR70VGtonMFxvxdCy+m8Fo0G0DOTNeFOJtnh7jlZVVUll8tdTsq7kwAaUiQTdzRoRudpaJiYWdlkMhHb6OhkTpIaTKytqqoyGAwsNW9paSGbgpSQuTvqA9KTghUPIW3J5Y2UJCYmbtiwga4IPZFJby49FaacMZWI/K1Sqeh6EUi0+tSpU87b01uYFxg6Uek5+MvFyNLSUpdBqubm5ujo6E2bNjkcjtzcXOaKs44lGqcmkwqkjtu0JJYsMk9a59OPZoy5VGTH/ZrO7JkpyuRYdB7apRlEvOix4tybcz/MKVrP2W90vZhnkctQoOcRPVtL5UmlUjm7US7TDZlb0vkMp03czbuyolfMnp27Zaqn832Au83C2qF9Zr8xj1dWiWdF9pBrYTKZaGqBSCRSqVRUKOkiUk4dHCJVpAlrrsZd6NnBmDoHgAULFri7/XInAS0tLfS2zGQy0WOASDDr7LVYLKQymfFz3J3lJ01WrlxJ15EedQsWLKBHAllrMhDdETRFhDVXz7wS0E1NkzEcDsemTZvS0tKY60JTQUpLS8mWZN0nMX1JpuLTjcDcTQ6H49133/XX44UtLS30HpRcflyeIyz6NFIikbiT9ddffz0hIaG7u3vixInMctaxVFVVRa6FzEsRPt56D3fTLwjiM+5c7JCmra0tISHB3RWI5RZUVVV5q603b95MTEwciDPROY/I536Yc3oszp07JxQKly5dunDhQm97xrdxIsgA8s477wDAypUrPTzTFXLExsbu37//5Zdfdn74cN++fXD/vNlHH33k1dO/HR0dKpVq4cKFAzGTvH//fmDMUvrMrl27mHN6LBITExcuXFhaWurFo3qUfl4rwgn0kRH/IpfLRSIR9zdnhRanTp1SKpWslGESvoD7M7q4U19fr1AoduzY4Scb2dCYVX9ev+VuTo/JF198IRQKyfyeVwgc+BaYu0ilUpIKHlppXggSRDo6OlzmqPmG3W4HAF69itNnrl696sNrmFCREQRB+ALGkREEQfgCKjKCIAhfQEVGEAThC6jICIIgfCEc5jTDj/bKDZ0n9zBLBj38vdjfuP2QLYIg4QH6yHyk5+rZoVlrYt/4DABi3/hsaNaaQXFjg20UgiADDioyH4metigqJavry0MR8YmDRKMj4hKjkmcH2ygEQQYcjFrwkchJmQBgv/JlxMgJACAclywclxxsoxAEGXBQkYPDjbKF9stfAsDQrDVRKVk0cCwc/fiwJX8hdXqaz0alZgfTSgRBAgtGLYJDzPwiAIhKzY5KyQKAhx5LIz9JOQD0tl3uaWmKfPyZIBqJIEiAQR85OHSfOw4Ag6e9BACddRWdx3fH5GwhwQpC15eHAGCQaHSwLEQQJPCgjxwc7BdPRcQn9t74tr1yQ883jcOW/IUpxwBwW/8uALRXbgiSgQiCBAF801BwuP7ef/a0NAGAIGro8Hwt+sIIggD6yEGBxIiHyN8YmrXG0dne+cVnwbYIQRBegIocBEiMOPLxZ6JSsoSjH+86Xc1c2l65oXVNSuualCBZhyBI0EBFDgLdTSfJox8AEPXEvJ6Wpq76Grp06Ny3AGBwxuKg2YcgSJBARQ40vW2X7U0nBVFDyM+olKyI+MTOukpawX7eBABRP/p5cOxDECR4uFbkwv+pCLAdDw63PilwdLbbL39551ApAHTWVfS0NHWfPXx7/2ZSodtylHrQCII8ULjOtRCMf9FxbkdgLLh+xXjhpPrapdqerptRQ0d9P3X5mB+9EZih+cnNj18XRA6O+cU7wTYEQZBAE+SoRYul4t+Vs3q6bv1w7r6M1xxx4+c0Hv51i+WB9tB7rtQ/JPlxsK1AECQIBFORO26c+7rmlSGiicnPHRo+Kg0AHvtZGQC0Nu0PolXBpau+pvfmtxFxicE2BEGQIBBMRb5s/mNn+xXptN8H0Qa+0XF4OwDc/vufgm0IgiBBIJjvtbCdq4odk0m8Y8L1K0YAiBw6MnhGBRn64jcEQR5Agukj3247OyT2UWZJ24WDACAaOx0Ams98WPsHQe0fBM1nPgyOfQgSChQ2aAWV2eRfYYO2P4XBWQGEQdByLZrPfHj24KIJ07eP/MFLtPDYRxMjIoelKo+Rnye1T0YOTZjy878NqCUIggBAYYO2cKIy2FY86ATNR34oegQA9HRdpyUWw7LbbWdHTVlKS7puXRaNyXTRGEEQf4NyzAeCFkeOl2RFDR3VYv0sXpIFAJfNf7xY9/vEH6+lLvP1K8bO9itkaXhw+8B7AmGUb20d9s4hM171rz1IeIC+bTgRzDjyo5l/6um+dXSH+OgO8bXLhgnTtydOLaRL2y4cHCKaED1sfBAt9C+9tguOztu+/eu1XQi2+QhPWXe23C/90MgyEkSCmWsRL8mKl2Rdv2L84tP0uMRZzIAyANz8ti529E+DZdtAIIiKiYgf51tbx53rfVdCkH6w7mw5+tpBJ/hvGho+Km2IaML/+0rbcePcV39fQh7Y67hx7tY3Jx/kNDgEQR5Agq/IACB++ned7VeOf5wEACRwfOH47zrbr1z8Ah8eQZA+WDthQbBNQPwGL758Gi/JSlfdYJY89rMy8kQ1giCe8VeoAZWdD/DCR0YQJOhgEJkPoCIjSGiDORLhBCoygoQ2mP0WTqAiIwgC4D9lR/rDgMzs/evDR4bHS31oeOfm/wOAwQ//Lx/aXm9p/PFL3/jQEEEQhCcMiCIPj5dOfOJ/+9Dw6rkjAJAw/ikf2jYc/z8+tEIQb8nPz9dqta2trVwqNzQ0NDQ0mEwmb0dJTEzMzc3lUhNzJMIJXmS/IUioYLPZSkpKVq5cybH+L37xi9OnTwPA2rVrB8gkzH4LJ1CREcQLdu/eDQDz58/nUvnSpUunT58+depUTExMYiLfv9SF2W98AGf2EDZSqVSrvW/aXaFQCO6iUCic65NFUqkvkwd+QavVskY3Go0CBkajkVWfLmKtrGc++OADmUyWlJTEpbJOp5s6derkyZMHVI7d5Ug4rzUAWK1W31YcCQyoyMg9iLZaLBZmodVqBQDHXRobG5miLJVKZ86cSRZJpdLAizLR1pycHFb5rl27DAYDMUyj0aSnp1N50mq1OTk5FovF4XAYDIacnByO2mQ2m0+cOLFs2TKOtlVWVs6ePdvlInKRy8/P59iVB5xzJIjgOtc0Go0SiUSj0ZDNcvjwYeZSzH7jA6jI92Gz2RQKhdlsZhZqtVq/nDk8Jz8/XyqVOn9TRiwW63Q6+rO6ulqv1xOZNhqNFouluLiYLCouLrZYLGRRYLBarTk5OQaDoaioiLWouLg4Le27TzgqlUqVSrVr1y7yc+fOnUVFRWKxGADS0tJUKhVLm9xRVlYmEolmzJjBpXJHR0dtba3zLQWBbNJp06Zx6corFAqFSqViXVYJubm5RUVFSuV30Qm64wiY/cYHMI58H3FxcWKxODMzs6amhtyZEn9Ko9EE27QBh3V+hgRisZhcQo4cOTLQY9lsNq1Wq1Qq4+LiuNQ3Go2xsbEymcxDnSeffNJP1t2DaL3zdZFcPlesWOH3ERE/gj4ym+Li4t/+9reZmZlms5nKMXUrkCtXrgAAdTDlcjm9gcjPz1epVGSRH/EhdcwZq9VKg7mrV68uKCigbn5JScny5cv77OHAgQNtbW3PP/88xxH1er07BxkAzGazSCTyy7bimCNx5MgRuVze/+GQAQUV2QUrVqwoLi7OzMwMXTlmzlx5mODygY0bN6pUKvqTeGSkc7FYPBCOdnZ2dmZmZm1trc89GI1GvV4/b9488jMtLc1isUgkEoFAkJ6ebrFYuCjjli1bJBIJjYT0SUVFBSuIbDablUolmQItKyubOXNmn52o1WqX+5HpAnPMkTh06JBYLGZ2yPKjMfuND2DUInD0tJzvaTkfmLGUSuVAXEjIxB0zrCwQCDQaDRFitVotlUobGxtdti0sLFy3bp1v4zY1NdXW1ubl5ZWUlAiF3h209EaHyq5ard62bRuNmJNV8Ly5rFbriRMnSktLOQ7a2Nh46dKl6dOnM3vIzMxUKpUtLS0AEB8fz6W3FStW+DHOUF1dvXjxYrLiarVaIpEwpw0w+40PoCK7oKys7M0336ypqamvryeT+H5Rt4j4ccLv/9C3tvaL/+6/Af3BaDSmp6erVCqmF0zCFHTjrFix4tChQ2q12qWIFBYWFhYWOpf3yfjx44VC4apVqxYuXOitHCsUCr1ez/SCrVZrQUEBc+LLYDCkp6d73sXbt28HAOplM2lqatJqtb/97W+ZhTqdLiMjIyYmhpasXLnyySefZG69qVOnerUu7uD+5VOpVEp3zYoVK7Zt20Yi434xA/ELGLVgk5+fT+Q4KSlJqVRqNBru2VH8wb9RC61Wm56eTn1hCjM4SxCLxU1NTf0y3YmtW7fW19fn5uZ6K8fEYXc4HMygBDMOThg1ahS4mgpjUlJSolKpWHN6p0+f/uUvfzllypQ333yTed8AAFVVVayQRXl5OX0qmiTzcElq5hK14JgjIRaLWcEZqVR64cK9L+pi9hsfQEW+D5vNZrVaaaIFABBR5pgdxR+USqXDFdzDoBSaYebsTDnrr7NG9585c+Z4q8VwN5nPOYTirL/OGs1Cq9W2tbXNmTOHVX716tUXXnjh008/BYA//OEPtJzkvTHrkwvhmDFjyM933nmHOclGHmZxOQ24YsUKl/vRhynBadOmVVdXM0saGxvHjh1Lf2L2Gx9ARb6PuLg4nU7Hcl6USmUoZob5i2PHjrmb0Vq+fHlJSQm9gVCr1cwJtOBSXV3t8k09YrFYpVIxZ9VINMZDVxUVFRKJZNasWazy6dOnKxQKhUKRnJys0+nI+ysA4ODBg4mJicwrE7kMnDlzxmazrVq1SiKRiMVis9lcVlYGAGlpaStXrnzmmWd8XVdOkAsqMzEG/BSOQ/wIKjLSBxcuXLBYLKy7ZrVaDQBisdhiseTk5JDCgoIC39y3gYBpGIUsKi4unjlzJi0sKirycMW1Wq3l5eWLFy/2MBZ5io+6yVVVVVlZWcwKYrF45cqVS5cufeGFF+bPn//000+XlJR88sknS5YsIRVOnjw5efJks9lMTLLZbNzXlHuORGNjY3V1NRmiurra3RwsEkQEzs9oAYBg/IuOczt87rThb08H5W2cE//jnz40DBjtewr7M7M3NNuXaTGkn6jVajIT6OFKY7fbx48f39LScu7cuYSEhPHjx+/YsSMjI4P7KAKBgAyhVCqzsrKC4rpynyFEBg70kRHEE9u2bVuwYIFnx18oFC5btqyjo6O0tLShoeHatWtexeuNRqNIJAIArVYbxOQHlGM+gIqMIG7Zt2+fxWJhhSBckpeXFxsbW1ZWtnv3boVC4dVU5JkzZ9ra2iQSyZYtW3wwEnMkwokByUe+1Xax6cxnvjUEgI7bXgTRWG0RxI989NFHIpGIi9MaExPzq1/9auPGjW+//fb777/v1Sg1NTUrV6589tln09PTrVbrgQMHaHyZC+vOlvvFvcWoBR8YEEWeOKtSGCXyoWGv/TYADBIO8aFtfGebD60QxANe5aG/8sormzdv7ujo8PA6C5dUV1eThEuZTCaTyWpqarw00z/4S9mR/jAgihzzvR8NRLd9wfdvNCDhTUJCwsKFCxsaGuLj471qSD/Zd/z48QGwCwkl8ClqBPEb3sYr/AK+ISicwJk9BAlt8Mun4QQqMoIgAJj9xg9QkREktMHst3ACFRlBQht/vSEIlZ0PoCIjCAKA737jB6jICIIgfAGz3wJH7/Xm7tvXfGvr6L7jX2OQsAFzJMIJVOTAEfPzVY4IHze4oMfuX2OQsAGz38KJAXkbJ4IgCOIDGEdGkNAGcyTCCVRkBAltMPstnHCtyD+dcMflF3DDg8LCwsL/qQjwhkYQnoPZb3zA9URTrU4LEM4XTMH4Fwtf7/s15AiCIIEEoxYIEtpgjkQ4gYqMIKENZr+FE6jICIIA4Lvf+AEqMoKENpgjEU6gIiNIaIPZb+EEKjKCIACY/cYP8L0WfKGzrqK9Yj2rcNiiD4XjkoNiD4IggQd9ZL5gv3gqKjV7xPq6iPjEIfI3RqyvE0QNRTlG+gRzJMIJ9JH5QlTyzwcN+15v2+WelqbIx58BgOifvBBso5AQALPfwgnX734Le3j7cruOf/658+Se4a/+NdiGIAgSBNBHDhztlRs6T+4BgKjU7KFz32IGjkesryN/2K98GTFyQtBMREKQwgYtphKHDRhHDhxD574VEZ8oHP340LlvAUBUSpYgaqgwMXXYog9pnZ7ms8JRjwfPRiT0wOy3cAIVOaD0tDRFTpYDgP286UbZwsEZi4e99D6dviNBZMHgh4NqI/KAgtlvfACjFoGjs64CAIRjptzev9nRdSdmftEg0WhmhVufFABA5/HdUSn4XjoEeRBBRQ4c3ZZ/AcCN7S8BwNCsNSw5BoBhS/4SBLOQEAdzJMIJjFoEjp7ms5FT5LFvfCaIGtpVXxtsc5AwAbPfwglU5ABBYsTCUY8PEo2OnDyz++zh3rbLwTYKQe6BCRt8ABU5QHR+8RkAkEc/Bk97SRA1tOOoJthGIeEA5kiEE6jIAaL7ayMAkNjxINHohx5L6zp9gC7tbbt88+PXW9ektL2dfv29/+yqrwGAmx+/3vZ2eld9DVl069M37xwqbXs7ve3tdPt5U7BWBOEbmP0WTqAiB4L2yg32y18CwM2PXyclXaf0vTe/vfHhy+QnybKIfeOzwRmLe29+Gzkps7OuIiplbkT8uDsHtkalzB2csbj7K6O9uUG0yuDobO+93RasdUHCFcx+4wOYaxEIhs59izwVQqEP6QFAV31NT8v54XeT4SJGTgQAkgDX/tc1Q55dFjkps/0rY0T8uIdf+B8SfY6clBnQFUAQJCCgjxx8ur8yRsSPI3Lcdfaw8O5T1CR2QaS5x3bhoUfTAKDry0PCxNTgGYvwDsyRCCdQkXmBo/M2ANzev7nXdiHiEWl75QYAsDedjIgfRyr0NDeQ9130tDRFxI29c6gUUzUQAma/hROoyMEnKvnnvTe/bXs7fdCwR4SJKbf3bxn08PcAoKf1UkTCBLjrLJNIhSBycOfJPY7OW84PmCBIf8DsNz6Ab+NEkNAG3/0WTqCPjCChDWa/hROoyAiCAGD2Gz9ARUYQBOELmI8cOHqvNd8+VBohGuVD2562K0OeWToodqTfrUJCHcyRCCdQkQOHwNEDN74RfG+cL41vfCNw9PjbIiQcwOy3cAIVOXA4BIPgoWjB4FhfGj8U7RAMEvjbJAShYMIGH8A4MoKENpgjEU6gIiNIaIPZb+EEKjKCIACY/cYPUJERBEH4AioygoQ2mCMRTqAiI0hog9lv4QQqMoIgAJj9xg9QkREktMEciXACnxBBkD6QSqUymUyr5SR8O3fuvHbtmtls9naUCRMm/Pa3v/XeOlh3ttwv7i2+1ZMPoCIjiCf27dtnsVjee+89LpVPnz794osvAkBaWtqiRYu8GighIcEX+/yHv5Qd6Q+oyAjiiY8++kgkEs2aNYtL5b17986bN+/TTz8daKuQcAXjyMg9rFar4C4KhYK5SKFQuFvEEwbCeJvNVl5erlKpONbX6/VyudwLo/2BhxwJqVTKz52FuAMVGQZdcVwAACAASURBVLnH5s2bHXcBAHoyW61WAKCLGhsbeXieD4Txu3fvBgCO8Ydbt24ZjUZ3nZPrAcdgtFe4CzVotVqLxcK9H8x+4wP4nT02+fn506ZNUyrvHeVms7mgoODjjz+Oi4vrz6C9167crlI/NGGaD227zx4eMnvFoFhf3q3sG0ajMT093eXhYbVaJRKJxWIRi8UBs8cr/GW8VCqVSqU6nY7LoLt37y4qKjp+/LgHkwK50QQCAXHYOdqP8AH0kdlMmzYtJyeH+jJmszkzM1MsFvdTjkOOS5cuSSSSYFvhI34x3mg0WiyW3NxcjvWrqqo8e98SiWQg5Nhl9lt+fr5KpeLtJRNxB87ssVEqlcOGDVu4cCEATJo0KTMzU6lUFhcXB9uuQJOTk6PRaFwuunLlCgDw+Wz3i/G7du0SiUQzZszgOKhOp/Mwp3fmzBmZTMaxK69wzpEwGo0lJSUOhyM/P597P5j9xgfQR3bBrFmzampq8vPzQ1eOtVqtwBVGo9FDK+bkmMPhYIZumGzcuJH7ZFf/MZlMXKr513ibzVZSUqJUKjneG504ccJut6elpTEL9+3b98QTT5DpxD179mRmZvbZD3MSkiKVSrnYQElPTzcYDF41AXz3Gz9AHzmAdNywX/2q9/Z1H5r23vgGOm4AcI0jK5VKd5LkAbFYTGOvJArpHIIk6hDI0GR2dnZiYuLatWszMjI8VPOv8QcOHACAJUuWcDRSp9OxQhb79u2bPXt2aWnp8ePHyd9FRUVc+uE4ojsUCoVKpWJdG5BQARXZBUaj8T/+4z+Ki4tJ1AIA/OMmRw8TJjzm88weRA/zgw2ccTgcJDeAKjuZm1KpVL5tjcLCwnXr1vlmTFNTU21tbV5eXklJiVDY90Hbf+O3bNkik8mSkpJY5Xa7XavVdnR05OXlMcv1ev0rr7zCLFm4cGFRURHR9GHDholEIufe/AIzR0KtVjc2NuJUXgjjeCCBxFx3i0j8UaPRkJ8mk0kkEqlUqv4P2tN2+eZfXus4/n99+HfzL6/1tF3mPpa7KKrBYODeiUQioduBtVkCSWJiolQq3bFjR3d3N/dW/TGexEmc62/atGnixInR0dEJCQl37tyh5d9++61QKGxra6MlJGhgsVjIz9LSUrlczmVol+nMEomEo+XuTnMu+31tfRB2LsIC48hsDh8+rNFoqG+VlJRUU1NjtVptNltwDfMKpVLpcn97dTNrsVjGjBkDAFarNScnx2Aw+BAJ6T9bt26tr6/Pzc3l4h1T+mN8WVkZADjP6Y0ZM+bzzz/Py8u7evXqzp07ablOp5s6dWps7L1v2h45cgTuzh/abLZNmzY988wzdKlarRYIBGq12nlonU7nvNcaGxs5Ws5qqFKpyJWAy37HaT0+gIrMpri4mHXqJiUl6XS6sM9+MxqNTI1QKBRyuZycyceOHZNIJMEKTc6ZM6dPLfav8VqtVqVSOe9xpVIZGxv72muvCYXCLVu20HK9Xj979mxmzbFjxwKA2Wy2Wq2///3vpVLp2LFjtVotmVldsWKFTCZ76qmnuJvkAXz3WziBiox8B9EsOr8vFotpOPLChQsWi4WVAODSxQsWfjReq9W2tbU9//zz7ipIpdJ58+Y1NjZWVFSQEp1ON2fOHGadGTNmyOXy5OTkzZs3//rXv05NTSWJaPTCcOLEiUmTJpWVlQkEgieeeKI/645fPg0n8Jm9wBFaz+w9sCgUisbGRs+BApPJ9KMf/SgtLc1gMBiNxpycnIsXL3Ifwmg05ubmNjY22my2F154YfXq1f25/xBUZjvm7vG5ud/7QfoD5logyD2sVqtery8tLfVcLTk5efr06QcPHjQajXq9nuUg98mRI0dkMhmJYGBeBMIEoxYIco/t27eDqzk9Z1atWgUAW7Zs0el0rCByn9TV1ZWXl6enp+/fv983O5ngG4LCCVRkBLlHSUnJggULuDxjnZGRkZycXFFRcfr06enTp3s1SnV1dVVVVVFRUXl5uc1m6+cL4fDLp+EEKjKC3KO1tZW7Pq5duxYAMjIyoqOjuQ9BPvg0a9asefPmtba2KhQK7q/OGFAw+40PoCIjiI/MmTNn6tSpzz33nFetkpKSWltbAUAsFre2th4/fryfiZWYIxFOoCIjiI8IhULywEhwzcDst3ACFRlBEAB89xs/QEVGEAThC6jICBLaYI5EOIGKjCChDWa/hROoyAiCAGD2Gz9ARUaQ0AZzJMIJfK9F4HB0tvfYzsPZwz607bGdd3S2+90kJAxw/vKpb+CXT/kAKnLgiIgbF7NALYga6kNbR2d7RNw4v5uEIBR/KTvSH1CRA4gwMuKRR4NtBIIg/AXjyAgS2mCORDiBiowgoQ1mv4UTqMgIggBg9hs/QEVGkNAGs9/CCVRkBAlt8N1v4QQqMoIgAPjuN36A2W8IgnjBKP1LzR1tAPCPtI3T4n4QLDMEldkA8EHyK4vGefdJLS6k1i6ru24lf6cMF5/M2OL3IdyBPjKChDaBzJHYfv4gkWMA+PPFfwRsXBaHbWcGrnNBZTaVYwCou26dc3TjwA3HAhUZQUKbQGa/7Wk+CgApw8UAUPXNifuaN2gEldmptctoyWHbGUFlNnFm+8nLpmJBZTZVxmlxP3DM3eOYu8fvDvLLpmLyxz/SNpIhPkh+xb9DeAYVGUEQAG7KXvXNSQB4d8pLANDc0bb9/EG66Mpd35ny9a1mf9nW3NHqr664MDJaRAMyi8ZN3zt1dcCGxjgygoQ2AXtD0NoGDQCkDBdPi/vB7EdSq745uaf5KPFSaXC57rpVUJmdMlw8MlpE5Bvuxnwdc/cAwPbzB/NMf6J90mA06WHNhPknr1lIQxrApV521TcnBZXZsx9J3Tt1tXMcmemMM4O/c45urPrm5OxHUlNjJevPfkIKiTHOjIoWAUBzR9so/UtX5B86V3jZVPzB+QPk7zUT5q+bmEP+Zoaemf2vbdCsP/vJyGjRy+NmrD/7CTGeWuVsLfrIfKR1TQrr351DpcE2CuEpAct+23v1BACkxEoAIHvkVLjrMnNnbYOGKccA8FPjamZQ+P3zB2ifddetNIbgme3nD7JiI3XXraP0L7FKqBwDADO6wmTdxJzZj6QCQHNHm3PIJbV2GZVjAKAdskLPpIQV7GaNztx0ddet1B5UZN7RWVchHP34iPV1kVPkkVPkI9bXCUc/HjFyQrDtQsIcz8p+2HaGiM4vv/9TAKCeKXGcr8g/zBs3AwBShosdc/eczNiyd+pqGoElAVm4q0o0REvi0cwZwpFRIuaiumsW0pyo5OxHUh1z9zjHEIrP7adDO+bu+UfaRgBo7mgjthGaO9rIUmInS0CZ7J26mulBCyqzST9rGzSk1ZoJ85lG0ssGKXTM3TMyWgQA6q/vdULcf2I86Ydlbd11K1FwVGTe8dD4J4YolgNAT/NZ4ajHAeChR9MiJ2UG2y7kgYbq5k+Nq5nOI3GcuUCDzrQHInDMGPGcBBn5g3jiHCH95I9/lvwkQRUAOHnNQuuQEgCYKnqMS5/0KgJ3LySkt9mPpNJIBQk1kMsGEXrCy06iPzJadK/VNQvcDe8IKrN/avzuAkPC7hhH5h2DRKMHiUb3tl3uaWmKfPwZABj8zNJgG4Xwl8Bkv7EyKyjEufMqMdldDJeHfJD8Cgmz+D3fjgaUWaCPHAQ66ypIdPhG2UJSQuPFnXUVpKTry0MR8YmDRKODZyYSGgQg+42mIdOAA/P2nBl2aO5kZ1zAXTmjgQ5mei8r2uuZZqd0DgKJHpDYBRmORGlTvXG0CS+bipnmkWw/AJgW9wPSW9U3J6mzT4K/xJ1nxpffP3+AWuWMcz9rGzQ09IE+chCISsnqtvyr+ytjzPwiUiJMTHXcskWn/VdUShYpsV/5EmPHSCDxoOw0DZnlC6cMF1d1nCTuM81SILkWJzO2PBozklQjN+YkHFz1zUmSMkEWEU3vk5HRI+Dunb6zd5k//tk805/IUqZtNFDgFUzzCCTisW5izvvnDzR3tOWZ/sScn3w/OZ/IMauVu5y5dRNzSBiE2Q8NeqCPHBx6Wy8+9FgaiU7c/Pj1iLixw1/9K5VjAOhpPiuIHBJEC5FQIQBvCPouHc3J5SQZFyQxmWYpUKbF/WDNhPnMkr1TVzNLRkaLXGaYOfN+cr47lxMAFo2bzoqEzH4k1bdHn99PzmdGhAFgzYT5VFuvyD9kriNz6pJp3shokefIDKt+3rgZ7yfnk78FDofDB7tDHcH4Fx3ndgTRgNY1KUPkbwBAd9PJwWm5wnHJzKXtlRs6T+4BgBHr64JjHxI6CCqz/RKZxS+f8gGMWgSBjn/+GQBu698FgKjUbJYcA8DQuW8NnftWECxDHmDwy6d8AKMWQcB+5cuI+ESSaNz9lTHY5iAIwhdQkYNAT/NZMmsX9cS83pvfEpcZQXwDv48XTmDUItDYz5t6WpqiUrMBIColq/P47q6zh6Of/iWt0PHPP3cc+UvvzW8j4hMHxY19+IX/CZ6xSAiAXz4NJ9BHDjSdps8AQDD4YfIzcrLc3nTSft703dK6iju12wb/TEXm9CJGjAmWnciDBgaR+QAqckDprKsgSRR3/l5CSrpO6wGgvXI9EeVOU1Xk5Jk0DU6YmOqmJwT5Dvw+XjiBUYuAEpWSxUw6BoBhS/7C/GlvOhmVPBsAuuprem9+i6+zQPrEXzkSmP3GB9BH5h2OOzft500dn++KiB/XVV+D835IYMAvn/IBVGR+ETlFflv/7u2//yn6J8/3tJzvOLydvGwIQZAHAYxa8IuYX7wDv3iH/B25yhBcY5CQAHMkwgn0kREktMHst3ACFRlBEADMfuMHqMgIEtpg9ls4gXHkgHJLu1wQFeNbW0fnrRjlZv/ag4QBmP0WTqAiBxRBVIzw+z/0ra394r/9awyCMMF3v/EBjFogCILwBVRkBAltMEcinEBFRpDQBrPfwglUZARBADD7jR+gIiNIaIPZb+EEKjKChDb+ekMQKjsfQEVGEAQA3/3GD1CREQRB+AI+IYIgfubq1as6nc7bVgkJCQqFwofhMEcinEBFRpA+kEqlMplMq+07zHr16tWRI0eSJmlpaV6NMmHCBN8UGbPfwglUZATxxL59+ywWy3vvvcelsk6nmzp16jvvvJOQkDBx4sSBts2/YPYbH8A4MoJ44qOPPhKJRLNmzeJSWa/Xz507NyMjI5ByjDkS4QQqMnIPq9UquAvrDlqhULhbxBMGwnibzVZeXq5SqbhUttvtOp1uzpw53tndbzzkSEilUu7ri8rOB1CRkXts3rzZcRcAoCez1WoFALqosbGRh6I8EMbv3r0bABYtWsSl8tGjR2NiYiZPnuxyKbkecAlG+wutVmuxWLjXx+w3PoCKzCY/P5912pjNZoVCYbPZgmVSwCguLqZ/r169Wq/Xk7/FYjEzeaC6ulqv1xOl4w8DYfymTZvkcrlYLOZSuaqqyoODbDAYAODJJ5/k0pVfyMnJkcvlARsO8QuoyGymTZuWk5NDRdlsNmdmZorF4ri4uOAaFmAuXbokkUiCbYWP+MV4o9FosVhyc3M51t+7d+/s2bM9VJBIJBzF3Stc5kjk5+erVKqBGA4ZUDDXgo1SqRw2bNjChQsBYNKkSZmZmUqlkul/hQRarTYnJ8e53GAwcMzKysnJ0Wg0LhdduXIFAAJ2tptMpuTkZK+a+MX4Xbt2iUSiGTNmcBnx0qVLjY2NGRkZ7iqcOXNGJpNx6cpbnHMkjEZjSUmJw+HIz8/n3g9mv/EBVGQXzJo1q6amJjMzEwD8K8e9t1rtF82+tm3jXlmpVCqVXiczWa1W6lqSaKxLNm7cyHGyyy9kZ2cnJiauXbvWg96Bv4232WwlJSUqlYrjvZFOp8vIyIiJue+TXfv27Vu7du2JEydI9CA7O7vPfhQKBY23UCQSSWNjIxczCOnp6SRI4hWY/cYHMGqB3EMsFtMZMHdpCVKptLGx0YerVGFhocAnmpqaamtrMzMzX375ZbvdHhjjDxw4AABLlixxXnTp0qWjR4+yCvV6PStksW/fvtmzZ+fl5TkcjldffVWv10+dOrXPcXU6ncMJz3LMypFQKBQqlcrb51MQvuC8+x8EIDHXw1KDwSASiTQajclkEolEKpXKX+Pe+uvajuP/17d/t/66lvtA7u7ZDQYD904AQKPR0J/E7fLj1uBIYmKiVCrdsWNHd3c391b9NF4mk8lkMlbhF198kZubKxQKk5OTmeV37tyJiYn5+uuvmYUikaioqIiOLhKJuBvvFVCRRf8uKiqSSCT0p0qlksvlHPtZW6/puxIywKCPzEar1aanpxcXFyuVyqSkpJqaGq1W61U8jg8olUqX+9sr14k5OUY2i0ajCXxIfevWrfX19UQKubfqj/Fms/nEiRPLli1jlZeVlT333HNpaWkmk4mZv2E0GseMGSOVSpklbW1t8+bNIz/PnDnDzLJQq9UCgUCtVjsPzUydpjB79kxBQYHFYqENS0pK9Hq9QCAwGo19tsXsNz6AcWQ2hw8f1mg0NAhLRLmgoMBmsz1o6RYWi2XMmDEAYLVac3JyuM8K+hffnrnoj/FlZWUA4DynV1JSAgDR0dG1tbVbtmyhgRG9Xs8y8siRI3B3/tBms23atGnx4sV06YoVKz799NOnnnrKeWgfXlHExHF/AD0/P99qtfazTySQoI/MhnjHzJKkpCSdThf2cmw0Gplem0KhkMvlRMWOHTsmkUj4HJr0r/FardbDnN706dOTk5MPHjxoMplIyd69e1mZv2PHjgUAs9lstVp///vfS6XSsWPHarVa6queOHFi0qRJZWVlAoHgiSee8GZd2WCORDiBiox8B9EsesPLfLDiwoULzHthgsub7mDhR+O1Wm1bW9vzzz/vYbhVq1YBwJYtWwCgqanp0qVLrDyQGTNmyOXy5OTkzZs3//rXv05NTSWBL2Kn0WiUSCRxcXHz5s2Ty+Xvvvtuf9Yd3/0WTggc7vOEwhjB+Bcd53YEftz2PYXC7//Qt7b2i/8eml3oX3sQZxQKRWNjo+f0BrvdPmnSpKampnPnzlVUVPzjH//49NNPuQ+hVqvr6up+9atfwV2NRhAC+sgIcg+r1arX63/zm994riYUCpctW2a327ds2VJVVeXtw8p1dXXl5eXp6en79+/vh7HfgW8ICidQkRHkHtu3bwdXc3rO5ObmJiQk7Ny5s7a21tu5x+rq6qqqqqKiovLycpvN1s/XD+GXT8MJVGQEuUdJScmCBQu4PGMdHR392muvXbt2bfLkyQkJCdyHMJvNADBr1qx58+a1trYqFAqOD2oPNJj9xgcw+w1B7tHa2sq98tKlS4uKirx9MWlSUhIZRSwWezUc8iCAiowgPhIbG1tfX896l0XgwRyJcAIVGUF8x6t4xQCB2W/hBMaREQQBwHe/8QNUZAQJbTBHIpxARUaQ0Aaz38IJVGQEQQAw+40foCIjCILwBVRkBAltMEcinMDst4Di6Lxlv/hvn9v61xgkPMDst3AC3/2GIAjCFzBqgSChDeZIhBOoyAgS2mD2WziBiowgCABmv/EDVGQEQRC+gIqMIKEN5kiEE6jICBLaYPZbOIGKjCAIAL77jR+gIiNIaIM5EuEEKjKChDaY/RZOoCIjCAKA2W/8ABUZQRCEL6AiI0hogzkS4QS++y0IdNZVtFesZxUOW/ShcFxyUOxBQhrMfgsn0EcOAvaLp6JSs0esr4uITxwif2PE+jpB1FCUYyS4YPYbH0BFDgJRyT8fPO2l3rbLPS1NkY8/AwDRP3kh2EYhoQrmSIQTqMhBQDgueZBodNeXhyLiEweJRgPA4GeWBtsoJFTB7LdwAuPIA0J75YbOk3sAICo1e+jct5iB4xHr68gf9itfRoycEDQTEeR+1p0tx8BF0EEfeUAYOvetiPhE4ejHh859CwCiUrIEUUOFianDFn1I6/Q0nxWOejx4NiIIwjvQRx4oelqahsjfAAD7edNt3ebBGYujn/4lXUqCyILBDwfPQCRMwByJcAIVeUDorKsAAOGYKbf3b3Z03YmZX0TixZRbnxQAQOfx3VEpWcExEQkXMPstnMAvnw4Itz59s+uUnvw9NGsNyi6CIFzAOPKA0NN8NnKKPPaNzwRRQ7vqa4NtDhLOYI5EOIGK7H9IjFg46vFBotGRk2d2nz3c23bZj/3fKFvYuibFft7kxz6R0AWz38IJVGT/0/nFZwBAHv0YPO0lQdTQjqMaT/XrKq6/95/c+4+etsiHZ/x62y63vZ3u32sDEk7gu9/4AM7s+Z/ur40AQKbyBolGP/RYWtfpA0OeXU6WdtXX3N77u96b3wqihg7OWNx745uOz3cBQOualKjU7Ij4xDu12yJGThz20vsAcOPDl4UjJ5C2Hf/8c8eRv/Te/HbQw9+LGDmR9Nbbdvn2wT92f2V0dLYPkb8R/fQvb3z4ck9zw5Bnl3XV13afPRw5RR7zi3c66ypu79/i6Gy/9u7PhaMfH7bkL0HZMgiCeAZ9ZD/TXrnBfvlLALj58eukpOuUvvfmtzc+fJn87Ph8V+TkGSPW1z30WJpg8MNDnl0uHP04ebvF0Llv9d74Zsizy6D7Dqnc09wgTEwFgM66iju12wb/TPXdSzDuPlpya09hb+vF4fnayCnyrtP6zrqK6J88HxE/rsP4UVTK3MEZi3tbLwJAVEpW5OSZkVPkI9bXoRyHGZgjEU6gj+xnhs59izwVQqEP6REeSkztPLlHEBUT84t3SIn98pcx84vI30OeXd5euWHQiO8DQFd9DQBETsoEgE5TVeTkmTRng8h0V31NT3PD8Hyt/epXPc1nheN+RCq0/3XNkGeXRU7KbP/KSLoCgJ6rZyMnywdsvZGggdlv4QT6yIFm8DNLB/9M1XW6ur1yAwB01lXQt1sQeq6efUjyYwDo/spIoxP2ppPC708BgK76mt6b3xKZJsGKa+/+/M6BrcJxPyJXgq76GkdnO5Fm+/kv6GOB9stfktA2grgEH6HmA6jIAaW9ckPHP/8clZL10KNP9dguAID94ilB1JDetstEoAGABD3uHCrtOl0dETf2zqFSklbhuHPTft7U8fmuiPhxXfU1nXUVgsjBEfGJI9bXDZ27pufqWTJrZ286KRz9nQr3tDSRp1TIEyuDRKPbKzfg5F6YgTkS4QQqcqC5rX+3dU1K99dHon/yPAAIvz+lp+X8jQ9eeuixNFIhIj6xvWJ9j+384IzFnSf39NjOC8clR06R39a/e/vvf4r+yfM9Lec76yqjUrKip+YAQOualNu6zdHTFhFHu6f1UkTCBNrVrU8KhImpD41/YtDD32t7O33Qw99jPT2IhDqY/RZO4DN7CBLaCCqzHXP38KcfpD+gj4wgCMIXUJERJLTBHIlwAhUZQUIbzH4LJzAfOaDcPvCeQBjlW1uHvXPIjFf9aw+CUDD7jQ+gIgeUXtuFQbE+pjr0XsOsNcQFhQ1aFNOwARU5oAiiYiLix/nW1nHnun+NQcIDf30fD5WdD2AcGUEQAHz3Gz9ARUYQBOELqMgIEtpgjkQ4gYqMIKENZr+FE6jICIIAYPYbP0BFRpDQBt8QFE6gIiNIaIPvfgsnUJERBAHA7Dd+gE+IIIgXWK1WiURSWlq6ZMmSPit3dHQcPXpUr9dfvXrV24EKCgomTpzok41ICIOKjCBesH37dgCYN28el8oVFRU5OTkAkJWVNXfuXK8Gio2N5VgTcyTCCVRkBPGCkpKSBQsWxMXFcams1+vz8vJWrVoVGxvLXWG9BbPfwgmMIyP3odVqpVIps8RoNAoYGI1GVn26SKsN2tSQVCplja5QKKhhCoXCuT5ZxFpZz+zbt6+tre2//uu/ONbfu3fvc889l5iYOHBy7A61Wu281gCQn5/vbsUx+40PoCIj30G0ldxlM9m1a5fBYHA4HA6HQ6PRpKenU1HWarU5OTkWi8XhcBgMhpycnMCLMtFWi8XCLLRarQDguEtjYyNTnqRS6cyZM8kiqVTKXZQ/+ugjiUQya9YsLpWPHj3a0dGRkZHhvIhe5Iid/YSVI6FWqwUCQUFBgXNNhUJRXV1NVnznzp1BvIIi7kBFRgAArFZrTk6OwWAoKipiLSouLk5L++6rrEqlUqVS7dq1i/zcuXNnUVGRWCwGgLS0NJVKdfjw4UCanZ+fL5VKnb8VKRaLdTod/VldXa3X64n8GY1Gi8VSXFxMFhUXF1ssFi7KaLVay8vLFy9ezNE2nU43ffr06Oho50VpaWlFRUUSiYRsun7CzJEwGo0FBQUWi0WlUrGqabVavV7f2NhIbVAq73OKMfuND6Ais8nPz2f5DmazWaFQ2Gy2YJkUAMRiscPhoMobKhQXFzOVd0DZvXs3cJ7TAwC9Xj979mwPFWbOnOkHs+4nLS3N4XC4FHpy+fTQFrPf+AAqMptp06Yx777NZnNmZqZYLOY4mRP2WK3WxMRE8vfq1asLCgqo71lSUrJ8+XK/j2gymfrZw5UrVwCA+vJyuTw/P58sys/PV6lUXHzVbdu2yeVyjl5tS0vL0aNHXUZyCXV1dUlJSZys9xN6vf6pp54K5IiID6Ais1EqlVVVVcRTJnKsVCrpTW6owJxw8zAv5y1Go1Gv11M/MS0tzWKxSCQSgUCQnp5usVj8chvOIjs7OzMzs7a21uceNm7cyLyLJ2412SBisZjLzt23b5/FYsnNzeU44t69e2Uy2ZgxY5iFarWaRL3z8/NPnDgxderUPvtxuRPp5YTAJUeC7PdRo0a56wThCZj95oJZs2bV1NRkZmYCgH/luKflfE/LeX/15gGlUsmKEvYfMo+n0Wio7KrV6m3bttEwrkAg0Gg07sYtLCxct26db0M3NTXV1tbm5eWVlJQIhd4dtGTijhncIHaS3UpUkkZX3bF3716RSMR9kzqHLFatWlVSUvK3v/0tLS1t1apVra2tXHxk5xC5qtajkwAABXxJREFUM9xzJMh8JvlbIBAkJiauWLGCLsXsNz6AihxQIuLHCb//Q9/a2i/+27/GeIVCodDr9Uwv2Gq1kkkkWsdgMKSnp3tQ5MLCQh+GHj9+vFAoXLVq1cKFC72SY6PRmJ6erlKpmNdUEqagRq5YseLQoUNqtZqpTSxsNltJScnKlSudF3V0dOzcuXPMmDFz5syhhXa7XafTvfbaa7TEbDb/93//t8FgIJH64cOHD0QQuU927txJ/9ZoNKtXr2auNWa/8QGMWrjAaDRmZmYWFxfX1NRotdpQvL/zb9SCeJGsKSNmcJYwatQouJt55ke2bt1aX1+fm5vrlRxrtdr09HTqC1OYcXCCWCxuamry0BWZ01u0aBGzsKOjY+PGjVOmTFGpVG+99RZz0dGjR6Ojo5lBCb1eL5FI6MRpXV1dSkoKl7XgErXgkiNBdg35nzBmzBhWyiDCB1CR2ZAzubi4WKlUJiUlhagoK5VKhyt8yKYgGWbO9/XO+uus0X5hzpw53kYqaDKfs8PurL/OGs1i06ZNMpmMtV7R0dFjxoz54osvMjIyTCYTM8yt1+tZc3qHDh2iWc9ms7m8vJw5yUYeZnF5sXS5E1nXGC45EmKxWCKRHDt2jJZcunRJIpEw62D2Gx9ARWZz+PBhZjCUiLLVag3v7DcPVFdXu5zREovFKpWKefdNQgQBNM0tx44dY/qkTJYvX15SUkJzadRqNXOu0hmz2WyxWJYtW+a8KDc3NyYmhiz6wx/+QMv37t3LCiKLxeLGxkabzWY0Go8ePQoAo0aNWrVqFTmoPv74YwAY6NTDjRs35uTkkCsouWJt3LiRWQGz3/gAKjIb4h0zS5KSknQ63QOb/WaxWHJyclg3zmRRcXHxzJkzaWFRURFPklIuXLhgsVhYNqvVagAQi8XMNSooKHCXwEsoKysTiUQzZsxwV2HOnDnJyckVFRXkNuLSpUsNDQ0sH5m8KO7RRx89cuTIkiVLZDLZzJkz58+fTw6q+vp6mUwGAEqlUiAQrFq1yk+b4T6USqVGoyGJMRKJxMMcLBJEBFwmc8MPwfgXHed2BH7c9j2F/ZnZG5rty8wY4jM2m+3RRx/tM99m586dL7744q9+9autW7d+8MEH5eXlBw4c4D6KWq1uamoqLi7et2/f3r17ly9f7lXkp7BB65dJOUFltmPunv73g/QH9JERxC0HDhxoa2vr81XICxcuTEhI+OCDD65du9bno3rOHDp0KCkpSavVTpw4sbi42NtAPL77LZxARUYQt2zZskUikfSZOCwUCgsKCjo6Ov74xz/qdDpmJhwXjh07tnTp0pycnIaGhn4Y218w+40PoCIjiGvMZvOJEyd+85vfcKmcm5sbGxv79ttvJyQkePWGT7PZ3NbW1tLSIpfL9+7dazabvc1QxByJcAIVGUFck5SU5HA4uHy9CQBiY2Pz8vI6OjqysrK8GuXo0aPkFfivvvpqSUlJWVmZt0kX+OXTcAIVGUH8w7Jly6RSqbdfb1qyZAlJxZs1a5ZzrnEgwew3PoBPUSOIf0hISPj666+DbQUS2qCPjCChDeZIhBOoyAgS2mD2WziBiowgCABmv/EDVGQECW0wRyKcQEVGkNAGs9/CCVRkBEEAMPuNH2D2W0Dpvd7cffuab20d3Xf8awyCIHwDFTmgxPx8lSPCx20u6LH71xgkPMAciXACFTmgCOLGCoJtAxJmYPZbOIFxZARBADD7jR+gIiNIaIM5EuEEKjKChDbrzpYLKrMFldlUmgsbtKTEt0IkiOBXnRAEQfgC+sgIgiB8ARUZQRCEL6AiIwiC8AVUZARBEL6AiowgCMIXUJERBEH4woP6FPU1k0CAzzMjCMIvHtB8ZARBEB7y/wFItOeXTSjHlwAAAABJRU5ErkJggg==)"
   ]
  },
  {
   "cell_type": "markdown",
   "metadata": {
    "id": "qMcYRoSA7zC8"
   },
   "source": [
    "우선 단어 I에 대한 Q벡터를 기준으로 설명해보겠습니다. 지금부터 설명하는 과정은 am에 대한 Q벡터, a에 대한 Q벡터, student에 대한 Q벡터에 대해서도 모두 동일한 과정을 거칩니다. 위의 그림은 단어 I에 대한 Q벡터가 모든 K벡터에 대해서 어텐션 스코어를 구하는 것을 보여줍니다. 위의 128과 32는 저자가 임의로 가정한 수치로 신경쓰지 않아도 좋습니다.\n",
    "\n",
    "위의 그림에서 어텐션 스코어는 각각 단어 I가 단어 I, am, a, student와 얼마나 연관되어 있는지를 보여주는 수치입니다. 트랜스포머에서는 두 벡터의 내적값을 스케일링하는 값으로 K벡터의 차원을 나타내는 $d_{k}$에 루트를 씌운 $\\sqrt{d_{k}}$ 사용하는 것을 택했습니다. 앞서 언급하였듯이 논문에서 $d_{k}$는 $d_{model}\\text{/num\\_heads}$라는 식에 따라서 64의 값을 가지므로 $\\sqrt{d_{k}}$는 8의 값을 가집니다.\n",
    "\n",
    "![image.png](attachment:image.png)"
   ]
  },
  {
   "cell_type": "markdown",
   "metadata": {
    "id": "wGIYLSUG9Qxe"
   },
   "source": [
    "이제 어텐션 스코어에 소프트맥스 함수를 사용하여 어텐션 분포(Attention Distribution)을 구하고, 각 V벡터와 가중합하여 어텐션 값(Attention Value)을 구합니다. 이를 단어 I에 대한 어텐션 값 또는 단어 I에 대한 컨텍스트 벡터(context vector)라고도 할 수 있습니다. am에 대한 Q벡터, a에 대 Q벡터, student에 대한 Q벡터에 대해서도 모두 동일한 과정을 반복하여 각각에 대한 어텐션 값을 구합니다. 그런데 한 가지 의문이 남습니다. 굳이 이렇게 각 Q벡터마다 일일히 따로 연산할 필요가 있을까요?"
   ]
  },
  {
   "cell_type": "markdown",
   "metadata": {
    "id": "LpT8S2nq9TMN"
   },
   "source": [
    "---\n",
    "#### **4) 행렬 연산으로 일괄 처리하기**\n",
    "사실 각 단어에 대한 Q, K, V 벡터를 구하고 스케일드 닷-프로덕트 어텐션을 수행하였던 위의 과정들은 벡터 연산이 아니라 행렬 연산을 사용하면 일괄 계산이 가능합니다. 지금까지 벡터 연산으로 설명하였던 이유는 이해를 돕기 위한 과정이고, 실제로는 행렬 연산으로 구현됩니다. 위의 과정을 벡터가 아닌 행렬 연산으로 이해해봅시다. 우선, 각 단어 벡터마다 일일히 가중치 행렬을 곱하는 것이 아니라 문장 행렬에 가중치 행렬을 곱하여 Q행렬, K행렬, V행렬을 구합니다.  \n",
    "  \n",
    "![image.png](attachment:image.png)"
   ]
  },
  {
   "cell_type": "markdown",
   "metadata": {
    "id": "QEwdSg7i9a4a"
   },
   "source": [
    "행렬 연산을 통해 어텐션 스코어는 어떻게 구할 수 있을까요? 여기서 Q행렬을 K행렬을 전치한 행렬과 곱해준다고 해봅시다. 이렇게 되면 각각의 단어의 Q벡터와 K벡터의 내적이 각 행렬의 원소가 되는 행렬이 결과로 나옵니다.  \n",
    "  \n",
    "![image.png](attachment:image.png)"
   ]
  },
  {
   "cell_type": "markdown",
   "metadata": {
    "id": "EmE9lr4T9auf"
   },
   "source": [
    "다시 말해 위의 그림의 결과 행렬의 값에 전체적으로 $\\sqrt{d_k}$를 나누어주면 이는 각 행과 열이 어텐션 스코어 값을 가지는 행렬이 됩니다. 예를 들어 I 행과 student 열의 값은 I의 Q벡터와 student의 K벡터의 어텐션 스코어 값입니다. 위 행렬을 어텐션 스코어 행렬이라 합시다. 어텐션 스코어 행렬을 구하였다면 남은 것은 어텐션 분포를 구하고, 이를 사용하여 모든 단어에 대한 어텐션 값을 구하는 일입니다. 이는 간단하게 어텐션 스코어 행렬에 소프트맥스 함수를 사용하고, V행렬을 곱하는 것으로 해결됩니다. 이렇게 되면 각 단어의 어텐션 값을 모두 가지는 어텐션 값 행렬이 결과로 나옵니다."
   ]
  },
  {
   "cell_type": "markdown",
   "metadata": {
    "id": "JVLRAc9k9agH"
   },
   "source": [
    "![image.png](attachment:image.png)"
   ]
  },
  {
   "cell_type": "markdown",
   "metadata": {
    "id": "KoVoUPyu-Azh"
   },
   "source": [
    "위의 그림은 행렬 연산을 통해 모든 값이 일괄 계산되는 과정을 식으로 보여줍니다. 해당 식은 실제 트랜스포머 논문에 기재된 아래의 수식과 정확하게 일치하는 식입니다.  \n",
    "  \n",
    "  $$Attention(Q, K, V) = softmax({QK^T\\over{\\sqrt{d_k}}})V$$"
   ]
  },
  {
   "cell_type": "markdown",
   "metadata": {
    "id": "O9tnxc63-Alv"
   },
   "source": [
    "위의 행렬 연산에 사용된 행렬의 크기를 모두 정리해봅시다. 우선 입력 문장의 길이를 seq_len이라고 해봅시다. 그렇다면 문장 행렬의 크기는 $(\\text{seq\\_len},\\ d_{model})$입니다. 여기에 3개의 가중치 행렬을 곱해서 Q, K, V 행렬을 만들어야 합니다.\n",
    "\n",
    "우선 행렬의 크기를 정의하기 위해 행렬의 각 행에 해당되는 Q벡터와 K벡터의 차원을 $d_{k}$라고 하고, V벡터의 차원을 $d_{v}$라고 해봅시다. 그렇다면 Q행렬과 K행렬의 크기는 $(\\text{seq\\_len},\\ d_{k})$이며, V행렬의 크기는 $(\\text{seq\\_len},\\ d_{v})$가 되어야 합니다. 그렇다면 문장 행렬과 Q, K, V 행렬의 크기로부터 가중치 행렬의 크기 추정이 가능합니다. $W^{Q}$와 $W^{K}$ 는 $(d_{model},\\ d_{k})$의 크기를 가지며, $W^{V}$는 $(d_{model},\\ d_{v})$의 크기를 가집니다. 단, 논문에서는 $d_{k}$와 $d_{v}$의 차원은 $d_{model}\\text{/num\\_heads}$와 같습니다. 즉, $d_{model}\\text{/num\\_heads}= d_{k}=d_{v}$입니다.\n",
    "\n",
    "결과적으로 $softmax({QK^T\\over{\\sqrt{d_k}}})V$ 식을 적용하여 나오는 어텐션 값 행렬 $a$의 크기는 $(\\text{seq\\_len},\\ d_{v})$이 됩니다.\n",
    "코드로 작성하면 아래와 같습니다."
   ]
  },
  {
   "cell_type": "markdown",
   "metadata": {
    "id": "sWKF6--DEYk-"
   },
   "source": [
    "#### **5) 스케일드 닷-프로덕트 어텐션 구현하기**"
   ]
  },
  {
   "cell_type": "code",
   "execution_count": null,
   "metadata": {
    "id": "F6534luH9d0K"
   },
   "outputs": [],
   "source": [
    "def scaled_dot_product_attention(query, key, value, mask):\n",
    "    # query 크기 : (batch_size, num_heads, query의 문장 길이, d_model/num_heads)\n",
    "    # key 크기 : (batch_size, num_heads, key의 문장 길이, d_model/num_heads)\n",
    "    # value 크기 : (batch_size, num_heads, value의 문장 길이, d_model/num_heads)\n",
    "    # padding_mask : (batch_size, 1, 1, key의 문장 길이)\n",
    "\n",
    "    # Q와 K의 곱. 어텐션 스코어 행렬.\n",
    "    matmul_qk = tf.matmul(query, key, transpose_b=True)\n",
    "\n",
    "    # 스케일링\n",
    "    # dk의 루트값으로 나눠준다.\n",
    "    depth = tf.cast(tf.shape(key)[-1], tf.float32)\n",
    "    logits = matmul_qk / tf.math.sqrt(depth)\n",
    "\n",
    "    # 마스킹. 어텐션 스코어 행렬의 마스킹 할 위치에 매우 작은 음수값을 넣는다.\n",
    "    # 매우 작은 값이므로 소프트맥스 함수를 지나면 행렬의 해당 위치의 값은 0이 된다.\n",
    "    if mask is not None:\n",
    "        logits += (mask * -1e9)\n",
    "\n",
    "    # 소프트맥스 함수는 마지막 차원인 key의 문장 길이 방향으로 수행된다.\n",
    "    # attention weight : (batch_size, num_heads, query의 문장 길이, key의 문장 길이)\n",
    "    attention_weights = tf.nn.softmax(logits, axis=-1)\n",
    "\n",
    "    # output : (batch_size, num_heads, query의 문장 길이, d_model/num_heads)\n",
    "    output = tf.matmul(attention_weights, value)\n",
    "\n",
    "    return output, attention_weights"
   ]
  },
  {
   "cell_type": "markdown",
   "metadata": {
    "id": "tLEvBYXFEh3Z"
   },
   "source": [
    "Q행렬과 K행렬을 전치한 행렬을 곱하고, 소프트맥스 함수를 사용하여 어텐션 분포 행렬을 얻은 뒤에 V행렬과 곱합니다. 코드에서 mask가 사용되는 if문은 아직 배우지 않은 내용으로 지금은 무시합니다.\n",
    "\n",
    "scaled_dot_product_attention 함수가 정상 작동하는지 테스트를 해보겠습니다. 우선 temp_q, temp_k, temp_v라는 임의의 Query, Key, Value 행렬을 만들고, 이를 scaled_dot_product_attention 함수에 입력으로 넣어 함수가 리턴하는 값을 출력해보겠습니다."
   ]
  },
  {
   "cell_type": "code",
   "execution_count": null,
   "metadata": {
    "id": "QroJiH_OFURe"
   },
   "outputs": [],
   "source": [
    "# 임의의 Query, Key, Value인 Q, K, V 행렬 생성\n",
    "np.set_printoptions(suppress=True)\n",
    "temp_k = tf.constant([[10,0,0],\n",
    "                      [0,10,0],\n",
    "                      [0,0,10],\n",
    "                      [0,0,10]], dtype=tf.float32)  # (4, 3)\n",
    "\n",
    "temp_v = tf.constant([[   1,0],\n",
    "                      [  10,0],\n",
    "                      [ 100,5],\n",
    "                      [1000,6]], dtype=tf.float32)  # (4, 2)\n",
    "temp_q = tf.constant([[0, 10, 0]], dtype=tf.float32)  # (1, 3)"
   ]
  },
  {
   "cell_type": "markdown",
   "metadata": {
    "id": "m7On9xGOFKJ6"
   },
   "source": [
    "여기서 주목할 점은 Query에 해당하는 temp_q의 값 [0, 10, 0]은 Key에 해당하는 temp_k의 두번째 값 [0, 10, 0]과 일치한다는 점입니다. 그렇다면 어텐션 분포와 어텐션 값은 과연 어떤 값이 나올까요?"
   ]
  },
  {
   "cell_type": "code",
   "execution_count": null,
   "metadata": {
    "colab": {
     "base_uri": "https://localhost:8080/"
    },
    "executionInfo": {
     "elapsed": 44,
     "status": "ok",
     "timestamp": 1672811527437,
     "user": {
      "displayName": "Jeong-Ho JEON (전정호)",
      "userId": "09770030589626015137"
     },
     "user_tz": -540
    },
    "id": "8MAf9ZU_FmJT",
    "outputId": "9651c875-c429-488e-d0c9-5db5b7b5ba41"
   },
   "outputs": [
    {
     "name": "stdout",
     "output_type": "stream",
     "text": [
      "tf.Tensor([[0. 1. 0. 0.]], shape=(1, 4), dtype=float32)\n",
      "tf.Tensor([[10.  0.]], shape=(1, 2), dtype=float32)\n"
     ]
    }
   ],
   "source": [
    "# 함수 실행\n",
    "temp_out, temp_attn = scaled_dot_product_attention(temp_q, temp_k, temp_v, None)\n",
    "print(temp_attn) # 어텐션 분포(어텐션 가중치의 나열)\n",
    "print(temp_out) # 어텐션 값"
   ]
  },
  {
   "cell_type": "markdown",
   "metadata": {
    "id": "Ppt0294eFKF6"
   },
   "source": [
    "Query는 4개의 Key값 중 두번째 값과 일치하므로 어텐션 분포는 [0, 1, 0, 0]의 값을 가지며 결과적으로 Value의 두번째 값인 [10, 0]이 출력되는 것을 확인할 수 있습니다. 이번에는 Query의 값만 다른 값으로 바꿔보고 함수를 실행해봅시다. 이번에 사용할 Query값 [0, 0, 10]은 Key의 세번째 값과, 네번째 값 두 개의 값 모두와 일치하는 값입니다."
   ]
  },
  {
   "cell_type": "code",
   "execution_count": null,
   "metadata": {
    "colab": {
     "base_uri": "https://localhost:8080/"
    },
    "executionInfo": {
     "elapsed": 41,
     "status": "ok",
     "timestamp": 1672811527440,
     "user": {
      "displayName": "Jeong-Ho JEON (전정호)",
      "userId": "09770030589626015137"
     },
     "user_tz": -540
    },
    "id": "Xnttv3mJFv6m",
    "outputId": "86ced619-0d1c-44e6-b57a-2410df8493cd"
   },
   "outputs": [
    {
     "name": "stdout",
     "output_type": "stream",
     "text": [
      "tf.Tensor([[0.  0.  0.5 0.5]], shape=(1, 4), dtype=float32)\n",
      "tf.Tensor([[550.    5.5]], shape=(1, 2), dtype=float32)\n"
     ]
    }
   ],
   "source": [
    "temp_q = tf.constant([[0, 0, 10]], dtype=tf.float32)\n",
    "temp_out, temp_attn = scaled_dot_product_attention(temp_q, temp_k, temp_v, None)\n",
    "print(temp_attn) # 어텐션 분포(어텐션 가중치의 나열)\n",
    "print(temp_out) # 어텐션 값"
   ]
  },
  {
   "cell_type": "markdown",
   "metadata": {
    "id": "R2PCDsL9FKCA"
   },
   "source": [
    "Query의 값은 Key의 세번째 값과 네번째 값 두 개의 값과 모두 유사하다는 의미에서 어텐션 분포는 [0, 0, 0.5, 0.5]의 값을 가집니다. 결과적으로 나오는 값 [550, 5.5]는 Value의 세번째 값 [100, 5]에 0.5를 곱한 값과 네번째 값 [1000, 6]에 0.5를 곱한 값의 원소별 합입니다. 이번에는 하나가 아닌 3개의 Query의 값을 함수의 입력으로 사용해보겠습니다."
   ]
  },
  {
   "cell_type": "code",
   "execution_count": null,
   "metadata": {
    "colab": {
     "base_uri": "https://localhost:8080/"
    },
    "executionInfo": {
     "elapsed": 41,
     "status": "ok",
     "timestamp": 1672811527445,
     "user": {
      "displayName": "Jeong-Ho JEON (전정호)",
      "userId": "09770030589626015137"
     },
     "user_tz": -540
    },
    "id": "Fm7UARgEF2fP",
    "outputId": "b304d4e2-d531-4a7b-84dd-9fc832f7972e"
   },
   "outputs": [
    {
     "name": "stdout",
     "output_type": "stream",
     "text": [
      "tf.Tensor(\n",
      "[[0.  0.  0.5 0.5]\n",
      " [0.  1.  0.  0. ]\n",
      " [0.5 0.5 0.  0. ]], shape=(3, 4), dtype=float32)\n",
      "tf.Tensor(\n",
      "[[550.    5.5]\n",
      " [ 10.    0. ]\n",
      " [  5.5   0. ]], shape=(3, 2), dtype=float32)\n"
     ]
    }
   ],
   "source": [
    "temp_q = tf.constant([[0, 0, 10], [0, 10, 0], [10, 10, 0]], dtype=tf.float32)  # (3, 3)\n",
    "temp_out, temp_attn = scaled_dot_product_attention(temp_q, temp_k, temp_v, None)\n",
    "print(temp_attn) # 어텐션 분포(어텐션 가중치의 나열)\n",
    "print(temp_out) # 어텐션 값"
   ]
  },
  {
   "cell_type": "markdown",
   "metadata": {
    "id": "Ba3yZY-7FJ-V"
   },
   "source": [
    "---\n",
    "#### **6) 멀티 헤드 어텐션(Multi-head Attention)**\n",
    "앞서 배운 어텐션에서는 $d_{model}$의 차원을 가진 단어 벡터를 $\\text{num\\_heads}$로 나눈 차원을 가지는 Q, K, V벡터로 바꾸고 어텐션을 수행하였습니다. 논문 기준으로는 512의 차원의 각 단어 벡터를 8로 나누어 64차원의 Q, K, V 벡터로 바꾸어서 어텐션을 수행한 셈인데, 이제 $\\text{num\\_heads}$의 의미와 왜 $d_{model}$의 차원을 가진 단어 벡터를 가지고 어텐션을 하지 않고 차원을 축소시킨 벡터로 어텐션을 수행하였는지 이해해보겠습니다."
   ]
  },
  {
   "cell_type": "markdown",
   "metadata": {
    "id": "p_m9Rz0-9nDm"
   },
   "source": [
    "![image.png](attachment:image.png)"
   ]
  },
  {
   "cell_type": "markdown",
   "metadata": {
    "id": "2j0IEeAXFJ23"
   },
   "source": [
    "트랜스포머 연구진은 한 번의 어텐션을 하는 것보다 여러번의 어텐션을 병렬로 사용하는 것이 더 효과적이라고 판단하였습니다. 그래서 $d_{model}$의 차원을 $\\text{num\\_heads}$개로 나누어 $d_{model}/\\text{num\\_heads}$의 차원을 가지는 Q, K, V에 대해서 $\\text{num\\_heads}$개의 병렬 어텐션을 수행합니다. 논문에서는 하이퍼파라미터인 의 값을 8로 지정하였고, 8개의 병렬 어텐션이 이루어지게 됩니다. 다시 말해 위에서 설명한 어텐션이 8개로 병렬로 이루어지게 되는데, 이때 각각의 어텐션 값 행렬을 어텐션 헤드라고 부릅니다. 이때 가중치 행렬 $W^{Q}, W^{K}, W^{V}$의 값은 8개의 어텐션 헤드마다 전부 다릅니다.\n",
    "\n",
    "병렬 어텐션으로 얻을 수 있는 효과는 무엇일까요? 그리스로마신화에는 머리가 여러 개인 괴물 히드라나 케로베로스가 나옵니다. 이 괴물들의 특징은 머리가 여러 개이기 때문에 여러 시점에서 상대방을 볼 수 있다는 겁니다. 이렇게 되면 시각에서 놓치는 게 별로 없을테니까 이런 괴물들에게 기습을 하는 것이 굉장히 힘이 들겁니다. 멀티 헤드 어텐션도 똑같습니다. 어텐션을 병렬로 수행하여 다른 시각으로 정보들을 수집하겠다는 겁니다.\n",
    "\n",
    "예를 들어보겠습니다. 앞서 사용한 예문 '그 동물은 길을 건너지 않았다. 왜냐하면 그것은 너무 피곤하였기 때문이다.'를 상기해봅시다. 단어 그것(it)이 쿼리였다고 해봅시다. 즉, it에 대한 Q벡터로부터 다른 단어와의 연관도를 구하였을 때 첫번째 어텐션 헤드는 '그것(it)'과 '동물(animal)'의 연관도를 높게 본다면, 두번째 어텐션 헤드는 '그것(it)'과 '피곤하였기 때문이다(tired)'의 연관도를 높게 볼 수 있습니다. 각 어텐션 헤드는 전부 다른 시각에서 보고있기 때문입니다."
   ]
  },
  {
   "cell_type": "markdown",
   "metadata": {
    "id": "xPMAIjW6FJyL"
   },
   "source": [
    "![image.png](data:image/png;base64,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)"
   ]
  },
  {
   "cell_type": "markdown",
   "metadata": {
    "id": "UVad7wqnFJtn"
   },
   "source": [
    "병렬 어텐션을 모두 수행하였다면 모든 어텐션 헤드를 연결(concatenate)합니다. 모두 연결된 어텐션 헤드 행렬의 크기는 $(\\text{seq\\_len},\\ d_{model})$가 됩니다.\n",
    "\n",
    "지금까지 그림에서는 책의 지면상의 한계로 4차원을 $d_{model}$=512로 표현하고, 2차원을 $d_{v}$=64로 표현해왔기 때문에 위의 그림의 행렬의 크기에 혼동의 있을 수 있으나 8개의 어텐션 헤드의 연결(concatenate) 과정의 이해를 위해 이번 행렬만 예외로 위와 같이 $d_{model}$의 크기를 $d_{v}$의 8배인 16차원으로 표현하였습니다. 아래의 그림에서는 다시 $d_{model}$를 4차원으로 표현합니다.  \n",
    "  \n",
    "![image.png](attachment:image.png)"
   ]
  },
  {
   "cell_type": "markdown",
   "metadata": {
    "id": "-C69Ihv6FJqB"
   },
   "source": [
    "어텐션 헤드를 모두 연결한 행렬은 또 다른 가중치 행렬 $W^{o}$을 곱하게 되는데, 이렇게 나온 결과 행렬이 멀티-헤드 어텐션의 최종 결과물입니다. 위의 그림은 어텐션 헤드를 모두 연결한 행렬이 가중치 행렬 $W^{o}$과 곱해지는 과정을 보여줍니다. 이때 결과물인 멀티-헤드 어텐션 행렬은 인코더의 입력이었던 문장 행렬의 $(\\text{seq\\_len},\\ d_{model})$ 크기와 동일합니다.\n",
    "\n",
    "다시 말해 인코더의 첫번째 서브층인 멀티-헤드 어텐션 단계를 끝마쳤을 때, 인코더의 입력으로 들어왔던 행렬의 크기가 아직 유지되고 있음을 기억해둡시다. 첫번째 서브층인 멀티-헤드 어텐션과 두번째 서브층인 포지션 와이즈 피드 포워드 신경망을 지나면서 인코더의 입력으로 들어올 때의 행렬의 크기는 계속 유지되어야 합니다. 트랜스포머는 동일한 구조의 인코더를 쌓은 구조입니다. 논문 기준으로는 인코더가 총 6개입니다. 인코더에서의 입력의 크기가 출력에서도 동일 크기로 계속 유지되어야만 다음 인코더에서도 다시 입력이 될 수 있습니다."
   ]
  },
  {
   "cell_type": "markdown",
   "metadata": {
    "id": "8bwwsuCUFJQm"
   },
   "source": [
    "#### **7) 멀티 헤드 어텐션(Multi-head Attention) 구현하기**\n",
    "멀티 헤드 어텐션에서는 크게 두 종류의 가중치 행렬이 나왔습니다. Q, K, V 행렬을 만들기 위한 가중치 행렬인 WQ, WK, WV 행렬과 바로 어텐션 헤드들을 연결(concatenation) 후에 곱해주는 WO 행렬입니다. 가중치 행렬을 곱하는 것을 구현 상에서는 입력을 전결합층. 즉, 밀집층(Dense layer)을 지나게 하여 구현합니다. 케라스 코드 상으로 지금까지 사용해왔던 Dense()에 해당됩니다."
   ]
  },
  {
   "cell_type": "markdown",
   "metadata": {
    "id": "HGK0KyT6FJIx"
   },
   "source": [
    "```python\n",
    "    Dense(units)\n",
    "```"
   ]
  },
  {
   "cell_type": "markdown",
   "metadata": {
    "id": "3vVPtDO3FI_Z"
   },
   "source": [
    "멀티 헤드 어텐션의 구현은 크게 다섯 가지 파트로 구성됩니다.\n",
    "\n",
    "1. WQ, WK, WV에 해당하는 d_model 크기의 밀집층(Dense layer)을 지나게한다.\n",
    "2. 지정된 헤드 수(num_heads)만큼 나눈다(split).\n",
    "3. 스케일드 닷 프로덕트 어텐션.\n",
    "4. 나눠졌던 헤드들을 연결(concatenatetion)한다.\n",
    "5. WO에 해당하는 밀집층을 지나게 한다.  \n",
    "  \n",
    "이론으로 설명할 때보다 심플하게 구성되었는데 결국 근본적으로 동일한 내용입니다."
   ]
  },
  {
   "cell_type": "code",
   "execution_count": null,
   "metadata": {
    "id": "RNU5ilcw9f3q"
   },
   "outputs": [],
   "source": [
    "class MultiHeadAttention(tf.keras.layers.Layer):\n",
    "\n",
    "    def __init__(self, d_model, num_heads, name=\"multi_head_attention\"):\n",
    "        super(MultiHeadAttention, self).__init__(name=name)\n",
    "        self.num_heads = num_heads\n",
    "        self.d_model = d_model\n",
    "\n",
    "        assert d_model % self.num_heads == 0\n",
    "\n",
    "        # d_model을 num_heads로 나눈 값.\n",
    "        # 논문 기준 : 64\n",
    "        self.depth = d_model // self.num_heads\n",
    "\n",
    "        # WQ, WK, WV에 해당하는 밀집층 정의\n",
    "        self.query_dense = tf.keras.layers.Dense(units=d_model)\n",
    "        self.key_dense = tf.keras.layers.Dense(units=d_model)\n",
    "        self.value_dense = tf.keras.layers.Dense(units=d_model)\n",
    "\n",
    "        # WO에 해당하는 밀집층 정의\n",
    "        self.dense = tf.keras.layers.Dense(units=d_model)\n",
    "\n",
    "    # num_heads 개수만큼 q, k, v를 split하는 함수\n",
    "    def split_heads(self, inputs, batch_size):\n",
    "        inputs = tf.reshape(\n",
    "            inputs, shape=(batch_size, -1, self.num_heads, self.depth))\n",
    "        return tf.transpose(inputs, perm=[0, 2, 1, 3])\n",
    "\n",
    "    def call(self, inputs):\n",
    "        query, key, value, mask = inputs['query'], inputs['key'], inputs[\n",
    "            'value'], inputs['mask']\n",
    "        batch_size = tf.shape(query)[0]\n",
    "\n",
    "        # 1. WQ, WK, WV에 해당하는 밀집층 지나기\n",
    "        # q : (batch_size, query의 문장 길이, d_model)\n",
    "        # k : (batch_size, key의 문장 길이, d_model)\n",
    "        # v : (batch_size, value의 문장 길이, d_model)\n",
    "        # 참고) 인코더(k, v)-디코더(q) 어텐션에서는 query 길이와 key, value의 길이는 다를 수 있다.\n",
    "        query = self.query_dense(query)\n",
    "        key = self.key_dense(key)\n",
    "        value = self.value_dense(value)\n",
    "\n",
    "        # 2. 헤드 나누기\n",
    "        # q : (batch_size, num_heads, query의 문장 길이, d_model/num_heads)\n",
    "        # k : (batch_size, num_heads, key의 문장 길이, d_model/num_heads)\n",
    "        # v : (batch_size, num_heads, value의 문장 길이, d_model/num_heads)\n",
    "        query = self.split_heads(query, batch_size)\n",
    "        key = self.split_heads(key, batch_size)\n",
    "        value = self.split_heads(value, batch_size)\n",
    "\n",
    "        # 3. 스케일드 닷 프로덕트 어텐션. 앞서 구현한 함수 사용.\n",
    "        # (batch_size, num_heads, query의 문장 길이, d_model/num_heads)\n",
    "        scaled_attention, _ = scaled_dot_product_attention(query, key, value, mask)\n",
    "        # (batch_size, query의 문장 길이, num_heads, d_model/num_heads)\n",
    "        scaled_attention = tf.transpose(scaled_attention, perm=[0, 2, 1, 3])\n",
    "\n",
    "        # 4. 헤드 연결(concatenate)하기\n",
    "        # (batch_size, query의 문장 길이, d_model)\n",
    "        concat_attention = tf.reshape(scaled_attention,\n",
    "                                      (batch_size, -1, self.d_model))\n",
    "\n",
    "        # 5. WO에 해당하는 밀집층 지나기\n",
    "        # (batch_size, query의 문장 길이, d_model)\n",
    "        outputs = self.dense(concat_attention)\n",
    "\n",
    "        return outputs"
   ]
  },
  {
   "cell_type": "markdown",
   "metadata": {
    "id": "KA5pnTEJId6v"
   },
   "source": [
    "멀티 헤드 어텐션 함수를 구현해보았습니다. 한 가지만 더 설명하고, 두번째 서브층에 대한 설명으로 넘어가봅시다."
   ]
  },
  {
   "cell_type": "markdown",
   "metadata": {
    "id": "dHVZ8mjcIgSH"
   },
   "source": [
    "#### **8) 패딩 마스크(Padding Mask)**\n",
    "아직 설명하지 않은 내용이 있습니다. 앞서 구현한 스케일드 닷 프로덕트 어텐션 함수 내부를 보면 mask라는 값을 인자로 받아서, 이 mask값에다가 -1e9라는 아주 작은 음수값을 곱한 후 어텐션 스코어 행렬에 더해주고 있습니다. 이 연산의 정체는 무엇일까요?"
   ]
  },
  {
   "cell_type": "markdown",
   "metadata": {
    "id": "SgBuFEvGIqLQ"
   },
   "source": [
    "```python\n",
    "    def scaled_dot_product_attention(query, key, value, mask):\n",
    "        ... 중략 ...\n",
    "        logits += (mask * -1e9) # 어텐션 스코어 행렬인 logits에 mask*-1e9 값을 더해주고 있다.\n",
    "        ... 중략 ...\n",
    "```"
   ]
  },
  {
   "cell_type": "markdown",
   "metadata": {
    "id": "kCn2cMGWIqGI"
   },
   "source": [
    "이는 입력 문장에 <PAD> 토큰이 있을 경우 어텐션에서 사실상 제외하기 위한 연산입니다. 예를 들어 <PAD>가 포함된 입력 문장의 셀프 어텐션의 예제를 봅시다. 이에 대해서 어텐션을 수행하고 어텐션 스코어 행렬을 얻는 과정은 다음과 같습니다."
   ]
  },
  {
   "cell_type": "markdown",
   "metadata": {
    "id": "TvPv1yX8Ip_d"
   },
   "source": [
    "![image.png](attachment:image.png)"
   ]
  },
  {
   "cell_type": "markdown",
   "metadata": {
    "id": "AnOZNveUIp3c"
   },
   "source": [
    "그런데 사실 단어 <PAD>의 경우에는 실질적인 의미를 가진 단어가 아닙니다. 그래서 트랜스포머에서는 Key의 경우에 <PAD> 토큰이 존재한다면 이에 대해서는 유사도를 구하지 않도록 마스킹(Masking)을 해주기로 했습니다. 여기서 마스킹이란 어텐션에서 제외하기 위해 값을 가린다는 의미입니다. 어텐션 스코어 행렬에서 행에 해당하는 문장은 Query이고, 열에 해당하는 문장은 Key입니다. 그리고 Key에 <PAD>가 있는 경우에는 해당 열 전체를 마스킹을 해줍니다."
   ]
  },
  {
   "cell_type": "markdown",
   "metadata": {
    "id": "SarttSQF0JyI"
   },
   "source": [
    "![image.png](attachment:image.png)"
   ]
  },
  {
   "cell_type": "markdown",
   "metadata": {
    "id": "0TkBarijIpeE"
   },
   "source": [
    "마스킹을 하는 방법은 어텐션 스코어 행렬의 마스킹 위치에 매우 작은 음수값을 넣어주는 것입니다. 여기서 매우 작은 음수값이라는 것은 -1,000,000,000과 같은 -무한대에 가까운 수라는 의미입니다. 현재 어텐션 스코어 함수는 소프트맥스 함수를 지나지 않은 상태입니다. 앞서 배운 연산 순서라면 어텐션 스코어 함수는 소프트맥스 함수를 지나고, 그 후 Value 행렬과 곱해지게 됩니다. 그런데 현재 마스킹 위치에 매우 작은 음수 값이 들어가 있으므로 어텐션 스코어 행렬이 소프트맥스 함수를 지난 후에는 해당 위치의 값은 0이 되어 단어 간 유사도를 구하는 일에 <PAD> 토큰이 반영되지 않게 됩니다."
   ]
  },
  {
   "cell_type": "markdown",
   "metadata": {
    "id": "LCqjV4wM0JyI"
   },
   "source": [
    "![image.png](attachment:image.png)"
   ]
  },
  {
   "cell_type": "markdown",
   "metadata": {
    "id": "DwZvrK9rI9Ea"
   },
   "source": [
    "위 그림은 소프트맥스 함수를 지난 후를 가정하고 있습니다. 소프트맥스 함수를 지나면 각 행의 어텐션 가중치의 총 합은 1이 되는데, 단어 <PAD>의 경우에는 0이 되어 어떤 유의미한 값을 가지고 있지 않습니다.\n",
    "  \n",
    "패딩 마스크를 구현하는 방법은 입력된 정수 시퀀스에서 패딩 토큰의 인덱스인지, 아닌지를 판별하는 함수를 구현하는 것입니다. 아래의 함수는 정수 시퀀스에서 0인 경우에는 1로 변환하고, 그렇지 않은 경우에는 0으로 변환하는 함수입니다."
   ]
  },
  {
   "cell_type": "code",
   "execution_count": null,
   "metadata": {
    "id": "8jmSJUvpK8zp"
   },
   "outputs": [],
   "source": [
    "def create_padding_mask(x):\n",
    "  mask = tf.cast(tf.math.equal(x, 0), tf.float32)\n",
    "  # (batch_size, 1, 1, key의 문장 길이)\n",
    "  return mask[:, tf.newaxis, tf.newaxis, :]"
   ]
  },
  {
   "cell_type": "markdown",
   "metadata": {
    "id": "LSseJttbLBoq"
   },
   "source": [
    "임의의 정수 시퀀스 입력을 넣어서 어떻게 변환되는지 보겠습니다."
   ]
  },
  {
   "cell_type": "code",
   "execution_count": null,
   "metadata": {
    "colab": {
     "base_uri": "https://localhost:8080/"
    },
    "executionInfo": {
     "elapsed": 37,
     "status": "ok",
     "timestamp": 1672811527447,
     "user": {
      "displayName": "Jeong-Ho JEON (전정호)",
      "userId": "09770030589626015137"
     },
     "user_tz": -540
    },
    "id": "sdOASYvRLAHY",
    "outputId": "6d78c2d6-23d5-4d68-cdc4-437b8be92208"
   },
   "outputs": [
    {
     "name": "stdout",
     "output_type": "stream",
     "text": [
      "tf.Tensor([[[[0. 0. 0. 1. 1.]]]], shape=(1, 1, 1, 5), dtype=float32)\n"
     ]
    }
   ],
   "source": [
    "print(create_padding_mask(tf.constant([[1, 21, 777, 0, 0]])))"
   ]
  },
  {
   "cell_type": "markdown",
   "metadata": {
    "id": "-FAcPTe3LH4H"
   },
   "source": [
    "위 벡터를 통해서 1의 값을 가진 위치의 열을 어텐션 스코어 행렬에서 마스킹하는 용도로 사용할 수 있습니다. 위 벡터를 스케일드 닷 프로덕트 어텐션의 인자로 전달하면, 스케일드 닷 프로덕트 어텐션에서는 위 벡터에다가 매우 작은 음수값인 -1e9를 곱하고, 이를 행렬에 더해주어 해당 열을 전부 마스킹합니다.\n",
    "\n",
    "첫번째 서브층인 멀티 헤드 어텐션을 구현해보았습니다. 앞서 인코더는 두 개의 서브 서브층(sublayer)으로 나뉘어진다고 언급한 적이 있는데, 두번째 서브층인 포지션-와이즈 피드 포워드 신경망에 대해서 알아보겠습니다."
   ]
  },
  {
   "cell_type": "markdown",
   "metadata": {
    "id": "DFow-bAEJJz4"
   },
   "source": [
    "---\n",
    "### **8. 포지션-와이즈 피드 포워드 신경망(Position-wise FFNN)**\n",
    "지금은 인코더를 설명하고 있지만, 포지션 와이즈 FFNN은 인코더와 디코더에서 공통적으로 가지고 있는 서브층입니다. 포지션-와이즈 FFNN는 쉽게 말하면 완전 연결 FFNN(Fully-connected FFNN)이라고 해석할 수 있습니다. 앞서 인공 신경망은 결국 벡터와 행렬 연산으로 표현될 수 있음을 배웠습니다. 아래는 포지션 와이즈 FFNN의 수식을 보여줍니다.\n",
    "  \n",
    "$FFNN(x) = MAX(0, x{W_{1}} + b_{1}){W_2} + b_2$\n",
    "  \n",
    "식을 그림으로 표현하면 아래와 같습니다."
   ]
  },
  {
   "cell_type": "markdown",
   "metadata": {
    "id": "W2aRatmnJd-B"
   },
   "source": [
    "![image.png](data:image/png;base64,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)"
   ]
  },
  {
   "cell_type": "markdown",
   "metadata": {
    "id": "7vVaICxbJglH"
   },
   "source": [
    "여기서 는 앞서 멀티 헤드 어텐션의 결과로 나온 $(\\text{seq\\_len},\\ d_{model})$의 크기를 가지는 행렬을 말합니다. 가중치 행렬 $W_1$은 $(d_{model},\\ d_{ff})$의 크기를 가지고, 가중치 행렬 $W_2$은 $(d_{ff},\\ d_{model})$의 크기를 가집니다. 논문에서 은닉층의 크기인 $d_{ff}$는 앞서 하이퍼파라미터를 정의할 때 언급했듯이 2,048의 크기를 가집니다.\n",
    "\n",
    "여기서 매개변수 $W_1, b_1, W_2, b_2$ 는 하나의 인코더 층 내에서는 다른 문장, 다른 단어들마다 정확하게 동일하게 사용됩니다. 하지만 인코더 층마다는 다른 값을 가집니다."
   ]
  },
  {
   "cell_type": "markdown",
   "metadata": {
    "id": "hgCIbpCUKG_q"
   },
   "source": [
    "![image.png](attachment:image.png)"
   ]
  },
  {
   "cell_type": "markdown",
   "metadata": {
    "id": "9f5IfniQKJ9X"
   },
   "source": [
    "위의 그림에서 좌측은 인코더의 입력을 벡터 단위로 봤을 때, 각 벡터들이 멀티 헤드 어텐션 층이라는 인코더 내 첫번째 서브 층을 지나 FFNN을 통과하는 것을 보여줍니다. 이는 두번째 서브층인 Position-wise FFNN을 의미합니다. 물론, 실제로는 그림의 우측과 같이 행렬로 연산되는데, 두번째 서브층을 지난 인코더의 최종 출력은 여전히 인코더의 입력의 크기였던 $(\\text{seq\\_len},\\ d_{model})$의 크기가 보존되고 있습니다. 하나의 인코더 층을 지난 이 행렬은 다음 인코더 층으로 전달되고, 다음 층에서도 동일한 인코더 연산이 반복됩니다.\n",
    "\n",
    "이를 구현하면 다음과 같습니다."
   ]
  },
  {
   "cell_type": "markdown",
   "metadata": {
    "id": "FKxMihSoKSIB"
   },
   "source": [
    "```python\n",
    "  # 다음의 코드는 인코더와 디코더 내부에서 사용할 예정입니다.\n",
    "    outputs = tf.keras.layers.Dense(units=dff, activation='relu')(attention)\n",
    "    outputs = tf.keras.layers.Dense(units=d_model)(outputs)\n",
    "```"
   ]
  },
  {
   "cell_type": "markdown",
   "metadata": {
    "id": "hleOfMSJKXhv"
   },
   "source": [
    "---\n",
    "### **9. 잔차 연결(Residual connection)과 층 정규화(Layer Normalization)**\n",
    "  "
   ]
  },
  {
   "cell_type": "markdown",
   "metadata": {
    "id": "8ck00aDPKg4w"
   },
   "source": [
    "![image.png](attachment:image.png)"
   ]
  },
  {
   "cell_type": "markdown",
   "metadata": {
    "id": "boPiAMCqKiov"
   },
   "source": [
    "인코더의 두 개의 서브층에 대해서 이해하였다면 인코더에 대한 설명은 거의 끝났습니다! 트랜스포머에서는 이러한 두 개의 서브층을 가진 인코더에 추가적으로 사용하는 기법이 있는데, 바로 Add & Norm입니다. 더 정확히는 잔차 연결(residual connection)과 층 정규화(layer normalization)를 의미합니다.\n",
    "\n",
    "위의 그림은 앞서 Position-wise FFNN를 설명할 때 사용한 앞선 그림에서 화살표와 Add & Norm(잔차 연결과 정규화 과정)을 추가한 그림입니다. 추가된 화살표들은 서브층 이전의 입력에서 시작되어 서브층의 출력 부분을 향하고 있는 것에 주목합시다. 추가된 화살표가 어떤 의미를 갖고 있는지는 잔차 연결과 층 정규화를 배우고 나면 이해할 수 있습니다."
   ]
  },
  {
   "cell_type": "markdown",
   "metadata": {
    "id": "-J2fwlT1LVsO"
   },
   "source": [
    "#### **1) 잔차 연결(Residual connection)**\n",
    "잔차 연결(residual connection)의 의미를 이해하기 위해서 어떤 함수 $H(x)$에 대한 이야기를 해보겠습니다.\n",
    "  \n",
    "![image.png](attachment:image.png)"
   ]
  },
  {
   "cell_type": "markdown",
   "metadata": {
    "id": "YjXqs_Nz0JyK"
   },
   "source": [
    "위 그림은 입력 $x$와 $x$에 대한 어떤 함수 $F(x)$의 값을 더한 함수 $H(x)$의 구조를 보여줍니다. 어떤 함수 $F(x)$가 트랜스포머에서는 서브층에 해당됩니다. 다시 말해 잔차 연결은 서브층의 입력과 출력을 더하는 것을 말합니다. 앞서 언급했듯이 트랜스포머에서 서브층의 입력과 출력은 동일한 차원을 갖고 있으므로, 서브층의 입력과 서브층의 출력은 덧셈 연산을 할 수 있습니다. 이것이 바로 위의 인코더 그림에서 각 화살표가 서브층의 입력에서 출력으로 향하도록 그려졌던 이유입니다. 잔차 연결은 컴퓨터 비전 분야에서 주로 사용되는 모델의 학습을 돕는 기법입니다.\n",
    "\n",
    "이를 식으로 표현하면 $x+Sublayer(x)$입니다.\n",
    "\n",
    "가령, 서브층이 멀티 헤드 어텐션이었다면 잔차 연결 연산은 다음과 같습니다.\n",
    "\n",
    "$H(x) = x+Multi-head\\ Attention(x)$\n",
    "\n",
    "![image.png](attachment:image.png)\n",
    "\n",
    "위 그림은 멀티 헤드 어텐션의 입력과 멀티 헤드 어텐션의 결과가 더해지는 과정을 보여줍니다.\n",
    "\n",
    "관련 논문 : https://arxiv.org/pdf/1512.03385.pdf"
   ]
  },
  {
   "cell_type": "markdown",
   "metadata": {
    "id": "6rO87pXeMFtA"
   },
   "source": [
    "---\n",
    "#### **2) 층 정규화(Layer Normalization)**\n",
    "잔차 연결을 거친 결과는 이어서 층 정규화 과정을 거치게됩니다. 잔차 연결의 입력을 $x$, 잔차 연결과 층 정규화 두 가지 연산을 모두 수행한 후의 결과 행렬을 $LN$이라고 하였을 때, 잔차 연결 후 층 정규화 연산을 수식으로 표현하자면 다음과 같습니다.\n",
    "  \n",
    "    \n",
    "$LN = LayerNorm(x+Sublayer(x))$\n",
    "    \n",
    "      \n",
    "층 정규화를 하는 과정에 대해서 이해해봅시다. 층 정규화는 **텐서의 마지막 차원**에 대해서 평균과 분산을 구하고, 이를 가지고 어떤 수식을 통해 값을 정규화하여 학습을 돕습니다. 여기서 텐서의 마지막 차원이란 것은 트랜스포머에서는  $d_{model}$차원을 의미합니다. 아래 그림은  $d_{model}$차원의 방향을 화살표로 표현하였습니다."
   ]
  },
  {
   "cell_type": "markdown",
   "metadata": {
    "id": "ZiPNa-o_Mje_"
   },
   "source": [
    "![image.png](data:image/png;base64,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)"
   ]
  },
  {
   "cell_type": "markdown",
   "metadata": {
    "id": "MD64m-C0Mn4A"
   },
   "source": [
    "층 정규화를 위해서 우선, 화살표 방향으로 각각 평균 $μ$과 분산 $σ^{2}$을 구합니다. 각 화살표 방향의 벡터를 $x_{i}$라고 명명해봅시다.\n",
    "  \n",
    "  ![image.png](data:image/png;base64,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)\n"
   ]
  },
  {
   "cell_type": "markdown",
   "metadata": {
    "id": "2O4jdnNqMnsv"
   },
   "source": [
    "층 정규화를 수행한 후에는 벡터 $x_i$는 $ln_i$라는 벡터로 정규화가 됩니다.\n",
    "  \n",
    "$ln_i = LayerNorm(x_i)$\n",
    "  \n",
    "층 정규화의 수식을 알아봅시다. 여기서는 층 정규화를 두 가지 과정으로 나누어서 설명하겠습니다. 첫번째는 평균과 분산을 통한 정규화, 두번째는 감마와 베타를 도입하는 것입니다. 우선, 평균과 분산을 통해 벡터 $x_i$를 정규화 해줍니다. $x_i$는 벡터인 반면, 평균 $μ_{i}$과 분산 $σ^{2}_{i}$은 스칼라입니다. 벡터 $x_i$의 각 차원을 k라고 하였을 때, $x_{i, k}$는 다음의 수식과 같이 정규화 할 수 있습니다. 다시 말해 벡터 $x_i$의 각 $k$차원의 값이 다음과 같이 정규화 되는 것입니다.\n",
    "  \n",
    "$$\\hat{x}_{i, k} = \\frac{x_{i, k}-μ_{i}}{\\sqrt{σ^{2}_{i}+\\epsilon}}$$\n",
    "  \n",
    "$ϵ$(입실론)은 분모가 0이 되는 것을 방지하는 값입니다.\n",
    "\n",
    "이제 $γ$(감마)와 $β$(베타)라는 벡터를 준비합니다. 단, 이들의 초기값은 각각 1과 0입니다.\n",
    "  \n",
    "  ![image.png](data:image/png;base64,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)\n",
    "  \n",
    "$γ$와 $β$를 도입한 층 정규화의 최종 수식은 다음과 같으며 와 는 학습 가능한 파라미터입니다.\n",
    "  \n",
    "$$ln_{i} = γ\\hat{x}_{i}+β = LayerNorm(x_{i})$$\n",
    "\n",
    "\n",
    "관련 논문 : https://arxiv.org/pdf/1607.06450.pdf\n",
    "\n",
    "케라스에서는 층 정규화를 위한 LayerNormalization()를 제공하고 있으므로 이를 가져와 사용합니다."
   ]
  },
  {
   "cell_type": "markdown",
   "metadata": {
    "id": "EDAD7gzFMnZM"
   },
   "source": [
    "---"
   ]
  },
  {
   "cell_type": "markdown",
   "metadata": {
    "id": "dk6JOZGzOoQS"
   },
   "source": [
    "### **10. 인코더 구현하기**"
   ]
  },
  {
   "cell_type": "markdown",
   "metadata": {
    "id": "DlRq4LHMOsge"
   },
   "source": [
    "지금까지 배운 내용을 바탕으로 인코더를 구현한 코드는 다음과 같습니다. 인코더의 입력으로 들어가는 문장에는 패딩이 있을 수 있으므로, 어텐션 시 패딩 토큰을 제외하도록 패딩 마스크를 사용합니다. 이는 MultiHeadAttention 함수의 mask의 인자값으로 padding_mask가 사용되는 이유입니다. 인코더는 총 두 개의 서브층으로 이루어지는데, 멀티 헤드 어텐션과 피드 포워드 신경망입니다. 각 서브층 이후에는 드롭 아웃, 잔차 연결과 층 정규화가 수행됩니다."
   ]
  },
  {
   "cell_type": "code",
   "execution_count": null,
   "metadata": {
    "id": "nskamzrs9j1K"
   },
   "outputs": [],
   "source": [
    "def encoder_layer(dff, d_model, num_heads, dropout, name=\"encoder_layer\"):\n",
    "  inputs = tf.keras.Input(shape=(None, d_model), name=\"inputs\")\n",
    "\n",
    "  # 인코더는 패딩 마스크 사용\n",
    "  padding_mask = tf.keras.Input(shape=(1, 1, None), name=\"padding_mask\")\n",
    "\n",
    "  # 멀티-헤드 어텐션 (첫번째 서브층 / 셀프 어텐션)\n",
    "  attention = MultiHeadAttention(\n",
    "      d_model, num_heads, name=\"attention\")({\n",
    "          'query': inputs, 'key': inputs, 'value': inputs, # Q = K = V\n",
    "          'mask': padding_mask # 패딩 마스크 사용\n",
    "      })\n",
    "\n",
    "  # 드롭아웃 + 잔차 연결과 층 정규화\n",
    "  attention = tf.keras.layers.Dropout(rate=dropout)(attention)\n",
    "  attention = tf.keras.layers.LayerNormalization(\n",
    "      epsilon=1e-6)(inputs + attention)\n",
    "\n",
    "  # 포지션 와이즈 피드 포워드 신경망 (두번째 서브층)\n",
    "  outputs = tf.keras.layers.Dense(units=dff, activation='relu')(attention)\n",
    "  outputs = tf.keras.layers.Dense(units=d_model)(outputs)\n",
    "\n",
    "  # 드롭아웃 + 잔차 연결과 층 정규화\n",
    "  outputs = tf.keras.layers.Dropout(rate=dropout)(outputs)\n",
    "  outputs = tf.keras.layers.LayerNormalization(\n",
    "      epsilon=1e-6)(attention + outputs)\n",
    "\n",
    "  return tf.keras.Model(\n",
    "      inputs=[inputs, padding_mask], outputs=outputs, name=name)"
   ]
  },
  {
   "cell_type": "markdown",
   "metadata": {
    "id": "8O4cFC81O4sQ"
   },
   "source": [
    "위 코드는 하나의 인코더 블록. 즉, 하나의 인코더 층을 구현하는 코드입니다. 실제로 트랜스포머는 num_layers 개수만큼의 인코더 층을 사용하므로 이를 여러번 쌓는 코드를 별도 구현해줄 필요가 있습니다."
   ]
  },
  {
   "cell_type": "markdown",
   "metadata": {
    "id": "8DiB1wyfO6as"
   },
   "source": [
    "---\n",
    "### **11. 인코더 쌓기**\n",
    "지금까지 인코더 층의 내부 아키텍처에 대해서 이해해보았습니다. 이러한 인코더 층을 num_layers개만큼 쌓고, 마지막 인코더 층에서 얻는 (seq_len, d_model) 크기의 행렬을 디코더로 보내주므로서 트랜스포머 인코더의 인코딩 연산이 끝나게 됩니다. 아래의 코드는 인코더 층을 num_layers개만큼 쌓는 코드입니다."
   ]
  },
  {
   "cell_type": "code",
   "execution_count": null,
   "metadata": {
    "id": "34a0WK-B9lgi"
   },
   "outputs": [],
   "source": [
    "def encoder(vocab_size, num_layers, dff,\n",
    "            d_model, num_heads, dropout,\n",
    "            name=\"encoder\"):\n",
    "  inputs = tf.keras.Input(shape=(None,), name=\"inputs\")\n",
    "\n",
    "  # 인코더는 패딩 마스크 사용\n",
    "  padding_mask = tf.keras.Input(shape=(1, 1, None), name=\"padding_mask\")\n",
    "\n",
    "  # 포지셔널 인코딩 + 드롭아웃\n",
    "  embeddings = tf.keras.layers.Embedding(vocab_size, d_model)(inputs)\n",
    "  embeddings *= tf.math.sqrt(tf.cast(d_model, tf.float32))\n",
    "  embeddings = PositionalEncoding(vocab_size, d_model)(embeddings)\n",
    "  outputs = tf.keras.layers.Dropout(rate=dropout)(embeddings)\n",
    "\n",
    "  # 인코더를 num_layers개 쌓기\n",
    "  for i in range(num_layers):\n",
    "    outputs = encoder_layer(dff=dff, d_model=d_model, num_heads=num_heads,\n",
    "        dropout=dropout, name=\"encoder_layer_{}\".format(i),\n",
    "    )([outputs, padding_mask])\n",
    "\n",
    "  return tf.keras.Model(\n",
    "      inputs=[inputs, padding_mask], outputs=outputs, name=name)"
   ]
  },
  {
   "cell_type": "markdown",
   "metadata": {
    "id": "yrOztLNyPE2w"
   },
   "source": [
    "---\n",
    "### **12. 인코더에서 디코더로(From Encoder To Decoder)**"
   ]
  },
  {
   "cell_type": "markdown",
   "metadata": {
    "id": "BiwX2FX7PEpy"
   },
   "source": [
    "![image.png](data:image/png;base64,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)"
   ]
  },
  {
   "cell_type": "markdown",
   "metadata": {
    "id": "Y1AyPO4wPEZ4"
   },
   "source": [
    "지금까지 인코더에 대해서 정리해보았습니다. 이렇게 구현된 인코더는 총 $\\text{num\\_layers}$만큼의 층 연산을 순차적으로 한 후에 마지막 층의 인코더의 출력을 디코더에게 전달합니다. 인코더 연산이 끝났으면 디코더 연산이 시작되어 디코더 또한 $\\text{num\\_layers}$만큼의 연산을 하는데, 이때마다 인코더가 보낸 출력을 각 디코더 층 연산에 사용합니다. **디코더**에 대해서 이해해봅시다."
   ]
  },
  {
   "cell_type": "markdown",
   "metadata": {
    "id": "KzL1GFBXPdKw"
   },
   "source": [
    "---\n",
    "### **13. 디코더의 첫번째 서브층 : 셀프 어텐션과 룩-어헤드 마스크**"
   ]
  },
  {
   "cell_type": "markdown",
   "metadata": {
    "id": "iYdUMOEe5Vdm"
   },
   "source": [
    "![image.png](data:image/png;base64,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)"
   ]
  },
  {
   "cell_type": "markdown",
   "metadata": {
    "id": "v_wJct6Z5Yi9"
   },
   "source": [
    "위 그림과 같이 디코더도 인코더와 동일하게 임베딩 층과 포지셔널 인코딩을 거친 후의 문장 행렬이 입력됩니다. 트랜스포머 또한 seq2seq와 마찬가지로 교사 강요(Teacher Forcing)을 사용하여 훈련되므로 학습 과정에서 디코더는 번역할 문장에 해당되는 `<sos> je suis étudiant`의 문장 행렬을 한 번에 입력받습니다. 그리고 디코더는 이 문장 행렬로부터 각 시점의 단어를 예측하도록 훈련됩니다.\n",
    "\n",
    "여기서 문제가 있습니다. seq2seq의 디코더에 사용되는 RNN 계열의 신경망은 입력 단어를 매 시점마다 순차적으로 입력받으므로 다음 단어 예측에 현재 시점을 포함한 이전 시점에 입력된 단어들만 참고할 수 있습니다. 반면, 트랜스포머는 문장 행렬로 입력을 한 번에 받으므로 현재 시점의 단어를 예측하고자 할 때, 입력 문장 행렬로부터 미래 시점의 단어까지도 참고할 수 있는 현상이 발생합니다. 가령, suis를 예측해야 하는 시점이라고 해봅시다. RNN 계열의 seq2seq의 디코더라면 현재까지 디코더에 입력된 단어는 <sos>와 je뿐일 것입니다. 반면, 트랜스포머는 이미 문장 행렬로 `<sos> je suis étudiant`를 입력받았습니다.\n",
    "\n",
    "이를 위해 트랜스포머의 디코더에서는 현재 시점의 예측에서 현재 시점보다 미래에 있는 단어들을 참고하지 못하도록 룩-어헤드 마스크(look-ahead mask)를 도입했습니다. 직역하면 '미리보기에 대한 마스크'입니다."
   ]
  },
  {
   "cell_type": "markdown",
   "metadata": {
    "id": "QHyE3QHF5sfH"
   },
   "source": [
    "![image.png](data:image/png;base64,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)"
   ]
  },
  {
   "cell_type": "markdown",
   "metadata": {
    "id": "espDo5Yu5wlq"
   },
   "source": [
    "룩-어헤드 마스크(look-ahead mask)는 디코더의 첫번째 서브층에서 이루어집니다. 디코더의 첫번째 서브층인 멀티 헤드 셀프 어텐션 층은 인코더의 첫번째 서브층인 멀티 헤드 셀프 어텐션 층과 동일한 연산을 수행합니다. 오직 다른 점은 어텐션 스코어 행렬에서 마스킹을 적용한다는 점만 다릅니다. 우선 다음과 같이 셀프 어텐션을 통해 어텐션 스코어 행렬을 얻습니다."
   ]
  },
  {
   "cell_type": "markdown",
   "metadata": {
    "id": "zWyKv79o5yLt"
   },
   "source": [
    "![image.png](data:image/png;base64,iVBORw0KGgoAAAANSUhEUgAAAfcAAACECAIAAAAC1vWrAAAgAElEQVR4nO3deVhTd9Y48BMIJEDYwqZssomIqCyiUlHo+IpiC8ijRUudqR2tjO2v01fgedta21qrnbYD9LV9W5fqaDsdVKZ9FG1F4ziCQhFk32QTAiQsQSKBkAUC+f3xtbeZsIgQCMTzefwj5N57vt+kfU6+OffmHppSqQSEEEI6Sk/bE0AIITSFMMsjhJAuwyyPEEK6DLM8QgjpMszyCCGkyzDLI4SeFrGFKbGFKdqexXTDLI8Qmj6xhSkcQYmmorlejxv/zin3L9kz2Z95v/zYPdP4ObT0aJ60CwASK8+k3L808SnOADSdv15e3FncXPhXIfeqQv6QzrBku2xwD/6MwXLU9rwQQlrAEZR82fjz5RXvjr1bbGFKakD8VESefjq+lm8pSi75ca2g5qx78Kehbypt578gqDlb++8/aXteCGlZkaghtjAljZ8zyTgh2fvHHyQke39c6VEASKw8Y3llu+WV7WS9PJrEyjO09GjLK9s5gpLYwpSIvMMAcILLSaw8AwC09OgD1efIa3G9HkdLjx6tGsMRlIRk76elR2/J/2x97oc/tRfQ0qM5ghISGQB8M/eSPeNKj5I4pnQjap5qm8joEXmHYwtTDlSfo6VHp/FzOIISKvI4341po8tZXtxZ3JR/WCF/6LLi/bk+rwKAhfNaAOhq/Fku5ml7dghpB0/alVh5ZnP+p8ssPGIcVqluUs2qPGlXbGEKLT3aN3MvycUkUaoVSV53Df+qMSMi73CRqOGxQzsYsTfPDTpQfa5VJny48ftwO/9fhNVj7P+vzlJl1IWd8/6rsPv+pjkrSOYtFN1fbjEfABI8op5hewFAKu/WO/M3t4SdHO31/k/Vt+96bikMTe7s70nwiDq+dI8y6kJFb3OMwyprhhlP2mVONwGANH5O3sPalrCT9kz2ApYDACQt2hFstVBtkz2TzRGU/N4xNFdYY89kJ3hEdQ/0hdn6UpEf+z5MM13O8s2Ff1XIHzLNXF1Wfqi2SdT2i1amhJAWkfy+p+yYp4l947rj8e6RajtQWRUA/rfhMgAooy54mzr9IqxO4+d4mToooy74mDmrHhLjsCor+NAbrs8l1V+MLUwZO9dX9baE2fp+23LzLO82LT36LO+22seMmhWWnnGlR//bLeIdz83dA33LLDwAgCMoIUfViPlhtr4AEOu45mtuxi/C6hFrLGmtOaUi7vrcDwMyEwItPe4+rN9oFwAA8e6RrTKhv7lbWmtOoKUHAFxsz9s3f4ujkVWrTBhq7UPGIulebRMZN4i9YLdLWKtMSAJSkWcaXc7ygpqzAMB2Xkc9MygXkQfGFvO1MyeEtOelws8B4PKKd3e7hI24A5VVw2x9f2zNJScqexVSCwOTGIdV1b38A9XnRqw7h9n6pgbEb5qzIiAzYbTRT3A5Kyw9i0QN5gbGyqgL5N8Ys02sPPOeZ8xa6yX/U/UtABSK7jsyrRIrzzgb2aieDuVJu1J5t0pCP/+qMWPEz5iC7nqyxFZGXUhatIM8eaD6HE/a1TMgLRI1fNnws6eJ/Qkuhy8VknnmCmsyH1TwpF2/CKvJ94bhm/K760KtfMj7k9b6W82KFJFmFJ3N8oK6NPKAVGmI3o4CAKAzLFk2ftqZFkLa84+AvQAQkXf4BJczfKtaVuVKBACQxs+p6GkOs/WNKz2aFXxIPCgb8YITUje/2J5XGJo82uiZXRWb5wb5m7sBgGohaDS9CqkTZ1dc6VGSTE3pRnGlR8NsfJulnWSH7K57Idn7q3pbfmzNJdVwElxNqJVPXOlRyyvbSf4VKfpWZ++LnLscAMp6uEn1F99we+5rbsZGu4BnrX22FiSJB2U+Zs6tMqGjkRUAxJUePcHlDN9Erdyzu+6RgVQjzyg6e40N984H3LyDABD65m8vsCDVT9xZYuX63OLIn7Q3NYS0iSft+t+Gyz+25r7h9pxq0YakMwsDk0+9/7DbJSyx8kxyfbqLse3xpXvCbH19M/eWirguxrY/Ln9LNZmm8XO+aswwMzD60OvFEZMsNeiesmMz8PqTp4HOZvn6W/G84s9BJcsLmzllF9YDgPfG87bzY7Q5OYS0rUjUkFR/cdOcFWNXxh8rJHv/667hjw0SkXf4DdfnSDkbTTOdzfJtFd/U3NgNKlm+5IeQbv4tC4c1vluytDo1hBCaPjpbl5/r8yrTzBUABHVpcjGv6mosSfELN/xD21NDCKHpo7Nrefj1V689bXdkPY1MM1eHpa87+Y96AQBCCOkknV3LAwDLxs97Q6pb8CcAoJB3m1gvFjZzqq7GanteCCE0fXR5LU/h3vmAV/KlQv7QdsGLeBMbhNBT5anI8ggh9NTS5YoNQgghurYngBDSsipxS1zJUQ+TuZMPxZcJjfQM2YasyYcq72nyMJlrpG+okVCLzeZNPg4A1Inbsld/rJFQ0wazPEJPO2M9xmozr3dcNXDL3H+03XZmWq+2XDj5UHvuffPOvGhnprVGQn3hsWPycQAgsuwzjcSZTrMmy/PLvu5q/MnQ2G4Cx0oe1hpbek5w4KEhr/XfTvBYhBDStlmT5fVo+pZmxjZOE0nW93vLXVwnmOUb6somdiBCCM0EsybL0/QZBgwW08RqAsfq0xkTOxAA9OjMiR2IEEIzAV5jgxBCugyzPHoCCn5V7/d/1uIEBupzH34couBXaXEOCM0umOXRE6A7eJtu/0JT0frLr4nT3n6iQ2R3zppE7KM7eD92z55TO/suHpzYKNOMtOCYoh5Dafyc0dqGoKfEeLO8XMxrKUouSJ2qFkvcOx9UXY0VNuP/i+Ol4FeJ097uL782yTg9p3aOM0h/+TXh+/5DPR1DPR3itLeF7/v3nNo5maENF69nxXzyRIeYbv+CPs9X9NXWx+7JWBJOPgzGP8pQT8d4ImsKT9qVcv+Sb+bew7U/LLPw2DVv3fB94kqP0tKjSWcl6qiIvMOkBzfVtinl/iXLK9tJ622OoEQ1QozDqgi7wMyuCtfrcYmVZ8bTgxvpmMeffRU2c9qrzvS03WE7r3ML/nTEHWpv/EnW00hnWM5b/i6572NLUTK/9CtZTyO52S+D5SgX8+5dfambfwsA7H12e649rhpkrs+rgtrzzfmHG7LfsvPabuu5Fe82M5qhng5Zzt/7q7OYgVsMF69X3dRzaqeiqVjP0sFi7+WB+lxp1klFU7GhTxgr5hMFv0qc9tbQQz75kzqEuTxGlp8mL/3Z6Nk/jb1G1mM7GXgG65nZ9X7/ZwOXAFbMJ92fR4w9VWo+ZjtP9v79z4ZeIUZrX+u7eNDAfQUAiP/5jukfvjLwCJLf/UFy/UulrNc47E1m8MsjhpJkJMmLLwMAKIeU8j7h+/6sF/7Sf++msl9iuv0L+d0fBh9wjcMTB+pz+y5/rJT20J2XmkS+219+jRqF2mTovZYRuGWgOlNelmH8X/+v7/LHDL8I4/BE0f/FKGW9JLLaG6tZafyci+15Vb0tm+as+JvfG6O1WOIISjiCkpawk/Bry1YAeD7vkLepkzLqwgku562q70izp49q0s4vSwyz9Y3IO2zNMFOLs9slbLdLGE/aldaas7f8bwAQNXf58NbeSFeNupaXi3ncOx8UpPq1V52xdHx25SsNnmuPs51HaArML/lizsLfh76pdPR9gzzTVvFNU/5hz7XHQt9UKvp72iq+IU/qG5qGvqlcEn1NMdCrFoTBcnTyT/DdkuW17m+D/T3F/1xTdTWW6t2KiKGeDklGUt+lw/rWLhZ7L6slxP7ya/pW89gHi/RtXAFAmnXScMEa9sEiBb8SAPrLrhgFv2yRmKEW03DxerOdp5grX5TlfCdOe3uMkvdAdaaBS4CCXzVQmy3hHBG+769nZjvGbFXnM1Bzm7F0I41hAgAKfqXh4vWGi9cbeAYbeAQBgLwsw/z/pbFe+ItS3jdiKOmNr4d6H1juyzLwCGL4RjD8N7EPFtGMzAwXPkszNAYABb+K7riYvGpm4BbLfVmDnY16Znaqo1CbBhrv0h28aQwTPTNbBa/cJGKfUi4BAJOIfSTyVKf4rQVJyyw8SkI/P+C1bYwuemG2vuYGxv/bcBkAsoIPAcAJLkc0IEkNiAcACwOT7oFHb1eMw6ovG38uEjVcXvHuaAEdjazi3SOzgg+97hr+ZcPPiZVnNP/a0Iw0apa/d/Wlbl6m17q/eW9Inevz6hghrN2iHjRcEtSluaz8kCzk+WVfz1v+LvlIoBuaKfp7AcDafVNfV1VLUTLbOcx7Q+po0Vg2fi4rP1z5SoOpbUDVla2Y6FWJ/7kPAEy3f8EI3DJ8q+Hi9YNdTdIbX5tu/0LBr1LKxKofA4ZLNsry/6loKhmxfGHgEcSK+cRw4bM9x7ePNnp/dZbhkg2KxrskFbIPFpntPDXGbFXnwwjcMvigie4aqOBX0ZjqP39nLAkX/3OfHtvJaO1rI4aSl2X0V3CE7/v3V3BAT4985zDwCFLKeun2CwFgoPGu4eL15COKGfyygl9Fd1ikGmH4Jmbwy0M9AuPwxCFROwmo4JWPp+I/STEOq84vSyzorvfN3Hug+tzYJZSfVuzvVUifzztEGmHX9rUGsReQTfnddc/PWUYeH1+6J8DcfXP+p2rlGlWkQBSSvf+rxow33J5LWqSZ34KimW/ULL9wwz8sHEOrr/+x6mosWYyPZq7Pqw5LXmu++5eWokft28WdJZZOvwMAuZgnflDOdtkAACwbP8+1x7p5N8e+w7u4s5h754M7p916BYXYoFUN64WPAaD3+z/L7/4wfGvfxYNmO08p+yWy7G+HhC3kSUlGEt1h0VBPR3/ZFfPXz8vy00ZcrQ/U54rT3u6/d9Ms7vsRh1bwq/TM7fTM7Oiugf1VN4Tv+z/2lKbqfABAwa/UM7WS3jxGt18oy/52oD5X38oZAOR3f6AxTVkvfNx38cPRhqYZGpPPFfbBosGuZoMFqyUZSb/Oao4kI0nPzJZ61UM9HbKc7/RMraU3vqZGGb6pv/yagWsgACha79GYpgP1uaqRp1SMw6rUgPifVuwHgD8WfxmSvT/l/iWSx1WRWvx7njEA8IuwmjzZq5ACQBo/51TTvyLsAgEgJHt/kajhgNe2IPYCTucIWf4ElxNbmLI6e1+NmP/54j9mBR/Ccs1TZdQsz2A5uqz8cFlssbX7poe8m3dOu9XeiBt+drT+VnxLUfJcn1ftvLZ3NVyinu+XdsrFvPvZ/8M0m8d2DhPUpVVdjWU7h7kGfSSoOTt8OHJ2t+SHkOrrfwQAvxdueW9IxRSvRs/Mzjg80STy3cEH3O7PI0j2pCj4lcL3/furs+iugYaL19OYLOH7/orWe8Yb9g4KGvqrs4Tv+wOA2nK1v/xaz6mdsjtnmav+wIr5ZLTFbH/ZFcbS58jhlvuy2AeLHntKU3U+AEBjsnr//mfmyhflxZf153gCgCw3VZKRpJT39V3+uDsp3MAtcMQ4ZErC9/1FX20d6unQY1mL/i9G39oFAGgM477LHxvMXzXUIwAA+jzfoR5B79//bLjwWXnxZUbgZmqU4ZuolbuyX9J/76aBR5Bq5GngaGR1wGtbSejn73puKeiuP9l0XXUrSfpOnF1OnF3epk6kffZ/u0X0DEhp6dFvVX333oKY3S5hAOBgxA7ITKClR/OlwljHNWqjpPFzLnfcDbXyaVx3/PjSPWMUiJCuGu/95eVinqD2fEf198tii1Wfpxp0MM1c3YI/IXm5pSi5Kf+wQv7QyvU5z98dY7AcBXVpDdlvkzO0jr5vuKxUX7Vx73wg6a6b471jxNI/ALRXnYHuzDmuz0zgRVbf/dYrcORzeo8/tiLXa93piR07pRT8KlnOd4YLn51kEbnn1E7m8pixg8iyvx3q7TQOT5zMQGjG4koEJ+qvzsS7lblq7G5lRxeOVXYev8iyz26u+kgjoabNeO9wQM6ODu+b6rLyw+Epe/ietvNjxl6YDw+CxkZ38H7SyxBHNHZtnRjtuheE0MyHv4pCCCFdhlkeIYR0GWZ5hBDSZZjlEUJIl2GWRwghXTZruogoB+WK/j5Zn/ovR8ZjUCGf2IEAMKSQTexArRiSiZWiNnIjgUmR9QBT/XYoWoszIFPS9Gl0g0mGUcp69Od4TXYyuujhgPinzsJm2YPJh2qQdpjoM1PbsycfKldUu7/+nIk+QyOh9twb66ed49cs1cC7NM1mTZaXSzrED+oGJ5Rzpb2Cdu4vExt3QCqZ2IFaoajLlt48rm812Xb1ivZa+pyJdsrVdJyhng6gM/WMzScZZ/AB1/zNi5MMopMsDVjP2wTg9fLjgd29pxDT1Jlp7zuxX0XJJEKXRY+5e+JoqityJ3agVtBY1vpW8wwWqP8A8kkNSUSTD6KpOIqWUpqRhb71ZD+6lP2z6QMbIU3BujxCCOkyzPIIIaTLtJ/l5WJe5hGaXMzT9kQQQkgHab8uz2A5hr45rjumIYQQelJaXssL6tIyj9Dqb8WTP+ViXtXV2Oxj7Oxj7LFvao8Qeqy40qNxpUe1PQukZVpey9vOj2l1+MqE/ei6q/JLEcbshYHby5ryPuoT3tPu3BCa7Y4v3aPtKSDt035dXtbbYmq3DADaKr5RyEXeG1L7hFU9HfkMloO2p4bQLBaSvZ+W/tsl8Ce4HN/MvbT06JDs/VqcFZp+Wl7LizuLAYBl4wcAfcJ7sp7GzCM0lo2vndf24feyRwAgyUiS5f5H11wa09RyX5a25oNmrNddw0WKR+2/T3A5b1V9d3zpnmfYXk6cXdqdGJpmWl7LP2z5t4nVby3o7H12h76p9Fr3t27eTS3OaiZTtN5jvfAXk4h9AGAUssskYh/deam2J4VmIp6sy9vUiTz+mpvx3oKYZ9heJ5uuuxjbandiaJppeS3fKyg0snj0C/g5C39f8dNmspZ3DnxHuxObsUhrp76LBwGAPs/PwCOIEbhF25NCM1FBd/0yCw/yuFTETRCd/qgmLdzO/8flb2l3YmiaaTnL97TdcQt+1NaOZeO38pUG7c5nJiA9uAn2wSIFv0qc9tbQQz4AMPw3mWx6HwAU/Eoa09TAI0hrs0QzXq6wZofT76g/W8JOOhpZHag+l/mgAnt8P1W0WbHh3vkAAMbuB/sUMg57kzww/cNXAKBnaqWU9tCYpkYhu0iKH+rpGOyow0INGkORqIErEYTZ+pI/EzyinDi7LK9sb5M/jLFfpd25oWmmtbV85hEa08zVc+0xbU1gxhrq7YRfqzED9bnitLf17TyMNyTQHR6dwBiouQ0A9Ll4E100qswHFWusFlF/Ji3akbRohxbng7RIa1kef+86GkXrPQAwcAmQ3vhalneeuWKr0drXVHfor7kFAPq27tqZH5rxeNKuLxt+fsPtOW1PBM0I2r9eHqlRNBUDgDTrpDTrpFLWS5/np7q1v/zaQG02AMjy07QzPzSzJVaeceLsCrP1jXeP1PZc0IyAWV6T9u/fn5GRofpMTU3Ntm3bRCLROCP0l18jDywSM2hMUwCQF6Wr7mC4eD37YBH7YBG52AbNQNu2baMNs2TJkukZPWnRDmXUBfzVK6JgltekVatWbdy4kUr0NTU1ISEhHh4e5ubj7XOk4JUDAH2en56ZHbmEZqA+d6inY4omjKbCuXPnlMOUlZVpe17oKaX9e1KOk7S7rrsxp/tB3QSOFT2or7777cTGlTxJC8Lw8PCsrKyYmJjTp0+7ubmFhITs2rXr0KFD449AivJ0+4UAwPCP6q/gKGW9/WVXmcEvj+fwIVG7or12SDLerw6jxhG2yIsvTzKIpuIoJULQN1S0TDZL4oflaORDiiZp5+2HGrhzVK2kTaTQTE+ujn7RXVF9k7RTI6E08uoAQDyrGkETsybLG1nMN3JdNbGOgNV3v/UKHFeWHOHYJ+wIuGbNmqysrJCQEAB40hQ/1NNBivL61i4AYOARpG83f7CjTl56ZZxZXs98Dn2O5+Sb8MmLLzP8JthDUeNxNNURsL/86iQjjNO2bdvOnz+v9uTixYtn7HJ+UDkoUkg00t27q78XlEpzuvHkQ/UpZHy5UDY0oJFQGnl1ANCvVGgkznSaNVn+aSD+5z7yQF6WwQjcMtTTQVqVDnbU9V08SC6WRzPfuXPnzp07p+1ZPAFjfcYS03kvzV2tkWia6u6d3V29yXa5Rrp7Z3dXa+rVne+cTY2gCczyGlZUVLRx40aqYgMA41/Oq51Q1TOzs9irgbIJQuhphllekzIyMjZu3HjlypXw8HAAoEo3T1S3QQghDcJrbDQpJyeHSvEAsGDBgqysrPr6+vFfSYkQQpo1I9bywmZO1ZVtwX8SansikzV8zb5gwYLZVaJFCOmYGbGWZzuH6UCKRwihGWgKs3ztjbjMI7TMI7SCVD8AEDZzso+xa2/Eka0FqX6CujQAqL8Vn3mE1lKUTJ5vKUrOPsbOPEK7c9pN2MyZuukh9DSIyDt8oBq/TT7VpqpiI2zmCJuvB+1sAYB7V18CACH36hzvHf2SdgCQi3nizhJyz2GPNSndvJuWv94Iuyn/sPfGc2znsPJLzxsa2UzR9BB6Slxe8a62p4C0bKrW8mznMDrDvKUoBQB8t2QBgMealH5Ju6ltAAAIuRkWDr/9ckchF5HWrwBgO/8FfskX4s7ixZE/UU8ihCgcQYnr9ThaerTlle0p9y8BQGxhiuWV7UWiBgA4weVQ/btp6dGu1x99e+ZJu0i/b1p6dFzpUW1NHk2/KazYLI68PDTQV34pQi7mkWd62u7Yem4FgAcN6SzbAPJkW8U3ZnNXUkd5rj1uahtQ8dNmLNcgNKIvG39+2elZZdSFN92eB4ATXM4Op991Dzxq5F0ouh9o+agR4PGle4LYC8jjk03XzQyMlFEXrgV90KuQamXmSCumKsuTWvy8Fe8BgKjtFwAQdxbLehoBoKUoWS7mM1gOpEbfJ7xnaDyn9kacXMwr+SFE3FnssvJDs7krhdxp+j06QrNLhF3gxfa8NH7OAa9t8e6Ru13CrBlmLsa2pM9f3sPa5RbzyZ61fa1U69fIucsreppT7l8Ks/VNDYjX2uzRtJuSLE8W77mnnHJPORmzF5L6O8vGj2nmevf7JQxTJwvHZ5vyD1vP3wwAdEPT9qozRpaeDJajIcuhINU/8witX8yfs/D3UzE3hGa73S5hr7mEf1z3AynXAEDmgwrS/I8jKCkVcWMcHvX8+1dnaai1D3nsb+52fOmemw/KYwtTtDJtpC1TcvaVwXJcFls8/Hmqebft/BiPNY/+V3NZ+aHLyg/JY+8Nqd4bUqdiSgjphsTKM/ZMdrx7pHhQlt6WT1qFFHTXm9KNikQNP7bluhjbcgQlFb3N8e6RpSLuA3nPgepz3qZOF9vzUgPirRlmAZkJuJZ/qsyIX0UhhMaJpc/8qCYtoeK0i7Htp95/IE8us/BIqDjdKhMeXfKnNH7OmZZ/kzxuYWByuPaHfwTs/UVYnSusoaVHWxiYfLBgq1ZfAZpumOURmk0OeG074LVN7cl490iq/9/Djd9Tz1OPYxxWUWUc9LSZEb99RQghNEUwyyOEkC6bNRUb5aBc0d8n6+uawLGDCvnEDgSAoVnVAEw5qIABmVLaPdlAg/0aCKKhOMp+CejRNRBnsH+SERCajWZNlpdLOsQP6gYnlHOlvYJ27i8TG3dAqpkmltNDz5ABZnZKxWSbqOmxnSYfRFNxaMYWNDpDAy/K3H6SERCajWZNlmeaOjPtfSfW91UmEbosmmD30Sft+6pddGc/ljPeFgI9mR6FRFPNr8t6m8zpxtnd1RoJ9XXLNY20kC3rbfpL44XJxwGAdrkmvuNOr1mT5RFCU8SEztRU31cTfYY9g73c3GPyoe718aJsAx0YbI2E0lTf1yyRZj4OpxNmeYSedvqgZ0431kgfbSsDUztDc42EMtFnOjDYmgqlkTgAYKg3+3ImXmODEEK6bOQsL2zm3DntVn/riX8GXfJDSOYRGmkPghBCSOtGyPLizmJ+yRcOS1/3WJPSUpT8RLme3Eqe3J4MAMovPc+988EEpvWk4yKEEBrRCFmeZeO3OPInJ/8EuZjXUf29CXvh+MOJO4tV24MsjvyJuhPZ+E1gXIRmi7jSo5ZXtvOkT/YDjjR+Di09mmoPgtD4qWf5+lvxpO1q7Y243FNO4s6Smhu7M4/QxJ3FLUXJmUdobRXfAIBczMs8QqOOIs1as4+xmwv/SrUHIb1bh+9TfyuerNNJQGEzh3SIpVrCqo07pa8foemUWHkGAG6sOuhoZEV1cRqPGIdVCR5RVHsQjqDE8sr2ic3hicZFOuA/zheXX3qeYeIQuL1MyM2oubE7aGdL7imn0DeVAECyrYXDGkV/D/xnS7+2im+a8g97rj1mOz+mINXP2n0TeX7B2hMPeTdH3MdhyWtUwPaqM9bum0ztlnVUP7qzkuq4COmSpEU7yIOU+5fMDZ7sSvBWmXDTnBXkcZitr+pdycZvAuOi2e63LN9SlNzV+DMAtFacAACWja+Qm2Hl+hzZyrLxY9n48Uu/Im24ezsKqDU7v+zrecvfJbV4hVxkPvfRD5f6hPdMR9mH7RLOYDmybPw6qr+3sAi1nR/TUpRsbOlFdlYdFyHdwBGUHK794VZXpYuxbYCF+4+tuQBAS49+0XH1Z94vP593CABKQj8HgLjSo6Z0I/J5wJN2vVT4+a2uyjVWi0SKPnI/4cTKM8n16ck+r5D7UKru42DE/sz7ZQB4Pu+Qk5H1G67PxZUe7R7ou7HqoL+5GzmQGhfvMv+U+K1i08276ei3N/RNJfm3LLa4t6OAStMAIO4spjPMWTZ+cjFP2HydatYq7iwh3VwFdWl0hjmD5UgFJB8Jo+0jF/PEnSWkcN8rKDS1W0Z2VhsXodmOIyiJKz36umu4MuqCuYGxi7HtbpewBI8oZdSF1ID4k03XX3MJFw08upeGaku/5/MOORixW8JOvuS4xpxuQp5MWrRjqbkL1QRKdWocoYoAAAniSURBVJ+q3hZHIysSsEX6gNNZcjv443nGNvXiNnKg6rjT/jYg7fgtyw/29/ZL2gFA3FlMSuSSh9UMlqOwmdNSlAwAD1v+DQByMa+t4huFvJvOsKAugxmQdgrq0rqbb9ANzVqKkkk1RtxZ0i/tpK6xGb6PatlHyL3KMJtHAqqNi9BsF1d6lCsRbC1IoqVHl4q4nib2eQ9rw2x8ydYDXtvEgzLShpsn7aJa+p3gckQDktSAeEcjK/GgzMvUgQooGpCQLq9q+6yw9CQByT7/7RbhaGQlGpA8w370RVl1XPSU+C3LW7lFCrlXM4/Qmgv/SrpyG1t61dzY3Zx/mCzDTawXy3qayi9FWLtvYlkvbsh+y8k/HgBsF7xYkOrf3XzDev7mbv4tAGDZ+AEAnWHZnH94rs+ro+2jWvZhms2jAqqNi9CsxhGUcCUCZdQF6t9Gu4AmSSfp1EoUdNeHWvkAwMmm62usFpEna/taqX3S2/IDzN3J4xNcDvlIGGOfQtH9zfZBjkZWRaIGcwNjRyMrAOBJu9TGRU+D3+ryTv4JTv4Jqts81x73XHuc+pPtHBb8JyF5TK6LJ1SbtaqeMqV2Hm0f1eCqfWLVxkVoVuse6AOAIlGDv7kbacEKAPOMbQAgrvTo8aV7ACBXWBNq5ZPGzykU3XcwYh+oPhc5dzkA9CqkPGnXyabrIkUfAByoPnfAa1ttX6s9kx1XevQ9z5jR9sl7WLtv/hYAuNSW723qRALWi9vUxkVPA7zDAUJT6xm21xqrRQGZCa7X4+yZ7BiHVR6suU2STssr2xewHhVhgtgL4kqPVvW2/N4x9CzvtpmBsb+5W5iNb0ZH0ersfc+wvZyMrL/mZuyatw4AWPrMU03/WsBycDSyGnEf1bKPPZNNBRw+Lnoa0JTK2XHBYnvVGejOnNidh6vvfusV+PLExq2uyPVad3pixyI0K3AlghP1V99xjZ58qH+03XZmWq+21MBPGvfc++Yd12iN3GVsz71vji58dfJxACCy7LObqz7SSKhpg2t5hBDSZZjlEUJIl82aeyX3dZV31V1rb5pI5yZJT0dJ5gQvyhykmU7sQIQQmglmTZZ3X53svhovn0cIoSeDFRuEENJls2YtjxCaIj0KCaertFn2YPKhmmUPjPUZqe3Zkw9V1Nv4Xv05Y32GRkLtuffN5OMAwMOBPo3EmU6z5kpKhBBCE4AVG4QQ0mWY5RFCSJdhlkcIIV2GWR4hhHQZZnmEENJlmOURmt1cr8fR0qNp6dFFogatTyPl/qWpCB5bmEJeIy09WrvdydP4OdRM0vg5altDsveTTaSN++Rp5F3FLI/QLJbGz+FKBORxKu+WFmdCTUPjXK/HneXdVh0oJHv/FI31RC6256n+WSRquNVVqdkhNPKuYpZHaBYjiYa0lyIdwylk1am68i0SNZCV5uTHTbl/iZYerZptSRss0nBcg1LuXyKZ7vyyRDJEYaj273TiYmwLALnCGtUnyacs2TQeZJ0+/AuBKo28q5jlEZrFyCL388V/BACuRKCaMniyLrWdSY9vjWiVCR+/k0aRpigA4G/ulhV8aJpHV+NsZONibKv2hpNPWWcjm3EGmbpvP2rwDgcIzVakXLvGapG/uduLjqvP8m5fbM8j2TAkez+pHnAlAlp6tIuxbRB7AVX3IMt5ZdQFACgSNQRk/tYK9PyyRNUICR5RAJBcnw4ALsa2jeuOA4Dr9TiSoW51VdLSo9dYLcoKPkSeTPZ5hVp4qn5pIPuQx4mVZ5Lr09dYLXrdNXxrQRJ5sjA0mfQrV+PItKKikQkPfxMSKh71+UnwiEpatIM8pt4Bgjo2jZ9DBj2/LHFrQRI1MTIrsg/1Ssew2T4ouT6desNJ6exFx9V86X98/lHvFUHeH9U5by1I2lqQdH5ZInmsNjHqXU1vyycvh3ohVBDV93xEuJZHaLZKb8sHgEBLDwDYNGcF/Lq0H780fo5qigeArQVJautTKvdxJYLYwpRxhlWrC93qqlQ7a9os7aRSPABszv90xFAxDqvIJw0ADD/JHFuYQqVLAEiuTydbaenRaiXy4Wen36r6TjUO9TIBgCsRjH2Ot1naGeu4BlTecFI6I/8VxpBQcXrsEo3axChZwYdedFxNpgoARaIG8sILQ5MfW8/BLI/QrESd6yPphipokAV+VvChZJ9XAMDF2FYZdaFx3fHUgHiyYIRfq73wa0KhSt4kj6idVFTdRCrRjeuOk8y7xmqRMurC8PrJV40Z1Faqks6VCFSvFeFKBIWhycqoC2SeXIlgtGuEkhbtUEZdoOrdAZkJ5AqWNH4OSbIJHlGqk6SubyFPUscm1V9UDbvZPohMnsQhbxT1zqhVY4bzN3cjp0PIiyIRqP8KlMZ1x6mwZHr53XXx7pHUkpy8+aoHUhNTC5UaEO9ibHuWdzuNn0M+FM8vSxzxC5AarNggNCtRV9SoLcbT2/LHebKuSNRAigmkaEA9r1pz2GwfRB4ss/AY/xcF8vHzums4+ZMqKBV011P7kEITAIRa+4wnpmqxKLk+PdZxTX53HYlDVWlSA+IBYG/53wCA+gYAAG+4PZdQcVrtZCl1FIlDSluqOww/saEmau7yW12VBd31JNFT75Uq1UIQ8dhTGtTEhvtx+VsBmQnkP1ayzyvDP1RGhFkeoVlJ7Yoayq2uyiJRw3iWeJTRauIzEElzoNEzyYTqmYNxinePTKg4fZZ3m3wuki9VqkiKf9FxNfn4iS1MedKSmpqJ/WfCig1Csw91mTwpeqiVJlQvnB/xQg5SG/E3dyP7k8Uv8US/OWqWdo74PCllkLoNGY5kt2UWHuMPTqTcv6R6vSb10jxYc5dbzAeAW12VVCEotjClSNRATlSorqC/bPgZAILYC0YcYnicNH7OOM9AkFd6q6uS+mqiSm3ZPmKKf+w3BlXkrSA1roSK0+P8HRxmeYRmH+oyebXMQhIZWearXp1CcrcHay55JiAzgVQnSJGBXCpD/o3z8j57Jht+rXIM/40SqdVQYcnqe43Voold9606PZK7yQuPcVhFkmxCxWmylaRRquKh9qLIgnq4GIdV5NOOiqNavxpb1Nzlag9UkXfpLO82Cat2Kb3qoI89JQsAsYUp5OMk3j2SJHq1Yt1oMMsjNPuQdEYWrarINR7kzKHq1SmEv7kbyQ6UpEU7qFOyxIhXKw4X7x5JziWOKMZhlVqcFx1XT+widyqjURI8oqhQWcGHVF9jss8r5GNPGXWBfAAQ5MzqGKM0rjuu+nKoGst4pqf2QFXSoh1UZk/2eUXty8SPy98azxAEVe0hv42Id48kL3A8v3HDXlEIIaTLcC2PEEK6DLM8QgjpMszyCCGkyzDLI4SQLsMsjxBCugyzPEII6bL/D1yCmm/ITJuYAAAAAElFTkSuQmCC)"
   ]
  },
  {
   "cell_type": "markdown",
   "metadata": {
    "id": "YGh-mClQ57Ow"
   },
   "source": [
    "이제 자기 자신보다 미래에 있는 단어들은 참고하지 못하도록 다음과 같이 마스킹합니다."
   ]
  },
  {
   "cell_type": "markdown",
   "metadata": {
    "id": "cLQRgN5D59U_"
   },
   "source": [
    "![image.png](data:image/png;base64,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)"
   ]
  },
  {
   "cell_type": "markdown",
   "metadata": {
    "id": "JMHvCX_l6CGA"
   },
   "source": [
    "마스킹 된 후의 어텐션 스코어 행렬의 각 행을 보면 자기 자신과 그 이전 단어들만을 참고할 수 있음을 볼 수 있습니다. 그 외에는 근본적으로 셀프 어텐션이라는 점과, 멀티 헤드 어텐션을 수행한다는 점에서 인코더의 첫번째 서브층과 같습니다.\n",
    "\n",
    "룩-어헤드 마스크의 구현에 대해 알아봅시다. 룩-어헤드 마스크는 패딩 마스크와 마찬가지로 앞서 구현한 스케일드 닷 프로덕트 어텐션 함수에 mask라는 인자로 전달됩니다. 패딩 마스킹을 써야하는 경우에는 스케일드 닷 프로덕트 어텐션 함수에 패딩 마스크를 전달하고, 룩-어헤드 마스킹을 써야하는 경우에는 스케일드 닷 프로덕트 어텐션 함수에 룩-어헤드 마스크를 전달합니다."
   ]
  },
  {
   "cell_type": "markdown",
   "metadata": {
    "id": "DFO6ElvW6GfN"
   },
   "source": [
    "```python\n",
    "    # 스케일드 닷 프로덕트 어텐션 함수를 다시 복습해봅시다.\n",
    "    def scaled_dot_product_attention(query, key, value, mask):\n",
    "        ... 중략 ...\n",
    "        logits += (mask * -1e9) # 어텐션 스코어 행렬인 logits에 mask*-1e9 값을 더해주고 있다.\n",
    "        ... 중략 ...\n",
    "```"
   ]
  },
  {
   "cell_type": "markdown",
   "metadata": {
    "id": "bs3eI6BN6OHc"
   },
   "source": [
    "트랜스포머에는 총 세 가지 어텐션이 존재하며, 모두 멀티 헤드 어텐션을 수행하고, 멀티 헤드 어텐션 함수 내부에서 스케일드 닷 프로덕트 어텐션 함수를 호출하는데 각 어텐션 시 함수에 전달하는 마스킹은 다음과 같습니다.\n",
    "\n",
    "* 인코더의 셀프 어텐션 : 패딩 마스크를 전달\n",
    "* 디코더의 첫번째 서브층인 마스크드 셀프 어텐션 : 룩-어헤드 마스크를 전달 <-- 지금 설명하고 있음.\n",
    "* 디코더의 두번째 서브층인 인코더-디코더 어텐션 : 패딩 마스크를 전달  \n",
    "  \n",
    "이때 룩-어헤드 마스크를 한다고해서 패딩 마스크가 불필요한 것이 아니므로 룩-어헤드 마스크는 패딩 마스크를 포함하도록 구현합니다. 룩-어헤드 마스크를 구현하는 방법은 패딩 마스크 때와 마찬가지로 마스킹을 하고자 하는 위치에는 1을, 마스킹을 하지 않는 위치에는 0을 리턴하도록 합니다."
   ]
  },
  {
   "cell_type": "code",
   "execution_count": null,
   "metadata": {
    "id": "Ng1ysGoJ9mha"
   },
   "outputs": [],
   "source": [
    "# 디코더의 첫번째 서브층(sublayer)에서 미래 토큰을 Mask하는 함수\n",
    "def create_look_ahead_mask(x):\n",
    "  seq_len = tf.shape(x)[1]\n",
    "  look_ahead_mask = 1 - tf.linalg.band_part(tf.ones((seq_len, seq_len)), -1, 0)\n",
    "  padding_mask = create_padding_mask(x) # 패딩 마스크도 포함\n",
    "  return tf.maximum(look_ahead_mask, padding_mask)"
   ]
  },
  {
   "cell_type": "markdown",
   "metadata": {
    "id": "BQK2iq5p6ef1"
   },
   "source": [
    "임의의 정수 시퀀스 입력을 넣어서 결과를 봅시다. 패딩 마스크를 테스트 하기위해 세번째 위치에 정수 0을 넣었습니다."
   ]
  },
  {
   "cell_type": "code",
   "execution_count": null,
   "metadata": {
    "colab": {
     "base_uri": "https://localhost:8080/"
    },
    "executionInfo": {
     "elapsed": 34,
     "status": "ok",
     "timestamp": 1672811527449,
     "user": {
      "displayName": "Jeong-Ho JEON (전정호)",
      "userId": "09770030589626015137"
     },
     "user_tz": -540
    },
    "id": "8HMnIlxu6huD",
    "outputId": "9c87e7f2-438a-4ec6-ec9d-873bf73bb6cd"
   },
   "outputs": [
    {
     "name": "stdout",
     "output_type": "stream",
     "text": [
      "tf.Tensor(\n",
      "[[[[0. 1. 1. 1. 1.]\n",
      "   [0. 0. 1. 1. 1.]\n",
      "   [0. 0. 1. 1. 1.]\n",
      "   [0. 0. 1. 0. 1.]\n",
      "   [0. 0. 1. 0. 0.]]]], shape=(1, 1, 5, 5), dtype=float32)\n"
     ]
    }
   ],
   "source": [
    "print(create_look_ahead_mask(tf.constant([[1, 2, 0, 4, 5]])))"
   ]
  },
  {
   "cell_type": "markdown",
   "metadata": {
    "id": "upsgrOpq7Sw4"
   },
   "source": [
    "룩-어헤드 마스크이므로 삼각형 모양의 마스킹이 형성되면서 패딩 마스크가 포함되어져 있는 세번째 열이 마스킹됩니다."
   ]
  },
  {
   "cell_type": "markdown",
   "metadata": {
    "id": "MfCsKTwj7VYP"
   },
   "source": [
    "---\n",
    "### **14. 디코더의 두번째 서브층 : 인코더-디코더 어텐션**"
   ]
  },
  {
   "cell_type": "markdown",
   "metadata": {
    "id": "UEpjqaLI7aXF"
   },
   "source": [
    "디코더의 두번째 서브층에 대해서 이해해봅시다. 디코더의 두번째 서브층은 멀티 헤드 어텐션을 수행한다는 점에서는 이전의 어텐션들(인코더와 디코더의 첫번째 서브층)과는 공통점이 있으나 이번에는 셀프 어텐션이 아닙니다.\n",
    "\n",
    "셀프 어텐션은 Query, Key, Value가 같은 경우를 말하는데, 인코더-디코더 어텐션은 Query가 디코더인 행렬인 반면, Key와 Value는 인코더 행렬이기 때문입니다. 다시 한 번 각 서브층에서의 Q, K, V의 관계를 정리해봅시다."
   ]
  },
  {
   "cell_type": "markdown",
   "metadata": {
    "id": "L4lXbfEQ7dmn"
   },
   "source": [
    "```yaml\n",
    "    인코더의 첫번째 서브층 : Query = Key = Value\n",
    "    디코더의 첫번째 서브층 : Query = Key = Value\n",
    "    디코더의 두번째 서브층 : Query : 디코더 행렬 / Key = Value : 인코더 행렬\n",
    "```"
   ]
  },
  {
   "cell_type": "markdown",
   "metadata": {
    "id": "Jw4pFQ8x7i2Z"
   },
   "source": [
    "디코더의 두번째 서브층을 확대해보면, 다음과 같이 인코더로부터 두 개의 화살표가 그려져 있습니다."
   ]
  },
  {
   "cell_type": "markdown",
   "metadata": {
    "id": "uE7e3LU_7kYY"
   },
   "source": [
    "![image.png](data:image/png;base64,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)"
   ]
  },
  {
   "cell_type": "markdown",
   "metadata": {
    "id": "7MLO26o27nfL"
   },
   "source": [
    "두 개의 화살표는 각각 Key와 Value를 의미하며 이는 인코더의 마지막 층에서 온 행렬로부터 얻습니다. 반면 Query는 디코더의 첫번째 서브층의 결과 행렬로부터 얻는다는 점이 다릅니다. Query가 디코더 행렬, Key가 인코더 행렬일 때, 어텐션 스코어 행렬을 구하는 과정은 다음과 같습니다."
   ]
  },
  {
   "cell_type": "markdown",
   "metadata": {
    "id": "l_AxhSb17nWT"
   },
   "source": [
    "![image.png](data:image/png;base64,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)"
   ]
  },
  {
   "cell_type": "markdown",
   "metadata": {
    "id": "AobJxJWK7nNV"
   },
   "source": [
    "그 외에 멀티 헤드 어텐션을 수행하는 과정은 다른 어텐션들과 같습니다."
   ]
  },
  {
   "cell_type": "markdown",
   "metadata": {
    "id": "NvO6AX_e7nDo"
   },
   "source": [
    "---\n",
    "### **15. 디코더 구현하기**\n",
    "디코더는 총 세 개의 서브층으로 구성됩니다. 첫번째와 두번째 서브층 모두 멀티 헤드 어텐션이지만, 첫번째 서브층은 mask의 인자값으로 look_ahead_mask가 들어가는 반면, 두번째 서브층은 mask의 인자값으로 padding_mask가 들어가는 것을 확인할 수 있습니다. 이는 첫번째 서브층은 마스크드 셀프 어텐션을 수행하기 때문입니다. 세 개의 서브층 모두 서브층 연산 후에는 드롭 아웃, 잔차 연결, 층 정규화가 수행되는 것을 확인할 수 있습니다."
   ]
  },
  {
   "cell_type": "code",
   "execution_count": null,
   "metadata": {
    "id": "I3QDoLz49oPK"
   },
   "outputs": [],
   "source": [
    "def decoder_layer(dff, d_model, num_heads, dropout, name=\"decoder_layer\"):\n",
    "  inputs = tf.keras.Input(shape=(None, d_model), name=\"inputs\")\n",
    "  enc_outputs = tf.keras.Input(shape=(None, d_model), name=\"encoder_outputs\")\n",
    "\n",
    "  # 디코더는 룩어헤드 마스크(첫번째 서브층)와 패딩 마스크(두번째 서브층) 둘 다 사용.\n",
    "  look_ahead_mask = tf.keras.Input(\n",
    "      shape=(1, None, None), name=\"look_ahead_mask\")\n",
    "  padding_mask = tf.keras.Input(shape=(1, 1, None), name='padding_mask')\n",
    "\n",
    "  # 멀티-헤드 어텐션 (첫번째 서브층 / 마스크드 셀프 어텐션)\n",
    "  attention1 = MultiHeadAttention(\n",
    "      d_model, num_heads, name=\"attention_1\")(inputs={\n",
    "          'query': inputs, 'key': inputs, 'value': inputs, # Q = K = V\n",
    "          'mask': look_ahead_mask # 룩어헤드 마스크\n",
    "      })\n",
    "\n",
    "  # 잔차 연결과 층 정규화\n",
    "  attention1 = tf.keras.layers.LayerNormalization(\n",
    "      epsilon=1e-6)(attention1 + inputs)\n",
    "\n",
    "  # 멀티-헤드 어텐션 (두번째 서브층 / 디코더-인코더 어텐션)\n",
    "  attention2 = MultiHeadAttention(\n",
    "      d_model, num_heads, name=\"attention_2\")(inputs={\n",
    "          'query': attention1, 'key': enc_outputs, 'value': enc_outputs, # Q != K = V\n",
    "          'mask': padding_mask # 패딩 마스크\n",
    "      })\n",
    "\n",
    "  # 드롭아웃 + 잔차 연결과 층 정규화\n",
    "  attention2 = tf.keras.layers.Dropout(rate=dropout)(attention2)\n",
    "  attention2 = tf.keras.layers.LayerNormalization(\n",
    "      epsilon=1e-6)(attention2 + attention1)\n",
    "\n",
    "  # 포지션 와이즈 피드 포워드 신경망 (세번째 서브층)\n",
    "  outputs = tf.keras.layers.Dense(units=dff, activation='relu')(attention2)\n",
    "  outputs = tf.keras.layers.Dense(units=d_model)(outputs)\n",
    "\n",
    "  # 드롭아웃 + 잔차 연결과 층 정규화\n",
    "  outputs = tf.keras.layers.Dropout(rate=dropout)(outputs)\n",
    "  outputs = tf.keras.layers.LayerNormalization(\n",
    "      epsilon=1e-6)(outputs + attention2)\n",
    "\n",
    "  return tf.keras.Model(\n",
    "      inputs=[inputs, enc_outputs, look_ahead_mask, padding_mask],\n",
    "      outputs=outputs,\n",
    "      name=name)"
   ]
  },
  {
   "cell_type": "markdown",
   "metadata": {
    "id": "NBnwECPw773F"
   },
   "source": [
    "인코더와 마찬가지로 디코더도 num_layers개만큼 쌓는 코드가 필요합니다."
   ]
  },
  {
   "cell_type": "markdown",
   "metadata": {
    "id": "nddmB8tr7-Ud"
   },
   "source": [
    "### **16. 디코더 쌓기**\n",
    "포지셔널 인코딩 후 디코더 층을 num_layers의 개수만큼 쌓는 코드입니다."
   ]
  },
  {
   "cell_type": "code",
   "execution_count": null,
   "metadata": {
    "id": "5i9lZmji9qDa"
   },
   "outputs": [],
   "source": [
    "def decoder(vocab_size, num_layers, dff,\n",
    "            d_model, num_heads, dropout,\n",
    "            name='decoder'):\n",
    "  inputs = tf.keras.Input(shape=(None,), name='inputs')\n",
    "  enc_outputs = tf.keras.Input(shape=(None, d_model), name='encoder_outputs')\n",
    "\n",
    "  # 디코더는 룩어헤드 마스크(첫번째 서브층)와 패딩 마스크(두번째 서브층) 둘 다 사용.\n",
    "  look_ahead_mask = tf.keras.Input(\n",
    "      shape=(1, None, None), name='look_ahead_mask')\n",
    "  padding_mask = tf.keras.Input(shape=(1, 1, None), name='padding_mask')\n",
    "\n",
    "  # 포지셔널 인코딩 + 드롭아웃\n",
    "  embeddings = tf.keras.layers.Embedding(vocab_size, d_model)(inputs)\n",
    "  embeddings *= tf.math.sqrt(tf.cast(d_model, tf.float32))\n",
    "  embeddings = PositionalEncoding(vocab_size, d_model)(embeddings)\n",
    "  outputs = tf.keras.layers.Dropout(rate=dropout)(embeddings)\n",
    "\n",
    "  # 디코더를 num_layers개 쌓기\n",
    "  for i in range(num_layers):\n",
    "    outputs = decoder_layer(dff=dff, d_model=d_model, num_heads=num_heads,\n",
    "        dropout=dropout, name='decoder_layer_{}'.format(i),\n",
    "    )(inputs=[outputs, enc_outputs, look_ahead_mask, padding_mask])\n",
    "\n",
    "  return tf.keras.Model(\n",
    "      inputs=[inputs, enc_outputs, look_ahead_mask, padding_mask],\n",
    "      outputs=outputs,\n",
    "      name=name)"
   ]
  },
  {
   "cell_type": "markdown",
   "metadata": {
    "id": "aWYUjRCP8Fyb"
   },
   "source": [
    "---\n",
    "### **17. 트랜스포머 구현하기**\n",
    "지금까지 구현한 인코더와 디코더 함수를 조합하여 트랜스포머를 조립할 차례입니다. 인코더의 출력은 디코더에서 인코더-디코더 어텐션에서 사용되기 위해 디코더로 전달해줍니다. 그리고 디코더의 끝단에는 다중 클래스 분류 문제를 풀 수 있도록, vocab_size 만큼의 뉴런을 가지는 출력층을 추가해줍니다."
   ]
  },
  {
   "cell_type": "code",
   "execution_count": null,
   "metadata": {
    "id": "-GEC6CXF9q7S"
   },
   "outputs": [],
   "source": [
    "def transformer(vocab_size, num_layers, dff,\n",
    "                d_model, num_heads, dropout,\n",
    "                name=\"transformer\"):\n",
    "\n",
    "  # 인코더의 입력\n",
    "  inputs = tf.keras.Input(shape=(None,), name=\"inputs\")\n",
    "\n",
    "  # 디코더의 입력\n",
    "  dec_inputs = tf.keras.Input(shape=(None,), name=\"dec_inputs\")\n",
    "\n",
    "  # 인코더의 패딩 마스크\n",
    "  enc_padding_mask = tf.keras.layers.Lambda(\n",
    "      create_padding_mask, output_shape=(1, 1, None),\n",
    "      name='enc_padding_mask')(inputs)\n",
    "\n",
    "  # 디코더의 룩어헤드 마스크(첫번째 서브층)\n",
    "  look_ahead_mask = tf.keras.layers.Lambda(\n",
    "      create_look_ahead_mask, output_shape=(1, None, None),\n",
    "      name='look_ahead_mask')(dec_inputs)\n",
    "\n",
    "  # 디코더의 패딩 마스크(두번째 서브층)\n",
    "  dec_padding_mask = tf.keras.layers.Lambda(\n",
    "      create_padding_mask, output_shape=(1, 1, None),\n",
    "      name='dec_padding_mask')(inputs)\n",
    "\n",
    "  # 인코더의 출력은 enc_outputs. 디코더로 전달된다.\n",
    "  enc_outputs = encoder(vocab_size=vocab_size, num_layers=num_layers, dff=dff,\n",
    "      d_model=d_model, num_heads=num_heads, dropout=dropout,\n",
    "  )(inputs=[inputs, enc_padding_mask]) # 인코더의 입력은 입력 문장과 패딩 마스크\n",
    "\n",
    "  # 디코더의 출력은 dec_outputs. 출력층으로 전달된다.\n",
    "  dec_outputs = decoder(vocab_size=vocab_size, num_layers=num_layers, dff=dff,\n",
    "      d_model=d_model, num_heads=num_heads, dropout=dropout,\n",
    "  )(inputs=[dec_inputs, enc_outputs, look_ahead_mask, dec_padding_mask])\n",
    "\n",
    "  # 다음 단어 예측을 위한 출력층\n",
    "  outputs = tf.keras.layers.Dense(units=vocab_size, name=\"outputs\")(dec_outputs)\n",
    "\n",
    "  return tf.keras.Model(inputs=[inputs, dec_inputs], outputs=outputs, name=name)"
   ]
  },
  {
   "cell_type": "markdown",
   "metadata": {
    "id": "5punNhQG8SXx"
   },
   "source": [
    "---\n",
    "### **18. 트랜스포머 하이퍼파라미터 정하기**\n",
    "트랜스포머의 하이퍼파라미터를 임의로 정하고 모델을 만들어봅시다. 현재 훈련 데이터가 존재하는 것은 아니지만, 단어 집합의 크기는 임의로 9,000으로 정합니다. 단어 집합의 크기로부터 룩업 테이블을 수행할 임베딩 테이블과 포지셔널 인코딩 행렬의 행의 크기를 결정할 수 있습니다.\n",
    "\n",
    "논문에서 제시한 것과는 다르게 하이퍼파라미터를 정해보겠습니다. 인코더와 디코더의 층의 개수 $\\text{num\\_layers}$는 4개, 인코더와 디코더의 포지션 와이즈 피드 포워드 신경망의 은닉층 $d_{ff}$은 128, 인코더와 디코더의 입, 출력의 차원 $d_{model}$은 128, 멀티-헤드 어텐션에서 병렬적으로 사용할 헤드의 수 $\\text{num\\_heads}$는 4로 정했습니다. 128/4의 값인 32가 $d_{v}$의 값이 되겠습니다."
   ]
  },
  {
   "cell_type": "code",
   "execution_count": null,
   "metadata": {
    "id": "OBRfZiit9tbX"
   },
   "outputs": [],
   "source": [
    "# from google.colab import drive\n",
    "# drive.mount('/content/drive')"
   ]
  },
  {
   "cell_type": "code",
   "execution_count": null,
   "metadata": {
    "id": "8ZcdtmA80JyQ"
   },
   "outputs": [],
   "source": [
    "# !pip install pydot"
   ]
  },
  {
   "cell_type": "code",
   "execution_count": null,
   "metadata": {
    "colab": {
     "base_uri": "https://localhost:8080/",
     "height": 393
    },
    "executionInfo": {
     "elapsed": 9165,
     "status": "ok",
     "timestamp": 1672811558781,
     "user": {
      "displayName": "Jeong-Ho JEON (전정호)",
      "userId": "09770030589626015137"
     },
     "user_tz": -540
    },
    "id": "ori23vQy9sRq",
    "outputId": "d383d71d-5003-4750-f540-530a1611e2ea"
   },
   "outputs": [
    {
     "name": "stdout",
     "output_type": "stream",
     "text": [
      "(1, 9000, 128)\n",
      "(1, 9000, 128)\n",
      "You must install pydot (`pip install pydot`) for `plot_model` to work.\n"
     ]
    }
   ],
   "source": [
    "small_transformer = transformer(\n",
    "    vocab_size = 9000,\n",
    "    num_layers = 4,\n",
    "    dff = 512,\n",
    "    d_model = 128,\n",
    "    num_heads = 4,\n",
    "    dropout = 0.3,\n",
    "    name=\"small_transformer\")\n",
    "\n",
    "tf.keras.utils.plot_model(\n",
    "    small_transformer, to_file='small_transformer.png', show_shapes=True)\n",
    "    # small_transformer, to_file='/content/drive/MyDrive/0000 강의 관련/0000 강의 교안/00 자연어처리, 챗봇/000 딥러닝을 이용한 자연어 처리 입문/tensorflow-nlp-tutorial/16. Transformer (Chatbot)/small_transformer.png', show_shapes=True)"
   ]
  },
  {
   "cell_type": "markdown",
   "metadata": {
    "id": "nJQB2uud__U-"
   },
   "source": [
    "---\n",
    "### **19. 손실 함수 정의하기**\n",
    "다중 클래스 분류 문제를 풀 예정이므로 크로스 엔트로피 함수를 손실 함수로 정의합니다."
   ]
  },
  {
   "cell_type": "code",
   "execution_count": null,
   "metadata": {
    "id": "7DgCW2_k-8KM"
   },
   "outputs": [],
   "source": [
    "def loss_function(y_true, y_pred):\n",
    "  y_true = tf.reshape(y_true, shape=(-1, MAX_LENGTH - 1))\n",
    "\n",
    "  loss = tf.keras.losses.SparseCategoricalCrossentropy(\n",
    "      from_logits=True, reduction='none')(y_true, y_pred)\n",
    "\n",
    "  mask = tf.cast(tf.not_equal(y_true, 0), tf.float32)\n",
    "  loss = tf.multiply(loss, mask)\n",
    "\n",
    "  return tf.reduce_mean(loss)"
   ]
  },
  {
   "cell_type": "markdown",
   "metadata": {
    "id": "3FlQWEhSALQw"
   },
   "source": [
    "---\n",
    "### **20. 학습률**\n",
    "학습률 스케줄러(Learning rate Scheduler)는 미리 학습 일정을 정해두고 그 일정에 따라 학습률이 조정되는 방법입니다. 트랜스포머의 경우 사용자가 정한 단계까지는 학습률을 증가시켰다가 단계에 이르면 학습률을 점차적으로 떨어트리는 방식을 사용합니다. 좀 더 구체적으로 봅시다. step_num(단계)이란 옵티마이저가 매개변수를 업데이트 하는 한 번의 진행 횟수를 의미합니다. 트랜스포머에서는 warmup_steps이라는 변수를 정하고 step_num이 warmup_steps보다 작을 경우는 학습률을 선형적으로 증가 시키고, step_num이 warmup_steps에 도달하게 되면 학습률을 step_num의 역제곱근에 따라서 감소시킵니다. 이를 식으로 표현하면 아래와 같습니다. warmup_steps의 값으로는 4,000을 사용하였습니다."
   ]
  },
  {
   "cell_type": "markdown",
   "metadata": {
    "id": "EKSYjSYaAPtx"
   },
   "source": [
    "$$\\Large{lrate = d_{model}^{-0.5} × min(\\text{step\\_num}^{-0.5},\\ \\text{step\\_num} × \\text{warmup\\_steps}^{-1.5})}$$"
   ]
  },
  {
   "cell_type": "code",
   "execution_count": null,
   "metadata": {
    "id": "kkkz7qka_tSU"
   },
   "outputs": [],
   "source": [
    "class CustomSchedule(tf.keras.optimizers.schedules.LearningRateSchedule):\n",
    "\n",
    "  def __init__(self, d_model, warmup_steps=4000):\n",
    "    super(CustomSchedule, self).__init__()\n",
    "    self.d_model = d_model\n",
    "    self.d_model = tf.cast(self.d_model, tf.float32)\n",
    "    self.warmup_steps = warmup_steps\n",
    "\n",
    "  def __call__(self, step):\n",
    "    arg1 = tf.math.rsqrt(step)\n",
    "    arg2 = step * (self.warmup_steps**-1.5)\n",
    "\n",
    "    return tf.math.rsqrt(self.d_model) * tf.math.minimum(arg1, arg2)"
   ]
  },
  {
   "cell_type": "markdown",
   "metadata": {
    "id": "OMQjaHmhAaxT"
   },
   "source": [
    "학습률의 변화를 시각화해봅시다."
   ]
  },
  {
   "cell_type": "code",
   "execution_count": null,
   "metadata": {
    "colab": {
     "base_uri": "https://localhost:8080/",
     "height": 297
    },
    "executionInfo": {
     "elapsed": 20,
     "status": "ok",
     "timestamp": 1672811558784,
     "user": {
      "displayName": "Jeong-Ho JEON (전정호)",
      "userId": "09770030589626015137"
     },
     "user_tz": -540
    },
    "id": "k4lA_Efe_uOx",
    "outputId": "3a6f8fdf-e08d-4c23-d5df-30ae41c71822"
   },
   "outputs": [
    {
     "data": {
      "text/plain": [
       "Text(0.5, 0, 'Train Step')"
      ]
     },
     "execution_count": 67,
     "metadata": {},
     "output_type": "execute_result"
    },
    {
     "data": {
      "image/png": "[encoded data removed]",
      "text/plain": [
       "<Figure size 640x480 with 1 Axes>"
      ]
     },
     "metadata": {},
     "output_type": "display_data"
    }
   ],
   "source": [
    "sample_learning_rate = CustomSchedule(d_model=128)\n",
    "\n",
    "plt.plot(sample_learning_rate(tf.range(200000, dtype=tf.float32)))\n",
    "plt.ylabel(\"Learning Rate\")\n",
    "plt.xlabel(\"Train Step\")"
   ]
  },
  {
   "cell_type": "markdown",
   "metadata": {
    "id": "6RP2BwQUAi_d"
   },
   "source": [
    "여기서 구현한 트랜스포머 모델을 바탕으로 다음 실습에서 한국어 챗봇을 만들어보겠습니다.\n",
    "\n",
    "논문에서는 언급되지 않은 트랜스포머의 구현 이야기가 궁금하시다면 아래 링크를 참고하세요.\n",
    "\n",
    "* 링크 : https://tunz.kr/post/4"
   ]
  },
  {
   "cell_type": "markdown",
   "metadata": {
    "id": "w9tpZXei_1xK"
   },
   "source": [
    "---\n",
    "# 챗봇 구현"
   ]
  },
  {
   "cell_type": "markdown",
   "metadata": {
    "id": "vmYki0ahVCXb"
   },
   "source": [
    "## **16-02 트랜스포머를 이용한 한국어 챗봇(Transformer Chatbot Tutorial)**"
   ]
  },
  {
   "cell_type": "markdown",
   "metadata": {
    "id": "ogmnhhKaVGyK"
   },
   "source": [
    "앞서 구현한 트랜스포머 코드를 사용하여 일상 대화 챗봇을 구현합니다. **이번 실습은 바로 이전의 트랜스포머 실습 코드를 모두 실행하였다고 가정**하므로 이전 트랜스포머 실습을 진행 후에 이어서 진행해야 합니다.\n",
    "\n",
    "트랜스포머 챗봇 전체 코드는 아래의 링크에 공유합니다.\n",
    "\n",
    "* 깃허브 링크 : https://github.com/ukairia777/tensorflow-transformer"
   ]
  },
  {
   "cell_type": "markdown",
   "metadata": {
    "id": "uTu0vec0VK8W"
   },
   "source": [
    "### **1. 데이터 로드하기**"
   ]
  },
  {
   "cell_type": "code",
   "execution_count": null,
   "metadata": {
    "id": "pKYxCOLO0JyW"
   },
   "outputs": [],
   "source": [
    "# !pip install tensorflow-datasets"
   ]
  },
  {
   "cell_type": "code",
   "execution_count": null,
   "metadata": {
    "id": "M5W2D7Uq_u_x"
   },
   "outputs": [],
   "source": [
    "import pandas as pd\n",
    "import urllib.request\n",
    "import tensorflow_datasets as tfds\n",
    "import tensorflow as tf\n",
    "import time\n",
    "import numpy as np\n",
    "import matplotlib.pyplot as plt\n",
    "import re"
   ]
  },
  {
   "cell_type": "markdown",
   "metadata": {
    "id": "Ob8mJT2hVPyj"
   },
   "source": [
    "챗봇 데이터를 로드하여 상위 5개의 샘플을 출력해봅시다."
   ]
  },
  {
   "cell_type": "code",
   "execution_count": null,
   "metadata": {
    "colab": {
     "base_uri": "https://localhost:8080/",
     "height": 423
    },
    "executionInfo": {
     "elapsed": 602,
     "status": "ok",
     "timestamp": 1749776709881,
     "user": {
      "displayName": "전정호",
      "userId": "01748710418857244015"
     },
     "user_tz": -540
    },
    "id": "t7ku6KRb_545",
    "outputId": "8783f1de-15b3-45d9-b2b2-433c22890b7e"
   },
   "outputs": [
    {
     "data": {
      "application/vnd.google.colaboratory.intrinsic+json": {
       "summary": "{\n  \"name\": \"train_data\",\n  \"rows\": 11823,\n  \"fields\": [\n    {\n      \"column\": \"Q\",\n      \"properties\": {\n        \"dtype\": \"string\",\n        \"num_unique_values\": 11662,\n        \"samples\": [\n          \"\\uc0ac\\ub791\\ud558\\ub294 \\uc0ac\\ub78c \\uc78a\\ub294 \\ubc95\",\n          \"\\uc220 \\uc548 \\uba39\\uc73c\\uba74 \\uce5c\\uad6c\\ub791 \\ubb50\\ud558\\uc9c0\",\n          \"\\uc9dd\\ub0a8\\uc774 \\uace0\\uc2dc\\uc0dd\\uc774\\uba74 \\uae30\\ub2e4\\ub824\\uc57c \\ud558\\ub098\\uc694?\"\n        ],\n        \"semantic_type\": \"\",\n        \"description\": \"\"\n      }\n    },\n    {\n      \"column\": \"A\",\n      \"properties\": {\n        \"dtype\": \"string\",\n        \"num_unique_values\": 7779,\n        \"samples\": [\n          \"\\uc720\\uba38\\ucf54\\ub4dc\\uac00 \\ub9de\\ub294 \\uc0ac\\ub78c\\uc744 \\ucc3e\\uc544\\ubcf4\\uc138\\uc694.\",\n          \"\\uc5ec\\ud589\\uc744 \\ub5a0\\ub098 \\ubcf4\\uc138\\uc694.\",\n          \"\\ud589\\ubcf5\\ud560 \\uac70\\ub77c \\uc0dd\\uac01\\ud574\\uc694.\"\n        ],\n        \"semantic_type\": \"\",\n        \"description\": \"\"\n      }\n    },\n    {\n      \"column\": \"label\",\n      \"properties\": {\n        \"dtype\": \"number\",\n        \"std\": 0,\n        \"min\": 0,\n        \"max\": 2,\n        \"num_unique_values\": 3,\n        \"samples\": [\n          0,\n          1,\n          2\n        ],\n        \"semantic_type\": \"\",\n        \"description\": \"\"\n      }\n    }\n  ]\n}",
       "type": "dataframe",
       "variable_name": "train_data"
      },
      "text/html": [
       "\n",
       "  <div id=\"df-7a00d924-9ec8-46ae-bba9-7cfdcab73bf2\" class=\"colab-df-container\">\n",
       "    <div>\n",
       "<style scoped>\n",
       "    .dataframe tbody tr th:only-of-type {\n",
       "        vertical-align: middle;\n",
       "    }\n",
       "\n",
       "    .dataframe tbody tr th {\n",
       "        vertical-align: top;\n",
       "    }\n",
       "\n",
       "    .dataframe thead th {\n",
       "        text-align: right;\n",
       "    }\n",
       "</style>\n",
       "<table border=\"1\" class=\"dataframe\">\n",
       "  <thead>\n",
       "    <tr style=\"text-align: right;\">\n",
       "      <th></th>\n",
       "      <th>Q</th>\n",
       "      <th>A</th>\n",
       "      <th>label</th>\n",
       "    </tr>\n",
       "  </thead>\n",
       "  <tbody>\n",
       "    <tr>\n",
       "      <th>0</th>\n",
       "      <td>12시 땡!</td>\n",
       "      <td>하루가 또 가네요.</td>\n",
       "      <td>0</td>\n",
       "    </tr>\n",
       "    <tr>\n",
       "      <th>1</th>\n",
       "      <td>1지망 학교 떨어졌어</td>\n",
       "      <td>위로해 드립니다.</td>\n",
       "      <td>0</td>\n",
       "    </tr>\n",
       "    <tr>\n",
       "      <th>2</th>\n",
       "      <td>3박4일 놀러가고 싶다</td>\n",
       "      <td>여행은 언제나 좋죠.</td>\n",
       "      <td>0</td>\n",
       "    </tr>\n",
       "    <tr>\n",
       "      <th>3</th>\n",
       "      <td>3박4일 정도 놀러가고 싶다</td>\n",
       "      <td>여행은 언제나 좋죠.</td>\n",
       "      <td>0</td>\n",
       "    </tr>\n",
       "    <tr>\n",
       "      <th>4</th>\n",
       "      <td>PPL 심하네</td>\n",
       "      <td>눈살이 찌푸려지죠.</td>\n",
       "      <td>0</td>\n",
       "    </tr>\n",
       "    <tr>\n",
       "      <th>...</th>\n",
       "      <td>...</td>\n",
       "      <td>...</td>\n",
       "      <td>...</td>\n",
       "    </tr>\n",
       "    <tr>\n",
       "      <th>11818</th>\n",
       "      <td>훔쳐보는 것도 눈치 보임.</td>\n",
       "      <td>티가 나니까 눈치가 보이는 거죠!</td>\n",
       "      <td>2</td>\n",
       "    </tr>\n",
       "    <tr>\n",
       "      <th>11819</th>\n",
       "      <td>훔쳐보는 것도 눈치 보임.</td>\n",
       "      <td>훔쳐보는 거 티나나봐요.</td>\n",
       "      <td>2</td>\n",
       "    </tr>\n",
       "    <tr>\n",
       "      <th>11820</th>\n",
       "      <td>흑기사 해주는 짝남.</td>\n",
       "      <td>설렜겠어요.</td>\n",
       "      <td>2</td>\n",
       "    </tr>\n",
       "    <tr>\n",
       "      <th>11821</th>\n",
       "      <td>힘든 연애 좋은 연애라는게 무슨 차이일까?</td>\n",
       "      <td>잘 헤어질 수 있는 사이 여부인 거 같아요.</td>\n",
       "      <td>2</td>\n",
       "    </tr>\n",
       "    <tr>\n",
       "      <th>11822</th>\n",
       "      <td>힘들어서 결혼할까봐</td>\n",
       "      <td>도피성 결혼은 하지 않길 바라요.</td>\n",
       "      <td>2</td>\n",
       "    </tr>\n",
       "  </tbody>\n",
       "</table>\n",
       "<p>11823 rows × 3 columns</p>\n",
       "</div>\n",
       "    <div class=\"colab-df-buttons\">\n",
       "\n",
       "  <div class=\"colab-df-container\">\n",
       "    <button class=\"colab-df-convert\" onclick=\"convertToInteractive('df-7a00d924-9ec8-46ae-bba9-7cfdcab73bf2')\"\n",
       "            title=\"Convert this dataframe to an interactive table.\"\n",
       "            style=\"display:none;\">\n",
       "\n",
       "  <svg xmlns=\"http://www.w3.org/2000/svg\" height=\"24px\" viewBox=\"0 -960 960 960\">\n",
       "    <path d=\"M120-120v-720h720v720H120Zm60-500h600v-160H180v160Zm220 220h160v-160H400v160Zm0 220h160v-160H400v160ZM180-400h160v-160H180v160Zm440 0h160v-160H620v160ZM180-180h160v-160H180v160Zm440 0h160v-160H620v160Z\"/>\n",
       "  </svg>\n",
       "    </button>\n",
       "\n",
       "  <style>\n",
       "    .colab-df-container {\n",
       "      display:flex;\n",
       "      gap: 12px;\n",
       "    }\n",
       "\n",
       "    .colab-df-convert {\n",
       "      background-color: #E8F0FE;\n",
       "      border: none;\n",
       "      border-radius: 50%;\n",
       "      cursor: pointer;\n",
       "      display: none;\n",
       "      fill: #1967D2;\n",
       "      height: 32px;\n",
       "      padding: 0 0 0 0;\n",
       "      width: 32px;\n",
       "    }\n",
       "\n",
       "    .colab-df-convert:hover {\n",
       "      background-color: #E2EBFA;\n",
       "      box-shadow: 0px 1px 2px rgba(60, 64, 67, 0.3), 0px 1px 3px 1px rgba(60, 64, 67, 0.15);\n",
       "      fill: #174EA6;\n",
       "    }\n",
       "\n",
       "    .colab-df-buttons div {\n",
       "      margin-bottom: 4px;\n",
       "    }\n",
       "\n",
       "    [theme=dark] .colab-df-convert {\n",
       "      background-color: #3B4455;\n",
       "      fill: #D2E3FC;\n",
       "    }\n",
       "\n",
       "    [theme=dark] .colab-df-convert:hover {\n",
       "      background-color: #434B5C;\n",
       "      box-shadow: 0px 1px 3px 1px rgba(0, 0, 0, 0.15);\n",
       "      filter: drop-shadow(0px 1px 2px rgba(0, 0, 0, 0.3));\n",
       "      fill: #FFFFFF;\n",
       "    }\n",
       "  </style>\n",
       "\n",
       "    <script>\n",
       "      const buttonEl =\n",
       "        document.querySelector('#df-7a00d924-9ec8-46ae-bba9-7cfdcab73bf2 button.colab-df-convert');\n",
       "      buttonEl.style.display =\n",
       "        google.colab.kernel.accessAllowed ? 'block' : 'none';\n",
       "\n",
       "      async function convertToInteractive(key) {\n",
       "        const element = document.querySelector('#df-7a00d924-9ec8-46ae-bba9-7cfdcab73bf2');\n",
       "        const dataTable =\n",
       "          await google.colab.kernel.invokeFunction('convertToInteractive',\n",
       "                                                    [key], {});\n",
       "        if (!dataTable) return;\n",
       "\n",
       "        const docLinkHtml = 'Like what you see? Visit the ' +\n",
       "          '<a target=\"_blank\" href=https://colab.research.google.com/notebooks/data_table.ipynb>data table notebook</a>'\n",
       "          + ' to learn more about interactive tables.';\n",
       "        element.innerHTML = '';\n",
       "        dataTable['output_type'] = 'display_data';\n",
       "        await google.colab.output.renderOutput(dataTable, element);\n",
       "        const docLink = document.createElement('div');\n",
       "        docLink.innerHTML = docLinkHtml;\n",
       "        element.appendChild(docLink);\n",
       "      }\n",
       "    </script>\n",
       "  </div>\n",
       "\n",
       "\n",
       "    <div id=\"df-663dbb1c-007e-4ddc-814f-dc21cf9b6f50\">\n",
       "      <button class=\"colab-df-quickchart\" onclick=\"quickchart('df-663dbb1c-007e-4ddc-814f-dc21cf9b6f50')\"\n",
       "                title=\"Suggest charts\"\n",
       "                style=\"display:none;\">\n",
       "\n",
       "<svg xmlns=\"http://www.w3.org/2000/svg\" height=\"24px\"viewBox=\"0 0 24 24\"\n",
       "     width=\"24px\">\n",
       "    <g>\n",
       "        <path d=\"M19 3H5c-1.1 0-2 .9-2 2v14c0 1.1.9 2 2 2h14c1.1 0 2-.9 2-2V5c0-1.1-.9-2-2-2zM9 17H7v-7h2v7zm4 0h-2V7h2v10zm4 0h-2v-4h2v4z\"/>\n",
       "    </g>\n",
       "</svg>\n",
       "      </button>\n",
       "\n",
       "<style>\n",
       "  .colab-df-quickchart {\n",
       "      --bg-color: #E8F0FE;\n",
       "      --fill-color: #1967D2;\n",
       "      --hover-bg-color: #E2EBFA;\n",
       "      --hover-fill-color: #174EA6;\n",
       "      --disabled-fill-color: #AAA;\n",
       "      --disabled-bg-color: #DDD;\n",
       "  }\n",
       "\n",
       "  [theme=dark] .colab-df-quickchart {\n",
       "      --bg-color: #3B4455;\n",
       "      --fill-color: #D2E3FC;\n",
       "      --hover-bg-color: #434B5C;\n",
       "      --hover-fill-color: #FFFFFF;\n",
       "      --disabled-bg-color: #3B4455;\n",
       "      --disabled-fill-color: #666;\n",
       "  }\n",
       "\n",
       "  .colab-df-quickchart {\n",
       "    background-color: var(--bg-color);\n",
       "    border: none;\n",
       "    border-radius: 50%;\n",
       "    cursor: pointer;\n",
       "    display: none;\n",
       "    fill: var(--fill-color);\n",
       "    height: 32px;\n",
       "    padding: 0;\n",
       "    width: 32px;\n",
       "  }\n",
       "\n",
       "  .colab-df-quickchart:hover {\n",
       "    background-color: var(--hover-bg-color);\n",
       "    box-shadow: 0 1px 2px rgba(60, 64, 67, 0.3), 0 1px 3px 1px rgba(60, 64, 67, 0.15);\n",
       "    fill: var(--button-hover-fill-color);\n",
       "  }\n",
       "\n",
       "  .colab-df-quickchart-complete:disabled,\n",
       "  .colab-df-quickchart-complete:disabled:hover {\n",
       "    background-color: var(--disabled-bg-color);\n",
       "    fill: var(--disabled-fill-color);\n",
       "    box-shadow: none;\n",
       "  }\n",
       "\n",
       "  .colab-df-spinner {\n",
       "    border: 2px solid var(--fill-color);\n",
       "    border-color: transparent;\n",
       "    border-bottom-color: var(--fill-color);\n",
       "    animation:\n",
       "      spin 1s steps(1) infinite;\n",
       "  }\n",
       "\n",
       "  @keyframes spin {\n",
       "    0% {\n",
       "      border-color: transparent;\n",
       "      border-bottom-color: var(--fill-color);\n",
       "      border-left-color: var(--fill-color);\n",
       "    }\n",
       "    20% {\n",
       "      border-color: transparent;\n",
       "      border-left-color: var(--fill-color);\n",
       "      border-top-color: var(--fill-color);\n",
       "    }\n",
       "    30% {\n",
       "      border-color: transparent;\n",
       "      border-left-color: var(--fill-color);\n",
       "      border-top-color: var(--fill-color);\n",
       "      border-right-color: var(--fill-color);\n",
       "    }\n",
       "    40% {\n",
       "      border-color: transparent;\n",
       "      border-right-color: var(--fill-color);\n",
       "      border-top-color: var(--fill-color);\n",
       "    }\n",
       "    60% {\n",
       "      border-color: transparent;\n",
       "      border-right-color: var(--fill-color);\n",
       "    }\n",
       "    80% {\n",
       "      border-color: transparent;\n",
       "      border-right-color: var(--fill-color);\n",
       "      border-bottom-color: var(--fill-color);\n",
       "    }\n",
       "    90% {\n",
       "      border-color: transparent;\n",
       "      border-bottom-color: var(--fill-color);\n",
       "    }\n",
       "  }\n",
       "</style>\n",
       "\n",
       "      <script>\n",
       "        async function quickchart(key) {\n",
       "          const quickchartButtonEl =\n",
       "            document.querySelector('#' + key + ' button');\n",
       "          quickchartButtonEl.disabled = true;  // To prevent multiple clicks.\n",
       "          quickchartButtonEl.classList.add('colab-df-spinner');\n",
       "          try {\n",
       "            const charts = await google.colab.kernel.invokeFunction(\n",
       "                'suggestCharts', [key], {});\n",
       "          } catch (error) {\n",
       "            console.error('Error during call to suggestCharts:', error);\n",
       "          }\n",
       "          quickchartButtonEl.classList.remove('colab-df-spinner');\n",
       "          quickchartButtonEl.classList.add('colab-df-quickchart-complete');\n",
       "        }\n",
       "        (() => {\n",
       "          let quickchartButtonEl =\n",
       "            document.querySelector('#df-663dbb1c-007e-4ddc-814f-dc21cf9b6f50 button');\n",
       "          quickchartButtonEl.style.display =\n",
       "            google.colab.kernel.accessAllowed ? 'block' : 'none';\n",
       "        })();\n",
       "      </script>\n",
       "    </div>\n",
       "\n",
       "  <div id=\"id_858b5d84-7130-4eaa-bad5-f26f51f252d8\">\n",
       "    <style>\n",
       "      .colab-df-generate {\n",
       "        background-color: #E8F0FE;\n",
       "        border: none;\n",
       "        border-radius: 50%;\n",
       "        cursor: pointer;\n",
       "        display: none;\n",
       "        fill: #1967D2;\n",
       "        height: 32px;\n",
       "        padding: 0 0 0 0;\n",
       "        width: 32px;\n",
       "      }\n",
       "\n",
       "      .colab-df-generate:hover {\n",
       "        background-color: #E2EBFA;\n",
       "        box-shadow: 0px 1px 2px rgba(60, 64, 67, 0.3), 0px 1px 3px 1px rgba(60, 64, 67, 0.15);\n",
       "        fill: #174EA6;\n",
       "      }\n",
       "\n",
       "      [theme=dark] .colab-df-generate {\n",
       "        background-color: #3B4455;\n",
       "        fill: #D2E3FC;\n",
       "      }\n",
       "\n",
       "      [theme=dark] .colab-df-generate:hover {\n",
       "        background-color: #434B5C;\n",
       "        box-shadow: 0px 1px 3px 1px rgba(0, 0, 0, 0.15);\n",
       "        filter: drop-shadow(0px 1px 2px rgba(0, 0, 0, 0.3));\n",
       "        fill: #FFFFFF;\n",
       "      }\n",
       "    </style>\n",
       "    <button class=\"colab-df-generate\" onclick=\"generateWithVariable('train_data')\"\n",
       "            title=\"Generate code using this dataframe.\"\n",
       "            style=\"display:none;\">\n",
       "\n",
       "  <svg xmlns=\"http://www.w3.org/2000/svg\" height=\"24px\"viewBox=\"0 0 24 24\"\n",
       "       width=\"24px\">\n",
       "    <path d=\"M7,19H8.4L18.45,9,17,7.55,7,17.6ZM5,21V16.75L18.45,3.32a2,2,0,0,1,2.83,0l1.4,1.43a1.91,1.91,0,0,1,.58,1.4,1.91,1.91,0,0,1-.58,1.4L9.25,21ZM18.45,9,17,7.55Zm-12,3A5.31,5.31,0,0,0,4.9,8.1,5.31,5.31,0,0,0,1,6.5,5.31,5.31,0,0,0,4.9,4.9,5.31,5.31,0,0,0,6.5,1,5.31,5.31,0,0,0,8.1,4.9,5.31,5.31,0,0,0,12,6.5,5.46,5.46,0,0,0,6.5,12Z\"/>\n",
       "  </svg>\n",
       "    </button>\n",
       "    <script>\n",
       "      (() => {\n",
       "      const buttonEl =\n",
       "        document.querySelector('#id_858b5d84-7130-4eaa-bad5-f26f51f252d8 button.colab-df-generate');\n",
       "      buttonEl.style.display =\n",
       "        google.colab.kernel.accessAllowed ? 'block' : 'none';\n",
       "\n",
       "      buttonEl.onclick = () => {\n",
       "        google.colab.notebook.generateWithVariable('train_data');\n",
       "      }\n",
       "      })();\n",
       "    </script>\n",
       "  </div>\n",
       "\n",
       "    </div>\n",
       "  </div>\n"
      ],
      "text/plain": [
       "                             Q                         A  label\n",
       "0                       12시 땡!                하루가 또 가네요.      0\n",
       "1                  1지망 학교 떨어졌어                 위로해 드립니다.      0\n",
       "2                 3박4일 놀러가고 싶다               여행은 언제나 좋죠.      0\n",
       "3              3박4일 정도 놀러가고 싶다               여행은 언제나 좋죠.      0\n",
       "4                      PPL 심하네                눈살이 찌푸려지죠.      0\n",
       "...                        ...                       ...    ...\n",
       "11818           훔쳐보는 것도 눈치 보임.        티가 나니까 눈치가 보이는 거죠!      2\n",
       "11819           훔쳐보는 것도 눈치 보임.             훔쳐보는 거 티나나봐요.      2\n",
       "11820              흑기사 해주는 짝남.                    설렜겠어요.      2\n",
       "11821  힘든 연애 좋은 연애라는게 무슨 차이일까?  잘 헤어질 수 있는 사이 여부인 거 같아요.      2\n",
       "11822               힘들어서 결혼할까봐        도피성 결혼은 하지 않길 바라요.      2\n",
       "\n",
       "[11823 rows x 3 columns]"
      ]
     },
     "execution_count": 4,
     "metadata": {},
     "output_type": "execute_result"
    }
   ],
   "source": [
    "urllib.request.urlretrieve(\"https://raw.githubusercontent.com/songys/Chatbot_data/master/ChatbotData.csv\", filename=\"ChatBotData.csv\")\n",
    "\n",
    "train_data = pd.read_csv('ChatBotData.csv')\n",
    "train_data"
   ]
  },
  {
   "cell_type": "code",
   "execution_count": null,
   "metadata": {
    "colab": {
     "base_uri": "https://localhost:8080/"
    },
    "executionInfo": {
     "elapsed": 23,
     "status": "ok",
     "timestamp": 1749776722001,
     "user": {
      "displayName": "전정호",
      "userId": "01748710418857244015"
     },
     "user_tz": -540
    },
    "id": "3hpk8Z-P_6hh",
    "outputId": "09243a21-6b6b-4691-cca3-4f070c5e0324"
   },
   "outputs": [
    {
     "name": "stdout",
     "output_type": "stream",
     "text": [
      "챗봇 샘플의 개수 : 11823\n"
     ]
    }
   ],
   "source": [
    "print('챗봇 샘플의 개수 :', len(train_data))"
   ]
  },
  {
   "cell_type": "markdown",
   "metadata": {
    "id": "0gxAKXwbV31q"
   },
   "source": [
    "총 샘플의 개수는 11,823개입니다. 불필요한 Null 값이 있는지 확인해봅시다."
   ]
  },
  {
   "cell_type": "code",
   "execution_count": null,
   "metadata": {
    "colab": {
     "base_uri": "https://localhost:8080/"
    },
    "executionInfo": {
     "elapsed": 30,
     "status": "ok",
     "timestamp": 1749776726909,
     "user": {
      "displayName": "전정호",
      "userId": "01748710418857244015"
     },
     "user_tz": -540
    },
    "id": "bXg6ws2s_9Ch",
    "outputId": "e1c7f279-7918-4c8d-d9fe-087219222df1"
   },
   "outputs": [
    {
     "name": "stdout",
     "output_type": "stream",
     "text": [
      "Q        0\n",
      "A        0\n",
      "label    0\n",
      "dtype: int64\n"
     ]
    }
   ],
   "source": [
    "print(train_data.isnull().sum())"
   ]
  },
  {
   "cell_type": "markdown",
   "metadata": {
    "id": "uSlxnjIIV-Wi"
   },
   "source": [
    "Null 값은 별도로 존재하지 않습니다. 이번 실습에서는 토큰화를 위해 형태소 분석기를 사용하지 않고, 다른 방법인 학습 기반의 토크나이저를 사용할 것입니다. 그래서 원 데이터에서 ?, ., !와 같은 구두점을 미리 처리해두어야 하는데, 구두점들을 단순히 제거할 수도 있겠지만, 여기서는 구두점 앞에 공백. 즉, 띄어쓰기를 추가하여 다른 문자들과 구분하겠습니다.\n",
    "\n",
    "가령, '12시 땡!' 이라는 문장이 있다면 '12시 땡 !'으로 땡과 !사이에 공백을 추가합니다. 이는 정규 표현식을 사용하여 가능합니다. 이 전처리는 질문 데이터와 답변 데이터 모두에 적용해줍니다."
   ]
  },
  {
   "cell_type": "code",
   "execution_count": null,
   "metadata": {
    "id": "9AKOHALL_9rJ"
   },
   "outputs": [],
   "source": [
    "questions = []\n",
    "for sentence in train_data['Q']:\n",
    "    # 구두점에 대해서 띄어쓰기\n",
    "    # ex) 12시 땡! -> 12시 땡 !\n",
    "    sentence = re.sub(r\"([?.!,])\", r\" \\1 \", sentence)  # 구두점 앞에 공백 추가\n",
    "    sentence = sentence.strip()\n",
    "    questions.append(sentence)"
   ]
  },
  {
   "cell_type": "code",
   "execution_count": null,
   "metadata": {
    "id": "GoJs0Od8_-aB"
   },
   "outputs": [],
   "source": [
    "answers = []\n",
    "for sentence in train_data['A']:\n",
    "    # 구두점에 대해서 띄어쓰기\n",
    "    # ex) 12시 땡! -> 12시 땡 !\n",
    "    sentence = re.sub(r\"([?.!,])\", r\" \\1 \", sentence)\n",
    "    sentence = sentence.strip()\n",
    "    answers.append(sentence)"
   ]
  },
  {
   "cell_type": "markdown",
   "metadata": {
    "id": "CnDYSZSwWDU8"
   },
   "source": [
    "질문과 대답에 대해서 상위 5개만 출력하여 구두점들이 띄어쓰기를 통해 분리되었는지 확인해봅시다."
   ]
  },
  {
   "cell_type": "code",
   "execution_count": null,
   "metadata": {
    "colab": {
     "base_uri": "https://localhost:8080/"
    },
    "executionInfo": {
     "elapsed": 23,
     "status": "ok",
     "timestamp": 1749776730605,
     "user": {
      "displayName": "전정호",
      "userId": "01748710418857244015"
     },
     "user_tz": -540
    },
    "id": "6AS2olsI__KJ",
    "outputId": "1e5d8517-ceca-4567-d72d-b2b3702cbde8"
   },
   "outputs": [
    {
     "data": {
      "text/plain": [
       "11823"
      ]
     },
     "execution_count": 9,
     "metadata": {},
     "output_type": "execute_result"
    }
   ],
   "source": [
    "len(questions)"
   ]
  },
  {
   "cell_type": "code",
   "execution_count": null,
   "metadata": {
    "colab": {
     "base_uri": "https://localhost:8080/"
    },
    "executionInfo": {
     "elapsed": 17,
     "status": "ok",
     "timestamp": 1749776731188,
     "user": {
      "displayName": "전정호",
      "userId": "01748710418857244015"
     },
     "user_tz": -540
    },
    "id": "KM7QxzSG__9B",
    "outputId": "f87e0b02-3750-46c0-f369-1646a8d6b14c"
   },
   "outputs": [
    {
     "name": "stdout",
     "output_type": "stream",
     "text": [
      "['12시 땡 !', '1지망 학교 떨어졌어', '3박4일 놀러가고 싶다', '3박4일 정도 놀러가고 싶다', 'PPL 심하네']\n",
      "['하루가 또 가네요 .', '위로해 드립니다 .', '여행은 언제나 좋죠 .', '여행은 언제나 좋죠 .', '눈살이 찌푸려지죠 .']\n"
     ]
    }
   ],
   "source": [
    "print(questions[:5])\n",
    "print(answers[:5])"
   ]
  },
  {
   "cell_type": "markdown",
   "metadata": {
    "id": "QaoL7968WJcd"
   },
   "source": [
    "'하루가 또 가네요 .'와 같이 구두점 앞에 띄어쓰기가 추가되어 분리된 것을 확인할 수 있습니다."
   ]
  },
  {
   "cell_type": "markdown",
   "metadata": {
    "id": "PSI2lOD9WJLi"
   },
   "source": [
    "---\n",
    "### **2. 단어 집합 생성**\n",
    "앞서 서브워드 토크나이저 챕터에서 배웠던 서브워드텍스트인코더를 사용해봅시다. 자주 사용되는 서브워드 단위로 토큰을 분리하는 토크나이저로 학습 데이터로부터 학습하여 서브워드로 구성된 단어 집합을 생성합니다."
   ]
  },
  {
   "cell_type": "code",
   "execution_count": null,
   "metadata": {
    "colab": {
     "base_uri": "https://localhost:8080/"
    },
    "executionInfo": {
     "elapsed": 22,
     "status": "ok",
     "timestamp": 1749776732930,
     "user": {
      "displayName": "전정호",
      "userId": "01748710418857244015"
     },
     "user_tz": -540
    },
    "id": "KYrBxVk83UeK",
    "outputId": "37248c53-6373-44e1-bfb5-c86f89454611"
   },
   "outputs": [
    {
     "data": {
      "text/plain": [
       "8192"
      ]
     },
     "execution_count": 11,
     "metadata": {},
     "output_type": "execute_result"
    }
   ],
   "source": [
    "2**13"
   ]
  },
  {
   "cell_type": "code",
   "execution_count": null,
   "metadata": {
    "id": "iSYgYFMVABRq"
   },
   "outputs": [],
   "source": [
    "# 서브워드텍스트인코더를 사용하여 질문과 답변을 모두 포함한 단어 집합(Vocabulary) 생성\n",
    "tokenizer = tfds.deprecated.text.SubwordTextEncoder.build_from_corpus(\n",
    "    questions + answers, target_vocab_size=2**13)"
   ]
  },
  {
   "cell_type": "code",
   "execution_count": null,
   "metadata": {
    "colab": {
     "base_uri": "https://localhost:8080/"
    },
    "executionInfo": {
     "elapsed": 78,
     "status": "ok",
     "timestamp": 1749776743415,
     "user": {
      "displayName": "전정호",
      "userId": "01748710418857244015"
     },
     "user_tz": -540
    },
    "id": "NAxZAlZ-55jJ",
    "outputId": "bc6f00e1-bb61-459e-fde9-fba93ef6f935"
   },
   "outputs": [
    {
     "data": {
      "text/plain": [
       "(list,\n",
       " 7921,\n",
       " [' .',\n",
       "  ' ?',\n",
       "  '거예요',\n",
       "  '수_',\n",
       "  '게_',\n",
       "  '너무_',\n",
       "  '더_',\n",
       "  '거_',\n",
       "  '좋아하는_',\n",
       "  '는_',\n",
       "  '이_',\n",
       "  '을_',\n",
       "  '잘_',\n",
       "  '도_',\n",
       "  ' .  ',\n",
       "  '고_',\n",
       "  '요',\n",
       "  '것_',\n",
       "  '많이_',\n",
       "  '안_',\n",
       "  '좋은_',\n",
       "  '같아요',\n",
       "  '한_',\n",
       "  '좀_',\n",
       "  '있어요',\n",
       "  '싶어',\n",
       "  '가_',\n",
       "  '나_',\n",
       "  '에_',\n",
       "  '있을_',\n",
       "  '지_',\n",
       "  '해보세요',\n",
       "  '은_',\n",
       "  '사람_',\n",
       "  '할_',\n",
       "  '해',\n",
       "  '같아',\n",
       "  '네',\n",
       "  '면_',\n",
       "  '건_',\n",
       "  ' !',\n",
       "  '사람이_',\n",
       "  '를_',\n",
       "  '마세요',\n",
       "  '다_',\n",
       "  '하고_',\n",
       "  '지',\n",
       "  '하는_',\n",
       "  '보세요',\n",
       "  '죠',\n",
       "  '어',\n",
       "  '서_',\n",
       "  '내가_',\n",
       "  '의_',\n",
       "  '다',\n",
       "  '내_',\n",
       "  '이제_',\n",
       "  '마음이_',\n",
       "  '나',\n",
       "  '다른_',\n",
       "  '썸_',\n",
       "  '만_',\n",
       "  '그_',\n",
       "  '어떻게_',\n",
       "  '있는_',\n",
       "  '왜_',\n",
       "  '싶다',\n",
       "  '세요',\n",
       "  '다시_',\n",
       "  '시간이_',\n",
       "  '수도_',\n",
       "  '없어',\n",
       "  '것도_',\n",
       "  '또_',\n",
       "  '좋을_',\n",
       "  '오늘_',\n",
       "  '정말_',\n",
       "  '가',\n",
       "  '이',\n",
       "  '같이_',\n",
       "  '네요',\n",
       "  '될_',\n",
       "  '해요',\n",
       "  '자꾸_',\n",
       "  '걸_',\n",
       "  '있어',\n",
       "  '하세요',\n",
       "  '없어요',\n",
       "  '일_',\n",
       "  '제가_',\n",
       "  '길_',\n",
       "  '바랄게요',\n",
       "  '로_',\n",
       "  '까',\n",
       "  '돼요',\n",
       "  '하면_',\n",
       "  '봐요',\n",
       "  '할까',\n",
       "  '때_',\n",
       "  '저도_',\n",
       "  '으로_',\n",
       "  '먼저_',\n",
       "  '있을까',\n",
       "  '에서_',\n",
       "  '주세요',\n",
       "  '그런_',\n",
       "  '헤어진지_',\n",
       "  '이별_',\n",
       "  '될까',\n",
       "  '기_',\n",
       "  '고',\n",
       "  '진짜_',\n",
       "  '나를_',\n",
       "  '야',\n",
       "  '마음을_',\n",
       "  '여자친구가_',\n",
       "  '기',\n",
       "  '좋아요',\n",
       "  '없는_',\n",
       "  '계속_',\n",
       "  '남자친구가_',\n",
       "  '혼자_',\n",
       "  '해도_',\n",
       "  '이별',\n",
       "  '못_',\n",
       "  '드세요',\n",
       "  '줄_',\n",
       "  '않아요',\n",
       "  '먹고_',\n",
       "  '는데_',\n",
       "  '좋죠',\n",
       "  '하지_',\n",
       "  '일이_',\n",
       "  '힘든_',\n",
       "  '아',\n",
       "  '바랍니다',\n",
       "  '마음_',\n",
       "  '그럴_',\n",
       "  '좋아',\n",
       "  '보고_',\n",
       "  '데_',\n",
       "  '돼',\n",
       "  '했어',\n",
       "  '만큼_',\n",
       "  '생각해요',\n",
       "  '말해보세요',\n",
       "  '나봐요',\n",
       "  '자',\n",
       "  '주',\n",
       "  '연락_',\n",
       "  '사랑이_',\n",
       "  '좋겠어요',\n",
       "  '친구가_',\n",
       "  '습니다',\n",
       "  '사람은_',\n",
       "  '뭐_',\n",
       "  '대',\n",
       "  '있으면_',\n",
       "  '무슨_',\n",
       "  '야_',\n",
       "  '아직_',\n",
       "  '많은_',\n",
       "  '과_',\n",
       "  '날_',\n",
       "  '합니다',\n",
       "  '연애_',\n",
       "  '에요',\n",
       "  '안',\n",
       "  '시간_',\n",
       "  '그냥_',\n",
       "  '하',\n",
       "  '인_',\n",
       "  '이렇게_',\n",
       "  '서',\n",
       "  '몰라요',\n",
       "  '는게_',\n",
       "  '예요',\n",
       "  '어떤_',\n",
       "  '수',\n",
       "  '자신을_',\n",
       "  '사랑은_',\n",
       "  '참_',\n",
       "  '보',\n",
       "  '사람을_',\n",
       "  '내',\n",
       "  '구',\n",
       "  '힘드네',\n",
       "  '비',\n",
       "  '던_',\n",
       "  '어떨까요',\n",
       "  '새로운_',\n",
       "  '사람',\n",
       "  '사',\n",
       "  '나만_',\n",
       "  '생각해보세요',\n",
       "  '말고_',\n",
       "  '하게_',\n",
       "  '타는_',\n",
       "  '안돼',\n",
       "  '봐',\n",
       "  '같은_',\n",
       "  ' ,  ',\n",
       "  '중',\n",
       "  '인데_',\n",
       "  '여',\n",
       "  '듯',\n",
       "  '술_',\n",
       "  '랑_',\n",
       "  '는데',\n",
       "  '살_',\n",
       "  '리',\n",
       "  '가고_',\n",
       "  '아니에요',\n",
       "  '생각이_',\n",
       "  '사랑_',\n",
       "  '힘들어',\n",
       "  '해야_',\n",
       "  '짝사랑_',\n",
       "  '으면_',\n",
       "  '말_',\n",
       "  '도',\n",
       "  '좋겠네요',\n",
       "  '전_',\n",
       "  '있는데_',\n",
       "  '사랑하는_',\n",
       "  '부',\n",
       "  '긴_',\n",
       "  '생각을_',\n",
       "  '거라_',\n",
       "  '헤어진_',\n",
       "  '질_',\n",
       "  '지금_',\n",
       "  '연락이_',\n",
       "  '라고_',\n",
       "  '거',\n",
       "  '항상_',\n",
       "  '좋겠다',\n",
       "  '입니다',\n",
       "  '싫어',\n",
       "  '시',\n",
       "  '선물_',\n",
       "  '많아',\n",
       "  '그게_',\n",
       "  '가는_',\n",
       "  '니_',\n",
       "  '나한테_',\n",
       "  '그렇게_',\n",
       "  '한',\n",
       "  '짝남이_',\n",
       "  '저는_',\n",
       "  '이젠_',\n",
       "  '이별을_',\n",
       "  '모르겠어',\n",
       "  '그',\n",
       "  '저',\n",
       "  '볼까',\n",
       "  '바라요',\n",
       "  '면서_',\n",
       "  '겠죠',\n",
       "  '걸까',\n",
       "  '후_',\n",
       "  '차',\n",
       "  '서로_',\n",
       "  '마음에_',\n",
       "  '때가_',\n",
       "  '들',\n",
       "  '나는_',\n",
       "  '않는_',\n",
       "  '만날_',\n",
       "  '데',\n",
       "  '찾아보세요',\n",
       "  '진_',\n",
       "  '무',\n",
       "  '하죠',\n",
       "  '이별은_',\n",
       "  '쉽지_',\n",
       "  '사랑을_',\n",
       "  '보다_',\n",
       "  '라',\n",
       "  '돈_',\n",
       "  '꼭_',\n",
       "  '직접_',\n",
       "  '올_',\n",
       "  '싶은_',\n",
       "  '된_',\n",
       "  '니',\n",
       "  '겠어요',\n",
       "  '가보세요',\n",
       "  '왔어',\n",
       "  '말을_',\n",
       "  '마',\n",
       "  '따라_',\n",
       "  '날',\n",
       "  '괜찮아요',\n",
       "  '겠네요',\n",
       "  '하나',\n",
       "  '충분히_',\n",
       "  '좋겠어',\n",
       "  '있죠',\n",
       "  '해볼까',\n",
       "  '지도_',\n",
       "  '좋을까',\n",
       "  '일',\n",
       "  '않을_',\n",
       "  '소',\n",
       "  '보는_',\n",
       "  '말',\n",
       "  '도움이_',\n",
       "  '대화를_',\n",
       "  ' . ',\n",
       "  '열심히_',\n",
       "  '물어보세요',\n",
       "  '다고_',\n",
       "  '힘들_',\n",
       "  '짝남_',\n",
       "  '인',\n",
       "  '오세요',\n",
       "  '없이_',\n",
       "  '때문에_',\n",
       "  '니까_',\n",
       "  '타',\n",
       "  '음',\n",
       "  '와',\n",
       "  '오래_',\n",
       "  '연애',\n",
       "  '연락을_',\n",
       "  '얼른_',\n",
       "  '봅니다',\n",
       "  '말아요',\n",
       "  '마음의_',\n",
       "  '동',\n",
       "  '데이트_',\n",
       "  '대로_',\n",
       "  '니까요',\n",
       "  '난_',\n",
       "  '친구_',\n",
       "  '져',\n",
       "  '제_',\n",
       "  '연락해보세요',\n",
       "  '사랑의_',\n",
       "  '모',\n",
       "  '만',\n",
       "  '로',\n",
       "  '해서_',\n",
       "  '함께_',\n",
       "  '큰_',\n",
       "  '짝녀가_',\n",
       "  '집에_',\n",
       "  '아직도_',\n",
       "  '시간을_',\n",
       "  '바',\n",
       "  '게',\n",
       "  '히_',\n",
       "  '하네',\n",
       "  '조심하세요',\n",
       "  '조금만_',\n",
       "  '조금_',\n",
       "  '있나봐요',\n",
       "  '오늘도_',\n",
       "  '어요',\n",
       "  '아파',\n",
       "  '생각_',\n",
       "  '볼_',\n",
       "  '면',\n",
       "  '라_',\n",
       "  '들어',\n",
       "  '당신의_',\n",
       "  '내일_',\n",
       "  '결국_',\n",
       "  '함',\n",
       "  '째',\n",
       "  '조금씩_',\n",
       "  '제일_',\n",
       "  '장',\n",
       "  '의',\n",
       "  '요즘_',\n",
       "  '어때',\n",
       "  '않은_',\n",
       "  '남자_',\n",
       "  '하지',\n",
       "  '중요한_',\n",
       "  '신',\n",
       "  '방법',\n",
       "  '래',\n",
       "  '대한_',\n",
       "  '는',\n",
       "  '남',\n",
       "  '건가',\n",
       "  '가장_',\n",
       "  ' ?  ',\n",
       "  '집_',\n",
       "  '제',\n",
       "  '반',\n",
       "  '남자가_',\n",
       "  '그래도_',\n",
       "  '같애',\n",
       "  '갈_',\n",
       "  '중요해요',\n",
       "  '정',\n",
       "  '자신의_',\n",
       "  '없네',\n",
       "  '싶은데_',\n",
       "  '심',\n",
       "  '세',\n",
       "  '살고_',\n",
       "  '사람이랑_',\n",
       "  '되나',\n",
       "  '걸',\n",
       "  '갑자기_',\n",
       "  '잘할_',\n",
       "  '여자가_',\n",
       "  '번_',\n",
       "  '뭘까',\n",
       "  '려',\n",
       "  '겠지',\n",
       "  '헤어지고_',\n",
       "  '해_',\n",
       "  '치',\n",
       "  '차_',\n",
       "  '받아',\n",
       "  '못',\n",
       "  '되는_',\n",
       "  '공',\n",
       "  '결혼_',\n",
       "  '가요',\n",
       "  '짝남한테_',\n",
       "  '지만_',\n",
       "  '주는_',\n",
       "  '일까',\n",
       "  '여행_',\n",
       "  '어떡해',\n",
       "  '싶어요',\n",
       "  '스',\n",
       "  '방법_',\n",
       "  '모르는_',\n",
       "  '매일_',\n",
       "  '기도_',\n",
       "  '했는데_',\n",
       "  '하는게_',\n",
       "  '줘',\n",
       "  '정리가_',\n",
       "  '저랑_',\n",
       "  '엄청_',\n",
       "  '나와',\n",
       "  '같은데_',\n",
       "  '가봐요',\n",
       "  '지금도_',\n",
       "  '전에_',\n",
       "  '자고_',\n",
       "  '이야',\n",
       "  '오',\n",
       "  '여자',\n",
       "  '식',\n",
       "  '생각보다_',\n",
       "  '상',\n",
       "  '사는_',\n",
       "  '분',\n",
       "  '모르겠어요',\n",
       "  '딱_',\n",
       "  '됐어',\n",
       "  '다가_',\n",
       "  '나쁜_',\n",
       "  '한테_',\n",
       "  '카톡_',\n",
       "  '처럼_',\n",
       "  '자주_',\n",
       "  '오늘은_',\n",
       "  '애',\n",
       "  '시작',\n",
       "  '스트레스_',\n",
       "  '받고_',\n",
       "  '머리_',\n",
       "  '되',\n",
       "  '나봐',\n",
       "  '해주세요',\n",
       "  '하는데_',\n",
       "  '친구랑_',\n",
       "  '천천히_',\n",
       "  '질',\n",
       "  '이죠',\n",
       "  '을',\n",
       "  '어제_',\n",
       "  '사랑',\n",
       "  '보면_',\n",
       "  '뭐가_',\n",
       "  '두',\n",
       "  '기분이_',\n",
       "  '기분_',\n",
       "  '확신이_',\n",
       "  '화',\n",
       "  '하기_',\n",
       "  '점점_',\n",
       "  '잠',\n",
       "  '잘하고_',\n",
       "  '있다면_',\n",
       "  '이에요',\n",
       "  '을까',\n",
       "  '와_',\n",
       "  '양',\n",
       "  '사람한테_',\n",
       "  '밥_',\n",
       "  '뭘_',\n",
       "  '맛있게_',\n",
       "  '든_',\n",
       "  '거죠',\n",
       "  '후',\n",
       "  '한달',\n",
       "  '잘',\n",
       "  '자신이_',\n",
       "  '임',\n",
       "  '인연이_',\n",
       "  '으면',\n",
       "  '생각해',\n",
       "  '사세요',\n",
       "  '사랑해',\n",
       "  '사람도_',\n",
       "  '벌써_',\n",
       "  '만에_',\n",
       "  '만나고_',\n",
       "  '라도_',\n",
       "  '들_',\n",
       "  '덜_',\n",
       "  '당신이_',\n",
       "  '당신을_',\n",
       "  '달',\n",
       "  '나서_',\n",
       "  '것',\n",
       "  '힘내세요',\n",
       "  '핸드폰_',\n",
       "  '하나씩_',\n",
       "  '지는_',\n",
       "  '전',\n",
       "  '잘하는_',\n",
       "  '이유가_',\n",
       "  '우리_',\n",
       "  '여자친구_',\n",
       "  '없을_',\n",
       "  '알_',\n",
       "  '쉬운_',\n",
       "  '쉬',\n",
       "  '살',\n",
       "  '사람들이_',\n",
       "  '뿐이에요',\n",
       "  '빨리_',\n",
       "  '미',\n",
       "  '먹',\n",
       "  '러_',\n",
       "  '러',\n",
       "  '깨',\n",
       "  '공부_',\n",
       "  '가서_',\n",
       "  '힘들다',\n",
       "  '해봐요',\n",
       "  '할',\n",
       "  '피',\n",
       "  '진',\n",
       "  '좀',\n",
       "  '조',\n",
       "  '적인_',\n",
       "  '일찍_',\n",
       "  '유',\n",
       "  '연락',\n",
       "  '언젠간_',\n",
       "  '아닌_',\n",
       "  '아_',\n",
       "  '쓰',\n",
       "  '서로에게_',\n",
       "  '생각나',\n",
       "  '사랑에_',\n",
       "  '믿어요',\n",
       "  '몸',\n",
       "  '많았어요',\n",
       "  '만나',\n",
       "  '눈을_',\n",
       "  '네_',\n",
       "  '냐',\n",
       "  '남자친구_',\n",
       "  '군요',\n",
       "  '간다',\n",
       "  '했던_',\n",
       "  '잠시_',\n",
       "  '인지_',\n",
       "  '이런_',\n",
       "  '에는_',\n",
       "  '야지',\n",
       "  '않죠',\n",
       "  '안해',\n",
       "  '설레',\n",
       "  '생각',\n",
       "  '사귀고_',\n",
       "  '방',\n",
       "  '모두_',\n",
       "  '매',\n",
       "  '되지_',\n",
       "  '되길_',\n",
       "  '단',\n",
       "  '남자',\n",
       "  '나도_',\n",
       "  '기가_',\n",
       "  '그만_',\n",
       "  '감',\n",
       "  '필요한_',\n",
       "  '트',\n",
       "  '크',\n",
       "  '좋아할_',\n",
       "  '절',\n",
       "  '재',\n",
       "  '있었나봐요',\n",
       "  '이야기',\n",
       "  '신경쓰지_',\n",
       "  '비_',\n",
       "  '발',\n",
       "  '물_',\n",
       "  '맞는_',\n",
       "  '만나는_',\n",
       "  '마지막_',\n",
       "  '달라고_',\n",
       "  '놀',\n",
       "  '끝나',\n",
       "  '까지_',\n",
       "  '길',\n",
       "  '곳으로_',\n",
       "  '건',\n",
       "  '거나_',\n",
       "  '간',\n",
       "  '힘이_',\n",
       "  '한번_',\n",
       "  '째_',\n",
       "  '줄',\n",
       "  '이별한지_',\n",
       "  '위해_',\n",
       "  '연락하고_',\n",
       "  '여친_',\n",
       "  '여자_',\n",
       "  '에',\n",
       "  '없죠',\n",
       "  '아무래도_',\n",
       "  '아무것도_',\n",
       "  '아니',\n",
       "  '아는_',\n",
       "  '부터_',\n",
       "  '뭐야',\n",
       "  '문',\n",
       "  '못하겠어',\n",
       "  '맞',\n",
       "  '끝',\n",
       "  '괜찮은_',\n",
       "  '관심_',\n",
       "  '거야',\n",
       "  '개',\n",
       "  '짝녀_',\n",
       "  '지금은_',\n",
       "  '주무세요',\n",
       "  '좋아해',\n",
       "  '인가봐요',\n",
       "  '이별이_',\n",
       "  '이나_',\n",
       "  '여친이_',\n",
       "  '알았는데',\n",
       "  '알아',\n",
       "  '않아',\n",
       "  '안나',\n",
       "  '싶네요',\n",
       "  '슬픈_',\n",
       "  '생',\n",
       "  '배',\n",
       "  '반_',\n",
       "  '모든_',\n",
       "  '몇_',\n",
       "  '명',\n",
       "  '먹어야지',\n",
       "  '려_',\n",
       "  '때까지_',\n",
       "  '니다',\n",
       "  '눈이_',\n",
       "  '너',\n",
       "  '날이_',\n",
       "  '기억',\n",
       "  '귀찮아',\n",
       "  '괜찮을까',\n",
       "  '곧_',\n",
       "  '고민',\n",
       "  '건지_',\n",
       "  '같은데',\n",
       "  '감기_',\n",
       "  '가끔_',\n",
       "  '호',\n",
       "  '하루_',\n",
       "  '필요해요',\n",
       "  '친구를_',\n",
       "  '중에_',\n",
       "  '준비_',\n",
       "  '좋아하면_',\n",
       "  '잔_',\n",
       "  '있나',\n",
       "  '인가',\n",
       "  '이네요',\n",
       "  '으',\n",
       "  '울',\n",
       "  '욕',\n",
       "  '예의가_',\n",
       "  '애가_',\n",
       "  '애_',\n",
       "  '않아도_',\n",
       "  '아픈_',\n",
       "  '사귀는_',\n",
       "  '보내',\n",
       "  '받',\n",
       "  '말이_',\n",
       "  '많아요',\n",
       "  '만났어',\n",
       "  '따',\n",
       "  '당',\n",
       "  '늦지_',\n",
       "  '남친_',\n",
       "  '나중에_',\n",
       "  '금방_',\n",
       "  '경',\n",
       "  '강',\n",
       "  '가져보세요',\n",
       "  '힘들게_',\n",
       "  '힘들',\n",
       "  '확인해보세요',\n",
       "  '헤어졌습니다',\n",
       "  '편이_',\n",
       "  '좋아하게_',\n",
       "  '잡',\n",
       "  '있습니다',\n",
       "  '일을_',\n",
       "  '우',\n",
       "  '없네요',\n",
       "  '실',\n",
       "  '살펴보세요',\n",
       "  '사진_',\n",
       "  '사랑했던_',\n",
       "  '미리_',\n",
       "  '맘_',\n",
       "  '라면_',\n",
       "  '되네',\n",
       "  '데이트',\n",
       "  '당신은_',\n",
       "  '남편이_',\n",
       "  '난',\n",
       "  '나가',\n",
       "  '꿈에_',\n",
       "  '그녀를_',\n",
       "  '궁금해',\n",
       "  '감정을_',\n",
       "  '갈',\n",
       "  '가세요',\n",
       "  '가면_',\n",
       "  'ㅠ',\n",
       "  '힘들죠',\n",
       "  '휴',\n",
       "  '허',\n",
       "  '행동',\n",
       "  '해야지',\n",
       "  '한다',\n",
       "  '하루',\n",
       "  '편',\n",
       "  '친구한테_',\n",
       "  '취',\n",
       "  '추억',\n",
       "  '짝녀한테_',\n",
       "  '중인데_',\n",
       "  '중요하지_',\n",
       "  '좋다',\n",
       "  '잠이_',\n",
       "  '일은_',\n",
       "  '이별의_',\n",
       "  '은',\n",
       "  '위',\n",
       "  '원하는_',\n",
       "  '워',\n",
       "  '오늘',\n",
       "  '예쁘게_',\n",
       "  '언제나_',\n",
       "  '언제_',\n",
       "  '알',\n",
       "  '아니라_',\n",
       "  '실_',\n",
       "  '시간',\n",
       "  '쉬고_',\n",
       "  '수록_',\n",
       "  '사랑해주세요',\n",
       "  '복',\n",
       "  '보통_',\n",
       "  '보여',\n",
       "  '변화가_',\n",
       "  '받을_',\n",
       "  '밖에_',\n",
       "  '뭐',\n",
       "  '맨날_',\n",
       "  '마요',\n",
       "  '돌',\n",
       "  '다는_',\n",
       "  '느낌',\n",
       "  '누구나_',\n",
       "  '노래_',\n",
       "  '남자애가_',\n",
       "  '나봅니다',\n",
       "  '긴',\n",
       "  '관심이_',\n",
       "  '과',\n",
       "  '고민이야',\n",
       "  '계',\n",
       "  '겠다',\n",
       "  '것이_',\n",
       "  '가기_',\n",
       "  '힘들어요',\n",
       "  '확실한_',\n",
       "  '행복해',\n",
       "  '하면서_',\n",
       "  '탈_',\n",
       "  '친구',\n",
       "  '초',\n",
       "  '쳐',\n",
       "  '짝남이랑_',\n",
       "  '집',\n",
       "  '즐거운_',\n",
       "  '졌어',\n",
       "  '작은_',\n",
       "  '자기_',\n",
       "  '있는지_',\n",
       "  '입',\n",
       "  '이별후_',\n",
       "  '완전_',\n",
       "  '예',\n",
       "  '없다면_',\n",
       "  '알려줘',\n",
       "  '알게_',\n",
       "  '썸남_',\n",
       "  '손',\n",
       "  '성',\n",
       "  '새',\n",
       "  '비싸',\n",
       "  '불',\n",
       "  '받았어',\n",
       "  '바로_',\n",
       "  '물',\n",
       "  '먹으면_',\n",
       "  '맛있는_',\n",
       "  '만나지_',\n",
       "  '때는_',\n",
       "  '다니',\n",
       "  '노',\n",
       "  '나요',\n",
       "  '그래요',\n",
       "  '겠어',\n",
       "  '걸로_',\n",
       "  '같습니다',\n",
       "  'ㅠㅠ',\n",
       "  '힘들겠지만_',\n",
       "  '필요해',\n",
       "  '텐데',\n",
       "  '타고_',\n",
       "  '커피_',\n",
       "  '주고_',\n",
       "  '좋은',\n",
       "  '좋겠죠',\n",
       "  '적',\n",
       "  '원',\n",
       "  '운_',\n",
       "  '않고_',\n",
       "  '아무_',\n",
       "  '썸',\n",
       "  '싫다',\n",
       "  '스스로_',\n",
       "  '선',\n",
       "  '생길_',\n",
       "  '상관_',\n",
       "  '법',\n",
       "  '밤',\n",
       "  '멋진_',\n",
       "  '마음',\n",
       "  '르',\n",
       "  '려고_',\n",
       "  '드는_',\n",
       "  '돈이_',\n",
       "  '다를_',\n",
       "  '놓',\n",
       "  '너_',\n",
       "  '꾸',\n",
       "  '결혼',\n",
       "  '갈까',\n",
       "  '가능',\n",
       "  ' !  !',\n",
       "  '했',\n",
       "  '통',\n",
       "  '추',\n",
       "  '참',\n",
       "  '준_',\n",
       "  '전화',\n",
       "  '적_',\n",
       "  '잠깐_',\n",
       "  '이야기_',\n",
       "  '용',\n",
       "  '오는_',\n",
       "  '연락해도_',\n",
       "  '여자애가_',\n",
       "  '었어',\n",
       "  '얼굴_',\n",
       "  '어려워',\n",
       "  '어느덧_',\n",
       "  '약_',\n",
       "  '않길_',\n",
       "  '안녕',\n",
       "  '아이',\n",
       "  '아닐까요',\n",
       "  '아닌데_',\n",
       "  '싸',\n",
       "  '시험_',\n",
       "  '시간은_',\n",
       "  '술',\n",
       "  '사이',\n",
       "  '사랑하고_',\n",
       "  '별_',\n",
       "  '받는_',\n",
       "  '망',\n",
       "  '란_',\n",
       "  '라는_',\n",
       "  '떨려',\n",
       "  '때도_',\n",
       "  '드디어_',\n",
       "  '다면_',\n",
       "  '는거_',\n",
       "  '꺼',\n",
       "  '까_',\n",
       "  '기대',\n",
       "  '그리고_',\n",
       "  '고민_',\n",
       "  '같네요',\n",
       "  '감정',\n",
       "  '가지고_',\n",
       "  '가슴이_',\n",
       "  '헤어짐',\n",
       "  '하다',\n",
       "  '하네요',\n",
       "  '카톡',\n",
       "  '축하해요',\n",
       "  '천',\n",
       "  '직',\n",
       "  '좋아하는게_',\n",
       "  '절대_',\n",
       "  '저_',\n",
       "  '자연스러운_',\n",
       "  '있었',\n",
       "  '인사',\n",
       "  '이제는_',\n",
       "  '이유',\n",
       "  '움',\n",
       "  '오래',\n",
       "  '영화_',\n",
       "  '어서_',\n",
       "  '앞에_',\n",
       "  '알고_',\n",
       "  '아닌지_',\n",
       "  '써',\n",
       "  '신경_',\n",
       "  '소개팅_',\n",
       "  '설',\n",
       "  '선택',\n",
       "  '생각하고_',\n",
       "  '사랑하면_',\n",
       "  '사람에게_',\n",
       "  '사람에_',\n",
       "  '보지_',\n",
       "  '별',\n",
       "  '받아들이는_',\n",
       "  '바람',\n",
       "  '미련이_',\n",
       "  '미련',\n",
       "  '뭔지_',\n",
       "  '뭐라고_',\n",
       "  '물어보는_',\n",
       "  '문제가_',\n",
       "  '무서워',\n",
       "  '못하는_',\n",
       "  '몸이_',\n",
       "  '마음은_',\n",
       "  '마음도_',\n",
       "  '마시',\n",
       "  '더니_',\n",
       "  '다행이에요',\n",
       "  '눈',\n",
       "  '누구',\n",
       "  '놈',\n",
       "  '근',\n",
       "  '그러면_',\n",
       "  '고민이_',\n",
       "  '같네',\n",
       "  '가야지',\n",
       "  '1년',\n",
       "  '힘들겠어요',\n",
       "  '했다',\n",
       "  '했는데',\n",
       "  '한달_',\n",
       "  '학교_',\n",
       "  '하는데',\n",
       "  '폰_',\n",
       "  ...])"
      ]
     },
     "execution_count": 13,
     "metadata": {},
     "output_type": "execute_result"
    }
   ],
   "source": [
    "subwords = tokenizer.subwords\n",
    "type(subwords), len(subwords), subwords"
   ]
  },
  {
   "cell_type": "code",
   "execution_count": null,
   "metadata": {
    "colab": {
     "base_uri": "https://localhost:8080/"
    },
    "executionInfo": {
     "elapsed": 29,
     "status": "ok",
     "timestamp": 1749776748495,
     "user": {
      "displayName": "전정호",
      "userId": "01748710418857244015"
     },
     "user_tz": -540
    },
    "id": "D4kDQKH34TpC",
    "outputId": "6f883f9a-9ff9-47eb-a456-c11525453f72"
   },
   "outputs": [
    {
     "data": {
      "text/plain": [
       "8178"
      ]
     },
     "execution_count": 14,
     "metadata": {},
     "output_type": "execute_result"
    }
   ],
   "source": [
    "tokenizer.vocab_size"
   ]
  },
  {
   "cell_type": "markdown",
   "metadata": {
    "id": "uoRNEtf7WUMM"
   },
   "source": [
    "단어 집합이 생성되었습니다. 그런데 seq2seq 챕터에서 배웠던 것처럼 인코더-디코더 모델 계열에는 디코더의 입력으로 사용할 시작을 의미하는 시작 토큰 SOS와 종료 토큰 EOS 또한 존재합니다. 해당 토큰들도 단어 집합에 포함시킬 필요가 있으므로 이 두 토큰에 정수를 부여해줍니다."
   ]
  },
  {
   "cell_type": "code",
   "execution_count": null,
   "metadata": {
    "id": "L1nvdGUX35_A"
   },
   "outputs": [],
   "source": [
    "# 시작 토큰과 종료 토큰에 대한 정수 부여.\n",
    "START_TOKEN, END_TOKEN = [tokenizer.vocab_size], [tokenizer.vocab_size + 1]\n",
    "\n",
    "# 시작 토큰과 종료 토큰을 고려하여 단어 집합의 크기를 + 2\n",
    "VOCAB_SIZE = tokenizer.vocab_size + 2"
   ]
  },
  {
   "cell_type": "markdown",
   "metadata": {
    "id": "xoyku1BxWaPi"
   },
   "source": [
    "시작 토큰과 종료 토큰을 추가해주었으나 단어 집합의 크기도 +2를 해줍니다.  \n",
    "  \n",
    "시작 토큰의 번호와 종료 토큰의 번호, 그리고 단어 집합의 크기를 출력해봅시다."
   ]
  },
  {
   "cell_type": "code",
   "execution_count": null,
   "metadata": {
    "colab": {
     "base_uri": "https://localhost:8080/"
    },
    "executionInfo": {
     "elapsed": 30,
     "status": "ok",
     "timestamp": 1749776750774,
     "user": {
      "displayName": "전정호",
      "userId": "01748710418857244015"
     },
     "user_tz": -540
    },
    "id": "Ln_by7YmGPTI",
    "outputId": "d9504667-9978-42cb-84ad-3bdde1048988"
   },
   "outputs": [
    {
     "name": "stdout",
     "output_type": "stream",
     "text": [
      "시작 토큰 번호 : [8178]\n",
      "종료 토큰 번호 : [8179]\n",
      "단어 집합의 크기 : 8180\n"
     ]
    }
   ],
   "source": [
    "print('시작 토큰 번호 :',START_TOKEN)\n",
    "print('종료 토큰 번호 :',END_TOKEN)\n",
    "print('단어 집합의 크기 :',VOCAB_SIZE)"
   ]
  },
  {
   "cell_type": "markdown",
   "metadata": {
    "id": "SkcvaWHtWeUh"
   },
   "source": [
    "패딩에 사용될 0번 토큰부터 마지막 토큰인 8,179번 토큰까지의 개수를 카운트하면 단어 집합의 크기는 8,180개입니다."
   ]
  },
  {
   "cell_type": "code",
   "execution_count": null,
   "metadata": {
    "colab": {
     "base_uri": "https://localhost:8080/",
     "height": 36
    },
    "executionInfo": {
     "elapsed": 3,
     "status": "ok",
     "timestamp": 1749776751190,
     "user": {
      "displayName": "전정호",
      "userId": "01748710418857244015"
     },
     "user_tz": -540
    },
    "id": "QtGyeRy54vE7",
    "outputId": "84004d33-6069-4b3e-f6e6-0527e754c64a"
   },
   "outputs": [
    {
     "data": {
      "application/vnd.google.colaboratory.intrinsic+json": {
       "type": "string"
      },
      "text/plain": [
       "'가스비 비싼데 감기 걸리겠어'"
      ]
     },
     "execution_count": 17,
     "metadata": {},
     "output_type": "execute_result"
    }
   ],
   "source": [
    "questions[20]"
   ]
  },
  {
   "cell_type": "markdown",
   "metadata": {
    "id": "ZcgAFGS0Wlmd"
   },
   "source": [
    "---\n",
    "### **3. 정수 인코딩과 패딩**\n",
    "단어 집합을 생성한 후에는 서브워드텍스트인코더의 토크나이저로 정수 인코딩을 진행할 수 있습니다. 이는 토크나이저의 .encode()를 사용하여 가능합니다. 우선 임의로 선택한 20번 질문 샘플. 즉, questions[20]을 가지고 정수 인코딩을 진행해봅시다."
   ]
  },
  {
   "cell_type": "code",
   "execution_count": null,
   "metadata": {
    "colab": {
     "base_uri": "https://localhost:8080/"
    },
    "executionInfo": {
     "elapsed": 19,
     "status": "ok",
     "timestamp": 1749776752470,
     "user": {
      "displayName": "전정호",
      "userId": "01748710418857244015"
     },
     "user_tz": -540
    },
    "id": "OnCM12LCACDB",
    "outputId": "4d543e1a-50e1-4e44-a223-5e959c991ddc"
   },
   "outputs": [
    {
     "name": "stdout",
     "output_type": "stream",
     "text": [
      "Tokenized sample question: [5766, 611, 3509, 141, 685, 3747, 849]\n"
     ]
    }
   ],
   "source": [
    "# 서브워드텍스트인코더 토크나이저의 .encode()를 사용하여 텍스트 시퀀스를 정수 시퀀스로 변환.\n",
    "print('Tokenized sample question: {}'.format(tokenizer.encode(questions[20])))"
   ]
  },
  {
   "cell_type": "code",
   "execution_count": null,
   "metadata": {
    "colab": {
     "base_uri": "https://localhost:8080/"
    },
    "executionInfo": {
     "elapsed": 54,
     "status": "ok",
     "timestamp": 1749776753366,
     "user": {
      "displayName": "전정호",
      "userId": "01748710418857244015"
     },
     "user_tz": -540
    },
    "id": "YqX6W2rk6wx4",
    "outputId": "2626fc39-4d00-40e8-a48f-c658bc1537e5"
   },
   "outputs": [
    {
     "data": {
      "text/plain": [
       "('가스', '비_', '비싼', '데_', '감기_', '걸리', '겠어')"
      ]
     },
     "execution_count": 19,
     "metadata": {},
     "output_type": "execute_result"
    }
   ],
   "source": [
    "subwords[5765], subwords[610], subwords[3508], subwords[140], subwords[684], subwords[3746], subwords[848]"
   ]
  },
  {
   "cell_type": "code",
   "execution_count": null,
   "metadata": {
    "colab": {
     "base_uri": "https://localhost:8080/",
     "height": 36
    },
    "executionInfo": {
     "elapsed": 4,
     "status": "ok",
     "timestamp": 1749776753499,
     "user": {
      "displayName": "전정호",
      "userId": "01748710418857244015"
     },
     "user_tz": -540
    },
    "id": "e9yAPLv874VV",
    "outputId": "8026825e-84d2-40d0-90d5-95f2b75db871"
   },
   "outputs": [
    {
     "data": {
      "application/vnd.google.colaboratory.intrinsic+json": {
       "type": "string"
      },
      "text/plain": [
       "'가스비 비싼데 감기 걸리겠어'"
      ]
     },
     "execution_count": 20,
     "metadata": {},
     "output_type": "execute_result"
    }
   ],
   "source": [
    "tokenizer.decode([5766, 611, 3509, 141, 685, 3747, 849])"
   ]
  },
  {
   "cell_type": "markdown",
   "metadata": {
    "id": "E-dCQfNlW_gz"
   },
   "source": [
    "임의의 질문 문장이 정수 시퀀스로 변환되었습니다. 반대로 정수 인코딩 된 결과는 다시 decode()를 사용하여 기존의 텍스트 시퀀스로 복원할 수 있습니다. 20번 질문 샘플을 가지고 정수 인코딩하고, 다시 이를 디코딩하는 과정은 다음과 같습니다."
   ]
  },
  {
   "cell_type": "code",
   "execution_count": null,
   "metadata": {
    "colab": {
     "base_uri": "https://localhost:8080/"
    },
    "executionInfo": {
     "elapsed": 17,
     "status": "ok",
     "timestamp": 1749776753928,
     "user": {
      "displayName": "전정호",
      "userId": "01748710418857244015"
     },
     "user_tz": -540
    },
    "id": "X6616jr1ALcS",
    "outputId": "59a92e4d-90d3-4942-8c5b-574bb9399005"
   },
   "outputs": [
    {
     "name": "stdout",
     "output_type": "stream",
     "text": [
      "정수 인코딩 후의 문장 [5766, 611, 3509, 141, 685, 3747, 849]\n",
      "기존 문장: 가스비 비싼데 감기 걸리겠어\n"
     ]
    }
   ],
   "source": [
    "# 서브워드텍스트인코더 토크나이저의 .encode()와 decode() 테스트해보기\n",
    "\n",
    "# 임의의 입력 문장을 sample_string에 저장\n",
    "sample_string = questions[20]\n",
    "\n",
    "# encode() : 텍스트 시퀀스 --> 정수 시퀀스\n",
    "tokenized_string = tokenizer.encode(sample_string)\n",
    "print ('정수 인코딩 후의 문장 {}'.format(tokenized_string))\n",
    "\n",
    "# decode() : 정수 시퀀스 --> 텍스트 시퀀스\n",
    "original_string = tokenizer.decode(tokenized_string)\n",
    "print ('기존 문장: {}'.format(original_string))"
   ]
  },
  {
   "cell_type": "markdown",
   "metadata": {
    "id": "tmzV-k0WXFhs"
   },
   "source": [
    "정수 인코딩 된 문장을 .decode()을 하면 자동으로 서브워드들까지 다시 붙여서 기존 단어로 복원해줍니다. 가령, 정수 인코딩 문장을 보면 정수가 7개인데 기존 문장의 띄어쓰기 단위인 어절은 4개밖에 존재하지 않습니다. 이는 '가스비'나 '비싼데'라는 한 어절이 정수 인코딩 후에는 두 개 이상의 정수일 수 있다는 겁니다. 각 정수가 어떤 서브워드로 맵핑되는지 출력해봅시다."
   ]
  },
  {
   "cell_type": "code",
   "execution_count": null,
   "metadata": {
    "colab": {
     "base_uri": "https://localhost:8080/"
    },
    "executionInfo": {
     "elapsed": 17,
     "status": "ok",
     "timestamp": 1749776754360,
     "user": {
      "displayName": "전정호",
      "userId": "01748710418857244015"
     },
     "user_tz": -540
    },
    "id": "ySXbL7GQAPhS",
    "outputId": "14879c80-ec90-4b9f-9e99-6e796a143492"
   },
   "outputs": [
    {
     "name": "stdout",
     "output_type": "stream",
     "text": [
      "5766 ----> 가스\n",
      "611 ----> 비 \n",
      "3509 ----> 비싼\n",
      "141 ----> 데 \n",
      "685 ----> 감기 \n",
      "3747 ----> 걸리\n",
      "849 ----> 겠어\n"
     ]
    }
   ],
   "source": [
    "# 각 정수는 각 단어와 어떻게 mapping되는지 병렬로 출력\n",
    "# 서브워드텍스트인코더는 의미있는 단위의 서브워드로 토크나이징한다. 띄어쓰기 단위 X 형태소 분석 단위 X\n",
    "for ts in tokenized_string:\n",
    "    print ('{} ----> {}'.format(ts, tokenizer.decode([ts])))"
   ]
  },
  {
   "cell_type": "markdown",
   "metadata": {
    "id": "UNMfypcTXPSb"
   },
   "source": [
    "샘플 1개를 가지고 정수 인코딩과 디코딩을 수행해보았습니다. 이번에는 전체 데이터에 대해서 정수 인코딩과 패딩을 진행합니다. 이를 위한 함수로 tokenize_and_filter()를 만듭니다. 여기서는 임의로 패딩의 길이는 40으로 정했습니다."
   ]
  },
  {
   "cell_type": "code",
   "execution_count": null,
   "metadata": {
    "id": "Dl69HqzjATYG"
   },
   "outputs": [],
   "source": [
    "# 최대 길이를 40으로 정의\n",
    "MAX_LENGTH = 40\n",
    "\n",
    "# 토큰화 / 정수 인코딩 / 시작 토큰과 종료 토큰 추가 / 패딩\n",
    "def tokenize_and_filter(inputs, outputs):\n",
    "  tokenized_inputs, tokenized_outputs = [], []\n",
    "\n",
    "  for (sentence1, sentence2) in zip(inputs, outputs):\n",
    "    # encode(토큰화 + 정수 인코딩), 시작 토큰과 종료 토큰 추가\n",
    "    sentence1 = START_TOKEN + tokenizer.encode(sentence1) + END_TOKEN\n",
    "    sentence2 = START_TOKEN + tokenizer.encode(sentence2) + END_TOKEN\n",
    "\n",
    "    tokenized_inputs.append(sentence1)\n",
    "    tokenized_outputs.append(sentence2)\n",
    "\n",
    "  # 패딩\n",
    "  tokenized_inputs = tf.keras.preprocessing.sequence.pad_sequences(\n",
    "      tokenized_inputs, maxlen=MAX_LENGTH, padding='post')\n",
    "  tokenized_outputs = tf.keras.preprocessing.sequence.pad_sequences(\n",
    "      tokenized_outputs, maxlen=MAX_LENGTH, padding='post')\n",
    "\n",
    "  return tokenized_inputs, tokenized_outputs"
   ]
  },
  {
   "cell_type": "code",
   "execution_count": null,
   "metadata": {
    "id": "qJJc_H5oAWmC"
   },
   "outputs": [],
   "source": [
    "questions, answers = tokenize_and_filter(questions, answers)"
   ]
  },
  {
   "cell_type": "code",
   "execution_count": null,
   "metadata": {
    "colab": {
     "base_uri": "https://localhost:8080/"
    },
    "executionInfo": {
     "elapsed": 23,
     "status": "ok",
     "timestamp": 1749776757107,
     "user": {
      "displayName": "전정호",
      "userId": "01748710418857244015"
     },
     "user_tz": -540
    },
    "id": "4-iBwtZqAXxC",
    "outputId": "21af6eed-1b55-414b-8367-ee743cf1f602"
   },
   "outputs": [
    {
     "name": "stdout",
     "output_type": "stream",
     "text": [
      "질문 데이터의 크기(shape) : (11823, 40)\n",
      "답변 데이터의 크기(shape) : (11823, 40)\n"
     ]
    }
   ],
   "source": [
    "print('질문 데이터의 크기(shape) :', questions.shape)\n",
    "print('답변 데이터의 크기(shape) :', answers.shape)"
   ]
  },
  {
   "cell_type": "markdown",
   "metadata": {
    "id": "WF0FcOVrX5EK"
   },
   "source": [
    "질문과 답변 데이터의 모든 문장이 모두 길이 40으로 변환되었습니다. 임의로 0번 샘플을 출력해봅시다."
   ]
  },
  {
   "cell_type": "code",
   "execution_count": null,
   "metadata": {
    "colab": {
     "base_uri": "https://localhost:8080/"
    },
    "executionInfo": {
     "elapsed": 21,
     "status": "ok",
     "timestamp": 1749776757112,
     "user": {
      "displayName": "전정호",
      "userId": "01748710418857244015"
     },
     "user_tz": -540
    },
    "id": "fUnwWj4pAYox",
    "outputId": "1dc456bc-88a0-472f-a1f3-53b308bf754a"
   },
   "outputs": [
    {
     "name": "stdout",
     "output_type": "stream",
     "text": [
      "[8178 7915 4207 3060   41 8179    0    0    0    0    0    0    0    0\n",
      "    0    0    0    0    0    0    0    0    0    0    0    0    0    0\n",
      "    0    0    0    0    0    0    0    0    0    0    0    0]\n",
      "[8178 3844   74 7894    1 8179    0    0    0    0    0    0    0    0\n",
      "    0    0    0    0    0    0    0    0    0    0    0    0    0    0\n",
      "    0    0    0    0    0    0    0    0    0    0    0    0]\n"
     ]
    }
   ],
   "source": [
    "# 0번째 샘플을 임의로 출력\n",
    "print(questions[0])\n",
    "print(answers[0])"
   ]
  },
  {
   "cell_type": "code",
   "execution_count": null,
   "metadata": {
    "colab": {
     "base_uri": "https://localhost:8080/"
    },
    "executionInfo": {
     "elapsed": 6,
     "status": "ok",
     "timestamp": 1749776757120,
     "user": {
      "displayName": "전정호",
      "userId": "01748710418857244015"
     },
     "user_tz": -540
    },
    "id": "ThFD6K_tAZN5",
    "outputId": "594d8e94-008b-44c3-f052-c43742054223"
   },
   "outputs": [
    {
     "name": "stdout",
     "output_type": "stream",
     "text": [
      "단어 집합의 크기(Vocab size): 8180\n",
      "전체 샘플의 수(Number of samples): 11823\n"
     ]
    }
   ],
   "source": [
    "print('단어 집합의 크기(Vocab size): {}'.format(VOCAB_SIZE))\n",
    "print('전체 샘플의 수(Number of samples): {}'.format(len(questions)))"
   ]
  },
  {
   "cell_type": "code",
   "execution_count": null,
   "metadata": {
    "colab": {
     "base_uri": "https://localhost:8080/"
    },
    "executionInfo": {
     "elapsed": 5,
     "status": "ok",
     "timestamp": 1749776757147,
     "user": {
      "displayName": "전정호",
      "userId": "01748710418857244015"
     },
     "user_tz": -540
    },
    "id": "56LiRRmVNNZQ",
    "outputId": "7a7db4a4-eddf-4508-9cde-ac035b6f3f1f"
   },
   "outputs": [
    {
     "data": {
      "text/plain": [
       "(11823, 39)"
      ]
     },
     "execution_count": 28,
     "metadata": {},
     "output_type": "execute_result"
    }
   ],
   "source": [
    "questions[:, :-1].shape"
   ]
  },
  {
   "cell_type": "code",
   "execution_count": null,
   "metadata": {
    "colab": {
     "base_uri": "https://localhost:8080/"
    },
    "executionInfo": {
     "elapsed": 7,
     "status": "ok",
     "timestamp": 1749776757156,
     "user": {
      "displayName": "전정호",
      "userId": "01748710418857244015"
     },
     "user_tz": -540
    },
    "id": "rliG3xoENNLY",
    "outputId": "ff9f671b-7786-4196-8b64-3194c17187de"
   },
   "outputs": [
    {
     "data": {
      "text/plain": [
       "(11823, 39)"
      ]
     },
     "execution_count": 29,
     "metadata": {},
     "output_type": "execute_result"
    }
   ],
   "source": [
    "answers[:, 1:].shape"
   ]
  },
  {
   "cell_type": "markdown",
   "metadata": {
    "id": "HH89rEcGYNxC"
   },
   "source": [
    "---\n",
    "### **4. 인코더와 디코더의 입력, 그리고 레이블 만들기.**\n",
    "tf.data.Dataset을 사용하여 데이터를 배치 단위로 불러올 수 있습니다."
   ]
  },
  {
   "cell_type": "code",
   "execution_count": null,
   "metadata": {
    "id": "_FXoh56KAaBx"
   },
   "outputs": [],
   "source": [
    "# 텐서플로우 dataset을 이용하여 셔플(shuffle)을 수행하되, 배치 크기로 데이터를 묶는다.\n",
    "# 또한 이 과정에서 교사 강요(teacher forcing)을 사용하기 위해서 디코더의 입력과 실제값 시퀀스를 구성한다.\n",
    "BATCH_SIZE = 64\n",
    "BUFFER_SIZE = 20000\n",
    "\n",
    "# 디코더의 실제값 시퀀스에서는 시작 토큰을 제거해야 한다.\n",
    "dataset = tf.data.Dataset.from_tensor_slices((\n",
    "    {\n",
    "        'inputs': questions,\n",
    "        'dec_inputs': answers[:, :-1] # 디코더의 입력. 마지막 패딩 토큰이 제거된다.\n",
    "    },\n",
    "    {\n",
    "        'outputs': answers[:, 1:]  # 맨 처음 토큰이 제거된다. 다시 말해 시작 토큰이 제거된다.\n",
    "    },\n",
    "))\n",
    "\n",
    "dataset = dataset.cache()\n",
    "dataset = dataset.shuffle(BUFFER_SIZE)\n",
    "dataset = dataset.batch(BATCH_SIZE)\n",
    "dataset = dataset.prefetch(tf.data.experimental.AUTOTUNE)"
   ]
  },
  {
   "cell_type": "code",
   "execution_count": null,
   "metadata": {
    "colab": {
     "base_uri": "https://localhost:8080/"
    },
    "executionInfo": {
     "elapsed": 6,
     "status": "ok",
     "timestamp": 1749776758723,
     "user": {
      "displayName": "전정호",
      "userId": "01748710418857244015"
     },
     "user_tz": -540
    },
    "id": "H9vu74odAaxB",
    "outputId": "ef8df9ed-ac4e-48bf-f8e9-10f38ca1e625"
   },
   "outputs": [
    {
     "name": "stdout",
     "output_type": "stream",
     "text": [
      "[8178 3844   74 7894    1 8179    0    0    0    0    0    0    0    0\n",
      "    0    0    0    0    0    0    0    0    0    0    0    0    0    0\n",
      "    0    0    0    0    0    0    0    0    0    0    0    0]\n",
      "[[8178 3844   74 7894    1 8179    0    0    0    0    0    0    0    0\n",
      "     0    0    0    0    0    0    0    0    0    0    0    0    0    0\n",
      "     0    0    0    0    0    0    0    0    0    0    0]]\n",
      "[[3844   74 7894    1 8179    0    0    0    0    0    0    0    0    0\n",
      "     0    0    0    0    0    0    0    0    0    0    0    0    0    0\n",
      "     0    0    0    0    0    0    0    0    0    0    0]]\n"
     ]
    }
   ],
   "source": [
    "# 임의의 샘플에 대해서 [:, :-1]과 [:, 1:]이 어떤 의미를 가지는지 테스트해본다.\n",
    "print(answers[0]) # 기존 샘플\n",
    "print(answers[:1][:, :-1]) # 마지막 패딩 토큰 제거하면서 길이가 39가 된다.\n",
    "print(answers[:1][:, 1:]) # 맨 처음 토큰이 제거된다. 다시 말해 시작 토큰이 제거된다. 길이는 역시 39가 된다."
   ]
  },
  {
   "cell_type": "code",
   "execution_count": null,
   "metadata": {
    "colab": {
     "base_uri": "https://localhost:8080/"
    },
    "executionInfo": {
     "elapsed": 18,
     "status": "ok",
     "timestamp": 1749776758742,
     "user": {
      "displayName": "전정호",
      "userId": "01748710418857244015"
     },
     "user_tz": -540
    },
    "id": "j_3oTOmo0Jye",
    "outputId": "eadfa9a6-eeb3-4b99-c994-184ed8c9d677"
   },
   "outputs": [
    {
     "name": "stdout",
     "output_type": "stream",
     "text": [
      "Inputs (Encoder Inputs):\n",
      "[[8178 5803 8179 ...    0    0    0]\n",
      " [8178 7168   10 ...    0    0    0]\n",
      " [8178  515 1328 ...    0    0    0]\n",
      " ...\n",
      " [8178 2687   33 ...    0    0    0]\n",
      " [8178  985 8158 ...    0    0    0]\n",
      " [8178   76 3680 ...    0    0    0]]\n",
      "\n",
      "Decoder Inputs (for Teacher Forcing):\n",
      "[[8178   58 4305 ...    0    0    0]\n",
      " [8178 1148   33 ...    0    0    0]\n",
      " [8178 2077 6919 ...    0    0    0]\n",
      " ...\n",
      " [8178 1724 5979 ...    0    0    0]\n",
      " [8178  100  140 ...    0    0    0]\n",
      " [8178 2830  362 ...    0    0    0]]\n",
      "\n",
      "Targets (Actual Outputs):\n",
      "[[  58 4305   17 ...    0    0    0]\n",
      " [1148   33  236 ...    0    0    0]\n",
      " [2077 6919   81 ...    0    0    0]\n",
      " ...\n",
      " [1724 5979 1710 ...    0    0    0]\n",
      " [ 100  140  432 ...    0    0    0]\n",
      " [2830  362   19 ...    0    0    0]]\n",
      "Inputs (Encoder Inputs):\n",
      "[[8178 1287 2172 ...    0    0    0]\n",
      " [8178 3347 7954 ...    0    0    0]\n",
      " [8178 2818 7954 ...    0    0    0]\n",
      " ...\n",
      " [8178 6042  521 ...    0    0    0]\n",
      " [8178   56  115 ...    0    0    0]\n",
      " [8178  248  318 ...    0    0    0]]\n",
      "\n",
      "Decoder Inputs (for Teacher Forcing):\n",
      "[[8178   19 2745 ...    0    0    0]\n",
      " [8178   19 2745 ...    0    0    0]\n",
      " [8178 5219 6676 ...    0    0    0]\n",
      " ...\n",
      " [8178  843   44 ...    0    0    0]\n",
      " [8178 3491 5288 ...    0    0    0]\n",
      " [8178 2238 5119 ...    0    0    0]]\n",
      "\n",
      "Targets (Actual Outputs):\n",
      "[[  19 2745  229 ...    0    0    0]\n",
      " [  19 2745  229 ...    0    0    0]\n",
      " [5219 6676   71 ...    0    0    0]\n",
      " ...\n",
      " [ 843   44    1 ...    0    0    0]\n",
      " [3491 5288 1847 ...    0    0    0]\n",
      " [2238 5119 5490 ...    0    0    0]]\n"
     ]
    }
   ],
   "source": [
    "# dataset에서 하나의 배치를 가져옴\n",
    "for batch in dataset.take(2):\n",
    "    inputs, targets = batch\n",
    "    print(\"Inputs (Encoder Inputs):\")\n",
    "    print(inputs['inputs'].numpy())  # numpy()를 통해 텐서를 넘파이 배열로 변환하여 출력\n",
    "    print(\"\\nDecoder Inputs (for Teacher Forcing):\")\n",
    "    print(inputs['dec_inputs'].numpy())\n",
    "    print(\"\\nTargets (Actual Outputs):\")\n",
    "    print(targets['outputs'].numpy())\n"
   ]
  },
  {
   "cell_type": "code",
   "execution_count": null,
   "metadata": {
    "colab": {
     "base_uri": "https://localhost:8080/"
    },
    "executionInfo": {
     "elapsed": 31,
     "status": "ok",
     "timestamp": 1749776758775,
     "user": {
      "displayName": "전정호",
      "userId": "01748710418857244015"
     },
     "user_tz": -540
    },
    "id": "VnLRPOrV0Jye",
    "outputId": "fc88cd0f-fb15-49bb-a938-0c765fef96be"
   },
   "outputs": [
    {
     "data": {
      "text/plain": [
       "(({'inputs': <tf.Tensor: shape=(64, 40), dtype=int32, numpy=\n",
       "   array([[8178, 2266,  929, ...,    0,    0,    0],\n",
       "          [8178, 2161,  782, ...,    0,    0,    0],\n",
       "          [8178,   84,  315, ...,    0,    0,    0],\n",
       "          ...,\n",
       "          [8178,  529,  537, ...,    0,    0,    0],\n",
       "          [8178,   61, 4785, ...,    0,    0,    0],\n",
       "          [8178,  651, 1773, ...,    0,    0,    0]], dtype=int32)>,\n",
       "   'dec_inputs': <tf.Tensor: shape=(64, 39), dtype=int32, numpy=\n",
       "   array([[8178, 6008,   54, ...,    0,    0,    0],\n",
       "          [8178,  350, 3985, ...,    0,    0,    0],\n",
       "          [8178,  140, 1666, ...,    0,    0,    0],\n",
       "          ...,\n",
       "          [8178, 1581, 1010, ...,    0,    0,    0],\n",
       "          [8178, 3467,  321, ...,    0,    0,    0],\n",
       "          [8178, 4579, 7954, ...,    0,    0,    0]], dtype=int32)>},\n",
       "  {'outputs': <tf.Tensor: shape=(64, 39), dtype=int32, numpy=\n",
       "   array([[6008,   54,  929, ...,    0,    0,    0],\n",
       "          [ 350, 3985,   16, ...,    0,    0,    0],\n",
       "          [ 140, 1666, 4064, ...,    0,    0,    0],\n",
       "          ...,\n",
       "          [1581, 1010,  269, ...,    0,    0,    0],\n",
       "          [3467,  321, 7954, ...,    0,    0,    0],\n",
       "          [4579, 7954,    4, ...,    0,    0,    0]], dtype=int32)>}),\n",
       " ({'inputs': <tf.Tensor: shape=(64, 40), dtype=int32, numpy=\n",
       "   array([[8178, 2316,  241, ...,    0,    0,    0],\n",
       "          [8178,  482,  252, ...,    0,    0,    0],\n",
       "          [8178, 1810,  140, ...,    0,    0,    0],\n",
       "          ...,\n",
       "          [8178,  408,   31, ...,    0,    0,    0],\n",
       "          [8178, 1844, 1737, ...,    0,    0,    0],\n",
       "          [8178, 1318, 5496, ...,    0,    0,    0]], dtype=int32)>,\n",
       "   'dec_inputs': <tf.Tensor: shape=(64, 39), dtype=int32, numpy=\n",
       "   array([[8178,   80, 3729, ...,    0,    0,    0],\n",
       "          [8178, 2420, 2946, ...,    0,    0,    0],\n",
       "          [8178, 2956, 5586, ...,    0,    0,    0],\n",
       "          ...,\n",
       "          [8178,  408,   31, ...,    0,    0,    0],\n",
       "          [8178,  563, 1736, ...,    0,    0,    0],\n",
       "          [8178,   19, 1110, ...,    0,    0,    0]], dtype=int32)>},\n",
       "  {'outputs': <tf.Tensor: shape=(64, 39), dtype=int32, numpy=\n",
       "   array([[  80, 3729,   10, ...,    0,    0,    0],\n",
       "          [2420, 2946,    1, ...,    0,    0,    0],\n",
       "          [2956, 5586,   16, ...,    0,    0,    0],\n",
       "          ...,\n",
       "          [ 408,   31,  329, ...,    0,    0,    0],\n",
       "          [ 563, 1736,  229, ...,    0,    0,    0],\n",
       "          [  19, 1110,    1, ...,    0,    0,    0]], dtype=int32)>}))"
      ]
     },
     "execution_count": 33,
     "metadata": {},
     "output_type": "execute_result"
    }
   ],
   "source": [
    "xx, yy = dataset.take(2)\n",
    "xx, yy"
   ]
  },
  {
   "cell_type": "code",
   "execution_count": null,
   "metadata": {
    "colab": {
     "base_uri": "https://localhost:8080/"
    },
    "executionInfo": {
     "elapsed": 21,
     "status": "ok",
     "timestamp": 1749776758827,
     "user": {
      "displayName": "전정호",
      "userId": "01748710418857244015"
     },
     "user_tz": -540
    },
    "id": "4f1tVwcT0Jye",
    "outputId": "b31e2801-89ff-4486-8609-989da1fdb50d"
   },
   "outputs": [
    {
     "data": {
      "text/plain": [
       "{'inputs': <tf.Tensor: shape=(64, 40), dtype=int32, numpy=\n",
       " array([[8178, 2266,  929, ...,    0,    0,    0],\n",
       "        [8178, 2161,  782, ...,    0,    0,    0],\n",
       "        [8178,   84,  315, ...,    0,    0,    0],\n",
       "        ...,\n",
       "        [8178,  529,  537, ...,    0,    0,    0],\n",
       "        [8178,   61, 4785, ...,    0,    0,    0],\n",
       "        [8178,  651, 1773, ...,    0,    0,    0]], dtype=int32)>,\n",
       " 'dec_inputs': <tf.Tensor: shape=(64, 39), dtype=int32, numpy=\n",
       " array([[8178, 6008,   54, ...,    0,    0,    0],\n",
       "        [8178,  350, 3985, ...,    0,    0,    0],\n",
       "        [8178,  140, 1666, ...,    0,    0,    0],\n",
       "        ...,\n",
       "        [8178, 1581, 1010, ...,    0,    0,    0],\n",
       "        [8178, 3467,  321, ...,    0,    0,    0],\n",
       "        [8178, 4579, 7954, ...,    0,    0,    0]], dtype=int32)>}"
      ]
     },
     "execution_count": 34,
     "metadata": {},
     "output_type": "execute_result"
    }
   ],
   "source": [
    "xx[0]"
   ]
  },
  {
   "cell_type": "code",
   "execution_count": null,
   "metadata": {
    "colab": {
     "base_uri": "https://localhost:8080/"
    },
    "executionInfo": {
     "elapsed": 16,
     "status": "ok",
     "timestamp": 1749776759534,
     "user": {
      "displayName": "전정호",
      "userId": "01748710418857244015"
     },
     "user_tz": -540
    },
    "id": "908GTq360Jye",
    "outputId": "87530914-2cb3-4f1a-bcf2-4847cf64613b"
   },
   "outputs": [
    {
     "data": {
      "text/plain": [
       "{'inputs': <tf.Tensor: shape=(64, 40), dtype=int32, numpy=\n",
       " array([[8178, 1287, 2172, ...,    0,    0,    0],\n",
       "        [8178, 3347, 7954, ...,    0,    0,    0],\n",
       "        [8178, 2818, 7954, ...,    0,    0,    0],\n",
       "        ...,\n",
       "        [8178, 6042,  521, ...,    0,    0,    0],\n",
       "        [8178,   56,  115, ...,    0,    0,    0],\n",
       "        [8178,  248,  318, ...,    0,    0,    0]], dtype=int32)>,\n",
       " 'dec_inputs': <tf.Tensor: shape=(64, 39), dtype=int32, numpy=\n",
       " array([[8178,   19, 2745, ...,    0,    0,    0],\n",
       "        [8178,   19, 2745, ...,    0,    0,    0],\n",
       "        [8178, 5219, 6676, ...,    0,    0,    0],\n",
       "        ...,\n",
       "        [8178,  843,   44, ...,    0,    0,    0],\n",
       "        [8178, 3491, 5288, ...,    0,    0,    0],\n",
       "        [8178, 2238, 5119, ...,    0,    0,    0]], dtype=int32)>}"
      ]
     },
     "execution_count": 35,
     "metadata": {},
     "output_type": "execute_result"
    }
   ],
   "source": [
    "inputs"
   ]
  },
  {
   "cell_type": "code",
   "execution_count": null,
   "metadata": {
    "colab": {
     "base_uri": "https://localhost:8080/"
    },
    "executionInfo": {
     "elapsed": 19,
     "status": "ok",
     "timestamp": 1749776759913,
     "user": {
      "displayName": "전정호",
      "userId": "01748710418857244015"
     },
     "user_tz": -540
    },
    "id": "Lipp0yZl0Jyf",
    "outputId": "86ec014e-f9a3-426d-ce64-11864d511915"
   },
   "outputs": [
    {
     "data": {
      "text/plain": [
       "(TensorShape([64, 40]), TensorShape([64, 39]), TensorShape([64, 39]))"
      ]
     },
     "execution_count": 36,
     "metadata": {},
     "output_type": "execute_result"
    }
   ],
   "source": [
    "inputs['inputs'].shape, inputs['dec_inputs'].shape, targets['outputs'].shape"
   ]
  },
  {
   "cell_type": "code",
   "execution_count": null,
   "metadata": {
    "colab": {
     "base_uri": "https://localhost:8080/"
    },
    "executionInfo": {
     "elapsed": 20,
     "status": "ok",
     "timestamp": 1749776760156,
     "user": {
      "displayName": "전정호",
      "userId": "01748710418857244015"
     },
     "user_tz": -540
    },
    "id": "SI2MZ6kz0Jyf",
    "outputId": "1d1f57b0-5dbd-45e7-a39e-7c8f9526f535"
   },
   "outputs": [
    {
     "data": {
      "text/plain": [
       "{'outputs': <tf.Tensor: shape=(64, 39), dtype=int32, numpy=\n",
       " array([[  19, 2745,  229, ...,    0,    0,    0],\n",
       "        [  19, 2745,  229, ...,    0,    0,    0],\n",
       "        [5219, 6676,   71, ...,    0,    0,    0],\n",
       "        ...,\n",
       "        [ 843,   44,    1, ...,    0,    0,    0],\n",
       "        [3491, 5288, 1847, ...,    0,    0,    0],\n",
       "        [2238, 5119, 5490, ...,    0,    0,    0]], dtype=int32)>}"
      ]
     },
     "execution_count": 37,
     "metadata": {},
     "output_type": "execute_result"
    }
   ],
   "source": [
    "targets"
   ]
  },
  {
   "cell_type": "markdown",
   "metadata": {
    "id": "6s1h3FMmYbJk"
   },
   "source": [
    "---\n",
    "### **5. 트랜스포머 만들기**\n",
    "  \n",
    "이제 트랜스포머를 만들어봅시다. 하이퍼파라미터를 조정하여 실제 논문의 트랜스포머보다는 작은 모델을 만듭니다.\n",
    "여기서 선택한 주요 하이퍼파라미터의 값은 다음과 같습니다.\n",
    "  \n",
    "\n",
    "$d_{model}$ = 256  \n",
    "$\\text{num\\_layers}$ = 2  \n",
    "$\\text{num\\_heads}$ = 8  \n",
    "$d_{ff}$ = 512"
   ]
  },
  {
   "cell_type": "code",
   "execution_count": null,
   "metadata": {
    "colab": {
     "base_uri": "https://localhost:8080/",
     "height": 355
    },
    "executionInfo": {
     "elapsed": 37,
     "status": "error",
     "timestamp": 1749777005460,
     "user": {
      "displayName": "전정호",
      "userId": "01748710418857244015"
     },
     "user_tz": -540
    },
    "id": "A0tcomE6AblR",
    "outputId": "a131ac6b-ee80-4f70-f129-472ff5fd27d7"
   },
   "outputs": [
    {
     "ename": "NameError",
     "evalue": "name 'encoder' is not defined",
     "output_type": "error",
     "traceback": [
      "\u001b[0;31m---------------------------------------------------------------------------\u001b[0m",
      "\u001b[0;31mNameError\u001b[0m                                 Traceback (most recent call last)",
      "\u001b[0;32m<ipython-input-44-1616472139>\u001b[0m in \u001b[0;36m<cell line: 0>\u001b[0;34m()\u001b[0m\n\u001b[1;32m      8\u001b[0m \u001b[0mDROPOUT\u001b[0m \u001b[0;34m=\u001b[0m \u001b[0;36m0.1\u001b[0m\u001b[0;34m\u001b[0m\u001b[0;34m\u001b[0m\u001b[0m\n\u001b[1;32m      9\u001b[0m \u001b[0;34m\u001b[0m\u001b[0m\n\u001b[0;32m---> 10\u001b[0;31m model = transformer(\n\u001b[0m\u001b[1;32m     11\u001b[0m     \u001b[0mvocab_size\u001b[0m\u001b[0;34m=\u001b[0m\u001b[0mVOCAB_SIZE\u001b[0m\u001b[0;34m,\u001b[0m\u001b[0;34m\u001b[0m\u001b[0;34m\u001b[0m\u001b[0m\n\u001b[1;32m     12\u001b[0m     \u001b[0mnum_layers\u001b[0m\u001b[0;34m=\u001b[0m\u001b[0mNUM_LAYERS\u001b[0m\u001b[0;34m,\u001b[0m\u001b[0;34m\u001b[0m\u001b[0;34m\u001b[0m\u001b[0m\n",
      "\u001b[0;32m<ipython-input-39-3390673156>\u001b[0m in \u001b[0;36mtransformer\u001b[0;34m(vocab_size, num_layers, dff, d_model, num_heads, dropout, name)\u001b[0m\n\u001b[1;32m     25\u001b[0m \u001b[0;34m\u001b[0m\u001b[0m\n\u001b[1;32m     26\u001b[0m   \u001b[0;31m# 인코더의 출력은 enc_outputs. 디코더로 전달된다.\u001b[0m\u001b[0;34m\u001b[0m\u001b[0;34m\u001b[0m\u001b[0m\n\u001b[0;32m---> 27\u001b[0;31m   enc_outputs = encoder(vocab_size=vocab_size, num_layers=num_layers, dff=dff,\n\u001b[0m\u001b[1;32m     28\u001b[0m       \u001b[0md_model\u001b[0m\u001b[0;34m=\u001b[0m\u001b[0md_model\u001b[0m\u001b[0;34m,\u001b[0m \u001b[0mnum_heads\u001b[0m\u001b[0;34m=\u001b[0m\u001b[0mnum_heads\u001b[0m\u001b[0;34m,\u001b[0m \u001b[0mdropout\u001b[0m\u001b[0;34m=\u001b[0m\u001b[0mdropout\u001b[0m\u001b[0;34m,\u001b[0m\u001b[0;34m\u001b[0m\u001b[0;34m\u001b[0m\u001b[0m\n\u001b[1;32m     29\u001b[0m   )(inputs=[inputs, enc_padding_mask]) # 인코더의 입력은 입력 문장과 패딩 마스크\n",
      "\u001b[0;31mNameError\u001b[0m: name 'encoder' is not defined"
     ]
    }
   ],
   "source": [
    "tf.keras.backend.clear_session()\n",
    "\n",
    "# Hyper-parameters\n",
    "NUM_LAYERS = 2\n",
    "D_MODEL = 256\n",
    "NUM_HEADS = 8\n",
    "DFF = 512\n",
    "DROPOUT = 0.1\n",
    "\n",
    "model = transformer(\n",
    "    vocab_size=VOCAB_SIZE,\n",
    "    num_layers=NUM_LAYERS,\n",
    "    dff=DFF,\n",
    "    d_model=D_MODEL,\n",
    "    num_heads=NUM_HEADS,\n",
    "    dropout=DROPOUT)"
   ]
  },
  {
   "cell_type": "code",
   "execution_count": null,
   "metadata": {
    "colab": {
     "base_uri": "https://localhost:8080/"
    },
    "executionInfo": {
     "elapsed": 348,
     "status": "ok",
     "timestamp": 1672812440562,
     "user": {
      "displayName": "Jeong-Ho JEON (전정호)",
      "userId": "09770030589626015137"
     },
     "user_tz": -540
    },
    "id": "r3zlvtBdO-OU",
    "outputId": "0a227b63-c580-4ed1-fa82-33cbdc990ece"
   },
   "outputs": [
    {
     "data": {
      "text/html": [
       "<pre style=\"white-space:pre;overflow-x:auto;line-height:normal;font-family:Menlo,'DejaVu Sans Mono',consolas,'Courier New',monospace\"><span style=\"font-weight: bold\">Model: \"transformer\"</span>\n",
       "</pre>\n"
      ],
      "text/plain": [
       "\u001b[1mModel: \"transformer\"\u001b[0m\n"
      ]
     },
     "metadata": {},
     "output_type": "display_data"
    },
    {
     "data": {
      "text/html": [
       "<pre style=\"white-space:pre;overflow-x:auto;line-height:normal;font-family:Menlo,'DejaVu Sans Mono',consolas,'Courier New',monospace\">┏━━━━━━━━━━━━━━━━━━━━━┳━━━━━━━━━━━━━━━━━━━┳━━━━━━━━━━━━┳━━━━━━━━━━━━━━━━━━━┓\n",
       "┃<span style=\"font-weight: bold\"> Layer (type)        </span>┃<span style=\"font-weight: bold\"> Output Shape      </span>┃<span style=\"font-weight: bold\">    Param # </span>┃<span style=\"font-weight: bold\"> Connected to      </span>┃\n",
       "┡━━━━━━━━━━━━━━━━━━━━━╇━━━━━━━━━━━━━━━━━━━╇━━━━━━━━━━━━╇━━━━━━━━━━━━━━━━━━━┩\n",
       "│ inputs (<span style=\"color: #0087ff; text-decoration-color: #0087ff\">InputLayer</span>) │ (<span style=\"color: #00d7ff; text-decoration-color: #00d7ff\">None</span>, <span style=\"color: #00d7ff; text-decoration-color: #00d7ff\">None</span>)      │          <span style=\"color: #00af00; text-decoration-color: #00af00\">0</span> │ -                 │\n",
       "├─────────────────────┼───────────────────┼────────────┼───────────────────┤\n",
       "│ dec_inputs          │ (<span style=\"color: #00d7ff; text-decoration-color: #00d7ff\">None</span>, <span style=\"color: #00d7ff; text-decoration-color: #00d7ff\">None</span>)      │          <span style=\"color: #00af00; text-decoration-color: #00af00\">0</span> │ -                 │\n",
       "│ (<span style=\"color: #0087ff; text-decoration-color: #0087ff\">InputLayer</span>)        │                   │            │                   │\n",
       "├─────────────────────┼───────────────────┼────────────┼───────────────────┤\n",
       "│ enc_padding_mask    │ (<span style=\"color: #00d7ff; text-decoration-color: #00d7ff\">None</span>, <span style=\"color: #00af00; text-decoration-color: #00af00\">1</span>, <span style=\"color: #00af00; text-decoration-color: #00af00\">1</span>,      │          <span style=\"color: #00af00; text-decoration-color: #00af00\">0</span> │ inputs[<span style=\"color: #00af00; text-decoration-color: #00af00\">0</span>][<span style=\"color: #00af00; text-decoration-color: #00af00\">0</span>]      │\n",
       "│ (<span style=\"color: #0087ff; text-decoration-color: #0087ff\">Lambda</span>)            │ <span style=\"color: #00d7ff; text-decoration-color: #00d7ff\">None</span>)             │            │                   │\n",
       "├─────────────────────┼───────────────────┼────────────┼───────────────────┤\n",
       "│ encoder             │ (<span style=\"color: #00d7ff; text-decoration-color: #00d7ff\">None</span>, <span style=\"color: #00d7ff; text-decoration-color: #00d7ff\">None</span>, <span style=\"color: #00af00; text-decoration-color: #00af00\">256</span>) │  <span style=\"color: #00af00; text-decoration-color: #00af00\">3,148,288</span> │ inputs[<span style=\"color: #00af00; text-decoration-color: #00af00\">0</span>][<span style=\"color: #00af00; text-decoration-color: #00af00\">0</span>],     │\n",
       "│ (<span style=\"color: #0087ff; text-decoration-color: #0087ff\">Functional</span>)        │                   │            │ enc_padding_mask… │\n",
       "├─────────────────────┼───────────────────┼────────────┼───────────────────┤\n",
       "│ look_ahead_mask     │ (<span style=\"color: #00d7ff; text-decoration-color: #00d7ff\">None</span>, <span style=\"color: #00af00; text-decoration-color: #00af00\">1</span>, <span style=\"color: #00d7ff; text-decoration-color: #00d7ff\">None</span>,   │          <span style=\"color: #00af00; text-decoration-color: #00af00\">0</span> │ dec_inputs[<span style=\"color: #00af00; text-decoration-color: #00af00\">0</span>][<span style=\"color: #00af00; text-decoration-color: #00af00\">0</span>]  │\n",
       "│ (<span style=\"color: #0087ff; text-decoration-color: #0087ff\">Lambda</span>)            │ <span style=\"color: #00d7ff; text-decoration-color: #00d7ff\">None</span>)             │            │                   │\n",
       "├─────────────────────┼───────────────────┼────────────┼───────────────────┤\n",
       "│ dec_padding_mask    │ (<span style=\"color: #00d7ff; text-decoration-color: #00d7ff\">None</span>, <span style=\"color: #00af00; text-decoration-color: #00af00\">1</span>, <span style=\"color: #00af00; text-decoration-color: #00af00\">1</span>,      │          <span style=\"color: #00af00; text-decoration-color: #00af00\">0</span> │ inputs[<span style=\"color: #00af00; text-decoration-color: #00af00\">0</span>][<span style=\"color: #00af00; text-decoration-color: #00af00\">0</span>]      │\n",
       "│ (<span style=\"color: #0087ff; text-decoration-color: #0087ff\">Lambda</span>)            │ <span style=\"color: #00d7ff; text-decoration-color: #00d7ff\">None</span>)             │            │                   │\n",
       "├─────────────────────┼───────────────────┼────────────┼───────────────────┤\n",
       "│ decoder             │ (<span style=\"color: #00d7ff; text-decoration-color: #00d7ff\">None</span>, <span style=\"color: #00d7ff; text-decoration-color: #00d7ff\">None</span>, <span style=\"color: #00af00; text-decoration-color: #00af00\">256</span>) │  <span style=\"color: #00af00; text-decoration-color: #00af00\">3,675,648</span> │ dec_inputs[<span style=\"color: #00af00; text-decoration-color: #00af00\">0</span>][<span style=\"color: #00af00; text-decoration-color: #00af00\">0</span>], │\n",
       "│ (<span style=\"color: #0087ff; text-decoration-color: #0087ff\">Functional</span>)        │                   │            │ encoder[<span style=\"color: #00af00; text-decoration-color: #00af00\">0</span>][<span style=\"color: #00af00; text-decoration-color: #00af00\">0</span>],    │\n",
       "│                     │                   │            │ look_ahead_mask[<span style=\"color: #00af00; text-decoration-color: #00af00\">…</span> │\n",
       "│                     │                   │            │ dec_padding_mask… │\n",
       "├─────────────────────┼───────────────────┼────────────┼───────────────────┤\n",
       "│ outputs (<span style=\"color: #0087ff; text-decoration-color: #0087ff\">Dense</span>)     │ (<span style=\"color: #00d7ff; text-decoration-color: #00d7ff\">None</span>, <span style=\"color: #00d7ff; text-decoration-color: #00d7ff\">None</span>,      │  <span style=\"color: #00af00; text-decoration-color: #00af00\">2,102,260</span> │ decoder[<span style=\"color: #00af00; text-decoration-color: #00af00\">0</span>][<span style=\"color: #00af00; text-decoration-color: #00af00\">0</span>]     │\n",
       "│                     │ <span style=\"color: #00af00; text-decoration-color: #00af00\">8180</span>)             │            │                   │\n",
       "└─────────────────────┴───────────────────┴────────────┴───────────────────┘\n",
       "</pre>\n"
      ],
      "text/plain": [
       "┏━━━━━━━━━━━━━━━━━━━━━┳━━━━━━━━━━━━━━━━━━━┳━━━━━━━━━━━━┳━━━━━━━━━━━━━━━━━━━┓\n",
       "┃\u001b[1m \u001b[0m\u001b[1mLayer (type)       \u001b[0m\u001b[1m \u001b[0m┃\u001b[1m \u001b[0m\u001b[1mOutput Shape     \u001b[0m\u001b[1m \u001b[0m┃\u001b[1m \u001b[0m\u001b[1m   Param #\u001b[0m\u001b[1m \u001b[0m┃\u001b[1m \u001b[0m\u001b[1mConnected to     \u001b[0m\u001b[1m \u001b[0m┃\n",
       "┡━━━━━━━━━━━━━━━━━━━━━╇━━━━━━━━━━━━━━━━━━━╇━━━━━━━━━━━━╇━━━━━━━━━━━━━━━━━━━┩\n",
       "│ inputs (\u001b[38;5;33mInputLayer\u001b[0m) │ (\u001b[38;5;45mNone\u001b[0m, \u001b[38;5;45mNone\u001b[0m)      │          \u001b[38;5;34m0\u001b[0m │ -                 │\n",
       "├─────────────────────┼───────────────────┼────────────┼───────────────────┤\n",
       "│ dec_inputs          │ (\u001b[38;5;45mNone\u001b[0m, \u001b[38;5;45mNone\u001b[0m)      │          \u001b[38;5;34m0\u001b[0m │ -                 │\n",
       "│ (\u001b[38;5;33mInputLayer\u001b[0m)        │                   │            │                   │\n",
       "├─────────────────────┼───────────────────┼────────────┼───────────────────┤\n",
       "│ enc_padding_mask    │ (\u001b[38;5;45mNone\u001b[0m, \u001b[38;5;34m1\u001b[0m, \u001b[38;5;34m1\u001b[0m,      │          \u001b[38;5;34m0\u001b[0m │ inputs[\u001b[38;5;34m0\u001b[0m][\u001b[38;5;34m0\u001b[0m]      │\n",
       "│ (\u001b[38;5;33mLambda\u001b[0m)            │ \u001b[38;5;45mNone\u001b[0m)             │            │                   │\n",
       "├─────────────────────┼───────────────────┼────────────┼───────────────────┤\n",
       "│ encoder             │ (\u001b[38;5;45mNone\u001b[0m, \u001b[38;5;45mNone\u001b[0m, \u001b[38;5;34m256\u001b[0m) │  \u001b[38;5;34m3,148,288\u001b[0m │ inputs[\u001b[38;5;34m0\u001b[0m][\u001b[38;5;34m0\u001b[0m],     │\n",
       "│ (\u001b[38;5;33mFunctional\u001b[0m)        │                   │            │ enc_padding_mask… │\n",
       "├─────────────────────┼───────────────────┼────────────┼───────────────────┤\n",
       "│ look_ahead_mask     │ (\u001b[38;5;45mNone\u001b[0m, \u001b[38;5;34m1\u001b[0m, \u001b[38;5;45mNone\u001b[0m,   │          \u001b[38;5;34m0\u001b[0m │ dec_inputs[\u001b[38;5;34m0\u001b[0m][\u001b[38;5;34m0\u001b[0m]  │\n",
       "│ (\u001b[38;5;33mLambda\u001b[0m)            │ \u001b[38;5;45mNone\u001b[0m)             │            │                   │\n",
       "├─────────────────────┼───────────────────┼────────────┼───────────────────┤\n",
       "│ dec_padding_mask    │ (\u001b[38;5;45mNone\u001b[0m, \u001b[38;5;34m1\u001b[0m, \u001b[38;5;34m1\u001b[0m,      │          \u001b[38;5;34m0\u001b[0m │ inputs[\u001b[38;5;34m0\u001b[0m][\u001b[38;5;34m0\u001b[0m]      │\n",
       "│ (\u001b[38;5;33mLambda\u001b[0m)            │ \u001b[38;5;45mNone\u001b[0m)             │            │                   │\n",
       "├─────────────────────┼───────────────────┼────────────┼───────────────────┤\n",
       "│ decoder             │ (\u001b[38;5;45mNone\u001b[0m, \u001b[38;5;45mNone\u001b[0m, \u001b[38;5;34m256\u001b[0m) │  \u001b[38;5;34m3,675,648\u001b[0m │ dec_inputs[\u001b[38;5;34m0\u001b[0m][\u001b[38;5;34m0\u001b[0m], │\n",
       "│ (\u001b[38;5;33mFunctional\u001b[0m)        │                   │            │ encoder[\u001b[38;5;34m0\u001b[0m][\u001b[38;5;34m0\u001b[0m],    │\n",
       "│                     │                   │            │ look_ahead_mask[\u001b[38;5;34m…\u001b[0m │\n",
       "│                     │                   │            │ dec_padding_mask… │\n",
       "├─────────────────────┼───────────────────┼────────────┼───────────────────┤\n",
       "│ outputs (\u001b[38;5;33mDense\u001b[0m)     │ (\u001b[38;5;45mNone\u001b[0m, \u001b[38;5;45mNone\u001b[0m,      │  \u001b[38;5;34m2,102,260\u001b[0m │ decoder[\u001b[38;5;34m0\u001b[0m][\u001b[38;5;34m0\u001b[0m]     │\n",
       "│                     │ \u001b[38;5;34m8180\u001b[0m)             │            │                   │\n",
       "└─────────────────────┴───────────────────┴────────────┴───────────────────┘\n"
      ]
     },
     "metadata": {},
     "output_type": "display_data"
    },
    {
     "data": {
      "text/html": [
       "<pre style=\"white-space:pre;overflow-x:auto;line-height:normal;font-family:Menlo,'DejaVu Sans Mono',consolas,'Courier New',monospace\"><span style=\"font-weight: bold\"> Total params: </span><span style=\"color: #00af00; text-decoration-color: #00af00\">8,926,196</span> (34.05 MB)\n",
       "</pre>\n"
      ],
      "text/plain": [
       "\u001b[1m Total params: \u001b[0m\u001b[38;5;34m8,926,196\u001b[0m (34.05 MB)\n"
      ]
     },
     "metadata": {},
     "output_type": "display_data"
    },
    {
     "data": {
      "text/html": [
       "<pre style=\"white-space:pre;overflow-x:auto;line-height:normal;font-family:Menlo,'DejaVu Sans Mono',consolas,'Courier New',monospace\"><span style=\"font-weight: bold\"> Trainable params: </span><span style=\"color: #00af00; text-decoration-color: #00af00\">8,926,196</span> (34.05 MB)\n",
       "</pre>\n"
      ],
      "text/plain": [
       "\u001b[1m Trainable params: \u001b[0m\u001b[38;5;34m8,926,196\u001b[0m (34.05 MB)\n"
      ]
     },
     "metadata": {},
     "output_type": "display_data"
    },
    {
     "data": {
      "text/html": [
       "<pre style=\"white-space:pre;overflow-x:auto;line-height:normal;font-family:Menlo,'DejaVu Sans Mono',consolas,'Courier New',monospace\"><span style=\"font-weight: bold\"> Non-trainable params: </span><span style=\"color: #00af00; text-decoration-color: #00af00\">0</span> (0.00 B)\n",
       "</pre>\n"
      ],
      "text/plain": [
       "\u001b[1m Non-trainable params: \u001b[0m\u001b[38;5;34m0\u001b[0m (0.00 B)\n"
      ]
     },
     "metadata": {},
     "output_type": "display_data"
    }
   ],
   "source": [
    "model.summary()"
   ]
  },
  {
   "cell_type": "markdown",
   "metadata": {
    "id": "lPaN4-DmZcpE"
   },
   "source": [
    "학습률과 옵티마이저를 정의하고 모델을 컴파일합니다."
   ]
  },
  {
   "cell_type": "code",
   "execution_count": null,
   "metadata": {
    "id": "w3qpxTy7Ainq"
   },
   "outputs": [],
   "source": [
    "MAX_LENGTH = 40\n",
    "\n",
    "learning_rate = CustomSchedule(D_MODEL)\n",
    "\n",
    "optimizer = tf.keras.optimizers.Adam(\n",
    "    learning_rate, beta_1=0.9, beta_2=0.98, epsilon=1e-9)\n",
    "\n",
    "def accuracy(y_true, y_pred):\n",
    "  # ensure labels have shape (batch_size, MAX_LENGTH - 1)\n",
    "  y_true = tf.reshape(y_true, shape=(-1, MAX_LENGTH - 1))\n",
    "  return tf.keras.metrics.sparse_categorical_accuracy(y_true, y_pred)\n",
    "\n",
    "model.compile(optimizer=optimizer, loss=loss_function, metrics=[accuracy])"
   ]
  },
  {
   "cell_type": "markdown",
   "metadata": {
    "id": "gaoUgCMKZvWL"
   },
   "source": [
    "총 50회 모델을 학습합니다."
   ]
  },
  {
   "cell_type": "code",
   "execution_count": null,
   "metadata": {
    "colab": {
     "background_save": true,
     "base_uri": "https://localhost:8080/"
    },
    "id": "jq-Ow4L0Aoqy",
    "outputId": "b4f7cc8c-57b5-4061-ab3c-2eae84750633"
   },
   "outputs": [
    {
     "name": "stdout",
     "output_type": "stream",
     "text": [
      "Epoch 1/50\n"
     ]
    },
    {
     "ename": "TypeError",
     "evalue": "Expected float32, but got outputs of type 'str'.",
     "output_type": "error",
     "traceback": [
      "\u001b[1;31m---------------------------------------------------------------------------\u001b[0m",
      "\u001b[1;31mTypeError\u001b[0m                                 Traceback (most recent call last)",
      "File \u001b[1;32m<timed exec>:3\u001b[0m\n",
      "File \u001b[1;32mc:\\Users\\dlwlg\\anaconda3\\envs\\py310_yolo\\lib\\site-packages\\keras\\src\\utils\\traceback_utils.py:122\u001b[0m, in \u001b[0;36mfilter_traceback.<locals>.error_handler\u001b[1;34m(*args, **kwargs)\u001b[0m\n\u001b[0;32m    119\u001b[0m     filtered_tb \u001b[38;5;241m=\u001b[39m _process_traceback_frames(e\u001b[38;5;241m.\u001b[39m__traceback__)\n\u001b[0;32m    120\u001b[0m     \u001b[38;5;66;03m# To get the full stack trace, call:\u001b[39;00m\n\u001b[0;32m    121\u001b[0m     \u001b[38;5;66;03m# `keras.config.disable_traceback_filtering()`\u001b[39;00m\n\u001b[1;32m--> 122\u001b[0m     \u001b[38;5;28;01mraise\u001b[39;00m e\u001b[38;5;241m.\u001b[39mwith_traceback(filtered_tb) \u001b[38;5;28;01mfrom\u001b[39;00m\u001b[38;5;250m \u001b[39m\u001b[38;5;28;01mNone\u001b[39;00m\n\u001b[0;32m    123\u001b[0m \u001b[38;5;28;01mfinally\u001b[39;00m:\n\u001b[0;32m    124\u001b[0m     \u001b[38;5;28;01mdel\u001b[39;00m filtered_tb\n",
      "File \u001b[1;32mc:\\Users\\dlwlg\\anaconda3\\envs\\py310_yolo\\lib\\site-packages\\optree\\ops.py:766\u001b[0m, in \u001b[0;36mtree_map\u001b[1;34m(func, tree, is_leaf, none_is_leaf, namespace, *rests)\u001b[0m\n\u001b[0;32m    764\u001b[0m leaves, treespec \u001b[38;5;241m=\u001b[39m _C\u001b[38;5;241m.\u001b[39mflatten(tree, is_leaf, none_is_leaf, namespace)\n\u001b[0;32m    765\u001b[0m flat_args \u001b[38;5;241m=\u001b[39m [leaves] \u001b[38;5;241m+\u001b[39m [treespec\u001b[38;5;241m.\u001b[39mflatten_up_to(r) \u001b[38;5;28;01mfor\u001b[39;00m r \u001b[38;5;129;01min\u001b[39;00m rests]\n\u001b[1;32m--> 766\u001b[0m \u001b[38;5;28;01mreturn\u001b[39;00m \u001b[43mtreespec\u001b[49m\u001b[38;5;241;43m.\u001b[39;49m\u001b[43munflatten\u001b[49m\u001b[43m(\u001b[49m\u001b[38;5;28;43mmap\u001b[39;49m\u001b[43m(\u001b[49m\u001b[43mfunc\u001b[49m\u001b[43m,\u001b[49m\u001b[43m \u001b[49m\u001b[38;5;241;43m*\u001b[39;49m\u001b[43mflat_args\u001b[49m\u001b[43m)\u001b[49m\u001b[43m)\u001b[49m\n",
      "\u001b[1;31mTypeError\u001b[0m: Expected float32, but got outputs of type 'str'."
     ]
    }
   ],
   "source": [
    "%%time\n",
    "EPOCHS = 50\n",
    "\n",
    "history = model.fit(dataset, epochs=EPOCHS)"
   ]
  },
  {
   "cell_type": "code",
   "execution_count": null,
   "metadata": {
    "colab": {
     "base_uri": "https://localhost:8080/"
    },
    "executionInfo": {
     "elapsed": 2,
     "status": "ok",
     "timestamp": 1671602890301,
     "user": {
      "displayName": "Jeong-Ho JEON (전정호)",
      "userId": "09770030589626015137"
     },
     "user_tz": -540
    },
    "id": "oE3wRlYhQcdL",
    "outputId": "caef36df-1ce0-44a9-ced3-06b933c554d6"
   },
   "outputs": [
    {
     "ename": "NameError",
     "evalue": "name 'history' is not defined",
     "output_type": "error",
     "traceback": [
      "\u001b[1;31m---------------------------------------------------------------------------\u001b[0m",
      "\u001b[1;31mNameError\u001b[0m                                 Traceback (most recent call last)",
      "Cell \u001b[1;32mIn[60], line 1\u001b[0m\n\u001b[1;32m----> 1\u001b[0m df_history \u001b[38;5;241m=\u001b[39m \u001b[43mhistory\u001b[49m\u001b[38;5;241m.\u001b[39mhistory\n\u001b[0;32m      2\u001b[0m df_history\n",
      "\u001b[1;31mNameError\u001b[0m: name 'history' is not defined"
     ]
    }
   ],
   "source": [
    "df_history = history.history\n",
    "df_history"
   ]
  },
  {
   "cell_type": "code",
   "execution_count": null,
   "metadata": {
    "id": "oxkJirtvQh7c"
   },
   "outputs": [],
   "source": [
    "pd.DataFrame(df_history).plot()"
   ]
  },
  {
   "cell_type": "markdown",
   "metadata": {
    "id": "ISpYbk8BcL8f"
   },
   "source": [
    "---\n",
    "# 6. 챗봇 평가하기"
   ]
  },
  {
   "cell_type": "markdown",
   "metadata": {
    "id": "Pp9QVulucTUF"
   },
   "source": [
    "챗봇을 평가하기 위한 세 개의 함수를 구현합니다. predict 함수에서 evaluate 함수를 호출하고 evaluate 함수에서 preprocess_sentence 함수를 호출하는 구조입니다. 사용자의 입력이 파이썬의 문자열로 입력되면 preprocess_sentence 함수에서 문자열에 대한 전처리를 수행합니다. 해당 전처리는 학습 전 질문 데이터와 답변 데이터에서 했던 전처리와 동일한 전처리입니다. 전처리가 진행된 문자열에 대해서 evaluate 함수는 트랜스포머 모델에 전처리가 진행된 사용자의 입력을 전달하고, 디코더를 통해 계속해서 현재 시점의 예측. 다시 말해 챗봇의 대답에 해당하는 단어를 순차적으로 예측합니다. 여기서 예측된 단어들은 문자열이 아니라 정수인 상태이므로 evaluate 함수가 리턴하는 것은 결과적으로 정수 시퀀스입니다. predict 함수는 evaluate 함수로부터 전달받은 챗봇의 대답에 해당하는 정수 시퀀스를 문자열로 다시 디코딩을 하고 사용자에게 챗봇의 대답을 출력합니다."
   ]
  },
  {
   "cell_type": "code",
   "execution_count": null,
   "metadata": {
    "id": "PAHvRASLBQyz"
   },
   "outputs": [],
   "source": [
    "def preprocess_sentence(sentence):\n",
    "    # 단어와 구두점 사이에 공백 추가.\n",
    "    # ex) 12시 땡! -> 12시 땡 !\n",
    "    sentence = re.sub(r\"([?.!,])\", r\" \\1 \", sentence)\n",
    "    sentence = sentence.strip()\n",
    "    return sentence"
   ]
  },
  {
   "cell_type": "code",
   "execution_count": null,
   "metadata": {
    "id": "dOTNLOCdArDi"
   },
   "outputs": [],
   "source": [
    "def evaluate(sentence):\n",
    "    # 입력 문장에 대한 전처리\n",
    "    sentence = preprocess_sentence(sentence)\n",
    "\n",
    "    sentence = tf.expand_dims(\n",
    "        START_TOKEN + tokenizer.encode(sentence) + END_TOKEN, axis=0)\n",
    "\n",
    "    output = tf.expand_dims(START_TOKEN, 0)\n",
    "\n",
    "    # 디코더의 예측 시작\n",
    "    for i in range(MAX_LENGTH):\n",
    "        predictions = model(inputs=[sentence, output], training=False)\n",
    "\n",
    "        # 현재(마지막) 시점의 예측 단어를 받아온다.\n",
    "        predictions = predictions[:, -1:, :]\n",
    "        predicted_id = tf.cast(tf.argmax(predictions, axis=-1), tf.int32)\n",
    "\n",
    "        # 만약 마지막 시점의 예측 단어가 종료 토큰이라면 예측을 중단\n",
    "        if tf.equal(predicted_id, END_TOKEN[0]):\n",
    "            break\n",
    "\n",
    "        # 마지막 시점의 예측 단어를 출력에 연결한다.\n",
    "        # 이는 for문을 통해서 디코더의 입력으로 사용될 예정이다.\n",
    "        output = tf.concat([output, predicted_id], axis=-1)\n",
    "\n",
    "    return tf.squeeze(output, axis=0)\n",
    "\n"
   ]
  },
  {
   "cell_type": "code",
   "execution_count": null,
   "metadata": {
    "id": "uIYirS8Dcxqe"
   },
   "outputs": [],
   "source": [
    "def predict(sentence):\n",
    "  prediction = evaluate(sentence)\n",
    "\n",
    "  predicted_sentence = tokenizer.decode(\n",
    "      [i for i in prediction if i < tokenizer.vocab_size])\n",
    "\n",
    "  print('Input: {}'.format(sentence))\n",
    "  print('Output: {}'.format(predicted_sentence))\n",
    "\n",
    "  return predicted_sentence"
   ]
  },
  {
   "cell_type": "markdown",
   "metadata": {
    "id": "uChtWZXfc3zV"
   },
   "source": [
    "학습된 트랜스포머에 임의로 생각나는 말들을 적어보았습니다."
   ]
  },
  {
   "cell_type": "code",
   "execution_count": null,
   "metadata": {
    "id": "ujmHO_QdUTji"
   },
   "outputs": [],
   "source": [
    "output = predict('영화 볼래?')"
   ]
  },
  {
   "cell_type": "code",
   "execution_count": null,
   "metadata": {
    "id": "V3H--FxhUUoC"
   },
   "outputs": [],
   "source": [
    "output = predict(\"고민이 있어\")"
   ]
  },
  {
   "cell_type": "code",
   "execution_count": null,
   "metadata": {
    "id": "mW_bzLFCUWrg"
   },
   "outputs": [],
   "source": [
    "output = predict(\"너무 화가나\")"
   ]
  },
  {
   "cell_type": "code",
   "execution_count": null,
   "metadata": {
    "id": "wFkgcubSdMCb"
   },
   "outputs": [],
   "source": [
    "output = predict(\"카페갈래?\")"
   ]
  },
  {
   "cell_type": "code",
   "execution_count": null,
   "metadata": {
    "id": "QYqi9AeZUl_q"
   },
   "outputs": [],
   "source": [
    "output = predict(\"게임하고싶은데 할래?\")"
   ]
  },
  {
   "cell_type": "code",
   "execution_count": null,
   "metadata": {
    "id": "PhavXlRvdbAv"
   },
   "outputs": [],
   "source": [
    "output = predict(\"게임하고싶당\")"
   ]
  },
  {
   "cell_type": "code",
   "execution_count": null,
   "metadata": {
    "id": "O6GJLMO1UorF"
   },
   "outputs": [],
   "source": [
    "output = predict(\"나 너 좋아하는 것 같아\")"
   ]
  },
  {
   "cell_type": "code",
   "execution_count": null,
   "metadata": {
    "id": "tUl6DCxFUvm2"
   },
   "outputs": [],
   "source": [
    "output = predict(\"딥 러닝 자연어 처리를 잘 하고 싶어\")"
   ]
  },
  {
   "cell_type": "code",
   "execution_count": null,
   "metadata": {
    "id": "OuZ8mC5aTLwh"
   },
   "outputs": [],
   "source": [
    "output = predict(\"니가 좋아졌어\")"
   ]
  },
  {
   "cell_type": "code",
   "execution_count": null,
   "metadata": {
    "id": "weB2KFEuTOKP"
   },
   "outputs": [],
   "source": [
    "output = predict(\"오늘 저녁에 짜장면 먹으러 갈래?\")"
   ]
  },
  {
   "cell_type": "code",
   "execution_count": null,
   "metadata": {
    "id": "G5U3asuzTcCH"
   },
   "outputs": [],
   "source": [
    "output = predict(\"안녕하세요?\")"
   ]
  },
  {
   "cell_type": "code",
   "execution_count": null,
   "metadata": {
    "id": "L0pONBt-Tico"
   },
   "outputs": [],
   "source": [
    "output = predict(\"메리 크리스마스!\")"
   ]
  },
  {
   "cell_type": "code",
   "execution_count": null,
   "metadata": {
    "id": "EqEPbbiLTzHy"
   },
   "outputs": [],
   "source": [
    "output = predict(\"ㅋㅋ\")"
   ]
  },
  {
   "cell_type": "code",
   "execution_count": null,
   "metadata": {
    "id": "aouhZOD-UB24"
   },
   "outputs": [],
   "source": [
    "output = predict(\"다음 주에 개강이야\")"
   ]
  },
  {
   "cell_type": "code",
   "execution_count": null,
   "metadata": {
    "id": "3y78B5atUNTW"
   },
   "outputs": [],
   "source": [
    "output = predict(\"여행 가고 싶다\")"
   ]
  },
  {
   "cell_type": "markdown",
   "metadata": {
    "id": "x4b-AOfUc9Zc"
   },
   "source": [
    "간단한 대화인만큼 그럭저럭 괜찮은 답변을 합니다. 데이터가 더 많다면, 더 다양한 대답을 할 수 있는 챗봇을 만들 수 있습니다."
   ]
  },
  {
   "cell_type": "markdown",
   "metadata": {
    "id": "QtkNBcIo9nEA"
   },
   "source": [
    "마지막 편집일시 : 2022년 11월 14일 4:45 오후"
   ]
  },
  {
   "cell_type": "code",
   "execution_count": null,
   "metadata": {
    "id": "cFJeVnHlUXpz"
   },
   "outputs": [],
   "source": []
  },
  {
   "cell_type": "code",
   "execution_count": null,
   "metadata": {
    "id": "e16ca566"
   },
   "outputs": [],
   "source": [
    "# import tensorflow as tf\n",
    "# import numpy as np\n",
    "\n",
    "\n",
    "# def positional_encoding(position, d_model):\n",
    "#   angle_rads = get_angles(np.arange(position)[:, np.newaxis],\n",
    "#                           np.arange(d_model)[np.newaxis, :],\n",
    "#                           d_model)\n",
    "\n",
    "#   # apply sin to even indices in the array; 2i\n",
    "#   sines = np.sin(angle_rads[:, 0::2])\n",
    "\n",
    "#   # apply cos to odd indices in the array; 2i+1\n",
    "#   cosines = np.cos(angle_rads[:, 1::2])\n",
    "\n",
    "#   pos_encoding = np.concatenate([sines, cosines], axis=-1)\n",
    "\n",
    "#   pos_encoding = pos_encoding[np.newaxis, ...]\n",
    "\n",
    "#   return tf.cast(pos_encoding, dtype=tf.float32)\n",
    "\n",
    "# def get_angles(pos, i, d_model):\n",
    "#   angle_rates = 1 / np.power(10000, (2 * (i // 2)) / tf.cast(d_model, tf.float32))\n",
    "#   return pos * angle_rates\n",
    "\n",
    "# def create_padding_mask(seq):\n",
    "#   seq = tf.cast(tf.math.equal(seq, 0), tf.float32)\n",
    "\n",
    "#   # add extra dimensions to add the padding\n",
    "#   # to the attention logits.\n",
    "#   return seq[:, tf.newaxis, tf.newaxis, :]  # (batch_size, 1, 1, seq_len)\n",
    "\n",
    "# def create_look_ahead_mask(seq):\n",
    "#   seq_len = tf.shape(seq)[1]\n",
    "#   look_ahead_mask = 1 - tf.linalg.band_part(tf.ones((seq_len, seq_len)), -1, 0)\n",
    "#   padding_mask = create_padding_mask(seq)\n",
    "#   return tf.maximum(look_ahead_mask, padding_mask)\n",
    "\n",
    "\n",
    "# class MultiHeadAttention(tf.keras.layers.Layer):\n",
    "#   def __init__(self, d_model, num_heads):\n",
    "#     super(MultiHeadAttention, self).__init__()\n",
    "#     self.num_heads = num_heads\n",
    "#     self.d_model = d_model\n",
    "\n",
    "#     assert d_model % self.num_heads == 0\n",
    "\n",
    "#     self.depth = d_model // self.num_heads\n",
    "\n",
    "#     self.wq = tf.keras.layers.Dense(d_model)\n",
    "#     self.wk = tf.keras.layers.Dense(d_model)\n",
    "#     self.wv = tf.keras.layers.Dense(d_model)\n",
    "\n",
    "#     self.dense = tf.keras.layers.Dense(d_model)\n",
    "\n",
    "#   def split_heads(self, x, batch_size):\n",
    "#     \"\"\"Split the last dimension into (num_heads, depth).\n",
    "#     Transpose the result such that the shape is (batch_size, num_heads, seq_len, depth)\n",
    "#     \"\"\"\n",
    "#     x = tf.reshape(x, (batch_size, -1, self.num_heads, self.depth))\n",
    "#     return tf.transpose(x, perm=[0, 2, 1, 3])\n",
    "\n",
    "#   def call(self, v, k, q, mask):\n",
    "#     batch_size = tf.shape(q)[0]\n",
    "\n",
    "#     q = self.wq(q)  # (batch_size, seq_len, d_model)\n",
    "#     k = self.wk(k)  # (batch_size, seq_len, d_model)\n",
    "#     v = self.wv(v)  # (batch_size, seq_len, d_model)\n",
    "\n",
    "#     q = self.split_heads(q, batch_size)  # (batch_size, num_heads, seq_len_q, depth)\n",
    "#     k = self.split_heads(k, batch_size)  # (batch_size, num_heads, seq_len_k, depth)\n",
    "#     v = self.split_heads(v, batch_size)  # (batch_size, num_heads, seq_len_v, depth)\n",
    "\n",
    "#     # scaled_attention.shape == (batch_size, num_heads, seq_len_q, depth)\n",
    "#     # attention_weights.shape == (batch_size, num_heads, seq_len_q, seq_len_k)\n",
    "#     scaled_attention, attention_weights = scaled_dot_product_attention(\n",
    "#         q, k, v, mask)\n",
    "\n",
    "#     scaled_attention = tf.transpose(scaled_attention, perm=[0, 2, 1, 3])  # (batch_size, seq_len_q, num_heads, depth)\n",
    "\n",
    "#     concat_attention = tf.reshape(scaled_attention,\n",
    "#                                   (batch_size, -1, self.d_model))  # (batch_size, seq_len_q, d_model)\n",
    "\n",
    "#     output = self.dense(concat_attention)  # (batch_size, seq_len_q, d_model)\n",
    "\n",
    "#     return output, attention_weights\n",
    "\n",
    "# def scaled_dot_product_attention(q, k, v, mask):\n",
    "#   \"\"\"Calculate the attention weights.\n",
    "#   q, k, v must have matching leading dimensions.\n",
    "#   k, v must have matching penultimate dimension, i.e.: seq_len_k = seq_len_v.\n",
    "#   The mask has different shapes depending on its type(padding or look ahead)\n",
    "#   but it must be broadcastable for addition.\n",
    "\n",
    "#   Args:\n",
    "#     q: query shape == (..., seq_len_q, depth)\n",
    "#     k: key shape == (..., seq_len_k, depth)\n",
    "#     v: value shape == (..., seq_len_v, depth_v)\n",
    "#     mask: Float tensor with shape broadcastable\n",
    "#           to (..., seq_len_q, seq_len_k). Defaults to None.\n",
    "\n",
    "#   Returns:\n",
    "#     output, attention_weights\n",
    "#   \"\"\"\n",
    "\n",
    "#   matmul_qk = tf.matmul(q, k, transpose_b=True)  # (..., seq_len_q, seq_len_k)\n",
    "\n",
    "#   # scale matmul_qk\n",
    "#   dk = tf.cast(tf.shape(k)[-1], tf.float32)\n",
    "#   scaled_attention_logits = matmul_qk / tf.math.sqrt(dk)\n",
    "\n",
    "#   # add the mask to the scaled attention logits.\n",
    "#   if mask is not None:\n",
    "#     scaled_attention_logits += (mask * -1e9)\n",
    "\n",
    "#   # softmax is normalized on the last axis (seq_len_k) so that the scores\n",
    "#   # add up to 1.\n",
    "#   attention_weights = tf.softmax(scaled_attention_logits, axis=-1)  # (..., seq_len_q, seq_len_k)\n",
    "\n",
    "#   output = tf.matmul(attention_weights, v)  # (..., seq_len_q, depth_v)\n",
    "\n",
    "#   return output, attention_weights\n",
    "\n",
    "# def point_wise_feed_forward_network(d_model, dff):\n",
    "#   return tf.keras.Sequential([\n",
    "#       tf.keras.layers.Dense(dff, activation='relu'),  # (batch_size, seq_len, dff)\n",
    "#       tf.keras.layers.Dense(d_model)  # (batch_size, seq_len, d_model)\n",
    "#   ])\n",
    "\n",
    "\n",
    "# class EncoderLayer(tf.keras.layers.Layer):\n",
    "#   def __init__(self, d_model, num_heads, dff, rate=0.1):\n",
    "#     super(EncoderLayer, self).__init__()\n",
    "\n",
    "#     self.mha = MultiHeadAttention(d_model, num_heads)\n",
    "#     self.ffn = point_wise_feed_forward_network(d_model, dff)\n",
    "\n",
    "#     self.layernorm1 = tf.keras.layers.LayerNormalization(epsilon=1e-6)\n",
    "#     self.layernorm2 = tf.keras.layers.LayerNormalization(epsilon=1e-6)\n",
    "\n",
    "#     self.dropout1 = tf.keras.layers.Dropout(rate)\n",
    "#     self.dropout2 = tf.keras.layers.Dropout(rate)\n",
    "\n",
    "#   def call(self, x, training, mask):\n",
    "#     attn_output, _ = self.mha(x, x, x, mask)  # (batch_size, input_seq_len, d_model)\n",
    "#     attn_output = self.dropout1(attn_output, training=training)\n",
    "#     out1 = self.layernorm1(x + attn_output)  # (batch_size, input_seq_len, d_model)\n",
    "\n",
    "#     ffn_output = self.ffn(out1)  # (batch_size, input_seq_len, d_model)\n",
    "#     ffn_output = self.dropout2(ffn_output, training=training)\n",
    "#     out2 = self.layernorm2(out1 + ffn_output)  # (batch_size, input_seq_len, d_model)\n",
    "\n",
    "#     return out2\n",
    "\n",
    "# class DecoderLayer(tf.keras.layers.Layer):\n",
    "#   def __init__(self, d_model, num_heads, dff, rate=0.1):\n",
    "#     super(DecoderLayer, self).__init__()\n",
    "\n",
    "#     self.mha1 = MultiHeadAttention(d_model, num_heads)\n",
    "#     self.mha2 = MultiHeadAttention(d_model, num_heads)\n",
    "\n",
    "#     self.ffn = point_wise_feed_forward_network(d_model, dff)\n",
    "\n",
    "#     self.layernorm1 = tf.keras.layers.LayerNormalization(epsilon=1e-6)\n",
    "#     self.layernorm2 = tf.keras.layers.LayerNormalization(epsilon=1e-6)\n",
    "#     self.layernorm3 = tf.keras.layers.LayerNormalization(epsilon=1e-6)\n",
    "\n",
    "#     self.dropout1 = tf.keras.layers.Dropout(rate)\n",
    "#     self.dropout2 = tf.keras.layers.Dropout(rate)\n",
    "#     self.dropout3 = tf.keras.layers.Dropout(rate)\n",
    "\n",
    "#   def call(self, x, enc_output, training,\n",
    "#            look_ahead_mask, padding_mask):\n",
    "#     # enc_output.shape == (batch_size, input_seq_len, d_model)\n",
    "\n",
    "#     attn1, attn_weights_block1 = self.mha1(x, x, x, look_ahead_mask)  # (batch_size, target_seq_len, d_model)\n",
    "#     attn1 = self.dropout1(attn1, training=training)\n",
    "#     out1 = self.layernorm1(x + attn1)\n",
    "\n",
    "#     attn2, attn_weights_block2 = self.mha2(\n",
    "#         enc_output, enc_output, out1, padding_mask)  # (batch_size, target_seq_len, d_model)\n",
    "#     attn2 = self.dropout2(attn2, training=training)\n",
    "#     out2 = self.layernorm2(out1 + attn2)  # (batch_size, target_seq_len, d_model)\n",
    "\n",
    "#     ffn_output = self.ffn(out2)  # (batch_size, target_seq_len, d_model)\n",
    "#     ffn_output = self.dropout3(ffn_output, training=training)\n",
    "#     out3 = self.layernorm3(out2 + ffn_output)  # (batch_size, target_seq_len, d_model)\n",
    "\n",
    "#     return out3, attn_weights_block1, attn_weights_block2\n",
    "\n",
    "\n",
    "# class Encoder(tf.keras.layers.Layer):\n",
    "#   def __init__(self, num_layers, d_model, num_heads, dff, input_vocab_size,\n",
    "#                rate=0.1):\n",
    "#     super(Encoder, self).__init__()\n",
    "\n",
    "#     self.d_model = d_model\n",
    "#     self.num_layers = num_layers\n",
    "\n",
    "#     self.embedding = tf.keras.layers.Embedding(input_vocab_size, d_model)\n",
    "#     self.pos_encoding = positional_encoding(input_vocab_size,\n",
    "#                                             self.d_model)\n",
    "\n",
    "#     self.enc_layers = [EncoderLayer(d_model, num_heads, dff, rate)\n",
    "#                        for _ in range(num_layers)]\n",
    "\n",
    "#     self.dropout = tf.keras.layers.Dropout(rate)\n",
    "\n",
    "#   def call(self, x, training, mask):\n",
    "#     seq_len = tf.shape(x)[1]\n",
    "\n",
    "#     # adding embedding and position encoding.\n",
    "#     x = self.embedding(x)  # (batch_size, input_seq_len, d_model)\n",
    "#     x *= tf.math.sqrt(tf.cast(self.d_model, tf.float32))\n",
    "#     x += self.pos_encoding[:, :seq_len, :]\n",
    "\n",
    "#     x = self.dropout(x, training=training)\n",
    "\n",
    "#     for i in range(self.num_layers):\n",
    "#       x = self.enc_layers[i](x, training, mask)\n",
    "\n",
    "#     return x  # (batch_size, input_seq_len, d_model)\n",
    "\n",
    "\n",
    "# class Decoder(tf.keras.layers.Layer):\n",
    "#   def __init__(self, num_layers, d_model, num_heads, dff, target_vocab_size,\n",
    "#                rate=0.1):\n",
    "#     super(Decoder, self).__init__()\n",
    "\n",
    "#     self.d_model = d_model\n",
    "#     self.num_layers = num_layers\n",
    "\n",
    "#     self.embedding = tf.keras.layers.Embedding(target_vocab_size, d_model)\n",
    "#     self.pos_encoding = positional_encoding(target_vocab_size, self.d_model)\n",
    "\n",
    "#     self.dec_layers = [DecoderLayer(d_model, num_heads, dff, rate)\n",
    "#                        for _ in range(num_layers)]\n",
    "\n",
    "#     self.dropout = tf.keras.layers.Dropout(rate)\n",
    "\n",
    "#   def call(self, x, enc_output, training,\n",
    "#            look_ahead_mask, padding_mask):\n",
    "#     seq_len = tf.shape(x)[1]\n",
    "#     attention_weights = {}\n",
    "\n",
    "#     x = self.embedding(x)  # (batch_size, target_seq_len, d_model)\n",
    "#     x *= tf.math.sqrt(tf.cast(self.d_model, tf.float32))\n",
    "#     x += self.pos_encoding[:, :seq_len, :]\n",
    "\n",
    "#     x = self.dropout(x, training=training)\n",
    "\n",
    "#     for i in range(self.num_layers):\n",
    "#       x, block1, block2 = self.dec_layers[i](x, enc_output, training,\n",
    "#                                              look_ahead_mask, padding_mask)\n",
    "\n",
    "#       attention_weights[f'decoder_layer{i+1}_block1'] = block1\n",
    "#       attention_weights[f'decoder_layer{i+1}_block2'] = block2\n",
    "\n",
    "#     # x.shape == (batch_size, target_seq_len, d_model)\n",
    "#     return x, attention_weights\n",
    "\n",
    "\n",
    "# class Transformer(tf.keras.Model):\n",
    "#   def __init__(self, num_layers, d_model, num_heads, dff, input_vocab_size,\n",
    "#                target_vocab_size, rate=0.1):\n",
    "#     super().__init__()\n",
    "#     self.encoder = Encoder(num_layers, d_model, num_heads, dff,\n",
    "#                            input_vocab_size, rate)\n",
    "\n",
    "#     self.decoder = Decoder(num_layers, d_model, num_heads, dff,\n",
    "#                            target_vocab_size, rate)\n",
    "\n",
    "#     self.final_layer = tf.keras.layers.Dense(target_vocab_size)\n",
    "\n",
    "#   def call(self, inputs, training):\n",
    "#     # Keras models prefer if you pass the receiver as the first argument\n",
    "#     inp, tar = inputs\n",
    "\n",
    "#     enc_padding_mask, look_ahead_mask, dec_padding_mask = self.create_masks(inp, tar)\n",
    "\n",
    "#     enc_output = self.encoder(inp, training, enc_padding_mask)  # (batch_size, inp_seq_len, d_model)\n",
    "\n",
    "#     # dec_output.shape == (batch_size, tar_seq_len, d_model)\n",
    "#     dec_output, attention_weights = self.decoder(\n",
    "#         tar, enc_output, training, look_ahead_mask, dec_padding_mask)\n",
    "\n",
    "#     final_output = self.final_layer(dec_output)  # (batch_size, tar_seq_len, target_vocab_size)\n",
    "\n",
    "#     return final_output, attention_weights\n",
    "\n",
    "#   def create_masks(self, inp, tar):\n",
    "#     # Encoder padding mask\n",
    "#     enc_padding_mask = create_padding_mask(inp)\n",
    "\n",
    "#     # Used in the 2nd attention block in the decoder.\n",
    "#     # This padding mask is used to mask the encoder outputs.\n",
    "#     dec_padding_mask = create_padding_mask(inp)\n",
    "\n",
    "#     # Used in the 1st attention block in the decoder.\n",
    "#     # It is used to pad and mask future tokens in the input received by\n",
    "#     # the decoder.\n",
    "#     look_ahead_mask = create_look_ahead_mask(tar)\n",
    "\n",
    "#     return enc_padding_mask, look_ahead_mask, dec_padding_mask"
   ]
  },
  {
   "cell_type": "code",
   "execution_count": null,
   "metadata": {
    "id": "085440a2"
   },
   "outputs": [],
   "source": [
    "# tf.keras.backend.clear_session()\n",
    "\n",
    "# # Hyper-parameters\n",
    "# NUM_LAYERS = 2\n",
    "# D_MODEL = 256\n",
    "# NUM_HEADS = 8\n",
    "# DFF = 512\n",
    "# DROPOUT = 0.1\n",
    "\n",
    "# transformer = Transformer(\n",
    "#     num_layers=NUM_LAYERS,\n",
    "#     d_model=D_MODEL,\n",
    "#     num_heads=NUM_HEADS,\n",
    "#     dff=DFF,\n",
    "#     input_vocab_size=VOCAB_SIZE,\n",
    "#     target_vocab_size=VOCAB_SIZE,\n",
    "#     rate=DROPOUT)\n",
    "\n",
    "# model = transformer"
   ]
  }
 ],
 "metadata": {
  "accelerator": "GPU",
  "colab": {
   "machine_shape": "hm",
   "provenance": []
  },
  "gpuClass": "standard",
  "kernelspec": {
   "display_name": "py310_yolo",
   "language": "python",
   "name": "python3"
  },
  "language_info": {
   "codemirror_mode": {
    "name": "ipython",
    "version": 3
   },
   "file_extension": ".py",
   "mimetype": "text/x-python",
   "name": "python",
   "nbconvert_exporter": "python",
   "pygments_lexer": "ipython3",
   "version": "3.10.0"
  }
 },
 "nbformat": 4,
 "nbformat_minor": 0
}
