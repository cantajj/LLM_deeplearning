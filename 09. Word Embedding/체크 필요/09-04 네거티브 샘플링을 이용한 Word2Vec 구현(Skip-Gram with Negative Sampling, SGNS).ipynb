{
 "cells": [
  {
   "cell_type": "markdown",
   "metadata": {
    "id": "huQb0vF0HSOs"
   },
   "source": [
    "이 자료는 위키독스 딥 러닝을 이용한 자연어 처리 입문의 네거티브 샘플링 구현하기 튜토리얼입니다.  \n",
    "\n",
    "링크 : https://wikidocs.net/69141  \n",
    "\n",
    "2021년 10월 14일에 마지막으로 테스트되었습니다."
   ]
  },
  {
   "cell_type": "markdown",
   "metadata": {
    "id": "v5MhyRlqXEcI"
   },
   "source": [
    "## **09-04 네거티브 샘플링을 이용한 Word2Vec 구현(Skip-Gram with Negative Sampling, SGNS)**\n",
    "--- \n",
    "네거티브 샘플링(Negative Sampling)을 사용하는 Word2Vec을 직접 케라스(Keras)를 통해 구현해봅시다."
   ]
  },
  {
   "cell_type": "markdown",
   "metadata": {},
   "source": [
    "---\n",
    "### **1. 네거티브 샘플링(Negative Sampling)**\n",
    "Word2Vec의 출력층에서는 소프트맥스 함수를 지난 단어 집합 크기의 벡터와 실제값인 원-핫 벡터와의 오차를 구하고 이로부터 임베딩 테이블에 있는 모든 단어에 대한 임베딩 벡터 값을 업데이트합니다. 만약 단어 집합의 크기가 수만 이상에 달한다면 이 작업은 굉장히 무거운 작업이므로, Word2Vec은 꽤나 학습하기에 무거운 모델이 됩니다.\n",
    "\n",
    "Word2Vec은 역전파 과정에서 모든 단어의 임베딩 벡터값의 업데이트를 수행하지만, 만약 현재 집중하고 있는 중심 단어와 주변 단어가 '강아지'와 '고양이', '귀여운'과 같은 단어라면, 사실 이 단어들과 별 연관 관계가 없는 '돈가스'나 '컴퓨터'와 같은 수많은 단어의 임베딩 벡터값까지 업데이트하는 것은 비효율적입니다.\n",
    "\n",
    "네거티브 샘플링은 Word2Vec이 학습 과정에서 전체 단어 집합이 아니라 일부 단어 집합에만 집중할 수 있도록 하는 방법입니다. 가령, 현재 집중하고 있는 주변 단어가 '고양이', '귀여운'이라고 해봅시다. 여기에 '돈가스', '컴퓨터', '회의실'과 같은 단어 집합에서 무작위로 선택된 주변 단어가 아닌 단어들을 일부 가져옵니다. 이렇게 하나의 중심 단어에 대해서 전체 단어 집합보다 훨씬 작은 단어 집합을 만들어놓고 마지막 단계를 이진 분류 문제로 변환합니다. 주변 단어들을 긍정(positive), 랜덤으로 샘플링 된 단어들을 부정(negative)으로 레이블링한다면 이진 분류 문제를 위한 데이터셋이 됩니다. 이는 기존의 단어 집합의 크기만큼의 선택지를 두고 다중 클래스 분류 문제를 풀던 Word2Vec보다 훨씬 연산량에서 효율적입니다"
   ]
  },
  {
   "cell_type": "markdown",
   "metadata": {},
   "source": [
    "---\n",
    "### **2. 네거티브 샘플링 Skip-Gram(Skip-Gram with Negative Sampling, SGNS)**\n",
    "앞서 배운 Skip-gram을 상기해봅시다.\n"
   ]
  },
  {
   "cell_type": "markdown",
   "metadata": {},
   "source": [
    "![image](https://wikidocs.net/images/page/69141/%EA%B7%B8%EB%A6%BC1.PNG)"
   ]
  },
  {
   "cell_type": "markdown",
   "metadata": {},
   "source": [
    "\n",
    "\n",
    "\n",
    "Skip-gram은 중심 단어로부터 주변 단어를 예측하는 모델이었습니다. 위와 같은 문장이 있다고 한다면, Skip-gram은 중심 단어 cat으로부터 주변 단어 The, fat, sat, on을 예측합니다. 기존의 Skip-gram 모델을 일종의 주황 박스로 생각해본다면, 아래의 그림과 같이 입력은 중심 단어, 모델의 예측은 주변 단어인 구조입니다.\n",
    "\n",
    "![image](https://wikidocs.net/images/page/69141/%EA%B7%B8%EB%A6%BC1-1.PNG)\n",
    "\n",
    "\n",
    "하지만 네거티브 샘플링을 사용하는 Skip-gram(Skip-Gram with Negative Sampling, SGNS) 이하 SGNS는 이와는 다른 접근 방식을 취합니다. SGNS는 다음과 같이 중심 단어와 주변 단어가 모두 입력이 되고, 이 두 단어가 실제로 윈도우 크기 내에 존재하는 이웃 관계인지 그 확률을 예측합니다.\n",
    "\n",
    "![image](https://wikidocs.net/images/page/69141/%EA%B7%B8%EB%A6%BC1-2.PNG)\n"
   ]
  },
  {
   "cell_type": "markdown",
   "metadata": {},
   "source": [
    "\n",
    "기존의 Skip-gram 데이터셋을 SGNS의 데이터셋으로 바꾸는 과정을 봅시다.\n",
    "\n",
    "![image](https://wikidocs.net/images/page/69141/%EA%B7%B8%EB%A6%BC3.PNG)\n",
    "\n",
    "위의 그림에서 좌측의 테이블은 기존의 Skip-gram을 학습하기 위한 데이터셋입니다. Skip-gram은 기본적으로 중심 단어를 입력, 주변 단어를 레이블로 합니다. 하지만 SGNS를 학습하고 싶다면, 이 데이터셋을 우측의 테이블과 같이 수정할 필요가 있습니다. 우선, 기존의 Skip-gram 데이터셋에서 중심 단어와 주변 단어를 각각 입력1, 입력2로 둡니다. 이 둘은 실제로 윈도우 크기 내에서 이웃 관계였므로 레이블은 1로 합니다. 이제 레이블이 0인 샘플들을 준비할 차례입니다.\n",
    "\n",
    "![image](https://wikidocs.net/images/page/69141/%EA%B7%B8%EB%A6%BC4.PNG)\n"
   ]
  },
  {
   "cell_type": "markdown",
   "metadata": {},
   "source": [
    "\n",
    "실제로는 입력1(중심 단어)와 주변 단어 관계가 아닌 단어들을 입력2로 삼기 위해서 단어 집합에서 랜덤으로 선택한 단어들을 입력2로 하고, 레이블을 0으로 합니다. 이제 이 데이터셋은 입력1과 입력2가 실제로 윈도우 크기 내에서 이웃 관계인 경우에는 레이블이 1, 아닌 경우에는 레이블이 0인 데이터셋이 됩니다. 그리고 이제 두 개의 임베딩 테이블을 준비합니다. 두 임베딩 테이블은 훈련 데이터의 단어 집합의 크기를 가지므로 크기가 같습니다.\n",
    "\n",
    "![image](https://wikidocs.net/images/page/69141/%EA%B7%B8%EB%A6%BC5.PNG)\n",
    "\n",
    "두 테이블 중 하나는 입력 1인 중심 단어의 테이블 룩업을 위한 임베딩 테이블이고, 하나는 입력 2인 주변 단어의 테이블 룩업을 위한 임베딩 테이블입니다. 각 단어는 각 임베딩 테이블을 테이블 룩업하여 임베딩 벡터로 변환됩니다.\n",
    "\n",
    "![image](https://wikidocs.net/images/page/69141/%EA%B7%B8%EB%A6%BC6.PNG)\n",
    "\n",
    "각 임베딩 테이블을 통해 테이블 룩업하여 임베딩 벡터로 변환되었다면 그 후의 연산은 매우 간단합니다.\n",
    "\n",
    "![image](https://wikidocs.net/images/page/69141/%EA%B7%B8%EB%A6%BC7.PNG)\n",
    "\n",
    "중심 단어와 주변 단어의 내적값을 이 모델의 예측값으로 하고, 레이블과의 오차로부터 역전파하여 중심 단어와 주변 단어의 임베딩 벡터값을 업데이트합니다. 학습 후에는 좌측의 임베딩 행렬을 임베딩 벡터로 사용할 수도 있고, 두 행렬을 더한 후 사용하거나 두 행렬을 연결(concatenate)해서 사용할 수도 있습니다. 아래의 실습에서는 좌측의 행렬을 사용하는 방식을 택했습니다."
   ]
  },
  {
   "cell_type": "markdown",
   "metadata": {
    "id": "tnUhr3DtFhku"
   },
   "source": [
    "---\n",
    "### **3. 20뉴스그룹 데이터 전처리하기**"
   ]
  },
  {
   "cell_type": "code",
   "execution_count": 1,
   "metadata": {
    "id": "zk8aRsZDEXkd"
   },
   "outputs": [],
   "source": [
    "import pandas as pd\n",
    "import numpy as np\n",
    "import nltk\n",
    "from nltk.corpus import stopwords\n",
    "from sklearn.datasets import fetch_20newsgroups\n",
    "from tensorflow.keras.preprocessing.text import Tokenizer"
   ]
  },
  {
   "cell_type": "markdown",
   "metadata": {
    "id": "p720f8B0FTcK"
   },
   "source": [
    "20뉴스그룹 데이터를 사용합니다. 이번 실습에서는 하나의 샘플에 최소 단어 2개는 있어야 합니다. 그래야만 중심 단어, 주변 단어의 관계가 성립하며 그렇지 않으면 샘플을 구성할 수 없어 에러가 발생합니다. 전처리 과정에서 지속적으로 이를 만족하지 않는 샘플들을 제거하겠습니다."
   ]
  },
  {
   "cell_type": "code",
   "execution_count": 2,
   "metadata": {
    "colab": {
     "base_uri": "https://localhost:8080/"
    },
    "id": "VKtuMmdK3aY6",
    "outputId": "68eebfc1-e5a0-459f-8324-deec8213b69a"
   },
   "outputs": [
    {
     "name": "stdout",
     "output_type": "stream",
     "text": [
      "총 샘플 수 : 11314\n"
     ]
    }
   ],
   "source": [
    "dataset = fetch_20newsgroups(shuffle=True, random_state=1, remove=('headers', 'footers', 'quotes'))\n",
    "documents = dataset.data\n",
    "print('총 샘플 수 :',len(documents))"
   ]
  },
  {
   "cell_type": "markdown",
   "metadata": {
    "id": "6henJa6iFXaz"
   },
   "source": [
    "총 샘플 수는 11,314개입니다. 전처리를 진행해봅시다. 불필요한 토큰을 제거하고, 소문자화를 통해 정규화를 진행합니다."
   ]
  },
  {
   "cell_type": "code",
   "execution_count": 3,
   "metadata": {
    "id": "4tUNn_k16NPH"
   },
   "outputs": [],
   "source": [
    "news_df = pd.DataFrame({'document':documents})\n",
    "# 특수 문자 제거\n",
    "news_df['clean_doc'] = news_df['document'].str.replace(\"[^a-zA-Z]\", \" \")\n",
    "# 길이가 3이하인 단어는 제거 (길이가 짧은 단어 제거)\n",
    "news_df['clean_doc'] = news_df['clean_doc'].apply(lambda x: ' '.join([w for w in x.split() if len(w)>3]))\n",
    "# 전체 단어에 대한 소문자 변환\n",
    "news_df['clean_doc'] = news_df['clean_doc'].apply(lambda x: x.lower())"
   ]
  },
  {
   "cell_type": "code",
   "execution_count": 4,
   "metadata": {
    "colab": {
     "base_uri": "https://localhost:8080/",
     "height": 203
    },
    "id": "muG9xzOs6Oac",
    "outputId": "3fa4908c-6328-49d5-a4a4-7d691188b039"
   },
   "outputs": [
    {
     "data": {
      "application/vnd.microsoft.datawrangler.viewer.v0+json": {
       "columns": [
        {
         "name": "index",
         "rawType": "int64",
         "type": "integer"
        },
        {
         "name": "document",
         "rawType": "object",
         "type": "string"
        },
        {
         "name": "clean_doc",
         "rawType": "object",
         "type": "string"
        }
       ],
       "conversionMethod": "pd.DataFrame",
       "ref": "924cfcbe-cac4-4615-9fec-1a9dabfe3792",
       "rows": [
        [
         "0",
         "Well i'm not sure about the story nad it did seem biased. What\nI disagree with is your statement that the U.S. Media is out to\nruin Israels reputation. That is rediculous. The U.S. media is\nthe most pro-israeli media in the world. Having lived in Europe\nI realize that incidences such as the one described in the\nletter have occured. The U.S. media as a whole seem to try to\nignore them. The U.S. is subsidizing Israels existance and the\nEuropeans are not (at least not to the same degree). So I think\nthat might be a reason they report more clearly on the\natrocities.\n\tWhat is a shame is that in Austria, daily reports of\nthe inhuman acts commited by Israeli soldiers and the blessing\nreceived from the Government makes some of the Holocaust guilt\ngo away. After all, look how the Jews are treating other races\nwhen they got power. It is unfortunate.\n",
         "well sure about story seem biased. what disagree with your statement that u.s. media ruin israels reputation. that rediculous. u.s. media most pro-israeli media world. having lived europe realize that incidences such described letter have occured. u.s. media whole seem ignore them. u.s. subsidizing israels existance europeans least same degree). think that might reason they report more clearly atrocities. what shame that austria, daily reports inhuman acts commited israeli soldiers blessing received from government makes some holocaust guilt away. after all, look jews treating other races when they power. unfortunate."
        ],
        [
         "1",
         "\n\n\n\n\n\n\nYeah, do you expect people to read the FAQ, etc. and actually accept hard\natheism?  No, you need a little leap of faith, Jimmy.  Your logic runs out\nof steam!\n\n\n\n\n\n\n\nJim,\n\nSorry I can't pity you, Jim.  And I'm sorry that you have these feelings of\ndenial about the faith you need to get by.  Oh well, just pretend that it will\nall end happily ever after anyway.  Maybe if you start a new newsgroup,\nalt.atheist.hard, you won't be bummin' so much?\n\n\n\n\n\n\nBye-Bye, Big Jim.  Don't forget your Flintstone's Chewables!  :) \n--\nBake Timmons, III",
         "yeah, expect people read faq, etc. actually accept hard atheism? need little leap faith, jimmy. your logic runs steam! jim, sorry can't pity you, jim. sorry that have these feelings denial about faith need well, just pretend that will happily ever after anyway. maybe start newsgroup, alt.atheist.hard, won't bummin' much? bye-bye, jim. don't forget your flintstone's chewables! bake timmons,"
        ],
        [
         "2",
         "Although I realize that principle is not one of your strongest\npoints, I would still like to know why do do not ask any question\nof this sort about the Arab countries.\n\n   If you want to continue this think tank charade of yours, your\nfixation on Israel must stop.  You might have to start asking the\nsame sort of questions of Arab countries as well.  You realize it\nwould not work, as the Arab countries' treatment of Jews over the\nlast several decades is so bad that your fixation on Israel would\nbegin to look like the biased attack that it is.\n\n   Everyone in this group recognizes that your stupid 'Center for\nPolicy Research' is nothing more than a fancy name for some bigot\nwho hates Israel.",
         "although realize that principle your strongest points, would still like know question this sort about arab countries. want continue this think tank charade yours, your fixation israel must stop. might have start asking same sort questions arab countries well. realize would work, arab countries' treatment jews over last several decades that your fixation israel would begin look like biased attack that everyone this group recognizes that your stupid 'center policy research' nothing more than fancy name some bigot hates israel."
        ],
        [
         "3",
         "Notwithstanding all the legitimate fuss about this proposal, how much\nof a change is it?  ATT's last product in this area (a) was priced over\n$1000, as I suspect 'clipper' phones will be; (b) came to the customer \nwith the key automatically preregistered with government authorities. Thus,\naside from attempting to further legitimize and solidify the fed's posture,\nClipper seems to be \"more of the same\", rather than a new direction.\n   Yes, technology will eventually drive the cost down and thereby promote\nmore widespread use- but at present, the man on the street is not going\nto purchase a $1000 crypto telephone, especially when the guy on the other\nend probably doesn't have one anyway.  Am I missing something?\n   The real question is what the gov will do in a year or two when air-\ntight voice privacy on a phone line is as close as your nearest pc.  That\nhas got to a problematic scenario for them, even if the extent of usage\nnever surpasses the 'underground' stature of PGP.",
         "notwithstanding legitimate fuss about this proposal, much change att's last product this area priced over $1000, suspect 'clipper' phones will came customer with automatically preregistered with government authorities. thus, aside from attempting further legitimize solidify fed's posture, clipper seems \"more same\", rather than direction. yes, technology will eventually drive cost down thereby promote more widespread use- present, street going purchase $1000 crypto telephone, especially when other probably doesn't have anyway. missing something? real question what will year when air- tight voice privacy phone line close your nearest that problematic scenario them, even extent usage never surpasses 'underground' stature pgp."
        ],
        [
         "4",
         "Well, I will have to change the scoring on my playoff pool.  Unfortunately\nI don't have time right now, but I will certainly post the new scoring\nrules by tomorrow.  Does it matter?  No, you'll enter anyway!!!  Good!\n\n--\n    Keith Keller\t\t\t\tLET'S GO RANGERS!!!!!\n\t\t\t\t\t\tLET'S GO QUAKERS!!!!!\n\tkkeller@mail.sas.upenn.edu\t\tIVY LEAGUE CHAMPS!!!!",
         "well, will have change scoring playoff pool. unfortunately don't have time right now, will certainly post scoring rules tomorrow. does matter? you'll enter anyway!!! good! keith keller let's rangers!!!!! let's quakers!!!!! kkeller@mail.sas.upenn.edu league champs!!!!"
        ],
        [
         "5",
         " \n \nI read somewhere, I think in Morton Smith's _Jesus the Magician_, that\nold Lazarus wasn't dead, but going in the tomb was part of an initiation\nrite for a magi-cult, of which Jesus was also a part.   It appears that\na 3-day stay was normal.   I wonder .... ?",
         "read somewhere, think morton smith's _jesus magician_, that lazarus wasn't dead, going tomb part initiation rite magi-cult, which jesus also part. appears that 3-day stay normal. wonder ...."
        ],
        [
         "6",
         "\nOk.  I have a record that shows a IIsi with and without a 64KB cache.\nIt's small enough that I will attach it.\n\nI have also measured some real programs with and without the 64 KB\ncache.  The speedup varies a lot from app to app, ranging from 0% to\n40%.  I think an average of 20%-25% is about right.  The subjective\ndifference is not great, but is sometimes noticable.  A simple cache\ncard certainly does not transform a IIsi into something enormously\nbetter.  I do not have an FPU.\n\nThe conventional wisdom says that cache cards from all of the makers\noffer about the same speedup and that there is not much difference\nbetween 32K and 64K caches.  I bought mine from Third Wave for well\nunder $150.  I have had absolutely no problems at all with it.\n\nIf you get *complete* speedometer runs for a 32K cache, I'd like to\nsee them.  Let's check the conventional wisdom!  The so called\n\"Performance Rating\" numbers by themselves are of no interest. \n\nCheers.\n\n(This file must be converted with BinHex 4.0)\n:#@0KBfKP,Q0`G!\"338083e\"$9!!!!!!'A!!!!!$qK3%\"a+!!!!BGJ&CfGiGfH(H\n)GhQ!QSQBUC!!@SQUU(QSCfPhGhL(H+HCL&KjQTU)LDH)HBL*UCUCJ!U@GQ9hGiK\nhCAKR9SPiJ)QRQ)QUJ+N(J!UCLD#U#S!!S!QUUTQC#U#DL3J)#3LT#UU)QUUBUT!\n!S!L3!!UU#!QJS+UT!!QJS*UD#TUUQCQ3!*!!UCFJ!!%c4ACSL'D)L)D!#!!)#!!\n!!!!!!!!)!!!!!!!!J!B8*%9@9L0A\"i!!G`!!G`B!!(J)\"i###B!P[US),B\")21Z\n-1I\"k-cQFM-VXMHhA!irdjPcVr,lUCVSZ2SI8j@,-l,jPI`F#lZq0A\"AL8XRHjf,\n6[LJ09\"aZ2TV6l!$9lN@eAP@Rei8(VIpIQkfDK$-ZV[b+9[T5lkC0XZ6LGhf(Ik&\na$Lkh*Q6-qhh2MIlc*Q2Iq$p([GeSp(ejN!\"bHMdHll$&Qh'lR`E26C2(QBqSrMM\npa-k()jPGXqcpR2rYR9eYd0,*Mh0,h1rj1*hA%pcLHRSG6PF2eIYmc4rIS60EFp+\nCGE@Vr$[TRAFA(QkA`pG8JkS[@fe1mcBikFQC(,(9K[U&h\"\"0rr\"BDDT(i%XP3Z$\nV04L8D82FeU01V4K-9U#JaD@1*fZa`EZr3-eGTYkNXH49SjF2Ei[G*5el3[VZ'j[\nVf($bTBHjlEX3Pe0KJ8,ZKH!9Cc3+fJ%kHGZC*BHhNV9+DC6Xd$[S58DFD\"pJ%ei\nq#CXHkEL`@d%&PYYY\"1f0rG`jm0rJTCYMi4B1KbB'pUBQ)PU9'q\"*m1miHG#YR`b\neUNG1'mSAP#mR`i-1*K`l[DiNq'MQjZA(,4bq\"$*Mimq(KC9@@(-Mc'\"f88e9U&0\nF'Y4U5eXb(\"+6T8D@6(R3ae+10Padk\"CAK!*Ea6SThLiA9HF!H&&Da@[,[2bA2!p\n2VIr&TI)!6V`%S!*eJ#GS!Q!!QqD#2P!*M49m9IdHhm2frUq2Ek))G3e\"Vi)+rQJ\nC[`%m#+E&0jf\"YI2ql`VI&0qHH!R[339`'9hY46)TR+ZkXI!pQRQKCU3%ed9R&Cr\n!QCiUk+ZmEf)IYI&bqMEffkT5bB`JhYl2K[0PXVe0B@@2*@Uam121D`A`h+cC)Xl\nIEjf8S+#9`a6[P8p0ZC&6H0ajcY1BR\"JDM3`F%lJ1&5bI+SC2Jh([qeTfVK961rR\nZVIq[+Rb-TH3'B3f0r$h''cP%\"UY1'jU53jY@5P(RCdPAXAfrl\"Xrhf#Y\"dmV1i$\n9%Dm@T+f4NMlP5jd-XN0(K5C91'R@)4Qb9C5Ke1h%V-kiaRA-NTa`b9(YYL5TM5*\nF2#bUFFLGJ%,D8QA*9R`eUQ29Sj!!p0b'\"c5LEFR4@%9KpDGj1,bijhNaDH,6mrm\n(3qpJITeraM0+0RHJ*aJ%f`#HJ!R4JJXDK22e!Cab5DK)jkRq0r[IcrC`[c!Krd(\n$m1VrbJCX!NR)3FrcHYPk(r1CHJjiJ#Hk%'J84pq+#+$a2&r&bZ,Ff1V,-KG6qG9\nMbmUPG9XkUeX$2Gl!Gl!Gl!GE!k5hrX(F4IX4IRNYkb\"M%rSbN4`8m8qPq2rAd[j\nFhRC#4(PeI2RFhY0+j-GH'!P*S)h!#HN!R6JJXb5f'b!clJkfb121qGm2MclEe,S\nmHpf12b4arQ$Q%%PLK\"q(8@I8[qRmmS5[l`\"2fP!\"4CpjY0,DDAp2AlE#eIPBD0c\nrL1,PeXj39[%9k`HF4Z,ZKGN4h9A+b-T23l)RDf'a13X\"'-#VbKJ[!9ME*!Tlp2-\nQckRpM@J2e5BN*f&jHN*[Vp-#f+F(J)PQXJNlYRLpQ3C,%`Cm0l3E[MP\"cXZ6`)B\nmpVS0)P3Y@XTB5F5qaSr\"XrmrZf1iLXSV,pPVjICFMRrekXdDI`0FHmT[Q!4VL`T\naalM336chGUr@\"Me6YarIDI&Y2LpE9HPaI#fhNFmq$qLchVC(dUajJ%eb%(6NdIH\np#jqEd#X1cGDTVmDY965+@Pi,Mr1JeR&pq`q@\"AacVkC[0lZi3-Z-5PZk8%f$Vrd\nHfR&1mci,3&Nqh9r\"e%\"j5Ve$0rN`AbfB\"Qqlk$C`3@LKQRh0(-MKhNYA+UC&Qhq\n5kajHR1eFqR,2H5b8Z!SLfG3!!2TPmiF!!3!+58PcD5eMB@0SC3%!!!!)6@0S9(0\n3C$1R$)JJT`b+33%!ADmicJ!#!!!4a3!!!!!!!!B9!!!!!,AP!!!:\n-- ",
         "have record that shows iisi with without 64kb cache. it's small enough that will attach have also measured some real programs with without cache. speedup varies from app, ranging from 40%. think average 20%-25% about right. subjective difference great, sometimes noticable. simple cache card certainly does transform iisi into something enormously better. have fpu. conventional wisdom says that cache cards from makers offer about same speedup that there much difference between caches. bought mine from third wave well under $150. have absolutely problems with *complete* speedometer runs cache, like them. let's check conventional wisdom! called \"performance rating\" numbers themselves interest. cheers. (this file must converted with binhex 4.0) :#@0kbfkp,q0`g!\"338083e\"$9!!!!!!'a!!!!!$qk3%\"a+!!!!bgj&cfgigfh(h )ghq!qsqbuc!!@squu(qscfphghl(h+hcl&kjqtu)ldh)hbl*ucucj!u@gq9hgik hcakr9spij)qrq)quj+n(j!ucld#u#s!!s!quutqc#u#dl3j)#3lt#uu)quubut! !s!l3!!uu#!qjs+ut!!qjs*ud#tuuqcq3!*!!ucfj!!%c4acsl'd)l)d!#!!)#!! !!!!!!!!)!!!!!!!!j!b8*%9@9l0a\"i!!g`!!g`b!!(j)\"i###b!p[us),b\")21z -1i\"k-cqfm-vxmhha!irdjpcvr,lucvsz2si8j@,-l,jpi`f#lzq0a\"al8xrhjf, 6[lj09\"az2tv6l!$9ln@eap@rei8(vipiqkfdk$-zv[b+9[t5lkc0xz6lghf(ik& a$lkh*q6-qhh2milc*q2iq$p([gesp(ejn!\"bhmdhll$&qh'lr`e26c2(qbqsrmm pa-k()jpgxqcpr2ryr9eyd0,*mh0,h1rj1*ha%pclhrsg6pf2eiymc4ris60efp+ cge@vr$[trafa(qka`pg8jks[@fe1mcbikfqc(,(9k[u&h\"\"0rr\"bddt(i%xp3z$ v04l8d82feu01v4k-9u#jad@1*fza`ezr3-egtyknxh49sjf2ei[g*5el3[vz'j[ vf($btbhjlex3pe0kj8,zkh!9cc3+fj%khgzc*bhhnv9+dc6xd$[s58dfd\"pj%ei q#cxhkel`@d%&pyyy\"1f0rg`jm0rjtcymi4b1kbb'pubq)pu9'q\"*m1mihg#yr`b eung1'msap#mr`i-1*k`l[dinq'mqjza(,4bq\"$*mimq(kc9@@(-mc'\"f88e9u&0 f'y4u5exb(\"+6t8d@6(r3ae+10padk\"cak!*ea6sthlia9hf!h&&da@[,[2ba2!p 2vir&ti)!6v`%s!*ej#gs!q!!qqd#2p!*m49m9idhhm2fruq2ek))g3e\"vi)+rqj c[`%m#+e&0jf\"yi2ql`vi&0qhh!r[339`'9hy46)tr+zkxi!pqrqkcu3%ed9r&cr !qciuk+zmef)iyi&bqmeffkt5bb`jhyl2k[0pxve0b@@2*@uam121d`a`h+cc)xl iejf8s+#9`a6[p8p0zc&6h0ajcy1br\"jdm3`f%lj1&5bi+sc2jh([qetfvk961rr zviq[+rb-th3'b3f0r$h''cp%\"uy1'ju53jy@5p(rcdpaxafrl\"xrhf#y\"dmv1i$ 9%dm@t+f4nmlp5jd-xn0(k5c91'r@)4qb9c5ke1h%v-kiara-nta`b9(yyl5tm5* f2#bufflgj%,d8qa*9r`euq29sj!!p0b'\"c5lefr4@%9kpdgj1,bijhnadh,6mrm (3qpjiteram0+0rhj*aj%f`#hj!r4jjxdk22e!cab5dk)jkrq0r[icrc`[c!krd( $m1vrbjcx!nr)3frchypk(r1chjjij#hk%'j84pq+#+$a2&r&bz,ff1v,-kg6qg9 mbmupg9xkuex$2gl!gl!gl!ge!k5hrx(f4ix4irnykb\"m%rsbn4`8m8qpq2rad[j fhrc#4(pei2rfhy0+j-gh'!p*s)h!#hn!r6jjxb5f'b!cljkfb121qgm2mclee,s mhpf12b4arq$q%%plk\"q(8@i8[qrmms5[l`\"2fp!\"4cpjy0,ddap2ale#eipbd0c rl1,pexj39[%9k`hf4z,zkgn4h9a+b-t23l)rdf'a13x\"'-#vbkj[!9me*!tlp2- qckrpm@j2e5bn*f&jhn*[vp-#f+f(j)pqxjnlyrlpq3c,%`cm0l3e[mp\"cxz6`)b mpvs0)p3y@xtb5f5qasr\"xrmrzf1ilxsv,ppvjicfmrrekxddi`0fhmt[q!4vl`t aalm336chgur@\"me6yaridi&y2lpe9hpai#fhnfmq$qlchvc(duajj%eb%(6ndih p#jqed#x1cgdtvmdy965+@pi,mr1jer&pq`q@\"aacvkc[0lzi3-z-5pzk8%f$vrd hfr&1mci,3&nqh9r\"e%\"j5ve$0rn`abfb\"qqlk$c`3@lkqrh0(-mkhnya+uc&qhq 5kajhr1efqr,2h5b8z!slfg3!!2tpmif!!3!+58pcd5emb@0sc3%!!!!)6@0s9(0 3c$1r$)jjt`b+33%!admicj!#!!!4a3!!!!!!!!b9!!!!!,ap!!!:"
        ],
        [
         "7",
         "\n\n\nSounds like wishful guessing.\n\n\n\n\n'So-called' ? What do you mean ? How would you see the peace process?\n\nSo you say palestineans do not negociate because of 'well-founded' predictions ?\nHow do you know that they are 'well founded' if you do not test them at the \ntable ? 18 months did not prove anything, but it's always the other side at \nfault, right ?\n\nWhy ? I do not know why, but if, let's say, the Palestineans (some of them) want\nALL ISRAEL, and these are known not to be accepted terms by israelis.\n\nOr, maybe they (palestinenans) are not yet ready for statehood ?\n\nOr, maybe there is too much politics within the palestinean leadership, too many\nfractions aso ?\n\nI am not saying that one of these reasons is indeed the real one, but any of\nthese could make arabs stall the negotiations.\n\n \nI like California oranges. And the feelings may get sharper at the table.\n\n\n\nRegards,",
         "sounds like wishful guessing. 'so-called' what mean would peace process? palestineans negociate because 'well-founded' predictions know that they 'well founded' test them table months prove anything, it's always other side fault, right know why, let's say, palestineans (some them) want israel, these known accepted terms israelis. maybe they (palestinenans) ready statehood maybe there much politics within palestinean leadership, many fractions saying that these reasons indeed real one, these could make arabs stall negotiations. like california oranges. feelings sharper table. regards,"
        ],
        [
         "8",
         " Nobody is saying that you shouldn't be allowed to use msg.  Just\ndon't force it on others. If you have food that you want to \nenhance with msg just put the MSG on the table like salt.  It is\nthen the option of the eater to use it.  If you make a commerical\nproduct, just leave it out. You can include a packet (like some\nsalt packets) if you desire.\n\nSalt, pepper, mustard, ketchup, pickles ..... are table options.\nTreat MSG the same way.  I wouldn't shove my condiments down your\nthroat, don't shove yours down mine.\n\nWFL\n",
         "nobody saying that shouldn't allowed msg. just don't force others. have food that want enhance with just table like salt. then option eater make commerical product, just leave out. include packet (like some salt packets) desire. salt, pepper, mustard, ketchup, pickles ..... table options. treat same way. wouldn't shove condiments down your throat, don't shove yours down mine."
        ],
        [
         "9",
         "\n  I was wondering if anyone can shed any light on just how it is that these\nelectronic odometers remember the total elapsed mileage?  What kind of\nmemory is stable/reliable enough, non-volatile enough and independent enough\n(of outside battery power) to last say, 10 years or more, in the life of a\nvehicle?  I'm amazed that anything like this could be expected to work for\nthis length of time (especially in light of all the gizmos I work with that\nare doing good to work for 2 months without breaking down somehow).\n\nSide question:  how about the legal ramifications of selling a used car with\na replaced odometer that starts over at 0 miles, after say 100/200/300K\nactual miles.  Looks like fraud would be fairly easy - for the price of a\nnew odometer, you can say it has however many miles you want to tell the\nbuyer it has.\n\nThanks for any insight.\n",
         "wondering anyone shed light just that these electronic odometers remember total elapsed mileage? what kind memory stable/reliable enough, non-volatile enough independent enough outside battery power) last say, years more, life vehicle? amazed that anything like this could expected work this length time (especially light gizmos work with that doing good work months without breaking down somehow). side question: about legal ramifications selling used with replaced odometer that starts over miles, after 100/200/300k actual miles. looks like fraud would fairly easy price odometer, however many miles want tell buyer has. thanks insight."
        ],
        [
         "10",
         "Archive-name: graphics/resources-list/part1\nLast-modified: 1993/04/17\n\n\nComputer Graphics Resource Listing : WEEKLY POSTING [ PART 1/3 ]\n===================================================\nLast Change : 17 April 1993\n\nMany FAQs, including this Listing, are available on the archive site\npit-manager.mit.edu (alias rtfm.mit.edu) [18.172.1.27] in the directory\npub/usenet/news.answers.  The name under which a FAQ is archived appears\nin the Archive-name line at the top of the article.\nThis FAQ is archived as graphics/resources-list/part[1-3]\n\nThere's a mail server on that machine. You send a e-mail message to\nmail-server@pit-manager.mit.edu  containing the keyword \"help\" (without\nquotes!) in the message body.\n\nYou can see in many other places for this Listing. See the item:\n\n0. Places to find the Resource Listing\n\nfor more information.\n\nItems Changed:\n--------------\n\nRE-ARRANGED the subjects, in order to fir better in the 63K/article limit.\nI PLAN ON CHANGING HEADERS SOON, SO BE CAREFUL! ONLY THE \"Resource Listing\"\nkeys are sure to remain in the Subject: line!\n\n0. Places to find the Resource Listing\n6.  3D graphics editors\n   a. Public domain, free and shareware systems\n9. Plotting packages\n18. Molecular visualization stuff\n\n[ I'm thinking of making this post bi-weekly. What do you think??? ]\n\n--------------\n\nLines which got changed, have the `#' character in front of them.\nAdded lines are prepended with a `+'\nRemoved lines are just removed. Use 'diff' to locate these changes.\n\n========================================================================\n\nThis text is (C)Copyright 1992, 1993 of Nikolaos C. Fotis. You can copy\nfreely this file, provided you keep this copyright notice intact.\n\nCompiled by Nikolaos (Nick) C. Fotis, e-mail: nfotis@theseas.ntua.gr\n\nPlease contact me for updates,corrections, etc.\n\nDisclaimer: I do not guarantee the accuracy of this document.\nUse it at your own risk.\n\n========================================================================\n\nThis is mainly a guide for computer graphics software.\nI would suggest reading the Comp. Graphics FAQ for image analysis stuff.\n\nIt's entitled: \n (date) comp.graphics Frequently Asked Questions (FAQ)\n\n John T. Grieggs <grieggs@jpl-devvax.jpl.nasa.gov> is the poster of the\n official comp.graphics FAQ\n\nI have included my comments within braces '[' and ']'.\n\nNikolaos Fotis\n\n========================================================================\n\nContents of the Resource Listing\n================================\n\nPART1:\n------\n0. Places to find the Resource Listing\n1. ARCHIE\n2. Notes\n3. Computer graphics FTP site list, by Eric Haines\n4. Mail servers and graphics-oriented BBSes\n5. Ray-tracing/graphics-related mailing lists.\n6.  3D graphics editors\n   a. Public domain, free and shareware systems\n   b. Commercial systems\n7. Scene description languages\n8. Solids description formats\n\nPART2:\n------\n\n9. Plotting packages\n10. Image analysis software - Image processing and display\n\nPART3:\n------\n11. Scene generators/geographical data/Maps/Data files\n12. 3D scanners - Digitized 3D Data.\n13. Background imagery/textures/datafiles\n14. Introduction to rendering algorithms\n   a. Ray tracing\n   b. Z-buffer (depth-buffer)\n   c. Others\n15. Where can I find the geometric data for the:\n   a. Teapot ?\n   b. Space Shuttle ?\n16. Image annotation software\n17. Scientific visualization stuff\n18. Molecular visualization stuff\n19. GIS (Geographical Information Systems software)\n\nFuture additions:\n[Please send me updates/info!]\n\n========================================================================\n\n0. Places to find the Resource Listing\n======================================\n\n#This file is crossposted to comp.graphics, comp.answers and news.answers,\nso if you can't locate it in comp.graphics, you're advised to search in\n#comp.answers or news.answers\n(The latter groups usually are archived in your site. Contact your sysadmin\nfor more info).\n\nThese 3 articles are posted to comp.graphics 3-4 times a month and are kept in\nmany places (see below)\n\n--\n\nMany FAQs, including this one, are available on the archive site\npit-manager.mit.edu (alias rtfm.mit.edu) [18.172.1.27] in the directory\npub/usenet/news.answers.  The name under which a FAQ is archived appears\nin the Archive-name line at the top of the article.\nThis FAQ is archived as graphics/resources-list/part[1-3]\n\nThere's a mail server on that machine. You send a e-mail message to\nmail-server@pit-manager.mit.edu  containing: help in the Subject: field\n\n--\n\nThe inria-graphlib mail server mirrors this posting (see under the\nSubject 4: Mail servers )\n\n--\n\nThe Resource Listing is accesible through WAIS in the machine\nenuxva.eas.asu.edu (port 8000) under the name graphics-resources-list.\nIt's got a digest-type line before every numbered item for purposes of\nindexing.\n\n--\n\nAnother place that monitors the Listing is the MaasInfo files.\nFor more info contact Robert E. Maas <rem@btr.com>\n\n--\n\nYet another place to search for FAQs in general is the SWITCH\n(Swiss Academic and Research Network) system in Switzerland:\n\ninteractive:\n  telnet nic.switch.ch [130.59.1.40], login as \"info\". Move to the\n  info_service/Usenet/periodic-postings directory. Search in the\n  00index file by typing \"/\" and the word to look for.\n  You may then just read the FAQ in the \"faqs\" directory, or decide\n  to fetch it by one of the following methods.\n\nftp:\n  login to nic.switch.ch [130.59.1.40] as user anonymous and\n  enter your internet-style address after being prompted for a\n  password.\n\n\tcd info_service/Usenet/periodic-postings\n\nmail:\n  send e-mail to\n\nRFC-822:\n   archive-server@nic.switch.ch\nX.400:\n  /S=archive-server/OU=nic/O=switch/PRMD=switch/ADMD=arcom/C=ch/\n\nEnter 'help' in the bodypart to receive instructions. No information\nis required in the subject header line.\n\n\n1. ARCHIE\n=========\n\nThe Archie is a service system to locate FTP places for\nrequested files. It's appreciated that you will use Archie\nbefore asking help in the newsgroups.\n\nArchie servers:\n  archie.au or 139.130.4.6             (Aussie/NZ)\n  archie.funet.fi or 128.214.6.100  (Finland/Eur.)\n  archie.th-darmstadt.de or 130.83.128.111  (GER.)\n  cs.huji.ac.il or 132.65.6.5             (Israel)\n  archie.kuis.kyoto-u.ac.jp or 130.54.20.1 (JAPAN)\n  archie.sogang.ac.kr or 163.239.1.11      (Korea)\n  archie.ncu.edu.tw or telnet 140.115.19.24  (TWN)\n  archie.doc.ic.ac.uk or 146.169.3.7  (UK/Ireland)\n  archie.sura.net or 128.167.254.179    (USA [MD])\n  archie.unl.edu (password: archie1)    (USA [NE])\n  archie.ans.net or 147.225.1.2         (USA [NY])\n  archie.rutgers.edu or 128.6.18.15     (USA [NJ])\n  archie.nz or 130.195.9.4           (New Zealand)\n\nConnect to Archie server with telnet and type \"archie\" as username.\nTo get help type 'help'.\nYou can get 'xarchie' or 'archie', which are clients that call Archie\nwithout the burden of a telnet session.\n'Xarchie' is on the X11.R5 contrib tape, and 'archie' on comp.sources.misc,\nvol. 27.\n\nTo get information on how to use Archie via e-mail, send mail with\nsubject \"help\" to \"archie\" account at any of above sites.\n\n(Note to Janet/PSS users -- the United Kingdom archie site is\naccessible on the Janet host doc.ic.ac.uk [000005102000].\nConnect to it and specify \"archie\" as the host name and \"archie\" as\nthe username.)\n\n==========================================================================\n\n2. Notes\n========\n(Excerpted from the FAQ article)\n\nPlease do *not* post or mail messages saying \"I can't FTP, could\nsomeone mail this to me?\"  There are a number of automated mail servers\nthat will send you things like this in response to a message.\n\nThere are a number of sites that archive the Usenet sources newsgroups\nand make them available via an email query system.  You send a message\nto an automated server saying something like \"send comp.sources.unix/fbm\",\nand a few hours or days later you get the file in the mail.\n\n==========================================================================\n\n3. Computer graphics FTP site list, by Eric Haines\n==================================================\n\nComputer graphics related FTP sites (and maintainers), 26/03/93\n\tcompiled by Eric Haines, erich@eye.com\n\tand Nick Fotis, nfotis@theseas.ntua.gr\n\nRay-tracers:\n------------\n\nRayShade - a great ray tracer for workstations on up, also for PC, Mac & Amiga.\nPoV - son and successor to DKB trace, written by Compuservers.\n\t(For more questions call Drew Wells --\n\t73767.1244@compuserve.com or Dave Buck -- david_buck@carleton.ca)\nART - ray tracer with a good range of surface types, part of VORT package.\nDKBtrace - another good ray tracer, from all reports; PCs, Mac II,\n\tAmiga, UNIX, VMS (last two with X11 previewer), etc.\nRTrace - Portugese ray tracer, does bicubic patches, CSG, 3D text, etc. etc.\n\tAn MS-DOS version for use with DJGPP DOS extender (GO32) exists also,\n\tas a Mac port.\nVIVID2 - A shareware raytracer for PCs - binary only (286/287).  Author:\n\tStephen Coy (coy@ssc-vax.boeing.com).  The 386/387 (no source) version\n\tis available to registered users (US$50) direct from the author.\nRAY4 - Steve Hollasch's 4-dimensional ray tracer - renders hyperspheres,\n\thypertetrahedra, hyperplanes, and hyperparallelepipeds (there's\n\ta separate real-time wireframe viewer written in GL called WIRE4 ) .\nMTV,QRT,DBW - yet more ray tracers, some with interesting features.\n\nDistributed/Parallel Raytracers:\n--------------------------------\n\nXDART - A distributed ray-tracer that runs under X11. There are server binaries\n\twhich work only on DECstations, SPARCs, HP Snakes (7x0 series) and NeXT.\n\tThe clients are distributed as binaries and C source.\nInetray - A network version of Rayshade 4.0.  Needs Sun RPC 4.0 or newer.\n\tContact Andreas Thurnherr (ant@ips.id.ethz.ch)\nprt, VM_pRAY - parallel ray tracers.\n\nVolume renderers:\n-----------------\n\nVREND - Cornell's Volume Renderer, from Kartch/Devine/Caffey/Warren (FORTRAN).\n\nRadiosity (and diffuse lighting) renderers:\n-------------------------------------------\n\nRadiance - a ray tracer w/radiosity effects, by Greg Ward.  Excellent shading\n\tmodels and physically based lighting simulation.  Unix/X based, though\n\thas been ported to the Amiga and the PC (386).\nINDIA - An Indian radiosity package based on Radiance.\nSGI_RAD - An interactive radiosity package that runs on SGI machines with a\n\tSpaceball. It includes a house database.\n\tAuthor: Guy Moreillon <moreillo@ligsg1.epfl.ch>\nRAD - a simple public-domain radiosity package in C. The solution can be run\n\tstand-alone on any Unix box, but the walk-through requires a SGI 4D.\n\tAuthor: Bernard Kwok <g-kwok@cs.yorku.ca>\n\nRenderers which are not raytracers, and graphics libraries:\n-----------------------------------------------------------\n\nSIPP - Scan line z-buffer and Phong shading renderer.\n\tNow uses the shadow buffer algorithm.\nTcl-SIPP - a Tcl command interface to the SIPP rendering\n\tprogram. Tcl-SIPP is a set of Tcl commands used to programmed\n\tSIPP without having to write and compile C code.\n\tCommands are used to specify surfaces, objects,\n\tscenes and rendering options.\n\tIt renders either in PPM format or in Utah Raster Toolkit RLE format\n\tor to the photo widget in the Tk-based X11 applications.\n\nVOGLE - graphics learning environment (device portable).\nVOGL - an SGI GL-like library based on VOGLE.\nREND386 - A *fast* polygon renderer for Intel 386s and up. Version 2 on up.\n\t[ It's not photorealistic, but rather a real-time renderer]\nXSHARP21 - Dr. Dobb's Journal PC renderer source code, with budget texture\n\tmapping.\n\nModellers, wireframe viewers:\n-----------------------------\n\nVISION-3D - Mac modeler, can output Radiance & Rayshade files.\nIRIT - A CSG solid modeler, with support for freeform surfaces.\nX3D - A wireframe viewer for X11.\n3DV - 3-D wireframe graphics toolkit, with C source, 3dv objects, other stuff\n\tLook at major PC archives like wuarchive. One such file is 3DKIT1.ZIP\nPV3D - a shareware front end modeler for POVRAY, still in beta test.\n  French docs for now, price for registering 250 French Francs. Save disabled.\n  Some extra utilities, DXF files for the registered version.\n\nGeometric viewers:\n------------------\n\nSALEM - A GL-based package from Dobkin et al. for exploring mathematical\n\tstructures.\nGEOMVIEW - A GL-based package for looking and interactively manipulating\n3D objects, from Geometry Center at Minnesota.\nXYZ GeoBench -(eXperimental geometrY Zurich) is a workbench for geometric\n\tcomputation for Macintosh computers.\nWIRE4 - GL wireframe previewer for Steve Hollasch's RAY4 (see above)\n\nData Formats and Data Sets for Ray Tracing:\n-------------------------------------------\n\nSPD - a set of procedural databases for testing ray tracers.\nNFF - simplistic file format used by SPD.\nOFF - another file format.\nP3D - a lispy file format.\nTDDD - Imagine (3D modeler) format, has converters for RayShade, NFF, OFF, etc.\n\tAlso includes a nice postscript object displayer.  Some GREAT models.\nTTDDDLIB - converts to/from TDDD/TTDDD, OFF, NFF, Rayshade 4.0, Imagine,\n\tand vort 3d objects. Also outputs Framemaker MIF files and isometric\n\tviews in Postscript. Registered users get a TeX PK font converter and\n\ta superquadric surfaces generator.\n\tGlenn Lewis <glewis@pcocd2.intel.com>\n\t[Note : TTDDDLIB is also known as T3DLIB]\nCHVRTD - Chapel Hill Volume Rendering Test Datasets, includes volume sets for\n\ttwo heads, a brain, a knee, electron density maps for RNA and others.\n\nWritten Material on Rendering:\n------------------------------\n\nRT News - collections of articles on ray tracing.\nRT bib - references to articles on ray tracing in \"refer\" format.\nRad bib - references to articles on radiosity (global illumination).\nSpeer RT bib - Rick Speer's cross-referenced RT bib, in postscript.\nRT abstracts - collection by Tom Wilson of abstracts of many RT articles.\nPaper bank project - various technical papers in electronic form.  Contact\n\tJuhana Kouhia <jk87377@cs.tut.fi>\nOnline Bibliography Project :\n        The ACM SIGGRAPH Online Bibliography Project is a database of \n        over 15,000 unique computer graphics and computational geometry\n        references in BibTeX format, available to the computer graphics\n        community as a research and educational resource.\n\n        The database is located at \"siggraph.org\".  Users may download \n        the BibTeX files via FTP and peruse them offline, or telnet to\n        \"siggraph.org\" and log in as \"biblio\" and interactively search\n        the database for entries of interest, by keyword.\n        For the people without Internet access, there's also an e-mail\n        server. Send mail to\n\n        archive-server@siggraph.org\n\n        and in the subject or the body of the message include the message  send\n        followed by the topic and subtopic you wish. A good place to start is\n        with the command\n             send index\n        which will give you an up-to-date list of available information.\n\n        Additions/corrections/suggestions may be directed to the admin,\n        \"bibadmin@siggraph.org\".\n\nImage Manipulation Libraries:\n-----------------------------\n\nUtah Raster Toolkit - nice image manipulation tools.\nPBMPLUS - a great package for image conversion and manipulation.\nLIBTIFF - library for reading/writing TIFF images.\nImageMagick - X11 package for display and interactive manipulation\n\tof images.  Uses its own format (MIFF), and includes some converters.\nxv - X-based image display, manipulation, and format converter.\nxloadimage, xli - displays various formats on an X11 screen.\nKhoros - a huge, excellent system for image processing, with a visual\n\tprogramming interface and much much more.  Uses X windows.\nFBM - another set of image manipulation tools, somewhat old now.\nImg - image manipulation, displays on X11 screen, a bit old now.\nxflick - Plays .FLI animation under X11\nXAnim - plays any resolution FLI along with GIF's(including GIF89a animation\n\textensions), DL's and Amiga IFF animations(3,5,J,l) and IFF\n\tpictures(including HAM,EHB and color cycling)\nSDSC - SDSC Image Tools package (San Diego Supercomputing Center)\n\tfor image manipulation and conversion\nCLRpaint - A 24-bit paint program for SGI 24bit workstations and 8bit Indigos.\n\nLibraries with code for graphics:\n---------------------------------\n\nGraphics Gems I,II,III - code from the ever so useful books.\nspline-patch.tar.Z - spline patch ray intersection routines by Sean Graves\nkaleido - Computation and 3D Display of Uniform Polyhedra. Mirrored in\n\twuarchive. This package computes (and displays) the metrical\n\tproperties of 75 polyhedra. Author: Dr. Zvi Har'El,\n\te-mail: rl@gauss.technion.ac.il\n\n(*) means site is an \"official\" distributor, so is most up to date.\n\n\nNORTH AMERICA (please look for things on your own continent first...):\n-------------\n\nwuarchive.wustl.edu [128.252.135.4]:  /graphics/graphics - get CONTENTS file\n\tfor a roadmap.  /graphics/graphics/objects/TDDD - *the TTDDD objects\n\tand converters*, /mirrors/unix-c/graphics - Rayshade ray tracer, MTV\n\tray tracer, Vort ray tracer, FBM, PBMPLUS, popi, Utah raster toolkit.\n\t/mirrors/msdos/graphics - DKB ray tracer, FLI RayTracker demos.\n\t/pub/rad.tar.Z - *SGI_RAD*, /graphics/graphics/radiosity - Radiance\n\tand Indian radiosity package.  /msdos/ddjmag/ddj9209.zip - version 21\n\tof Xsharp, with fast texture mapping.  There's lots more, including\n\tbibs, Graphics Gems I & II code, OFF, RTN, Radiance, NFF, SIPP, spline\n\tpatch intersection routines, textbook errata, source code from Roy\n\tHall's book \"Illumination and Color in Computer Generated Imagery\", etc\n\tgraphics/graphics/packages/kaleido - *kaleido*\n\tGeorge Kyriazis <kyriazis@turing.cs.rpi.edu>\n\nprinceton.edu [128.112.128.1]:  /pub/Graphics (note capital \"G\") - *Rayshade\n\t4.0 ray tracer (and separate 387 executable)*, *color quantization\n\tcode*, *SPD*, *RT News*, *Wilson's RT abstracts*, \"RT bib*, *Utah\n\tRaster Toolkit*, newer FBM, *Graphics Gems I, II & III code*.\n\t/pub/graphics directory - *SALEM* and other stuff.\n\tCraig Kolb <cek@princeton.edu>\n\t[replaces weedeater.math.yale.edu - note the capital \"G\" in\n\tpub/Graphics] Because there's a trouble with princeton's incoming\n\tarea, you can upload Rayshade-specific stuff to\n\tweedeater.math.yale.edu [128.36.23.17]\n\nalfred.ccs.carleton.ca [134.117.1.1]:  /pub/dkbtrace - *DKB ray tracer*,\n\t/pub/pov-ray/POV-Ray1.0 - *PVRay Compuserve group ray tracer (or PoV)*.\n\tDavid Buck <david_buck@carleton.ca>\n\navalon.chinalake.navy.mil [129.131.31.11]:  3D objects (multiple formats),\n\tutilities, file format documents.\n\tThis site was created to be a 3D object \"repository\" for the net.\n\tFrancisco X DeJesus <dejesus@archimedes.chinalake.navy.mil>\n\nomicron.cs.unc.edu [152.2.128.159]:  pub/softlab/CHVRTD - Chapel Hill\n\tVolume Rendering Test Datasets.\n\nftp.mv.com [192.80.84.1]: - Official DDJ FTP repository.\n\t*XSHARP*\n\npeipa.essex.ac.uk [155.245.115.161]: the Pilot European Image Processing\n\tArchive; in a directory ipa/synth or something like that, there are\n\timage synthesis packages.\n\tAdrian Clarke <alien@essex.ac.uk>\n\nbarkley.berkeley.edu [128.32.142.237] : tcl/extensions/tsipp3.0b.tar.Z -\n\t*Tcl-SIPP*\n\tMark Diekhans <markd@grizzly.com or markd@NeoSoft.com>\n\nacs.cps.msu.edu [35.8.56.90]: pub/sass - *X window fonts converter into\n\tRayshade 3.0 polygons*, Rayshade animation tool(s).\n\tRon Sass <sass@cps.msu.edu>\n\nhobbes.lbl.gov [128.3.12.38]: *Radiance* ray trace/radiosity package.\n\tGreg Ward <gjward@lbl.gov>\n\ngeom.umn.edu [128.101.25.31] : pub/geomview - *GEOMVIEW*\n\tContact (for GEOMVIEW): software@geom.umn.edu\n\nftp.arc.umn.edu [137.66.130.11] : pub/gvl.tar.Z - the latest version of Bob,\n\tIcol and Raz.  Source, a manual, man pages, and binaries for\n\tIRIX 4.0.5 are included (Bob is a real time volume renderer)\n\tpub/  contains also many volume datasets.\n\tKen Chin-Purcell <ken@ahpcrc.umn.edu>\n\nftp.kpc.com [144.52.120.9] : /pub/graphics/holl91 - Steve Hollasch's\n\tThesis, /pub/graphics/ray4 - *RAY4*, /pub/graphics/wire4 - *WIRE4*.\n\t/pub/mirror/avalon - mirror of avalon's 3D objects repository.\n\tSteve Hollasch <hollasch@kpc.com>\n\nswedishchef.lerc.nasa.gov [139.88.54.33] : programs/hollasch-4d - RAY4,\n\tSGI Explorer modules and Postscript manual, etc.\n\nzamenhof.cs.rice.edu [128.42.1.75] : pub/graphics.formats - Various electronic\n\tdocuments about many object and image formats.\n\tMark Hall <foo@cs.rice.edu>\n\twill apparently no longer be maintaining it, see ftp.ncsa.uiuc.edu.\n\nrascal.ics.utexas.edu [128.83.144.1]:  /misc/mac/inqueue - VISION-3D facet\n\tbased modeller, can output RayShade and Radiance files.\n\nftp.ncsa.uiuc.edu [141.142.20.50] :  misc/file.formats/graphics.formats -\n\tcontains various image- and object-format descriptions.  Many SciVi\n\ttools in various directories, e.g.  SGI/Alpha-shape/Alvis-1.0.tar.Z -\n\t3D alpha-shape visualizer (SGI machines only),\n\tSGI/Polyview3.0/polyview.Z - interactive visualization and analysis of\n\t3D geometrical structures.\n\tQuincey Koziol <koziol@ncsa.uiuc.edu>\n\ntucana.noao.edu [140.252.1.1] : /iraf - the IRAF astronomy package\n\nftp.ipl.rpi.edu [128.113.14.50]:  sigma/erich - SPD images and Haines thesis\n\timages.  pub/images - various 24 and 8 bit image stills and sequences.\n\tKevin Martin <sigma@ipl.rpi.edu>\n\nftp.psc.edu [128.182.66.148]:  pub/p3d - p3d_2_0.tar P3D lispy scene\n\tlanguage & renderers.  Joel Welling <welling@seurat.psc.edu>\n\nftp.ee.lbl.gov [128.3.254.68]: *pbmplus.tar.Z*, RayShade data files.\n\tJef Poskanzer <jef@ace.ee.lbl.gov>\n\ngeorge.lbl.gov [128.3.196.93]: pub/ccs-lib/ccs.tar.Z - *CCS (Complex\n\tConversion System), a standard software interface for image processing*\n\nhanauma.stanford.edu [36.51.0.16]: /pub/graphics/Comp.graphics - best of\n\tcomp.graphics (very extensive), ray-tracers - DBW, MTV, QRT, and more.\n\tJoe Dellinger <joe@hanauma.stanford.edu>\n\nftp.uu.net [192.48.96.2]:  /graphics - *IRIT*, RT News back issues (not\n\tcomplete), NURBS models, other graphics related material.\n\t/graphics/jpeg/jpegsrc.v?.tar.Z - Independent JPEG Group package for\n\treading and writing JPEG files.\n\nfreebie.engin.umich.edu [141.212.68.23]:  *Utah Raster Toolkit*,\n\tSpencer Thomas <thomas@eecs.umich.edu>\n\nexport.lcs.mit.edu [18.24.0.12] : /contrib - pbmplus, Image Magick, xloadimage,\n\txli, xv, Img, lots more.  /pub/R5untarred/mit/demos/gpc - NCGA Graphics\n\tPerformance Characterization (GPC) Suite.\n\nlife.pawl.rpi.edu [128.113.10.2]: /pub/ray - *Kyriazis stochastic Ray Tracer*.\n\tGeorge Kyriazis <kyriazis@turing.cs.rpi.edu>\n\ncs.utah.edu [128.110.4.21]: /pub - Utah raster toolkit, *NURBS databases*.\n\tJamie Painter <jamie@cs.utah.edu>\n\ngatekeeper.dec.com [16.1.0.2]:  /pub/DEC/off.tar.Z - *OFF models*,\n\tAlso GPC Benchmark files (planned, but not checked).\n\tRandi Rost <rost@kpc.com>\n\nhubcap.clemson.edu [130.127.8.1]:  /pub/amiga/incoming/imagine - stuff for the\n\tAmiga Imagine & Turbo Silver ray tracers.  /pub/amiga/TTDDDLIB -\n\t*TTDDDLIB* /pub/amiga/incoming/imagine/objects - MANY objects.\n\tGlenn Lewis <glewis@pcocd2.intel.com>\n\npprg.eece.unm.edu [129.24.24.10]:  /pub/khoros - *Khoros image processing\n\tpackage (huge, but great)*.\n\tDanielle Argiro <danielle@bullwinkle.unm.edu>\n\nexpo.lcs.mit.edu [18.30.0.212]:  contrib - *PBMPLUS portable bitmap package*,\n\t*poskbitmaptars bitmap collection*, *Raveling Img*, xloadimage.  Jef\n\tPoskanzer <jef@well.sf.ca.us>\n\nvenera.isi.edu [128.9.0.32]:  */pub/Img.tar.z and img.tar.z - some image\n\tmanipulation*, /pub/images - RGB separation photos.\n\tPaul Raveling <raveling@venera.isi.edu>\n\nucsd.edu [128.54.16.1]:  /graphics - utah rle toolkit, pbmplus, fbm,\n\tdatabases, MTV, DBW and other ray tracers, world map, other stuff.\n\tNot updated much recently.\n\ncastlab.engr.wisc.edu [128.104.52.10]:  /pub/x3d.2.2.tar.Z - *X3D*\n\t/pub/xdart.1.1.* - *XDART*\n\tMark Spychalla <spy@castlab.engr.wisc.edu>\n\nsgi.com [192.48.153.1]:  /graphics/tiff - TIFF 6.0 spec & *LIBTIFF* software\n\tand pics.  Also much SGI- and GL-related stuff (e.g. OpenGL manuals)\n\tSam Leffler <sam@sgi.com>\n\t[supercedes okeeffe.berkeley.edu for the LIBTIFF stuff]\n\nsurya.waterloo.edu [129.97.129.72]: /graphics - FBM, ray tracers\n\nftp.sdsc.edu [132.249.20.22]: /sdscpub - *SDSC*\n\nftp.brl.mil [128.63.16.158]: /brl-cad - information on how to get the\n\tBRL CAD package & ray tracer.  /images - various test images.\n\tA texture library has also begun here.\n\tLee A. Butler <butler@BRL.MIL>\n\ncicero.cs.umass.edu [128.119.40.189]:  /texture_temp - 512x512 grayscale\n\tBrodatz textures,\n\tfrom Julien Flack <julien@scs.leeds.ac.uk>.\n\nkarazm.math.uh.edu [129.7.7.6]:  pub/Graphics/rtabs.shar.12.90.Z - *Wilson's\n\tRT abstracts*, VM_pRAY.\n\tJ. Eric Townsend <jet@karazm.math.uh.edu or jet@nas.nasa.gov>\n\nftp.pitt.edu [130.49.253.1]:  /users/qralston/images - 24 bit image archive\n\t(small).  James Ralston Crawford <qralston@gl.pitt.edu>\n\nftp.tc.cornell.edu [128.84.201.1]: /pub/vis - *VREND*\n\nsunee.waterloo.edu [129.97.50.50]: /pub/raytracers - vivid, *REND386*\n\t[or sunee.uwaterloo.ca]\n\narchive.umich.edu [141.211.164.153]: /msdos/graphics - PC graphics stuff.\n\t/msdos/graphics/raytrace - VIVID2.\n\napple.apple.com [130.43.2.2?]:  /pub/ArchiveVol2/prt.\n\nresearch.att.com [192.20.225.2]: /netlib/graphics - *SPD package*, ~/polyhedra -\n\t*polyhedra databases*.  (If you don't have FTP, use the netlib\n\tautomatic mail replier:  UUCP - research!netlib, Internet -\n\tnetlib@ornl.gov.  Send one line message \"send index\" for more info,\n\t\"send haines from graphics\" to get the SPD)\n\nsiggraph.org [128.248.245.250]: SIGGRAPH archive site.\n\tpublications - *Online Bibliography Project*, Conference proceedings\n\tin various electronic formats (papers, panels), SIGGRAPH Video Review\n\tinformation and order forms.\n\tOther stuff in various directories.\n\tAutomatic mailer is archive-server@siggraph.org (\"send index\").\n\nftp.cs.unc.edu [128.109.136.159]: pub/reaction_diffusion - Greg Turk's work on\n\treaction-diffusion textures, X windows code (SIGGRAPH '91)\n\navs.ncsc.org [128.109.178.23]:  ~ftp/VolVis92 - Volume datasets from the\n\tBoston Workshop on Volume Visualization '92.  This site is also the\n\tInternational AVS Center.\n\tTerry Myerson <tvv@ncsc.org>\n\nuvacs.cs.virginia.edu [128.143.8.100]:  pub/suit/demo/{sparc,dec,etc} - SUIT\n\t(Simple User Interface Toolkit).  \"finger suit@uvacs.cs.virginia.edu\"\n\tto get detailed instructions.\n\nnexus.yorku.ca [130.63.9.66]: /pub/reports/Radiosity_code.tar.Z - *RAD*\n\t/pub/reports/Radiosity_thesis.ps.Z - *RAD MSc. Thesis*\n\t[This site will be changed to ftp.yorku.ca in the near future]\n\nmilton.u.washington.edu [128.95.136.1] - ~ftp/public/veos - VEOS Virtual\n\tReality and distributed applications prototyping environment\n\tfor Unix. Veos Software Support : veos-support@hitl.washington.edu\n        oldpublic/fly - FLY! 3D Visualization Software demo.\n        That package is built for \"fly-throughs\" from various datasets in\n        near real-time. There are binaries for many platforms.\n\tAlso, much other Virtual Reality stuff.\n\nzug.csmil.umich.edu [141.211.184.2]: X-Xpecs 3D files (an LCD glass shutter\n\tfor Amiga computers - great for VR stuff!)\n\nsugrfx.acs.syr.edu [128.230.24.1]: Various stereo-pair images.\n[ Has closed down :-( ]\n\nsunsite.unc.edu [152.2.22.81]: /pub/academic/computer-science/virtual-reality -\n\tFinal copy of the sugrfx.acs.syr.edu archive that ceased to exist.\n\tIt contains Powerglove code, VR papers, 3D images and IRC research\n\tmaterial.\n\tJonathan Magid <jem@sunSITE.unc.edu>\n\narchive.cis.ohio-state.edu [128.146.8.52]: pub/siggraph92 - Code for\n\tSiggraph '92 Course 23 (Procedural Modeling and Rendering Techniques)\n\tDr. David S. Ebert <ebert@cis.ohio-state.edu>\n\nlyapunov.ucsd.edu [132.239.86.10]: This machine is considered the\n\trepository for preprints and programs for nonlinear dynamics,\n\tsignal processing, and related subjects  (and fractals, of course!)\n\tMatt Kennel <mbk@inls1.ucsd.edu>\n\ncod.nosc.mil [128.49.16.5]: /pub/grid.{ps,tex,ascii} - a short survey of\n\tmethods to interpolate and contour bivariate data\n\nics.uci.edu [128.195.1.1]: /honig --- Various stereo-pair images,\n\tmovie.c - animates a movie on an X display (8-bit and mono) with\n\tdigital subtraction.\n\ntaurus.cs.nps.navy.mil [131.120.1.13]: pub/dabro/cyberware_demo.tar.Z - Human\n\thead data\n\npioneer.unm.edu [129.24.9.217]:  pub/texture_maps - Hans du Buf's grayscale\n\ttest textures (aerial swatches, Brodatz textures, synthetic swatches).\n\tSpace & planetary image repository.  Provides access to >150 CD-ROMS\n\twith data/images (3 on-line at a time).\n        pub/info/beginner-info - here you should start browsing.\n        Colby Kraybill <opus@pioneer.unm.edu>.\n\ncs.brown.edu [128.148.33.66] : *SRGP/SPHIGS* . For more info on SRGP/SPHIGS:\n         mail -s 'software-distribution' graphtext@cs.brown.edu\n\npdb.pdb.bnl.gov [130.199.144.1] has data about various organic molecules,\n       bonds between the different atoms, etc.\n       Atomic coordinates (and a load of other stuff) are contained in the\n       \"*.ent\" files, but the actual atomic dimemsions seem to be missing.\n       You could convert these data to PoV, rayshade, etc.\n\nbiome.bio.ns.ca [142.2.20.2] : /pub/art - some Renoir paintings,\n        Escher's pictures, etc.\n\nic16.ee.umanitoba.ca [] : /specmark - sample set of images from the\n        `Images from the Edge' CD-ROM (images of atomic landscapes, advanced\n        semiconductors, superconductors and experimental surface\n        chemistry among others). Contact ruskin@ee.umanitoba.ca\n\nexplorer.dgp.toronto.edu [128.100.1.129] : pub/sgi/clrpaint - *CLRpaint*\n        pub/sgi/clrview.* - CLRview, a tool that aids in visualization\n        of GIS datasets in may formats like DXF, DEM, Arc/Info, etc.\n\names.arc.nasa.gov [128.102.18.3]: pub/SPACE/CDROM - images from Magellan\n        and Viking missions etc. Get pub/SPACE/Index first.\n        pub/SPACELINK has most of the SpaceLink service data (see below)\n        e-mail server available: send mail to archive-server@ames.arc.nasa.gov\n        (or ames!archive-server) with subject:\"help\"\n        or \"send SPACE Index\" (without the quotes!)\n        Peter Yee <yee@ames.arc.nasa.gov>\n\npubinfo.jpl.nasa.gov [128.149.6.2]: images, other data, etc. from JPL\n        missions. Modem access at (818)-354-1333 (no parity, 8 data bits, 1\n        stop bit).\n        newsdesk@jplpost.jpl.nasa.gov or phone (818)-354-7170\n\nspacelink.msfc.nasa.gov [128.158.13.250] (passwd:guest) : space graphics\n        and GIF images from NASA's planetary probes and the Hubble Telescope.\n        Main function is support for teachers (you can telnet also to this\n        site). Dial up access: (205)-895-0028 (300/1200/2400/9600(V.32) baud,\n        8 bits, no parity, 1 stop bit).\n\nstsci.edu [130.167.1.2] : Hubble Space Telescope stuff (images and other\n        data). Read the README first!\n        Pete Reppert <reppert@stsci.edu> or Chris O'Dea <odea@stsci.edu>\n\npit-manager.mit.edu [18.172.1.27]:  /pub/usenet/news.answers - the land of\n\tFAQs.  graphics and pictures directories of particular interest.\n\t[Also available from mail-server@pit-manager.mit.edu by sending a mail\n\tmessage containing: help]\n\nUUCP archive: avatar - RT News back issues.  For details, write Kory Hamzeh\n\t<kory@avatar.avatar.com>\n\n\nEUROPE:\n-------\n\nnic.funet.fi [128.214.6.100]:  *pub/sci/papers - *Paper bank project,\n\tincluding Pete Shirley's entire thesis (with pics)*, *Wilson's RT\n\tabstracts*, pub/misc/CIA_WorldMap - CIA world data bank,\n\tcomp.graphics.research archive, *India*, and much, much more.\n\tJuhana Kouhia <jk87377@cs.tut.fi>\n\ndasun2.epfl.ch [128.178.62.2]:  Radiance. Good for European sites, but\n\tdoesn't carry the add-ons that are available for Radiance.\n\nisy.liu.se [130.236.1.3]:  pub/sipp/sipp-3.0.tar.Z - *SIPP* scan line z-buffer\n\tand Phong shading renderer.  Jonas Yngvesson <jonas-y@isy.liu.se>\n\nirisa.fr [131.254.2.3]:  */iPSC2/VM_pRAY ray tracer*, SPD, /NFF - many non-SPD\n\tNFF format scenes, RayShade data files.  Didier Badouel\n\t<badouel@irisa.irisa.fr> [may have disappeared]\n\nphoenix.oulu.fi [130.231.240.17]:  *FLI RayTracker animation files (PC VGA) -\n\talso big .FLIs (640*480)* *RayScene demos* [Americans:  check wuarchive\n\tfirst].  More animations to come.  Jari Kahkonen\n\t<hole@phoenix.oulu.fi>\n\njyu.fi [128.214.7.5]: /pub/graphics/ray-traces - many ray tracers, including\n\tVM_pRAY, DBW, DKB, MTV, QRT, RayShade, some RT News, NFF files.  Jari\n\tToivanen <toivanen@jyu.fi>\n\ngarbo.uwasa.fi [128.214.87.1]:  Much PC stuff, etc., /pc/source/contour.f -\n\tFORTRAN program to contour scattered data using linear triangle-based\n\tinterpolation\n\nasterix.inescn.pt [192.35.246.17]:  pub/RTrace - *RTrace* nffutils.tar.Z (NFF\n\tutilities for RTrace), medical data (CAT, etc.)  converters to NFF,\n\tAutocad to NFF Autolisp code, AUTOCAD 11 to SCN (RTrace's language)\n\tconverter and other goodies.  Antonio Costa (acc@asterix.inescn.pt)\n\nvega.hut.fi [128.214.3.82]: /graphics - RTN archive, ray tracers (MTV, QRT,\n\tothers), NFF, some models.\n[ It was shut down months ago , check under nic.funet.fi -- nfotis ]\n\nsun4nl.nluug.nl [192.16.202.2]: /pub/graphics/raytrace - DBW.microray, MTV, etc\n\nunix.hensa.ac.uk [] : misc/unix/ralcgm/ralcgm.tar.Z - CGM viewer and\n        converter.\n        There's an e-mail server also - mail to archive@unix.hensa.ac.uk\n        with the message body \"send misc/unix/ralcgm/ralcgm.tar.Z\"\n\nmaeglin.mt.luth.se [130.240.0.25]:  graphics/raytracing - prt, others, ~/Doc -\n\t*Wilson's RT abstracts*, Vivid.\n\nftp.fu-berlin.de [130.20.225.2]:  /pub/unix/graphics/rayshade4.0/inputs -\n\taq.tar.Z is RayShade aquarium [Americans:  check princeton.edu first).\n\tHeiko Schlichting <heiko@math.fu-berlin.de>\n\nmaggia.ethz.ch [129.132.17.1]: pub/inetray - *Inetray* and Sun RPC 4.0 code\n\tAndreas Thurnherr <ant@ips.id.ethz.ch>\n\nosgiliath.id.dth.dk [129.142.65.24]:  /pub/amiga/graphics/Radiance - *Amiga\n\tport of Radiance 2.0*.  Per Bojsen <bojsen@ithil.id.dth.dk>\n\nftp.informatik.uni-oldenburg.de [134.106.1.9] : *PoV raytracer*\n        Mirrored in wuarchive, has many goods for PoV.\n\tpub/dkbtrace/incoming/polyray - Polyray raytracer\n        pub/dkbtrace/incoming/pv3d* - *PV3D*\n\nftp.uni-kl.de [131.246.9.95]: /pub/amiga/raytracing/imagine - mirror of\n\tthe hubcap Imagine files.\n\nneptune.inf.ethz.ch [129.132.101.33]: XYZ - *XYZ GeoBench*\n\tPeter Schorn <schorn@inf.ethz.ch>\n\niamsun.unibe.ch [130.92.64.10]: /Graphics/graphtal* - a L-system interpreter.\n\tChristoph Streit <streit@iam.unibe.ch>\n\namiga.physik.unizh.ch [130.60.80.80]: /amiga/gfx - Graphics stuff\n\tfor the Amiga computer.\n\nstesis.hq.eso.org [134.171.8.100]: on-line access to a huge astronomical\n        database. (login:starcat;no passwd)\n        DECnet:STESIS (It's the Space Telescope European Coordination Facility)\n        Benoit Pirenne <bpirenne@eso.org>, phone +49 89 320 06 433\n\n\nMIDDLE EAST\n-----------\n\ngauss.technion.ac.il [132.68.112.60]: *kaleida*\n\n\nAUSTRALIA:\n----------\n\ngondwana.ecr.mu.oz.au [128.250.70.62]: pub - *VORT(ART) ray tracer*, *VOGLE*,\n\tWilson's ray tracing abstracts, /pub/contrib/artscenes (ART scenes from\n\tItaly), pub/images/haines - Haines thesis images, Graphics Gems code,\n\tSPD, NFF & OFF databases, NFF and OFF previewers, plus some 8- and\n\t24bit images and lots of other stuff.  pub/rad.tar.Z - *SGI_RAD*\n\tBernie Kirby <bernie@ecr.mu.oz.au>\n\nmunnari.oz.au [128.250.1.21]:  pub/graphics/vort.tar.Z - *VORT (ART) 2.1 CSG and\n\talgebraic surface ray tracer*, *VOGLE*, /pub - DBW, pbmplus.  /graphics\n\t- room.tar.Z (ART scenes from Italy).\n\tDavid Hook <dgh@munnari.oz.au>\n\nmarsh.cs.curtin.edu.au [134.7.1.1]: pub/graphics/bibliography/Facial_Animation,\n\tpub/graphics/bibliography/Morph, pub/graphics/bibliography/UI -\n\tstuff about Facial animation, Morphing and User Interfaces.\n\tpub/fascia - Fred Parke's fascia program.\n\tValerie Hall <val@lillee.cs.curtin.edu.au>\n\n\nOCEANIA - ASIA:\n---------------\n\nccu1.aukland.ac.nz [130.216.1.5]:  ftp/mac/architec - *VISION-3D facet\n\tbased modeller, can output RayShade files*.  Many other neat things\n\tfor Macs.  Paul Bourke <pdbourke@ccu1.aukland.ac.nz>\n\nscslwide.sony.co.jp [133.138.199.1]:  ftp2/SGI/Facial-Animation - Steve Franks\n\tsite for facial animation.\n \tSteve Franks <stevef@csl.sony.co.jp OR stevef@cs.umr.edu>\n\n\n4. Mail servers and graphics-oriented BBSes\n===========================================\n\nPlease check first with the FTP places above, with archie's help.\nDon't overuse mail servers.\n\nThere are some troubles with wrong return addresses. Many of these\nmail servers have a command like\n   path a_valid_return_e-mail_address\nto get a hint for sending back to you stuff.\n\nDEC's FTPMAIL\n-------------\n  Send a one-line message to ftpmail@decwrl.dec.com WITHOUT a Subject: field,\n  and having a line containing the word 'help'.\n  You should get back a message detailing the relevant procedures you\n  must follow in order to get the files you want.\n\n  Note that the \"reply\" or \"answer\" command in your mailer will not work\n  for this message or any other mail you receive from FTPMAIL.  To send\n  requests to FTPMAIL, send an original mail message, not a reply.\n  Complaints should be sent to the ftpmail-request@uucp-gw-2.pa.dec.com\n  address rather than to postmaster, since DECWRL's postmaster is not\n  responsible for fixing ftpmail problems.\n\nBITFTP\n------\n  For BITNET sites ONLY, there's BITFTP@PUCC.\n  Send a one-line 'help' message to this address for more info.\n\nLightwave 3D mail based file-server\n-----------------------------------\n  A mail based file server for 3D objects, 24bit JPEG images, GIF images\n  and image maps is now online for all those with Internet mail access.\n  The server is the official archive site for the Lightwave 3D mail-list\n  and contains many PD and Shareware graphics utilities for\n  several computer platforms including Amiga, Atari, IBM and Macintosh.\n\n  The server resides on a BBS called \"The Graphics BBS\".  The BBS is\n  operational 24 hours a day 7 days a week at the phone number of +1\n  908/469-0049.  It has upgraded its modem to a Hayes Ultra 144\n  V.32bis/V.42bis, which has speeds from 300bps up to 38,400bps.\n\n  If you would like to submit objects, scenes or images to the server,\n  please pack, uuencode and then mail the files to the address:\n  server@bobsbox.rent.com.\n\n  For information on obtaining files from the server send a mail message\n  to the address file-server@graphics.rent.com with the following in\n  the body of the message:\n    HELP\n    /DIR\n  And a help file describing how to use the server and a complete\n  directory listing will be sent to you via mail.\n\n[ Now it includes the Cyberware head and shouders in TTDDD format! Check it\n out, only if you can't use FTP! -- nfotis ]\n\nINRIA-GRAPHLIB\n--------------\n  Pierre Jancene and Sabine Coquillart launched the inria-graphlib mail\n  server a few months ago.\n\n    echo help | mail inria-graphlib@inria.fr\n\n  will give you a quick summary of what inria-graphlib contains and \n  how to browse among its files.\n\n    echo send contents | mail inria-graphlib@inria.fr\n\n  will return the extended summary.\n\n  As an other example :\n\n    echo send cgrl from Misc | mail inria-graphlib@inria.fr\n\n  will return the Computer Graphics Resource Listing mirrored from\n  comp.graphics.\n\nBBSes\n-----\n  There are many BBSes that store datafiles, etc.etc., but a guide to these\n  is beyond the scope of this Listing (and the resources of the author!)\n  If you can point to me Internet- or mail- accessible BBSes that carry\n  interesting stuff, send me info!\n\n\n  Studio Amiga is a 3D modelling and ray tracing specific BBS, (817) 467-3658.\n  24 hours, 105 Meg online.\n--\nFrom Jeff Walkup <pwappy@well.sf.ca.us>:\n  \"The Castle\" 415/355-2396 (14.4K/v.32bis/v.42/v.42bis/MNP)\n  (In Pacifica, dang close to San Francisco, California, USA)\n  The new-user password is: \"TAO\".\n  \n  [J]oin base #2; The Castle G/FX, Anim, Video, 3D S.I.G., of which\n  I am the SIG-Op, \"Lazerus\".\n--\n  Bob Lindabury operates a BBS (see above the entry for \"The Graphics BBS\")\n--\n'You Can Call Me Ray' ray tracing related BBS in Chicago suburbs (708-358-5611)\n or (708-358-8721)\n--\n  Digital Pixel (Sysop: Mark Ng <mcng@descartes.waterloo.edu>) is based at\n  Toronto, Ontario, Canada.\n \n  Phone : (416) 298 1487\n  Storage space: 330 megs\n  Modem type:  14.4k baud,16.8k (Zyxel) , v32bis ,v32, mnp 5\n\n  Access Fee: none.. (free)\n  System supported : DOS, OS/2, Amiga, Mac.  \n  Netmail:     Currently no echo mail.\n  Topics:      Raytracing, Fractals, Graphics programming, CAD, Any Comp.\n               Graphics related  \n\n--\nFrom: David Tiberio <dtiberio@ic.sunysb.edu>\n\n  Amiga Graphics BBS (516) 473-6351 in Long Island, New York,\n  running 24 hours at 14.4k v.32bis, with 157 megs on line.\n  We also subscribe to 9 mailing lists, of which 5 originate\n  from our BBS, with 3 more to be added soon. These include:\n\n  Lightwave, Imagine, Real 3D (ray tracing)\n\n  Database files include:\n  Imagine 3D objects, 3D renderings, scalable fonts, music\n  modules, sound samples, demos, animations, utilities,\n  text databases, and pending Lightwave 3D objects.\n--\nThe Graphics Alternative\n\n The Graphics Alternative is in El Cerrito, CA., running 24 hours a\n day at 14.4k HST/v.32bis, with 642MB online and a 1300+ user base.\n TGA runs two nodes, node 1 (510) 524-2780 is for public access and\n includes a free 90 day trial subscription.  TGA is the West Coast\n Host for PCGnet, The Profesional CAD and Graphics Network, supporting\n nodes across the Continental U.S., Alaska, New Zealand, Australia,\n France and the UK.\n \n TGA's file database includes MS-DOS executables for POV, Vivid,\n RTrace, Rayshade, Polyray, and others.  TGA also has numerous\n graphics utilities, viewers, and conversion utilities.  Registered\n Vivid users can also download the latest Vivid aeta code from a\n special Vivid conference.\n\n--\nFrom: Scott Bethke <sbathkey@access.digex.com>\n\nThe Intersection BBS, 410-250-7149.\n\n  This BBS Is dedicated to supporting 3D Animators.The system is provided\n  FREE OF CHARGE, and is NOT Commercialized in ANYWAY.\n  Users are given FULL Access on the first call.\n\nFeatures: Usenet NEWS & Internet Mail, Fidonet Echo's & Netmail,\n\t200 Megs online, V.32bis/V.42bis Modem.\n\nPlatforms of interest: Amiga & The VideoToaster, Macintosh, Ms-Dos,\n\tUnix Workstations (Sun, SGI, etc), Atari-ST.\n--\nFrom: Alfonso Hermida <afanh@robots.gsfc.nasa.gov>:\n\n Pi Square BBS (301)725-9080 in Maryland. It supports raytracers such as POV\n and VIVID. The BBS runs off a 486/33Mhz, 100Megs hard drive and CD ROM.\n Now it runs on 1200-2400bps (this will change soon)\n\n Topics: graphics programming, animation,raytracing,programming (general)\n--\nFrom: Lynn Falkow <ROXXIE@delphi.com>:\n\n  Vertech Design's GRAPHIC CONNECTION. (503) 591-8412 in Portland, Oregon.\n  V.32/V.42bis.\n\n  The BBS, aside from carrying typical BBS services like message bases\n  ( all topic specific ) and files ( CAD and graphics related -- hundreds\n  of megabytes ), also offers material texture files that are full color,\n  seamlessly tiling, photo-realistic images.  There are samples available\n  to first time callers.  The BBS is a subscription system although callers\n  have 2 hours before they must subscribe, and there are several subscription\n  rates available.   People interested in materials can subscribe to the\n  library in addition to a basic subscription rate, and can use their\n  purchased time to download whichever materials they wish.\n\n==========================================================================\n\n5. Ray-tracing/graphics-related mailing lists\n=============================================\n\nImagine\n-------\n  Modeling and animation system for the Amiga:\n  send subscription requests to Imagine-request@email.sp.paramax.com\n  send material to Imagine@email.sp.paramax.com\n  (Dave Wickard has substituted Steve Worley in the maintenance of\n  the mailing list) - PLEASE note that the unisys.com address is\n  NO longer valid!!!\n\nLightwave\n---------\n  (for the Amiga. It's part of Newtek's Video Toaster):\n  send subscription requests to lightwave-request@bobsbox.rent.com\n  send material to lightwave@bobsbox.rent.com\n  (Bob Lindabury)\n\nToaster\n-------\n  send subscription requests to listserv@karazm.math.uh.edu with a *body* of:\n     subscribe toaster-list\n\nReal 3D\n-------\n  Another modeling and animation system for the Amiga:\n  To subscribe, send a mail containing the body\n\n  subscribe real3d-l <Your full name>\n\n  to listserv@gu.uwa.edu.au\n\nRayshade\n--------\n  send subscription requests to rayshade-request@cs.princeton.edu\n  send material to rayshade-users@cs.princeton.edu\n  (Craig Kolb)\n\nAlladin 4D for the Amiga\n----------\n  send subscription requests to subscribe@xamiga.linet.org\n\n  and in the body of the message write\n\n  #Alladin 4D username@domain\n\nRadiance\n--------\n  Greg Ward, the author, sends to registered (via e-mail) users digests of\n  his correspodence with them, notes about fixes, updates, etc.\n  His address is: gjward@lbl.gov\n\nREND386\n-------\n  send subscription requests to rend386-request@sunee.waterloo.edu\n  send material to rend386@sunee.waterloo.edu\n\nPoV ray / DKB raytracers\n------------------------\n  To subscribe, send a mail containing the body\n\n  subscribe dkb-l <Your full name>\n\n  to listserv@trearn.bitnet\n\n  send material to dkb-l@trearn.bitnet\n\nMailing List for Massively Parallel Rendering\n---------------------------------------------\n  send subscription requests to mp-render-request@icase.edu\n  send material to mp-render@icase.edu\n\n==========================================================================\n\n6. 3D graphics editors\n======================\n\na. Public domain, free and shareware systems\n============================================\n\nVISION-3D\n---------\n  Mac-based program written by Paul D. Bourke (pdbourke@ccu1.aukland.ac.nz).\n  The program can be used to generate models directly in the RayShade\n  and Radiance file formats (polygons only).\n  It's shareware and listed on the FTP list.\n\nBRL\n---\n  A solid modeling system for most environments -- including SGI and X11.\n  It has CSG and NURBS, plus support for Non-Manifold Geometry\n  [Whatever it is].\n\n  You can get it *free* via FTP by signing and returning the relevant license,\n  found on ftp.brl.mil. Uses ray-tracing for engineering analyses.\n\n  Contact:\n\n  Ms. Carla Moyer\n  (410)-273-7794 tel.\n  (410)-272-6763 FAX\n  cad-dist@brl.mil E-mail\n\n  Snail mail:\n\n  BRL-CAD Distribution\n  SURVIAC Aberdeen Satellite Office 1003\n  Old Philadelphia Road,\n  Suite 103 Aberdeen\n  MD  21001  USA\n\nIRIT\n----\n  A constructive solid geometry (CSG) modeling program for PC and X11.\n  Includes freeform surface support. Free - see FTP list for where to\n  find it.\n\nSurfModel\n---------\n  A solid modeling program for PC written in Turbo Pascal 6.0 by\n  Ken Van Camp. Available from SIMTEL, pd1:<msdos.srfmodl> directory.\n\nNOODLES\n-------\n   From CMU, namely Fritz Printz and Levent Gursoz (elg@styx.edrc.cmu.edu).\n   It's based on Non Manifold Topology.\n   Ask them for more info, I don't know if they give it away.\n\nXYZ2\n----\n  XYZ2 is an interactive 3-D editor/builder written by Dale P. Stocker to\n  create objects for the SurfaceModel, Automove, and DKB raytracer packages.\n  XYZ2 is free and can be found, for example, in SIMTEL20 as\n  <MSDOS.SURFMODL>XYZ21.ZIP (DOS only??)\n\n3DMOD\n-----\n  It's an MSDOS program. Check at barnacle.erc.clarkson.edu [128.153.28.12],\n  /pub/msdos/graphics/3dmod.* . Undocumented file format :-(\n  3DMOD is (C) 1991 by Micah Silverman, 25 Pierrepoint Ave., Postdam,\n  New York 13676, tel. 315-265-7140\n\nNORTHCAD\n--------\n  Shareware, <MSDOS.CAD>NCAD3D42.ZIP in SIMTEL20. Undocumented file format :-(\n\nVertex\n------\n  (Amiga)\n  Shareware, send $40 US (check or money order) to:\n\n  The Art Machine, 4189 Nickolas\n  Sterling Heights, MI  48310\n  USA\n\n  In addition to the now standard file formats, including Lightwave,\n  Imagine, Sculpt, Turbo Silver, GEO and Wavefront, this release offers\n  3D Professional and RayShade support. (Rayshade is supported only by\n  the primitive \"triangle\", but you can easily include this output in\n  your RayShade scripts)\n\n  The latest demo, version 1.62, is available on Fred Fish #727.\n\n  For more information, contact the author, Alex Deburie, at:\n\n  ad99s461@sycom.mi.org, Phone: (313) 939-2513\n  \n\nICoons\n------\n  (Amiga)\n  It's a spline based object modeller (\"ICoons\" = Interactive \n  COONS path editor) in amiga.physik.unizh.ch (gfx/3d/ICoons1.0.lzh).\n  It's free (under the GNU Licence) and requires FPU.\n\n  The program has a look&feel which is a cross between Journeyman and\n  Imagine, and it generates objects in TTDDD format.\n\n  It is possible to load Journeyman objects into ICoons, so the program\n  can be used to convert JMan objects to Imagine format.\n\n  Author: Helge E. Rasmussen <her@compel.dk>\n  PHONE + 45 36 72 33 00, FAX   + 45 36 72 43 00\n\n[ It's also on Fred Fish disk series n.775 - nfotis ]\n\n\nProtoCAD 3D\n-----------\n Ver 1.1 from Trius (shareware?)\n\n It's at wsmr-simtel20.army.mil and oak.oakland.edu as PCAD3D.ZIP (for PCs)\n\n It has this menu layout:\n\n         FILE       File handling (Load, Save, Import, Xport...)\n         DRAW       Draw 2D objects (Line, Circle, Box...)\n         3D         Draw 3D objects (Mesh, Sphere, Block...)\n         EDIT       Editing features (Copy, Move ...)\n         SURFACE    Modify objects (Revolve, Xtrude, Sweep...)\n         IMAGE      Image zooming features (Update, Window, Half...)\n         OPTION     Global defaults (Grid, Toggles, Axis...)\n         PLOT       Print drawing/picture (Go, Image...)\n         RENDER     Shade objects (Frame, Lighting, Tune...)\n         LAYER      Layer options (Select active layer, set Colors...)\n\n+Sculptura\n+---------\n+  Runs under Windows 3.1, and outputs PoV files. A demo can be found\n+  on wuarchive.wustl.edu in mirrors/win3/demo/demo3d.zip\n+\n+  Author: Michael Gibson <gibsonm@stein.u.washington.edu>\n\n\nb. Commercial systems\n=====================\n\nAlpha_1\n-------\n  A spline-based modeling program written in University of Utah.\n  Features: splines up to trimmed NURBS; support for boolean operations;\n    sweeps, bending, warping, flattening etc.; groups of objects, and\n    transformations; extensible object types.\n  Applications include: NC machining, Animation utilities,\n    Dimensioning, FEM analysis, etc.\n  Rendering subsystem, with support for animations.\n  Support the following platforms: HP 300 and 800's (X11R4, HP-UX 6.5),\n    SGI 4D or PI machines (X11R4 and GL, IRIX 3.3.1), Sun SparcStation\n    (X11R4, SunOS 4.1.1).\n \n  Licensing and distribution is handled by EGS:\n    Glenn McMinn, President\n    Engineering Geometry Systems\n    275 East South Temple, Suite 305\n    Salt Lake City, UT  84111\n    (801) 575-6021\n    mcminn@cs.utah.edu\n\n [ Educational pricing ]\n  The charge is $675 per platform.  You may run the system on as many\n  different workstations of that type as you wish.  For each platform\n  there is also a $250 licensing fee for Portable Standard Lisp (PSL)\n  which is bundled with the system.  You need to obtain an additional\n  license from the University of Utah for PSL from the following address:\n    Professor Robert Kessler\n    Computer Science Department\n    University of Utah\n    Salt Lake City, Utah 84112\n\n  [ EGS can handle the licensing of PSL for U.S. institutions for a\n    300 $USD nominal fee -- nfotis ]\n\nVERTIGO\n-------\n\n  They have an Educational Institution Program. The package is used in\n  the industrial design, architectural, scientific visualization,\n  educational, broadcast, imaging and post production fields.\n\n  They'll [quoting from a letter sent to me -- nfotis ] \"donate fully\n  configured Vertigo 3D Graphics Software worth over $29,000USD per\n  package to qualified educational institutions for licencing on any\n  number of Silicon Graphics Personal IRIS or POWER Series Workstations.\n  If you use an IRIS Indigo station, we will also licence our Vertigo\n  Revolution Software (worth $12,000USD).\n\n  If you are interested in participating in this program please send a\n  letter by mail or fax (604/684-2108) on your institution's letterhead\n  briefly outlining your potential uses for Vertigo together with the\n  following information: 1. UNIX version 2. Model and number of SGI\n  systems 3. Peripheral devices 4. Third Party Software.\n\n  Participants will be asked to contribute $750USD per institution to cover\n  costs of the manual, administration, and shipping.\n\n  We recommend that Vertigo users subscribe to our technical support\n  services. For an annual fee you will receive: technical assistance\n  on our support hotline, bug fixes, software upgrades and manual updates.\n  For educational institution we will waive the $750 administration fee\n  if support is purchased.\n\n  The annual support fee is $2,500 plus the following cost for additional\n  machines:\n\n  Number of machines:\t\t2-20\t\t20+\n  Additional cost per machine:\t$700\t\t$600 \"\n\n[ There's also a 5-day training program - nfotis]\n\nContact:\n  Vertigo Technology INC\n  Suite 1010\n  1030 West Georgia St.\n  VANCOUVER, BC\n  CANADA, V6E 2Y3\n\n  Phone: 604/684-2113\n  Fax:   604/684-2108\n\n[ Does anyone know of such offers from TDI, Alias, Softimage, Wavefront,\n  etc.??? this would be a VERY interesting part!!  -- nfotis ]\n\nPADL-2\n------\n[ Basically, it's a Solid Modeling Kernel in top of which you build your\n  application(s)]\n\n  Available by license from\n    Cornell Programmable Automation\n    Cornell University\n    106 Engineering and Theory Center\n    Ithaca, NY 14853\n\n  License fees are very low for educational institutions and gov't agencies.\n  Internal commercial licenses and re-dissemination licenses are available.\n  For an information packet, write to the above address, or send your\n  address to:   marisa@cpa.tn.cornell.edu (Richard Marisa)\n\nACIS\n----\n  From Spatial Technology. It's a Solid Modelling kernel callable from C.\n  Heard that many universities got free copies from the company.\n  The person to contact regarding ACIS in academic institutions is\n\n    Scott Owens, e-mail: sdo@spatial.com\n\n  And their address is:\n\n  Spatial Technology, Inc.\n  2425 55th St., Bldg. A\n  Boulder, CO 80301-5704\n  Phone: (303) 449-0649, Fax: (303) 449-0926\n\nMOVIE-BYU / CQUEL.BYU\n---------------------\n  Basically [in my understanding], this is a FEM pre- and post-proccessor\n  system. It's fairly old today, but it still serves some people in\n  Mech. Eng. Depts.\n  Now it's superseded from CQUEL.BYU (pronounced \"sequel\"). That's a\n  complete modelling, animation and visualization package. Runs in the usual\n  workstation environments (SUN, DEC, HP, SGI, IBM RS6000, and others)\n  You can get a demo version (30-days trial period) either by sending $20\n  USD in their address or a blank tape. It costs 1,500 for a full run-time\n  licence.\n\n  Contact:\n\n  Engineering Computer Graphics Lab\n  368 Clyde Building, Brigham Young Univ.\n  Provo, UT 84602\n  Phone: 801-378-2812\n  E-mail: cquel@byu.edu\n\n\ntwixt\n-----\n  Soon to add stuff about it... If I get a reply to my FAX\n\nVOXBLAST\n--------\n  It's a volume renderer marketed by:\n  Vaytek Inc. (Fairfield, Iowa phone: 515-472-2227) , running on PCs\n  with 386+FPU at least.  Call Vaytek for more info.\n\nVoxelBox\n--------\n  A 3D Volume renderer for Windows. Features include direct\n  ray-traced volume rendering, color and alpha mapping,\n  gradient lighting, animation, reflections and shadows.\n\n  Runs on a PC(386 or higher) with at least an 8 bit video card(SVGA is fine)\n  under Windows 3.x. It costs $495.\n\n  Contact:\n\n  Jaguar Software Inc.\n  573 Main St., Suite 9B\n  Winchester, MA 01890\n  (617) 729-3659\n  jwp@world.std.com (john w poduska)\n\n==========================================================================\n\n7. Scene description languages\n==============================\n\nNFF\n---\n  Neutral file format , by Eric Haines. Very simple, there are some\n  procedural database generators in the SPD package, and many objects\n  floating in various FTP sites. There's also a previewer written in\n  HP Starbase from E.Haines. Also there's one written in VOGLE, so you can\n  use any of the devices VOGLE can output on.\n  (Check in sites carrying VOGLE, like gondwana.ecr.mu.oz.au)\n\nOFF\n---\n  Object file format, from DEC's Randy Rost (rost@kpc.com).\n[ The object archive server seems to be mothballed. In a future version,\n I'll remove the ref. to it -- nfotis ]\n\n  Available also through their mail server. To obtain help about using this\n  service, send a message with a \"Subject:\" line containing only the word\n  \"help\" and a null message body to: object-archive-server@decwrl.dec.com.\n  [For FTP places to get it, see in the relevant place]. There's an OFF\n  previewer for SGI 4D machines, called off-preview in\n  godzilla.cgl.rmit.oz.au . There are previewers for xview and sunview,\n  also on gondwana.\n\nTDDD\n----\nIt's a library of 3D objects with translators to/from OFF, NFF,\nRayshade, Imagine or vort objects.\nEdited copy of the announcement follows (from Raytracing News, V4,#3):\n\n  New Library of 3D Objects Available via FTP, by Steve Worley\n  (worley@cup.portal.com)\n\n  I have assembled a set of over 150 3D objects in a binary format\n  called TDDD. These objects range from human figures to airplanes,\n  from semi-trucks to lampposts.  These objects are all freely\n  distributable, and most have READMEs that describe them.\n\n  In order to convert these objects to a human-readable format, a file\n  with the specification of TDDD is included in the directory with the\n  objects. There is also a shareware system called TTDDDLIB (officially\n  on hubcap.clemson.edu) that will convert (ala PBM+) to/from various\n  object formats : Imagine TTDDD (extension of TDDD?), OFF, NFF,\n  Rayshade 4.0, or vort. Source included for Amiga/Unix as executables\n  for the Amiga. Also outputs Framemaker MIF files and isometric views\n  in Postscript.\n\nP3D\n---\n  From Pittsburgh Supercomputing Center. The P3D uses lisp with slight\n  extensions to store three-dimensional models. A simple lisp\n  interpreter is included with the P3D release, so there is no need to\n  have access to any vendor's lisp to run this software.\n\n  The mouse-driven user interfaces for Motif, Open Look, and Silicon\n  Graphics GL, and the DrawP3D subroutine library for generating P3D\n  without ever looking at the underlying Lisp.\n\n  The P3D software currently supports nine renderers.  They are:\n  Painter - Painter's Algorithm, Dore, Silicon Graphics Inc. GL language,\n  Generic Phigs, Sun Phigs+, DEC Phigs+, Rayshade, ART ray tracer (from\n  VORT package) and Pixar RenderMan.\n\n  The code is available via anonymous FTP from the machines\n  ftp.psc.edu, directory pub/p3d, and nic.funet.fi, directory\n  pub/graphics/programs/p3d.\n\nRenderMan\n---------\n  Pixar's RenderMan is not free - call Pixar for details.\n\n==========================================================================\n\n8. Solids description formats\n=============================\n\na. EEC's ESPRIT project 322 CAD*I (CAD Interfaces) has developed a\n  neutral file format for transfer of CAD data (curves, surfaces, and\n  solid models between CAD systems and from CAD to CAA (Computer Aided\n  Analysis) an CAM (Computer Aided Manufacturing)\n\nb. IGES [v. 5.1 now] tries to define a standard to tranfer solid\n  models - Brep and CSG. The current standard number is ANSI Y14.26M-1987\n  For documentation, you might want to contact Nancy Flower at\n  NCGA Technical Services and Standards, 1-800-225-6242 ext. 325\n  and the cost is $100.\n  This standard is not available in electronic format.\n\nc. PDES/STEP : This slowly emerging standard tries to encompass not only\n  the geometrical information, but also for things like FEM, etc.\n  The main bodies besides this standard are NIST and DARPA. You can get\n  more information about PDES by sending mail to nptserver@cme.nist.gov\n  and putting the line\n\tsend index\n  in the body (NOT the Subject:) area of the message.\n\n  The people at Rutherford Appleton Lab.  are also working\n  on STEP tools: they have an EXPRESS compiler and an Exchange file parser,\n  both available in source form (and for free) for research purposes.\n  Soon they will also have an EXPRESS-based database system.\n\n  For the tools contact Mike Mead, Phone: +44 (0235) 44 6710 (FAX: x 5893),\n  e-mail: mm@inf.rl.ac.uk or {...!}mcsun!uknet!rlinf!mm or\n          mm%inf.rl.ac.uk@NSFnet-relay.ac.uk\n\n==========================================================================\n\nEnd of Part 1 of the Resource Listing",
         "archive-name: graphics/resources-list/part1 last-modified: 1993/04/17 computer graphics resource listing weekly posting part =================================================== last change april 1993 many faqs, including this listing, available archive site pit-manager.mit.edu (alias rtfm.mit.edu) [18.172.1.27] directory pub/usenet/news.answers. name under which archived appears archive-name line article. this archived graphics/resources-list/part[1-3] there's mail server that machine. send e-mail message mail-server@pit-manager.mit.edu containing keyword \"help\" (without quotes!) message body. many other places this listing. item: places find resource listing more information. items changed: -------------- re-arranged subjects, order better 63k/article limit. plan changing headers soon, careful! only \"resource listing\" keys sure remain subject: line! places find resource listing graphics editors public domain, free shareware systems plotting packages molecular visualization stuff thinking making this post bi-weekly. what think??? -------------- lines which changed, have character front them. added lines prepended with removed lines just removed. 'diff' locate these changes. ======================================================================== this text (c)copyright 1992, 1993 nikolaos fotis. copy freely this file, provided keep this copyright notice intact. compiled nikolaos (nick) fotis, e-mail: nfotis@theseas.ntua.gr please contact updates,corrections, etc. disclaimer: guarantee accuracy this document. your risk. ======================================================================== this mainly guide computer graphics software. would suggest reading comp. graphics image analysis stuff. it's entitled: (date) comp.graphics frequently asked questions (faq) john grieggs <grieggs@jpl-devvax.jpl.nasa.gov> poster official comp.graphics have included comments within braces ']'. nikolaos fotis ======================================================================== contents resource listing ================================ part1: ------ places find resource listing archie notes computer graphics site list, eric haines mail servers graphics-oriented bbses ray-tracing/graphics-related mailing lists. graphics editors public domain, free shareware systems commercial systems scene description languages solids description formats part2: ------ plotting packages image analysis software image processing display part3: ------ scene generators/geographical data/maps/data files scanners digitized data. background imagery/textures/datafiles introduction rendering algorithms tracing z-buffer (depth-buffer) others where find geometric data the: teapot space shuttle image annotation software scientific visualization stuff molecular visualization stuff (geographical information systems software) future additions: [please send updates/info!] ======================================================================== places find resource listing ====================================== #this file crossposted comp.graphics, comp.answers news.answers, can't locate comp.graphics, you're advised search #comp.answers news.answers (the latter groups usually archived your site. contact your sysadmin more info). these articles posted comp.graphics times month kept many places (see below) many faqs, including this one, available archive site pit-manager.mit.edu (alias rtfm.mit.edu) [18.172.1.27] directory pub/usenet/news.answers. name under which archived appears archive-name line article. this archived graphics/resources-list/part[1-3] there's mail server that machine. send e-mail message mail-server@pit-manager.mit.edu containing: help subject: field inria-graphlib mail server mirrors this posting (see under subject mail servers resource listing accesible through wais machine enuxva.eas.asu.edu (port 8000) under name graphics-resources-list. it's digest-type line before every numbered item purposes indexing. another place that monitors listing maasinfo files. more info contact robert maas <rem@btr.com> another place search faqs general switch (swiss academic research network) system switzerland: interactive: telnet nic.switch.ch [130.59.1.40], login \"info\". move info_service/usenet/periodic-postings directory. search 00index file typing word look for. then just read \"faqs\" directory, decide fetch following methods. ftp: login nic.switch.ch [130.59.1.40] user anonymous enter your internet-style address after being prompted password. info_service/usenet/periodic-postings mail: send e-mail rfc-822: archive-server@nic.switch.ch x.400: /s=archive-server/ou=nic/o=switch/prmd=switch/admd=arcom/c=ch/ enter 'help' bodypart receive instructions. information required subject header line. archie ========= archie service system locate places requested files. it's appreciated that will archie before asking help newsgroups. archie servers: archie.au 139.130.4.6 (aussie/nz) archie.funet.fi 128.214.6.100 (finland/eur.) archie.th-darmstadt.de 130.83.128.111 (ger.) cs.huji.ac.il 132.65.6.5 (israel) archie.kuis.kyoto-u.ac.jp 130.54.20.1 (japan) archie.sogang.ac.kr 163.239.1.11 (korea) archie.ncu.edu.tw telnet 140.115.19.24 (twn) archie.doc.ic.ac.uk 146.169.3.7 (uk/ireland) archie.sura.net 128.167.254.179 (usa [md]) archie.unl.edu (password: archie1) (usa [ne]) archie.ans.net 147.225.1.2 (usa [ny]) archie.rutgers.edu 128.6.18.15 (usa [nj]) archie.nz 130.195.9.4 (new zealand) connect archie server with telnet type \"archie\" username. help type 'help'. 'xarchie' 'archie', which clients that call archie without burden telnet session. 'xarchie' x11.r5 contrib tape, 'archie' comp.sources.misc, vol. information archie e-mail, send mail with subject \"help\" \"archie\" account above sites. (note janet/pss users united kingdom archie site accessible janet host doc.ic.ac.uk [000005102000]. connect specify \"archie\" host name \"archie\" username.) ========================================================================== notes ======== (excerpted from article) please *not* post mail messages saying can't ftp, could someone mail this me?\" there number automated mail servers that will send things like this response message. there number sites that archive usenet sources newsgroups make them available email query system. send message automated server saying something like \"send comp.sources.unix/fbm\", hours days later file mail. ========================================================================== computer graphics site list, eric haines ================================================== computer graphics related sites (and maintainers), 26/03/93 compiled eric haines, erich@eye.com nick fotis, nfotis@theseas.ntua.gr ray-tracers: ------------ rayshade great tracer workstations also amiga. successor trace, written compuservers. (for more questions call drew wells 73767.1244@compuserve.com dave buck david_buck@carleton.ca) tracer with good range surface types, part vort package. dkbtrace another good tracer, from reports; pcs, amiga, unix, (last with previewer), etc. rtrace portugese tracer, does bicubic patches, csg, text, etc. etc. ms-dos version with djgpp extender (go32) exists also, port. vivid2 shareware raytracer binary only (286/287). author: stephen (coy@ssc-vax.boeing.com). 386/387 source) version available registered users (us$50) direct from author. ray4 steve hollasch's 4-dimensional tracer renders hyperspheres, hypertetrahedra, hyperplanes, hyperparallelepipeds (there's separate real-time wireframe viewer written called wire4 mtv,qrt,dbw more tracers, some with interesting features. distributed/parallel raytracers: -------------------------------- xdart distributed ray-tracer that runs under x11. there server binaries which work only decstations, sparcs, snakes (7x0 series) next. clients distributed binaries source. inetray network version rayshade 4.0. needs newer. contact andreas thurnherr (ant@ips.id.ethz.ch) prt, vm_pray parallel tracers. volume renderers: ----------------- vrend cornell's volume renderer, from kartch/devine/caffey/warren (fortran). radiosity (and diffuse lighting) renderers: ------------------------------------------- radiance tracer w/radiosity effects, greg ward. excellent shading models physically based lighting simulation. unix/x based, though been ported amiga (386). india indian radiosity package based radiance. sgi_rad interactive radiosity package that runs machines with spaceball. includes house database. author: moreillon <moreillo@ligsg1.epfl.ch> simple public-domain radiosity package solution stand-alone unix box, walk-through requires author: bernard kwok <g-kwok@cs.yorku.ca> renderers which raytracers, graphics libraries: ----------------------------------------------------------- sipp scan line z-buffer phong shading renderer. uses shadow buffer algorithm. tcl-sipp command interface sipp rendering program. tcl-sipp commands used programmed sipp without having write compile code. commands used specify surfaces, objects, scenes rendering options. renders either format utah raster toolkit format photo widget tk-based applications. vogle graphics learning environment (device portable). vogl gl-like library based vogle. rend386 *fast* polygon renderer intel 386s version it's photorealistic, rather real-time renderer] xsharp21 dobb's journal renderer source code, with budget texture mapping. modellers, wireframe viewers: ----------------------------- vision-3d modeler, output radiance rayshade files. irit solid modeler, with support freeform surfaces. wireframe viewer x11. wireframe graphics toolkit, with source, objects, other stuff look major archives like wuarchive. such file 3dkit1.zip pv3d shareware front modeler povray, still beta test. french docs now, price registering french francs. save disabled. some extra utilities, files registered version. geometric viewers: ------------------ salem gl-based package from dobkin exploring mathematical structures. geomview gl-based package looking interactively manipulating objects, from geometry center minnesota. geobench -(experimental geometry zurich) workbench geometric computation macintosh computers. wire4 wireframe previewer steve hollasch's ray4 (see above) data formats data sets tracing: ------------------------------------------- procedural databases testing tracers. simplistic file format used spd. another file format. lispy file format. tddd imagine modeler) format, converters rayshade, nff, off, etc. also includes nice postscript object displayer. some great models. ttdddlib converts to/from tddd/ttddd, off, nff, rayshade 4.0, imagine, vort objects. also outputs framemaker files isometric views postscript. registered users font converter superquadric surfaces generator. glenn lewis <glewis@pcocd2.intel.com> [note ttdddlib also known t3dlib] chvrtd chapel hill volume rendering test datasets, includes volume sets heads, brain, knee, electron density maps others. written material rendering: ------------------------------ news collections articles tracing. references articles tracing \"refer\" format. references articles radiosity (global illumination). speer rick speer's cross-referenced bib, postscript. abstracts collection wilson abstracts many articles. paper bank project various technical papers electronic form. contact juhana kouhia <jk87377@cs.tut.fi> online bibliography project siggraph online bibliography project database over 15,000 unique computer graphics computational geometry references bibtex format, available computer graphics community research educational resource. database located \"siggraph.org\". users download bibtex files peruse them offline, telnet \"siggraph.org\" \"biblio\" interactively search database entries interest, keyword. people without internet access, there's also e-mail server. send mail archive-server@siggraph.org subject body message include message send followed topic subtopic wish. good place start with command send index which will give up-to-date list available information. additions/corrections/suggestions directed admin, \"bibadmin@siggraph.org\". image manipulation libraries: ----------------------------- utah raster toolkit nice image manipulation tools. pbmplus great package image conversion manipulation. libtiff library reading/writing tiff images. imagemagick package display interactive manipulation images. uses format (miff), includes some converters. x-based image display, manipulation, format converter. xloadimage, displays various formats screen. khoros huge, excellent system image processing, with visual programming interface much much more. uses windows. another image manipulation tools, somewhat now. image manipulation, displays screen, now. xflick plays .fli animation under xanim plays resolution along with gif's(including gif89a animation extensions), dl's amiga animations(3,5,j,l) pictures(including ham,ehb color cycling) sdsc sdsc image tools package (san diego supercomputing center) image manipulation conversion clrpaint 24-bit paint program 24bit workstations 8bit indigos. libraries with code graphics: --------------------------------- graphics gems i,ii,iii code from ever useful books. spline-patch.tar.z spline patch intersection routines sean graves kaleido computation display uniform polyhedra. mirrored wuarchive. this package computes (and displays) metrical properties polyhedra. author: har'el, e-mail: rl@gauss.technion.ac.il means site \"official\" distributor, most date. north america (please look things your continent first...): ------------- wuarchive.wustl.edu [128.252.135.4]: /graphics/graphics contents file roadmap. /graphics/graphics/objects/tddd *the ttddd objects converters*, /mirrors/unix-c/graphics rayshade tracer, tracer, vort tracer, fbm, pbmplus, popi, utah raster toolkit. /mirrors/msdos/graphics tracer, raytracker demos. /pub/rad.tar.z *sgi_rad*, /graphics/graphics/radiosity radiance indian radiosity package. /msdos/ddjmag/ddj9209.zip version xsharp, with fast texture mapping. there's lots more, including bibs, graphics gems code, off, rtn, radiance, nff, sipp, spline patch intersection routines, textbook errata, source code from hall's book \"illumination color computer generated imagery\", graphics/graphics/packages/kaleido *kaleido* george kyriazis <kyriazis@turing.cs.rpi.edu> princeton.edu [128.112.128.1]: /pub/graphics (note capital \"g\") *rayshade tracer (and separate executable)*, *color quantization code*, *spd*, news*, *wilson's abstracts*, bib*, *utah raster toolkit*, newer fbm, *graphics gems code*. /pub/graphics directory *salem* other stuff. craig kolb <cek@princeton.edu> [replaces weedeater.math.yale.edu note capital pub/graphics] because there's trouble with princeton's incoming area, upload rayshade-specific stuff weedeater.math.yale.edu [128.36.23.17] alfred.ccs.carleton.ca [134.117.1.1]: /pub/dkbtrace *dkb tracer*, /pub/pov-ray/pov-ray1.0 *pvray compuserve group tracer pov)*. david buck <david_buck@carleton.ca> avalon.chinalake.navy.mil [129.131.31.11]: objects (multiple formats), utilities, file format documents. this site created object \"repository\" net. francisco dejesus <dejesus@archimedes.chinalake.navy.mil> omicron.cs.unc.edu [152.2.128.159]: pub/softlab/chvrtd chapel hill volume rendering test datasets. ftp.mv.com [192.80.84.1]: official repository. *xsharp* peipa.essex.ac.uk [155.245.115.161]: pilot european image processing archive; directory ipa/synth something like that, there image synthesis packages. adrian clarke <alien@essex.ac.uk> barkley.berkeley.edu [128.32.142.237] tcl/extensions/tsipp3.0b.tar.z *tcl-sipp* mark diekhans <markd@grizzly.com markd@neosoft.com> acs.cps.msu.edu [35.8.56.90]: pub/sass window fonts converter into rayshade polygons*, rayshade animation tool(s). sass <sass@cps.msu.edu> hobbes.lbl.gov [128.3.12.38]: *radiance* trace/radiosity package. greg ward <gjward@lbl.gov> geom.umn.edu [128.101.25.31] pub/geomview *geomview* contact (for geomview): software@geom.umn.edu ftp.arc.umn.edu [137.66.130.11] pub/gvl.tar.z latest version bob, icol raz. source, manual, pages, binaries irix 4.0.5 included (bob real time volume renderer) pub/ contains also many volume datasets. chin-purcell <ken@ahpcrc.umn.edu> ftp.kpc.com [144.52.120.9] /pub/graphics/holl91 steve hollasch's thesis, /pub/graphics/ray4 *ray4*, /pub/graphics/wire4 *wire4*. /pub/mirror/avalon mirror avalon's objects repository. steve hollasch <hollasch@kpc.com> swedishchef.lerc.nasa.gov [139.88.54.33] programs/hollasch-4d ray4, explorer modules postscript manual, etc. zamenhof.cs.rice.edu [128.42.1.75] pub/graphics.formats various electronic documents about many object image formats. mark hall <foo@cs.rice.edu> will apparently longer maintaining ftp.ncsa.uiuc.edu. rascal.ics.utexas.edu [128.83.144.1]: /misc/mac/inqueue vision-3d facet based modeller, output rayshade radiance files. ftp.ncsa.uiuc.edu [141.142.20.50] misc/file.formats/graphics.formats contains various image- object-format descriptions. many scivi tools various directories, e.g. sgi/alpha-shape/alvis-1.0.tar.z alpha-shape visualizer (sgi machines only), sgi/polyview3.0/polyview.z interactive visualization analysis geometrical structures. quincey koziol <koziol@ncsa.uiuc.edu> tucana.noao.edu [140.252.1.1] /iraf iraf astronomy package ftp.ipl.rpi.edu [128.113.14.50]: sigma/erich images haines thesis images. pub/images various image stills sequences. kevin martin <sigma@ipl.rpi.edu> ftp.psc.edu [128.182.66.148]: pub/p3d p3d_2_0.tar lispy scene language renderers. joel welling <welling@seurat.psc.edu> ftp.ee.lbl.gov [128.3.254.68]: *pbmplus.tar.z*, rayshade data files. poskanzer <jef@ace.ee.lbl.gov> george.lbl.gov [128.3.196.93]: pub/ccs-lib/ccs.tar.z *ccs (complex conversion system), standard software interface image processing* hanauma.stanford.edu [36.51.0.16]: /pub/graphics/comp.graphics best comp.graphics (very extensive), ray-tracers dbw, mtv, qrt, more. dellinger <joe@hanauma.stanford.edu> ftp.uu.net [192.48.96.2]: /graphics *irit*, news back issues (not complete), nurbs models, other graphics related material. /graphics/jpeg/jpegsrc.v?.tar.z independent jpeg group package reading writing jpeg files. freebie.engin.umich.edu [141.212.68.23]: *utah raster toolkit*, spencer thomas <thomas@eecs.umich.edu> export.lcs.mit.edu [18.24.0.12] /contrib pbmplus, image magick, xloadimage, xli, img, lots more. /pub/r5untarred/mit/demos/gpc ncga graphics performance characterization (gpc) suite. life.pawl.rpi.edu [128.113.10.2]: /pub/ray *kyriazis stochastic tracer*. george kyriazis <kyriazis@turing.cs.rpi.edu> cs.utah.edu [128.110.4.21]: /pub utah raster toolkit, *nurbs databases*. jamie painter <jamie@cs.utah.edu> gatekeeper.dec.com [16.1.0.2]: /pub/dec/off.tar.z *off models*, also benchmark files (planned, checked). randi rost <rost@kpc.com> hubcap.clemson.edu [130.127.8.1]: /pub/amiga/incoming/imagine stuff amiga imagine turbo silver tracers. /pub/amiga/ttdddlib *ttdddlib* /pub/amiga/incoming/imagine/objects many objects. glenn lewis <glewis@pcocd2.intel.com> pprg.eece.unm.edu [129.24.24.10]: /pub/khoros *khoros image processing package (huge, great)*. danielle argiro <danielle@bullwinkle.unm.edu> expo.lcs.mit.edu [18.30.0.212]: contrib *pbmplus portable bitmap package*, *poskbitmaptars bitmap collection*, *raveling img*, xloadimage. poskanzer <jef@well.sf.ca.us> venera.isi.edu [128.9.0.32]: */pub/img.tar.z img.tar.z some image manipulation*, /pub/images separation photos. paul raveling <raveling@venera.isi.edu> ucsd.edu [128.54.16.1]: /graphics utah toolkit, pbmplus, fbm, databases, mtv, other tracers, world map, other stuff. updated much recently. castlab.engr.wisc.edu [128.104.52.10]: /pub/x3d.2.2.tar.z *x3d* /pub/xdart.1.1.* *xdart* mark spychalla <spy@castlab.engr.wisc.edu> sgi.com [192.48.153.1]: /graphics/tiff tiff spec *libtiff* software pics. also much sgi- gl-related stuff (e.g. opengl manuals) leffler <sam@sgi.com> [supercedes okeeffe.berkeley.edu libtiff stuff] surya.waterloo.edu [129.97.129.72]: /graphics fbm, tracers ftp.sdsc.edu [132.249.20.22]: /sdscpub *sdsc* ftp.brl.mil [128.63.16.158]: /brl-cad information package tracer. /images various test images. texture library also begun here. butler <butler@brl.mil> cicero.cs.umass.edu [128.119.40.189]: /texture_temp 512x512 grayscale brodatz textures, from julien flack <julien@scs.leeds.ac.uk>. karazm.math.uh.edu [129.7.7.6]: pub/graphics/rtabs.shar.12.90.z *wilson's abstracts*, vm_pray. eric townsend <jet@karazm.math.uh.edu jet@nas.nasa.gov> ftp.pitt.edu [130.49.253.1]: /users/qralston/images image archive (small). james ralston crawford <qralston@gl.pitt.edu> ftp.tc.cornell.edu [128.84.201.1]: /pub/vis *vrend* sunee.waterloo.edu [129.97.50.50]: /pub/raytracers vivid, *rend386* sunee.uwaterloo.ca] archive.umich.edu [141.211.164.153]: /msdos/graphics graphics stuff. /msdos/graphics/raytrace vivid2. apple.apple.com [130.43.2.2?]: /pub/archivevol2/prt. research.att.com [192.20.225.2]: /netlib/graphics *spd package*, ~/polyhedra *polyhedra databases*. don't have ftp, netlib automatic mail replier: uucp research!netlib, internet netlib@ornl.gov. send line message \"send index\" more info, \"send haines from graphics\" spd) siggraph.org [128.248.245.250]: siggraph archive site. publications *online bibliography project*, conference proceedings various electronic formats (papers, panels), siggraph video review information order forms. other stuff various directories. automatic mailer archive-server@siggraph.org (\"send index\"). ftp.cs.unc.edu [128.109.136.159]: pub/reaction_diffusion greg turk's work reaction-diffusion textures, windows code (siggraph '91) avs.ncsc.org [128.109.178.23]: ~ftp/volvis92 volume datasets from boston workshop volume visualization '92. this site also international center. terry myerson <tvv@ncsc.org> uvacs.cs.virginia.edu [128.143.8.100]: pub/suit/demo/{sparc,dec,etc} suit (simple user interface toolkit). \"finger suit@uvacs.cs.virginia.edu\" detailed instructions. nexus.yorku.ca [130.63.9.66]: /pub/reports/radiosity_code.tar.z *rad* /pub/reports/radiosity_thesis.ps.z *rad msc. thesis* [this site will changed ftp.yorku.ca near future] milton.u.washington.edu [128.95.136.1] ~ftp/public/veos veos virtual reality distributed applications prototyping environment unix. veos software support veos-support@hitl.washington.edu oldpublic/fly fly! visualization software demo. that package built \"fly-throughs\" from various datasets near real-time. there binaries many platforms. also, much other virtual reality stuff. zug.csmil.umich.edu [141.211.184.2]: x-xpecs files glass shutter amiga computers great stuff!) sugrfx.acs.syr.edu [128.230.24.1]: various stereo-pair images. closed down sunsite.unc.edu [152.2.22.81]: /pub/academic/computer-science/virtual-reality final copy sugrfx.acs.syr.edu archive that ceased exist. contains powerglove code, papers, images research material. jonathan magid <jem@sunsite.unc.edu> archive.cis.ohio-state.edu [128.146.8.52]: pub/siggraph92 code siggraph course (procedural modeling rendering techniques) david ebert <ebert@cis.ohio-state.edu> lyapunov.ucsd.edu [132.239.86.10]: this machine considered repository preprints programs nonlinear dynamics, signal processing, related subjects (and fractals, course!) matt kennel <mbk@inls1.ucsd.edu> cod.nosc.mil [128.49.16.5]: /pub/grid.{ps,tex,ascii} short survey methods interpolate contour bivariate data ics.uci.edu [128.195.1.1]: /honig various stereo-pair images, movie.c animates movie display (8-bit mono) with digital subtraction. taurus.cs.nps.navy.mil [131.120.1.13]: pub/dabro/cyberware_demo.tar.z human head data pioneer.unm.edu [129.24.9.217]: pub/texture_maps hans buf's grayscale test textures (aerial swatches, brodatz textures, synthetic swatches). space planetary image repository. provides access >150 cd-roms with data/images on-line time). pub/info/beginner-info here should start browsing. colby kraybill <opus@pioneer.unm.edu>. cs.brown.edu [128.148.33.66] *srgp/sphigs* more info srgp/sphigs: mail 'software-distribution' graphtext@cs.brown.edu pdb.pdb.bnl.gov [130.199.144.1] data about various organic molecules, bonds between different atoms, etc. atomic coordinates (and load other stuff) contained \"*.ent\" files, actual atomic dimemsions seem missing. could convert these data pov, rayshade, etc. biome.bio.ns.ca [142.2.20.2] /pub/art some renoir paintings, escher's pictures, etc. ic16.ee.umanitoba.ca /specmark sample images from `images from edge' cd-rom (images atomic landscapes, advanced semiconductors, superconductors experimental surface chemistry among others). contact ruskin@ee.umanitoba.ca explorer.dgp.toronto.edu [128.100.1.129] pub/sgi/clrpaint *clrpaint* pub/sgi/clrview.* clrview, tool that aids visualization datasets formats like dxf, dem, arc/info, etc. ames.arc.nasa.gov [128.102.18.3]: pub/space/cdrom images from magellan viking missions etc. pub/space/index first. pub/spacelink most spacelink service data (see below) e-mail server available: send mail archive-server@ames.arc.nasa.gov ames!archive-server) with subject:\"help\" \"send space index\" (without quotes!) peter <yee@ames.arc.nasa.gov> pubinfo.jpl.nasa.gov [128.149.6.2]: images, other data, etc. from missions. modem access (818)-354-1333 parity, data bits, stop bit). newsdesk@jplpost.jpl.nasa.gov phone (818)-354-7170 spacelink.msfc.nasa.gov [128.158.13.250] (passwd:guest) space graphics images from nasa's planetary probes hubble telescope. main function support teachers (you telnet also this site). dial access: (205)-895-0028 (300/1200/2400/9600(v.32) baud, bits, parity, stop bit). stsci.edu [130.167.1.2] hubble space telescope stuff (images other data). read readme first! pete reppert <reppert@stsci.edu> chris o'dea <odea@stsci.edu> pit-manager.mit.edu [18.172.1.27]: /pub/usenet/news.answers land faqs. graphics pictures directories particular interest. [also available from mail-server@pit-manager.mit.edu sending mail message containing: help] uucp archive: avatar news back issues. details, write kory hamzeh <kory@avatar.avatar.com> europe: ------- nic.funet.fi [128.214.6.100]: *pub/sci/papers *paper bank project, including pete shirley's entire thesis (with pics)*, *wilson's abstracts*, pub/misc/cia_worldmap world data bank, comp.graphics.research archive, *india*, much, much more. juhana kouhia <jk87377@cs.tut.fi> dasun2.epfl.ch [128.178.62.2]: radiance. good european sites, doesn't carry add-ons that available radiance. isy.liu.se [130.236.1.3]: pub/sipp/sipp-3.0.tar.z *sipp* scan line z-buffer phong shading renderer. jonas yngvesson <jonas-y@isy.liu.se> irisa.fr [131.254.2.3]: */ipsc2/vm_pray tracer*, spd, /nff many non-spd format scenes, rayshade data files. didier badouel <badouel@irisa.irisa.fr> [may have disappeared] phoenix.oulu.fi [130.231.240.17]: *fli raytracker animation files vga) also .flis (640*480)* *rayscene demos* [americans: check wuarchive first]. more animations come. jari kahkonen <hole@phoenix.oulu.fi> jyu.fi [128.214.7.5]: /pub/graphics/ray-traces many tracers, including vm_pray, dbw, dkb, mtv, qrt, rayshade, some news, files. jari toivanen <toivanen@jyu.fi> garbo.uwasa.fi [128.214.87.1]: much stuff, etc., /pc/source/contour.f fortran program contour scattered data using linear triangle-based interpolation asterix.inescn.pt [192.35.246.17]: pub/rtrace *rtrace* nffutils.tar.z (nff utilities rtrace), medical data (cat, etc.) converters nff, autocad autolisp code, autocad (rtrace's language) converter other goodies. antonio costa (acc@asterix.inescn.pt) vega.hut.fi [128.214.3.82]: /graphics archive, tracers (mtv, qrt, others), nff, some models. shut down months check under nic.funet.fi nfotis sun4nl.nluug.nl [192.16.202.2]: /pub/graphics/raytrace dbw.microray, mtv, unix.hensa.ac.uk misc/unix/ralcgm/ralcgm.tar.z viewer converter. there's e-mail server also mail archive@unix.hensa.ac.uk with message body \"send misc/unix/ralcgm/ralcgm.tar.z\" maeglin.mt.luth.se [130.240.0.25]: graphics/raytracing prt, others, ~/doc *wilson's abstracts*, vivid. ftp.fu-berlin.de [130.20.225.2]: /pub/unix/graphics/rayshade4.0/inputs aq.tar.z rayshade aquarium [americans: check princeton.edu first). heiko schlichting <heiko@math.fu-berlin.de> maggia.ethz.ch [129.132.17.1]: pub/inetray *inetray* code andreas thurnherr <ant@ips.id.ethz.ch> osgiliath.id.dth.dk [129.142.65.24]: /pub/amiga/graphics/radiance *amiga port radiance 2.0*. bojsen <bojsen@ithil.id.dth.dk> ftp.informatik.uni-oldenburg.de [134.106.1.9] *pov raytracer* mirrored wuarchive, many goods pov. pub/dkbtrace/incoming/polyray polyray raytracer pub/dkbtrace/incoming/pv3d* *pv3d* ftp.uni-kl.de [131.246.9.95]: /pub/amiga/raytracing/imagine mirror hubcap imagine files. neptune.inf.ethz.ch [129.132.101.33]: *xyz geobench* peter schorn <schorn@inf.ethz.ch> iamsun.unibe.ch [130.92.64.10]: /graphics/graphtal* l-system interpreter. christoph streit <streit@iam.unibe.ch> amiga.physik.unizh.ch [130.60.80.80]: /amiga/gfx graphics stuff amiga computer. stesis.hq.eso.org [134.171.8.100]: on-line access huge astronomical database. (login:starcat;no passwd) decnet:stesis (it's space telescope european coordination facility) benoit pirenne <bpirenne@eso.org>, phone middle east ----------- gauss.technion.ac.il [132.68.112.60]: *kaleida* australia: ---------- gondwana.ecr.mu.oz.au [128.250.70.62]: *vort(art) tracer*, *vogle*, wilson's tracing abstracts, /pub/contrib/artscenes (art scenes from italy), pub/images/haines haines thesis images, graphics gems code, spd, databases, previewers, plus some 24bit images lots other stuff. pub/rad.tar.z *sgi_rad* bernie kirby <bernie@ecr.mu.oz.au> munnari.oz.au [128.250.1.21]: pub/graphics/vort.tar.z *vort (art) algebraic surface tracer*, *vogle*, /pub dbw, pbmplus. /graphics room.tar.z (art scenes from italy). david hook <dgh@munnari.oz.au> marsh.cs.curtin.edu.au [134.7.1.1]: pub/graphics/bibliography/facial_animation, pub/graphics/bibliography/morph, pub/graphics/bibliography/ui stuff about facial animation, morphing user interfaces. pub/fascia fred parke's fascia program. valerie hall <val@lillee.cs.curtin.edu.au> oceania asia: --------------- ccu1.aukland.ac.nz [130.216.1.5]: ftp/mac/architec *vision-3d facet based modeller, output rayshade files*. many other neat things macs. paul bourke <pdbourke@ccu1.aukland.ac.nz> scslwide.sony.co.jp [133.138.199.1]: ftp2/sgi/facial-animation steve franks site facial animation. steve franks <stevef@csl.sony.co.jp stevef@cs.umr.edu> mail servers graphics-oriented bbses =========================================== please check first with places above, with archie's help. don't overuse mail servers. there some troubles with wrong return addresses. many these mail servers have command like path a_valid_return_e-mail_address hint sending back stuff. dec's ftpmail ------------- send one-line message ftpmail@decwrl.dec.com without subject: field, having line containing word 'help'. should back message detailing relevant procedures must follow order files want. note that \"reply\" \"answer\" command your mailer will work this message other mail receive from ftpmail. send requests ftpmail, send original mail message, reply. complaints should sent ftpmail-request@uucp-gw-2.pa.dec.com address rather than postmaster, since decwrl's postmaster responsible fixing ftpmail problems. bitftp ------ bitnet sites only, there's bitftp@pucc. send one-line 'help' message this address more info. lightwave mail based file-server ----------------------------------- mail based file server objects, 24bit jpeg images, images image maps online those with internet mail access. server official archive site lightwave mail-list contains many shareware graphics utilities several computer platforms including amiga, atari, macintosh. server resides called \"the graphics bbs\". operational hours days week phone number 908/469-0049. upgraded modem hayes ultra v.32bis/v.42bis, which speeds from 300bps 38,400bps. would like submit objects, scenes images server, please pack, uuencode then mail files address: server@bobsbox.rent.com. information obtaining files from server send mail message address file-server@graphics.rent.com with following body message: help /dir help file describing server complete directory listing will sent mail. includes cyberware head shouders ttddd format! check out, only can't ftp! nfotis inria-graphlib -------------- pierre jancene sabine coquillart launched inria-graphlib mail server months ago. echo help mail inria-graphlib@inria.fr will give quick summary what inria-graphlib contains browse among files. echo send contents mail inria-graphlib@inria.fr will return extended summary. other example echo send cgrl from misc mail inria-graphlib@inria.fr will return computer graphics resource listing mirrored from comp.graphics. bbses ----- there many bbses that store datafiles, etc.etc., guide these beyond scope this listing (and resources author!) point internet- mail- accessible bbses that carry interesting stuff, send info! studio amiga modelling tracing specific bbs, (817) 467-3658. hours, online. from jeff walkup <pwappy@well.sf.ca.us>: \"the castle\" 415/355-2396 (14.4k/v.32bis/v.42/v.42bis/mnp) pacifica, dang close francisco, california, usa) new-user password \"tao\". [j]oin base castle g/fx, anim, video, s.i.g., which sig-op, \"lazerus\". lindabury operates (see above entry \"the graphics bbs\") 'you call ray' tracing related chicago suburbs (708-358-5611) (708-358-8721) digital pixel (sysop: mark <mcng@descartes.waterloo.edu>) based toronto, ontario, canada. phone (416) 1487 storage space: megs modem type: 14.4k baud,16.8k (zyxel) v32bis ,v32, access fee: none.. (free) system supported dos, os/2, amiga, mac. netmail: currently echo mail. topics: raytracing, fractals, graphics programming, cad, comp. graphics related from: david tiberio <dtiberio@ic.sunysb.edu> amiga graphics (516) 473-6351 long island, york, running hours 14.4k v.32bis, with megs line. also subscribe mailing lists, which originate from bbs, with more added soon. these include: lightwave, imagine, real (ray tracing) database files include: imagine objects, renderings, scalable fonts, music modules, sound samples, demos, animations, utilities, text databases, pending lightwave objects. graphics alternative graphics alternative cerrito, ca., running hours 14.4k hst/v.32bis, with 642mb online 1300+ user base. runs nodes, node (510) 524-2780 public access includes free trial subscription. west coast host pcgnet, profesional graphics network, supporting nodes across continental u.s., alaska, zealand, australia, france tga's file database includes ms-dos executables pov, vivid, rtrace, rayshade, polyray, others. also numerous graphics utilities, viewers, conversion utilities. registered vivid users also download latest vivid aeta code from special vivid conference. from: scott bethke <sbathkey@access.digex.com> intersection bbs, 410-250-7149. this dedicated supporting animators.the system provided free charge, commercialized anyway. users given full access first call. features: usenet news internet mail, fidonet echo's netmail, megs online, v.32bis/v.42bis modem. platforms interest: amiga videotoaster, macintosh, ms-dos, unix workstations (sun, sgi, etc), atari-st. from: alfonso hermida <afanh@robots.gsfc.nasa.gov>: square (301)725-9080 maryland. supports raytracers such vivid. runs 486/33mhz, 100megs hard drive rom. runs 1200-2400bps (this will change soon) topics: graphics programming, animation,raytracing,programming (general) from: lynn falkow <roxxie@delphi.com>: vertech design's graphic connection. (503) 591-8412 portland, oregon. v.32/v.42bis. bbs, aside from carrying typical services like message bases topic specific files graphics related hundreds megabytes also offers material texture files that full color, seamlessly tiling, photo-realistic images. there samples available first time callers. subscription system although callers have hours before they must subscribe, there several subscription rates available. people interested materials subscribe library addition basic subscription rate, their purchased time download whichever materials they wish. ========================================================================== ray-tracing/graphics-related mailing lists ============================================= imagine ------- modeling animation system amiga: send subscription requests imagine-request@email.sp.paramax.com send material imagine@email.sp.paramax.com (dave wickard substituted steve worley maintenance mailing list) please note that unisys.com address longer valid!!! lightwave --------- (for amiga. it's part newtek's video toaster): send subscription requests lightwave-request@bobsbox.rent.com send material lightwave@bobsbox.rent.com (bob lindabury) toaster ------- send subscription requests listserv@karazm.math.uh.edu with *body* subscribe toaster-list real ------- another modeling animation system amiga: subscribe, send mail containing body subscribe real3d-l <your full name> listserv@gu.uwa.edu.au rayshade -------- send subscription requests rayshade-request@cs.princeton.edu send material rayshade-users@cs.princeton.edu (craig kolb) alladin amiga ---------- send subscription requests subscribe@xamiga.linet.org body message write #alladin username@domain radiance -------- greg ward, author, sends registered (via e-mail) users digests correspodence with them, notes about fixes, updates, etc. address gjward@lbl.gov rend386 ------- send subscription requests rend386-request@sunee.waterloo.edu send material rend386@sunee.waterloo.edu raytracers ------------------------ subscribe, send mail containing body subscribe dkb-l <your full name> listserv@trearn.bitnet send material dkb-l@trearn.bitnet mailing list massively parallel rendering --------------------------------------------- send subscription requests mp-render-request@icase.edu send material mp-render@icase.edu ========================================================================== graphics editors ====================== public domain, free shareware systems ============================================ vision-3d --------- mac-based program written paul bourke (pdbourke@ccu1.aukland.ac.nz). program used generate models directly rayshade radiance file formats (polygons only). it's shareware listed list. solid modeling system most environments including x11. nurbs, plus support non-manifold geometry [whatever is]. *free* signing returning relevant license, found ftp.brl.mil. uses ray-tracing engineering analyses. contact: carla moyer (410)-273-7794 tel. (410)-272-6763 cad-dist@brl.mil e-mail snail mail: brl-cad distribution surviac aberdeen satellite office 1003 philadelphia road, suite aberdeen 21001 irit ---- constructive solid geometry (csg) modeling program x11. includes freeform surface support. free list where find surfmodel --------- solid modeling program written turbo pascal camp. available from simtel, pd1:<msdos.srfmodl> directory. noodles ------- from cmu, namely fritz printz levent gursoz (elg@styx.edrc.cmu.edu). it's based manifold topology. them more info, don't know they give away. xyz2 ---- xyz2 interactive editor/builder written dale stocker create objects surfacemodel, automove, raytracer packages. xyz2 free found, example, simtel20 <msdos.surfmodl>xyz21.zip (dos only??) 3dmod ----- it's msdos program. check barnacle.erc.clarkson.edu [128.153.28.12], /pub/msdos/graphics/3dmod.* undocumented file format 3dmod 1991 micah silverman, pierrepoint ave., postdam, york 13676, tel. 315-265-7140 northcad -------- shareware, <msdos.cad>ncad3d42.zip simtel20. undocumented file format vertex ------ (amiga) shareware, send (check money order) machine, 4189 nickolas sterling heights, 48310 addition standard file formats, including lightwave, imagine, sculpt, turbo silver, wavefront, this release offers professional rayshade support. (rayshade supported only primitive \"triangle\", easily include this output your rayshade scripts) latest demo, version 1.62, available fred fish #727. more information, contact author, alex deburie, ad99s461@sycom.mi.org, phone: (313) 939-2513 icoons ------ (amiga) it's spline based object modeller (\"icoons\" interactive coons path editor) amiga.physik.unizh.ch (gfx/3d/icoons1.0.lzh). it's free (under licence) requires fpu. program look&feel which cross between journeyman imagine, generates objects ttddd format. possible load journeyman objects into icoons, program used convert jman objects imagine format. author: helge rasmussen <her@compel.dk> phone it's also fred fish disk series n.775 nfotis protocad ----------- from trius (shareware?) it's wsmr-simtel20.army.mil oak.oakland.edu pcad3d.zip (for pcs) this menu layout: file file handling (load, save, import, xport...) draw draw objects (line, circle, box...) draw objects (mesh, sphere, block...) edit editing features (copy, move ...) surface modify objects (revolve, xtrude, sweep...) image image zooming features (update, window, half...) option global defaults (grid, toggles, axis...) plot print drawing/picture (go, image...) render shade objects (frame, lighting, tune...) layer layer options (select active layer, colors...) +sculptura +--------- runs under windows 3.1, outputs files. demo found wuarchive.wustl.edu mirrors/win3/demo/demo3d.zip author: michael gibson <gibsonm@stein.u.washington.edu> commercial systems ===================== alpha_1 ------- spline-based modeling program written university utah. features: splines trimmed nurbs; support boolean operations; sweeps, bending, warping, flattening etc.; groups objects, transformations; extensible object types. applications include: machining, animation utilities, dimensioning, analysis, etc. rendering subsystem, with support animations. support following platforms: 800's (x11r4, hp-ux 6.5), machines (x11r4 irix 3.3.1), sparcstation (x11r4, sunos 4.1.1). licensing distribution handled egs: glenn mcminn, president engineering geometry systems east south temple, suite salt lake city, 84111 (801) 575-6021 mcminn@cs.utah.edu educational pricing charge $675 platform. system many different workstations that type wish. each platform there also $250 licensing portable standard lisp (psl) which bundled with system. need obtain additional license from university utah from following address: professor robert kessler computer science department university utah salt lake city, utah 84112 handle licensing u.s. institutions $usd nominal nfotis vertigo ------- they have educational institution program. package used industrial design, architectural, scientific visualization, educational, broadcast, imaging post production fields. they'll [quoting from letter sent nfotis \"donate fully configured vertigo graphics software worth over $29,000usd package qualified educational institutions licencing number silicon graphics personal iris power series workstations. iris indigo station, will also licence vertigo revolution software (worth $12,000usd). interested participating this program please send letter mail (604/684-2108) your institution's letterhead briefly outlining your potential uses vertigo together with following information: unix version model number systems peripheral devices third party software. participants will asked contribute $750usd institution cover costs manual, administration, shipping. recommend that vertigo users subscribe technical support services. annual will receive: technical assistance support hotline, fixes, software upgrades manual updates. educational institution will waive $750 administration support purchased. annual support $2,500 plus following cost additional machines: number machines: 2-20 additional cost machine: $700 $600 there's also 5-day training program nfotis] contact: vertigo technology suite 1010 1030 west georgia vancouver, canada, phone: 604/684-2113 fax: 604/684-2108 does anyone know such offers from tdi, alias, softimage, wavefront, etc.??? this would very interesting part!! nfotis padl-2 ------ basically, it's solid modeling kernel which build your application(s)] available license from cornell programmable automation cornell university engineering theory center ithaca, 14853 license fees very educational institutions gov't agencies. internal commercial licenses re-dissemination licenses available. information packet, write above address, send your address marisa@cpa.tn.cornell.edu (richard marisa) acis ---- from spatial technology. it's solid modelling kernel callable from heard that many universities free copies from company. person contact regarding acis academic institutions scott owens, e-mail: sdo@spatial.com their address spatial technology, inc. 2425 55th st., bldg. boulder, 80301-5704 phone: (303) 449-0649, fax: (303) 449-0926 movie-byu cquel.byu --------------------- basically understanding], this pre- post-proccessor system. it's fairly today, still serves some people mech. eng. depts. it's superseded from cquel.byu (pronounced \"sequel\"). that's complete modelling, animation visualization package. runs usual workstation environments (sun, dec, sgi, rs6000, others) demo version (30-days trial period) either sending their address blank tape. costs 1,500 full run-time licence. contact: engineering computer graphics clyde building, brigham young univ. provo, 84602 phone: 801-378-2812 e-mail: cquel@byu.edu twixt ----- soon stuff about it... reply voxblast -------- it's volume renderer marketed vaytek inc. (fairfield, iowa phone: 515-472-2227) running with 386+fpu least. call vaytek more info. voxelbox -------- volume renderer windows. features include direct ray-traced volume rendering, color alpha mapping, gradient lighting, animation, reflections shadows. runs pc(386 higher) with least video card(svga fine) under windows 3.x. costs $495. contact: jaguar software inc. main st., suite winchester, 01890 (617) 729-3659 jwp@world.std.com (john poduska) ========================================================================== scene description languages ============================== neutral file format eric haines. very simple, there some procedural database generators package, many objects floating various sites. there's also previewer written starbase from e.haines. also there's written vogle, devices vogle output (check sites carrying vogle, like gondwana.ecr.mu.oz.au) object file format, from dec's randy rost (rost@kpc.com). object archive server seems mothballed. future version, i'll remove ref. nfotis available also through their mail server. obtain help about using this service, send message with \"subject:\" line containing only word \"help\" null message body object-archive-server@decwrl.dec.com. [for places relevant place]. there's previewer machines, called off-preview godzilla.cgl.rmit.oz.au there previewers xview sunview, also gondwana. tddd ---- it's library objects with translators to/from off, nff, rayshade, imagine vort objects. edited copy announcement follows (from raytracing news, v4,#3): library objects available ftp, steve worley (worley@cup.portal.com) have assembled over objects binary format called tddd. these objects range from human figures airplanes, from semi-trucks lampposts. these objects freely distributable, most have readmes that describe them. order convert these objects human-readable format, file with specification tddd included directory with objects. there also shareware system called ttdddlib (officially hubcap.clemson.edu) that will convert (ala pbm+) to/from various object formats imagine ttddd (extension tddd?), off, nff, rayshade 4.0, vort. source included amiga/unix executables amiga. also outputs framemaker files isometric views postscript. from pittsburgh supercomputing center. uses lisp with slight extensions store three-dimensional models. simple lisp interpreter included with release, there need have access vendor's lisp this software. mouse-driven user interfaces motif, open look, silicon graphics drawp3d subroutine library generating without ever looking underlying lisp. software currently supports nine renderers. they are: painter painter's algorithm, dore, silicon graphics inc. language, generic phigs, phigs+, phigs+, rayshade, tracer (from vort package) pixar renderman. code available anonymous from machines ftp.psc.edu, directory pub/p3d, nic.funet.fi, directory pub/graphics/programs/p3d. renderman --------- pixar's renderman free call pixar details. ========================================================================== solids description formats ============================= eec's esprit project cad*i (cad interfaces) developed neutral file format transfer data (curves, surfaces, solid models between systems from (computer aided analysis) (computer aided manufacturing) iges now] tries define standard tranfer solid models brep csg. current standard number ansi y14.26m-1987 documentation, might want contact nancy flower ncga technical services standards, 1-800-225-6242 ext. cost $100. this standard available electronic format. pdes/step this slowly emerging standard tries encompass only geometrical information, also things like fem, etc. main bodies besides this standard nist darpa. more information about pdes sending mail nptserver@cme.nist.gov putting line send index body (not subject:) area message. people rutherford appleton lab. also working step tools: they have express compiler exchange file parser, both available source form (and free) research purposes. soon they will also have express-based database system. tools contact mike mead, phone: (0235) 6710 (fax: 5893), e-mail: mm@inf.rl.ac.uk {...!}mcsun!uknet!rlinf!mm mm%inf.rl.ac.uk@nsfnet-relay.ac.uk ========================================================================== part resource listing"
        ],
        [
         "11",
         "I have a Roberto Clemente 1969 Topps baseball card for sale, in near-mint\ncondition (really as close to mint condition as you can get).  It lists for\n$55 in my most recent baseball card pricelist for May.  I am offering it for\n$50 and I'll pay the certified postage to ship it to you.",
         "have roberto clemente 1969 topps baseball card sale, near-mint condition (really close mint condition get). lists most recent baseball card pricelist may. offering i'll certified postage ship you."
        ],
        [
         "12",
         "\n\n\"Diet Evangelist\".  Good term.  Fits Atkins to a \"T\".  \n\n\n-- \n----------------------------------------------------------------------------\nGordon Banks  N3JXP      | \"Skepticism is the chastity of the intellect, and\ngeb@cadre.dsl.pitt.edu   |  it is shameful to surrender it too soon.\" ",
         "\"diet evangelist\". good term. fits atkins \"t\". ---------------------------------------------------------------------------- gordon banks n3jxp \"skepticism chastity intellect, geb@cadre.dsl.pitt.edu shameful surrender soon.\""
        ],
        [
         "13",
         "Hi Damon,  No matter what system or explanation of creation you wish\nto accept, you always have to start with one of two premises, creation\nfrom nothing, or creation from something.  There are no other\nalternatives.  And if we accept one or the other of those two\npremises, then again there are two alternatives, either creation was\nrandom, or was according to some plan.\n   If it was random, I am unable to accept that the complex nature of\nour world with interrelated interdependent organisms and creatures\ncould exist as they do.  Therefore I am left with creation under the\ncontrol of an intelligence capable of devising such a scheme.  I call\nthat intelligence God.\n   I also prefer the \"Creatio ex nihilo\" rather than from chaos, as it\nis cleaner.\n   There is obviously no way to prove either or neither.  We are and\nwe must have come from somewhere.  Choose whatever explanation you\nfeel most comfortable with, Damon.  You are the one who has to live\nwith your choice.\nShalom,                                  Len Howard\n",
         "damon, matter what system explanation creation wish accept, always have start with premises, creation from nothing, creation from something. there other alternatives. accept other those premises, then again there alternatives, either creation random, according some plan. random, unable accept that complex nature world with interrelated interdependent organisms creatures could exist they therefore left with creation under control intelligence capable devising such scheme. call that intelligence god. also prefer \"creatio nihilo\" rather than from chaos, cleaner. there obviously prove either neither. must have come from somewhere. choose whatever explanation feel most comfortable with, damon. live with your choice. shalom, howard"
        ],
        [
         "14",
         "The title says it all.  I need to know the 44, 88, and 88c rom versions.",
         "title says all. need know versions."
        ],
        [
         "15",
         "\nCan't we move the political bickering to a more appropriate group?\n-- \nBrad Kepley                  Internet         kepley@photon.phys.unca.edu\nWork-days                    Voice            (704)252-8330",
         "can't move political bickering more appropriate group? brad kepley internet kepley@photon.phys.unca.edu work-days voice (704)252-8330"
        ],
        [
         "16",
         "Exactly.\n\nBut I'll add another observation: if the chip does become a standard,\nthe algorithm won't _remain_ secret.\n\nLeaving the government with the only remaining option: to make use\nof un-escrowed keys illegal. Which won't begin to bother the terrorists\nand child abusers the government is so fond of referring to.\n\nNote that the Federalist papers stress _one_ reason for the right\nof citizens to bear arms: to defend themselves _against_ the army.\n_Our_ army.\n\nIMHO the _primary_ purpose of private crypto is defend ourselves\n_against_ the government. The odd terrorist I'm not worried about;\nthe goverment damages my quality of life every day.\n\nRob",
         "exactly. i'll another observation: chip does become standard, algorithm won't _remain_ secret. leaving government with only remaining option: make un-escrowed keys illegal. which won't begin bother terrorists child abusers government fond referring note that federalist papers stress _one_ reason right citizens bear arms: defend themselves _against_ army. _our_ army. imho _primary_ purpose private crypto defend ourselves _against_ government. terrorist worried about; goverment damages quality life every day."
        ],
        [
         "17",
         "\nAnd of course, Mike Ramsey was (at one time) the captain in Buffalo prior to\nbeing traded to Pittsburgh.  Currently, the Penguins have 3 former captains\nand 1 real captain (Lemieux) playing for them.  They rotate the A's during the\nseason (and even the C while Mario was out).  Even Troy Loney has worn the C\nfor the Pens.\n\n-Jay\n",
         "course, mike ramsey time) captain buffalo prior being traded pittsburgh. currently, penguins have former captains real captain (lemieux) playing them. they rotate during season (and even while mario out). even troy loney worn pens. -jay"
        ],
        [
         "18",
         "In Texas (Well, Corpus Christi anyway) if you pick up the phone and dial\n890 the phone company will read back the number to you.\nTry it. It might work.\n\n",
         "texas (well, corpus christi anyway) pick phone dial phone company will read back number you. might work."
        ],
        [
         "19",
         "\n   I'm sorry, I thought we were discussing heresy.  I assumed that heresy\nmeant a departure from orthodoxy, in which case generally accepted belief is\nindeed an important issue.  In this case, the definition of the word \"create\"\nis of great importance, since creation is the issue being discussed.\n\n\n  I should have said \"given the Mormon belief.\"  If you disagree with the\nMormon belief that creation is more a function of organization of eternally\nexistent substance than one of ex nihilo creation, then that is the important\npoint.\n\n\n  Correction: you interpret the Bible to mean something very specific by\nsuch terms.\n\n   It always cracks me up when anti-Mormons presume to tell Mormons what they\nbelieve.  Mormons do, in fact, believe that all people, including Christ and\nLucifer, are children of God in the sense that we were all created (or\norganized or whatever) by Him.  We also believe that being \"offspring\" of\nGod has a symbolic sense when applied to being spiritually \"born again\" of\nHim.  Thus the same word can be used to convey different meanings.  This is\nhow language works, Robert, and it's why making someone an offender for a\nword is dangerous.\n\n\n<...>\n\n   On the contrary, Robert, it is not a red herring at all to show that those\nwho rely wholly on the Bible cannot seem to agree on what it says.  You say\nthat one must simply \"look at the Bible\" to see what it teaches, but centuries\nof people doing just that have sho0wn that no one is really sure what it says.\nAre we to believe that you are the only one who really understands the\nscriptures?\n\n\n  Let me clarify this one more time.  You did not refer to the Mormon belief\nthat Jesus needed to be saved, but rather to McConkie's belief in same.  We\nkeep trying to point out to you that Bruce McConkie is not the source of\nMormon doctrine, and you keep ignoring it. (see below)\n\n\n  On the contrary, Robert, if you are quoting McConkie's words as Mormon\ncanon then the question of whether they are canon or not is of *great*\nimportance.  The fact is that they are not.  Whether or not they indicate\ngeneral Mormon belief would only be ascertainable by interviewing a large\nnumber of Mormons.",
         "sorry, thought were discussing heresy. assumed that heresy meant departure from orthodoxy, which case generally accepted belief indeed important issue. this case, definition word \"create\" great importance, since creation issue being discussed. should have said \"given mormon belief.\" disagree with mormon belief that creation more function organization eternally existent substance than nihilo creation, then that important point. correction: interpret bible mean something very specific such terms. always cracks when anti-mormons presume tell mormons what they believe. mormons fact, believe that people, including christ lucifer, children sense that were created organized whatever) him. also believe that being \"offspring\" symbolic sense when applied being spiritually \"born again\" him. thus same word used convey different meanings. this language works, robert, it's making someone offender word dangerous. <...> contrary, robert, herring show that those rely wholly bible cannot seem agree what says. that must simply \"look bible\" what teaches, centuries people doing just that have sho0wn that really sure what says. believe that only really understands scriptures? clarify this more time. refer mormon belief that jesus needed saved, rather mcconkie's belief same. keep trying point that bruce mcconkie source mormon doctrine, keep ignoring (see below) contrary, robert, quoting mcconkie's words mormon canon then question whether they canon *great* importance. fact that they not. whether they indicate general mormon belief would only ascertainable interviewing large number mormons."
        ],
        [
         "20",
         "\n\n\n\n\tI'd like to see this info as well.  As for wavelength, I think\nyou're primarily going to find two - 880 nM +/- a bit, and/or 950 nM\n+/- a bit.  Usually it is about 10 nM either way.  The two most common\nI have seen were 880 and 950 but I have also heard of 890 and 940.\nI'm not sure that the 10 nM one way or another will make a great deal of\ndifference.\n\n\tAnother suggestion - find a brand of TV that uses an IR remote,\nand go look at the SAMS photofact for it.  You can often find some very\ndetailed schematics and parts list for not only the receiver but the\ntransmitter as well, including carrier freq. specs. and tone decoding\nspecs. if the system uses that.",
         "like this info well. wavelength, think you're primarily going find bit, and/or bit. usually about either way. most common have seen were have also heard 940. sure that another will make great deal difference. another suggestion find brand that uses remote, look sams photofact often find some very detailed schematics parts list only receiver transmitter well, including carrier freq. specs. tone decoding specs. system uses that."
        ],
        [
         "21",
         "Just a shot here, but ya never know:\n\nI once bought a (REAL) cheap equalizer / power amp for my car tape player \nat one of those motel-room truckload sales, and it sounded great.  For a \nwhile, that is.  Then one channel quit entirely.  I opened it up, and the \namplifier chip for the bad channel had simply melted some of its solder \njoints attaching it to the PCB.  I soldered them back and it worked fine.  \nI just had to keep the volume a bit lower than I did before.  Probably \nlousy heat sinking.\n\nYou said \"a nice Alpine\" which I'm sure is a few orders of mag higher\nin quality than the P.O.S. I had.  But the point is - look inside before\nyou scrap it, since you OCCASIONALLY find something you can repair.\nMaybe even the same thing I found.",
         "just shot here, never know: once bought (real) cheap equalizer power tape player those motel-room truckload sales, sounded great. while, that then channel quit entirely. opened amplifier chip channel simply melted some solder joints attaching pcb. soldered them back worked fine. just keep volume lower than before. probably lousy heat sinking. said nice alpine\" which sure orders higher quality than p.o.s. had. point look inside before scrap since occasionally find something repair. maybe even same thing found."
        ],
        [
         "22",
         "\nThere is a (likely) veto proof majority in the house.  The Senate,\nunfortunately, is a different story.  The Lt.Gov. has vowed that the bill will\nnot be voted on, and he has the power to do it.  In addition, the Senate is a\nmuch smaller, and more readily manipulated body.\n\nOn ther other hand, the semi-automatic ban will likely not live, as at least\nfifty per cent of the house currently opposes it, and it is VERY far down in\nthe bill order in the Senate (I believe it will be addressed after the CCW\nbill).\n\nAnd I thought my TX Political Science class was a waste of time!",
         "there (likely) veto proof majority house. senate, unfortunately, different story. lt.gov. vowed that bill will voted power addition, senate much smaller, more readily manipulated body. ther other hand, semi-automatic will likely live, least fifty cent house currently opposes very down bill order senate believe will addressed after bill). thought political science class waste time!"
        ],
        [
         "23",
         "\n\n\n\n\"Put not your trust in princes\" is the Biblical proverb.  The modern\nanalog is governments.  At the time of the founding of the US, the\nidea that citizens had rights above those of the government was not\nthat common, but was explicit in the writings of the founders.  To a\nconsiderable extent, Englishmen also had those rights.\n\nYes, times change, and technology changes.  The possibility of \na few governments enserfing all of mankind was not possible until\nquite recently.  In the feudal system, the lord was almost as\nrestricted as the serfs, so having the people enserf themselves\ndoes not make anything better; most feudal lords, and even most\nslaveowners, did not mistreat those under them.\n\nFreedom of speech and freedom of religion are under real attack NOW.\n",
         "\"put your trust princes\" biblical proverb. modern analog governments. time founding idea that citizens rights above those government that common, explicit writings founders. considerable extent, englishmen also those rights. yes, times change, technology changes. possibility governments enserfing mankind possible until quite recently. feudal system, lord almost restricted serfs, having people enserf themselves does make anything better; most feudal lords, even most slaveowners, mistreat those under them. freedom speech freedom religion under real attack now."
        ],
        [
         "24",
         "As I promised, I would give you the name of the Panther's president.\nAfter Huizenga announced the team name, he announced that Bill\nTorrey is named the first president of the Panthers.\n\nA little Bio from _Sun-Sentinel_\nTorrey, the architect of four consecutive Stanley Cup champions as \npersident and general manager of the New York Islanders.\nThroughout his 27 years in the NHL, Bill Torrey's bow ties have become\nas much of a signature as Andre Agassi's hair.\n\nThe Panthers will introduce a uniform, insignia, and ticket-price \ninformation in early next month.  In the meantime, Huizenga leaves the\nday-to-day operation in the hands of Torrey and Bob Clarke, the VP and\nGM.\n\nThe Florida Panthers was chosen as the name of South Florida's NHL team\nto focus attention on an endangered species.  There are 30 to 50 Florida\nPanthers in the Everglades National Park, the Big Cypress National \nPreserve and other parts of southwestern Florida.\n\n\"The Panther is the quickest-striking of all cats,\" Torrey said.  \n\"Hopefully that's the way we'll play on ice.\"\n\nMore BIO:\nIn Torrey, Huizenga has the first man hired by the expansion Islanders\nin 1972 and the one most responsible for guiding the Islanders to four\nconsecutive Stanley Cup championships (their first after only eight\nseasons) and 14 consecutive winning seasons.  As executive vice president\nof the California Golden Seals, Torrey watched the Seals go to the play-\noffs in 1968, only their second NHL season.\n\n\"I guess this completes my own personal hat trick\", said Torrey, 58, a\nnative of Montreal but a resident of Bear Lakes Country Club in Palm\nBeach.\n\nJim G.\nother accounts:\ngorycki@sol.cse.fau.edu\njimg@cybernet.cse.fau.edu\n\n--------------------------------------------------------------------\n\"I repeat myself when under stress. I repeat myself when under stress.\nI repeat myself when under stress. I repeat myself when under stress.\nI repeat...\"  Adrian Belew, \"Indicipline\"",
         "promised, would give name panther's president. after huizenga announced team name, announced that bill torrey named first president panthers. little from _sun-sentinel_ torrey, architect four consecutive stanley champions persident general manager york islanders. throughout years nhl, bill torrey's ties have become much signature andre agassi's hair. panthers will introduce uniform, insignia, ticket-price information early next month. meantime, huizenga leaves day-to-day operation hands torrey clarke, florida panthers chosen name south florida's team focus attention endangered species. there florida panthers everglades national park, cypress national preserve other parts southwestern florida. \"the panther quickest-striking cats,\" torrey said. \"hopefully that's we'll play ice.\" more bio: torrey, huizenga first hired expansion islanders 1972 most responsible guiding islanders four consecutive stanley championships (their first after only eight seasons) consecutive winning seasons. executive vice president california golden seals, torrey watched seals play- offs 1968, only their second season. guess this completes personal trick\", said torrey, native montreal resident bear lakes country club palm beach. other accounts: gorycki@sol.cse.fau.edu jimg@cybernet.cse.fau.edu -------------------------------------------------------------------- repeat myself when under stress. repeat myself when under stress. repeat myself when under stress. repeat myself when under stress. repeat...\" adrian belew, \"indicipline\""
        ],
        [
         "25",
         "The concept of God as a teacher is indeed interesting. Does He grade on\na curve, does He cheat? That is interesting. Not to mention thought\nprovoking. My own concept is that He is a Father and we are His\nchildren. In that He loves us, with a love that we can never understand\nuntil we are with Him. The Bible says that He looks on the heart as the\nfinal measure. From that perspective, in a grading context, the heart is\nthe final test.\nSpecifically, most Christians would agree that there is only one Heaven\nand one Hell. From that perspective, it is Heaven or Hell. You either go\nto one or the other. The \"grading\" on a pass/fail basis is done by God\nthe Father with intervention by Jesus the Son. Not by others. For only\nGod sees the heart. The Bible says of the heart, \"...who can know it.\" I\nwould say there has always been, and always be, an unchanging method.\nThat is what makes a relationship with Christ so secure. In an uncertain\nand ever changing landscape He is always the same. Yesterday, today and\ntomorrow. Concerning whether or not our childhoods are considerd as part\nof the test, my own conviction is no. Were that the case I certainly\nwouldn't be going to Heaven. The Bible speaks very plainly about the\nlove and care Jesus had for and about children. The reality is that we\nare all children. Some of us just have bigger bodies and grey hair. But\nthe Father, our Father is always there. Like most Fathers He wants only\nthe best for His own. There maybe decipline, but there is more love.\nIt's sometimes looks like Christianity is a test, to see who makes it\nand who doesn't. Those who do pass=Heaven, and those who don't go to the\nother place. But it is really much more than that...\nThere are few experts. Most of us are just travelers looking for the\nlight and the way Home. Praying that we can bring others with us.\n",
         "concept teacher indeed interesting. does grade curve, does cheat? that interesting. mention thought provoking. concept that father children. that loves with love that never understand until with him. bible says that looks heart final measure. from that perspective, grading context, heart final test. specifically, most christians would agree that there only heaven hell. from that perspective, heaven hell. either other. \"grading\" pass/fail basis done father with intervention jesus son. others. only sees heart. bible says heart, \"...who know it.\" would there always been, always unchanging method. that what makes relationship with christ secure. uncertain ever changing landscape always same. yesterday, today tomorrow. concerning whether childhoods considerd part test, conviction were that case certainly wouldn't going heaven. bible speaks very plainly about love care jesus about children. reality that children. some just have bigger bodies grey hair. father, father always there. like most fathers wants only best own. there maybe decipline, there more love. it's sometimes looks like christianity test, makes doesn't. those pass=heaven, those don't other place. really much more than that... there experts. most just travelers looking light home. praying that bring others with"
        ],
        [
         "26",
         "\nIt really doesn't strike me as very funny. It is rather indicative of what\na crisis their economy is in. I imagine they are in desparate need of\nmarkets to sustain industries and people which are nolonger under central\ncontrol of the government.\n--\nJim Rosenkranz\trosen@kranz.enet.dec.com",
         "really doesn't strike very funny. rather indicative what crisis their economy imagine they desparate need markets sustain industries people which nolonger under central control government. rosenkranz rosen@kranz.enet.dec.com"
        ],
        [
         "27",
         "\n\nI don't know, but I'm as willing to speculate as anyone.\n\nSeveral people have suggested that the chips use public-key cryptography.\nAnother possibility is to use Diffie-Hellman key exchange, or some other\nalgorithm which has a similar effect.  DH allows both ends to agree on\na session key which they use with symmetric cryptography (something\nlike DES) for the encryption.\n\nHow could the \"back door\" keys work in this system?  I can see a few\npossibilities.  One is that the DH-like algorithm has the property that\nthe session key can be deduced by an eavesdropper who knows the back door\nkeys for one (or possibly both) communicants.  Perhaps the random numbers\nused in the DH are seeded by the back door key, or some such.\n\nAnother possibility, as was suggested here earlier, is that the chips\nsimply broadcast the session key, encrypted with the chip's own\ninternal secret key.  In this system the back door keys are secret keys\nusable for decrypting this session key broadcast.  Actually the chip's\nsecret key doesn't need to be a public key in this usage, but can be\nidentical to the secret back-door key.  (This proposal seems most\nstraightforward to me.)\n\nStill another possibility is that the encryption algorithm used for the\nmessage itself has a \"dual key\" property, that possession of either of\ntwo keys can be used to decrypt it.  One key would be the session key from\nthe DH exchange, and the other would be the back door key for the chip.\n\nIt's worth noting that one of the proposals Dorothy Denning raised\nduring her amazingly prescient on-line discussion last November and\nDecember was a variation on Diffie-Hellman in which a third party would\nparticipate in deriving the session keys.  This doesn't quite fit into\nwhat we know of how Clipper works but it hints that those who had early\nknowledge of Clipper (or whose thinking was somehow synchronized with\nClipper designers) may have had Diffie-Hellman on their minds.",
         "don't know, willing speculate anyone. several people have suggested that chips public-key cryptography. another possibility diffie-hellman exchange, some other algorithm which similar effect. allows both ends agree session which they with symmetric cryptography (something like des) encryption. could \"back door\" keys work this system? possibilities. that dh-like algorithm property that session deduced eavesdropper knows back door keys possibly both) communicants. perhaps random numbers used seeded back door key, some such. another possibility, suggested here earlier, that chips simply broadcast session key, encrypted with chip's internal secret key. this system back door keys secret keys usable decrypting this session broadcast. actually chip's secret doesn't need public this usage, identical secret back-door key. (this proposal seems most straightforward me.) still another possibility that encryption algorithm used message itself \"dual key\" property, that possession either keys used decrypt would session from exchange, other would back door chip. it's worth noting that proposals dorothy denning raised during amazingly prescient on-line discussion last november december variation diffie-hellman which third party would participate deriving session keys. this doesn't quite into what know clipper works hints that those early knowledge clipper whose thinking somehow synchronized with clipper designers) have diffie-hellman their minds."
        ],
        [
         "28",
         "GAME(S) OF 4/15\n---------------\nADIRONDACK 6\tCDI 2\t(Adirondack leads series, 1-0)\n\n=================================================\t\t\t\nFIRST ROUND\t\t\t\t\t\nSpringfield Indians vs Providence Bruins\nGm 1:\tSpringfield 3\tPROVIDENCE 2\t\nGm 2:\tSpringfield 5\tPROVIDENCE 4\nGm 3:\t4/16\tProvidence at Springfield\nGm 4:\t4/17\tProvidence at Springfield\nGm 5:\t4/22\tSpringfield at Providence\t*\nGm 6:\t4/24\tProvidence at Springfield\t*\nGm 7:\t4/27\tSpringfield at Providence\t*\n\nCD Islanders vs Adirondack Red Wings\nGm 1:\tADIRONDACK 6\tCDI 2\nGm 2:\t4/17\tCDI at Adirondack\nGm 3:\t4/18\tAdirondack at CDI\nGm 4:\t4/21\tAdirondack at CDI\nGm 5:\t4/23\tCDI at Adirondack\t*\nGm 6:\t4/24\tAdirondack at CDI\t*\nGm 7:\t4/26\tCDI at Adirondack\t*\n\nBaltimore Skipjacks at Binghamton Rangers\nGm 1:\t4/16\tBaltimore at Binghamton\nGm 2:\t4/17\tBaltimore at Binghamton\nGm 3:\t4/23\tBinghamton at Baltimore\nGm 4:\t4/24\tBinghamton at Baltimore\nGm 5:\t4/26\tBaltimore at Binghamton\t*\nGm 6:\t4/28\tBinghmaton at Baltimore\t*\nGm 7:\t4/30\tBaltimore at Binghamton\t*\n\nUtica Devils vs Rochester Americans\nGm 1:\t4/16\tUtica at Rochester\nGm 2:\t4/17\tUtica at Rochester\nGm 3:\t4/20\tRochester at Utica\nGm 4:\t4/22\tRochester at Utica\nGm 5:\t4/24\tUtica at Rochester\t*\nGm 6:\t4/26\tRochester at Utica\t*\nGm 7:\t4/28\tUtica at Rochester\t*\n\nMoncton Hawks vs St John's Maple Leafs\nGm 1:\tSt John's 4\tMoncton 2\nGm 2:\t4/17\tMoncton vs St John's at Halifax\nGm 3:\t4/21\tSt John's at Moncton\nGm 4:\t4/23\tSt John's at Moncton\nGm 5:\t4/26\tMoncton vs St John's at Halifax\t*\nGm 6:\t4/28\tSt John's at Moncton\t\t*\nGm 7:\t4/30\tMoncton vs St John's at Halifax\t*\n\nCape Breton Oilers vs Fredericton Canadiens\nGm 1:\tFredericton 4\tCape Breton 3\t(2OT)\nGm 2:\t4/16\tCape Breton at Fredericton\t\nGm 3:\t4/20\tFredericton at Cape Breton\nGm 4:\t4/22\tFredericton at Cape Breton\nGm 5:\t4/24\tCape Breton at Fredericton\t*\nGm 6:\t4/26\tFredericton at Cape Breton\t*\nGm 7:\t4/28\tCape Breton at Fredericton\t*",
         "game(s) 4/15 --------------- adirondack (adirondack leads series, 1-0) ================================================= first round springfield indians providence bruins springfield providence springfield providence 4/16 providence springfield 4/17 providence springfield 4/22 springfield providence 4/24 providence springfield 4/27 springfield providence islanders adirondack wings adirondack 4/17 adirondack 4/18 adirondack 4/21 adirondack 4/23 adirondack 4/24 adirondack 4/26 adirondack baltimore skipjacks binghamton rangers 4/16 baltimore binghamton 4/17 baltimore binghamton 4/23 binghamton baltimore 4/24 binghamton baltimore 4/26 baltimore binghamton 4/28 binghmaton baltimore 4/30 baltimore binghamton utica devils rochester americans 4/16 utica rochester 4/17 utica rochester 4/20 rochester utica 4/22 rochester utica 4/24 utica rochester 4/26 rochester utica 4/28 utica rochester moncton hawks john's maple leafs john's moncton 4/17 moncton john's halifax 4/21 john's moncton 4/23 john's moncton 4/26 moncton john's halifax 4/28 john's moncton 4/30 moncton john's halifax cape breton oilers fredericton canadiens fredericton cape breton (2ot) 4/16 cape breton fredericton 4/20 fredericton cape breton 4/22 fredericton cape breton 4/24 cape breton fredericton 4/26 fredericton cape breton 4/28 cape breton fredericton"
        ],
        [
         "29",
         "\nYes!  Up the coast, over to Portland, then up I-5.  Really nice most\nof the way, and I'm sure there's even better ways.\n\nWatch the weather, though... I got about as good a drenching as\npossible in the Oregon coast range once... \n\n",
         "yes! coast, over portland, then i-5. really nice most way, sure there's even better ways. watch weather, though... about good drenching possible oregon coast range once..."
        ],
        [
         "30",
         "<If Clipper comes to cellular phones along with legal proscriptions against\n<using other cipher systems on these phones, a new and potentially dangerous\n<class of crime is created.\n\nAside from possession of \"terrorist tools\" (unapproved encryption devices\nor programs)...\n\n<Criminals who very badly want inscrutable tactical communications (specifically\n<the terrorists and drug dealers who proponents of key escrow cite as threats)\n<will be highly motivated to steal the cipher phone of a legitimate user, and\n<to kill this person or hold them hostage so discovery of compromise of the\n<device will be delayed.\n<\n<Once a suitable collection of devices is stolen, criminals can communicate\n<with impunity (assuming the cipher system carries no trapdoors apart from\n<key escrow) until and unless the compromise is discovered by some other means.\n<\n<Because life-is-cheap criminals are currently willing to kill people to steal\n<very large and conspicuous property (luxury cars), it is reasonable to assume\n<that they will be willing to kill people to steal small and inconspicuous\n<property (a cipher cellular phone).  Just as we have seen in the past with\n<\"blue box\" technology, and in the present with modified cellular phones,\n<we can expect to see among high-stakes criminals a lucrative market for\n<stolen cipher phones which can be used for a few days.  The high-stakes\n<criminals will pay the life-is-cheap types substantial amounts for stolen\n<instruments.\n<\n<Because a person is typically discovered as missing or dead in a few days,\n<a stolen instrument will be usable for only a few days.  There will be a\n<continuing demand for fresh phones: fresh bodies.\n\nAnd since Clinton is also going full-bore to deny unconnected citizens\nthe means to defend themselves (\"we will protect you ... 911 is good\nenough for you...\") by perverting or trashing the Second Amendment,\nthe targeted individuals will be GUARANTEED easy prey.  What is a few\nbodies compared to the \"greater good\" of the Fed being able to defeat\na citizen's security with impunity?  You don't think there doesn't\nexist a means by which the NSA can do their usual eavesdropping, scanning\nfor keywords, with OR WITHOUT a court order or any 'keys', do you?\nIf so, I got some great Florida real estate you might be interested in...\n\nPerhaps the idea of escrowed keys is meant to divert the discussion to\nhow they will be safeguarded, and away from the basic fact that the\ngovernment is systematically taking away our right to privacy, to be\nsecure, for the means of self-defense, and just about every other right\nspelled out in the Bill of Rights?\n\nNawwww - they are the GOVERNMENT!  \"Trust us...\"\n\n<In other words, Clipper and similar systems have the potential to turn a\n<current inconvenience to law enforcement into a direct, vicious, and\n<persistent threat to the general public.\n\nWhat is more important to the government?  Law Enforcement (people control)\nor the safety of the general public?  The gun control issue should answer\nthat one - look at how good that works in making cities safer:  The places\nthat are the worst in that regard are also the places with the 'best' gun\ncontrol.  Government is NOT about public good, it is about CONTROL.\n\nNever forget that.  Our Founding Fathers sure were concerned about it.\n\n<\n<  [ ... remainder deleted ... ]\n<\n\n",
         "clipper comes cellular phones along with legal proscriptions against <using other cipher systems these phones, potentially dangerous <class crime created. aside from possession \"terrorist tools\" (unapproved encryption devices programs)... <criminals very badly want inscrutable tactical communications (specifically <the terrorists drug dealers proponents escrow cite threats) <will highly motivated steal cipher phone legitimate user, kill this person hold them hostage discovery compromise <device will delayed. <once suitable collection devices stolen, criminals communicate <with impunity (assuming cipher system carries trapdoors apart from <key escrow) until unless compromise discovered some other means. <because life-is-cheap criminals currently willing kill people steal <very large conspicuous property (luxury cars), reasonable assume <that they will willing kill people steal small inconspicuous <property cipher cellular phone). just have seen past with <\"blue box\" technology, present with modified cellular phones, expect among high-stakes criminals lucrative market <stolen cipher phones which used days. high-stakes <criminals will life-is-cheap types substantial amounts stolen <instruments. <because person typically discovered missing dead days, stolen instrument will usable only days. there will <continuing demand fresh phones: fresh bodies. since clinton also going full-bore deny unconnected citizens means defend themselves (\"we will protect good enough you...\") perverting trashing second amendment, targeted individuals will guaranteed easy prey. what bodies compared \"greater good\" being able defeat citizen's security with impunity? don't think there doesn't exist means which their usual eavesdropping, scanning keywords, with without court order 'keys', you? some great florida real estate might interested in... perhaps idea escrowed keys meant divert discussion they will safeguarded, away from basic fact that government systematically taking away right privacy, secure, means self-defense, just about every other right spelled bill rights? nawwww they government! \"trust us...\" other words, clipper similar systems have potential turn <current inconvenience enforcement into direct, vicious, <persistent threat general public. what more important government? enforcement (people control) safety general public? control issue should answer that look good that works making cities safer: places that worst that regard also places with 'best' control. government about public good, about control. never forget that. founding fathers sure were concerned about remainder deleted"
        ],
        [
         "31",
         "\nI doubt this is a Quadra-specific problem.  I had to get\nrid of my \"venerable\" Bernoulli 20 last year (with enough \ncartridges purchased at ~$90 each to make the whole thing \nworth more than my whole computer ;).  The tech support guys\nat Ocean Microsystems suggested that some third-party drivers \nmight fix the problem - in my case the cartridges wouldn't \nformat/mount/partition for A/UX.  ",
         "doubt this quadra-specific problem. \"venerable\" bernoulli last year (with enough cartridges purchased ~$90 each make whole thing worth more than whole computer tech support guys ocean microsystems suggested that some third-party drivers might problem case cartridges wouldn't format/mount/partition a/ux."
        ],
        [
         "32",
         "\n\nTerry, hi.  I recently bought an LCIII and a Datadesk 101E.  I can't\nremember trying to rebuild the desktop with it, however it did give me\na strange problem.  When I held down shift during startup to disable\nall extensions, nothing happened. I tried it with another keyboard, using\nthe same adb connector cable- and it worked with the other keyboard.\nThe shift key on the Datadesk keyboard worked well otherwise. I checked\nthe dipswitches and they are fine.  Try disabling your extensions and tell\nme if it works.\n\nI am annoyed with Datadesk.  I sent them the keyboard in the mail for\ninspection/repair/replacement.  The technician on the phone said they\nhave a 10-14 day turn around time- meaning you should receive the\ninspected/repaired keyboard in that time.  Well, they have had the\nkeyboard for over 3 weeks and I still have gotten very little info\nfrom them about it. It's annoying because it cost me $12 to send them\nthe keyboard (they do not refund the money) and their costumer service\nlines are toll calls. Tell me if you have a similar experience.\n\n-David",
         "terry, recently bought lciii datadesk 101e. can't remember trying rebuild desktop with however give strange problem. when held down shift during startup disable extensions, nothing happened. tried with another keyboard, using same connector cable- worked with other keyboard. shift datadesk keyboard worked well otherwise. checked dipswitches they fine. disabling your extensions tell works. annoyed with datadesk. sent them keyboard mail inspection/repair/replacement. technician phone said they have 10-14 turn around time- meaning should receive inspected/repaired keyboard that time. well, they have keyboard over weeks still have gotten very little info from them about it's annoying because cost send them keyboard (they refund money) their costumer service lines toll calls. tell have similar experience. -david"
        ],
        [
         "33",
         "It was a gift from God.  I think basically the reasoning was that the\ntradition in the Church held that Mary was also without sin as was Jesus.\nAs the tenets of faith developed, particularly with Augustine, sin was\nmore and more equated with sex, and thus Mary was assumed to be a virgin\nfor life (since she never sinned, and since she was the spouse of God, etc.)\nSince we also had this notion of original sin, ie. that man is born with\na predisposition to sin, and since Mary did not have this predisposition\nbecause she did not ever sin, she didn't have original sin.  When science\ndiscovered the process of conception, the next step was to assume that\nMary was conceived without original sin, the Immaculate Conception.\n\nMary at that time appeared to a girl named Bernadette at Lourdes.  She \nrefered to herself as the Immaculate Conception.  Since a nine year old \nwould have no way of knowing about the doctrine, the apparition was deemed\nto be true and it sealed the case for the doctrine.\n\nRCs hold that all revelation comes from two equally important sources, that\nbeing Sacred Scripture and Holy Tradition.  In this case, mostly tradition.",
         "gift from god. think basically reasoning that tradition church held that mary also without jesus. tenets faith developed, particularly with augustine, more more equated with sex, thus mary assumed virgin life (since never sinned, since spouse god, etc.) since also this notion original sin, that born with predisposition sin, since mary have this predisposition because ever sin, didn't have original sin. when science discovered process conception, next step assume that mary conceived without original sin, immaculate conception. mary that time appeared girl named bernadette lourdes. refered herself immaculate conception. since nine year would have knowing about doctrine, apparition deemed true sealed case doctrine. hold that revelation comes from equally important sources, that being sacred scripture holy tradition. this case, mostly tradition."
        ],
        [
         "34",
         "I will try to answer some of Dorin's questions, even though they were\nnot addressed to me specifically, but I feel that I am a bit concerned\nby the thread since I am a Southern Lebanese from a village that is \noften on the receiving end of Israel's bombs.\nIn the first place the death of three soldiers on a patrol in occupied\nLebanese terrritory is NOT an act of terrorism or murder.  It is \ndisingeneous to compare their death to that of athletes in Munich\nor any other act of terrorism or mrder.  This exercise is aimed \nsolely at diverting the issue and is far from the truth.\nIt seems to me, Dorin, that, you are so remote and ignorant of the problem\non the ground that your comments can only be charactrized as irrelevant,\nand heavily colored by the preconceptions and misinformation.\nI will try to paint the most accurate picture I can of\nwhat the situation really is in South Lebanon.\n\n\n\nI am.  I was back in my home village this last summer.  For your information\nwe are PEOPLE, not a bunch of indiscriminate terrorists.  Most of the \npeople in my village are regular inhabitants that go about their daily\nbusiness, some work in the fields, some own small shops, others are\nolder men that go to the coffe shop and drink coffee.  Is that so hard to\nimagine ????  It is NOT a \"terrorist camp\" as you and the Israelis like \nto view the villages they are small communities with kids playing soccer\nin the streets, women preparing lunch, men playing cards, etc.....\nSOME young men, usually aged between 17 to 30 years are members of\nthe Lebanese resistance.  Even the inhabitants of the village do not \nknow who these are, they are secretive about it, but most people often\nsuspect who they are and what they are up to.  These young men are\nsupported financially by Iran most of the time.  They sneak arms and\nammunitions into the occupied zone where they set up booby traps\nfor Israeli patrols.  Every time an Israeli soldier is killed or injured\nby these traps, Israel retalliates by indiscriminately bombing villages\nof their own choosing often killing only innocent civilians.  Once they\nare back they announce that they bombed a \"terrorist  hideout\" where\nan 8 year old girl just happened to be.\nWe are now accustomed to Israeli tactics, and we figure that this is \nthe Israeli way of telling us that \"if you're gonna hurt our soldiers\nyou're gonna pay the price\".  We accept this as a price we have to pay\nto free our land, Israel knows very well that it is not really hurting\nthe resistance that much militarily with these strikes, but rather\njust keeping the pressure on the villagers to demand from their young \nmen to stop attacking Israeli soldiers since these attacks are\ntaking a heavy toll on the lives of the civilian villagers.\nIsrael's retalliation policy is cold hearted, but a reality that\nwe have come to accept and deal with, the Lebanese Resistance\non the other hand is not going to stop its attacks on OCCUPYING \nISRAELI SOLDIERS until they withdraw, this is the only real \nleverage that they have to force Israel to withdraw.\nThe people of South Lebanon are occupied, or shelled by Israel on a \nregular basis.  We do not want to be occupied.  If Israel insists that\nthe so called \"Security Zone\" is necessary for the protection of \nNorthern Israel, than it will have to pay the price of its occupation\nwith the blood of its soldiers.  If Israel is interested in peace,\nthan it should withdraw from OUR land.  We are not asking for the \nestablishment of a Lebanese occupied zone in northern Israel to protect\nour villages that are attacked on a regular basis by Israel, so the\nbest policy seems to be the removal of Israeli occupation and the\nestablishment of peace keeping troops along the border.\n\nI have written before on this very newsgroup, that the only\nreal solution will come as a result of a comprehensive peace\nsettlement whereby Israel withdraws to its own borders and\npeace keeping troops are stationed along the border to insure\nno one on either side of the border is shelled.\nThis is the only realistic solution, it is time for Israel to\nrealize that the concept of a \"buffer zone\" aimed at protecting\nits northern cities has failed.  In fact it has caused much more\nIsraeli deaths than the occasional shelling of Northern Israel\nwould have resulted in.  \nIf Israel really wants to save some Israeli lives it would withdraw \nunilaterally from the so-called \"Security Zone\" before the conclusion\nof the peace talks.  Such a move would save Israeli lives,\nadvance peace efforts, give Israel a great moral lift, better Israel's \npublic image abroad and give it an edge in the peace negociations \nsince Israel can rightly claim that it is genuinely interested in \npeace and has already offered some important concessions.\nAlong with such a withdrawal Israel could demand that Hizbollah\nbe disarmed by the Lebanese government and warn that it will not \naccept any attacks against its northern cities and that if such a\nshelling occurs than it will consider re-taking the buffer zone\nand will hold the Lebanese and Syrian government responsible for it.\nThere seems to be very little incentive for the Syrian and Lebanese\ngoovernment to allow Hizbollah to bomb Israel proper under such \ncircumstances, and now the Lebanese government has proven that it is\ncapable of controlling and disarming all militias as they did\nin all other parts of Lebanon.\n  \n\nI agree, only in the case of the Isareli soldiers their killing\nCANNOT be qualified as murder, no matter what you say.\n\n I have the feeling that you may be able yourself to make\n\nYes, we have no quarrel with Jews, or Israeli civilians.\nThe real problem is with OCCUPYING Israeli soldiers and those brave\nIsraeli pilots that bomb our civilian villages every time an \noccupying soldier is attacked.\n \n",
         "will answer some dorin's questions, even though they were addressed specifically, feel that concerned thread since southern lebanese from village that often receiving israel's bombs. first place death three soldiers patrol occupied lebanese terrritory terrorism murder. disingeneous compare their death that athletes munich other terrorism mrder. this exercise aimed solely diverting issue from truth. seems dorin, that, remote ignorant problem ground that your comments only charactrized irrelevant, heavily colored preconceptions misinformation. will paint most accurate picture what situation really south lebanon. back home village this last summer. your information people, bunch indiscriminate terrorists. most people village regular inhabitants that about their daily business, some work fields, some small shops, others older that coffe shop drink coffee. that hard imagine ???? \"terrorist camp\" israelis like view villages they small communities with kids playing soccer streets, women preparing lunch, playing cards, etc..... some young men, usually aged between years members lebanese resistance. even inhabitants village know these are, they secretive about most people often suspect they what they these young supported financially iran most time. they sneak arms ammunitions into occupied zone where they booby traps israeli patrols. every time israeli soldier killed injured these traps, israel retalliates indiscriminately bombing villages their choosing often killing only innocent civilians. once they back they announce that they bombed \"terrorist hideout\" where year girl just happened accustomed israeli tactics, figure that this israeli telling that you're gonna hurt soldiers you're gonna price\". accept this price have free land, israel knows very well that really hurting resistance that much militarily with these strikes, rather just keeping pressure villagers demand from their young stop attacking israeli soldiers since these attacks taking heavy toll lives civilian villagers. israel's retalliation policy cold hearted, reality that have come accept deal with, lebanese resistance other hand going stop attacks occupying israeli soldiers until they withdraw, this only real leverage that they have force israel withdraw. people south lebanon occupied, shelled israel regular basis. want occupied. israel insists that called \"security zone\" necessary protection northern israel, than will have price occupation with blood soldiers. israel interested peace, than should withdraw from land. asking establishment lebanese occupied zone northern israel protect villages that attacked regular basis israel, best policy seems removal israeli occupation establishment peace keeping troops along border. have written before this very newsgroup, that only real solution will come result comprehensive peace settlement whereby israel withdraws borders peace keeping troops stationed along border insure either side border shelled. this only realistic solution, time israel realize that concept \"buffer zone\" aimed protecting northern cities failed. fact caused much more israeli deaths than occasional shelling northern israel would have resulted israel really wants save some israeli lives would withdraw unilaterally from so-called \"security zone\" before conclusion peace talks. such move would save israeli lives, advance peace efforts, give israel great moral lift, better israel's public image abroad give edge peace negociations since israel rightly claim that genuinely interested peace already offered some important concessions. along with such withdrawal israel could demand that hizbollah disarmed lebanese government warn that will accept attacks against northern cities that such shelling occurs than will consider re-taking buffer zone will hold lebanese syrian government responsible there seems very little incentive syrian lebanese goovernment allow hizbollah bomb israel proper under such circumstances, lebanese government proven that capable controlling disarming militias they other parts lebanon. agree, only case isareli soldiers their killing cannot qualified murder, matter what say. have feeling that able yourself make yes, have quarrel with jews, israeli civilians. real problem with occupying israeli soldiers those brave israeli pilots that bomb civilian villages every time occupying soldier attacked."
        ],
        [
         "35",
         "\n\n\n\n\tI think the Manta is the European name for the \"GT.\"  I'm pretty sure\nthat the only Kadett's sold here were/are the Pontiac LeMans.  I think the\nGT is just an early '70s to mid '70s Manta.  ",
         "think manta european name \"gt.\" pretty sure that only kadett's sold here were/are pontiac lemans. think just early '70s '70s manta."
        ],
        [
         "36",
         "\nIt is interesting that you posted those lyrics, because just the\nother day I was thinking of doing the same.  I like those lyrics,\nsince whenever I am approached by judgemental, pharisitical,\nevangelical fundamentalists who throw the Bible at me because\nI have long hair, wear a black leather jacket, and listen to Black\nSabbath, I have something to throw back.  Usually their chins drop\nand they come up speechless over those not very satanic lyrics.\n\nIt just goes to show that there are more important evils in the\nworld to battle than rock lyrics...........\n\n",
         "interesting that posted those lyrics, because just other thinking doing same. like those lyrics, since whenever approached judgemental, pharisitical, evangelical fundamentalists throw bible because have long hair, wear black leather jacket, listen black sabbath, have something throw back. usually their chins drop they come speechless over those very satanic lyrics. just goes show that there more important evils world battle than rock lyrics..........."
        ],
        [
         "37",
         "\n\nWell, this is alt.atheism.  I hope you arent here to try to convert anyone.\n\n\nMany would disagree.\n\n[...]\n\nWell, you shouldn't give any particular book too much weight.  Actually,\nI don't think that any of these statements is correct.  It is more likely\nthat most of Jesus' fame was attributed to him after his death by those\nwho had some strong motives...\n\n[...]\n\nWhat's a prophecy, and what's so significant about them?\n\n\nI think we understand.\n\n\nWell, sell your computer and donate you life to your religion now...\nDon't waste any time.",
         "well, this alt.atheism. hope arent here convert anyone. many would disagree. [...] well, shouldn't give particular book much weight. actually, don't think that these statements correct. more likely that most jesus' fame attributed after death those some strong motives... [...] what's prophecy, what's significant about them? think understand. well, sell your computer donate life your religion now... don't waste time."
        ],
        [
         "38",
         "\nBattery powered devices like the PowerBook are sometimes more sensitive to \nserial port weirdness.  I had trouble with connecting my Mac Plus to an HP 95LX\nhandheld.  Everything else worked okay on that port, but not the HP. (it runs\non two penlite batteries).  It turned out that the plus (by accident or by \ndesign flaw?) was putting a 4 volt bias on the serial port that was doing \nweird things to the HP (which has only 3v dc!).  The HP worked fine when \nconnected to the printer port.  \n\nDoes your PB screen get dim or anything when connected to the device?  Have you \ntried using the printer port?\n\nGood luck. \n\n--jamie\n",
         "battery powered devices like powerbook sometimes more sensitive serial port weirdness. trouble with connecting plus 95lx handheld. everything else worked okay that port, runs penlite batteries). turned that plus accident design flaw?) putting volt bias serial port that doing weird things (which only dc!). worked fine when connected printer port. does your screen anything when connected device? have tried using printer port? good luck. --jamie"
        ],
        [
         "39",
         "I was lloking at the Geo Prizm Lsi today (very nice).  Anyway, I had a\nquestions that the salesperson couldn't answer.  How does the theft\ndeterrent on the Prizm's audio systems work?  Can't find the answer\nin any of Geo's lterature.  Thanks in advance.",
         "lloking prizm today (very nice). anyway, questions that salesperson couldn't answer. does theft deterrent prizm's audio systems work? can't find answer geo's lterature. thanks advance."
        ],
        [
         "40",
         "terminated\n\nIt is very possible to connect another internal hard disk in any\nmacintosh if you can find the space to put it. I have a IIsi that came\nwith a Quantum 80 meg drive. When I ran into space problems, I slapped in\nanother 40 meg quantum that I had sitting on a shelf. Here is what I did.\n \nFirst off, I was concerned about space. Since both drives are Quantum\nquarter height drives, I finally decided that the logical place for them\nwas stacked one upon the other. Fine, they fit snugly. (I have not had a\nproblem with heat yet, and these drives have been running together for\nover two months.\n\nThe next problem was connecting the drive. If you have a spare internal\nhard disk power cable as I did, then half of your troubles are over. just\nsplice in the extra cable so that you get one square motherboard\nconnector and two hard disk power connectors. If you don't have a spare\ncable, you will have to buy the wires and connectors which can be found\nin any good electronics store for about $10. I would suggest properly\nsoldering/heatshrinking the connections to reduce the possibility of\nshorts or bad connections.\n\nNext, you need a ribbon cable connection. Again, I had a spare hard disk\nribbon cable, and I wanted to be careful in case this didn't word so what\nI did was purchase a crimp on 50 pin cable connector that gave me another\nmale connector in the middle of my spare cable. The part cost $10 again,\nand is easily attached with any good wood vice. The theory behind using a\ncrimp on connector is that if this doesn't work, my original cable is not\ndamaged, and I can go back to the original setup.\n\nHaving done all that, I couldn't be bothered to check the dev notes for\npower consumption so I plugged it in and it works like a charm to this\nday. \n\nIn a mac II, everything should work the same. Be careful with the ID's of\nthe drive, and ensure that the terminating resistors on both drives are\nintact. I did not try this without the terminating resistors but it\nseemed logical that if I am splitting the SCSI chain, that the signal\nshould be terminated at all the ends.\n\nLet me know if you have any more questions.",
         "terminated very possible connect another internal hard disk macintosh find space have iisi that came with quantum drive. when into space problems, slapped another quantum that sitting shelf. here what did. first off, concerned about space. since both drives quantum quarter height drives, finally decided that logical place them stacked upon other. fine, they snugly. have problem with heat yet, these drives have been running together over months. next problem connecting drive. have spare internal hard disk power cable did, then half your troubles over. just splice extra cable that square motherboard connector hard disk power connectors. don't have spare cable, will have wires connectors which found good electronics store about $10. would suggest properly soldering/heatshrinking connections reduce possibility shorts connections. next, need ribbon cable connection. again, spare hard disk ribbon cable, wanted careful case this didn't word what purchase crimp cable connector that gave another male connector middle spare cable. part cost again, easily attached with good wood vice. theory behind using crimp connector that this doesn't work, original cable damaged, back original setup. having done that, couldn't bothered check notes power consumption plugged works like charm this day. everything should work same. careful with id's drive, ensure that terminating resistors both drives intact. this without terminating resistors seemed logical that splitting scsi chain, that signal should terminated ends. know have more questions."
        ],
        [
         "41",
         "\n\nIf you do a MEDLINE search on \"turmeric\" you'll see that it is a potent\nlipoxygenase inhibitor which is being investigated in a number of areas.\nI'm in cardiology and about 4 years ago the cardiothoracic surgery lab at my\nhospital compared the effect of a teaspoon of dissolved turmeric vs. a $2000\nbolus of tPA in preventing myocardial reperfusion injury in a perfused\nLangendorff sheep heart. The turmeric was more effective :-)\n\n\nA colleague of mine in the School of Pharmacy (Dr. Ron Kohen) has a paper \"in\npress\" on the free radical scavenging activity and antioxidant activity of tea.\n\nJosh\nbackon@VMS.HUJI.AC.IL\n",
         "medline search \"turmeric\" you'll that potent lipoxygenase inhibitor which being investigated number areas. cardiology about years cardiothoracic surgery hospital compared effect teaspoon dissolved turmeric $2000 bolus preventing myocardial reperfusion injury perfused langendorff sheep heart. turmeric more effective colleague mine school pharmacy (dr. kohen) paper press\" free radical scavenging activity antioxidant activity tea. josh backon@vms.huji.ac.il"
        ],
        [
         "42",
         "\nOK, I've asked this before, and with a new thread on these lines, I\nask this again:\n\n1: If a large hole current is run thru a resistor, will there be\n   I^2 * R cooling instead of heating?\n\n2: Can anyone design an amplifier that preferentially amplifies\n   hole currents over normal electron currents?\n\n3: what semiconductor materials have the highest ratio of\n   hole mobility to electron mobility? (please quote actual\n   test samples rather than estimates based on theory. Also,\n   don't be limited to semiconductors: consider also insulators,\n   resistors, dielectrics, piezo-electrics, conductors,\n   magnets (metal, ceramic), magnetostrictives, etc).\n\nNOTES:\n\n   to summarize, this thread has so far stated that the only area\n   where holes are not detectable is the vacuum. That is, hole\n   particles only exist in the presence of matter.\n   Previous threads have stated that holes only exist in certain\n   semi-conductors. The question that naturally arises is if\n   the hole currents inside a semi-conductor vanish at the point\n   where the semiconductor is joined to a conductor (say, copper).\n   I don't want a theoretical discussion here about whether\n   holes could exist inside metal conductors, rather I ask for\n   an experimental discussion on how to amplify and detect such\n   currents *if* they exist.\n   Also note that I have cross-posted this to sci.electronics\n   since this is now becoming an electronic discussion.\n\nThanx,\nEric.\n\n----\n ET   \"A Force of Nature\"",
         "i've asked this before, with thread these lines, this again: large hole current thru resistor, will there cooling instead heating? anyone design amplifier that preferentially amplifies hole currents over normal electron currents? what semiconductor materials have highest ratio hole mobility electron mobility? (please quote actual test samples rather than estimates based theory. also, don't limited semiconductors: consider also insulators, resistors, dielectrics, piezo-electrics, conductors, magnets (metal, ceramic), magnetostrictives, etc). notes: summarize, this thread stated that only area where holes detectable vacuum. that hole particles only exist presence matter. previous threads have stated that holes only exist certain semi-conductors. question that naturally arises hole currents inside semi-conductor vanish point where semiconductor joined conductor (say, copper). don't want theoretical discussion here about whether holes could exist inside metal conductors, rather experimental discussion amplify detect such currents *if* they exist. also note that have cross-posted this sci.electronics since this becoming electronic discussion. thanx, eric. ---- force nature\""
        ],
        [
         "43",
         "Hi,\n\nI'm interested in writing a program to generate a SIRD picture, you know\nthe stereogram where you cross your eyes and the picture becomes 3D.\n\nDoes anyone have one or know where I can get one?\n\nPlease e-mail to steveq@sndcrft.DIALix.oz.au with any replies.\n\nMany thanks for your help.",
         "interested writing program generate sird picture, know stereogram where cross your eyes picture becomes does anyone have know where one? please e-mail steveq@sndcrft.dialix.oz.au with replies. many thanks your help."
        ],
        [
         "44",
         ".Chris\n",
         ".chris"
        ],
        [
         "45",
         "*Reminder*   Plan now for the Andrew Conference.\n*Date* The dates are as noted below.  (We have not changed them.)\n*Submission extension*   We are still accepting papers.\n\n*Tutorial topic*  \n\t_Converting Andrew source code to C++_\n\nThis tutorial will discuss the steps necessary to convert a site from C\n(extended with classC) to C++.  Conversion of the source code requires\nonly a couple of steps:\n\trun the converter\n\tfill in missing type information\nDescribing this will not take long.  The remainder of the day will be\nspent learning how to write objects in C++ and practicing.\n\n------------------------------\n\n1993 Andrew Technical Conference and Consortium Annual Meeting\nJune 24-25, 1993\nCarnegie Mellon University\nPittsburgh, PA\n\nThe conference will be held on the last Thursday and Friday in June.  A\ntutorial will be on Thursday the 24th and the conference proper on the\n25th with the annual meeting at the dinner on the evening between the\ntwo days.  All conference attendees are welcome at the annual meeting,\nthough only Consortium members will be able to vote.\n\nThis year's theme is \n\n\tApplication Construction by Non-Programmers\n\nMuch of the effort on X toolkits has been aimed at programmer\nconstruction of applications.  There have, however, been some excellent\nUIMS systems built on top of X.  Papers addressing the theme will\nconsider questions such as\n\tWhat is needed for application construction by non-programmers?\n\tCan we avoid programming altogether, or is a simple language needed?\n\tIs it sufficient to create applications, or must users be able to\ncreate new widgets?\n\tShould widgets and applications be able to print themselves?\n\nYour participation in the conference is welcome.  Papers are appropriate\non the theme or any aspect of the Andrew User Interface System, including\n\n\tapplications\n\texperience with users\n\tnew objects\n\treviews of and proposals for revision of \n\t\tinternal Andrew protocols\n\nWe expect to have an RS/6000 with video projector available if you would\nlike to do a demonstration.  \n\nPaper proposals should be submitted by 15 May 1993.\nAcceptance will be 1 June with final papers due by 15 June.\n\nSend papers via electronic mail to wjh+@andrew.cmu.edu.",
         "*reminder* plan andrew conference. *date* dates noted below. have changed them.) *submission extension* still accepting papers. *tutorial topic* _converting andrew source code c++_ this tutorial will discuss steps necessary convert site from (extended with classc) c++. conversion source code requires only couple steps: converter fill missing type information describing this will take long. remainder will spent learning write objects practicing. ------------------------------ 1993 andrew technical conference consortium annual meeting june 24-25, 1993 carnegie mellon university pittsburgh, conference will held last thursday friday june. tutorial will thursday 24th conference proper 25th with annual meeting dinner evening between days. conference attendees welcome annual meeting, though only consortium members will able vote. this year's theme application construction non-programmers much effort toolkits been aimed programmer construction applications. there have, however, been some excellent uims systems built papers addressing theme will consider questions such what needed application construction non-programmers? avoid programming altogether, simple language needed? sufficient create applications, must users able create widgets? should widgets applications able print themselves? your participation conference welcome. papers appropriate theme aspect andrew user interface system, including applications experience with users objects reviews proposals revision internal andrew protocols expect have rs/6000 with video projector available would like demonstration. paper proposals should submitted 1993. acceptance will june with final papers june. send papers electronic mail wjh+@andrew.cmu.edu."
        ],
        [
         "46",
         "does anybody have any info on this monitor or the manufacturers?\n\nall help through e-mail please.",
         "does anybody have info this monitor manufacturers? help through e-mail please."
        ],
        [
         "47",
         "!-*-!-*-!-*-!-*-!-*-!-*-!-*-!-*-!-*-!-*-!-*-!-*-!-*-!-*-!-*-!-!-*-!-*-!-!-*-!-*!\n\n\tTwin Size - Mattress, Box Spring and Frame for SALE.\n\n\t** Medico-Pedic [type of mattress?]\n\t** Excellent condition\n        ** 2 yrs old\n\t** Well maintained\n\t\n\t-- You come and pick it up, stuff is located in PaloAlto\n\n\tAsking for: $75\n\n\n\tContact:\n\n\t\tSuresh\n\t\t(415)-617-3522 [W]\n\t\t(415)-324-9553 [H]\n\t\tE-Mail: suresh@pa.dec.com\n\n\n!-*-!-*-!-*-!-*-!-*-!-*-!-*-!-*-!-*-!-*-!-*-!-*-!-*-!-*-!-*-!-!-*-!-*-!-!-*-!-*!",
         "!-*-!-*-!-*-!-*-!-*-!-*-!-*-!-*-!-*-!-*-!-*-!-*-!-*-!-*-!-*-!-!-*-!-*-!-!-*-!-*! twin size mattress, spring frame sale. medico-pedic [type mattress?] excellent condition well maintained come pick stuff located paloalto asking for: contact: suresh (415)-617-3522 (415)-324-9553 e-mail: suresh@pa.dec.com !-*-!-*-!-*-!-*-!-*-!-*-!-*-!-*-!-*-!-*-!-*-!-*-!-*-!-*-!-*-!-!-*-!-*-!-!-*-!-*!"
        ],
        [
         "48",
         "AllMartin MccormickWhat's Exactly in a Flour\n\nMM>From: martin@datacomm.ucc.okstate.edu (Martin McCormick)\nMM>Organization: Oklahoma State University, Stillwater, OK\nMM>\tWhat sort of lamp is the little glass bulb found inside the \nstarter?\nMM>It sort of reminds me of a NE2 neon lamp.  Starters appear open when m\nMM>with an Ohm meter so the little lamp is either a neon or has a capacit\nMM>in series with it.\nMM> \nMM>\tI have seen these things all my life, but never read a really good\nMM>description of what is happening inside that little can.\n\nDo you know what a bi-metallic strip is?\nJust in case: it is two strips of different metals bonded together, which \nwhen heated bend to one side (check out the blinker globe in your \nchristmas tree lights).\n\nSo when you turn on the power, this causes the bulb to work like a neon, \nheating up and shorting out, thus providing a loop to power the heaters in \nthe main tube. When the tube fires, insufficient current runs through the \nstarter to keep the heat up and the bi-metalic strip straightens out \n(O/C).\n\nBTW, I too thought that they were nothing more than a small neon, so one \nday when the neon in my sisters digital (flip the metal squares type) \nclock broke (flimsy leads), I replaced it with one from a starter. Well \npowering up made a bit of a mess of the clock!",
         "allmartin mccormickwhat's exactly flour mm>from: martin@datacomm.ucc.okstate.edu (martin mccormick) mm>organization: oklahoma state university, stillwater, what sort lamp little glass bulb found inside starter? mm>it sort reminds neon lamp. starters appear open when mm>with meter little lamp either neon capacit mm>in series with have seen these things life, never read really good mm>description what happening inside that little can. know what bi-metallic strip just case: strips different metals bonded together, which when heated bend side (check blinker globe your christmas tree lights). when turn power, this causes bulb work like neon, heating shorting out, thus providing loop power heaters main tube. when tube fires, insufficient current runs through starter keep heat bi-metalic strip straightens (o/c). btw, thought that they were nothing more than small neon, when neon sisters digital (flip metal squares type) clock broke (flimsy leads), replaced with from starter. well powering made mess clock!"
        ],
        [
         "49",
         "Here's a question that may be simple enough to answer, but has stumped\nmyself and a few others:\n\nWhat does an external RAM cache card do for you if you already have a large\ncache set (through control panel) in your SIMMs?\n\nEX:  I have a Mac IIci with 20 meg RAM, an external video card (so I don't\nrob my SIMM's), and the default Apple cache card (I believe this is 32K?). \nSay I have my cache set at 2 MEG, what good does a measly 32K do me on the\ncache card?  Could it actually slow things down by dividing the cache\nbetween the card and the SIMM's?  Or does it still speed things up by\nproviding a 'secondary staging' area for data normally passed directly into\nthe SIMM RAM cache?\n\nI'm confused because it seems like cache cards are so low in memory to\nreally do any good compared to what you can set yourself.  Yet, Daystar\nFastCache has numbers which show around a 30% performance boost on some\noperations.  Are the chips on the cache card simply faster than most SIMM\naccesses?\n\nPlease help, I'm trying to find the optimum memory settings for the IIci\nsystem described in the EX above.",
         "here's question that simple enough answer, stumped myself others: what does external cache card already have large cache (through control panel) your simms? have iici with ram, external video card don't simm's), default apple cache card believe this 32k?). have cache meg, what good does measly cache card? could actually slow things down dividing cache between card simm's? does still speed things providing 'secondary staging' area data normally passed directly into simm cache? confused because seems like cache cards memory really good compared what yourself. yet, daystar fastcache numbers which show around performance boost some operations. chips cache card simply faster than most simm accesses? please help, trying find optimum memory settings iici system described above."
        ]
       ],
       "shape": {
        "columns": 2,
        "rows": 11314
       }
      },
      "text/html": [
       "<div>\n",
       "<style scoped>\n",
       "    .dataframe tbody tr th:only-of-type {\n",
       "        vertical-align: middle;\n",
       "    }\n",
       "\n",
       "    .dataframe tbody tr th {\n",
       "        vertical-align: top;\n",
       "    }\n",
       "\n",
       "    .dataframe thead th {\n",
       "        text-align: right;\n",
       "    }\n",
       "</style>\n",
       "<table border=\"1\" class=\"dataframe\">\n",
       "  <thead>\n",
       "    <tr style=\"text-align: right;\">\n",
       "      <th></th>\n",
       "      <th>document</th>\n",
       "      <th>clean_doc</th>\n",
       "    </tr>\n",
       "  </thead>\n",
       "  <tbody>\n",
       "    <tr>\n",
       "      <th>0</th>\n",
       "      <td>Well i'm not sure about the story nad it did s...</td>\n",
       "      <td>well sure about story seem biased. what disagr...</td>\n",
       "    </tr>\n",
       "    <tr>\n",
       "      <th>1</th>\n",
       "      <td>\\n\\n\\n\\n\\n\\n\\nYeah, do you expect people to re...</td>\n",
       "      <td>yeah, expect people read faq, etc. actually ac...</td>\n",
       "    </tr>\n",
       "    <tr>\n",
       "      <th>2</th>\n",
       "      <td>Although I realize that principle is not one o...</td>\n",
       "      <td>although realize that principle your strongest...</td>\n",
       "    </tr>\n",
       "    <tr>\n",
       "      <th>3</th>\n",
       "      <td>Notwithstanding all the legitimate fuss about ...</td>\n",
       "      <td>notwithstanding legitimate fuss about this pro...</td>\n",
       "    </tr>\n",
       "    <tr>\n",
       "      <th>4</th>\n",
       "      <td>Well, I will have to change the scoring on my ...</td>\n",
       "      <td>well, will have change scoring playoff pool. u...</td>\n",
       "    </tr>\n",
       "    <tr>\n",
       "      <th>...</th>\n",
       "      <td>...</td>\n",
       "      <td>...</td>\n",
       "    </tr>\n",
       "    <tr>\n",
       "      <th>11309</th>\n",
       "      <td>Danny Rubenstein, an Israeli journalist, will ...</td>\n",
       "      <td>danny rubenstein, israeli journalist, will spe...</td>\n",
       "    </tr>\n",
       "    <tr>\n",
       "      <th>11310</th>\n",
       "      <td>\\n</td>\n",
       "      <td></td>\n",
       "    </tr>\n",
       "    <tr>\n",
       "      <th>11311</th>\n",
       "      <td>\\nI agree.  Home runs off Clemens are always m...</td>\n",
       "      <td>agree. home runs clemens always memorable. kin...</td>\n",
       "    </tr>\n",
       "    <tr>\n",
       "      <th>11312</th>\n",
       "      <td>I used HP DeskJet with Orange Micros Grappler ...</td>\n",
       "      <td>used deskjet with orange micros grappler syste...</td>\n",
       "    </tr>\n",
       "    <tr>\n",
       "      <th>11313</th>\n",
       "      <td>^^^^^^\\n...</td>\n",
       "      <td>^^^^^^ argument with murphy. scared hell when ...</td>\n",
       "    </tr>\n",
       "  </tbody>\n",
       "</table>\n",
       "<p>11314 rows × 2 columns</p>\n",
       "</div>"
      ],
      "text/plain": [
       "                                                document  \\\n",
       "0      Well i'm not sure about the story nad it did s...   \n",
       "1      \\n\\n\\n\\n\\n\\n\\nYeah, do you expect people to re...   \n",
       "2      Although I realize that principle is not one o...   \n",
       "3      Notwithstanding all the legitimate fuss about ...   \n",
       "4      Well, I will have to change the scoring on my ...   \n",
       "...                                                  ...   \n",
       "11309  Danny Rubenstein, an Israeli journalist, will ...   \n",
       "11310                                                 \\n   \n",
       "11311  \\nI agree.  Home runs off Clemens are always m...   \n",
       "11312  I used HP DeskJet with Orange Micros Grappler ...   \n",
       "11313                                        ^^^^^^\\n...   \n",
       "\n",
       "                                               clean_doc  \n",
       "0      well sure about story seem biased. what disagr...  \n",
       "1      yeah, expect people read faq, etc. actually ac...  \n",
       "2      although realize that principle your strongest...  \n",
       "3      notwithstanding legitimate fuss about this pro...  \n",
       "4      well, will have change scoring playoff pool. u...  \n",
       "...                                                  ...  \n",
       "11309  danny rubenstein, israeli journalist, will spe...  \n",
       "11310                                                     \n",
       "11311  agree. home runs clemens always memorable. kin...  \n",
       "11312  used deskjet with orange micros grappler syste...  \n",
       "11313  ^^^^^^ argument with murphy. scared hell when ...  \n",
       "\n",
       "[11314 rows x 2 columns]"
      ]
     },
     "execution_count": 4,
     "metadata": {},
     "output_type": "execute_result"
    }
   ],
   "source": [
    "news_df"
   ]
  },
  {
   "cell_type": "markdown",
   "metadata": {
    "id": "fYfSJ3MYFj3e"
   },
   "source": [
    "현재 데이터프레임에 Null 값이 있는지 확인합니다."
   ]
  },
  {
   "cell_type": "code",
   "execution_count": 5,
   "metadata": {
    "colab": {
     "base_uri": "https://localhost:8080/"
    },
    "id": "KYuAfJNf6Rhd",
    "outputId": "6c98f92d-aac1-49dc-f39e-53d71ae9be06"
   },
   "outputs": [
    {
     "data": {
      "text/plain": [
       "False"
      ]
     },
     "execution_count": 5,
     "metadata": {},
     "output_type": "execute_result"
    }
   ],
   "source": [
    "news_df.isnull().values.any()"
   ]
  },
  {
   "cell_type": "markdown",
   "metadata": {
    "id": "_4u4JGjxF9Tn"
   },
   "source": [
    "Null 값이 없지만, 빈 값(empy) 유무도 확인해야 합니다. 모든 빈 값을 Null 값으로 변환하고, 다시 Null 값이 있는지 확인합니다."
   ]
  },
  {
   "cell_type": "code",
   "execution_count": 6,
   "metadata": {},
   "outputs": [
    {
     "data": {
      "application/vnd.microsoft.datawrangler.viewer.v0+json": {
       "columns": [
        {
         "name": "index",
         "rawType": "int64",
         "type": "integer"
        },
        {
         "name": "document",
         "rawType": "object",
         "type": "string"
        },
        {
         "name": "clean_doc",
         "rawType": "object",
         "type": "string"
        }
       ],
       "conversionMethod": "pd.DataFrame",
       "ref": "cbb047fb-c265-40b8-8b11-514a4f3d6d18",
       "rows": [
        [
         "51",
         " ",
         ""
        ],
        [
         "89",
         "\n\n\n\n\n",
         ""
        ],
        [
         "150",
         "",
         ""
        ],
        [
         "255",
         "\n",
         ""
        ],
        [
         "311",
         "\n",
         ""
        ],
        [
         "338",
         "",
         ""
        ],
        [
         "361",
         "\n",
         ""
        ],
        [
         "402",
         "",
         ""
        ],
        [
         "408",
         "",
         ""
        ],
        [
         "432",
         "\n",
         ""
        ],
        [
         "439",
         "",
         ""
        ],
        [
         "440",
         "",
         ""
        ],
        [
         "482",
         "",
         ""
        ],
        [
         "483",
         "",
         ""
        ],
        [
         "563",
         "",
         ""
        ],
        [
         "598",
         "",
         ""
        ],
        [
         "664",
         "",
         ""
        ],
        [
         "732",
         "\n\n\n",
         ""
        ],
        [
         "764",
         "",
         ""
        ],
        [
         "809",
         "",
         ""
        ],
        [
         "866",
         "",
         ""
        ],
        [
         "905",
         "",
         ""
        ],
        [
         "912",
         "\n",
         ""
        ],
        [
         "914",
         "\n",
         ""
        ],
        [
         "975",
         "",
         ""
        ],
        [
         "1014",
         "",
         ""
        ],
        [
         "1062",
         "",
         ""
        ],
        [
         "1142",
         "",
         ""
        ],
        [
         "1190",
         " ",
         ""
        ],
        [
         "1195",
         "",
         ""
        ],
        [
         "1220",
         "\n\n",
         ""
        ],
        [
         "1257",
         "",
         ""
        ],
        [
         "1282",
         "\n",
         ""
        ],
        [
         "1296",
         "",
         ""
        ],
        [
         "1323",
         "",
         ""
        ],
        [
         "1342",
         "\n",
         ""
        ],
        [
         "1371",
         "\n",
         ""
        ],
        [
         "1434",
         "",
         ""
        ],
        [
         "1435",
         "\n\n",
         ""
        ],
        [
         "1438",
         "\n",
         ""
        ],
        [
         "1440",
         "",
         ""
        ],
        [
         "1443",
         "",
         ""
        ],
        [
         "1479",
         "\n",
         ""
        ],
        [
         "1515",
         "",
         ""
        ],
        [
         "1541",
         "of  \nWhy  \n\n",
         ""
        ],
        [
         "1584",
         "  \n\n",
         ""
        ],
        [
         "1601",
         "",
         ""
        ],
        [
         "1676",
         "\n",
         ""
        ],
        [
         "1687",
         "",
         ""
        ],
        [
         "1706",
         "\n",
         ""
        ]
       ],
       "shape": {
        "columns": 2,
        "rows": 310
       }
      },
      "text/html": [
       "<div>\n",
       "<style scoped>\n",
       "    .dataframe tbody tr th:only-of-type {\n",
       "        vertical-align: middle;\n",
       "    }\n",
       "\n",
       "    .dataframe tbody tr th {\n",
       "        vertical-align: top;\n",
       "    }\n",
       "\n",
       "    .dataframe thead th {\n",
       "        text-align: right;\n",
       "    }\n",
       "</style>\n",
       "<table border=\"1\" class=\"dataframe\">\n",
       "  <thead>\n",
       "    <tr style=\"text-align: right;\">\n",
       "      <th></th>\n",
       "      <th>document</th>\n",
       "      <th>clean_doc</th>\n",
       "    </tr>\n",
       "  </thead>\n",
       "  <tbody>\n",
       "    <tr>\n",
       "      <th>51</th>\n",
       "      <td></td>\n",
       "      <td></td>\n",
       "    </tr>\n",
       "    <tr>\n",
       "      <th>89</th>\n",
       "      <td>\\n\\n\\n\\n\\n</td>\n",
       "      <td></td>\n",
       "    </tr>\n",
       "    <tr>\n",
       "      <th>150</th>\n",
       "      <td></td>\n",
       "      <td></td>\n",
       "    </tr>\n",
       "    <tr>\n",
       "      <th>255</th>\n",
       "      <td>\\n</td>\n",
       "      <td></td>\n",
       "    </tr>\n",
       "    <tr>\n",
       "      <th>311</th>\n",
       "      <td>\\n</td>\n",
       "      <td></td>\n",
       "    </tr>\n",
       "    <tr>\n",
       "      <th>...</th>\n",
       "      <td>...</td>\n",
       "      <td>...</td>\n",
       "    </tr>\n",
       "    <tr>\n",
       "      <th>11156</th>\n",
       "      <td></td>\n",
       "      <td></td>\n",
       "    </tr>\n",
       "    <tr>\n",
       "      <th>11158</th>\n",
       "      <td></td>\n",
       "      <td></td>\n",
       "    </tr>\n",
       "    <tr>\n",
       "      <th>11225</th>\n",
       "      <td>\\n</td>\n",
       "      <td></td>\n",
       "    </tr>\n",
       "    <tr>\n",
       "      <th>11284</th>\n",
       "      <td>...</td>\n",
       "      <td></td>\n",
       "    </tr>\n",
       "    <tr>\n",
       "      <th>11310</th>\n",
       "      <td>\\n</td>\n",
       "      <td></td>\n",
       "    </tr>\n",
       "  </tbody>\n",
       "</table>\n",
       "<p>310 rows × 2 columns</p>\n",
       "</div>"
      ],
      "text/plain": [
       "         document clean_doc\n",
       "51                         \n",
       "89     \\n\\n\\n\\n\\n          \n",
       "150                        \n",
       "255            \\n          \n",
       "311            \\n          \n",
       "...           ...       ...\n",
       "11156                      \n",
       "11158                      \n",
       "11225          \\n          \n",
       "11284         ...          \n",
       "11310          \\n          \n",
       "\n",
       "[310 rows x 2 columns]"
      ]
     },
     "execution_count": 6,
     "metadata": {},
     "output_type": "execute_result"
    }
   ],
   "source": [
    "news_df[news_df.clean_doc == '']"
   ]
  },
  {
   "cell_type": "code",
   "execution_count": 7,
   "metadata": {
    "colab": {
     "base_uri": "https://localhost:8080/"
    },
    "id": "5Pw5BIic6Sia",
    "outputId": "7ad6d8b4-74e6-4fd7-b2c6-87f1b7873a29"
   },
   "outputs": [
    {
     "data": {
      "application/vnd.microsoft.datawrangler.viewer.v0+json": {
       "columns": [
        {
         "name": "index",
         "rawType": "int64",
         "type": "integer"
        },
        {
         "name": "document",
         "rawType": "object",
         "type": "unknown"
        },
        {
         "name": "clean_doc",
         "rawType": "object",
         "type": "unknown"
        }
       ],
       "conversionMethod": "pd.DataFrame",
       "ref": "31c8eed6-0187-4737-82f4-f9eaa2d4d014",
       "rows": [
        [
         "0",
         "Well i'm not sure about the story nad it did seem biased. What\nI disagree with is your statement that the U.S. Media is out to\nruin Israels reputation. That is rediculous. The U.S. media is\nthe most pro-israeli media in the world. Having lived in Europe\nI realize that incidences such as the one described in the\nletter have occured. The U.S. media as a whole seem to try to\nignore them. The U.S. is subsidizing Israels existance and the\nEuropeans are not (at least not to the same degree). So I think\nthat might be a reason they report more clearly on the\natrocities.\n\tWhat is a shame is that in Austria, daily reports of\nthe inhuman acts commited by Israeli soldiers and the blessing\nreceived from the Government makes some of the Holocaust guilt\ngo away. After all, look how the Jews are treating other races\nwhen they got power. It is unfortunate.\n",
         "well sure about story seem biased. what disagree with your statement that u.s. media ruin israels reputation. that rediculous. u.s. media most pro-israeli media world. having lived europe realize that incidences such described letter have occured. u.s. media whole seem ignore them. u.s. subsidizing israels existance europeans least same degree). think that might reason they report more clearly atrocities. what shame that austria, daily reports inhuman acts commited israeli soldiers blessing received from government makes some holocaust guilt away. after all, look jews treating other races when they power. unfortunate."
        ],
        [
         "1",
         "\n\n\n\n\n\n\nYeah, do you expect people to read the FAQ, etc. and actually accept hard\natheism?  No, you need a little leap of faith, Jimmy.  Your logic runs out\nof steam!\n\n\n\n\n\n\n\nJim,\n\nSorry I can't pity you, Jim.  And I'm sorry that you have these feelings of\ndenial about the faith you need to get by.  Oh well, just pretend that it will\nall end happily ever after anyway.  Maybe if you start a new newsgroup,\nalt.atheist.hard, you won't be bummin' so much?\n\n\n\n\n\n\nBye-Bye, Big Jim.  Don't forget your Flintstone's Chewables!  :) \n--\nBake Timmons, III",
         "yeah, expect people read faq, etc. actually accept hard atheism? need little leap faith, jimmy. your logic runs steam! jim, sorry can't pity you, jim. sorry that have these feelings denial about faith need well, just pretend that will happily ever after anyway. maybe start newsgroup, alt.atheist.hard, won't bummin' much? bye-bye, jim. don't forget your flintstone's chewables! bake timmons,"
        ],
        [
         "2",
         "Although I realize that principle is not one of your strongest\npoints, I would still like to know why do do not ask any question\nof this sort about the Arab countries.\n\n   If you want to continue this think tank charade of yours, your\nfixation on Israel must stop.  You might have to start asking the\nsame sort of questions of Arab countries as well.  You realize it\nwould not work, as the Arab countries' treatment of Jews over the\nlast several decades is so bad that your fixation on Israel would\nbegin to look like the biased attack that it is.\n\n   Everyone in this group recognizes that your stupid 'Center for\nPolicy Research' is nothing more than a fancy name for some bigot\nwho hates Israel.",
         "although realize that principle your strongest points, would still like know question this sort about arab countries. want continue this think tank charade yours, your fixation israel must stop. might have start asking same sort questions arab countries well. realize would work, arab countries' treatment jews over last several decades that your fixation israel would begin look like biased attack that everyone this group recognizes that your stupid 'center policy research' nothing more than fancy name some bigot hates israel."
        ],
        [
         "3",
         "Notwithstanding all the legitimate fuss about this proposal, how much\nof a change is it?  ATT's last product in this area (a) was priced over\n$1000, as I suspect 'clipper' phones will be; (b) came to the customer \nwith the key automatically preregistered with government authorities. Thus,\naside from attempting to further legitimize and solidify the fed's posture,\nClipper seems to be \"more of the same\", rather than a new direction.\n   Yes, technology will eventually drive the cost down and thereby promote\nmore widespread use- but at present, the man on the street is not going\nto purchase a $1000 crypto telephone, especially when the guy on the other\nend probably doesn't have one anyway.  Am I missing something?\n   The real question is what the gov will do in a year or two when air-\ntight voice privacy on a phone line is as close as your nearest pc.  That\nhas got to a problematic scenario for them, even if the extent of usage\nnever surpasses the 'underground' stature of PGP.",
         "notwithstanding legitimate fuss about this proposal, much change att's last product this area priced over $1000, suspect 'clipper' phones will came customer with automatically preregistered with government authorities. thus, aside from attempting further legitimize solidify fed's posture, clipper seems \"more same\", rather than direction. yes, technology will eventually drive cost down thereby promote more widespread use- present, street going purchase $1000 crypto telephone, especially when other probably doesn't have anyway. missing something? real question what will year when air- tight voice privacy phone line close your nearest that problematic scenario them, even extent usage never surpasses 'underground' stature pgp."
        ],
        [
         "4",
         "Well, I will have to change the scoring on my playoff pool.  Unfortunately\nI don't have time right now, but I will certainly post the new scoring\nrules by tomorrow.  Does it matter?  No, you'll enter anyway!!!  Good!\n\n--\n    Keith Keller\t\t\t\tLET'S GO RANGERS!!!!!\n\t\t\t\t\t\tLET'S GO QUAKERS!!!!!\n\tkkeller@mail.sas.upenn.edu\t\tIVY LEAGUE CHAMPS!!!!",
         "well, will have change scoring playoff pool. unfortunately don't have time right now, will certainly post scoring rules tomorrow. does matter? you'll enter anyway!!! good! keith keller let's rangers!!!!! let's quakers!!!!! kkeller@mail.sas.upenn.edu league champs!!!!"
        ],
        [
         "5",
         " \n \nI read somewhere, I think in Morton Smith's _Jesus the Magician_, that\nold Lazarus wasn't dead, but going in the tomb was part of an initiation\nrite for a magi-cult, of which Jesus was also a part.   It appears that\na 3-day stay was normal.   I wonder .... ?",
         "read somewhere, think morton smith's _jesus magician_, that lazarus wasn't dead, going tomb part initiation rite magi-cult, which jesus also part. appears that 3-day stay normal. wonder ...."
        ],
        [
         "6",
         "\nOk.  I have a record that shows a IIsi with and without a 64KB cache.\nIt's small enough that I will attach it.\n\nI have also measured some real programs with and without the 64 KB\ncache.  The speedup varies a lot from app to app, ranging from 0% to\n40%.  I think an average of 20%-25% is about right.  The subjective\ndifference is not great, but is sometimes noticable.  A simple cache\ncard certainly does not transform a IIsi into something enormously\nbetter.  I do not have an FPU.\n\nThe conventional wisdom says that cache cards from all of the makers\noffer about the same speedup and that there is not much difference\nbetween 32K and 64K caches.  I bought mine from Third Wave for well\nunder $150.  I have had absolutely no problems at all with it.\n\nIf you get *complete* speedometer runs for a 32K cache, I'd like to\nsee them.  Let's check the conventional wisdom!  The so called\n\"Performance Rating\" numbers by themselves are of no interest. \n\nCheers.\n\n(This file must be converted with BinHex 4.0)\n:#@0KBfKP,Q0`G!\"338083e\"$9!!!!!!'A!!!!!$qK3%\"a+!!!!BGJ&CfGiGfH(H\n)GhQ!QSQBUC!!@SQUU(QSCfPhGhL(H+HCL&KjQTU)LDH)HBL*UCUCJ!U@GQ9hGiK\nhCAKR9SPiJ)QRQ)QUJ+N(J!UCLD#U#S!!S!QUUTQC#U#DL3J)#3LT#UU)QUUBUT!\n!S!L3!!UU#!QJS+UT!!QJS*UD#TUUQCQ3!*!!UCFJ!!%c4ACSL'D)L)D!#!!)#!!\n!!!!!!!!)!!!!!!!!J!B8*%9@9L0A\"i!!G`!!G`B!!(J)\"i###B!P[US),B\")21Z\n-1I\"k-cQFM-VXMHhA!irdjPcVr,lUCVSZ2SI8j@,-l,jPI`F#lZq0A\"AL8XRHjf,\n6[LJ09\"aZ2TV6l!$9lN@eAP@Rei8(VIpIQkfDK$-ZV[b+9[T5lkC0XZ6LGhf(Ik&\na$Lkh*Q6-qhh2MIlc*Q2Iq$p([GeSp(ejN!\"bHMdHll$&Qh'lR`E26C2(QBqSrMM\npa-k()jPGXqcpR2rYR9eYd0,*Mh0,h1rj1*hA%pcLHRSG6PF2eIYmc4rIS60EFp+\nCGE@Vr$[TRAFA(QkA`pG8JkS[@fe1mcBikFQC(,(9K[U&h\"\"0rr\"BDDT(i%XP3Z$\nV04L8D82FeU01V4K-9U#JaD@1*fZa`EZr3-eGTYkNXH49SjF2Ei[G*5el3[VZ'j[\nVf($bTBHjlEX3Pe0KJ8,ZKH!9Cc3+fJ%kHGZC*BHhNV9+DC6Xd$[S58DFD\"pJ%ei\nq#CXHkEL`@d%&PYYY\"1f0rG`jm0rJTCYMi4B1KbB'pUBQ)PU9'q\"*m1miHG#YR`b\neUNG1'mSAP#mR`i-1*K`l[DiNq'MQjZA(,4bq\"$*Mimq(KC9@@(-Mc'\"f88e9U&0\nF'Y4U5eXb(\"+6T8D@6(R3ae+10Padk\"CAK!*Ea6SThLiA9HF!H&&Da@[,[2bA2!p\n2VIr&TI)!6V`%S!*eJ#GS!Q!!QqD#2P!*M49m9IdHhm2frUq2Ek))G3e\"Vi)+rQJ\nC[`%m#+E&0jf\"YI2ql`VI&0qHH!R[339`'9hY46)TR+ZkXI!pQRQKCU3%ed9R&Cr\n!QCiUk+ZmEf)IYI&bqMEffkT5bB`JhYl2K[0PXVe0B@@2*@Uam121D`A`h+cC)Xl\nIEjf8S+#9`a6[P8p0ZC&6H0ajcY1BR\"JDM3`F%lJ1&5bI+SC2Jh([qeTfVK961rR\nZVIq[+Rb-TH3'B3f0r$h''cP%\"UY1'jU53jY@5P(RCdPAXAfrl\"Xrhf#Y\"dmV1i$\n9%Dm@T+f4NMlP5jd-XN0(K5C91'R@)4Qb9C5Ke1h%V-kiaRA-NTa`b9(YYL5TM5*\nF2#bUFFLGJ%,D8QA*9R`eUQ29Sj!!p0b'\"c5LEFR4@%9KpDGj1,bijhNaDH,6mrm\n(3qpJITeraM0+0RHJ*aJ%f`#HJ!R4JJXDK22e!Cab5DK)jkRq0r[IcrC`[c!Krd(\n$m1VrbJCX!NR)3FrcHYPk(r1CHJjiJ#Hk%'J84pq+#+$a2&r&bZ,Ff1V,-KG6qG9\nMbmUPG9XkUeX$2Gl!Gl!Gl!GE!k5hrX(F4IX4IRNYkb\"M%rSbN4`8m8qPq2rAd[j\nFhRC#4(PeI2RFhY0+j-GH'!P*S)h!#HN!R6JJXb5f'b!clJkfb121qGm2MclEe,S\nmHpf12b4arQ$Q%%PLK\"q(8@I8[qRmmS5[l`\"2fP!\"4CpjY0,DDAp2AlE#eIPBD0c\nrL1,PeXj39[%9k`HF4Z,ZKGN4h9A+b-T23l)RDf'a13X\"'-#VbKJ[!9ME*!Tlp2-\nQckRpM@J2e5BN*f&jHN*[Vp-#f+F(J)PQXJNlYRLpQ3C,%`Cm0l3E[MP\"cXZ6`)B\nmpVS0)P3Y@XTB5F5qaSr\"XrmrZf1iLXSV,pPVjICFMRrekXdDI`0FHmT[Q!4VL`T\naalM336chGUr@\"Me6YarIDI&Y2LpE9HPaI#fhNFmq$qLchVC(dUajJ%eb%(6NdIH\np#jqEd#X1cGDTVmDY965+@Pi,Mr1JeR&pq`q@\"AacVkC[0lZi3-Z-5PZk8%f$Vrd\nHfR&1mci,3&Nqh9r\"e%\"j5Ve$0rN`AbfB\"Qqlk$C`3@LKQRh0(-MKhNYA+UC&Qhq\n5kajHR1eFqR,2H5b8Z!SLfG3!!2TPmiF!!3!+58PcD5eMB@0SC3%!!!!)6@0S9(0\n3C$1R$)JJT`b+33%!ADmicJ!#!!!4a3!!!!!!!!B9!!!!!,AP!!!:\n-- ",
         "have record that shows iisi with without 64kb cache. it's small enough that will attach have also measured some real programs with without cache. speedup varies from app, ranging from 40%. think average 20%-25% about right. subjective difference great, sometimes noticable. simple cache card certainly does transform iisi into something enormously better. have fpu. conventional wisdom says that cache cards from makers offer about same speedup that there much difference between caches. bought mine from third wave well under $150. have absolutely problems with *complete* speedometer runs cache, like them. let's check conventional wisdom! called \"performance rating\" numbers themselves interest. cheers. (this file must converted with binhex 4.0) :#@0kbfkp,q0`g!\"338083e\"$9!!!!!!'a!!!!!$qk3%\"a+!!!!bgj&cfgigfh(h )ghq!qsqbuc!!@squu(qscfphghl(h+hcl&kjqtu)ldh)hbl*ucucj!u@gq9hgik hcakr9spij)qrq)quj+n(j!ucld#u#s!!s!quutqc#u#dl3j)#3lt#uu)quubut! !s!l3!!uu#!qjs+ut!!qjs*ud#tuuqcq3!*!!ucfj!!%c4acsl'd)l)d!#!!)#!! !!!!!!!!)!!!!!!!!j!b8*%9@9l0a\"i!!g`!!g`b!!(j)\"i###b!p[us),b\")21z -1i\"k-cqfm-vxmhha!irdjpcvr,lucvsz2si8j@,-l,jpi`f#lzq0a\"al8xrhjf, 6[lj09\"az2tv6l!$9ln@eap@rei8(vipiqkfdk$-zv[b+9[t5lkc0xz6lghf(ik& a$lkh*q6-qhh2milc*q2iq$p([gesp(ejn!\"bhmdhll$&qh'lr`e26c2(qbqsrmm pa-k()jpgxqcpr2ryr9eyd0,*mh0,h1rj1*ha%pclhrsg6pf2eiymc4ris60efp+ cge@vr$[trafa(qka`pg8jks[@fe1mcbikfqc(,(9k[u&h\"\"0rr\"bddt(i%xp3z$ v04l8d82feu01v4k-9u#jad@1*fza`ezr3-egtyknxh49sjf2ei[g*5el3[vz'j[ vf($btbhjlex3pe0kj8,zkh!9cc3+fj%khgzc*bhhnv9+dc6xd$[s58dfd\"pj%ei q#cxhkel`@d%&pyyy\"1f0rg`jm0rjtcymi4b1kbb'pubq)pu9'q\"*m1mihg#yr`b eung1'msap#mr`i-1*k`l[dinq'mqjza(,4bq\"$*mimq(kc9@@(-mc'\"f88e9u&0 f'y4u5exb(\"+6t8d@6(r3ae+10padk\"cak!*ea6sthlia9hf!h&&da@[,[2ba2!p 2vir&ti)!6v`%s!*ej#gs!q!!qqd#2p!*m49m9idhhm2fruq2ek))g3e\"vi)+rqj c[`%m#+e&0jf\"yi2ql`vi&0qhh!r[339`'9hy46)tr+zkxi!pqrqkcu3%ed9r&cr !qciuk+zmef)iyi&bqmeffkt5bb`jhyl2k[0pxve0b@@2*@uam121d`a`h+cc)xl iejf8s+#9`a6[p8p0zc&6h0ajcy1br\"jdm3`f%lj1&5bi+sc2jh([qetfvk961rr zviq[+rb-th3'b3f0r$h''cp%\"uy1'ju53jy@5p(rcdpaxafrl\"xrhf#y\"dmv1i$ 9%dm@t+f4nmlp5jd-xn0(k5c91'r@)4qb9c5ke1h%v-kiara-nta`b9(yyl5tm5* f2#bufflgj%,d8qa*9r`euq29sj!!p0b'\"c5lefr4@%9kpdgj1,bijhnadh,6mrm (3qpjiteram0+0rhj*aj%f`#hj!r4jjxdk22e!cab5dk)jkrq0r[icrc`[c!krd( $m1vrbjcx!nr)3frchypk(r1chjjij#hk%'j84pq+#+$a2&r&bz,ff1v,-kg6qg9 mbmupg9xkuex$2gl!gl!gl!ge!k5hrx(f4ix4irnykb\"m%rsbn4`8m8qpq2rad[j fhrc#4(pei2rfhy0+j-gh'!p*s)h!#hn!r6jjxb5f'b!cljkfb121qgm2mclee,s mhpf12b4arq$q%%plk\"q(8@i8[qrmms5[l`\"2fp!\"4cpjy0,ddap2ale#eipbd0c rl1,pexj39[%9k`hf4z,zkgn4h9a+b-t23l)rdf'a13x\"'-#vbkj[!9me*!tlp2- qckrpm@j2e5bn*f&jhn*[vp-#f+f(j)pqxjnlyrlpq3c,%`cm0l3e[mp\"cxz6`)b mpvs0)p3y@xtb5f5qasr\"xrmrzf1ilxsv,ppvjicfmrrekxddi`0fhmt[q!4vl`t aalm336chgur@\"me6yaridi&y2lpe9hpai#fhnfmq$qlchvc(duajj%eb%(6ndih p#jqed#x1cgdtvmdy965+@pi,mr1jer&pq`q@\"aacvkc[0lzi3-z-5pzk8%f$vrd hfr&1mci,3&nqh9r\"e%\"j5ve$0rn`abfb\"qqlk$c`3@lkqrh0(-mkhnya+uc&qhq 5kajhr1efqr,2h5b8z!slfg3!!2tpmif!!3!+58pcd5emb@0sc3%!!!!)6@0s9(0 3c$1r$)jjt`b+33%!admicj!#!!!4a3!!!!!!!!b9!!!!!,ap!!!:"
        ],
        [
         "7",
         "\n\n\nSounds like wishful guessing.\n\n\n\n\n'So-called' ? What do you mean ? How would you see the peace process?\n\nSo you say palestineans do not negociate because of 'well-founded' predictions ?\nHow do you know that they are 'well founded' if you do not test them at the \ntable ? 18 months did not prove anything, but it's always the other side at \nfault, right ?\n\nWhy ? I do not know why, but if, let's say, the Palestineans (some of them) want\nALL ISRAEL, and these are known not to be accepted terms by israelis.\n\nOr, maybe they (palestinenans) are not yet ready for statehood ?\n\nOr, maybe there is too much politics within the palestinean leadership, too many\nfractions aso ?\n\nI am not saying that one of these reasons is indeed the real one, but any of\nthese could make arabs stall the negotiations.\n\n \nI like California oranges. And the feelings may get sharper at the table.\n\n\n\nRegards,",
         "sounds like wishful guessing. 'so-called' what mean would peace process? palestineans negociate because 'well-founded' predictions know that they 'well founded' test them table months prove anything, it's always other side fault, right know why, let's say, palestineans (some them) want israel, these known accepted terms israelis. maybe they (palestinenans) ready statehood maybe there much politics within palestinean leadership, many fractions saying that these reasons indeed real one, these could make arabs stall negotiations. like california oranges. feelings sharper table. regards,"
        ],
        [
         "8",
         " Nobody is saying that you shouldn't be allowed to use msg.  Just\ndon't force it on others. If you have food that you want to \nenhance with msg just put the MSG on the table like salt.  It is\nthen the option of the eater to use it.  If you make a commerical\nproduct, just leave it out. You can include a packet (like some\nsalt packets) if you desire.\n\nSalt, pepper, mustard, ketchup, pickles ..... are table options.\nTreat MSG the same way.  I wouldn't shove my condiments down your\nthroat, don't shove yours down mine.\n\nWFL\n",
         "nobody saying that shouldn't allowed msg. just don't force others. have food that want enhance with just table like salt. then option eater make commerical product, just leave out. include packet (like some salt packets) desire. salt, pepper, mustard, ketchup, pickles ..... table options. treat same way. wouldn't shove condiments down your throat, don't shove yours down mine."
        ],
        [
         "9",
         "\n  I was wondering if anyone can shed any light on just how it is that these\nelectronic odometers remember the total elapsed mileage?  What kind of\nmemory is stable/reliable enough, non-volatile enough and independent enough\n(of outside battery power) to last say, 10 years or more, in the life of a\nvehicle?  I'm amazed that anything like this could be expected to work for\nthis length of time (especially in light of all the gizmos I work with that\nare doing good to work for 2 months without breaking down somehow).\n\nSide question:  how about the legal ramifications of selling a used car with\na replaced odometer that starts over at 0 miles, after say 100/200/300K\nactual miles.  Looks like fraud would be fairly easy - for the price of a\nnew odometer, you can say it has however many miles you want to tell the\nbuyer it has.\n\nThanks for any insight.\n",
         "wondering anyone shed light just that these electronic odometers remember total elapsed mileage? what kind memory stable/reliable enough, non-volatile enough independent enough outside battery power) last say, years more, life vehicle? amazed that anything like this could expected work this length time (especially light gizmos work with that doing good work months without breaking down somehow). side question: about legal ramifications selling used with replaced odometer that starts over miles, after 100/200/300k actual miles. looks like fraud would fairly easy price odometer, however many miles want tell buyer has. thanks insight."
        ],
        [
         "10",
         "Archive-name: graphics/resources-list/part1\nLast-modified: 1993/04/17\n\n\nComputer Graphics Resource Listing : WEEKLY POSTING [ PART 1/3 ]\n===================================================\nLast Change : 17 April 1993\n\nMany FAQs, including this Listing, are available on the archive site\npit-manager.mit.edu (alias rtfm.mit.edu) [18.172.1.27] in the directory\npub/usenet/news.answers.  The name under which a FAQ is archived appears\nin the Archive-name line at the top of the article.\nThis FAQ is archived as graphics/resources-list/part[1-3]\n\nThere's a mail server on that machine. You send a e-mail message to\nmail-server@pit-manager.mit.edu  containing the keyword \"help\" (without\nquotes!) in the message body.\n\nYou can see in many other places for this Listing. See the item:\n\n0. Places to find the Resource Listing\n\nfor more information.\n\nItems Changed:\n--------------\n\nRE-ARRANGED the subjects, in order to fir better in the 63K/article limit.\nI PLAN ON CHANGING HEADERS SOON, SO BE CAREFUL! ONLY THE \"Resource Listing\"\nkeys are sure to remain in the Subject: line!\n\n0. Places to find the Resource Listing\n6.  3D graphics editors\n   a. Public domain, free and shareware systems\n9. Plotting packages\n18. Molecular visualization stuff\n\n[ I'm thinking of making this post bi-weekly. What do you think??? ]\n\n--------------\n\nLines which got changed, have the `#' character in front of them.\nAdded lines are prepended with a `+'\nRemoved lines are just removed. Use 'diff' to locate these changes.\n\n========================================================================\n\nThis text is (C)Copyright 1992, 1993 of Nikolaos C. Fotis. You can copy\nfreely this file, provided you keep this copyright notice intact.\n\nCompiled by Nikolaos (Nick) C. Fotis, e-mail: nfotis@theseas.ntua.gr\n\nPlease contact me for updates,corrections, etc.\n\nDisclaimer: I do not guarantee the accuracy of this document.\nUse it at your own risk.\n\n========================================================================\n\nThis is mainly a guide for computer graphics software.\nI would suggest reading the Comp. Graphics FAQ for image analysis stuff.\n\nIt's entitled: \n (date) comp.graphics Frequently Asked Questions (FAQ)\n\n John T. Grieggs <grieggs@jpl-devvax.jpl.nasa.gov> is the poster of the\n official comp.graphics FAQ\n\nI have included my comments within braces '[' and ']'.\n\nNikolaos Fotis\n\n========================================================================\n\nContents of the Resource Listing\n================================\n\nPART1:\n------\n0. Places to find the Resource Listing\n1. ARCHIE\n2. Notes\n3. Computer graphics FTP site list, by Eric Haines\n4. Mail servers and graphics-oriented BBSes\n5. Ray-tracing/graphics-related mailing lists.\n6.  3D graphics editors\n   a. Public domain, free and shareware systems\n   b. Commercial systems\n7. Scene description languages\n8. Solids description formats\n\nPART2:\n------\n\n9. Plotting packages\n10. Image analysis software - Image processing and display\n\nPART3:\n------\n11. Scene generators/geographical data/Maps/Data files\n12. 3D scanners - Digitized 3D Data.\n13. Background imagery/textures/datafiles\n14. Introduction to rendering algorithms\n   a. Ray tracing\n   b. Z-buffer (depth-buffer)\n   c. Others\n15. Where can I find the geometric data for the:\n   a. Teapot ?\n   b. Space Shuttle ?\n16. Image annotation software\n17. Scientific visualization stuff\n18. Molecular visualization stuff\n19. GIS (Geographical Information Systems software)\n\nFuture additions:\n[Please send me updates/info!]\n\n========================================================================\n\n0. Places to find the Resource Listing\n======================================\n\n#This file is crossposted to comp.graphics, comp.answers and news.answers,\nso if you can't locate it in comp.graphics, you're advised to search in\n#comp.answers or news.answers\n(The latter groups usually are archived in your site. Contact your sysadmin\nfor more info).\n\nThese 3 articles are posted to comp.graphics 3-4 times a month and are kept in\nmany places (see below)\n\n--\n\nMany FAQs, including this one, are available on the archive site\npit-manager.mit.edu (alias rtfm.mit.edu) [18.172.1.27] in the directory\npub/usenet/news.answers.  The name under which a FAQ is archived appears\nin the Archive-name line at the top of the article.\nThis FAQ is archived as graphics/resources-list/part[1-3]\n\nThere's a mail server on that machine. You send a e-mail message to\nmail-server@pit-manager.mit.edu  containing: help in the Subject: field\n\n--\n\nThe inria-graphlib mail server mirrors this posting (see under the\nSubject 4: Mail servers )\n\n--\n\nThe Resource Listing is accesible through WAIS in the machine\nenuxva.eas.asu.edu (port 8000) under the name graphics-resources-list.\nIt's got a digest-type line before every numbered item for purposes of\nindexing.\n\n--\n\nAnother place that monitors the Listing is the MaasInfo files.\nFor more info contact Robert E. Maas <rem@btr.com>\n\n--\n\nYet another place to search for FAQs in general is the SWITCH\n(Swiss Academic and Research Network) system in Switzerland:\n\ninteractive:\n  telnet nic.switch.ch [130.59.1.40], login as \"info\". Move to the\n  info_service/Usenet/periodic-postings directory. Search in the\n  00index file by typing \"/\" and the word to look for.\n  You may then just read the FAQ in the \"faqs\" directory, or decide\n  to fetch it by one of the following methods.\n\nftp:\n  login to nic.switch.ch [130.59.1.40] as user anonymous and\n  enter your internet-style address after being prompted for a\n  password.\n\n\tcd info_service/Usenet/periodic-postings\n\nmail:\n  send e-mail to\n\nRFC-822:\n   archive-server@nic.switch.ch\nX.400:\n  /S=archive-server/OU=nic/O=switch/PRMD=switch/ADMD=arcom/C=ch/\n\nEnter 'help' in the bodypart to receive instructions. No information\nis required in the subject header line.\n\n\n1. ARCHIE\n=========\n\nThe Archie is a service system to locate FTP places for\nrequested files. It's appreciated that you will use Archie\nbefore asking help in the newsgroups.\n\nArchie servers:\n  archie.au or 139.130.4.6             (Aussie/NZ)\n  archie.funet.fi or 128.214.6.100  (Finland/Eur.)\n  archie.th-darmstadt.de or 130.83.128.111  (GER.)\n  cs.huji.ac.il or 132.65.6.5             (Israel)\n  archie.kuis.kyoto-u.ac.jp or 130.54.20.1 (JAPAN)\n  archie.sogang.ac.kr or 163.239.1.11      (Korea)\n  archie.ncu.edu.tw or telnet 140.115.19.24  (TWN)\n  archie.doc.ic.ac.uk or 146.169.3.7  (UK/Ireland)\n  archie.sura.net or 128.167.254.179    (USA [MD])\n  archie.unl.edu (password: archie1)    (USA [NE])\n  archie.ans.net or 147.225.1.2         (USA [NY])\n  archie.rutgers.edu or 128.6.18.15     (USA [NJ])\n  archie.nz or 130.195.9.4           (New Zealand)\n\nConnect to Archie server with telnet and type \"archie\" as username.\nTo get help type 'help'.\nYou can get 'xarchie' or 'archie', which are clients that call Archie\nwithout the burden of a telnet session.\n'Xarchie' is on the X11.R5 contrib tape, and 'archie' on comp.sources.misc,\nvol. 27.\n\nTo get information on how to use Archie via e-mail, send mail with\nsubject \"help\" to \"archie\" account at any of above sites.\n\n(Note to Janet/PSS users -- the United Kingdom archie site is\naccessible on the Janet host doc.ic.ac.uk [000005102000].\nConnect to it and specify \"archie\" as the host name and \"archie\" as\nthe username.)\n\n==========================================================================\n\n2. Notes\n========\n(Excerpted from the FAQ article)\n\nPlease do *not* post or mail messages saying \"I can't FTP, could\nsomeone mail this to me?\"  There are a number of automated mail servers\nthat will send you things like this in response to a message.\n\nThere are a number of sites that archive the Usenet sources newsgroups\nand make them available via an email query system.  You send a message\nto an automated server saying something like \"send comp.sources.unix/fbm\",\nand a few hours or days later you get the file in the mail.\n\n==========================================================================\n\n3. Computer graphics FTP site list, by Eric Haines\n==================================================\n\nComputer graphics related FTP sites (and maintainers), 26/03/93\n\tcompiled by Eric Haines, erich@eye.com\n\tand Nick Fotis, nfotis@theseas.ntua.gr\n\nRay-tracers:\n------------\n\nRayShade - a great ray tracer for workstations on up, also for PC, Mac & Amiga.\nPoV - son and successor to DKB trace, written by Compuservers.\n\t(For more questions call Drew Wells --\n\t73767.1244@compuserve.com or Dave Buck -- david_buck@carleton.ca)\nART - ray tracer with a good range of surface types, part of VORT package.\nDKBtrace - another good ray tracer, from all reports; PCs, Mac II,\n\tAmiga, UNIX, VMS (last two with X11 previewer), etc.\nRTrace - Portugese ray tracer, does bicubic patches, CSG, 3D text, etc. etc.\n\tAn MS-DOS version for use with DJGPP DOS extender (GO32) exists also,\n\tas a Mac port.\nVIVID2 - A shareware raytracer for PCs - binary only (286/287).  Author:\n\tStephen Coy (coy@ssc-vax.boeing.com).  The 386/387 (no source) version\n\tis available to registered users (US$50) direct from the author.\nRAY4 - Steve Hollasch's 4-dimensional ray tracer - renders hyperspheres,\n\thypertetrahedra, hyperplanes, and hyperparallelepipeds (there's\n\ta separate real-time wireframe viewer written in GL called WIRE4 ) .\nMTV,QRT,DBW - yet more ray tracers, some with interesting features.\n\nDistributed/Parallel Raytracers:\n--------------------------------\n\nXDART - A distributed ray-tracer that runs under X11. There are server binaries\n\twhich work only on DECstations, SPARCs, HP Snakes (7x0 series) and NeXT.\n\tThe clients are distributed as binaries and C source.\nInetray - A network version of Rayshade 4.0.  Needs Sun RPC 4.0 or newer.\n\tContact Andreas Thurnherr (ant@ips.id.ethz.ch)\nprt, VM_pRAY - parallel ray tracers.\n\nVolume renderers:\n-----------------\n\nVREND - Cornell's Volume Renderer, from Kartch/Devine/Caffey/Warren (FORTRAN).\n\nRadiosity (and diffuse lighting) renderers:\n-------------------------------------------\n\nRadiance - a ray tracer w/radiosity effects, by Greg Ward.  Excellent shading\n\tmodels and physically based lighting simulation.  Unix/X based, though\n\thas been ported to the Amiga and the PC (386).\nINDIA - An Indian radiosity package based on Radiance.\nSGI_RAD - An interactive radiosity package that runs on SGI machines with a\n\tSpaceball. It includes a house database.\n\tAuthor: Guy Moreillon <moreillo@ligsg1.epfl.ch>\nRAD - a simple public-domain radiosity package in C. The solution can be run\n\tstand-alone on any Unix box, but the walk-through requires a SGI 4D.\n\tAuthor: Bernard Kwok <g-kwok@cs.yorku.ca>\n\nRenderers which are not raytracers, and graphics libraries:\n-----------------------------------------------------------\n\nSIPP - Scan line z-buffer and Phong shading renderer.\n\tNow uses the shadow buffer algorithm.\nTcl-SIPP - a Tcl command interface to the SIPP rendering\n\tprogram. Tcl-SIPP is a set of Tcl commands used to programmed\n\tSIPP without having to write and compile C code.\n\tCommands are used to specify surfaces, objects,\n\tscenes and rendering options.\n\tIt renders either in PPM format or in Utah Raster Toolkit RLE format\n\tor to the photo widget in the Tk-based X11 applications.\n\nVOGLE - graphics learning environment (device portable).\nVOGL - an SGI GL-like library based on VOGLE.\nREND386 - A *fast* polygon renderer for Intel 386s and up. Version 2 on up.\n\t[ It's not photorealistic, but rather a real-time renderer]\nXSHARP21 - Dr. Dobb's Journal PC renderer source code, with budget texture\n\tmapping.\n\nModellers, wireframe viewers:\n-----------------------------\n\nVISION-3D - Mac modeler, can output Radiance & Rayshade files.\nIRIT - A CSG solid modeler, with support for freeform surfaces.\nX3D - A wireframe viewer for X11.\n3DV - 3-D wireframe graphics toolkit, with C source, 3dv objects, other stuff\n\tLook at major PC archives like wuarchive. One such file is 3DKIT1.ZIP\nPV3D - a shareware front end modeler for POVRAY, still in beta test.\n  French docs for now, price for registering 250 French Francs. Save disabled.\n  Some extra utilities, DXF files for the registered version.\n\nGeometric viewers:\n------------------\n\nSALEM - A GL-based package from Dobkin et al. for exploring mathematical\n\tstructures.\nGEOMVIEW - A GL-based package for looking and interactively manipulating\n3D objects, from Geometry Center at Minnesota.\nXYZ GeoBench -(eXperimental geometrY Zurich) is a workbench for geometric\n\tcomputation for Macintosh computers.\nWIRE4 - GL wireframe previewer for Steve Hollasch's RAY4 (see above)\n\nData Formats and Data Sets for Ray Tracing:\n-------------------------------------------\n\nSPD - a set of procedural databases for testing ray tracers.\nNFF - simplistic file format used by SPD.\nOFF - another file format.\nP3D - a lispy file format.\nTDDD - Imagine (3D modeler) format, has converters for RayShade, NFF, OFF, etc.\n\tAlso includes a nice postscript object displayer.  Some GREAT models.\nTTDDDLIB - converts to/from TDDD/TTDDD, OFF, NFF, Rayshade 4.0, Imagine,\n\tand vort 3d objects. Also outputs Framemaker MIF files and isometric\n\tviews in Postscript. Registered users get a TeX PK font converter and\n\ta superquadric surfaces generator.\n\tGlenn Lewis <glewis@pcocd2.intel.com>\n\t[Note : TTDDDLIB is also known as T3DLIB]\nCHVRTD - Chapel Hill Volume Rendering Test Datasets, includes volume sets for\n\ttwo heads, a brain, a knee, electron density maps for RNA and others.\n\nWritten Material on Rendering:\n------------------------------\n\nRT News - collections of articles on ray tracing.\nRT bib - references to articles on ray tracing in \"refer\" format.\nRad bib - references to articles on radiosity (global illumination).\nSpeer RT bib - Rick Speer's cross-referenced RT bib, in postscript.\nRT abstracts - collection by Tom Wilson of abstracts of many RT articles.\nPaper bank project - various technical papers in electronic form.  Contact\n\tJuhana Kouhia <jk87377@cs.tut.fi>\nOnline Bibliography Project :\n        The ACM SIGGRAPH Online Bibliography Project is a database of \n        over 15,000 unique computer graphics and computational geometry\n        references in BibTeX format, available to the computer graphics\n        community as a research and educational resource.\n\n        The database is located at \"siggraph.org\".  Users may download \n        the BibTeX files via FTP and peruse them offline, or telnet to\n        \"siggraph.org\" and log in as \"biblio\" and interactively search\n        the database for entries of interest, by keyword.\n        For the people without Internet access, there's also an e-mail\n        server. Send mail to\n\n        archive-server@siggraph.org\n\n        and in the subject or the body of the message include the message  send\n        followed by the topic and subtopic you wish. A good place to start is\n        with the command\n             send index\n        which will give you an up-to-date list of available information.\n\n        Additions/corrections/suggestions may be directed to the admin,\n        \"bibadmin@siggraph.org\".\n\nImage Manipulation Libraries:\n-----------------------------\n\nUtah Raster Toolkit - nice image manipulation tools.\nPBMPLUS - a great package for image conversion and manipulation.\nLIBTIFF - library for reading/writing TIFF images.\nImageMagick - X11 package for display and interactive manipulation\n\tof images.  Uses its own format (MIFF), and includes some converters.\nxv - X-based image display, manipulation, and format converter.\nxloadimage, xli - displays various formats on an X11 screen.\nKhoros - a huge, excellent system for image processing, with a visual\n\tprogramming interface and much much more.  Uses X windows.\nFBM - another set of image manipulation tools, somewhat old now.\nImg - image manipulation, displays on X11 screen, a bit old now.\nxflick - Plays .FLI animation under X11\nXAnim - plays any resolution FLI along with GIF's(including GIF89a animation\n\textensions), DL's and Amiga IFF animations(3,5,J,l) and IFF\n\tpictures(including HAM,EHB and color cycling)\nSDSC - SDSC Image Tools package (San Diego Supercomputing Center)\n\tfor image manipulation and conversion\nCLRpaint - A 24-bit paint program for SGI 24bit workstations and 8bit Indigos.\n\nLibraries with code for graphics:\n---------------------------------\n\nGraphics Gems I,II,III - code from the ever so useful books.\nspline-patch.tar.Z - spline patch ray intersection routines by Sean Graves\nkaleido - Computation and 3D Display of Uniform Polyhedra. Mirrored in\n\twuarchive. This package computes (and displays) the metrical\n\tproperties of 75 polyhedra. Author: Dr. Zvi Har'El,\n\te-mail: rl@gauss.technion.ac.il\n\n(*) means site is an \"official\" distributor, so is most up to date.\n\n\nNORTH AMERICA (please look for things on your own continent first...):\n-------------\n\nwuarchive.wustl.edu [128.252.135.4]:  /graphics/graphics - get CONTENTS file\n\tfor a roadmap.  /graphics/graphics/objects/TDDD - *the TTDDD objects\n\tand converters*, /mirrors/unix-c/graphics - Rayshade ray tracer, MTV\n\tray tracer, Vort ray tracer, FBM, PBMPLUS, popi, Utah raster toolkit.\n\t/mirrors/msdos/graphics - DKB ray tracer, FLI RayTracker demos.\n\t/pub/rad.tar.Z - *SGI_RAD*, /graphics/graphics/radiosity - Radiance\n\tand Indian radiosity package.  /msdos/ddjmag/ddj9209.zip - version 21\n\tof Xsharp, with fast texture mapping.  There's lots more, including\n\tbibs, Graphics Gems I & II code, OFF, RTN, Radiance, NFF, SIPP, spline\n\tpatch intersection routines, textbook errata, source code from Roy\n\tHall's book \"Illumination and Color in Computer Generated Imagery\", etc\n\tgraphics/graphics/packages/kaleido - *kaleido*\n\tGeorge Kyriazis <kyriazis@turing.cs.rpi.edu>\n\nprinceton.edu [128.112.128.1]:  /pub/Graphics (note capital \"G\") - *Rayshade\n\t4.0 ray tracer (and separate 387 executable)*, *color quantization\n\tcode*, *SPD*, *RT News*, *Wilson's RT abstracts*, \"RT bib*, *Utah\n\tRaster Toolkit*, newer FBM, *Graphics Gems I, II & III code*.\n\t/pub/graphics directory - *SALEM* and other stuff.\n\tCraig Kolb <cek@princeton.edu>\n\t[replaces weedeater.math.yale.edu - note the capital \"G\" in\n\tpub/Graphics] Because there's a trouble with princeton's incoming\n\tarea, you can upload Rayshade-specific stuff to\n\tweedeater.math.yale.edu [128.36.23.17]\n\nalfred.ccs.carleton.ca [134.117.1.1]:  /pub/dkbtrace - *DKB ray tracer*,\n\t/pub/pov-ray/POV-Ray1.0 - *PVRay Compuserve group ray tracer (or PoV)*.\n\tDavid Buck <david_buck@carleton.ca>\n\navalon.chinalake.navy.mil [129.131.31.11]:  3D objects (multiple formats),\n\tutilities, file format documents.\n\tThis site was created to be a 3D object \"repository\" for the net.\n\tFrancisco X DeJesus <dejesus@archimedes.chinalake.navy.mil>\n\nomicron.cs.unc.edu [152.2.128.159]:  pub/softlab/CHVRTD - Chapel Hill\n\tVolume Rendering Test Datasets.\n\nftp.mv.com [192.80.84.1]: - Official DDJ FTP repository.\n\t*XSHARP*\n\npeipa.essex.ac.uk [155.245.115.161]: the Pilot European Image Processing\n\tArchive; in a directory ipa/synth or something like that, there are\n\timage synthesis packages.\n\tAdrian Clarke <alien@essex.ac.uk>\n\nbarkley.berkeley.edu [128.32.142.237] : tcl/extensions/tsipp3.0b.tar.Z -\n\t*Tcl-SIPP*\n\tMark Diekhans <markd@grizzly.com or markd@NeoSoft.com>\n\nacs.cps.msu.edu [35.8.56.90]: pub/sass - *X window fonts converter into\n\tRayshade 3.0 polygons*, Rayshade animation tool(s).\n\tRon Sass <sass@cps.msu.edu>\n\nhobbes.lbl.gov [128.3.12.38]: *Radiance* ray trace/radiosity package.\n\tGreg Ward <gjward@lbl.gov>\n\ngeom.umn.edu [128.101.25.31] : pub/geomview - *GEOMVIEW*\n\tContact (for GEOMVIEW): software@geom.umn.edu\n\nftp.arc.umn.edu [137.66.130.11] : pub/gvl.tar.Z - the latest version of Bob,\n\tIcol and Raz.  Source, a manual, man pages, and binaries for\n\tIRIX 4.0.5 are included (Bob is a real time volume renderer)\n\tpub/  contains also many volume datasets.\n\tKen Chin-Purcell <ken@ahpcrc.umn.edu>\n\nftp.kpc.com [144.52.120.9] : /pub/graphics/holl91 - Steve Hollasch's\n\tThesis, /pub/graphics/ray4 - *RAY4*, /pub/graphics/wire4 - *WIRE4*.\n\t/pub/mirror/avalon - mirror of avalon's 3D objects repository.\n\tSteve Hollasch <hollasch@kpc.com>\n\nswedishchef.lerc.nasa.gov [139.88.54.33] : programs/hollasch-4d - RAY4,\n\tSGI Explorer modules and Postscript manual, etc.\n\nzamenhof.cs.rice.edu [128.42.1.75] : pub/graphics.formats - Various electronic\n\tdocuments about many object and image formats.\n\tMark Hall <foo@cs.rice.edu>\n\twill apparently no longer be maintaining it, see ftp.ncsa.uiuc.edu.\n\nrascal.ics.utexas.edu [128.83.144.1]:  /misc/mac/inqueue - VISION-3D facet\n\tbased modeller, can output RayShade and Radiance files.\n\nftp.ncsa.uiuc.edu [141.142.20.50] :  misc/file.formats/graphics.formats -\n\tcontains various image- and object-format descriptions.  Many SciVi\n\ttools in various directories, e.g.  SGI/Alpha-shape/Alvis-1.0.tar.Z -\n\t3D alpha-shape visualizer (SGI machines only),\n\tSGI/Polyview3.0/polyview.Z - interactive visualization and analysis of\n\t3D geometrical structures.\n\tQuincey Koziol <koziol@ncsa.uiuc.edu>\n\ntucana.noao.edu [140.252.1.1] : /iraf - the IRAF astronomy package\n\nftp.ipl.rpi.edu [128.113.14.50]:  sigma/erich - SPD images and Haines thesis\n\timages.  pub/images - various 24 and 8 bit image stills and sequences.\n\tKevin Martin <sigma@ipl.rpi.edu>\n\nftp.psc.edu [128.182.66.148]:  pub/p3d - p3d_2_0.tar P3D lispy scene\n\tlanguage & renderers.  Joel Welling <welling@seurat.psc.edu>\n\nftp.ee.lbl.gov [128.3.254.68]: *pbmplus.tar.Z*, RayShade data files.\n\tJef Poskanzer <jef@ace.ee.lbl.gov>\n\ngeorge.lbl.gov [128.3.196.93]: pub/ccs-lib/ccs.tar.Z - *CCS (Complex\n\tConversion System), a standard software interface for image processing*\n\nhanauma.stanford.edu [36.51.0.16]: /pub/graphics/Comp.graphics - best of\n\tcomp.graphics (very extensive), ray-tracers - DBW, MTV, QRT, and more.\n\tJoe Dellinger <joe@hanauma.stanford.edu>\n\nftp.uu.net [192.48.96.2]:  /graphics - *IRIT*, RT News back issues (not\n\tcomplete), NURBS models, other graphics related material.\n\t/graphics/jpeg/jpegsrc.v?.tar.Z - Independent JPEG Group package for\n\treading and writing JPEG files.\n\nfreebie.engin.umich.edu [141.212.68.23]:  *Utah Raster Toolkit*,\n\tSpencer Thomas <thomas@eecs.umich.edu>\n\nexport.lcs.mit.edu [18.24.0.12] : /contrib - pbmplus, Image Magick, xloadimage,\n\txli, xv, Img, lots more.  /pub/R5untarred/mit/demos/gpc - NCGA Graphics\n\tPerformance Characterization (GPC) Suite.\n\nlife.pawl.rpi.edu [128.113.10.2]: /pub/ray - *Kyriazis stochastic Ray Tracer*.\n\tGeorge Kyriazis <kyriazis@turing.cs.rpi.edu>\n\ncs.utah.edu [128.110.4.21]: /pub - Utah raster toolkit, *NURBS databases*.\n\tJamie Painter <jamie@cs.utah.edu>\n\ngatekeeper.dec.com [16.1.0.2]:  /pub/DEC/off.tar.Z - *OFF models*,\n\tAlso GPC Benchmark files (planned, but not checked).\n\tRandi Rost <rost@kpc.com>\n\nhubcap.clemson.edu [130.127.8.1]:  /pub/amiga/incoming/imagine - stuff for the\n\tAmiga Imagine & Turbo Silver ray tracers.  /pub/amiga/TTDDDLIB -\n\t*TTDDDLIB* /pub/amiga/incoming/imagine/objects - MANY objects.\n\tGlenn Lewis <glewis@pcocd2.intel.com>\n\npprg.eece.unm.edu [129.24.24.10]:  /pub/khoros - *Khoros image processing\n\tpackage (huge, but great)*.\n\tDanielle Argiro <danielle@bullwinkle.unm.edu>\n\nexpo.lcs.mit.edu [18.30.0.212]:  contrib - *PBMPLUS portable bitmap package*,\n\t*poskbitmaptars bitmap collection*, *Raveling Img*, xloadimage.  Jef\n\tPoskanzer <jef@well.sf.ca.us>\n\nvenera.isi.edu [128.9.0.32]:  */pub/Img.tar.z and img.tar.z - some image\n\tmanipulation*, /pub/images - RGB separation photos.\n\tPaul Raveling <raveling@venera.isi.edu>\n\nucsd.edu [128.54.16.1]:  /graphics - utah rle toolkit, pbmplus, fbm,\n\tdatabases, MTV, DBW and other ray tracers, world map, other stuff.\n\tNot updated much recently.\n\ncastlab.engr.wisc.edu [128.104.52.10]:  /pub/x3d.2.2.tar.Z - *X3D*\n\t/pub/xdart.1.1.* - *XDART*\n\tMark Spychalla <spy@castlab.engr.wisc.edu>\n\nsgi.com [192.48.153.1]:  /graphics/tiff - TIFF 6.0 spec & *LIBTIFF* software\n\tand pics.  Also much SGI- and GL-related stuff (e.g. OpenGL manuals)\n\tSam Leffler <sam@sgi.com>\n\t[supercedes okeeffe.berkeley.edu for the LIBTIFF stuff]\n\nsurya.waterloo.edu [129.97.129.72]: /graphics - FBM, ray tracers\n\nftp.sdsc.edu [132.249.20.22]: /sdscpub - *SDSC*\n\nftp.brl.mil [128.63.16.158]: /brl-cad - information on how to get the\n\tBRL CAD package & ray tracer.  /images - various test images.\n\tA texture library has also begun here.\n\tLee A. Butler <butler@BRL.MIL>\n\ncicero.cs.umass.edu [128.119.40.189]:  /texture_temp - 512x512 grayscale\n\tBrodatz textures,\n\tfrom Julien Flack <julien@scs.leeds.ac.uk>.\n\nkarazm.math.uh.edu [129.7.7.6]:  pub/Graphics/rtabs.shar.12.90.Z - *Wilson's\n\tRT abstracts*, VM_pRAY.\n\tJ. Eric Townsend <jet@karazm.math.uh.edu or jet@nas.nasa.gov>\n\nftp.pitt.edu [130.49.253.1]:  /users/qralston/images - 24 bit image archive\n\t(small).  James Ralston Crawford <qralston@gl.pitt.edu>\n\nftp.tc.cornell.edu [128.84.201.1]: /pub/vis - *VREND*\n\nsunee.waterloo.edu [129.97.50.50]: /pub/raytracers - vivid, *REND386*\n\t[or sunee.uwaterloo.ca]\n\narchive.umich.edu [141.211.164.153]: /msdos/graphics - PC graphics stuff.\n\t/msdos/graphics/raytrace - VIVID2.\n\napple.apple.com [130.43.2.2?]:  /pub/ArchiveVol2/prt.\n\nresearch.att.com [192.20.225.2]: /netlib/graphics - *SPD package*, ~/polyhedra -\n\t*polyhedra databases*.  (If you don't have FTP, use the netlib\n\tautomatic mail replier:  UUCP - research!netlib, Internet -\n\tnetlib@ornl.gov.  Send one line message \"send index\" for more info,\n\t\"send haines from graphics\" to get the SPD)\n\nsiggraph.org [128.248.245.250]: SIGGRAPH archive site.\n\tpublications - *Online Bibliography Project*, Conference proceedings\n\tin various electronic formats (papers, panels), SIGGRAPH Video Review\n\tinformation and order forms.\n\tOther stuff in various directories.\n\tAutomatic mailer is archive-server@siggraph.org (\"send index\").\n\nftp.cs.unc.edu [128.109.136.159]: pub/reaction_diffusion - Greg Turk's work on\n\treaction-diffusion textures, X windows code (SIGGRAPH '91)\n\navs.ncsc.org [128.109.178.23]:  ~ftp/VolVis92 - Volume datasets from the\n\tBoston Workshop on Volume Visualization '92.  This site is also the\n\tInternational AVS Center.\n\tTerry Myerson <tvv@ncsc.org>\n\nuvacs.cs.virginia.edu [128.143.8.100]:  pub/suit/demo/{sparc,dec,etc} - SUIT\n\t(Simple User Interface Toolkit).  \"finger suit@uvacs.cs.virginia.edu\"\n\tto get detailed instructions.\n\nnexus.yorku.ca [130.63.9.66]: /pub/reports/Radiosity_code.tar.Z - *RAD*\n\t/pub/reports/Radiosity_thesis.ps.Z - *RAD MSc. Thesis*\n\t[This site will be changed to ftp.yorku.ca in the near future]\n\nmilton.u.washington.edu [128.95.136.1] - ~ftp/public/veos - VEOS Virtual\n\tReality and distributed applications prototyping environment\n\tfor Unix. Veos Software Support : veos-support@hitl.washington.edu\n        oldpublic/fly - FLY! 3D Visualization Software demo.\n        That package is built for \"fly-throughs\" from various datasets in\n        near real-time. There are binaries for many platforms.\n\tAlso, much other Virtual Reality stuff.\n\nzug.csmil.umich.edu [141.211.184.2]: X-Xpecs 3D files (an LCD glass shutter\n\tfor Amiga computers - great for VR stuff!)\n\nsugrfx.acs.syr.edu [128.230.24.1]: Various stereo-pair images.\n[ Has closed down :-( ]\n\nsunsite.unc.edu [152.2.22.81]: /pub/academic/computer-science/virtual-reality -\n\tFinal copy of the sugrfx.acs.syr.edu archive that ceased to exist.\n\tIt contains Powerglove code, VR papers, 3D images and IRC research\n\tmaterial.\n\tJonathan Magid <jem@sunSITE.unc.edu>\n\narchive.cis.ohio-state.edu [128.146.8.52]: pub/siggraph92 - Code for\n\tSiggraph '92 Course 23 (Procedural Modeling and Rendering Techniques)\n\tDr. David S. Ebert <ebert@cis.ohio-state.edu>\n\nlyapunov.ucsd.edu [132.239.86.10]: This machine is considered the\n\trepository for preprints and programs for nonlinear dynamics,\n\tsignal processing, and related subjects  (and fractals, of course!)\n\tMatt Kennel <mbk@inls1.ucsd.edu>\n\ncod.nosc.mil [128.49.16.5]: /pub/grid.{ps,tex,ascii} - a short survey of\n\tmethods to interpolate and contour bivariate data\n\nics.uci.edu [128.195.1.1]: /honig --- Various stereo-pair images,\n\tmovie.c - animates a movie on an X display (8-bit and mono) with\n\tdigital subtraction.\n\ntaurus.cs.nps.navy.mil [131.120.1.13]: pub/dabro/cyberware_demo.tar.Z - Human\n\thead data\n\npioneer.unm.edu [129.24.9.217]:  pub/texture_maps - Hans du Buf's grayscale\n\ttest textures (aerial swatches, Brodatz textures, synthetic swatches).\n\tSpace & planetary image repository.  Provides access to >150 CD-ROMS\n\twith data/images (3 on-line at a time).\n        pub/info/beginner-info - here you should start browsing.\n        Colby Kraybill <opus@pioneer.unm.edu>.\n\ncs.brown.edu [128.148.33.66] : *SRGP/SPHIGS* . For more info on SRGP/SPHIGS:\n         mail -s 'software-distribution' graphtext@cs.brown.edu\n\npdb.pdb.bnl.gov [130.199.144.1] has data about various organic molecules,\n       bonds between the different atoms, etc.\n       Atomic coordinates (and a load of other stuff) are contained in the\n       \"*.ent\" files, but the actual atomic dimemsions seem to be missing.\n       You could convert these data to PoV, rayshade, etc.\n\nbiome.bio.ns.ca [142.2.20.2] : /pub/art - some Renoir paintings,\n        Escher's pictures, etc.\n\nic16.ee.umanitoba.ca [] : /specmark - sample set of images from the\n        `Images from the Edge' CD-ROM (images of atomic landscapes, advanced\n        semiconductors, superconductors and experimental surface\n        chemistry among others). Contact ruskin@ee.umanitoba.ca\n\nexplorer.dgp.toronto.edu [128.100.1.129] : pub/sgi/clrpaint - *CLRpaint*\n        pub/sgi/clrview.* - CLRview, a tool that aids in visualization\n        of GIS datasets in may formats like DXF, DEM, Arc/Info, etc.\n\names.arc.nasa.gov [128.102.18.3]: pub/SPACE/CDROM - images from Magellan\n        and Viking missions etc. Get pub/SPACE/Index first.\n        pub/SPACELINK has most of the SpaceLink service data (see below)\n        e-mail server available: send mail to archive-server@ames.arc.nasa.gov\n        (or ames!archive-server) with subject:\"help\"\n        or \"send SPACE Index\" (without the quotes!)\n        Peter Yee <yee@ames.arc.nasa.gov>\n\npubinfo.jpl.nasa.gov [128.149.6.2]: images, other data, etc. from JPL\n        missions. Modem access at (818)-354-1333 (no parity, 8 data bits, 1\n        stop bit).\n        newsdesk@jplpost.jpl.nasa.gov or phone (818)-354-7170\n\nspacelink.msfc.nasa.gov [128.158.13.250] (passwd:guest) : space graphics\n        and GIF images from NASA's planetary probes and the Hubble Telescope.\n        Main function is support for teachers (you can telnet also to this\n        site). Dial up access: (205)-895-0028 (300/1200/2400/9600(V.32) baud,\n        8 bits, no parity, 1 stop bit).\n\nstsci.edu [130.167.1.2] : Hubble Space Telescope stuff (images and other\n        data). Read the README first!\n        Pete Reppert <reppert@stsci.edu> or Chris O'Dea <odea@stsci.edu>\n\npit-manager.mit.edu [18.172.1.27]:  /pub/usenet/news.answers - the land of\n\tFAQs.  graphics and pictures directories of particular interest.\n\t[Also available from mail-server@pit-manager.mit.edu by sending a mail\n\tmessage containing: help]\n\nUUCP archive: avatar - RT News back issues.  For details, write Kory Hamzeh\n\t<kory@avatar.avatar.com>\n\n\nEUROPE:\n-------\n\nnic.funet.fi [128.214.6.100]:  *pub/sci/papers - *Paper bank project,\n\tincluding Pete Shirley's entire thesis (with pics)*, *Wilson's RT\n\tabstracts*, pub/misc/CIA_WorldMap - CIA world data bank,\n\tcomp.graphics.research archive, *India*, and much, much more.\n\tJuhana Kouhia <jk87377@cs.tut.fi>\n\ndasun2.epfl.ch [128.178.62.2]:  Radiance. Good for European sites, but\n\tdoesn't carry the add-ons that are available for Radiance.\n\nisy.liu.se [130.236.1.3]:  pub/sipp/sipp-3.0.tar.Z - *SIPP* scan line z-buffer\n\tand Phong shading renderer.  Jonas Yngvesson <jonas-y@isy.liu.se>\n\nirisa.fr [131.254.2.3]:  */iPSC2/VM_pRAY ray tracer*, SPD, /NFF - many non-SPD\n\tNFF format scenes, RayShade data files.  Didier Badouel\n\t<badouel@irisa.irisa.fr> [may have disappeared]\n\nphoenix.oulu.fi [130.231.240.17]:  *FLI RayTracker animation files (PC VGA) -\n\talso big .FLIs (640*480)* *RayScene demos* [Americans:  check wuarchive\n\tfirst].  More animations to come.  Jari Kahkonen\n\t<hole@phoenix.oulu.fi>\n\njyu.fi [128.214.7.5]: /pub/graphics/ray-traces - many ray tracers, including\n\tVM_pRAY, DBW, DKB, MTV, QRT, RayShade, some RT News, NFF files.  Jari\n\tToivanen <toivanen@jyu.fi>\n\ngarbo.uwasa.fi [128.214.87.1]:  Much PC stuff, etc., /pc/source/contour.f -\n\tFORTRAN program to contour scattered data using linear triangle-based\n\tinterpolation\n\nasterix.inescn.pt [192.35.246.17]:  pub/RTrace - *RTrace* nffutils.tar.Z (NFF\n\tutilities for RTrace), medical data (CAT, etc.)  converters to NFF,\n\tAutocad to NFF Autolisp code, AUTOCAD 11 to SCN (RTrace's language)\n\tconverter and other goodies.  Antonio Costa (acc@asterix.inescn.pt)\n\nvega.hut.fi [128.214.3.82]: /graphics - RTN archive, ray tracers (MTV, QRT,\n\tothers), NFF, some models.\n[ It was shut down months ago , check under nic.funet.fi -- nfotis ]\n\nsun4nl.nluug.nl [192.16.202.2]: /pub/graphics/raytrace - DBW.microray, MTV, etc\n\nunix.hensa.ac.uk [] : misc/unix/ralcgm/ralcgm.tar.Z - CGM viewer and\n        converter.\n        There's an e-mail server also - mail to archive@unix.hensa.ac.uk\n        with the message body \"send misc/unix/ralcgm/ralcgm.tar.Z\"\n\nmaeglin.mt.luth.se [130.240.0.25]:  graphics/raytracing - prt, others, ~/Doc -\n\t*Wilson's RT abstracts*, Vivid.\n\nftp.fu-berlin.de [130.20.225.2]:  /pub/unix/graphics/rayshade4.0/inputs -\n\taq.tar.Z is RayShade aquarium [Americans:  check princeton.edu first).\n\tHeiko Schlichting <heiko@math.fu-berlin.de>\n\nmaggia.ethz.ch [129.132.17.1]: pub/inetray - *Inetray* and Sun RPC 4.0 code\n\tAndreas Thurnherr <ant@ips.id.ethz.ch>\n\nosgiliath.id.dth.dk [129.142.65.24]:  /pub/amiga/graphics/Radiance - *Amiga\n\tport of Radiance 2.0*.  Per Bojsen <bojsen@ithil.id.dth.dk>\n\nftp.informatik.uni-oldenburg.de [134.106.1.9] : *PoV raytracer*\n        Mirrored in wuarchive, has many goods for PoV.\n\tpub/dkbtrace/incoming/polyray - Polyray raytracer\n        pub/dkbtrace/incoming/pv3d* - *PV3D*\n\nftp.uni-kl.de [131.246.9.95]: /pub/amiga/raytracing/imagine - mirror of\n\tthe hubcap Imagine files.\n\nneptune.inf.ethz.ch [129.132.101.33]: XYZ - *XYZ GeoBench*\n\tPeter Schorn <schorn@inf.ethz.ch>\n\niamsun.unibe.ch [130.92.64.10]: /Graphics/graphtal* - a L-system interpreter.\n\tChristoph Streit <streit@iam.unibe.ch>\n\namiga.physik.unizh.ch [130.60.80.80]: /amiga/gfx - Graphics stuff\n\tfor the Amiga computer.\n\nstesis.hq.eso.org [134.171.8.100]: on-line access to a huge astronomical\n        database. (login:starcat;no passwd)\n        DECnet:STESIS (It's the Space Telescope European Coordination Facility)\n        Benoit Pirenne <bpirenne@eso.org>, phone +49 89 320 06 433\n\n\nMIDDLE EAST\n-----------\n\ngauss.technion.ac.il [132.68.112.60]: *kaleida*\n\n\nAUSTRALIA:\n----------\n\ngondwana.ecr.mu.oz.au [128.250.70.62]: pub - *VORT(ART) ray tracer*, *VOGLE*,\n\tWilson's ray tracing abstracts, /pub/contrib/artscenes (ART scenes from\n\tItaly), pub/images/haines - Haines thesis images, Graphics Gems code,\n\tSPD, NFF & OFF databases, NFF and OFF previewers, plus some 8- and\n\t24bit images and lots of other stuff.  pub/rad.tar.Z - *SGI_RAD*\n\tBernie Kirby <bernie@ecr.mu.oz.au>\n\nmunnari.oz.au [128.250.1.21]:  pub/graphics/vort.tar.Z - *VORT (ART) 2.1 CSG and\n\talgebraic surface ray tracer*, *VOGLE*, /pub - DBW, pbmplus.  /graphics\n\t- room.tar.Z (ART scenes from Italy).\n\tDavid Hook <dgh@munnari.oz.au>\n\nmarsh.cs.curtin.edu.au [134.7.1.1]: pub/graphics/bibliography/Facial_Animation,\n\tpub/graphics/bibliography/Morph, pub/graphics/bibliography/UI -\n\tstuff about Facial animation, Morphing and User Interfaces.\n\tpub/fascia - Fred Parke's fascia program.\n\tValerie Hall <val@lillee.cs.curtin.edu.au>\n\n\nOCEANIA - ASIA:\n---------------\n\nccu1.aukland.ac.nz [130.216.1.5]:  ftp/mac/architec - *VISION-3D facet\n\tbased modeller, can output RayShade files*.  Many other neat things\n\tfor Macs.  Paul Bourke <pdbourke@ccu1.aukland.ac.nz>\n\nscslwide.sony.co.jp [133.138.199.1]:  ftp2/SGI/Facial-Animation - Steve Franks\n\tsite for facial animation.\n \tSteve Franks <stevef@csl.sony.co.jp OR stevef@cs.umr.edu>\n\n\n4. Mail servers and graphics-oriented BBSes\n===========================================\n\nPlease check first with the FTP places above, with archie's help.\nDon't overuse mail servers.\n\nThere are some troubles with wrong return addresses. Many of these\nmail servers have a command like\n   path a_valid_return_e-mail_address\nto get a hint for sending back to you stuff.\n\nDEC's FTPMAIL\n-------------\n  Send a one-line message to ftpmail@decwrl.dec.com WITHOUT a Subject: field,\n  and having a line containing the word 'help'.\n  You should get back a message detailing the relevant procedures you\n  must follow in order to get the files you want.\n\n  Note that the \"reply\" or \"answer\" command in your mailer will not work\n  for this message or any other mail you receive from FTPMAIL.  To send\n  requests to FTPMAIL, send an original mail message, not a reply.\n  Complaints should be sent to the ftpmail-request@uucp-gw-2.pa.dec.com\n  address rather than to postmaster, since DECWRL's postmaster is not\n  responsible for fixing ftpmail problems.\n\nBITFTP\n------\n  For BITNET sites ONLY, there's BITFTP@PUCC.\n  Send a one-line 'help' message to this address for more info.\n\nLightwave 3D mail based file-server\n-----------------------------------\n  A mail based file server for 3D objects, 24bit JPEG images, GIF images\n  and image maps is now online for all those with Internet mail access.\n  The server is the official archive site for the Lightwave 3D mail-list\n  and contains many PD and Shareware graphics utilities for\n  several computer platforms including Amiga, Atari, IBM and Macintosh.\n\n  The server resides on a BBS called \"The Graphics BBS\".  The BBS is\n  operational 24 hours a day 7 days a week at the phone number of +1\n  908/469-0049.  It has upgraded its modem to a Hayes Ultra 144\n  V.32bis/V.42bis, which has speeds from 300bps up to 38,400bps.\n\n  If you would like to submit objects, scenes or images to the server,\n  please pack, uuencode and then mail the files to the address:\n  server@bobsbox.rent.com.\n\n  For information on obtaining files from the server send a mail message\n  to the address file-server@graphics.rent.com with the following in\n  the body of the message:\n    HELP\n    /DIR\n  And a help file describing how to use the server and a complete\n  directory listing will be sent to you via mail.\n\n[ Now it includes the Cyberware head and shouders in TTDDD format! Check it\n out, only if you can't use FTP! -- nfotis ]\n\nINRIA-GRAPHLIB\n--------------\n  Pierre Jancene and Sabine Coquillart launched the inria-graphlib mail\n  server a few months ago.\n\n    echo help | mail inria-graphlib@inria.fr\n\n  will give you a quick summary of what inria-graphlib contains and \n  how to browse among its files.\n\n    echo send contents | mail inria-graphlib@inria.fr\n\n  will return the extended summary.\n\n  As an other example :\n\n    echo send cgrl from Misc | mail inria-graphlib@inria.fr\n\n  will return the Computer Graphics Resource Listing mirrored from\n  comp.graphics.\n\nBBSes\n-----\n  There are many BBSes that store datafiles, etc.etc., but a guide to these\n  is beyond the scope of this Listing (and the resources of the author!)\n  If you can point to me Internet- or mail- accessible BBSes that carry\n  interesting stuff, send me info!\n\n\n  Studio Amiga is a 3D modelling and ray tracing specific BBS, (817) 467-3658.\n  24 hours, 105 Meg online.\n--\nFrom Jeff Walkup <pwappy@well.sf.ca.us>:\n  \"The Castle\" 415/355-2396 (14.4K/v.32bis/v.42/v.42bis/MNP)\n  (In Pacifica, dang close to San Francisco, California, USA)\n  The new-user password is: \"TAO\".\n  \n  [J]oin base #2; The Castle G/FX, Anim, Video, 3D S.I.G., of which\n  I am the SIG-Op, \"Lazerus\".\n--\n  Bob Lindabury operates a BBS (see above the entry for \"The Graphics BBS\")\n--\n'You Can Call Me Ray' ray tracing related BBS in Chicago suburbs (708-358-5611)\n or (708-358-8721)\n--\n  Digital Pixel (Sysop: Mark Ng <mcng@descartes.waterloo.edu>) is based at\n  Toronto, Ontario, Canada.\n \n  Phone : (416) 298 1487\n  Storage space: 330 megs\n  Modem type:  14.4k baud,16.8k (Zyxel) , v32bis ,v32, mnp 5\n\n  Access Fee: none.. (free)\n  System supported : DOS, OS/2, Amiga, Mac.  \n  Netmail:     Currently no echo mail.\n  Topics:      Raytracing, Fractals, Graphics programming, CAD, Any Comp.\n               Graphics related  \n\n--\nFrom: David Tiberio <dtiberio@ic.sunysb.edu>\n\n  Amiga Graphics BBS (516) 473-6351 in Long Island, New York,\n  running 24 hours at 14.4k v.32bis, with 157 megs on line.\n  We also subscribe to 9 mailing lists, of which 5 originate\n  from our BBS, with 3 more to be added soon. These include:\n\n  Lightwave, Imagine, Real 3D (ray tracing)\n\n  Database files include:\n  Imagine 3D objects, 3D renderings, scalable fonts, music\n  modules, sound samples, demos, animations, utilities,\n  text databases, and pending Lightwave 3D objects.\n--\nThe Graphics Alternative\n\n The Graphics Alternative is in El Cerrito, CA., running 24 hours a\n day at 14.4k HST/v.32bis, with 642MB online and a 1300+ user base.\n TGA runs two nodes, node 1 (510) 524-2780 is for public access and\n includes a free 90 day trial subscription.  TGA is the West Coast\n Host for PCGnet, The Profesional CAD and Graphics Network, supporting\n nodes across the Continental U.S., Alaska, New Zealand, Australia,\n France and the UK.\n \n TGA's file database includes MS-DOS executables for POV, Vivid,\n RTrace, Rayshade, Polyray, and others.  TGA also has numerous\n graphics utilities, viewers, and conversion utilities.  Registered\n Vivid users can also download the latest Vivid aeta code from a\n special Vivid conference.\n\n--\nFrom: Scott Bethke <sbathkey@access.digex.com>\n\nThe Intersection BBS, 410-250-7149.\n\n  This BBS Is dedicated to supporting 3D Animators.The system is provided\n  FREE OF CHARGE, and is NOT Commercialized in ANYWAY.\n  Users are given FULL Access on the first call.\n\nFeatures: Usenet NEWS & Internet Mail, Fidonet Echo's & Netmail,\n\t200 Megs online, V.32bis/V.42bis Modem.\n\nPlatforms of interest: Amiga & The VideoToaster, Macintosh, Ms-Dos,\n\tUnix Workstations (Sun, SGI, etc), Atari-ST.\n--\nFrom: Alfonso Hermida <afanh@robots.gsfc.nasa.gov>:\n\n Pi Square BBS (301)725-9080 in Maryland. It supports raytracers such as POV\n and VIVID. The BBS runs off a 486/33Mhz, 100Megs hard drive and CD ROM.\n Now it runs on 1200-2400bps (this will change soon)\n\n Topics: graphics programming, animation,raytracing,programming (general)\n--\nFrom: Lynn Falkow <ROXXIE@delphi.com>:\n\n  Vertech Design's GRAPHIC CONNECTION. (503) 591-8412 in Portland, Oregon.\n  V.32/V.42bis.\n\n  The BBS, aside from carrying typical BBS services like message bases\n  ( all topic specific ) and files ( CAD and graphics related -- hundreds\n  of megabytes ), also offers material texture files that are full color,\n  seamlessly tiling, photo-realistic images.  There are samples available\n  to first time callers.  The BBS is a subscription system although callers\n  have 2 hours before they must subscribe, and there are several subscription\n  rates available.   People interested in materials can subscribe to the\n  library in addition to a basic subscription rate, and can use their\n  purchased time to download whichever materials they wish.\n\n==========================================================================\n\n5. Ray-tracing/graphics-related mailing lists\n=============================================\n\nImagine\n-------\n  Modeling and animation system for the Amiga:\n  send subscription requests to Imagine-request@email.sp.paramax.com\n  send material to Imagine@email.sp.paramax.com\n  (Dave Wickard has substituted Steve Worley in the maintenance of\n  the mailing list) - PLEASE note that the unisys.com address is\n  NO longer valid!!!\n\nLightwave\n---------\n  (for the Amiga. It's part of Newtek's Video Toaster):\n  send subscription requests to lightwave-request@bobsbox.rent.com\n  send material to lightwave@bobsbox.rent.com\n  (Bob Lindabury)\n\nToaster\n-------\n  send subscription requests to listserv@karazm.math.uh.edu with a *body* of:\n     subscribe toaster-list\n\nReal 3D\n-------\n  Another modeling and animation system for the Amiga:\n  To subscribe, send a mail containing the body\n\n  subscribe real3d-l <Your full name>\n\n  to listserv@gu.uwa.edu.au\n\nRayshade\n--------\n  send subscription requests to rayshade-request@cs.princeton.edu\n  send material to rayshade-users@cs.princeton.edu\n  (Craig Kolb)\n\nAlladin 4D for the Amiga\n----------\n  send subscription requests to subscribe@xamiga.linet.org\n\n  and in the body of the message write\n\n  #Alladin 4D username@domain\n\nRadiance\n--------\n  Greg Ward, the author, sends to registered (via e-mail) users digests of\n  his correspodence with them, notes about fixes, updates, etc.\n  His address is: gjward@lbl.gov\n\nREND386\n-------\n  send subscription requests to rend386-request@sunee.waterloo.edu\n  send material to rend386@sunee.waterloo.edu\n\nPoV ray / DKB raytracers\n------------------------\n  To subscribe, send a mail containing the body\n\n  subscribe dkb-l <Your full name>\n\n  to listserv@trearn.bitnet\n\n  send material to dkb-l@trearn.bitnet\n\nMailing List for Massively Parallel Rendering\n---------------------------------------------\n  send subscription requests to mp-render-request@icase.edu\n  send material to mp-render@icase.edu\n\n==========================================================================\n\n6. 3D graphics editors\n======================\n\na. Public domain, free and shareware systems\n============================================\n\nVISION-3D\n---------\n  Mac-based program written by Paul D. Bourke (pdbourke@ccu1.aukland.ac.nz).\n  The program can be used to generate models directly in the RayShade\n  and Radiance file formats (polygons only).\n  It's shareware and listed on the FTP list.\n\nBRL\n---\n  A solid modeling system for most environments -- including SGI and X11.\n  It has CSG and NURBS, plus support for Non-Manifold Geometry\n  [Whatever it is].\n\n  You can get it *free* via FTP by signing and returning the relevant license,\n  found on ftp.brl.mil. Uses ray-tracing for engineering analyses.\n\n  Contact:\n\n  Ms. Carla Moyer\n  (410)-273-7794 tel.\n  (410)-272-6763 FAX\n  cad-dist@brl.mil E-mail\n\n  Snail mail:\n\n  BRL-CAD Distribution\n  SURVIAC Aberdeen Satellite Office 1003\n  Old Philadelphia Road,\n  Suite 103 Aberdeen\n  MD  21001  USA\n\nIRIT\n----\n  A constructive solid geometry (CSG) modeling program for PC and X11.\n  Includes freeform surface support. Free - see FTP list for where to\n  find it.\n\nSurfModel\n---------\n  A solid modeling program for PC written in Turbo Pascal 6.0 by\n  Ken Van Camp. Available from SIMTEL, pd1:<msdos.srfmodl> directory.\n\nNOODLES\n-------\n   From CMU, namely Fritz Printz and Levent Gursoz (elg@styx.edrc.cmu.edu).\n   It's based on Non Manifold Topology.\n   Ask them for more info, I don't know if they give it away.\n\nXYZ2\n----\n  XYZ2 is an interactive 3-D editor/builder written by Dale P. Stocker to\n  create objects for the SurfaceModel, Automove, and DKB raytracer packages.\n  XYZ2 is free and can be found, for example, in SIMTEL20 as\n  <MSDOS.SURFMODL>XYZ21.ZIP (DOS only??)\n\n3DMOD\n-----\n  It's an MSDOS program. Check at barnacle.erc.clarkson.edu [128.153.28.12],\n  /pub/msdos/graphics/3dmod.* . Undocumented file format :-(\n  3DMOD is (C) 1991 by Micah Silverman, 25 Pierrepoint Ave., Postdam,\n  New York 13676, tel. 315-265-7140\n\nNORTHCAD\n--------\n  Shareware, <MSDOS.CAD>NCAD3D42.ZIP in SIMTEL20. Undocumented file format :-(\n\nVertex\n------\n  (Amiga)\n  Shareware, send $40 US (check or money order) to:\n\n  The Art Machine, 4189 Nickolas\n  Sterling Heights, MI  48310\n  USA\n\n  In addition to the now standard file formats, including Lightwave,\n  Imagine, Sculpt, Turbo Silver, GEO and Wavefront, this release offers\n  3D Professional and RayShade support. (Rayshade is supported only by\n  the primitive \"triangle\", but you can easily include this output in\n  your RayShade scripts)\n\n  The latest demo, version 1.62, is available on Fred Fish #727.\n\n  For more information, contact the author, Alex Deburie, at:\n\n  ad99s461@sycom.mi.org, Phone: (313) 939-2513\n  \n\nICoons\n------\n  (Amiga)\n  It's a spline based object modeller (\"ICoons\" = Interactive \n  COONS path editor) in amiga.physik.unizh.ch (gfx/3d/ICoons1.0.lzh).\n  It's free (under the GNU Licence) and requires FPU.\n\n  The program has a look&feel which is a cross between Journeyman and\n  Imagine, and it generates objects in TTDDD format.\n\n  It is possible to load Journeyman objects into ICoons, so the program\n  can be used to convert JMan objects to Imagine format.\n\n  Author: Helge E. Rasmussen <her@compel.dk>\n  PHONE + 45 36 72 33 00, FAX   + 45 36 72 43 00\n\n[ It's also on Fred Fish disk series n.775 - nfotis ]\n\n\nProtoCAD 3D\n-----------\n Ver 1.1 from Trius (shareware?)\n\n It's at wsmr-simtel20.army.mil and oak.oakland.edu as PCAD3D.ZIP (for PCs)\n\n It has this menu layout:\n\n         FILE       File handling (Load, Save, Import, Xport...)\n         DRAW       Draw 2D objects (Line, Circle, Box...)\n         3D         Draw 3D objects (Mesh, Sphere, Block...)\n         EDIT       Editing features (Copy, Move ...)\n         SURFACE    Modify objects (Revolve, Xtrude, Sweep...)\n         IMAGE      Image zooming features (Update, Window, Half...)\n         OPTION     Global defaults (Grid, Toggles, Axis...)\n         PLOT       Print drawing/picture (Go, Image...)\n         RENDER     Shade objects (Frame, Lighting, Tune...)\n         LAYER      Layer options (Select active layer, set Colors...)\n\n+Sculptura\n+---------\n+  Runs under Windows 3.1, and outputs PoV files. A demo can be found\n+  on wuarchive.wustl.edu in mirrors/win3/demo/demo3d.zip\n+\n+  Author: Michael Gibson <gibsonm@stein.u.washington.edu>\n\n\nb. Commercial systems\n=====================\n\nAlpha_1\n-------\n  A spline-based modeling program written in University of Utah.\n  Features: splines up to trimmed NURBS; support for boolean operations;\n    sweeps, bending, warping, flattening etc.; groups of objects, and\n    transformations; extensible object types.\n  Applications include: NC machining, Animation utilities,\n    Dimensioning, FEM analysis, etc.\n  Rendering subsystem, with support for animations.\n  Support the following platforms: HP 300 and 800's (X11R4, HP-UX 6.5),\n    SGI 4D or PI machines (X11R4 and GL, IRIX 3.3.1), Sun SparcStation\n    (X11R4, SunOS 4.1.1).\n \n  Licensing and distribution is handled by EGS:\n    Glenn McMinn, President\n    Engineering Geometry Systems\n    275 East South Temple, Suite 305\n    Salt Lake City, UT  84111\n    (801) 575-6021\n    mcminn@cs.utah.edu\n\n [ Educational pricing ]\n  The charge is $675 per platform.  You may run the system on as many\n  different workstations of that type as you wish.  For each platform\n  there is also a $250 licensing fee for Portable Standard Lisp (PSL)\n  which is bundled with the system.  You need to obtain an additional\n  license from the University of Utah for PSL from the following address:\n    Professor Robert Kessler\n    Computer Science Department\n    University of Utah\n    Salt Lake City, Utah 84112\n\n  [ EGS can handle the licensing of PSL for U.S. institutions for a\n    300 $USD nominal fee -- nfotis ]\n\nVERTIGO\n-------\n\n  They have an Educational Institution Program. The package is used in\n  the industrial design, architectural, scientific visualization,\n  educational, broadcast, imaging and post production fields.\n\n  They'll [quoting from a letter sent to me -- nfotis ] \"donate fully\n  configured Vertigo 3D Graphics Software worth over $29,000USD per\n  package to qualified educational institutions for licencing on any\n  number of Silicon Graphics Personal IRIS or POWER Series Workstations.\n  If you use an IRIS Indigo station, we will also licence our Vertigo\n  Revolution Software (worth $12,000USD).\n\n  If you are interested in participating in this program please send a\n  letter by mail or fax (604/684-2108) on your institution's letterhead\n  briefly outlining your potential uses for Vertigo together with the\n  following information: 1. UNIX version 2. Model and number of SGI\n  systems 3. Peripheral devices 4. Third Party Software.\n\n  Participants will be asked to contribute $750USD per institution to cover\n  costs of the manual, administration, and shipping.\n\n  We recommend that Vertigo users subscribe to our technical support\n  services. For an annual fee you will receive: technical assistance\n  on our support hotline, bug fixes, software upgrades and manual updates.\n  For educational institution we will waive the $750 administration fee\n  if support is purchased.\n\n  The annual support fee is $2,500 plus the following cost for additional\n  machines:\n\n  Number of machines:\t\t2-20\t\t20+\n  Additional cost per machine:\t$700\t\t$600 \"\n\n[ There's also a 5-day training program - nfotis]\n\nContact:\n  Vertigo Technology INC\n  Suite 1010\n  1030 West Georgia St.\n  VANCOUVER, BC\n  CANADA, V6E 2Y3\n\n  Phone: 604/684-2113\n  Fax:   604/684-2108\n\n[ Does anyone know of such offers from TDI, Alias, Softimage, Wavefront,\n  etc.??? this would be a VERY interesting part!!  -- nfotis ]\n\nPADL-2\n------\n[ Basically, it's a Solid Modeling Kernel in top of which you build your\n  application(s)]\n\n  Available by license from\n    Cornell Programmable Automation\n    Cornell University\n    106 Engineering and Theory Center\n    Ithaca, NY 14853\n\n  License fees are very low for educational institutions and gov't agencies.\n  Internal commercial licenses and re-dissemination licenses are available.\n  For an information packet, write to the above address, or send your\n  address to:   marisa@cpa.tn.cornell.edu (Richard Marisa)\n\nACIS\n----\n  From Spatial Technology. It's a Solid Modelling kernel callable from C.\n  Heard that many universities got free copies from the company.\n  The person to contact regarding ACIS in academic institutions is\n\n    Scott Owens, e-mail: sdo@spatial.com\n\n  And their address is:\n\n  Spatial Technology, Inc.\n  2425 55th St., Bldg. A\n  Boulder, CO 80301-5704\n  Phone: (303) 449-0649, Fax: (303) 449-0926\n\nMOVIE-BYU / CQUEL.BYU\n---------------------\n  Basically [in my understanding], this is a FEM pre- and post-proccessor\n  system. It's fairly old today, but it still serves some people in\n  Mech. Eng. Depts.\n  Now it's superseded from CQUEL.BYU (pronounced \"sequel\"). That's a\n  complete modelling, animation and visualization package. Runs in the usual\n  workstation environments (SUN, DEC, HP, SGI, IBM RS6000, and others)\n  You can get a demo version (30-days trial period) either by sending $20\n  USD in their address or a blank tape. It costs 1,500 for a full run-time\n  licence.\n\n  Contact:\n\n  Engineering Computer Graphics Lab\n  368 Clyde Building, Brigham Young Univ.\n  Provo, UT 84602\n  Phone: 801-378-2812\n  E-mail: cquel@byu.edu\n\n\ntwixt\n-----\n  Soon to add stuff about it... If I get a reply to my FAX\n\nVOXBLAST\n--------\n  It's a volume renderer marketed by:\n  Vaytek Inc. (Fairfield, Iowa phone: 515-472-2227) , running on PCs\n  with 386+FPU at least.  Call Vaytek for more info.\n\nVoxelBox\n--------\n  A 3D Volume renderer for Windows. Features include direct\n  ray-traced volume rendering, color and alpha mapping,\n  gradient lighting, animation, reflections and shadows.\n\n  Runs on a PC(386 or higher) with at least an 8 bit video card(SVGA is fine)\n  under Windows 3.x. It costs $495.\n\n  Contact:\n\n  Jaguar Software Inc.\n  573 Main St., Suite 9B\n  Winchester, MA 01890\n  (617) 729-3659\n  jwp@world.std.com (john w poduska)\n\n==========================================================================\n\n7. Scene description languages\n==============================\n\nNFF\n---\n  Neutral file format , by Eric Haines. Very simple, there are some\n  procedural database generators in the SPD package, and many objects\n  floating in various FTP sites. There's also a previewer written in\n  HP Starbase from E.Haines. Also there's one written in VOGLE, so you can\n  use any of the devices VOGLE can output on.\n  (Check in sites carrying VOGLE, like gondwana.ecr.mu.oz.au)\n\nOFF\n---\n  Object file format, from DEC's Randy Rost (rost@kpc.com).\n[ The object archive server seems to be mothballed. In a future version,\n I'll remove the ref. to it -- nfotis ]\n\n  Available also through their mail server. To obtain help about using this\n  service, send a message with a \"Subject:\" line containing only the word\n  \"help\" and a null message body to: object-archive-server@decwrl.dec.com.\n  [For FTP places to get it, see in the relevant place]. There's an OFF\n  previewer for SGI 4D machines, called off-preview in\n  godzilla.cgl.rmit.oz.au . There are previewers for xview and sunview,\n  also on gondwana.\n\nTDDD\n----\nIt's a library of 3D objects with translators to/from OFF, NFF,\nRayshade, Imagine or vort objects.\nEdited copy of the announcement follows (from Raytracing News, V4,#3):\n\n  New Library of 3D Objects Available via FTP, by Steve Worley\n  (worley@cup.portal.com)\n\n  I have assembled a set of over 150 3D objects in a binary format\n  called TDDD. These objects range from human figures to airplanes,\n  from semi-trucks to lampposts.  These objects are all freely\n  distributable, and most have READMEs that describe them.\n\n  In order to convert these objects to a human-readable format, a file\n  with the specification of TDDD is included in the directory with the\n  objects. There is also a shareware system called TTDDDLIB (officially\n  on hubcap.clemson.edu) that will convert (ala PBM+) to/from various\n  object formats : Imagine TTDDD (extension of TDDD?), OFF, NFF,\n  Rayshade 4.0, or vort. Source included for Amiga/Unix as executables\n  for the Amiga. Also outputs Framemaker MIF files and isometric views\n  in Postscript.\n\nP3D\n---\n  From Pittsburgh Supercomputing Center. The P3D uses lisp with slight\n  extensions to store three-dimensional models. A simple lisp\n  interpreter is included with the P3D release, so there is no need to\n  have access to any vendor's lisp to run this software.\n\n  The mouse-driven user interfaces for Motif, Open Look, and Silicon\n  Graphics GL, and the DrawP3D subroutine library for generating P3D\n  without ever looking at the underlying Lisp.\n\n  The P3D software currently supports nine renderers.  They are:\n  Painter - Painter's Algorithm, Dore, Silicon Graphics Inc. GL language,\n  Generic Phigs, Sun Phigs+, DEC Phigs+, Rayshade, ART ray tracer (from\n  VORT package) and Pixar RenderMan.\n\n  The code is available via anonymous FTP from the machines\n  ftp.psc.edu, directory pub/p3d, and nic.funet.fi, directory\n  pub/graphics/programs/p3d.\n\nRenderMan\n---------\n  Pixar's RenderMan is not free - call Pixar for details.\n\n==========================================================================\n\n8. Solids description formats\n=============================\n\na. EEC's ESPRIT project 322 CAD*I (CAD Interfaces) has developed a\n  neutral file format for transfer of CAD data (curves, surfaces, and\n  solid models between CAD systems and from CAD to CAA (Computer Aided\n  Analysis) an CAM (Computer Aided Manufacturing)\n\nb. IGES [v. 5.1 now] tries to define a standard to tranfer solid\n  models - Brep and CSG. The current standard number is ANSI Y14.26M-1987\n  For documentation, you might want to contact Nancy Flower at\n  NCGA Technical Services and Standards, 1-800-225-6242 ext. 325\n  and the cost is $100.\n  This standard is not available in electronic format.\n\nc. PDES/STEP : This slowly emerging standard tries to encompass not only\n  the geometrical information, but also for things like FEM, etc.\n  The main bodies besides this standard are NIST and DARPA. You can get\n  more information about PDES by sending mail to nptserver@cme.nist.gov\n  and putting the line\n\tsend index\n  in the body (NOT the Subject:) area of the message.\n\n  The people at Rutherford Appleton Lab.  are also working\n  on STEP tools: they have an EXPRESS compiler and an Exchange file parser,\n  both available in source form (and for free) for research purposes.\n  Soon they will also have an EXPRESS-based database system.\n\n  For the tools contact Mike Mead, Phone: +44 (0235) 44 6710 (FAX: x 5893),\n  e-mail: mm@inf.rl.ac.uk or {...!}mcsun!uknet!rlinf!mm or\n          mm%inf.rl.ac.uk@NSFnet-relay.ac.uk\n\n==========================================================================\n\nEnd of Part 1 of the Resource Listing",
         "archive-name: graphics/resources-list/part1 last-modified: 1993/04/17 computer graphics resource listing weekly posting part =================================================== last change april 1993 many faqs, including this listing, available archive site pit-manager.mit.edu (alias rtfm.mit.edu) [18.172.1.27] directory pub/usenet/news.answers. name under which archived appears archive-name line article. this archived graphics/resources-list/part[1-3] there's mail server that machine. send e-mail message mail-server@pit-manager.mit.edu containing keyword \"help\" (without quotes!) message body. many other places this listing. item: places find resource listing more information. items changed: -------------- re-arranged subjects, order better 63k/article limit. plan changing headers soon, careful! only \"resource listing\" keys sure remain subject: line! places find resource listing graphics editors public domain, free shareware systems plotting packages molecular visualization stuff thinking making this post bi-weekly. what think??? -------------- lines which changed, have character front them. added lines prepended with removed lines just removed. 'diff' locate these changes. ======================================================================== this text (c)copyright 1992, 1993 nikolaos fotis. copy freely this file, provided keep this copyright notice intact. compiled nikolaos (nick) fotis, e-mail: nfotis@theseas.ntua.gr please contact updates,corrections, etc. disclaimer: guarantee accuracy this document. your risk. ======================================================================== this mainly guide computer graphics software. would suggest reading comp. graphics image analysis stuff. it's entitled: (date) comp.graphics frequently asked questions (faq) john grieggs <grieggs@jpl-devvax.jpl.nasa.gov> poster official comp.graphics have included comments within braces ']'. nikolaos fotis ======================================================================== contents resource listing ================================ part1: ------ places find resource listing archie notes computer graphics site list, eric haines mail servers graphics-oriented bbses ray-tracing/graphics-related mailing lists. graphics editors public domain, free shareware systems commercial systems scene description languages solids description formats part2: ------ plotting packages image analysis software image processing display part3: ------ scene generators/geographical data/maps/data files scanners digitized data. background imagery/textures/datafiles introduction rendering algorithms tracing z-buffer (depth-buffer) others where find geometric data the: teapot space shuttle image annotation software scientific visualization stuff molecular visualization stuff (geographical information systems software) future additions: [please send updates/info!] ======================================================================== places find resource listing ====================================== #this file crossposted comp.graphics, comp.answers news.answers, can't locate comp.graphics, you're advised search #comp.answers news.answers (the latter groups usually archived your site. contact your sysadmin more info). these articles posted comp.graphics times month kept many places (see below) many faqs, including this one, available archive site pit-manager.mit.edu (alias rtfm.mit.edu) [18.172.1.27] directory pub/usenet/news.answers. name under which archived appears archive-name line article. this archived graphics/resources-list/part[1-3] there's mail server that machine. send e-mail message mail-server@pit-manager.mit.edu containing: help subject: field inria-graphlib mail server mirrors this posting (see under subject mail servers resource listing accesible through wais machine enuxva.eas.asu.edu (port 8000) under name graphics-resources-list. it's digest-type line before every numbered item purposes indexing. another place that monitors listing maasinfo files. more info contact robert maas <rem@btr.com> another place search faqs general switch (swiss academic research network) system switzerland: interactive: telnet nic.switch.ch [130.59.1.40], login \"info\". move info_service/usenet/periodic-postings directory. search 00index file typing word look for. then just read \"faqs\" directory, decide fetch following methods. ftp: login nic.switch.ch [130.59.1.40] user anonymous enter your internet-style address after being prompted password. info_service/usenet/periodic-postings mail: send e-mail rfc-822: archive-server@nic.switch.ch x.400: /s=archive-server/ou=nic/o=switch/prmd=switch/admd=arcom/c=ch/ enter 'help' bodypart receive instructions. information required subject header line. archie ========= archie service system locate places requested files. it's appreciated that will archie before asking help newsgroups. archie servers: archie.au 139.130.4.6 (aussie/nz) archie.funet.fi 128.214.6.100 (finland/eur.) archie.th-darmstadt.de 130.83.128.111 (ger.) cs.huji.ac.il 132.65.6.5 (israel) archie.kuis.kyoto-u.ac.jp 130.54.20.1 (japan) archie.sogang.ac.kr 163.239.1.11 (korea) archie.ncu.edu.tw telnet 140.115.19.24 (twn) archie.doc.ic.ac.uk 146.169.3.7 (uk/ireland) archie.sura.net 128.167.254.179 (usa [md]) archie.unl.edu (password: archie1) (usa [ne]) archie.ans.net 147.225.1.2 (usa [ny]) archie.rutgers.edu 128.6.18.15 (usa [nj]) archie.nz 130.195.9.4 (new zealand) connect archie server with telnet type \"archie\" username. help type 'help'. 'xarchie' 'archie', which clients that call archie without burden telnet session. 'xarchie' x11.r5 contrib tape, 'archie' comp.sources.misc, vol. information archie e-mail, send mail with subject \"help\" \"archie\" account above sites. (note janet/pss users united kingdom archie site accessible janet host doc.ic.ac.uk [000005102000]. connect specify \"archie\" host name \"archie\" username.) ========================================================================== notes ======== (excerpted from article) please *not* post mail messages saying can't ftp, could someone mail this me?\" there number automated mail servers that will send things like this response message. there number sites that archive usenet sources newsgroups make them available email query system. send message automated server saying something like \"send comp.sources.unix/fbm\", hours days later file mail. ========================================================================== computer graphics site list, eric haines ================================================== computer graphics related sites (and maintainers), 26/03/93 compiled eric haines, erich@eye.com nick fotis, nfotis@theseas.ntua.gr ray-tracers: ------------ rayshade great tracer workstations also amiga. successor trace, written compuservers. (for more questions call drew wells 73767.1244@compuserve.com dave buck david_buck@carleton.ca) tracer with good range surface types, part vort package. dkbtrace another good tracer, from reports; pcs, amiga, unix, (last with previewer), etc. rtrace portugese tracer, does bicubic patches, csg, text, etc. etc. ms-dos version with djgpp extender (go32) exists also, port. vivid2 shareware raytracer binary only (286/287). author: stephen (coy@ssc-vax.boeing.com). 386/387 source) version available registered users (us$50) direct from author. ray4 steve hollasch's 4-dimensional tracer renders hyperspheres, hypertetrahedra, hyperplanes, hyperparallelepipeds (there's separate real-time wireframe viewer written called wire4 mtv,qrt,dbw more tracers, some with interesting features. distributed/parallel raytracers: -------------------------------- xdart distributed ray-tracer that runs under x11. there server binaries which work only decstations, sparcs, snakes (7x0 series) next. clients distributed binaries source. inetray network version rayshade 4.0. needs newer. contact andreas thurnherr (ant@ips.id.ethz.ch) prt, vm_pray parallel tracers. volume renderers: ----------------- vrend cornell's volume renderer, from kartch/devine/caffey/warren (fortran). radiosity (and diffuse lighting) renderers: ------------------------------------------- radiance tracer w/radiosity effects, greg ward. excellent shading models physically based lighting simulation. unix/x based, though been ported amiga (386). india indian radiosity package based radiance. sgi_rad interactive radiosity package that runs machines with spaceball. includes house database. author: moreillon <moreillo@ligsg1.epfl.ch> simple public-domain radiosity package solution stand-alone unix box, walk-through requires author: bernard kwok <g-kwok@cs.yorku.ca> renderers which raytracers, graphics libraries: ----------------------------------------------------------- sipp scan line z-buffer phong shading renderer. uses shadow buffer algorithm. tcl-sipp command interface sipp rendering program. tcl-sipp commands used programmed sipp without having write compile code. commands used specify surfaces, objects, scenes rendering options. renders either format utah raster toolkit format photo widget tk-based applications. vogle graphics learning environment (device portable). vogl gl-like library based vogle. rend386 *fast* polygon renderer intel 386s version it's photorealistic, rather real-time renderer] xsharp21 dobb's journal renderer source code, with budget texture mapping. modellers, wireframe viewers: ----------------------------- vision-3d modeler, output radiance rayshade files. irit solid modeler, with support freeform surfaces. wireframe viewer x11. wireframe graphics toolkit, with source, objects, other stuff look major archives like wuarchive. such file 3dkit1.zip pv3d shareware front modeler povray, still beta test. french docs now, price registering french francs. save disabled. some extra utilities, files registered version. geometric viewers: ------------------ salem gl-based package from dobkin exploring mathematical structures. geomview gl-based package looking interactively manipulating objects, from geometry center minnesota. geobench -(experimental geometry zurich) workbench geometric computation macintosh computers. wire4 wireframe previewer steve hollasch's ray4 (see above) data formats data sets tracing: ------------------------------------------- procedural databases testing tracers. simplistic file format used spd. another file format. lispy file format. tddd imagine modeler) format, converters rayshade, nff, off, etc. also includes nice postscript object displayer. some great models. ttdddlib converts to/from tddd/ttddd, off, nff, rayshade 4.0, imagine, vort objects. also outputs framemaker files isometric views postscript. registered users font converter superquadric surfaces generator. glenn lewis <glewis@pcocd2.intel.com> [note ttdddlib also known t3dlib] chvrtd chapel hill volume rendering test datasets, includes volume sets heads, brain, knee, electron density maps others. written material rendering: ------------------------------ news collections articles tracing. references articles tracing \"refer\" format. references articles radiosity (global illumination). speer rick speer's cross-referenced bib, postscript. abstracts collection wilson abstracts many articles. paper bank project various technical papers electronic form. contact juhana kouhia <jk87377@cs.tut.fi> online bibliography project siggraph online bibliography project database over 15,000 unique computer graphics computational geometry references bibtex format, available computer graphics community research educational resource. database located \"siggraph.org\". users download bibtex files peruse them offline, telnet \"siggraph.org\" \"biblio\" interactively search database entries interest, keyword. people without internet access, there's also e-mail server. send mail archive-server@siggraph.org subject body message include message send followed topic subtopic wish. good place start with command send index which will give up-to-date list available information. additions/corrections/suggestions directed admin, \"bibadmin@siggraph.org\". image manipulation libraries: ----------------------------- utah raster toolkit nice image manipulation tools. pbmplus great package image conversion manipulation. libtiff library reading/writing tiff images. imagemagick package display interactive manipulation images. uses format (miff), includes some converters. x-based image display, manipulation, format converter. xloadimage, displays various formats screen. khoros huge, excellent system image processing, with visual programming interface much much more. uses windows. another image manipulation tools, somewhat now. image manipulation, displays screen, now. xflick plays .fli animation under xanim plays resolution along with gif's(including gif89a animation extensions), dl's amiga animations(3,5,j,l) pictures(including ham,ehb color cycling) sdsc sdsc image tools package (san diego supercomputing center) image manipulation conversion clrpaint 24-bit paint program 24bit workstations 8bit indigos. libraries with code graphics: --------------------------------- graphics gems i,ii,iii code from ever useful books. spline-patch.tar.z spline patch intersection routines sean graves kaleido computation display uniform polyhedra. mirrored wuarchive. this package computes (and displays) metrical properties polyhedra. author: har'el, e-mail: rl@gauss.technion.ac.il means site \"official\" distributor, most date. north america (please look things your continent first...): ------------- wuarchive.wustl.edu [128.252.135.4]: /graphics/graphics contents file roadmap. /graphics/graphics/objects/tddd *the ttddd objects converters*, /mirrors/unix-c/graphics rayshade tracer, tracer, vort tracer, fbm, pbmplus, popi, utah raster toolkit. /mirrors/msdos/graphics tracer, raytracker demos. /pub/rad.tar.z *sgi_rad*, /graphics/graphics/radiosity radiance indian radiosity package. /msdos/ddjmag/ddj9209.zip version xsharp, with fast texture mapping. there's lots more, including bibs, graphics gems code, off, rtn, radiance, nff, sipp, spline patch intersection routines, textbook errata, source code from hall's book \"illumination color computer generated imagery\", graphics/graphics/packages/kaleido *kaleido* george kyriazis <kyriazis@turing.cs.rpi.edu> princeton.edu [128.112.128.1]: /pub/graphics (note capital \"g\") *rayshade tracer (and separate executable)*, *color quantization code*, *spd*, news*, *wilson's abstracts*, bib*, *utah raster toolkit*, newer fbm, *graphics gems code*. /pub/graphics directory *salem* other stuff. craig kolb <cek@princeton.edu> [replaces weedeater.math.yale.edu note capital pub/graphics] because there's trouble with princeton's incoming area, upload rayshade-specific stuff weedeater.math.yale.edu [128.36.23.17] alfred.ccs.carleton.ca [134.117.1.1]: /pub/dkbtrace *dkb tracer*, /pub/pov-ray/pov-ray1.0 *pvray compuserve group tracer pov)*. david buck <david_buck@carleton.ca> avalon.chinalake.navy.mil [129.131.31.11]: objects (multiple formats), utilities, file format documents. this site created object \"repository\" net. francisco dejesus <dejesus@archimedes.chinalake.navy.mil> omicron.cs.unc.edu [152.2.128.159]: pub/softlab/chvrtd chapel hill volume rendering test datasets. ftp.mv.com [192.80.84.1]: official repository. *xsharp* peipa.essex.ac.uk [155.245.115.161]: pilot european image processing archive; directory ipa/synth something like that, there image synthesis packages. adrian clarke <alien@essex.ac.uk> barkley.berkeley.edu [128.32.142.237] tcl/extensions/tsipp3.0b.tar.z *tcl-sipp* mark diekhans <markd@grizzly.com markd@neosoft.com> acs.cps.msu.edu [35.8.56.90]: pub/sass window fonts converter into rayshade polygons*, rayshade animation tool(s). sass <sass@cps.msu.edu> hobbes.lbl.gov [128.3.12.38]: *radiance* trace/radiosity package. greg ward <gjward@lbl.gov> geom.umn.edu [128.101.25.31] pub/geomview *geomview* contact (for geomview): software@geom.umn.edu ftp.arc.umn.edu [137.66.130.11] pub/gvl.tar.z latest version bob, icol raz. source, manual, pages, binaries irix 4.0.5 included (bob real time volume renderer) pub/ contains also many volume datasets. chin-purcell <ken@ahpcrc.umn.edu> ftp.kpc.com [144.52.120.9] /pub/graphics/holl91 steve hollasch's thesis, /pub/graphics/ray4 *ray4*, /pub/graphics/wire4 *wire4*. /pub/mirror/avalon mirror avalon's objects repository. steve hollasch <hollasch@kpc.com> swedishchef.lerc.nasa.gov [139.88.54.33] programs/hollasch-4d ray4, explorer modules postscript manual, etc. zamenhof.cs.rice.edu [128.42.1.75] pub/graphics.formats various electronic documents about many object image formats. mark hall <foo@cs.rice.edu> will apparently longer maintaining ftp.ncsa.uiuc.edu. rascal.ics.utexas.edu [128.83.144.1]: /misc/mac/inqueue vision-3d facet based modeller, output rayshade radiance files. ftp.ncsa.uiuc.edu [141.142.20.50] misc/file.formats/graphics.formats contains various image- object-format descriptions. many scivi tools various directories, e.g. sgi/alpha-shape/alvis-1.0.tar.z alpha-shape visualizer (sgi machines only), sgi/polyview3.0/polyview.z interactive visualization analysis geometrical structures. quincey koziol <koziol@ncsa.uiuc.edu> tucana.noao.edu [140.252.1.1] /iraf iraf astronomy package ftp.ipl.rpi.edu [128.113.14.50]: sigma/erich images haines thesis images. pub/images various image stills sequences. kevin martin <sigma@ipl.rpi.edu> ftp.psc.edu [128.182.66.148]: pub/p3d p3d_2_0.tar lispy scene language renderers. joel welling <welling@seurat.psc.edu> ftp.ee.lbl.gov [128.3.254.68]: *pbmplus.tar.z*, rayshade data files. poskanzer <jef@ace.ee.lbl.gov> george.lbl.gov [128.3.196.93]: pub/ccs-lib/ccs.tar.z *ccs (complex conversion system), standard software interface image processing* hanauma.stanford.edu [36.51.0.16]: /pub/graphics/comp.graphics best comp.graphics (very extensive), ray-tracers dbw, mtv, qrt, more. dellinger <joe@hanauma.stanford.edu> ftp.uu.net [192.48.96.2]: /graphics *irit*, news back issues (not complete), nurbs models, other graphics related material. /graphics/jpeg/jpegsrc.v?.tar.z independent jpeg group package reading writing jpeg files. freebie.engin.umich.edu [141.212.68.23]: *utah raster toolkit*, spencer thomas <thomas@eecs.umich.edu> export.lcs.mit.edu [18.24.0.12] /contrib pbmplus, image magick, xloadimage, xli, img, lots more. /pub/r5untarred/mit/demos/gpc ncga graphics performance characterization (gpc) suite. life.pawl.rpi.edu [128.113.10.2]: /pub/ray *kyriazis stochastic tracer*. george kyriazis <kyriazis@turing.cs.rpi.edu> cs.utah.edu [128.110.4.21]: /pub utah raster toolkit, *nurbs databases*. jamie painter <jamie@cs.utah.edu> gatekeeper.dec.com [16.1.0.2]: /pub/dec/off.tar.z *off models*, also benchmark files (planned, checked). randi rost <rost@kpc.com> hubcap.clemson.edu [130.127.8.1]: /pub/amiga/incoming/imagine stuff amiga imagine turbo silver tracers. /pub/amiga/ttdddlib *ttdddlib* /pub/amiga/incoming/imagine/objects many objects. glenn lewis <glewis@pcocd2.intel.com> pprg.eece.unm.edu [129.24.24.10]: /pub/khoros *khoros image processing package (huge, great)*. danielle argiro <danielle@bullwinkle.unm.edu> expo.lcs.mit.edu [18.30.0.212]: contrib *pbmplus portable bitmap package*, *poskbitmaptars bitmap collection*, *raveling img*, xloadimage. poskanzer <jef@well.sf.ca.us> venera.isi.edu [128.9.0.32]: */pub/img.tar.z img.tar.z some image manipulation*, /pub/images separation photos. paul raveling <raveling@venera.isi.edu> ucsd.edu [128.54.16.1]: /graphics utah toolkit, pbmplus, fbm, databases, mtv, other tracers, world map, other stuff. updated much recently. castlab.engr.wisc.edu [128.104.52.10]: /pub/x3d.2.2.tar.z *x3d* /pub/xdart.1.1.* *xdart* mark spychalla <spy@castlab.engr.wisc.edu> sgi.com [192.48.153.1]: /graphics/tiff tiff spec *libtiff* software pics. also much sgi- gl-related stuff (e.g. opengl manuals) leffler <sam@sgi.com> [supercedes okeeffe.berkeley.edu libtiff stuff] surya.waterloo.edu [129.97.129.72]: /graphics fbm, tracers ftp.sdsc.edu [132.249.20.22]: /sdscpub *sdsc* ftp.brl.mil [128.63.16.158]: /brl-cad information package tracer. /images various test images. texture library also begun here. butler <butler@brl.mil> cicero.cs.umass.edu [128.119.40.189]: /texture_temp 512x512 grayscale brodatz textures, from julien flack <julien@scs.leeds.ac.uk>. karazm.math.uh.edu [129.7.7.6]: pub/graphics/rtabs.shar.12.90.z *wilson's abstracts*, vm_pray. eric townsend <jet@karazm.math.uh.edu jet@nas.nasa.gov> ftp.pitt.edu [130.49.253.1]: /users/qralston/images image archive (small). james ralston crawford <qralston@gl.pitt.edu> ftp.tc.cornell.edu [128.84.201.1]: /pub/vis *vrend* sunee.waterloo.edu [129.97.50.50]: /pub/raytracers vivid, *rend386* sunee.uwaterloo.ca] archive.umich.edu [141.211.164.153]: /msdos/graphics graphics stuff. /msdos/graphics/raytrace vivid2. apple.apple.com [130.43.2.2?]: /pub/archivevol2/prt. research.att.com [192.20.225.2]: /netlib/graphics *spd package*, ~/polyhedra *polyhedra databases*. don't have ftp, netlib automatic mail replier: uucp research!netlib, internet netlib@ornl.gov. send line message \"send index\" more info, \"send haines from graphics\" spd) siggraph.org [128.248.245.250]: siggraph archive site. publications *online bibliography project*, conference proceedings various electronic formats (papers, panels), siggraph video review information order forms. other stuff various directories. automatic mailer archive-server@siggraph.org (\"send index\"). ftp.cs.unc.edu [128.109.136.159]: pub/reaction_diffusion greg turk's work reaction-diffusion textures, windows code (siggraph '91) avs.ncsc.org [128.109.178.23]: ~ftp/volvis92 volume datasets from boston workshop volume visualization '92. this site also international center. terry myerson <tvv@ncsc.org> uvacs.cs.virginia.edu [128.143.8.100]: pub/suit/demo/{sparc,dec,etc} suit (simple user interface toolkit). \"finger suit@uvacs.cs.virginia.edu\" detailed instructions. nexus.yorku.ca [130.63.9.66]: /pub/reports/radiosity_code.tar.z *rad* /pub/reports/radiosity_thesis.ps.z *rad msc. thesis* [this site will changed ftp.yorku.ca near future] milton.u.washington.edu [128.95.136.1] ~ftp/public/veos veos virtual reality distributed applications prototyping environment unix. veos software support veos-support@hitl.washington.edu oldpublic/fly fly! visualization software demo. that package built \"fly-throughs\" from various datasets near real-time. there binaries many platforms. also, much other virtual reality stuff. zug.csmil.umich.edu [141.211.184.2]: x-xpecs files glass shutter amiga computers great stuff!) sugrfx.acs.syr.edu [128.230.24.1]: various stereo-pair images. closed down sunsite.unc.edu [152.2.22.81]: /pub/academic/computer-science/virtual-reality final copy sugrfx.acs.syr.edu archive that ceased exist. contains powerglove code, papers, images research material. jonathan magid <jem@sunsite.unc.edu> archive.cis.ohio-state.edu [128.146.8.52]: pub/siggraph92 code siggraph course (procedural modeling rendering techniques) david ebert <ebert@cis.ohio-state.edu> lyapunov.ucsd.edu [132.239.86.10]: this machine considered repository preprints programs nonlinear dynamics, signal processing, related subjects (and fractals, course!) matt kennel <mbk@inls1.ucsd.edu> cod.nosc.mil [128.49.16.5]: /pub/grid.{ps,tex,ascii} short survey methods interpolate contour bivariate data ics.uci.edu [128.195.1.1]: /honig various stereo-pair images, movie.c animates movie display (8-bit mono) with digital subtraction. taurus.cs.nps.navy.mil [131.120.1.13]: pub/dabro/cyberware_demo.tar.z human head data pioneer.unm.edu [129.24.9.217]: pub/texture_maps hans buf's grayscale test textures (aerial swatches, brodatz textures, synthetic swatches). space planetary image repository. provides access >150 cd-roms with data/images on-line time). pub/info/beginner-info here should start browsing. colby kraybill <opus@pioneer.unm.edu>. cs.brown.edu [128.148.33.66] *srgp/sphigs* more info srgp/sphigs: mail 'software-distribution' graphtext@cs.brown.edu pdb.pdb.bnl.gov [130.199.144.1] data about various organic molecules, bonds between different atoms, etc. atomic coordinates (and load other stuff) contained \"*.ent\" files, actual atomic dimemsions seem missing. could convert these data pov, rayshade, etc. biome.bio.ns.ca [142.2.20.2] /pub/art some renoir paintings, escher's pictures, etc. ic16.ee.umanitoba.ca /specmark sample images from `images from edge' cd-rom (images atomic landscapes, advanced semiconductors, superconductors experimental surface chemistry among others). contact ruskin@ee.umanitoba.ca explorer.dgp.toronto.edu [128.100.1.129] pub/sgi/clrpaint *clrpaint* pub/sgi/clrview.* clrview, tool that aids visualization datasets formats like dxf, dem, arc/info, etc. ames.arc.nasa.gov [128.102.18.3]: pub/space/cdrom images from magellan viking missions etc. pub/space/index first. pub/spacelink most spacelink service data (see below) e-mail server available: send mail archive-server@ames.arc.nasa.gov ames!archive-server) with subject:\"help\" \"send space index\" (without quotes!) peter <yee@ames.arc.nasa.gov> pubinfo.jpl.nasa.gov [128.149.6.2]: images, other data, etc. from missions. modem access (818)-354-1333 parity, data bits, stop bit). newsdesk@jplpost.jpl.nasa.gov phone (818)-354-7170 spacelink.msfc.nasa.gov [128.158.13.250] (passwd:guest) space graphics images from nasa's planetary probes hubble telescope. main function support teachers (you telnet also this site). dial access: (205)-895-0028 (300/1200/2400/9600(v.32) baud, bits, parity, stop bit). stsci.edu [130.167.1.2] hubble space telescope stuff (images other data). read readme first! pete reppert <reppert@stsci.edu> chris o'dea <odea@stsci.edu> pit-manager.mit.edu [18.172.1.27]: /pub/usenet/news.answers land faqs. graphics pictures directories particular interest. [also available from mail-server@pit-manager.mit.edu sending mail message containing: help] uucp archive: avatar news back issues. details, write kory hamzeh <kory@avatar.avatar.com> europe: ------- nic.funet.fi [128.214.6.100]: *pub/sci/papers *paper bank project, including pete shirley's entire thesis (with pics)*, *wilson's abstracts*, pub/misc/cia_worldmap world data bank, comp.graphics.research archive, *india*, much, much more. juhana kouhia <jk87377@cs.tut.fi> dasun2.epfl.ch [128.178.62.2]: radiance. good european sites, doesn't carry add-ons that available radiance. isy.liu.se [130.236.1.3]: pub/sipp/sipp-3.0.tar.z *sipp* scan line z-buffer phong shading renderer. jonas yngvesson <jonas-y@isy.liu.se> irisa.fr [131.254.2.3]: */ipsc2/vm_pray tracer*, spd, /nff many non-spd format scenes, rayshade data files. didier badouel <badouel@irisa.irisa.fr> [may have disappeared] phoenix.oulu.fi [130.231.240.17]: *fli raytracker animation files vga) also .flis (640*480)* *rayscene demos* [americans: check wuarchive first]. more animations come. jari kahkonen <hole@phoenix.oulu.fi> jyu.fi [128.214.7.5]: /pub/graphics/ray-traces many tracers, including vm_pray, dbw, dkb, mtv, qrt, rayshade, some news, files. jari toivanen <toivanen@jyu.fi> garbo.uwasa.fi [128.214.87.1]: much stuff, etc., /pc/source/contour.f fortran program contour scattered data using linear triangle-based interpolation asterix.inescn.pt [192.35.246.17]: pub/rtrace *rtrace* nffutils.tar.z (nff utilities rtrace), medical data (cat, etc.) converters nff, autocad autolisp code, autocad (rtrace's language) converter other goodies. antonio costa (acc@asterix.inescn.pt) vega.hut.fi [128.214.3.82]: /graphics archive, tracers (mtv, qrt, others), nff, some models. shut down months check under nic.funet.fi nfotis sun4nl.nluug.nl [192.16.202.2]: /pub/graphics/raytrace dbw.microray, mtv, unix.hensa.ac.uk misc/unix/ralcgm/ralcgm.tar.z viewer converter. there's e-mail server also mail archive@unix.hensa.ac.uk with message body \"send misc/unix/ralcgm/ralcgm.tar.z\" maeglin.mt.luth.se [130.240.0.25]: graphics/raytracing prt, others, ~/doc *wilson's abstracts*, vivid. ftp.fu-berlin.de [130.20.225.2]: /pub/unix/graphics/rayshade4.0/inputs aq.tar.z rayshade aquarium [americans: check princeton.edu first). heiko schlichting <heiko@math.fu-berlin.de> maggia.ethz.ch [129.132.17.1]: pub/inetray *inetray* code andreas thurnherr <ant@ips.id.ethz.ch> osgiliath.id.dth.dk [129.142.65.24]: /pub/amiga/graphics/radiance *amiga port radiance 2.0*. bojsen <bojsen@ithil.id.dth.dk> ftp.informatik.uni-oldenburg.de [134.106.1.9] *pov raytracer* mirrored wuarchive, many goods pov. pub/dkbtrace/incoming/polyray polyray raytracer pub/dkbtrace/incoming/pv3d* *pv3d* ftp.uni-kl.de [131.246.9.95]: /pub/amiga/raytracing/imagine mirror hubcap imagine files. neptune.inf.ethz.ch [129.132.101.33]: *xyz geobench* peter schorn <schorn@inf.ethz.ch> iamsun.unibe.ch [130.92.64.10]: /graphics/graphtal* l-system interpreter. christoph streit <streit@iam.unibe.ch> amiga.physik.unizh.ch [130.60.80.80]: /amiga/gfx graphics stuff amiga computer. stesis.hq.eso.org [134.171.8.100]: on-line access huge astronomical database. (login:starcat;no passwd) decnet:stesis (it's space telescope european coordination facility) benoit pirenne <bpirenne@eso.org>, phone middle east ----------- gauss.technion.ac.il [132.68.112.60]: *kaleida* australia: ---------- gondwana.ecr.mu.oz.au [128.250.70.62]: *vort(art) tracer*, *vogle*, wilson's tracing abstracts, /pub/contrib/artscenes (art scenes from italy), pub/images/haines haines thesis images, graphics gems code, spd, databases, previewers, plus some 24bit images lots other stuff. pub/rad.tar.z *sgi_rad* bernie kirby <bernie@ecr.mu.oz.au> munnari.oz.au [128.250.1.21]: pub/graphics/vort.tar.z *vort (art) algebraic surface tracer*, *vogle*, /pub dbw, pbmplus. /graphics room.tar.z (art scenes from italy). david hook <dgh@munnari.oz.au> marsh.cs.curtin.edu.au [134.7.1.1]: pub/graphics/bibliography/facial_animation, pub/graphics/bibliography/morph, pub/graphics/bibliography/ui stuff about facial animation, morphing user interfaces. pub/fascia fred parke's fascia program. valerie hall <val@lillee.cs.curtin.edu.au> oceania asia: --------------- ccu1.aukland.ac.nz [130.216.1.5]: ftp/mac/architec *vision-3d facet based modeller, output rayshade files*. many other neat things macs. paul bourke <pdbourke@ccu1.aukland.ac.nz> scslwide.sony.co.jp [133.138.199.1]: ftp2/sgi/facial-animation steve franks site facial animation. steve franks <stevef@csl.sony.co.jp stevef@cs.umr.edu> mail servers graphics-oriented bbses =========================================== please check first with places above, with archie's help. don't overuse mail servers. there some troubles with wrong return addresses. many these mail servers have command like path a_valid_return_e-mail_address hint sending back stuff. dec's ftpmail ------------- send one-line message ftpmail@decwrl.dec.com without subject: field, having line containing word 'help'. should back message detailing relevant procedures must follow order files want. note that \"reply\" \"answer\" command your mailer will work this message other mail receive from ftpmail. send requests ftpmail, send original mail message, reply. complaints should sent ftpmail-request@uucp-gw-2.pa.dec.com address rather than postmaster, since decwrl's postmaster responsible fixing ftpmail problems. bitftp ------ bitnet sites only, there's bitftp@pucc. send one-line 'help' message this address more info. lightwave mail based file-server ----------------------------------- mail based file server objects, 24bit jpeg images, images image maps online those with internet mail access. server official archive site lightwave mail-list contains many shareware graphics utilities several computer platforms including amiga, atari, macintosh. server resides called \"the graphics bbs\". operational hours days week phone number 908/469-0049. upgraded modem hayes ultra v.32bis/v.42bis, which speeds from 300bps 38,400bps. would like submit objects, scenes images server, please pack, uuencode then mail files address: server@bobsbox.rent.com. information obtaining files from server send mail message address file-server@graphics.rent.com with following body message: help /dir help file describing server complete directory listing will sent mail. includes cyberware head shouders ttddd format! check out, only can't ftp! nfotis inria-graphlib -------------- pierre jancene sabine coquillart launched inria-graphlib mail server months ago. echo help mail inria-graphlib@inria.fr will give quick summary what inria-graphlib contains browse among files. echo send contents mail inria-graphlib@inria.fr will return extended summary. other example echo send cgrl from misc mail inria-graphlib@inria.fr will return computer graphics resource listing mirrored from comp.graphics. bbses ----- there many bbses that store datafiles, etc.etc., guide these beyond scope this listing (and resources author!) point internet- mail- accessible bbses that carry interesting stuff, send info! studio amiga modelling tracing specific bbs, (817) 467-3658. hours, online. from jeff walkup <pwappy@well.sf.ca.us>: \"the castle\" 415/355-2396 (14.4k/v.32bis/v.42/v.42bis/mnp) pacifica, dang close francisco, california, usa) new-user password \"tao\". [j]oin base castle g/fx, anim, video, s.i.g., which sig-op, \"lazerus\". lindabury operates (see above entry \"the graphics bbs\") 'you call ray' tracing related chicago suburbs (708-358-5611) (708-358-8721) digital pixel (sysop: mark <mcng@descartes.waterloo.edu>) based toronto, ontario, canada. phone (416) 1487 storage space: megs modem type: 14.4k baud,16.8k (zyxel) v32bis ,v32, access fee: none.. (free) system supported dos, os/2, amiga, mac. netmail: currently echo mail. topics: raytracing, fractals, graphics programming, cad, comp. graphics related from: david tiberio <dtiberio@ic.sunysb.edu> amiga graphics (516) 473-6351 long island, york, running hours 14.4k v.32bis, with megs line. also subscribe mailing lists, which originate from bbs, with more added soon. these include: lightwave, imagine, real (ray tracing) database files include: imagine objects, renderings, scalable fonts, music modules, sound samples, demos, animations, utilities, text databases, pending lightwave objects. graphics alternative graphics alternative cerrito, ca., running hours 14.4k hst/v.32bis, with 642mb online 1300+ user base. runs nodes, node (510) 524-2780 public access includes free trial subscription. west coast host pcgnet, profesional graphics network, supporting nodes across continental u.s., alaska, zealand, australia, france tga's file database includes ms-dos executables pov, vivid, rtrace, rayshade, polyray, others. also numerous graphics utilities, viewers, conversion utilities. registered vivid users also download latest vivid aeta code from special vivid conference. from: scott bethke <sbathkey@access.digex.com> intersection bbs, 410-250-7149. this dedicated supporting animators.the system provided free charge, commercialized anyway. users given full access first call. features: usenet news internet mail, fidonet echo's netmail, megs online, v.32bis/v.42bis modem. platforms interest: amiga videotoaster, macintosh, ms-dos, unix workstations (sun, sgi, etc), atari-st. from: alfonso hermida <afanh@robots.gsfc.nasa.gov>: square (301)725-9080 maryland. supports raytracers such vivid. runs 486/33mhz, 100megs hard drive rom. runs 1200-2400bps (this will change soon) topics: graphics programming, animation,raytracing,programming (general) from: lynn falkow <roxxie@delphi.com>: vertech design's graphic connection. (503) 591-8412 portland, oregon. v.32/v.42bis. bbs, aside from carrying typical services like message bases topic specific files graphics related hundreds megabytes also offers material texture files that full color, seamlessly tiling, photo-realistic images. there samples available first time callers. subscription system although callers have hours before they must subscribe, there several subscription rates available. people interested materials subscribe library addition basic subscription rate, their purchased time download whichever materials they wish. ========================================================================== ray-tracing/graphics-related mailing lists ============================================= imagine ------- modeling animation system amiga: send subscription requests imagine-request@email.sp.paramax.com send material imagine@email.sp.paramax.com (dave wickard substituted steve worley maintenance mailing list) please note that unisys.com address longer valid!!! lightwave --------- (for amiga. it's part newtek's video toaster): send subscription requests lightwave-request@bobsbox.rent.com send material lightwave@bobsbox.rent.com (bob lindabury) toaster ------- send subscription requests listserv@karazm.math.uh.edu with *body* subscribe toaster-list real ------- another modeling animation system amiga: subscribe, send mail containing body subscribe real3d-l <your full name> listserv@gu.uwa.edu.au rayshade -------- send subscription requests rayshade-request@cs.princeton.edu send material rayshade-users@cs.princeton.edu (craig kolb) alladin amiga ---------- send subscription requests subscribe@xamiga.linet.org body message write #alladin username@domain radiance -------- greg ward, author, sends registered (via e-mail) users digests correspodence with them, notes about fixes, updates, etc. address gjward@lbl.gov rend386 ------- send subscription requests rend386-request@sunee.waterloo.edu send material rend386@sunee.waterloo.edu raytracers ------------------------ subscribe, send mail containing body subscribe dkb-l <your full name> listserv@trearn.bitnet send material dkb-l@trearn.bitnet mailing list massively parallel rendering --------------------------------------------- send subscription requests mp-render-request@icase.edu send material mp-render@icase.edu ========================================================================== graphics editors ====================== public domain, free shareware systems ============================================ vision-3d --------- mac-based program written paul bourke (pdbourke@ccu1.aukland.ac.nz). program used generate models directly rayshade radiance file formats (polygons only). it's shareware listed list. solid modeling system most environments including x11. nurbs, plus support non-manifold geometry [whatever is]. *free* signing returning relevant license, found ftp.brl.mil. uses ray-tracing engineering analyses. contact: carla moyer (410)-273-7794 tel. (410)-272-6763 cad-dist@brl.mil e-mail snail mail: brl-cad distribution surviac aberdeen satellite office 1003 philadelphia road, suite aberdeen 21001 irit ---- constructive solid geometry (csg) modeling program x11. includes freeform surface support. free list where find surfmodel --------- solid modeling program written turbo pascal camp. available from simtel, pd1:<msdos.srfmodl> directory. noodles ------- from cmu, namely fritz printz levent gursoz (elg@styx.edrc.cmu.edu). it's based manifold topology. them more info, don't know they give away. xyz2 ---- xyz2 interactive editor/builder written dale stocker create objects surfacemodel, automove, raytracer packages. xyz2 free found, example, simtel20 <msdos.surfmodl>xyz21.zip (dos only??) 3dmod ----- it's msdos program. check barnacle.erc.clarkson.edu [128.153.28.12], /pub/msdos/graphics/3dmod.* undocumented file format 3dmod 1991 micah silverman, pierrepoint ave., postdam, york 13676, tel. 315-265-7140 northcad -------- shareware, <msdos.cad>ncad3d42.zip simtel20. undocumented file format vertex ------ (amiga) shareware, send (check money order) machine, 4189 nickolas sterling heights, 48310 addition standard file formats, including lightwave, imagine, sculpt, turbo silver, wavefront, this release offers professional rayshade support. (rayshade supported only primitive \"triangle\", easily include this output your rayshade scripts) latest demo, version 1.62, available fred fish #727. more information, contact author, alex deburie, ad99s461@sycom.mi.org, phone: (313) 939-2513 icoons ------ (amiga) it's spline based object modeller (\"icoons\" interactive coons path editor) amiga.physik.unizh.ch (gfx/3d/icoons1.0.lzh). it's free (under licence) requires fpu. program look&feel which cross between journeyman imagine, generates objects ttddd format. possible load journeyman objects into icoons, program used convert jman objects imagine format. author: helge rasmussen <her@compel.dk> phone it's also fred fish disk series n.775 nfotis protocad ----------- from trius (shareware?) it's wsmr-simtel20.army.mil oak.oakland.edu pcad3d.zip (for pcs) this menu layout: file file handling (load, save, import, xport...) draw draw objects (line, circle, box...) draw objects (mesh, sphere, block...) edit editing features (copy, move ...) surface modify objects (revolve, xtrude, sweep...) image image zooming features (update, window, half...) option global defaults (grid, toggles, axis...) plot print drawing/picture (go, image...) render shade objects (frame, lighting, tune...) layer layer options (select active layer, colors...) +sculptura +--------- runs under windows 3.1, outputs files. demo found wuarchive.wustl.edu mirrors/win3/demo/demo3d.zip author: michael gibson <gibsonm@stein.u.washington.edu> commercial systems ===================== alpha_1 ------- spline-based modeling program written university utah. features: splines trimmed nurbs; support boolean operations; sweeps, bending, warping, flattening etc.; groups objects, transformations; extensible object types. applications include: machining, animation utilities, dimensioning, analysis, etc. rendering subsystem, with support animations. support following platforms: 800's (x11r4, hp-ux 6.5), machines (x11r4 irix 3.3.1), sparcstation (x11r4, sunos 4.1.1). licensing distribution handled egs: glenn mcminn, president engineering geometry systems east south temple, suite salt lake city, 84111 (801) 575-6021 mcminn@cs.utah.edu educational pricing charge $675 platform. system many different workstations that type wish. each platform there also $250 licensing portable standard lisp (psl) which bundled with system. need obtain additional license from university utah from following address: professor robert kessler computer science department university utah salt lake city, utah 84112 handle licensing u.s. institutions $usd nominal nfotis vertigo ------- they have educational institution program. package used industrial design, architectural, scientific visualization, educational, broadcast, imaging post production fields. they'll [quoting from letter sent nfotis \"donate fully configured vertigo graphics software worth over $29,000usd package qualified educational institutions licencing number silicon graphics personal iris power series workstations. iris indigo station, will also licence vertigo revolution software (worth $12,000usd). interested participating this program please send letter mail (604/684-2108) your institution's letterhead briefly outlining your potential uses vertigo together with following information: unix version model number systems peripheral devices third party software. participants will asked contribute $750usd institution cover costs manual, administration, shipping. recommend that vertigo users subscribe technical support services. annual will receive: technical assistance support hotline, fixes, software upgrades manual updates. educational institution will waive $750 administration support purchased. annual support $2,500 plus following cost additional machines: number machines: 2-20 additional cost machine: $700 $600 there's also 5-day training program nfotis] contact: vertigo technology suite 1010 1030 west georgia vancouver, canada, phone: 604/684-2113 fax: 604/684-2108 does anyone know such offers from tdi, alias, softimage, wavefront, etc.??? this would very interesting part!! nfotis padl-2 ------ basically, it's solid modeling kernel which build your application(s)] available license from cornell programmable automation cornell university engineering theory center ithaca, 14853 license fees very educational institutions gov't agencies. internal commercial licenses re-dissemination licenses available. information packet, write above address, send your address marisa@cpa.tn.cornell.edu (richard marisa) acis ---- from spatial technology. it's solid modelling kernel callable from heard that many universities free copies from company. person contact regarding acis academic institutions scott owens, e-mail: sdo@spatial.com their address spatial technology, inc. 2425 55th st., bldg. boulder, 80301-5704 phone: (303) 449-0649, fax: (303) 449-0926 movie-byu cquel.byu --------------------- basically understanding], this pre- post-proccessor system. it's fairly today, still serves some people mech. eng. depts. it's superseded from cquel.byu (pronounced \"sequel\"). that's complete modelling, animation visualization package. runs usual workstation environments (sun, dec, sgi, rs6000, others) demo version (30-days trial period) either sending their address blank tape. costs 1,500 full run-time licence. contact: engineering computer graphics clyde building, brigham young univ. provo, 84602 phone: 801-378-2812 e-mail: cquel@byu.edu twixt ----- soon stuff about it... reply voxblast -------- it's volume renderer marketed vaytek inc. (fairfield, iowa phone: 515-472-2227) running with 386+fpu least. call vaytek more info. voxelbox -------- volume renderer windows. features include direct ray-traced volume rendering, color alpha mapping, gradient lighting, animation, reflections shadows. runs pc(386 higher) with least video card(svga fine) under windows 3.x. costs $495. contact: jaguar software inc. main st., suite winchester, 01890 (617) 729-3659 jwp@world.std.com (john poduska) ========================================================================== scene description languages ============================== neutral file format eric haines. very simple, there some procedural database generators package, many objects floating various sites. there's also previewer written starbase from e.haines. also there's written vogle, devices vogle output (check sites carrying vogle, like gondwana.ecr.mu.oz.au) object file format, from dec's randy rost (rost@kpc.com). object archive server seems mothballed. future version, i'll remove ref. nfotis available also through their mail server. obtain help about using this service, send message with \"subject:\" line containing only word \"help\" null message body object-archive-server@decwrl.dec.com. [for places relevant place]. there's previewer machines, called off-preview godzilla.cgl.rmit.oz.au there previewers xview sunview, also gondwana. tddd ---- it's library objects with translators to/from off, nff, rayshade, imagine vort objects. edited copy announcement follows (from raytracing news, v4,#3): library objects available ftp, steve worley (worley@cup.portal.com) have assembled over objects binary format called tddd. these objects range from human figures airplanes, from semi-trucks lampposts. these objects freely distributable, most have readmes that describe them. order convert these objects human-readable format, file with specification tddd included directory with objects. there also shareware system called ttdddlib (officially hubcap.clemson.edu) that will convert (ala pbm+) to/from various object formats imagine ttddd (extension tddd?), off, nff, rayshade 4.0, vort. source included amiga/unix executables amiga. also outputs framemaker files isometric views postscript. from pittsburgh supercomputing center. uses lisp with slight extensions store three-dimensional models. simple lisp interpreter included with release, there need have access vendor's lisp this software. mouse-driven user interfaces motif, open look, silicon graphics drawp3d subroutine library generating without ever looking underlying lisp. software currently supports nine renderers. they are: painter painter's algorithm, dore, silicon graphics inc. language, generic phigs, phigs+, phigs+, rayshade, tracer (from vort package) pixar renderman. code available anonymous from machines ftp.psc.edu, directory pub/p3d, nic.funet.fi, directory pub/graphics/programs/p3d. renderman --------- pixar's renderman free call pixar details. ========================================================================== solids description formats ============================= eec's esprit project cad*i (cad interfaces) developed neutral file format transfer data (curves, surfaces, solid models between systems from (computer aided analysis) (computer aided manufacturing) iges now] tries define standard tranfer solid models brep csg. current standard number ansi y14.26m-1987 documentation, might want contact nancy flower ncga technical services standards, 1-800-225-6242 ext. cost $100. this standard available electronic format. pdes/step this slowly emerging standard tries encompass only geometrical information, also things like fem, etc. main bodies besides this standard nist darpa. more information about pdes sending mail nptserver@cme.nist.gov putting line send index body (not subject:) area message. people rutherford appleton lab. also working step tools: they have express compiler exchange file parser, both available source form (and free) research purposes. soon they will also have express-based database system. tools contact mike mead, phone: (0235) 6710 (fax: 5893), e-mail: mm@inf.rl.ac.uk {...!}mcsun!uknet!rlinf!mm mm%inf.rl.ac.uk@nsfnet-relay.ac.uk ========================================================================== part resource listing"
        ],
        [
         "11",
         "I have a Roberto Clemente 1969 Topps baseball card for sale, in near-mint\ncondition (really as close to mint condition as you can get).  It lists for\n$55 in my most recent baseball card pricelist for May.  I am offering it for\n$50 and I'll pay the certified postage to ship it to you.",
         "have roberto clemente 1969 topps baseball card sale, near-mint condition (really close mint condition get). lists most recent baseball card pricelist may. offering i'll certified postage ship you."
        ],
        [
         "12",
         "\n\n\"Diet Evangelist\".  Good term.  Fits Atkins to a \"T\".  \n\n\n-- \n----------------------------------------------------------------------------\nGordon Banks  N3JXP      | \"Skepticism is the chastity of the intellect, and\ngeb@cadre.dsl.pitt.edu   |  it is shameful to surrender it too soon.\" ",
         "\"diet evangelist\". good term. fits atkins \"t\". ---------------------------------------------------------------------------- gordon banks n3jxp \"skepticism chastity intellect, geb@cadre.dsl.pitt.edu shameful surrender soon.\""
        ],
        [
         "13",
         "Hi Damon,  No matter what system or explanation of creation you wish\nto accept, you always have to start with one of two premises, creation\nfrom nothing, or creation from something.  There are no other\nalternatives.  And if we accept one or the other of those two\npremises, then again there are two alternatives, either creation was\nrandom, or was according to some plan.\n   If it was random, I am unable to accept that the complex nature of\nour world with interrelated interdependent organisms and creatures\ncould exist as they do.  Therefore I am left with creation under the\ncontrol of an intelligence capable of devising such a scheme.  I call\nthat intelligence God.\n   I also prefer the \"Creatio ex nihilo\" rather than from chaos, as it\nis cleaner.\n   There is obviously no way to prove either or neither.  We are and\nwe must have come from somewhere.  Choose whatever explanation you\nfeel most comfortable with, Damon.  You are the one who has to live\nwith your choice.\nShalom,                                  Len Howard\n",
         "damon, matter what system explanation creation wish accept, always have start with premises, creation from nothing, creation from something. there other alternatives. accept other those premises, then again there alternatives, either creation random, according some plan. random, unable accept that complex nature world with interrelated interdependent organisms creatures could exist they therefore left with creation under control intelligence capable devising such scheme. call that intelligence god. also prefer \"creatio nihilo\" rather than from chaos, cleaner. there obviously prove either neither. must have come from somewhere. choose whatever explanation feel most comfortable with, damon. live with your choice. shalom, howard"
        ],
        [
         "14",
         "The title says it all.  I need to know the 44, 88, and 88c rom versions.",
         "title says all. need know versions."
        ],
        [
         "15",
         "\nCan't we move the political bickering to a more appropriate group?\n-- \nBrad Kepley                  Internet         kepley@photon.phys.unca.edu\nWork-days                    Voice            (704)252-8330",
         "can't move political bickering more appropriate group? brad kepley internet kepley@photon.phys.unca.edu work-days voice (704)252-8330"
        ],
        [
         "16",
         "Exactly.\n\nBut I'll add another observation: if the chip does become a standard,\nthe algorithm won't _remain_ secret.\n\nLeaving the government with the only remaining option: to make use\nof un-escrowed keys illegal. Which won't begin to bother the terrorists\nand child abusers the government is so fond of referring to.\n\nNote that the Federalist papers stress _one_ reason for the right\nof citizens to bear arms: to defend themselves _against_ the army.\n_Our_ army.\n\nIMHO the _primary_ purpose of private crypto is defend ourselves\n_against_ the government. The odd terrorist I'm not worried about;\nthe goverment damages my quality of life every day.\n\nRob",
         "exactly. i'll another observation: chip does become standard, algorithm won't _remain_ secret. leaving government with only remaining option: make un-escrowed keys illegal. which won't begin bother terrorists child abusers government fond referring note that federalist papers stress _one_ reason right citizens bear arms: defend themselves _against_ army. _our_ army. imho _primary_ purpose private crypto defend ourselves _against_ government. terrorist worried about; goverment damages quality life every day."
        ],
        [
         "17",
         "\nAnd of course, Mike Ramsey was (at one time) the captain in Buffalo prior to\nbeing traded to Pittsburgh.  Currently, the Penguins have 3 former captains\nand 1 real captain (Lemieux) playing for them.  They rotate the A's during the\nseason (and even the C while Mario was out).  Even Troy Loney has worn the C\nfor the Pens.\n\n-Jay\n",
         "course, mike ramsey time) captain buffalo prior being traded pittsburgh. currently, penguins have former captains real captain (lemieux) playing them. they rotate during season (and even while mario out). even troy loney worn pens. -jay"
        ],
        [
         "18",
         "In Texas (Well, Corpus Christi anyway) if you pick up the phone and dial\n890 the phone company will read back the number to you.\nTry it. It might work.\n\n",
         "texas (well, corpus christi anyway) pick phone dial phone company will read back number you. might work."
        ],
        [
         "19",
         "\n   I'm sorry, I thought we were discussing heresy.  I assumed that heresy\nmeant a departure from orthodoxy, in which case generally accepted belief is\nindeed an important issue.  In this case, the definition of the word \"create\"\nis of great importance, since creation is the issue being discussed.\n\n\n  I should have said \"given the Mormon belief.\"  If you disagree with the\nMormon belief that creation is more a function of organization of eternally\nexistent substance than one of ex nihilo creation, then that is the important\npoint.\n\n\n  Correction: you interpret the Bible to mean something very specific by\nsuch terms.\n\n   It always cracks me up when anti-Mormons presume to tell Mormons what they\nbelieve.  Mormons do, in fact, believe that all people, including Christ and\nLucifer, are children of God in the sense that we were all created (or\norganized or whatever) by Him.  We also believe that being \"offspring\" of\nGod has a symbolic sense when applied to being spiritually \"born again\" of\nHim.  Thus the same word can be used to convey different meanings.  This is\nhow language works, Robert, and it's why making someone an offender for a\nword is dangerous.\n\n\n<...>\n\n   On the contrary, Robert, it is not a red herring at all to show that those\nwho rely wholly on the Bible cannot seem to agree on what it says.  You say\nthat one must simply \"look at the Bible\" to see what it teaches, but centuries\nof people doing just that have sho0wn that no one is really sure what it says.\nAre we to believe that you are the only one who really understands the\nscriptures?\n\n\n  Let me clarify this one more time.  You did not refer to the Mormon belief\nthat Jesus needed to be saved, but rather to McConkie's belief in same.  We\nkeep trying to point out to you that Bruce McConkie is not the source of\nMormon doctrine, and you keep ignoring it. (see below)\n\n\n  On the contrary, Robert, if you are quoting McConkie's words as Mormon\ncanon then the question of whether they are canon or not is of *great*\nimportance.  The fact is that they are not.  Whether or not they indicate\ngeneral Mormon belief would only be ascertainable by interviewing a large\nnumber of Mormons.",
         "sorry, thought were discussing heresy. assumed that heresy meant departure from orthodoxy, which case generally accepted belief indeed important issue. this case, definition word \"create\" great importance, since creation issue being discussed. should have said \"given mormon belief.\" disagree with mormon belief that creation more function organization eternally existent substance than nihilo creation, then that important point. correction: interpret bible mean something very specific such terms. always cracks when anti-mormons presume tell mormons what they believe. mormons fact, believe that people, including christ lucifer, children sense that were created organized whatever) him. also believe that being \"offspring\" symbolic sense when applied being spiritually \"born again\" him. thus same word used convey different meanings. this language works, robert, it's making someone offender word dangerous. <...> contrary, robert, herring show that those rely wholly bible cannot seem agree what says. that must simply \"look bible\" what teaches, centuries people doing just that have sho0wn that really sure what says. believe that only really understands scriptures? clarify this more time. refer mormon belief that jesus needed saved, rather mcconkie's belief same. keep trying point that bruce mcconkie source mormon doctrine, keep ignoring (see below) contrary, robert, quoting mcconkie's words mormon canon then question whether they canon *great* importance. fact that they not. whether they indicate general mormon belief would only ascertainable interviewing large number mormons."
        ],
        [
         "20",
         "\n\n\n\n\tI'd like to see this info as well.  As for wavelength, I think\nyou're primarily going to find two - 880 nM +/- a bit, and/or 950 nM\n+/- a bit.  Usually it is about 10 nM either way.  The two most common\nI have seen were 880 and 950 but I have also heard of 890 and 940.\nI'm not sure that the 10 nM one way or another will make a great deal of\ndifference.\n\n\tAnother suggestion - find a brand of TV that uses an IR remote,\nand go look at the SAMS photofact for it.  You can often find some very\ndetailed schematics and parts list for not only the receiver but the\ntransmitter as well, including carrier freq. specs. and tone decoding\nspecs. if the system uses that.",
         "like this info well. wavelength, think you're primarily going find bit, and/or bit. usually about either way. most common have seen were have also heard 940. sure that another will make great deal difference. another suggestion find brand that uses remote, look sams photofact often find some very detailed schematics parts list only receiver transmitter well, including carrier freq. specs. tone decoding specs. system uses that."
        ],
        [
         "21",
         "Just a shot here, but ya never know:\n\nI once bought a (REAL) cheap equalizer / power amp for my car tape player \nat one of those motel-room truckload sales, and it sounded great.  For a \nwhile, that is.  Then one channel quit entirely.  I opened it up, and the \namplifier chip for the bad channel had simply melted some of its solder \njoints attaching it to the PCB.  I soldered them back and it worked fine.  \nI just had to keep the volume a bit lower than I did before.  Probably \nlousy heat sinking.\n\nYou said \"a nice Alpine\" which I'm sure is a few orders of mag higher\nin quality than the P.O.S. I had.  But the point is - look inside before\nyou scrap it, since you OCCASIONALLY find something you can repair.\nMaybe even the same thing I found.",
         "just shot here, never know: once bought (real) cheap equalizer power tape player those motel-room truckload sales, sounded great. while, that then channel quit entirely. opened amplifier chip channel simply melted some solder joints attaching pcb. soldered them back worked fine. just keep volume lower than before. probably lousy heat sinking. said nice alpine\" which sure orders higher quality than p.o.s. had. point look inside before scrap since occasionally find something repair. maybe even same thing found."
        ],
        [
         "22",
         "\nThere is a (likely) veto proof majority in the house.  The Senate,\nunfortunately, is a different story.  The Lt.Gov. has vowed that the bill will\nnot be voted on, and he has the power to do it.  In addition, the Senate is a\nmuch smaller, and more readily manipulated body.\n\nOn ther other hand, the semi-automatic ban will likely not live, as at least\nfifty per cent of the house currently opposes it, and it is VERY far down in\nthe bill order in the Senate (I believe it will be addressed after the CCW\nbill).\n\nAnd I thought my TX Political Science class was a waste of time!",
         "there (likely) veto proof majority house. senate, unfortunately, different story. lt.gov. vowed that bill will voted power addition, senate much smaller, more readily manipulated body. ther other hand, semi-automatic will likely live, least fifty cent house currently opposes very down bill order senate believe will addressed after bill). thought political science class waste time!"
        ],
        [
         "23",
         "\n\n\n\n\"Put not your trust in princes\" is the Biblical proverb.  The modern\nanalog is governments.  At the time of the founding of the US, the\nidea that citizens had rights above those of the government was not\nthat common, but was explicit in the writings of the founders.  To a\nconsiderable extent, Englishmen also had those rights.\n\nYes, times change, and technology changes.  The possibility of \na few governments enserfing all of mankind was not possible until\nquite recently.  In the feudal system, the lord was almost as\nrestricted as the serfs, so having the people enserf themselves\ndoes not make anything better; most feudal lords, and even most\nslaveowners, did not mistreat those under them.\n\nFreedom of speech and freedom of religion are under real attack NOW.\n",
         "\"put your trust princes\" biblical proverb. modern analog governments. time founding idea that citizens rights above those government that common, explicit writings founders. considerable extent, englishmen also those rights. yes, times change, technology changes. possibility governments enserfing mankind possible until quite recently. feudal system, lord almost restricted serfs, having people enserf themselves does make anything better; most feudal lords, even most slaveowners, mistreat those under them. freedom speech freedom religion under real attack now."
        ],
        [
         "24",
         "As I promised, I would give you the name of the Panther's president.\nAfter Huizenga announced the team name, he announced that Bill\nTorrey is named the first president of the Panthers.\n\nA little Bio from _Sun-Sentinel_\nTorrey, the architect of four consecutive Stanley Cup champions as \npersident and general manager of the New York Islanders.\nThroughout his 27 years in the NHL, Bill Torrey's bow ties have become\nas much of a signature as Andre Agassi's hair.\n\nThe Panthers will introduce a uniform, insignia, and ticket-price \ninformation in early next month.  In the meantime, Huizenga leaves the\nday-to-day operation in the hands of Torrey and Bob Clarke, the VP and\nGM.\n\nThe Florida Panthers was chosen as the name of South Florida's NHL team\nto focus attention on an endangered species.  There are 30 to 50 Florida\nPanthers in the Everglades National Park, the Big Cypress National \nPreserve and other parts of southwestern Florida.\n\n\"The Panther is the quickest-striking of all cats,\" Torrey said.  \n\"Hopefully that's the way we'll play on ice.\"\n\nMore BIO:\nIn Torrey, Huizenga has the first man hired by the expansion Islanders\nin 1972 and the one most responsible for guiding the Islanders to four\nconsecutive Stanley Cup championships (their first after only eight\nseasons) and 14 consecutive winning seasons.  As executive vice president\nof the California Golden Seals, Torrey watched the Seals go to the play-\noffs in 1968, only their second NHL season.\n\n\"I guess this completes my own personal hat trick\", said Torrey, 58, a\nnative of Montreal but a resident of Bear Lakes Country Club in Palm\nBeach.\n\nJim G.\nother accounts:\ngorycki@sol.cse.fau.edu\njimg@cybernet.cse.fau.edu\n\n--------------------------------------------------------------------\n\"I repeat myself when under stress. I repeat myself when under stress.\nI repeat myself when under stress. I repeat myself when under stress.\nI repeat...\"  Adrian Belew, \"Indicipline\"",
         "promised, would give name panther's president. after huizenga announced team name, announced that bill torrey named first president panthers. little from _sun-sentinel_ torrey, architect four consecutive stanley champions persident general manager york islanders. throughout years nhl, bill torrey's ties have become much signature andre agassi's hair. panthers will introduce uniform, insignia, ticket-price information early next month. meantime, huizenga leaves day-to-day operation hands torrey clarke, florida panthers chosen name south florida's team focus attention endangered species. there florida panthers everglades national park, cypress national preserve other parts southwestern florida. \"the panther quickest-striking cats,\" torrey said. \"hopefully that's we'll play ice.\" more bio: torrey, huizenga first hired expansion islanders 1972 most responsible guiding islanders four consecutive stanley championships (their first after only eight seasons) consecutive winning seasons. executive vice president california golden seals, torrey watched seals play- offs 1968, only their second season. guess this completes personal trick\", said torrey, native montreal resident bear lakes country club palm beach. other accounts: gorycki@sol.cse.fau.edu jimg@cybernet.cse.fau.edu -------------------------------------------------------------------- repeat myself when under stress. repeat myself when under stress. repeat myself when under stress. repeat myself when under stress. repeat...\" adrian belew, \"indicipline\""
        ],
        [
         "25",
         "The concept of God as a teacher is indeed interesting. Does He grade on\na curve, does He cheat? That is interesting. Not to mention thought\nprovoking. My own concept is that He is a Father and we are His\nchildren. In that He loves us, with a love that we can never understand\nuntil we are with Him. The Bible says that He looks on the heart as the\nfinal measure. From that perspective, in a grading context, the heart is\nthe final test.\nSpecifically, most Christians would agree that there is only one Heaven\nand one Hell. From that perspective, it is Heaven or Hell. You either go\nto one or the other. The \"grading\" on a pass/fail basis is done by God\nthe Father with intervention by Jesus the Son. Not by others. For only\nGod sees the heart. The Bible says of the heart, \"...who can know it.\" I\nwould say there has always been, and always be, an unchanging method.\nThat is what makes a relationship with Christ so secure. In an uncertain\nand ever changing landscape He is always the same. Yesterday, today and\ntomorrow. Concerning whether or not our childhoods are considerd as part\nof the test, my own conviction is no. Were that the case I certainly\nwouldn't be going to Heaven. The Bible speaks very plainly about the\nlove and care Jesus had for and about children. The reality is that we\nare all children. Some of us just have bigger bodies and grey hair. But\nthe Father, our Father is always there. Like most Fathers He wants only\nthe best for His own. There maybe decipline, but there is more love.\nIt's sometimes looks like Christianity is a test, to see who makes it\nand who doesn't. Those who do pass=Heaven, and those who don't go to the\nother place. But it is really much more than that...\nThere are few experts. Most of us are just travelers looking for the\nlight and the way Home. Praying that we can bring others with us.\n",
         "concept teacher indeed interesting. does grade curve, does cheat? that interesting. mention thought provoking. concept that father children. that loves with love that never understand until with him. bible says that looks heart final measure. from that perspective, grading context, heart final test. specifically, most christians would agree that there only heaven hell. from that perspective, heaven hell. either other. \"grading\" pass/fail basis done father with intervention jesus son. others. only sees heart. bible says heart, \"...who know it.\" would there always been, always unchanging method. that what makes relationship with christ secure. uncertain ever changing landscape always same. yesterday, today tomorrow. concerning whether childhoods considerd part test, conviction were that case certainly wouldn't going heaven. bible speaks very plainly about love care jesus about children. reality that children. some just have bigger bodies grey hair. father, father always there. like most fathers wants only best own. there maybe decipline, there more love. it's sometimes looks like christianity test, makes doesn't. those pass=heaven, those don't other place. really much more than that... there experts. most just travelers looking light home. praying that bring others with"
        ],
        [
         "26",
         "\nIt really doesn't strike me as very funny. It is rather indicative of what\na crisis their economy is in. I imagine they are in desparate need of\nmarkets to sustain industries and people which are nolonger under central\ncontrol of the government.\n--\nJim Rosenkranz\trosen@kranz.enet.dec.com",
         "really doesn't strike very funny. rather indicative what crisis their economy imagine they desparate need markets sustain industries people which nolonger under central control government. rosenkranz rosen@kranz.enet.dec.com"
        ],
        [
         "27",
         "\n\nI don't know, but I'm as willing to speculate as anyone.\n\nSeveral people have suggested that the chips use public-key cryptography.\nAnother possibility is to use Diffie-Hellman key exchange, or some other\nalgorithm which has a similar effect.  DH allows both ends to agree on\na session key which they use with symmetric cryptography (something\nlike DES) for the encryption.\n\nHow could the \"back door\" keys work in this system?  I can see a few\npossibilities.  One is that the DH-like algorithm has the property that\nthe session key can be deduced by an eavesdropper who knows the back door\nkeys for one (or possibly both) communicants.  Perhaps the random numbers\nused in the DH are seeded by the back door key, or some such.\n\nAnother possibility, as was suggested here earlier, is that the chips\nsimply broadcast the session key, encrypted with the chip's own\ninternal secret key.  In this system the back door keys are secret keys\nusable for decrypting this session key broadcast.  Actually the chip's\nsecret key doesn't need to be a public key in this usage, but can be\nidentical to the secret back-door key.  (This proposal seems most\nstraightforward to me.)\n\nStill another possibility is that the encryption algorithm used for the\nmessage itself has a \"dual key\" property, that possession of either of\ntwo keys can be used to decrypt it.  One key would be the session key from\nthe DH exchange, and the other would be the back door key for the chip.\n\nIt's worth noting that one of the proposals Dorothy Denning raised\nduring her amazingly prescient on-line discussion last November and\nDecember was a variation on Diffie-Hellman in which a third party would\nparticipate in deriving the session keys.  This doesn't quite fit into\nwhat we know of how Clipper works but it hints that those who had early\nknowledge of Clipper (or whose thinking was somehow synchronized with\nClipper designers) may have had Diffie-Hellman on their minds.",
         "don't know, willing speculate anyone. several people have suggested that chips public-key cryptography. another possibility diffie-hellman exchange, some other algorithm which similar effect. allows both ends agree session which they with symmetric cryptography (something like des) encryption. could \"back door\" keys work this system? possibilities. that dh-like algorithm property that session deduced eavesdropper knows back door keys possibly both) communicants. perhaps random numbers used seeded back door key, some such. another possibility, suggested here earlier, that chips simply broadcast session key, encrypted with chip's internal secret key. this system back door keys secret keys usable decrypting this session broadcast. actually chip's secret doesn't need public this usage, identical secret back-door key. (this proposal seems most straightforward me.) still another possibility that encryption algorithm used message itself \"dual key\" property, that possession either keys used decrypt would session from exchange, other would back door chip. it's worth noting that proposals dorothy denning raised during amazingly prescient on-line discussion last november december variation diffie-hellman which third party would participate deriving session keys. this doesn't quite into what know clipper works hints that those early knowledge clipper whose thinking somehow synchronized with clipper designers) have diffie-hellman their minds."
        ],
        [
         "28",
         "GAME(S) OF 4/15\n---------------\nADIRONDACK 6\tCDI 2\t(Adirondack leads series, 1-0)\n\n=================================================\t\t\t\nFIRST ROUND\t\t\t\t\t\nSpringfield Indians vs Providence Bruins\nGm 1:\tSpringfield 3\tPROVIDENCE 2\t\nGm 2:\tSpringfield 5\tPROVIDENCE 4\nGm 3:\t4/16\tProvidence at Springfield\nGm 4:\t4/17\tProvidence at Springfield\nGm 5:\t4/22\tSpringfield at Providence\t*\nGm 6:\t4/24\tProvidence at Springfield\t*\nGm 7:\t4/27\tSpringfield at Providence\t*\n\nCD Islanders vs Adirondack Red Wings\nGm 1:\tADIRONDACK 6\tCDI 2\nGm 2:\t4/17\tCDI at Adirondack\nGm 3:\t4/18\tAdirondack at CDI\nGm 4:\t4/21\tAdirondack at CDI\nGm 5:\t4/23\tCDI at Adirondack\t*\nGm 6:\t4/24\tAdirondack at CDI\t*\nGm 7:\t4/26\tCDI at Adirondack\t*\n\nBaltimore Skipjacks at Binghamton Rangers\nGm 1:\t4/16\tBaltimore at Binghamton\nGm 2:\t4/17\tBaltimore at Binghamton\nGm 3:\t4/23\tBinghamton at Baltimore\nGm 4:\t4/24\tBinghamton at Baltimore\nGm 5:\t4/26\tBaltimore at Binghamton\t*\nGm 6:\t4/28\tBinghmaton at Baltimore\t*\nGm 7:\t4/30\tBaltimore at Binghamton\t*\n\nUtica Devils vs Rochester Americans\nGm 1:\t4/16\tUtica at Rochester\nGm 2:\t4/17\tUtica at Rochester\nGm 3:\t4/20\tRochester at Utica\nGm 4:\t4/22\tRochester at Utica\nGm 5:\t4/24\tUtica at Rochester\t*\nGm 6:\t4/26\tRochester at Utica\t*\nGm 7:\t4/28\tUtica at Rochester\t*\n\nMoncton Hawks vs St John's Maple Leafs\nGm 1:\tSt John's 4\tMoncton 2\nGm 2:\t4/17\tMoncton vs St John's at Halifax\nGm 3:\t4/21\tSt John's at Moncton\nGm 4:\t4/23\tSt John's at Moncton\nGm 5:\t4/26\tMoncton vs St John's at Halifax\t*\nGm 6:\t4/28\tSt John's at Moncton\t\t*\nGm 7:\t4/30\tMoncton vs St John's at Halifax\t*\n\nCape Breton Oilers vs Fredericton Canadiens\nGm 1:\tFredericton 4\tCape Breton 3\t(2OT)\nGm 2:\t4/16\tCape Breton at Fredericton\t\nGm 3:\t4/20\tFredericton at Cape Breton\nGm 4:\t4/22\tFredericton at Cape Breton\nGm 5:\t4/24\tCape Breton at Fredericton\t*\nGm 6:\t4/26\tFredericton at Cape Breton\t*\nGm 7:\t4/28\tCape Breton at Fredericton\t*",
         "game(s) 4/15 --------------- adirondack (adirondack leads series, 1-0) ================================================= first round springfield indians providence bruins springfield providence springfield providence 4/16 providence springfield 4/17 providence springfield 4/22 springfield providence 4/24 providence springfield 4/27 springfield providence islanders adirondack wings adirondack 4/17 adirondack 4/18 adirondack 4/21 adirondack 4/23 adirondack 4/24 adirondack 4/26 adirondack baltimore skipjacks binghamton rangers 4/16 baltimore binghamton 4/17 baltimore binghamton 4/23 binghamton baltimore 4/24 binghamton baltimore 4/26 baltimore binghamton 4/28 binghmaton baltimore 4/30 baltimore binghamton utica devils rochester americans 4/16 utica rochester 4/17 utica rochester 4/20 rochester utica 4/22 rochester utica 4/24 utica rochester 4/26 rochester utica 4/28 utica rochester moncton hawks john's maple leafs john's moncton 4/17 moncton john's halifax 4/21 john's moncton 4/23 john's moncton 4/26 moncton john's halifax 4/28 john's moncton 4/30 moncton john's halifax cape breton oilers fredericton canadiens fredericton cape breton (2ot) 4/16 cape breton fredericton 4/20 fredericton cape breton 4/22 fredericton cape breton 4/24 cape breton fredericton 4/26 fredericton cape breton 4/28 cape breton fredericton"
        ],
        [
         "29",
         "\nYes!  Up the coast, over to Portland, then up I-5.  Really nice most\nof the way, and I'm sure there's even better ways.\n\nWatch the weather, though... I got about as good a drenching as\npossible in the Oregon coast range once... \n\n",
         "yes! coast, over portland, then i-5. really nice most way, sure there's even better ways. watch weather, though... about good drenching possible oregon coast range once..."
        ],
        [
         "30",
         "<If Clipper comes to cellular phones along with legal proscriptions against\n<using other cipher systems on these phones, a new and potentially dangerous\n<class of crime is created.\n\nAside from possession of \"terrorist tools\" (unapproved encryption devices\nor programs)...\n\n<Criminals who very badly want inscrutable tactical communications (specifically\n<the terrorists and drug dealers who proponents of key escrow cite as threats)\n<will be highly motivated to steal the cipher phone of a legitimate user, and\n<to kill this person or hold them hostage so discovery of compromise of the\n<device will be delayed.\n<\n<Once a suitable collection of devices is stolen, criminals can communicate\n<with impunity (assuming the cipher system carries no trapdoors apart from\n<key escrow) until and unless the compromise is discovered by some other means.\n<\n<Because life-is-cheap criminals are currently willing to kill people to steal\n<very large and conspicuous property (luxury cars), it is reasonable to assume\n<that they will be willing to kill people to steal small and inconspicuous\n<property (a cipher cellular phone).  Just as we have seen in the past with\n<\"blue box\" technology, and in the present with modified cellular phones,\n<we can expect to see among high-stakes criminals a lucrative market for\n<stolen cipher phones which can be used for a few days.  The high-stakes\n<criminals will pay the life-is-cheap types substantial amounts for stolen\n<instruments.\n<\n<Because a person is typically discovered as missing or dead in a few days,\n<a stolen instrument will be usable for only a few days.  There will be a\n<continuing demand for fresh phones: fresh bodies.\n\nAnd since Clinton is also going full-bore to deny unconnected citizens\nthe means to defend themselves (\"we will protect you ... 911 is good\nenough for you...\") by perverting or trashing the Second Amendment,\nthe targeted individuals will be GUARANTEED easy prey.  What is a few\nbodies compared to the \"greater good\" of the Fed being able to defeat\na citizen's security with impunity?  You don't think there doesn't\nexist a means by which the NSA can do their usual eavesdropping, scanning\nfor keywords, with OR WITHOUT a court order or any 'keys', do you?\nIf so, I got some great Florida real estate you might be interested in...\n\nPerhaps the idea of escrowed keys is meant to divert the discussion to\nhow they will be safeguarded, and away from the basic fact that the\ngovernment is systematically taking away our right to privacy, to be\nsecure, for the means of self-defense, and just about every other right\nspelled out in the Bill of Rights?\n\nNawwww - they are the GOVERNMENT!  \"Trust us...\"\n\n<In other words, Clipper and similar systems have the potential to turn a\n<current inconvenience to law enforcement into a direct, vicious, and\n<persistent threat to the general public.\n\nWhat is more important to the government?  Law Enforcement (people control)\nor the safety of the general public?  The gun control issue should answer\nthat one - look at how good that works in making cities safer:  The places\nthat are the worst in that regard are also the places with the 'best' gun\ncontrol.  Government is NOT about public good, it is about CONTROL.\n\nNever forget that.  Our Founding Fathers sure were concerned about it.\n\n<\n<  [ ... remainder deleted ... ]\n<\n\n",
         "clipper comes cellular phones along with legal proscriptions against <using other cipher systems these phones, potentially dangerous <class crime created. aside from possession \"terrorist tools\" (unapproved encryption devices programs)... <criminals very badly want inscrutable tactical communications (specifically <the terrorists drug dealers proponents escrow cite threats) <will highly motivated steal cipher phone legitimate user, kill this person hold them hostage discovery compromise <device will delayed. <once suitable collection devices stolen, criminals communicate <with impunity (assuming cipher system carries trapdoors apart from <key escrow) until unless compromise discovered some other means. <because life-is-cheap criminals currently willing kill people steal <very large conspicuous property (luxury cars), reasonable assume <that they will willing kill people steal small inconspicuous <property cipher cellular phone). just have seen past with <\"blue box\" technology, present with modified cellular phones, expect among high-stakes criminals lucrative market <stolen cipher phones which used days. high-stakes <criminals will life-is-cheap types substantial amounts stolen <instruments. <because person typically discovered missing dead days, stolen instrument will usable only days. there will <continuing demand fresh phones: fresh bodies. since clinton also going full-bore deny unconnected citizens means defend themselves (\"we will protect good enough you...\") perverting trashing second amendment, targeted individuals will guaranteed easy prey. what bodies compared \"greater good\" being able defeat citizen's security with impunity? don't think there doesn't exist means which their usual eavesdropping, scanning keywords, with without court order 'keys', you? some great florida real estate might interested in... perhaps idea escrowed keys meant divert discussion they will safeguarded, away from basic fact that government systematically taking away right privacy, secure, means self-defense, just about every other right spelled bill rights? nawwww they government! \"trust us...\" other words, clipper similar systems have potential turn <current inconvenience enforcement into direct, vicious, <persistent threat general public. what more important government? enforcement (people control) safety general public? control issue should answer that look good that works making cities safer: places that worst that regard also places with 'best' control. government about public good, about control. never forget that. founding fathers sure were concerned about remainder deleted"
        ],
        [
         "31",
         "\nI doubt this is a Quadra-specific problem.  I had to get\nrid of my \"venerable\" Bernoulli 20 last year (with enough \ncartridges purchased at ~$90 each to make the whole thing \nworth more than my whole computer ;).  The tech support guys\nat Ocean Microsystems suggested that some third-party drivers \nmight fix the problem - in my case the cartridges wouldn't \nformat/mount/partition for A/UX.  ",
         "doubt this quadra-specific problem. \"venerable\" bernoulli last year (with enough cartridges purchased ~$90 each make whole thing worth more than whole computer tech support guys ocean microsystems suggested that some third-party drivers might problem case cartridges wouldn't format/mount/partition a/ux."
        ],
        [
         "32",
         "\n\nTerry, hi.  I recently bought an LCIII and a Datadesk 101E.  I can't\nremember trying to rebuild the desktop with it, however it did give me\na strange problem.  When I held down shift during startup to disable\nall extensions, nothing happened. I tried it with another keyboard, using\nthe same adb connector cable- and it worked with the other keyboard.\nThe shift key on the Datadesk keyboard worked well otherwise. I checked\nthe dipswitches and they are fine.  Try disabling your extensions and tell\nme if it works.\n\nI am annoyed with Datadesk.  I sent them the keyboard in the mail for\ninspection/repair/replacement.  The technician on the phone said they\nhave a 10-14 day turn around time- meaning you should receive the\ninspected/repaired keyboard in that time.  Well, they have had the\nkeyboard for over 3 weeks and I still have gotten very little info\nfrom them about it. It's annoying because it cost me $12 to send them\nthe keyboard (they do not refund the money) and their costumer service\nlines are toll calls. Tell me if you have a similar experience.\n\n-David",
         "terry, recently bought lciii datadesk 101e. can't remember trying rebuild desktop with however give strange problem. when held down shift during startup disable extensions, nothing happened. tried with another keyboard, using same connector cable- worked with other keyboard. shift datadesk keyboard worked well otherwise. checked dipswitches they fine. disabling your extensions tell works. annoyed with datadesk. sent them keyboard mail inspection/repair/replacement. technician phone said they have 10-14 turn around time- meaning should receive inspected/repaired keyboard that time. well, they have keyboard over weeks still have gotten very little info from them about it's annoying because cost send them keyboard (they refund money) their costumer service lines toll calls. tell have similar experience. -david"
        ],
        [
         "33",
         "It was a gift from God.  I think basically the reasoning was that the\ntradition in the Church held that Mary was also without sin as was Jesus.\nAs the tenets of faith developed, particularly with Augustine, sin was\nmore and more equated with sex, and thus Mary was assumed to be a virgin\nfor life (since she never sinned, and since she was the spouse of God, etc.)\nSince we also had this notion of original sin, ie. that man is born with\na predisposition to sin, and since Mary did not have this predisposition\nbecause she did not ever sin, she didn't have original sin.  When science\ndiscovered the process of conception, the next step was to assume that\nMary was conceived without original sin, the Immaculate Conception.\n\nMary at that time appeared to a girl named Bernadette at Lourdes.  She \nrefered to herself as the Immaculate Conception.  Since a nine year old \nwould have no way of knowing about the doctrine, the apparition was deemed\nto be true and it sealed the case for the doctrine.\n\nRCs hold that all revelation comes from two equally important sources, that\nbeing Sacred Scripture and Holy Tradition.  In this case, mostly tradition.",
         "gift from god. think basically reasoning that tradition church held that mary also without jesus. tenets faith developed, particularly with augustine, more more equated with sex, thus mary assumed virgin life (since never sinned, since spouse god, etc.) since also this notion original sin, that born with predisposition sin, since mary have this predisposition because ever sin, didn't have original sin. when science discovered process conception, next step assume that mary conceived without original sin, immaculate conception. mary that time appeared girl named bernadette lourdes. refered herself immaculate conception. since nine year would have knowing about doctrine, apparition deemed true sealed case doctrine. hold that revelation comes from equally important sources, that being sacred scripture holy tradition. this case, mostly tradition."
        ],
        [
         "34",
         "I will try to answer some of Dorin's questions, even though they were\nnot addressed to me specifically, but I feel that I am a bit concerned\nby the thread since I am a Southern Lebanese from a village that is \noften on the receiving end of Israel's bombs.\nIn the first place the death of three soldiers on a patrol in occupied\nLebanese terrritory is NOT an act of terrorism or murder.  It is \ndisingeneous to compare their death to that of athletes in Munich\nor any other act of terrorism or mrder.  This exercise is aimed \nsolely at diverting the issue and is far from the truth.\nIt seems to me, Dorin, that, you are so remote and ignorant of the problem\non the ground that your comments can only be charactrized as irrelevant,\nand heavily colored by the preconceptions and misinformation.\nI will try to paint the most accurate picture I can of\nwhat the situation really is in South Lebanon.\n\n\n\nI am.  I was back in my home village this last summer.  For your information\nwe are PEOPLE, not a bunch of indiscriminate terrorists.  Most of the \npeople in my village are regular inhabitants that go about their daily\nbusiness, some work in the fields, some own small shops, others are\nolder men that go to the coffe shop and drink coffee.  Is that so hard to\nimagine ????  It is NOT a \"terrorist camp\" as you and the Israelis like \nto view the villages they are small communities with kids playing soccer\nin the streets, women preparing lunch, men playing cards, etc.....\nSOME young men, usually aged between 17 to 30 years are members of\nthe Lebanese resistance.  Even the inhabitants of the village do not \nknow who these are, they are secretive about it, but most people often\nsuspect who they are and what they are up to.  These young men are\nsupported financially by Iran most of the time.  They sneak arms and\nammunitions into the occupied zone where they set up booby traps\nfor Israeli patrols.  Every time an Israeli soldier is killed or injured\nby these traps, Israel retalliates by indiscriminately bombing villages\nof their own choosing often killing only innocent civilians.  Once they\nare back they announce that they bombed a \"terrorist  hideout\" where\nan 8 year old girl just happened to be.\nWe are now accustomed to Israeli tactics, and we figure that this is \nthe Israeli way of telling us that \"if you're gonna hurt our soldiers\nyou're gonna pay the price\".  We accept this as a price we have to pay\nto free our land, Israel knows very well that it is not really hurting\nthe resistance that much militarily with these strikes, but rather\njust keeping the pressure on the villagers to demand from their young \nmen to stop attacking Israeli soldiers since these attacks are\ntaking a heavy toll on the lives of the civilian villagers.\nIsrael's retalliation policy is cold hearted, but a reality that\nwe have come to accept and deal with, the Lebanese Resistance\non the other hand is not going to stop its attacks on OCCUPYING \nISRAELI SOLDIERS until they withdraw, this is the only real \nleverage that they have to force Israel to withdraw.\nThe people of South Lebanon are occupied, or shelled by Israel on a \nregular basis.  We do not want to be occupied.  If Israel insists that\nthe so called \"Security Zone\" is necessary for the protection of \nNorthern Israel, than it will have to pay the price of its occupation\nwith the blood of its soldiers.  If Israel is interested in peace,\nthan it should withdraw from OUR land.  We are not asking for the \nestablishment of a Lebanese occupied zone in northern Israel to protect\nour villages that are attacked on a regular basis by Israel, so the\nbest policy seems to be the removal of Israeli occupation and the\nestablishment of peace keeping troops along the border.\n\nI have written before on this very newsgroup, that the only\nreal solution will come as a result of a comprehensive peace\nsettlement whereby Israel withdraws to its own borders and\npeace keeping troops are stationed along the border to insure\nno one on either side of the border is shelled.\nThis is the only realistic solution, it is time for Israel to\nrealize that the concept of a \"buffer zone\" aimed at protecting\nits northern cities has failed.  In fact it has caused much more\nIsraeli deaths than the occasional shelling of Northern Israel\nwould have resulted in.  \nIf Israel really wants to save some Israeli lives it would withdraw \nunilaterally from the so-called \"Security Zone\" before the conclusion\nof the peace talks.  Such a move would save Israeli lives,\nadvance peace efforts, give Israel a great moral lift, better Israel's \npublic image abroad and give it an edge in the peace negociations \nsince Israel can rightly claim that it is genuinely interested in \npeace and has already offered some important concessions.\nAlong with such a withdrawal Israel could demand that Hizbollah\nbe disarmed by the Lebanese government and warn that it will not \naccept any attacks against its northern cities and that if such a\nshelling occurs than it will consider re-taking the buffer zone\nand will hold the Lebanese and Syrian government responsible for it.\nThere seems to be very little incentive for the Syrian and Lebanese\ngoovernment to allow Hizbollah to bomb Israel proper under such \ncircumstances, and now the Lebanese government has proven that it is\ncapable of controlling and disarming all militias as they did\nin all other parts of Lebanon.\n  \n\nI agree, only in the case of the Isareli soldiers their killing\nCANNOT be qualified as murder, no matter what you say.\n\n I have the feeling that you may be able yourself to make\n\nYes, we have no quarrel with Jews, or Israeli civilians.\nThe real problem is with OCCUPYING Israeli soldiers and those brave\nIsraeli pilots that bomb our civilian villages every time an \noccupying soldier is attacked.\n \n",
         "will answer some dorin's questions, even though they were addressed specifically, feel that concerned thread since southern lebanese from village that often receiving israel's bombs. first place death three soldiers patrol occupied lebanese terrritory terrorism murder. disingeneous compare their death that athletes munich other terrorism mrder. this exercise aimed solely diverting issue from truth. seems dorin, that, remote ignorant problem ground that your comments only charactrized irrelevant, heavily colored preconceptions misinformation. will paint most accurate picture what situation really south lebanon. back home village this last summer. your information people, bunch indiscriminate terrorists. most people village regular inhabitants that about their daily business, some work fields, some small shops, others older that coffe shop drink coffee. that hard imagine ???? \"terrorist camp\" israelis like view villages they small communities with kids playing soccer streets, women preparing lunch, playing cards, etc..... some young men, usually aged between years members lebanese resistance. even inhabitants village know these are, they secretive about most people often suspect they what they these young supported financially iran most time. they sneak arms ammunitions into occupied zone where they booby traps israeli patrols. every time israeli soldier killed injured these traps, israel retalliates indiscriminately bombing villages their choosing often killing only innocent civilians. once they back they announce that they bombed \"terrorist hideout\" where year girl just happened accustomed israeli tactics, figure that this israeli telling that you're gonna hurt soldiers you're gonna price\". accept this price have free land, israel knows very well that really hurting resistance that much militarily with these strikes, rather just keeping pressure villagers demand from their young stop attacking israeli soldiers since these attacks taking heavy toll lives civilian villagers. israel's retalliation policy cold hearted, reality that have come accept deal with, lebanese resistance other hand going stop attacks occupying israeli soldiers until they withdraw, this only real leverage that they have force israel withdraw. people south lebanon occupied, shelled israel regular basis. want occupied. israel insists that called \"security zone\" necessary protection northern israel, than will have price occupation with blood soldiers. israel interested peace, than should withdraw from land. asking establishment lebanese occupied zone northern israel protect villages that attacked regular basis israel, best policy seems removal israeli occupation establishment peace keeping troops along border. have written before this very newsgroup, that only real solution will come result comprehensive peace settlement whereby israel withdraws borders peace keeping troops stationed along border insure either side border shelled. this only realistic solution, time israel realize that concept \"buffer zone\" aimed protecting northern cities failed. fact caused much more israeli deaths than occasional shelling northern israel would have resulted israel really wants save some israeli lives would withdraw unilaterally from so-called \"security zone\" before conclusion peace talks. such move would save israeli lives, advance peace efforts, give israel great moral lift, better israel's public image abroad give edge peace negociations since israel rightly claim that genuinely interested peace already offered some important concessions. along with such withdrawal israel could demand that hizbollah disarmed lebanese government warn that will accept attacks against northern cities that such shelling occurs than will consider re-taking buffer zone will hold lebanese syrian government responsible there seems very little incentive syrian lebanese goovernment allow hizbollah bomb israel proper under such circumstances, lebanese government proven that capable controlling disarming militias they other parts lebanon. agree, only case isareli soldiers their killing cannot qualified murder, matter what say. have feeling that able yourself make yes, have quarrel with jews, israeli civilians. real problem with occupying israeli soldiers those brave israeli pilots that bomb civilian villages every time occupying soldier attacked."
        ],
        [
         "35",
         "\n\n\n\n\tI think the Manta is the European name for the \"GT.\"  I'm pretty sure\nthat the only Kadett's sold here were/are the Pontiac LeMans.  I think the\nGT is just an early '70s to mid '70s Manta.  ",
         "think manta european name \"gt.\" pretty sure that only kadett's sold here were/are pontiac lemans. think just early '70s '70s manta."
        ],
        [
         "36",
         "\nIt is interesting that you posted those lyrics, because just the\nother day I was thinking of doing the same.  I like those lyrics,\nsince whenever I am approached by judgemental, pharisitical,\nevangelical fundamentalists who throw the Bible at me because\nI have long hair, wear a black leather jacket, and listen to Black\nSabbath, I have something to throw back.  Usually their chins drop\nand they come up speechless over those not very satanic lyrics.\n\nIt just goes to show that there are more important evils in the\nworld to battle than rock lyrics...........\n\n",
         "interesting that posted those lyrics, because just other thinking doing same. like those lyrics, since whenever approached judgemental, pharisitical, evangelical fundamentalists throw bible because have long hair, wear black leather jacket, listen black sabbath, have something throw back. usually their chins drop they come speechless over those very satanic lyrics. just goes show that there more important evils world battle than rock lyrics..........."
        ],
        [
         "37",
         "\n\nWell, this is alt.atheism.  I hope you arent here to try to convert anyone.\n\n\nMany would disagree.\n\n[...]\n\nWell, you shouldn't give any particular book too much weight.  Actually,\nI don't think that any of these statements is correct.  It is more likely\nthat most of Jesus' fame was attributed to him after his death by those\nwho had some strong motives...\n\n[...]\n\nWhat's a prophecy, and what's so significant about them?\n\n\nI think we understand.\n\n\nWell, sell your computer and donate you life to your religion now...\nDon't waste any time.",
         "well, this alt.atheism. hope arent here convert anyone. many would disagree. [...] well, shouldn't give particular book much weight. actually, don't think that these statements correct. more likely that most jesus' fame attributed after death those some strong motives... [...] what's prophecy, what's significant about them? think understand. well, sell your computer donate life your religion now... don't waste time."
        ],
        [
         "38",
         "\nBattery powered devices like the PowerBook are sometimes more sensitive to \nserial port weirdness.  I had trouble with connecting my Mac Plus to an HP 95LX\nhandheld.  Everything else worked okay on that port, but not the HP. (it runs\non two penlite batteries).  It turned out that the plus (by accident or by \ndesign flaw?) was putting a 4 volt bias on the serial port that was doing \nweird things to the HP (which has only 3v dc!).  The HP worked fine when \nconnected to the printer port.  \n\nDoes your PB screen get dim or anything when connected to the device?  Have you \ntried using the printer port?\n\nGood luck. \n\n--jamie\n",
         "battery powered devices like powerbook sometimes more sensitive serial port weirdness. trouble with connecting plus 95lx handheld. everything else worked okay that port, runs penlite batteries). turned that plus accident design flaw?) putting volt bias serial port that doing weird things (which only dc!). worked fine when connected printer port. does your screen anything when connected device? have tried using printer port? good luck. --jamie"
        ],
        [
         "39",
         "I was lloking at the Geo Prizm Lsi today (very nice).  Anyway, I had a\nquestions that the salesperson couldn't answer.  How does the theft\ndeterrent on the Prizm's audio systems work?  Can't find the answer\nin any of Geo's lterature.  Thanks in advance.",
         "lloking prizm today (very nice). anyway, questions that salesperson couldn't answer. does theft deterrent prizm's audio systems work? can't find answer geo's lterature. thanks advance."
        ],
        [
         "40",
         "terminated\n\nIt is very possible to connect another internal hard disk in any\nmacintosh if you can find the space to put it. I have a IIsi that came\nwith a Quantum 80 meg drive. When I ran into space problems, I slapped in\nanother 40 meg quantum that I had sitting on a shelf. Here is what I did.\n \nFirst off, I was concerned about space. Since both drives are Quantum\nquarter height drives, I finally decided that the logical place for them\nwas stacked one upon the other. Fine, they fit snugly. (I have not had a\nproblem with heat yet, and these drives have been running together for\nover two months.\n\nThe next problem was connecting the drive. If you have a spare internal\nhard disk power cable as I did, then half of your troubles are over. just\nsplice in the extra cable so that you get one square motherboard\nconnector and two hard disk power connectors. If you don't have a spare\ncable, you will have to buy the wires and connectors which can be found\nin any good electronics store for about $10. I would suggest properly\nsoldering/heatshrinking the connections to reduce the possibility of\nshorts or bad connections.\n\nNext, you need a ribbon cable connection. Again, I had a spare hard disk\nribbon cable, and I wanted to be careful in case this didn't word so what\nI did was purchase a crimp on 50 pin cable connector that gave me another\nmale connector in the middle of my spare cable. The part cost $10 again,\nand is easily attached with any good wood vice. The theory behind using a\ncrimp on connector is that if this doesn't work, my original cable is not\ndamaged, and I can go back to the original setup.\n\nHaving done all that, I couldn't be bothered to check the dev notes for\npower consumption so I plugged it in and it works like a charm to this\nday. \n\nIn a mac II, everything should work the same. Be careful with the ID's of\nthe drive, and ensure that the terminating resistors on both drives are\nintact. I did not try this without the terminating resistors but it\nseemed logical that if I am splitting the SCSI chain, that the signal\nshould be terminated at all the ends.\n\nLet me know if you have any more questions.",
         "terminated very possible connect another internal hard disk macintosh find space have iisi that came with quantum drive. when into space problems, slapped another quantum that sitting shelf. here what did. first off, concerned about space. since both drives quantum quarter height drives, finally decided that logical place them stacked upon other. fine, they snugly. have problem with heat yet, these drives have been running together over months. next problem connecting drive. have spare internal hard disk power cable did, then half your troubles over. just splice extra cable that square motherboard connector hard disk power connectors. don't have spare cable, will have wires connectors which found good electronics store about $10. would suggest properly soldering/heatshrinking connections reduce possibility shorts connections. next, need ribbon cable connection. again, spare hard disk ribbon cable, wanted careful case this didn't word what purchase crimp cable connector that gave another male connector middle spare cable. part cost again, easily attached with good wood vice. theory behind using crimp connector that this doesn't work, original cable damaged, back original setup. having done that, couldn't bothered check notes power consumption plugged works like charm this day. everything should work same. careful with id's drive, ensure that terminating resistors both drives intact. this without terminating resistors seemed logical that splitting scsi chain, that signal should terminated ends. know have more questions."
        ],
        [
         "41",
         "\n\nIf you do a MEDLINE search on \"turmeric\" you'll see that it is a potent\nlipoxygenase inhibitor which is being investigated in a number of areas.\nI'm in cardiology and about 4 years ago the cardiothoracic surgery lab at my\nhospital compared the effect of a teaspoon of dissolved turmeric vs. a $2000\nbolus of tPA in preventing myocardial reperfusion injury in a perfused\nLangendorff sheep heart. The turmeric was more effective :-)\n\n\nA colleague of mine in the School of Pharmacy (Dr. Ron Kohen) has a paper \"in\npress\" on the free radical scavenging activity and antioxidant activity of tea.\n\nJosh\nbackon@VMS.HUJI.AC.IL\n",
         "medline search \"turmeric\" you'll that potent lipoxygenase inhibitor which being investigated number areas. cardiology about years cardiothoracic surgery hospital compared effect teaspoon dissolved turmeric $2000 bolus preventing myocardial reperfusion injury perfused langendorff sheep heart. turmeric more effective colleague mine school pharmacy (dr. kohen) paper press\" free radical scavenging activity antioxidant activity tea. josh backon@vms.huji.ac.il"
        ],
        [
         "42",
         "\nOK, I've asked this before, and with a new thread on these lines, I\nask this again:\n\n1: If a large hole current is run thru a resistor, will there be\n   I^2 * R cooling instead of heating?\n\n2: Can anyone design an amplifier that preferentially amplifies\n   hole currents over normal electron currents?\n\n3: what semiconductor materials have the highest ratio of\n   hole mobility to electron mobility? (please quote actual\n   test samples rather than estimates based on theory. Also,\n   don't be limited to semiconductors: consider also insulators,\n   resistors, dielectrics, piezo-electrics, conductors,\n   magnets (metal, ceramic), magnetostrictives, etc).\n\nNOTES:\n\n   to summarize, this thread has so far stated that the only area\n   where holes are not detectable is the vacuum. That is, hole\n   particles only exist in the presence of matter.\n   Previous threads have stated that holes only exist in certain\n   semi-conductors. The question that naturally arises is if\n   the hole currents inside a semi-conductor vanish at the point\n   where the semiconductor is joined to a conductor (say, copper).\n   I don't want a theoretical discussion here about whether\n   holes could exist inside metal conductors, rather I ask for\n   an experimental discussion on how to amplify and detect such\n   currents *if* they exist.\n   Also note that I have cross-posted this to sci.electronics\n   since this is now becoming an electronic discussion.\n\nThanx,\nEric.\n\n----\n ET   \"A Force of Nature\"",
         "i've asked this before, with thread these lines, this again: large hole current thru resistor, will there cooling instead heating? anyone design amplifier that preferentially amplifies hole currents over normal electron currents? what semiconductor materials have highest ratio hole mobility electron mobility? (please quote actual test samples rather than estimates based theory. also, don't limited semiconductors: consider also insulators, resistors, dielectrics, piezo-electrics, conductors, magnets (metal, ceramic), magnetostrictives, etc). notes: summarize, this thread stated that only area where holes detectable vacuum. that hole particles only exist presence matter. previous threads have stated that holes only exist certain semi-conductors. question that naturally arises hole currents inside semi-conductor vanish point where semiconductor joined conductor (say, copper). don't want theoretical discussion here about whether holes could exist inside metal conductors, rather experimental discussion amplify detect such currents *if* they exist. also note that have cross-posted this sci.electronics since this becoming electronic discussion. thanx, eric. ---- force nature\""
        ],
        [
         "43",
         "Hi,\n\nI'm interested in writing a program to generate a SIRD picture, you know\nthe stereogram where you cross your eyes and the picture becomes 3D.\n\nDoes anyone have one or know where I can get one?\n\nPlease e-mail to steveq@sndcrft.DIALix.oz.au with any replies.\n\nMany thanks for your help.",
         "interested writing program generate sird picture, know stereogram where cross your eyes picture becomes does anyone have know where one? please e-mail steveq@sndcrft.dialix.oz.au with replies. many thanks your help."
        ],
        [
         "44",
         ".Chris\n",
         ".chris"
        ],
        [
         "45",
         "*Reminder*   Plan now for the Andrew Conference.\n*Date* The dates are as noted below.  (We have not changed them.)\n*Submission extension*   We are still accepting papers.\n\n*Tutorial topic*  \n\t_Converting Andrew source code to C++_\n\nThis tutorial will discuss the steps necessary to convert a site from C\n(extended with classC) to C++.  Conversion of the source code requires\nonly a couple of steps:\n\trun the converter\n\tfill in missing type information\nDescribing this will not take long.  The remainder of the day will be\nspent learning how to write objects in C++ and practicing.\n\n------------------------------\n\n1993 Andrew Technical Conference and Consortium Annual Meeting\nJune 24-25, 1993\nCarnegie Mellon University\nPittsburgh, PA\n\nThe conference will be held on the last Thursday and Friday in June.  A\ntutorial will be on Thursday the 24th and the conference proper on the\n25th with the annual meeting at the dinner on the evening between the\ntwo days.  All conference attendees are welcome at the annual meeting,\nthough only Consortium members will be able to vote.\n\nThis year's theme is \n\n\tApplication Construction by Non-Programmers\n\nMuch of the effort on X toolkits has been aimed at programmer\nconstruction of applications.  There have, however, been some excellent\nUIMS systems built on top of X.  Papers addressing the theme will\nconsider questions such as\n\tWhat is needed for application construction by non-programmers?\n\tCan we avoid programming altogether, or is a simple language needed?\n\tIs it sufficient to create applications, or must users be able to\ncreate new widgets?\n\tShould widgets and applications be able to print themselves?\n\nYour participation in the conference is welcome.  Papers are appropriate\non the theme or any aspect of the Andrew User Interface System, including\n\n\tapplications\n\texperience with users\n\tnew objects\n\treviews of and proposals for revision of \n\t\tinternal Andrew protocols\n\nWe expect to have an RS/6000 with video projector available if you would\nlike to do a demonstration.  \n\nPaper proposals should be submitted by 15 May 1993.\nAcceptance will be 1 June with final papers due by 15 June.\n\nSend papers via electronic mail to wjh+@andrew.cmu.edu.",
         "*reminder* plan andrew conference. *date* dates noted below. have changed them.) *submission extension* still accepting papers. *tutorial topic* _converting andrew source code c++_ this tutorial will discuss steps necessary convert site from (extended with classc) c++. conversion source code requires only couple steps: converter fill missing type information describing this will take long. remainder will spent learning write objects practicing. ------------------------------ 1993 andrew technical conference consortium annual meeting june 24-25, 1993 carnegie mellon university pittsburgh, conference will held last thursday friday june. tutorial will thursday 24th conference proper 25th with annual meeting dinner evening between days. conference attendees welcome annual meeting, though only consortium members will able vote. this year's theme application construction non-programmers much effort toolkits been aimed programmer construction applications. there have, however, been some excellent uims systems built papers addressing theme will consider questions such what needed application construction non-programmers? avoid programming altogether, simple language needed? sufficient create applications, must users able create widgets? should widgets applications able print themselves? your participation conference welcome. papers appropriate theme aspect andrew user interface system, including applications experience with users objects reviews proposals revision internal andrew protocols expect have rs/6000 with video projector available would like demonstration. paper proposals should submitted 1993. acceptance will june with final papers june. send papers electronic mail wjh+@andrew.cmu.edu."
        ],
        [
         "46",
         "does anybody have any info on this monitor or the manufacturers?\n\nall help through e-mail please.",
         "does anybody have info this monitor manufacturers? help through e-mail please."
        ],
        [
         "47",
         "!-*-!-*-!-*-!-*-!-*-!-*-!-*-!-*-!-*-!-*-!-*-!-*-!-*-!-*-!-*-!-!-*-!-*-!-!-*-!-*!\n\n\tTwin Size - Mattress, Box Spring and Frame for SALE.\n\n\t** Medico-Pedic [type of mattress?]\n\t** Excellent condition\n        ** 2 yrs old\n\t** Well maintained\n\t\n\t-- You come and pick it up, stuff is located in PaloAlto\n\n\tAsking for: $75\n\n\n\tContact:\n\n\t\tSuresh\n\t\t(415)-617-3522 [W]\n\t\t(415)-324-9553 [H]\n\t\tE-Mail: suresh@pa.dec.com\n\n\n!-*-!-*-!-*-!-*-!-*-!-*-!-*-!-*-!-*-!-*-!-*-!-*-!-*-!-*-!-*-!-!-*-!-*-!-!-*-!-*!",
         "!-*-!-*-!-*-!-*-!-*-!-*-!-*-!-*-!-*-!-*-!-*-!-*-!-*-!-*-!-*-!-!-*-!-*-!-!-*-!-*! twin size mattress, spring frame sale. medico-pedic [type mattress?] excellent condition well maintained come pick stuff located paloalto asking for: contact: suresh (415)-617-3522 (415)-324-9553 e-mail: suresh@pa.dec.com !-*-!-*-!-*-!-*-!-*-!-*-!-*-!-*-!-*-!-*-!-*-!-*-!-*-!-*-!-*-!-!-*-!-*-!-!-*-!-*!"
        ],
        [
         "48",
         "AllMartin MccormickWhat's Exactly in a Flour\n\nMM>From: martin@datacomm.ucc.okstate.edu (Martin McCormick)\nMM>Organization: Oklahoma State University, Stillwater, OK\nMM>\tWhat sort of lamp is the little glass bulb found inside the \nstarter?\nMM>It sort of reminds me of a NE2 neon lamp.  Starters appear open when m\nMM>with an Ohm meter so the little lamp is either a neon or has a capacit\nMM>in series with it.\nMM> \nMM>\tI have seen these things all my life, but never read a really good\nMM>description of what is happening inside that little can.\n\nDo you know what a bi-metallic strip is?\nJust in case: it is two strips of different metals bonded together, which \nwhen heated bend to one side (check out the blinker globe in your \nchristmas tree lights).\n\nSo when you turn on the power, this causes the bulb to work like a neon, \nheating up and shorting out, thus providing a loop to power the heaters in \nthe main tube. When the tube fires, insufficient current runs through the \nstarter to keep the heat up and the bi-metalic strip straightens out \n(O/C).\n\nBTW, I too thought that they were nothing more than a small neon, so one \nday when the neon in my sisters digital (flip the metal squares type) \nclock broke (flimsy leads), I replaced it with one from a starter. Well \npowering up made a bit of a mess of the clock!",
         "allmartin mccormickwhat's exactly flour mm>from: martin@datacomm.ucc.okstate.edu (martin mccormick) mm>organization: oklahoma state university, stillwater, what sort lamp little glass bulb found inside starter? mm>it sort reminds neon lamp. starters appear open when mm>with meter little lamp either neon capacit mm>in series with have seen these things life, never read really good mm>description what happening inside that little can. know what bi-metallic strip just case: strips different metals bonded together, which when heated bend side (check blinker globe your christmas tree lights). when turn power, this causes bulb work like neon, heating shorting out, thus providing loop power heaters main tube. when tube fires, insufficient current runs through starter keep heat bi-metalic strip straightens (o/c). btw, thought that they were nothing more than small neon, when neon sisters digital (flip metal squares type) clock broke (flimsy leads), replaced with from starter. well powering made mess clock!"
        ],
        [
         "49",
         "Here's a question that may be simple enough to answer, but has stumped\nmyself and a few others:\n\nWhat does an external RAM cache card do for you if you already have a large\ncache set (through control panel) in your SIMMs?\n\nEX:  I have a Mac IIci with 20 meg RAM, an external video card (so I don't\nrob my SIMM's), and the default Apple cache card (I believe this is 32K?). \nSay I have my cache set at 2 MEG, what good does a measly 32K do me on the\ncache card?  Could it actually slow things down by dividing the cache\nbetween the card and the SIMM's?  Or does it still speed things up by\nproviding a 'secondary staging' area for data normally passed directly into\nthe SIMM RAM cache?\n\nI'm confused because it seems like cache cards are so low in memory to\nreally do any good compared to what you can set yourself.  Yet, Daystar\nFastCache has numbers which show around a 30% performance boost on some\noperations.  Are the chips on the cache card simply faster than most SIMM\naccesses?\n\nPlease help, I'm trying to find the optimum memory settings for the IIci\nsystem described in the EX above.",
         "here's question that simple enough answer, stumped myself others: what does external cache card already have large cache (through control panel) your simms? have iici with ram, external video card don't simm's), default apple cache card believe this 32k?). have cache meg, what good does measly cache card? could actually slow things down dividing cache between card simm's? does still speed things providing 'secondary staging' area data normally passed directly into simm cache? confused because seems like cache cards memory really good compared what yourself. yet, daystar fastcache numbers which show around performance boost some operations. chips cache card simply faster than most simm accesses? please help, trying find optimum memory settings iici system described above."
        ]
       ],
       "shape": {
        "columns": 2,
        "rows": 11314
       }
      },
      "text/html": [
       "<div>\n",
       "<style scoped>\n",
       "    .dataframe tbody tr th:only-of-type {\n",
       "        vertical-align: middle;\n",
       "    }\n",
       "\n",
       "    .dataframe tbody tr th {\n",
       "        vertical-align: top;\n",
       "    }\n",
       "\n",
       "    .dataframe thead th {\n",
       "        text-align: right;\n",
       "    }\n",
       "</style>\n",
       "<table border=\"1\" class=\"dataframe\">\n",
       "  <thead>\n",
       "    <tr style=\"text-align: right;\">\n",
       "      <th></th>\n",
       "      <th>document</th>\n",
       "      <th>clean_doc</th>\n",
       "    </tr>\n",
       "  </thead>\n",
       "  <tbody>\n",
       "    <tr>\n",
       "      <th>0</th>\n",
       "      <td>Well i'm not sure about the story nad it did s...</td>\n",
       "      <td>well sure about story seem biased. what disagr...</td>\n",
       "    </tr>\n",
       "    <tr>\n",
       "      <th>1</th>\n",
       "      <td>\\n\\n\\n\\n\\n\\n\\nYeah, do you expect people to re...</td>\n",
       "      <td>yeah, expect people read faq, etc. actually ac...</td>\n",
       "    </tr>\n",
       "    <tr>\n",
       "      <th>2</th>\n",
       "      <td>Although I realize that principle is not one o...</td>\n",
       "      <td>although realize that principle your strongest...</td>\n",
       "    </tr>\n",
       "    <tr>\n",
       "      <th>3</th>\n",
       "      <td>Notwithstanding all the legitimate fuss about ...</td>\n",
       "      <td>notwithstanding legitimate fuss about this pro...</td>\n",
       "    </tr>\n",
       "    <tr>\n",
       "      <th>4</th>\n",
       "      <td>Well, I will have to change the scoring on my ...</td>\n",
       "      <td>well, will have change scoring playoff pool. u...</td>\n",
       "    </tr>\n",
       "    <tr>\n",
       "      <th>...</th>\n",
       "      <td>...</td>\n",
       "      <td>...</td>\n",
       "    </tr>\n",
       "    <tr>\n",
       "      <th>11309</th>\n",
       "      <td>Danny Rubenstein, an Israeli journalist, will ...</td>\n",
       "      <td>danny rubenstein, israeli journalist, will spe...</td>\n",
       "    </tr>\n",
       "    <tr>\n",
       "      <th>11310</th>\n",
       "      <td>\\n</td>\n",
       "      <td>NaN</td>\n",
       "    </tr>\n",
       "    <tr>\n",
       "      <th>11311</th>\n",
       "      <td>\\nI agree.  Home runs off Clemens are always m...</td>\n",
       "      <td>agree. home runs clemens always memorable. kin...</td>\n",
       "    </tr>\n",
       "    <tr>\n",
       "      <th>11312</th>\n",
       "      <td>I used HP DeskJet with Orange Micros Grappler ...</td>\n",
       "      <td>used deskjet with orange micros grappler syste...</td>\n",
       "    </tr>\n",
       "    <tr>\n",
       "      <th>11313</th>\n",
       "      <td>^^^^^^\\n...</td>\n",
       "      <td>^^^^^^ argument with murphy. scared hell when ...</td>\n",
       "    </tr>\n",
       "  </tbody>\n",
       "</table>\n",
       "<p>11314 rows × 2 columns</p>\n",
       "</div>"
      ],
      "text/plain": [
       "                                                document  \\\n",
       "0      Well i'm not sure about the story nad it did s...   \n",
       "1      \\n\\n\\n\\n\\n\\n\\nYeah, do you expect people to re...   \n",
       "2      Although I realize that principle is not one o...   \n",
       "3      Notwithstanding all the legitimate fuss about ...   \n",
       "4      Well, I will have to change the scoring on my ...   \n",
       "...                                                  ...   \n",
       "11309  Danny Rubenstein, an Israeli journalist, will ...   \n",
       "11310                                                 \\n   \n",
       "11311  \\nI agree.  Home runs off Clemens are always m...   \n",
       "11312  I used HP DeskJet with Orange Micros Grappler ...   \n",
       "11313                                        ^^^^^^\\n...   \n",
       "\n",
       "                                               clean_doc  \n",
       "0      well sure about story seem biased. what disagr...  \n",
       "1      yeah, expect people read faq, etc. actually ac...  \n",
       "2      although realize that principle your strongest...  \n",
       "3      notwithstanding legitimate fuss about this pro...  \n",
       "4      well, will have change scoring playoff pool. u...  \n",
       "...                                                  ...  \n",
       "11309  danny rubenstein, israeli journalist, will spe...  \n",
       "11310                                                NaN  \n",
       "11311  agree. home runs clemens always memorable. kin...  \n",
       "11312  used deskjet with orange micros grappler syste...  \n",
       "11313  ^^^^^^ argument with murphy. scared hell when ...  \n",
       "\n",
       "[11314 rows x 2 columns]"
      ]
     },
     "execution_count": 7,
     "metadata": {},
     "output_type": "execute_result"
    }
   ],
   "source": [
    "news_df.replace(\"\", float(\"NaN\"), inplace=True)\n",
    "news_df"
   ]
  },
  {
   "cell_type": "code",
   "execution_count": 8,
   "metadata": {},
   "outputs": [
    {
     "data": {
      "text/plain": [
       "True"
      ]
     },
     "execution_count": 8,
     "metadata": {},
     "output_type": "execute_result"
    }
   ],
   "source": [
    "news_df.isnull().values.any()"
   ]
  },
  {
   "cell_type": "markdown",
   "metadata": {
    "id": "nfp85fH9GPsk"
   },
   "source": [
    "Null 값이 있음을 확인했습니다. Null 값을 제거합니다."
   ]
  },
  {
   "cell_type": "code",
   "execution_count": 9,
   "metadata": {
    "colab": {
     "base_uri": "https://localhost:8080/"
    },
    "id": "8oY9zFwj6xpG",
    "outputId": "0c0c0513-dffd-428c-d3b7-b665c9e62efe"
   },
   "outputs": [
    {
     "name": "stdout",
     "output_type": "stream",
     "text": [
      "총 샘플 수 : 11004\n"
     ]
    }
   ],
   "source": [
    "news_df.dropna(inplace=True)\n",
    "print('총 샘플 수 :', len(news_df))"
   ]
  },
  {
   "cell_type": "markdown",
   "metadata": {
    "id": "qRYhaDqfGwpx"
   },
   "source": [
    "샘플 수가 일부 줄어든 것을 확인할 수 있습니다. NLTK에서 정의한 불용어 리스트를 사용하여 불용어를 제거합니다."
   ]
  },
  {
   "cell_type": "code",
   "execution_count": 10,
   "metadata": {
    "id": "M1vPJR0P6y0v"
   },
   "outputs": [],
   "source": [
    "# 불용어 제거\n",
    "stop_words = stopwords.words('english') # NLTK로부터 불용어를 받아옵니다.\n",
    "tokenized_doc = news_df['clean_doc'].apply(lambda x: x.split()) # 토큰화\n",
    "\n",
    "# 불용어를 제거합니다.\n",
    "tokenized_doc = tokenized_doc.apply(lambda x: [item for item in x if item not in stop_words])"
   ]
  },
  {
   "cell_type": "code",
   "execution_count": 11,
   "metadata": {
    "id": "NfY-JEAv6z-r"
   },
   "outputs": [],
   "source": [
    "tokenized_doc = tokenized_doc.to_list()"
   ]
  },
  {
   "cell_type": "code",
   "execution_count": 12,
   "metadata": {},
   "outputs": [
    {
     "data": {
      "text/plain": [
       "11004"
      ]
     },
     "execution_count": 12,
     "metadata": {},
     "output_type": "execute_result"
    }
   ],
   "source": [
    "len(tokenized_doc)"
   ]
  },
  {
   "cell_type": "markdown",
   "metadata": {
    "id": "P7kDV1VbG-jp"
   },
   "source": [
    "불용어를 제거하였으므로 단어의 수가 줄어들었습니다. 모든 샘플 중 단어가 1개 이하인 경우를 모두 찾아 제거하겠습니다."
   ]
  },
  {
   "cell_type": "code",
   "execution_count": 13,
   "metadata": {
    "colab": {
     "base_uri": "https://localhost:8080/"
    },
    "id": "lb0RfjFO64VR",
    "outputId": "428c544f-8cb0-4530-9399-e8089e10697d"
   },
   "outputs": [
    {
     "name": "stdout",
     "output_type": "stream",
     "text": [
      "[44, 353, 486, 1224, 1653, 2323, 2373, 2864, 3292, 3389, 3397, 3398, 3562, 3567, 3595, 3784, 3879, 4185, 4592, 4622, 4952, 4975, 5395, 5530, 6020, 6657, 6728, 6888, 7085, 7961, 8161, 8217, 8288, 8422, 8594, 8627, 9703, 10283, 10447, 10738, 10758, 10904, 10916, 10964]\n"
     ]
    },
    {
     "data": {
      "text/plain": [
       "(11004, 44)"
      ]
     },
     "execution_count": 13,
     "metadata": {},
     "output_type": "execute_result"
    }
   ],
   "source": [
    "# 단어가 1개 이하인 샘플의 인덱스를 찾아서 저장하고, 해당 샘플들은 제거.\n",
    "drop_train = [index for index, sentence in enumerate(tokenized_doc) if len(sentence) <= 1]\n",
    "print(drop_train)\n",
    "len(tokenized_doc), len(drop_train)"
   ]
  },
  {
   "cell_type": "code",
   "execution_count": null,
   "metadata": {},
   "outputs": [],
   "source": []
  },
  {
   "cell_type": "code",
   "execution_count": 14,
   "metadata": {},
   "outputs": [
    {
     "name": "stdout",
     "output_type": "stream",
     "text": [
      "총 샘플 수 : 10960\n"
     ]
    }
   ],
   "source": [
    "tokenized_doc = [tokenized_doc[i] for i in range(len(tokenized_doc)) if i not in drop_train]\n",
    "# tokenized_doc = np.delete(tokenized_doc, drop_train, axis=0)  # Error 202408 JH\n",
    "print('총 샘플 수 :',len(tokenized_doc))\n"
   ]
  },
  {
   "cell_type": "markdown",
   "metadata": {
    "id": "J6WddZzSHLvn"
   },
   "source": [
    "샘플 수가 다시 줄어들었습니다. 단어 집합을 생성하고, 정수 인코딩을 진행합니다."
   ]
  },
  {
   "cell_type": "code",
   "execution_count": 15,
   "metadata": {
    "id": "3IKvWstG65f4"
   },
   "outputs": [],
   "source": [
    "tokenizer = Tokenizer()\n",
    "tokenizer.fit_on_texts(tokenized_doc)\n",
    "\n",
    "word2idx = tokenizer.word_index\n",
    "idx2word = {value : key for key, value in word2idx.items()}\n",
    "encoded = tokenizer.texts_to_sequences(tokenized_doc)"
   ]
  },
  {
   "cell_type": "markdown",
   "metadata": {
    "id": "_2FWWnwdHQcd"
   },
   "source": [
    "상위 2개의 샘플을 출력해봅시다."
   ]
  },
  {
   "cell_type": "code",
   "execution_count": 16,
   "metadata": {
    "colab": {
     "base_uri": "https://localhost:8080/"
    },
    "id": "zX3mAwbr69C9",
    "outputId": "b072bdce-a53c-4a51-9940-429aa9e5402a"
   },
   "outputs": [
    {
     "name": "stdout",
     "output_type": "stream",
     "text": [
      "[[39, 52, 921, 141, 15874, 1675, 541, 275, 865, 12013, 17757, 23990, 29709, 275, 865, 63418, 865, 1121, 1096, 1988, 845, 29710, 907, 726, 20460, 275, 865, 168, 141, 1802, 147, 275, 20461, 17757, 6631, 5696, 75, 63419, 7, 35, 163, 609, 648, 29711, 6897, 23991, 2072, 823, 17758, 1112, 8776, 350, 1065, 15875, 666, 56, 161, 4217, 7192, 1924, 435, 55, 278, 4716, 9261, 2679, 39289], [1276, 424, 3, 51, 6150, 157, 111, 469, 88, 17759, 18, 62, 4717, 2854, 63420, 1035, 397, 39290, 8777, 896, 43, 8314, 312, 13026, 896, 3439, 5909, 528, 18, 86, 4718, 9858, 158, 1395, 119, 149, 5180, 63421, 63422, 17760, 63423, 13026, 897, 63424, 63425, 11157, 17761], [246, 845, 2762, 9262, 4019, 1, 26, 2, 5, 94, 291, 898, 5697, 17, 650, 7, 2538, 63426, 6151, 39291, 307, 30, 13027, 35, 149, 479, 291, 276, 898, 1197, 410, 845, 1, 1210, 898, 63427, 1423, 278, 34, 85, 4577, 39291, 307, 1, 1143, 55, 2, 4321, 738, 308, 150, 11158, 1185, 10461, 651, 15876, 127, 4113, 122, 20462, 14272, 2412], [29712, 1475, 15877, 8315, 13, 175, 63428, 34, 652, 374, 5698, 29713, 899, 20463, 2855, 139, 4020, 2142, 63429, 56, 7506, 1618, 2278, 2856, 29714, 63430, 39292, 17762, 475, 68, 12014, 63431, 89, 4719, 269, 365, 1244, 78, 328, 6383, 3068, 4021, 63432, 8316, 993, 23, 1387, 6898, 1332, 23992, 342, 59, 1395, 1130, 8778, 109, 94, 95, 63433, 5514, 965, 593, 340, 128, 492, 6384, 17763, 6632, 320, 9, 3440, 2447, 45, 63434, 63435, 29715, 13028], [86, 175, 1961, 2073, 12015, 1874, 15, 29, 244, 236, 154, 1961, 673, 7907, 15878, 2279, 63436, 12016, 2719, 6899, 393, 7193, 393, 7194, 7195, 453, 7196]]\n"
     ]
    }
   ],
   "source": [
    "print(encoded[:5])"
   ]
  },
  {
   "cell_type": "markdown",
   "metadata": {
    "id": "LjaLwhJsHWt_"
   },
   "source": [
    "단어 집합의 크기를 확인합니다."
   ]
  },
  {
   "cell_type": "code",
   "execution_count": 17,
   "metadata": {
    "colab": {
     "base_uri": "https://localhost:8080/"
    },
    "id": "jghLyuFpE-I7",
    "outputId": "5969b5b8-a041-4c7d-fb55-4ce508d907d2"
   },
   "outputs": [
    {
     "name": "stdout",
     "output_type": "stream",
     "text": [
      "단어 집합의 크기 : 181822\n"
     ]
    }
   ],
   "source": [
    "vocab_size = len(word2idx) + 1 \n",
    "print('단어 집합의 크기 :', vocab_size)"
   ]
  },
  {
   "cell_type": "markdown",
   "metadata": {
    "id": "JpbZJw5sHaVB"
   },
   "source": [
    "총 64,277개의 단어가 존재합니다."
   ]
  },
  {
   "cell_type": "markdown",
   "metadata": {
    "id": "PpyUYnyoHckP"
   },
   "source": [
    "---\n",
    "### **4. 네거티브 샘플링을 통한 데이터셋 구성하기**"
   ]
  },
  {
   "cell_type": "markdown",
   "metadata": {
    "id": "MeYzMkHcHhnz"
   },
   "source": [
    "토큰화, 정제, 정규화, 불용어 제거, 정수 인코딩까지 일반적인 전처리 과정을 거쳤습니다. 네거티브 샘플링을 통한 데이터셋을 구성할 차례입니다. 이를 위해서는 네거티브 샘플링을 위해서 케라스에서 제공하는 전처리 도구인 skipgrams를 사용합니다. 어떤 전처리가 수행되는지 그 결과를 확인하기 위해서 (꽤 시간이 소요되는 작업이므로) 상위 10개의 뉴스그룹 샘플에 대해서만 수행해봅시다."
   ]
  },
  {
   "cell_type": "code",
   "execution_count": 18,
   "metadata": {
    "id": "riWSoMB1FBv1"
   },
   "outputs": [],
   "source": [
    "from tensorflow.keras.preprocessing.sequence import skipgrams\n",
    "# 네거티브 샘플링\n",
    "skip_grams = [skipgrams(sample, vocabulary_size=vocab_size, window_size=10) for sample in encoded[:10]]"
   ]
  },
  {
   "cell_type": "markdown",
   "metadata": {
    "id": "Bjt4ndyxHraj"
   },
   "source": [
    "결과를 확인합니다. 10개의 뉴스그룹 샘플에 대해서 모두 수행되었지만, 첫번째 뉴스그룹 샘플에 대해서만 확인해보겠습니다."
   ]
  },
  {
   "cell_type": "code",
   "execution_count": 19,
   "metadata": {
    "colab": {
     "base_uri": "https://localhost:8080/"
    },
    "id": "gwWVeev67CH6",
    "outputId": "e467a7c2-31f4-4f82-d578-065ff7e49111"
   },
   "outputs": [
    {
     "name": "stdout",
     "output_type": "stream",
     "text": [
      "(incidences (29710), europe (1988)) -> 1\n",
      "(lived (1096), #play. (115526)) -> 0\n",
      "(europe (1988), :phave (154818)) -> 0\n",
      "(occured. (20460), 45-5, (124544)) -> 0\n",
      "(story (921), israels (17757)) -> 1\n"
     ]
    }
   ],
   "source": [
    "# 첫번째 샘플인 skip_grams[0] 내 skipgrams로 형성된 데이터셋 확인\n",
    "pairs, labels = skip_grams[0][0], skip_grams[0][1]\n",
    "for i in range(5):\n",
    "    print(\"({:s} ({:d}), {:s} ({:d})) -> {:d}\".format(\n",
    "          idx2word[pairs[i][0]], pairs[i][0], \n",
    "          idx2word[pairs[i][1]], pairs[i][1], \n",
    "          labels[i]))"
   ]
  },
  {
   "cell_type": "markdown",
   "metadata": {
    "id": "0yOZt3pmHw1C"
   },
   "source": [
    "윈도우 크기 내에서 중심 단어, 주변 단어의 관계를 가지는 경우에는 1의 레이블을 갖도록 하고, 그렇지 않은 경우는 0의 레이블을 가지도록 하여 데이터셋을 구성합니다. 이 과정은 각각의 뉴스그룹 샘플에 대해서 동일한 프로세스로 수행됩니다."
   ]
  },
  {
   "cell_type": "code",
   "execution_count": 20,
   "metadata": {
    "colab": {
     "base_uri": "https://localhost:8080/"
    },
    "id": "HWaQyteV7EX8",
    "outputId": "b8035dbe-8da2-4904-b093-ca7d67a585a8"
   },
   "outputs": [
    {
     "name": "stdout",
     "output_type": "stream",
     "text": [
      "10\n"
     ]
    }
   ],
   "source": [
    "print(len(skip_grams))"
   ]
  },
  {
   "cell_type": "markdown",
   "metadata": {
    "id": "0ugbtr61H0Q0"
   },
   "source": [
    "encoded 중 상위 10개의 뉴스그룹 샘플에 대해서만 수행하였으므로 10이 출력됩니다. 그리고 10개의 뉴스그룹 샘플 각각은 수많은 중심 단어, 주변 단어의 쌍으로 된 샘플들을 갖고 있습니다. 첫번째 뉴스그룹 샘플이 가지고 있는 pairs와 labels의 개수를 출력해봅시다."
   ]
  },
  {
   "cell_type": "code",
   "execution_count": 21,
   "metadata": {
    "colab": {
     "base_uri": "https://localhost:8080/"
    },
    "id": "Evk-a7Ej7FjF",
    "outputId": "7a470bda-1bdf-4958-ea6f-bbe0c3ff874d"
   },
   "outputs": [
    {
     "name": "stdout",
     "output_type": "stream",
     "text": [
      "2460\n",
      "2460\n"
     ]
    }
   ],
   "source": [
    "# 첫번째 샘플에 대해서 생긴 pairs와 labels\n",
    "print(len(pairs))\n",
    "print(len(labels))"
   ]
  },
  {
   "cell_type": "markdown",
   "metadata": {
    "id": "2ug2hmVKH3qJ"
   },
   "source": [
    "이 작업을 모든 뉴스그룹 샘플에 대해서 수행합니다."
   ]
  },
  {
   "cell_type": "code",
   "execution_count": 22,
   "metadata": {
    "id": "bzaa4pXV7IjN"
   },
   "outputs": [],
   "source": [
    "## \n",
    "skip_grams = [skipgrams(sample, vocabulary_size=vocab_size, window_size=10) for sample in encoded]"
   ]
  },
  {
   "cell_type": "markdown",
   "metadata": {
    "id": "WjZzZGfcFfD8"
   },
   "source": [
    "---\n",
    "### **5. Skip-Gram with Negative Sampling(SGNS) 구현하기**"
   ]
  },
  {
   "cell_type": "code",
   "execution_count": 23,
   "metadata": {
    "id": "N9mZQEjxFlFK"
   },
   "outputs": [],
   "source": [
    "from tensorflow.keras.models import Sequential, Model\n",
    "from tensorflow.keras.layers import Embedding, Reshape, Activation, Input\n",
    "from tensorflow.keras.layers import Dot\n",
    "from tensorflow.keras.utils import plot_model\n",
    "from IPython.display import SVG"
   ]
  },
  {
   "cell_type": "markdown",
   "metadata": {
    "id": "r5Tbk9_CH_ce"
   },
   "source": [
    "하이퍼파라미터인 임베딩 벡터의 차원은 100으로 정하고, 두 개의 임베딩 층을 추가합니다."
   ]
  },
  {
   "cell_type": "code",
   "execution_count": 24,
   "metadata": {
    "id": "y4YLPMJzF-R1"
   },
   "outputs": [],
   "source": [
    "embedding_dim = 100"
   ]
  },
  {
   "cell_type": "code",
   "execution_count": 25,
   "metadata": {
    "id": "R_nmYoBSF750"
   },
   "outputs": [],
   "source": [
    "# 중심 단어를 위한 임베딩 테이블\n",
    "w_inputs = Input(shape=(1, ), dtype='int32')\n",
    "word_embedding = Embedding(vocab_size, embedding_dim)(w_inputs)\n",
    "\n",
    "# 주변 단어를 위한 임베딩 테이블\n",
    "c_inputs = Input(shape=(1, ), dtype='int32')\n",
    "context_embedding  = Embedding(vocab_size, embedding_dim)(c_inputs)"
   ]
  },
  {
   "cell_type": "markdown",
   "metadata": {
    "id": "QMx8Rbs1IENd"
   },
   "source": [
    "각 임베딩 테이블은 중심 단어와 주변 단어 각각을 위한 임베딩 테이블이며 각 단어는 임베딩 테이블을 거쳐서 내적을 수행하고, 내적의 결과는 1 또는 0을 예측하기 위해서 시그모이드 함수를 활성화 함수로 거쳐 최종 예측값을 얻습니다."
   ]
  },
  {
   "cell_type": "code",
   "execution_count": 26,
   "metadata": {
    "id": "sYNFTL3NGGfG"
   },
   "outputs": [
    {
     "name": "stderr",
     "output_type": "stream",
     "text": [
      "c:\\Users\\jeong\\anaconda3-1\\envs\\py310_yolo\\lib\\site-packages\\keras\\src\\layers\\reshaping\\reshape.py:39: UserWarning: Do not pass an `input_shape`/`input_dim` argument to a layer. When using Sequential models, prefer using an `Input(shape)` object as the first layer in the model instead.\n",
      "  super().__init__(**kwargs)\n"
     ]
    }
   ],
   "source": [
    "dot_product = Dot(axes=2)([word_embedding, context_embedding])\n",
    "dot_product = Reshape((1,), input_shape=(1, 1))(dot_product)\n",
    "output = Activation('sigmoid')(dot_product)"
   ]
  },
  {
   "cell_type": "code",
   "execution_count": 27,
   "metadata": {
    "colab": {
     "base_uri": "https://localhost:8080/",
     "height": 938
    },
    "id": "Z86_CursGH2T",
    "outputId": "884f9480-5636-49e6-9eea-c0c8aac1451c"
   },
   "outputs": [
    {
     "data": {
      "text/html": [
       "<pre style=\"white-space:pre;overflow-x:auto;line-height:normal;font-family:Menlo,'DejaVu Sans Mono',consolas,'Courier New',monospace\"><span style=\"font-weight: bold\">Model: \"functional\"</span>\n",
       "</pre>\n"
      ],
      "text/plain": [
       "\u001b[1mModel: \"functional\"\u001b[0m\n"
      ]
     },
     "metadata": {},
     "output_type": "display_data"
    },
    {
     "data": {
      "text/html": [
       "<pre style=\"white-space:pre;overflow-x:auto;line-height:normal;font-family:Menlo,'DejaVu Sans Mono',consolas,'Courier New',monospace\">┏━━━━━━━━━━━━━━━━━━━━━┳━━━━━━━━━━━━━━━━━━━┳━━━━━━━━━━━━┳━━━━━━━━━━━━━━━━━━━┓\n",
       "┃<span style=\"font-weight: bold\"> Layer (type)        </span>┃<span style=\"font-weight: bold\"> Output Shape      </span>┃<span style=\"font-weight: bold\">    Param # </span>┃<span style=\"font-weight: bold\"> Connected to      </span>┃\n",
       "┡━━━━━━━━━━━━━━━━━━━━━╇━━━━━━━━━━━━━━━━━━━╇━━━━━━━━━━━━╇━━━━━━━━━━━━━━━━━━━┩\n",
       "│ input_layer         │ (<span style=\"color: #00d7ff; text-decoration-color: #00d7ff\">None</span>, <span style=\"color: #00af00; text-decoration-color: #00af00\">1</span>)         │          <span style=\"color: #00af00; text-decoration-color: #00af00\">0</span> │ -                 │\n",
       "│ (<span style=\"color: #0087ff; text-decoration-color: #0087ff\">InputLayer</span>)        │                   │            │                   │\n",
       "├─────────────────────┼───────────────────┼────────────┼───────────────────┤\n",
       "│ input_layer_1       │ (<span style=\"color: #00d7ff; text-decoration-color: #00d7ff\">None</span>, <span style=\"color: #00af00; text-decoration-color: #00af00\">1</span>)         │          <span style=\"color: #00af00; text-decoration-color: #00af00\">0</span> │ -                 │\n",
       "│ (<span style=\"color: #0087ff; text-decoration-color: #0087ff\">InputLayer</span>)        │                   │            │                   │\n",
       "├─────────────────────┼───────────────────┼────────────┼───────────────────┤\n",
       "│ embedding           │ (<span style=\"color: #00d7ff; text-decoration-color: #00d7ff\">None</span>, <span style=\"color: #00af00; text-decoration-color: #00af00\">1</span>, <span style=\"color: #00af00; text-decoration-color: #00af00\">100</span>)    │ <span style=\"color: #00af00; text-decoration-color: #00af00\">18,182,200</span> │ input_layer[<span style=\"color: #00af00; text-decoration-color: #00af00\">0</span>][<span style=\"color: #00af00; text-decoration-color: #00af00\">0</span>] │\n",
       "│ (<span style=\"color: #0087ff; text-decoration-color: #0087ff\">Embedding</span>)         │                   │            │                   │\n",
       "├─────────────────────┼───────────────────┼────────────┼───────────────────┤\n",
       "│ embedding_1         │ (<span style=\"color: #00d7ff; text-decoration-color: #00d7ff\">None</span>, <span style=\"color: #00af00; text-decoration-color: #00af00\">1</span>, <span style=\"color: #00af00; text-decoration-color: #00af00\">100</span>)    │ <span style=\"color: #00af00; text-decoration-color: #00af00\">18,182,200</span> │ input_layer_1[<span style=\"color: #00af00; text-decoration-color: #00af00\">0</span>]… │\n",
       "│ (<span style=\"color: #0087ff; text-decoration-color: #0087ff\">Embedding</span>)         │                   │            │                   │\n",
       "├─────────────────────┼───────────────────┼────────────┼───────────────────┤\n",
       "│ dot (<span style=\"color: #0087ff; text-decoration-color: #0087ff\">Dot</span>)           │ (<span style=\"color: #00d7ff; text-decoration-color: #00d7ff\">None</span>, <span style=\"color: #00af00; text-decoration-color: #00af00\">1</span>, <span style=\"color: #00af00; text-decoration-color: #00af00\">1</span>)      │          <span style=\"color: #00af00; text-decoration-color: #00af00\">0</span> │ embedding[<span style=\"color: #00af00; text-decoration-color: #00af00\">0</span>][<span style=\"color: #00af00; text-decoration-color: #00af00\">0</span>],  │\n",
       "│                     │                   │            │ embedding_1[<span style=\"color: #00af00; text-decoration-color: #00af00\">0</span>][<span style=\"color: #00af00; text-decoration-color: #00af00\">0</span>] │\n",
       "├─────────────────────┼───────────────────┼────────────┼───────────────────┤\n",
       "│ reshape (<span style=\"color: #0087ff; text-decoration-color: #0087ff\">Reshape</span>)   │ (<span style=\"color: #00d7ff; text-decoration-color: #00d7ff\">None</span>, <span style=\"color: #00af00; text-decoration-color: #00af00\">1</span>)         │          <span style=\"color: #00af00; text-decoration-color: #00af00\">0</span> │ dot[<span style=\"color: #00af00; text-decoration-color: #00af00\">0</span>][<span style=\"color: #00af00; text-decoration-color: #00af00\">0</span>]         │\n",
       "├─────────────────────┼───────────────────┼────────────┼───────────────────┤\n",
       "│ activation          │ (<span style=\"color: #00d7ff; text-decoration-color: #00d7ff\">None</span>, <span style=\"color: #00af00; text-decoration-color: #00af00\">1</span>)         │          <span style=\"color: #00af00; text-decoration-color: #00af00\">0</span> │ reshape[<span style=\"color: #00af00; text-decoration-color: #00af00\">0</span>][<span style=\"color: #00af00; text-decoration-color: #00af00\">0</span>]     │\n",
       "│ (<span style=\"color: #0087ff; text-decoration-color: #0087ff\">Activation</span>)        │                   │            │                   │\n",
       "└─────────────────────┴───────────────────┴────────────┴───────────────────┘\n",
       "</pre>\n"
      ],
      "text/plain": [
       "┏━━━━━━━━━━━━━━━━━━━━━┳━━━━━━━━━━━━━━━━━━━┳━━━━━━━━━━━━┳━━━━━━━━━━━━━━━━━━━┓\n",
       "┃\u001b[1m \u001b[0m\u001b[1mLayer (type)       \u001b[0m\u001b[1m \u001b[0m┃\u001b[1m \u001b[0m\u001b[1mOutput Shape     \u001b[0m\u001b[1m \u001b[0m┃\u001b[1m \u001b[0m\u001b[1m   Param #\u001b[0m\u001b[1m \u001b[0m┃\u001b[1m \u001b[0m\u001b[1mConnected to     \u001b[0m\u001b[1m \u001b[0m┃\n",
       "┡━━━━━━━━━━━━━━━━━━━━━╇━━━━━━━━━━━━━━━━━━━╇━━━━━━━━━━━━╇━━━━━━━━━━━━━━━━━━━┩\n",
       "│ input_layer         │ (\u001b[38;5;45mNone\u001b[0m, \u001b[38;5;34m1\u001b[0m)         │          \u001b[38;5;34m0\u001b[0m │ -                 │\n",
       "│ (\u001b[38;5;33mInputLayer\u001b[0m)        │                   │            │                   │\n",
       "├─────────────────────┼───────────────────┼────────────┼───────────────────┤\n",
       "│ input_layer_1       │ (\u001b[38;5;45mNone\u001b[0m, \u001b[38;5;34m1\u001b[0m)         │          \u001b[38;5;34m0\u001b[0m │ -                 │\n",
       "│ (\u001b[38;5;33mInputLayer\u001b[0m)        │                   │            │                   │\n",
       "├─────────────────────┼───────────────────┼────────────┼───────────────────┤\n",
       "│ embedding           │ (\u001b[38;5;45mNone\u001b[0m, \u001b[38;5;34m1\u001b[0m, \u001b[38;5;34m100\u001b[0m)    │ \u001b[38;5;34m18,182,200\u001b[0m │ input_layer[\u001b[38;5;34m0\u001b[0m][\u001b[38;5;34m0\u001b[0m] │\n",
       "│ (\u001b[38;5;33mEmbedding\u001b[0m)         │                   │            │                   │\n",
       "├─────────────────────┼───────────────────┼────────────┼───────────────────┤\n",
       "│ embedding_1         │ (\u001b[38;5;45mNone\u001b[0m, \u001b[38;5;34m1\u001b[0m, \u001b[38;5;34m100\u001b[0m)    │ \u001b[38;5;34m18,182,200\u001b[0m │ input_layer_1[\u001b[38;5;34m0\u001b[0m]… │\n",
       "│ (\u001b[38;5;33mEmbedding\u001b[0m)         │                   │            │                   │\n",
       "├─────────────────────┼───────────────────┼────────────┼───────────────────┤\n",
       "│ dot (\u001b[38;5;33mDot\u001b[0m)           │ (\u001b[38;5;45mNone\u001b[0m, \u001b[38;5;34m1\u001b[0m, \u001b[38;5;34m1\u001b[0m)      │          \u001b[38;5;34m0\u001b[0m │ embedding[\u001b[38;5;34m0\u001b[0m][\u001b[38;5;34m0\u001b[0m],  │\n",
       "│                     │                   │            │ embedding_1[\u001b[38;5;34m0\u001b[0m][\u001b[38;5;34m0\u001b[0m] │\n",
       "├─────────────────────┼───────────────────┼────────────┼───────────────────┤\n",
       "│ reshape (\u001b[38;5;33mReshape\u001b[0m)   │ (\u001b[38;5;45mNone\u001b[0m, \u001b[38;5;34m1\u001b[0m)         │          \u001b[38;5;34m0\u001b[0m │ dot[\u001b[38;5;34m0\u001b[0m][\u001b[38;5;34m0\u001b[0m]         │\n",
       "├─────────────────────┼───────────────────┼────────────┼───────────────────┤\n",
       "│ activation          │ (\u001b[38;5;45mNone\u001b[0m, \u001b[38;5;34m1\u001b[0m)         │          \u001b[38;5;34m0\u001b[0m │ reshape[\u001b[38;5;34m0\u001b[0m][\u001b[38;5;34m0\u001b[0m]     │\n",
       "│ (\u001b[38;5;33mActivation\u001b[0m)        │                   │            │                   │\n",
       "└─────────────────────┴───────────────────┴────────────┴───────────────────┘\n"
      ]
     },
     "metadata": {},
     "output_type": "display_data"
    },
    {
     "data": {
      "text/html": [
       "<pre style=\"white-space:pre;overflow-x:auto;line-height:normal;font-family:Menlo,'DejaVu Sans Mono',consolas,'Courier New',monospace\"><span style=\"font-weight: bold\"> Total params: </span><span style=\"color: #00af00; text-decoration-color: #00af00\">36,364,400</span> (138.72 MB)\n",
       "</pre>\n"
      ],
      "text/plain": [
       "\u001b[1m Total params: \u001b[0m\u001b[38;5;34m36,364,400\u001b[0m (138.72 MB)\n"
      ]
     },
     "metadata": {},
     "output_type": "display_data"
    },
    {
     "data": {
      "text/html": [
       "<pre style=\"white-space:pre;overflow-x:auto;line-height:normal;font-family:Menlo,'DejaVu Sans Mono',consolas,'Courier New',monospace\"><span style=\"font-weight: bold\"> Trainable params: </span><span style=\"color: #00af00; text-decoration-color: #00af00\">36,364,400</span> (138.72 MB)\n",
       "</pre>\n"
      ],
      "text/plain": [
       "\u001b[1m Trainable params: \u001b[0m\u001b[38;5;34m36,364,400\u001b[0m (138.72 MB)\n"
      ]
     },
     "metadata": {},
     "output_type": "display_data"
    },
    {
     "data": {
      "text/html": [
       "<pre style=\"white-space:pre;overflow-x:auto;line-height:normal;font-family:Menlo,'DejaVu Sans Mono',consolas,'Courier New',monospace\"><span style=\"font-weight: bold\"> Non-trainable params: </span><span style=\"color: #00af00; text-decoration-color: #00af00\">0</span> (0.00 B)\n",
       "</pre>\n"
      ],
      "text/plain": [
       "\u001b[1m Non-trainable params: \u001b[0m\u001b[38;5;34m0\u001b[0m (0.00 B)\n"
      ]
     },
     "metadata": {},
     "output_type": "display_data"
    },
    {
     "name": "stdout",
     "output_type": "stream",
     "text": [
      "You must install pydot (`pip install pydot`) for `plot_model` to work.\n"
     ]
    }
   ],
   "source": [
    "model = Model(inputs=[w_inputs, c_inputs], outputs=output)\n",
    "model.summary()\n",
    "model.compile(loss='binary_crossentropy', optimizer='adam')\n",
    "plot_model(model, to_file='skip_gram.png', show_shapes=True, show_layer_names=True, rankdir='TB')"
   ]
  },
  {
   "cell_type": "markdown",
   "metadata": {
    "id": "5QQ0MdZpILKo"
   },
   "source": [
    "모델의 학습은 5에포크 수행하겠습니다."
   ]
  },
  {
   "cell_type": "code",
   "execution_count": null,
   "metadata": {
    "colab": {
     "base_uri": "https://localhost:8080/"
    },
    "id": "zIw7eIquGNjL",
    "outputId": "10db2a25-b36f-43c0-c53c-12b8b08b291e"
   },
   "outputs": [
    {
     "name": "stdout",
     "output_type": "stream",
     "text": [
      "Epoch : 1 Loss : 6223.498048901558\n",
      "Epoch : 2 Loss : 5555.428535073996\n"
     ]
    }
   ],
   "source": [
    "### 시간 소요됨\n",
    "for epoch in range(1, 6):\n",
    "    loss = 0\n",
    "    for _, elem in enumerate(skip_grams):\n",
    "        first_elem = np.array(list(zip(*elem[0]))[0], dtype='int32')\n",
    "        second_elem = np.array(list(zip(*elem[0]))[1], dtype='int32')\n",
    "        labels = np.array(elem[1], dtype='int32')\n",
    "        X = [first_elem, second_elem]\n",
    "        Y = labels\n",
    "        loss += model.train_on_batch(X,Y)  \n",
    "    print('Epoch :',epoch, 'Loss :',loss)"
   ]
  },
  {
   "cell_type": "markdown",
   "metadata": {
    "id": "vLZ2rDt1GQjY"
   },
   "source": [
    "---\n",
    "### **6. 결과 확인하기**"
   ]
  },
  {
   "cell_type": "markdown",
   "metadata": {
    "id": "cUeqbvdvIocy"
   },
   "source": [
    "학습된 모델의 결과를 확인해보겠습니다. 학습된 임베딩 벡터들을 vector.txt에 저장합니다. 그 후 이를 gensim의 models.KeyedVectors.load_word2vec_format()으로 로드하면 쉽게 단어 벡터 간 유사도를 구할 수 있습니다."
   ]
  },
  {
   "cell_type": "code",
   "execution_count": 1,
   "metadata": {
    "id": "-TXPsv0NGUIj"
   },
   "outputs": [],
   "source": [
    "import gensim"
   ]
  },
  {
   "cell_type": "code",
   "execution_count": null,
   "metadata": {
    "id": "kpCk5Ut34HYC"
   },
   "outputs": [],
   "source": [
    "f = open('vectors.txt' ,'w')\n",
    "f.write('{} {}\\n'.format(vocab_size-1, embedding_dim))\n",
    "vectors = model.get_weights()[0]\n",
    "for word, i in tokenizer.word_index.items():\n",
    "    f.write('{} {}\\n'.format(word, ' '.join(map(str, list(vectors[i, :])))))\n",
    "f.close()"
   ]
  },
  {
   "cell_type": "code",
   "execution_count": null,
   "metadata": {
    "id": "EILs91hd4Kea"
   },
   "outputs": [],
   "source": [
    "w2v = gensim.models.KeyedVectors.load_word2vec_format('./vectors.txt', binary=False)"
   ]
  },
  {
   "cell_type": "code",
   "execution_count": null,
   "metadata": {
    "colab": {
     "base_uri": "https://localhost:8080/"
    },
    "id": "tE36GGiX9vDc",
    "outputId": "ef0c84dd-0acd-4c0d-815d-baef2d554a07"
   },
   "outputs": [],
   "source": [
    "# 모델 로드\n",
    "w2v.most_similar(positive=['disease'])"
   ]
  },
  {
   "cell_type": "code",
   "execution_count": null,
   "metadata": {
    "colab": {
     "base_uri": "https://localhost:8080/"
    },
    "id": "k6FiqwjobX8n",
    "outputId": "1f631a3d-29f0-4b93-94be-972cb9f3751d"
   },
   "outputs": [],
   "source": [
    "w2v.most_similar(positive=['soldiers'])"
   ]
  },
  {
   "cell_type": "code",
   "execution_count": null,
   "metadata": {
    "colab": {
     "base_uri": "https://localhost:8080/"
    },
    "id": "CIZpxu_79wWU",
    "outputId": "04670189-e16e-40ae-af11-3762fb284667"
   },
   "outputs": [],
   "source": [
    "w2v.most_similar(positive=['police'])"
   ]
  },
  {
   "cell_type": "code",
   "execution_count": null,
   "metadata": {
    "colab": {
     "base_uri": "https://localhost:8080/"
    },
    "id": "jHhfL_JtfU_R",
    "outputId": "fbe976f9-d01b-41c1-d5c7-39c445113aa9"
   },
   "outputs": [],
   "source": [
    "w2v.most_similar(positive=['hero'])"
   ]
  },
  {
   "cell_type": "code",
   "execution_count": null,
   "metadata": {
    "colab": {
     "base_uri": "https://localhost:8080/"
    },
    "id": "sExcUtpFt4Wm",
    "outputId": "0ba5b036-ec49-4863-d920-20cefdc7bcd5"
   },
   "outputs": [],
   "source": [
    "w2v.most_similar(positive=['engine'])"
   ]
  },
  {
   "cell_type": "code",
   "execution_count": null,
   "metadata": {
    "colab": {
     "base_uri": "https://localhost:8080/"
    },
    "id": "TErCpfXIuOZM",
    "outputId": "0423aaf8-0b85-48d5-e78f-3d26313e7287"
   },
   "outputs": [],
   "source": [
    "w2v.most_similar(positive=['doctor'])"
   ]
  },
  {
   "cell_type": "code",
   "execution_count": null,
   "metadata": {},
   "outputs": [],
   "source": []
  },
  {
   "cell_type": "code",
   "execution_count": null,
   "metadata": {},
   "outputs": [],
   "source": []
  }
 ],
 "metadata": {
  "colab": {
   "provenance": []
  },
  "kernelspec": {
   "display_name": "py310_yolo",
   "language": "python",
   "name": "python3"
  },
  "language_info": {
   "codemirror_mode": {
    "name": "ipython",
    "version": 3
   },
   "file_extension": ".py",
   "mimetype": "text/x-python",
   "name": "python",
   "nbconvert_exporter": "python",
   "pygments_lexer": "ipython3",
   "version": "3.10.15"
  }
 },
 "nbformat": 4,
 "nbformat_minor": 0
}
