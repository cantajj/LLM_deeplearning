{
 "cells": [
  {
   "cell_type": "markdown",
   "metadata": {},
   "source": [
    "# **03. 언어 모델(Language Model)**\n",
    "언어 모델(Languagel Model)이란 단어 시퀀스(문장)에 확률을 할당하는 모델을 말합니다. 어떤 문장들이 있을 때, 기계가 이 문장은 적절해! 이 문장은 말이 안 돼! 라고 사람처럼 정확히 판단할 수 있다면, 기계의 자연어 처리의 성능이 뛰어나다 할 수 있습니다.\n",
    "\n",
    "이번 챕터에서는 통계에 기반한 전통적인 언어 모델(Statistical Languagel Model, SLM)에 대해서 학습합니다. 통계에 기반한 언어 모델은 우리가 실제 사용하는 자연어를 근사하기에는 많은 한계가 있었고, 요즘 들어 인공 신경망이 그러한 한계를 많이 해결해주면서 통계 기반 언어 모델은 많이 사용 용도가 줄었습니다. 하지만 그럼에도 통계 기반 방법론에 대한 이해는 언어 모델에 대한 전체적인 시야를 갖는 일에 도움이 됩니다."
   ]
  },
  {
   "cell_type": "markdown",
   "metadata": {
    "id": "0b2OxcI4qu3R"
   },
   "source": [
    "## **03-01 언어 모델(Language Model)이란?**\n",
    "---"
   ]
  },
  {
   "cell_type": "markdown",
   "metadata": {
    "id": "J8x8-oWxqg3a"
   },
   "source": [
    "**언어 모델(Language Model, LM)** 은 언어라는 현상을 모델링하고자 **단어 시퀀스(문장)에 확률을 할당(assign)하는 모델** 입니다.\n",
    "\n",
    "언어 모델을 만드는 방법은 크게는 **통계를 이용한 방법**과 **인공 신경망**을 이용한 방법으로 구분할 수 있습니다. 최근에는 통계를 이용한 방법보다는 인공 신경망을 이용한 방법이 더 좋은 성능을 보여주고 있습니다. 최근 핫한 자연어 처리의 기술인 GPT나 BERT 또한 인공 신경망 언어 모델의 개념을 사용하여 만들어졌습니다. 이번 챕터에서는 언어 모델의 개념과 언어 모델의 전통적 접근 방식인 통계적 언어 모델에 대해서 배웁니다.\n",
    "\n",
    "마지막 편집일시 : 2022년 12월 15일 7:09 오전"
   ]
  },
  {
   "cell_type": "markdown",
   "metadata": {
    "id": "IgWSuWtH1WBa"
   },
   "source": [
    "---\n",
    "### **1. 언어 모델(Language Model)**\n",
    "\n",
    "언어 모델은 **단어 시퀀스에 확률을 할당(assign)** 하는 일을 하는 모델입니다. 이를 조금 풀어서 쓰면, 언어 모델은 가장 자연스러운 단어 시퀀스를 찾아내는 모델입니다. 단어 시퀀스에 확률을 할당하게 하기 위해서 가장 보편적으로 사용되는 방법은 언어 모델이 **이전 단어들이 주어졌을 때 다음 단어를 예측**하도록 하는 것입니다.\n",
    "\n",
    "다른 유형의 언어 모델로는 **주어진 양쪽의 단어들로부터 가운데 비어있는 단어를 예측하는 언어 모델** 이 있습니다. 이는 문장의 가운데에 있는 단어를 비워놓고 양쪽의 문맥을 통해서 빈 칸의 단어인지 맞추는 고등학교 수험 시험의 빈칸 추론 문제와 비슷합니다. 이 유형의 언어 모델은 BERT 챕터에서 다루게 될 예정이고, 그때까지는 이전 단어들로부터 다음 단어를 예측하는 방식에만 집중합니다.\n",
    "\n",
    "언어 모델에 -ing를 붙인 **언어 모델링(Language Modeling)** 은 주어진 단어들로부터 아직 모르는 단어를 예측하는 작업을 말합니다. 즉, 언어 모델이 이전 단어들로부터 다음 단어를 예측하는 일은 언어 모델링입니다.\n",
    "\n",
    "자연어 처리로 유명한 스탠포드 대학교에서는 언어 모델을 문법(grammar)이라고 비유하기도 합니다. 언어 모델이 단어들의 조합이 얼마나 적절한지, 또는 해당 문장이 얼마나 적합한지를 알려주는 일을 하는 것이 마치 문법이 하는 일 같기 때문입니다."
   ]
  },
  {
   "cell_type": "markdown",
   "metadata": {
    "id": "oA0F3sAC1ntK"
   },
   "source": [
    "---\n",
    "### **2. 단어 시퀀스의 확률 할당**\n",
    "\n",
    "자연어 처리에서 단어 시퀀스에 확률을 할당하는 일이 왜 필요할까요? 예를 들어보겠습니다. 여기서 대문자 P는 확률을 의미합니다."
   ]
  },
  {
   "cell_type": "markdown",
   "metadata": {
    "id": "zQM5l77r1uvC"
   },
   "source": [
    "#### **a. 기계 번역(Machine Translation):**\n",
    "```yaml\n",
    "    P(나는 버스를 탔다) > P(나는 버스를 태운다)\n",
    "```\n",
    ": 언어 모델은 두 문장을 비교하여 좌측의 문장의 확률이 더 높다고 판단합니다."
   ]
  },
  {
   "cell_type": "markdown",
   "metadata": {
    "id": "6mnDOZHr1286"
   },
   "source": [
    "#### **b. 오타 교정(Spell Correction)**\n",
    "```yaml\n",
    "    선생님이 교실로 부리나케  \n",
    "    P(달려갔다) > P(잘려갔다)  \n",
    "```\n",
    ": 언어 모델은 두 문장을 비교하여 좌측의 문장의 **확률** 이 더 높다고 판단합니다.\n"
   ]
  },
  {
   "cell_type": "markdown",
   "metadata": {
    "id": "o3gpGCrj16aK"
   },
   "source": [
    "#### **c. 음성 인식(Speech Recognition)**\n",
    "```yaml\n",
    "    P(나는 메롱을 먹는다) < P(나는 메론을 먹는다)\n",
    "    : 언어 모델은 두 문장을 비교하여 우측의 문장의 확률이 더 높다고 판단합니다.\n",
    "```\n",
    "언어 모델은 위와 같이 확률을 통해 보다 적절한 문장을 판단합니다."
   ]
  },
  {
   "cell_type": "markdown",
   "metadata": {
    "id": "aPqdFtxy1-Z7"
   },
   "source": [
    "---\n",
    "### **3. 주어진 이전 단어들로부터 다음 단어 예측하기**\n",
    "\n",
    "언어 모델은 단어 시퀀스에 확률을 할당하는 모델입니다. 그리고 단어 시퀀스에 확률을 할당하기 위해서 가장 보편적으로 사용하는 방법은 **이전 단어들이 주어졌을 때, 다음 단어를 예측** 하도록 하는 것입니다. 이를 **조건부 확률** 로 표현해보겠습니다."
   ]
  },
  {
   "cell_type": "markdown",
   "metadata": {
    "id": "zhMs_abp2GGC"
   },
   "source": [
    "#### **A. 단어 시퀀스의 확률**\n",
    "하나의 단어를 $w$, 단어 시퀀스를 대문자 $W$라고 한다면, $n$개의 단어가 등장하는 단어 시퀀스 $W$의 확률은 다음과 같습니다.  \n",
    "  \n",
    "  $$P(W) = P(w_1, w_2, w_3, w_4, w_5, ... , w_n)$$\n",
    "\n"
   ]
  },
  {
   "cell_type": "markdown",
   "metadata": {
    "id": "SwOGjE9Q2a3b"
   },
   "source": [
    "#### **B. 다음 단어 등장 확률**\n",
    "다음 단어 등장 확률을 식으로 표현해보겠습니다. $n$-1개의 단어가 나열된 상태에서 $n$번째 단어의 확률은 다음과 같습니다.\n",
    "\n",
    "$$P(w_n | w_1, ..., w_{n-1})$$"
   ]
  },
  {
   "cell_type": "markdown",
   "metadata": {
    "id": "6rwsvK5H2q7a"
   },
   "source": [
    "`|`의 기호는 **조건부 확률(conditional probability)** 을 의미합니다.  \n",
    "  \n",
    "예를 들어 다섯번째 단어의 확률은 아래와 같습니다.  \n",
    "  \n",
    "$$P(w_5 | w_1, w_2, w_3, w_4)$$"
   ]
  },
  {
   "cell_type": "markdown",
   "metadata": {
    "id": "SE1ccisp24Ja"
   },
   "source": [
    "전체 **단어 시퀀스 $W$의 확률** 은 모든 단어가 예측되고 나서야 알 수 있으므로 단어 시퀀스의 확률은 다음과 같습니다.  \n",
    "  \n",
    "$$P(W) = P(w_1, w_2, w_3, w_4, w_5, ... w_n) = \\prod_{i=1}^{n}P(w_{i} | w_{1}, ... , w_{i-1})$$"
   ]
  },
  {
   "cell_type": "markdown",
   "metadata": {
    "id": "pQAaQjAe3Avc"
   },
   "source": [
    "---\n",
    "### **4. 언어 모델의 간단한 직관**\n",
    "\n",
    "`비행기를 타려고 공항에 갔는데 지각을 하는 바람에 비행기를 [?]`라는 문장이 있습니다. **'비행기를'** 다음에 어떤 단어가 오게 될지 사람은 쉽게 **'놓쳤다'** 라고 예상할 수 있습니다. 우리 지식에 기반하여 나올 수 있는 여러 단어들을 후보에 놓고 놓쳤다는 단어가 나올 **확률** 이 가장 높다고 판단하였기 때문입니다.\n",
    "\n",
    "그렇다면 기계에게 위 문장을 주고, '비행기를' 다음에 나올 단어를 예측해보라고 한다면 과연 어떻게 최대한 정확히 예측할 수 있을까요? 기계도 비슷합니다. **앞에 어떤 단어들이 나왔는지 고려하여 후보가 될 수 있는 여러 단어들에 대해서 확률을 예측해보고 가장 높은 확률을 가진 단어를 선택** 합니다. 앞에 어떤 단어들이 나왔는지 고려하여 후보가 될 수 있는 여러 단어들에 대해서 등장 확률을 추정하고 가장 높은 확률을 가진 단어를 선택합니다."
   ]
  },
  {
   "cell_type": "markdown",
   "metadata": {
    "id": "V85t5S7R3Qqa"
   },
   "source": [
    "---\n",
    "### **5. 검색 엔진에서의 언어 모델의 예**\n"
   ]
  },
  {
   "cell_type": "markdown",
   "metadata": {
    "id": "0X5HD2MR3VWK"
   },
   "source": [
    "![image.png](data:image/png;base64,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)"
   ]
  },
  {
   "cell_type": "markdown",
   "metadata": {
    "id": "GGsJ2yMA3YIC"
   },
   "source": [
    "검색 엔진이 입력된 단어들의 나열에 대해서 다음 단어를 예측하는 언어 모델을 사용하고 있습니다.\n",
    "\n",
    "마지막 편집일시 : 2023년 1월 2일 6:02 오후"
   ]
  },
  {
   "cell_type": "code",
   "execution_count": null,
   "metadata": {
    "id": "dLj0WGC1qgVT"
   },
   "outputs": [],
   "source": []
  }
 ],
 "metadata": {
  "colab": {
   "authorship_tag": "ABX9TyPJ/X47CUC5lkX8pkfBygIH",
   "provenance": [],
   "toc_visible": true
  },
  "kernelspec": {
   "display_name": "Python 3",
   "name": "python3"
  },
  "language_info": {
   "name": "python"
  }
 },
 "nbformat": 4,
 "nbformat_minor": 0
}
