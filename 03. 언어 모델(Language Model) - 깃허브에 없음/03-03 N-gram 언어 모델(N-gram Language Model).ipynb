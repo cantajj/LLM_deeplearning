{
 "cells": [
  {
   "cell_type": "markdown",
   "metadata": {
    "id": "_blG2Oev0yX3"
   },
   "source": [
    "## **03-03 N-gram 언어 모델(N-gram Language Model)**\n",
    "---"
   ]
  },
  {
   "cell_type": "markdown",
   "metadata": {
    "id": "DZfGj4dy02J3"
   },
   "source": [
    "n-gram 언어 모델은 여전히 **카운트에 기반한 통계적 접근** 을 사용하고 있으므로 **SLM(Statistical Language Model)** 의 일종입니다. 다만, 앞서 배운 언어 모델과는 달리 이전에 등장한 모든 단어를 고려하는 것이 아니라 **일부 단어만 고려하는 접근 방법** 을 사용합니다. 그리고 이때 일부 단어를 **몇 개** 보느냐를 결정하는데 이것이 n-gram에서의 `n`이 가지는 의미입니다."
   ]
  },
  {
   "cell_type": "markdown",
   "metadata": {
    "id": "Aew_mzk904gp"
   },
   "source": [
    "---\n",
    "### **1. 코퍼스에서 카운트하지 못하는 경우의 감소.**\n",
    "  \n",
    "**SLM의 한계** 는 **훈련 코퍼스에 확률을 계산하고 싶은 문장이나 단어가 없을 수 있다** 는 점입니다. 그리고 확률을 계산하고 싶은 문장이 길어질수록 갖고있는 코퍼스에서 그 문장이 존재하지 않을 가능성이 높습니다. 다시 말하면 카운트할 수 없을 가능성이 높습니다. 그런데 다음과 같이 **참고하는 단어들을 줄이면** 카운트를 할 수 있을 가능성을 높일 수 있습니다.  \n",
    "  \n",
    "$P(\\text{is|An adorable little boy}) \\approx\\ P(\\text{is|boy})$  "
   ]
  },
  {
   "cell_type": "markdown",
   "metadata": {},
   "source": [
    "가령, An adorable little boy가 나왔을 때 is가 나올 확률을 그냥 boy가 나왔을 때 is가 나올 확률로 생각해보는 건 어떨까요? 갖고있는 코퍼스에 An adorable little boy is가 있을 가능성 보다는 boy is라는 더 짧은 단어 시퀀스가 존재할 가능성이 더 높습니다. 조금 지나친 일반화로 느껴진다면 아래와 같이 little boy가 나왔을 때 is가 나올 확률로 생각하는 것도 대안입니다.\n",
    "  \n",
    "$P(\\text{is|An adorable little boy}) \\approx\\ P(\\text{is|little boy})$\n",
    "  \n"
   ]
  },
  {
   "cell_type": "markdown",
   "metadata": {},
   "source": [
    "즉, 앞에서는 **An adorable little boy가 나왔을 때 is가 나올 확률** 을 구하기 위해서는 An adorable little boy가 나온 횟수와 An adorable little boy is가 나온 횟수를 카운트해야만 했지만, 이제는 단어의 확률을 구하고자 기준 단어의 앞 단어를 전부 포함해서 카운트하는 것이 아니라, **앞 단어 중 임의의 개수만 포함해서 카운트하여 근사하자** 는 것입니다. 이렇게 하면 갖고 있는 코퍼스에서 해당 단어의 시퀀스를 카운트할 확률이 높아집니다."
   ]
  },
  {
   "cell_type": "markdown",
   "metadata": {
    "id": "80WaoeBi1L9Z"
   },
   "source": [
    "---\n",
    "### **2. N-gram**\n",
    "\n",
    "  이때 임의의 개수를 정하기 위한 기준을 위해 사용하는 것이 n-gram입니다. **n-gram은 n개의 연속적인 단어 나열** 을 의미합니다. 갖고 있는 **코퍼스에서 n개의 단어 뭉치 단위로 끊어서 이를 하나의 토큰으로 간주** 합니다. 예를 들어서 문장 An adorable little boy is spreading smiles이 있을 때, 각 n에 대해서 n-gram을 전부 구해보면 다음과 같습니다.\n",
    "\n",
    "**uni**grams : an, adorable, little, boy, is, spreading, smiles  \n",
    "**bi**grams : an adorable, adorable little, little boy, boy is, is spreading, spreading smiles  \n",
    "**tri**grams : an adorable little, adorable little boy, little boy is, boy is spreading, is spreading smiles\n",
    "**4**-grams : an adorable little boy, adorable little boy is, little boy is spreading, boy is spreading smiles\n",
    "\n",
    "n-gram을 사용할 때는 n이 1일 때는 유니그램(unigram), 2일 때는 바이그램(bigram), 3일 때는 트라이그램(trigram)이라고 명명하고 n이 4 이상일 때는 gram 앞에 그대로 숫자를 붙여서 명명합니다. 출처에 따라서는 유니그램, 바이그램, 트라이그램 또한 각각 1-gram, 2-gram, 3-gram이라고 하기도 합니다. n-gram을 이용한 언어 모델을 설계해보겠습니다.\n",
    "\n",
    "n-gram을 통한 언어 모델에서는 **다음에 나올 단어의 예측은 오직 n-1개의 단어에만 의존** 합니다. 예를 들어 'An adorable little boy is spreading' 다음에 나올 단어를 예측하고 싶다고 할 때, n=4라고 한 4-gram을 이용한 언어 모델을 사용한다고 합시다. 이 경우, spreading 다음에 올 단어를 예측하는 것은 n-1에 해당되는 앞의 3개의 단어만을 고려합니다.\n",
    "\n"
   ]
  },
  {
   "cell_type": "markdown",
   "metadata": {
    "id": "YYWv5AwE1R4N"
   },
   "source": [
    "![image.png](data:image/png;base64,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)"
   ]
  },
  {
   "cell_type": "markdown",
   "metadata": {
    "id": "2l4XWGZS1Uh7"
   },
   "source": [
    "$$P(w\\text{|boy is spreading}) = \\frac{\\text{count(boy is spreading}\\ w)}{\\text{count(boy is spreading)}}$$"
   ]
  },
  {
   "cell_type": "markdown",
   "metadata": {
    "id": "miWvaUxg1XtI"
   },
   "source": [
    "만약 갖고있는 코퍼스에서 boy is spreading가 1,000번 등장했다고 합시다. 그리고 boy is spreading insults가 500번 등장했으며, boy is spreading smiles가 200번 등장했다고 합시다. 그렇게 되면 boy is spreading 다음에 insults가 등장할 확률은 50%이며, smiles가 등장할 확률은 20%입니다. 확률적 선택에 따라 우리는 insults가 더 맞다고 판단하게 됩니다."
   ]
  },
  {
   "cell_type": "markdown",
   "metadata": {
    "id": "s9ABiLnl1bJ5"
   },
   "source": [
    "$$P(\\text{insults|boy is spreading}) = 0.500$$  \n",
    "$$P(\\text{smiles|boy is spreading}) = 0.200$$"
   ]
  },
  {
   "cell_type": "markdown",
   "metadata": {
    "id": "vTLKWBE81e4_"
   },
   "source": [
    "---\n",
    "### **3. N-gram Language Model의 한계**\n",
    "\n",
    "앞서 4-gram을 통한 언어 모델의 동작 방식을 확인했습니다. 그런데 조금 의문이 남습니다. 앞서 본 4-gram 언어 모델은 주어진 문장에서 앞에 있던 단어인 '작고 사랑스러운(an adorable little)'이라는 수식어를 제거하고, 반영하지 않았습니다. 그런데 '작고 사랑스러운' 수식어까지 모두 고려하여 작고 사랑하는 소년이 하는 행동에 대해 다음 단어를 예측하는 언어 모델이었다면 과연 '작고 사랑스러운 소년이' '모욕을 퍼트렸다'라는 부정적인 내용이 '웃음 지었다'라는 긍정적인 내용 대신 선택되었을까요?\n",
    "\n",
    "물론 코퍼스 데이터를 어떻게 가정하느냐의 나름이고, 전혀 말이 안 되는 문장은 아니지만 여기서 지적하고 싶은 것은 **n-gram은 앞의 단어 몇 개만 보다 보니 의도하고 싶은 대로 문장을 끝맺음하지 못하는 경우가 생긴다** 는 점입니다. 문장을 읽다 보면 **앞 부분과 뒷부분의 문맥이 전혀 연결 안 되는 경우도 생길 수** 있습니다. 결론만 말하자면, 전체 문장을 고려한 언어 모델보다는 정확도가 떨어질 수밖에 없습니다. 이를 토대로 n-gram 모델에 대한 한계점을 정리해보겠습니다."
   ]
  },
  {
   "cell_type": "markdown",
   "metadata": {
    "id": "2fyzUpdk1rU3"
   },
   "source": [
    "#### **(1) 희소 문제(Sparsity Problem)**\n",
    "\n",
    "문장에 존재하는 앞에 나온 단어를 모두 보는 것보다 일부 단어만을 보는 것으로 현실적으로 코퍼스에서 카운트 할 수 있는 확률을 높일 수는 있었지만, n-gram 언어 모델도 여전히 n-gram에 대한 희소 문제가 존재합니다.\n",
    "  \n",
    "#### **(2) n을 선택하는 것은 trade-off 문제.**\n",
    "\n",
    "앞에서 몇 개의 단어를 볼지 n을 정하는 것은 trade-off가 존재합니다. 임의의 개수인 n을 1보다는 2로 선택하는 것은 거의 대부분의 경우에서 언어 모델의 성능을 높일 수 있습니다. 가령, spreading만 보는 것보다는 is spreading을 보고 다음 단어를 예측하는 것이 더 정확하기 때문입니다. 이 경우 훈련 데이터가 적절한 데이터였다면 언어 모델이 적어도 spreading 다음에 동사를 고르지 않을 것입니다.\n",
    "\n",
    "**n을 크게 선택하면** 실제 훈련 코퍼스에서 해당 n-gram을 카운트할 수 있는 확률은 적어지므로 **희소 문제는 점점 심각** 해집니다. 또한 n이 커질수록 **모델 사이즈가 커진다** 는 문제점도 있습니다. 기본적으로 코퍼스의 모든 n-gram에 대해서 카운트를 해야 하기 때문입니다.\n",
    "\n",
    "**n을 작게 선택하면** 훈련 코퍼스에서 카운트는 잘 되겠지만 **근사의 정확도는 현실의 확률분포와 멀어집니다.** 그렇기 때문에 적절한 n을 선택해야 합니다. 앞서 언급한 trade-off 문제로 인해 정확도를 높이려면 **n은 최대 5를 넘게 잡아서는 안 된다고 권장** 되고 있습니다.\n",
    "\n",
    "n이 성능에 영향을 주는 것을 확인할 수 있는 유명한 예제 하나를 보겠습니다. 스탠퍼드 대학교의 공유 자료에 따르면, 월스트리트 저널에서 3,800만 개의 단어 토큰에 대하여 n-gram 언어 모델을 학습하고, 1,500만 개의 테스트 데이터에 대해서 테스트를 했을 때 다음과 같은 성능이 나왔다고 합니다. 뒤에서 배우겠지만, **펄플렉서티(perplexity)는 수치가 낮을수록 더 좋은 성능** 을 나타냅니다."
   ]
  },
  {
   "cell_type": "markdown",
   "metadata": {
    "id": "oa0DBKyA12TB"
   },
   "source": [
    "|\t|Unigram\t|Bigram\t|Trigram    |  \n",
    "|---|---|---|---|  \n",
    "|**Perplexity** \t|962\t|170\t|109    |  \n",
    "\n",
    "위의 결과는 n을 1에서 2, 2에서 3으로 올릴 때마다 성능이 올라가는 것을 보여줍니다."
   ]
  },
  {
   "cell_type": "markdown",
   "metadata": {
    "id": "oCf9vX53149S"
   },
   "source": [
    "---\n",
    "### **4. 적용 분야(Domain)에 맞는 코퍼스의 수집**\n",
    "\n",
    "어떤 분야인지, 어떤 어플리케이션인지에 따라서 특정 단어들의 확률 분포는 당연히 다릅니다. 가령, 마케팅 분야에서는 마케팅 단어가 빈번하게 등장할 것이고, 의료 분야에서는 의료 관련 단어가 당연히 빈번하게 등장합니다. 이 경우 언어 모델에 사용하는 코퍼스를 해당 도메인의 코퍼스를 사용한다면 당연히 언어 모델이 제대로 된 언어 생성을 할 가능성이 높아집니다.\n",
    "\n",
    "때로는 이를 언어 모델의 약점이라고 하는 경우도 있는데, **훈련에 사용된 도메인 코퍼스가 무엇이냐** 에 따라서 성능이 비약적으로 달라지기 때문입니다."
   ]
  },
  {
   "cell_type": "markdown",
   "metadata": {
    "id": "nz8j8Xfz192a"
   },
   "source": [
    "---\n",
    "### **5. 인공 신경망을 이용한 언어 모델(Neural Network Based Language Model)**\n",
    "\n",
    "여기서는 다루지 않겠지만, N-gram Language Model의 한계점을 극복하기위해 분모, 분자에 숫자를 더해서 카운트했을 때 0이 되는 것을 방지하는 등의 여러 **일반화(generalization)** 방법들이 존재합니다. 하지만 그럼에도 **본질적으로 n-gram 언어 모델에 대한 취약점을 완전히 해결하지는 못하였고,** 이를 위한 대안으로 N-gram Language Model보다 대체적으로 **성능이 우수한 인공 신경망을 이용한 언어 모델이 많이 사용** 되고 있습니다.\n",
    "\n"
   ]
  },
  {
   "cell_type": "markdown",
   "metadata": {
    "id": "6GjKBGmB2Djq"
   },
   "source": [
    "마지막 편집일시 : 2022년 11월 14일 2:44 오후"
   ]
  },
  {
   "cell_type": "code",
   "execution_count": null,
   "metadata": {
    "id": "HfieBl2K0wxq"
   },
   "outputs": [],
   "source": []
  }
 ],
 "metadata": {
  "colab": {
   "authorship_tag": "ABX9TyNRHCoZuXK7Jdb5ZBVbGmub",
   "provenance": []
  },
  "kernelspec": {
   "display_name": "Python 3",
   "name": "python3"
  },
  "language_info": {
   "name": "python"
  }
 },
 "nbformat": 4,
 "nbformat_minor": 0
}
