{
 "cells": [
  {
   "cell_type": "markdown",
   "metadata": {
    "id": "2G6hNqwMQstm"
   },
   "source": [
    "이 자료는 위키독스 딥 러닝을 이용한 자연어 처리 입문의 여러가지 유사도 기법 튜토리얼 자료입니다."
   ]
  },
  {
   "cell_type": "markdown",
   "metadata": {
    "id": "sQYy__ieQu3w"
   },
   "source": [
    "링크 : https://wikidocs.net/24654"
   ]
  },
  {
   "cell_type": "markdown",
   "metadata": {
    "id": "HbMFUPUNIO0q"
   },
   "source": [
    "## **05-02 여러가지 유사도 기법**\n",
    "---\n",
    "문서의 유사도를 구하기 위한 방법으로는 코사인 유사도 외에도 여러가지 방법들이 있습니다. 여기서는 문서의 유사도를 구할 수 있는 다른 방법들을 학습합니다."
   ]
  },
  {
   "cell_type": "markdown",
   "metadata": {
    "id": "aFx7kRk3ITFZ"
   },
   "source": [
    "---\n",
    "### **1. 유클리드 거리(Euclidean distance)**\n",
    "\n",
    "유클리드 거리(euclidean distance)는 문서의 유사도를 구할 때 자카드 유사도나 코사인 유사도만큼, 유용한 방법은 아닙니다. 하지만 여러 가지 방법을 이해하고, 시도해보는 것 자체만으로 다른 개념들을 이해할 때 도움이 되므로 의미가 있습니다.\n",
    "\n",
    "다차원 공간에서 두개의 점 $p$와 $q$가 각각 $p=(p_{1}, p_{2}, p_{3}, ... , p_{n})$ 과 $q=(q_{1}, q_{2}, q_{3}, ..., q_{n})$ 의 좌표를 가질 때 두 점 사이의 거리를 계산하는 유클리드 거리 공식은 다음과 같습니다.  \n",
    "  \n",
    "$$\\sqrt{(q_{1}-p_{1})^{2}+(q_{2}-p_{2})^{2}+\\ ...\\ +(q_{n}-p_{n})^{2}}=\\sqrt{\\sum_{i=1}^{n}(q_{i}-p_{i})^{2}}$$   \n"
   ]
  },
  {
   "cell_type": "markdown",
   "metadata": {
    "id": "DXz0AN7iIo74"
   },
   "source": [
    "다차원 공간이라고 가정하면, 처음 보는 입장에서는 식이 너무 복잡해보입니다. 좀 더 쉽게 이해하기위해서 2차원 공간이라고 가정하고 두 점 사이의 거리를 좌표 평면 상에서 시각화해보겠습니다.\n",
    "  \n",
    "![image.png](data:image/png;base64,iVBORw0KGgoAAAANSUhEUgAAAWgAAAD4CAYAAADB9HwiAAAgAElEQVR4nO2deZgcVdm+75lJJvu+EQgJEAhbgIhsEggTdhARWQVBUUSQTRG3j00WRURBQWQRPj8EBVFABFQWwYCAILvssshOEgIEAgESyPz+eKp+XV1dvc50V/X0c19XX911qrrq7eqqp855z3ve00E22BaYCLyQtiHGGJMV+qVtALA9sC+wDOgP/D1dc4wxJht0pHz87YEtkCjfBXwSWAo8l6ZRxhiTBdpTPHYozv8TLHcD3wR2AmanZZQxxhhYM/J5d2DL4HM7sEbjzTHGmGyRZg368SLly4AnGmmIMcZkkSx0EprqmALsBgwARgM/x9EvxvRJLNDNxUhgP+AHyGf/ReBOYDqwMEW7TPVsAqwIPAT8J2VbTOWMAmai+28O8G49D5ami8NUzzYo0mVwsPxrdMHslppFplrageNR5ehJ4H/RA9dknxnA/sBTwAjgMWDdVC1qENFOQlOcdYFLgM5I2WvAV9Ixx9TAZ4CvR5anoX6X9dIxx1TBr4GVI8u/oEXGbTRKoKcCX23AcWphOeBIqotN3xh4G1i+LhbVxmhU029VRqEQ0mIciv6z8H9uA5agwVppsw2yv1XZDl2/xfgPcGpk+RDg9bpalBF6ItBDUa1kX1ST7Cqy3ceBl4GNajxOI/hf4E/k15CL0R+4G527rDAYuBQYm7YhKXMMuiaTaCdfBKeiGvTa9TaqDNsAJ6RsQ9qMBK4ChhVZP4L8fruzgBvrbVQW6IlAfwy4HvgQOe5PSthmIvAi8OUaj9EoBgH3A7+tYNtTyJ7v+Uqy/QBsFO3A1cA6FWz7a9RUTpO1gT+T/sjiLLAB8IcKtpsMvIL0p8/TUxfHJCTO3Qn7aUfDyG/vwf4byQbod3yhxDYHkN9SyIL/8jPABWkbkSFWA/6BXBjF+AxwMT0Txv49+G7IDbSI0FTIz4E9S6zvAK6lhUY891Sg90Wi9j6qhUbZL1i3Uw/232j+hnxbSU2tnZGPcxQwDgn1ro0zLZEO4Gk8AjTOtRR3dXwctfbCSKpK3FpxBtPzJvbOSKBNjtXQ9VzswXki6v+B2v63pqOnAv1LcnGJUTqAZ5B7o1RNJmvshn7Pt2LlGwIfkGsthK+0hXEnmqeF0kh2BW5KKF8FdQiHrAh8qob9j0Jx8D3hBuCzPdxHX2QOyZW6r5Dvujq0nkY040CVNtSknwIsQB1ls4J1t8a2/QS6GX6LhCyJ8cBmwLPAg0HZhOAYS4EH6J1BIFPQgJIlwL3Amyj6YiSKp4xya2Dv54EfR8r/jaI94qQ9SGU31JyvhAkoiuG9YLkTnZMs0IZaJfMjZcORjQtq2N/twOVISN8MyiYgH+cz6PrsQNfoHrWZ3CNGAlshl1k5+iHbX0HXZj/U75MVhqP7Nbyu2lDf0+uoUlMttwO7ANdFyr6E+rG2DpYHA29Qxz6EZhPoHYAzgY9QPPAE4GwUSwqFNegw3KlY7W551Gv7AHAwcBkaGbQGap6uA3waDSz4WY02rwqcg3zLFyJxOh09WEIBPjb2nQVItKcDK5FLv/oBtV1s9aYLOKzMNtsBhwPXoFjSv6HIgQeB39XVuspoRx2v76GRYnsA30b/xVD0wP4c1Z3/+cDzqAJwbVA2Bfh9bLt/Af+t1fAesDlKE/BSiW0GAt9H7rZ/ocEaP0W+883qbWCFbISur9moH+RZ5EN+FLViLqbwnJfjLhSlEWUA6giP8kC1xjYjlbg49kNP7IfJ982eTHH/883Buq1J5pfoibgqOXfBj8j5BdvQBdyNLuZqWROYh2766IijzSPHKxYzfHWwvpgPs1o7Tq3hVYnbaQgKE1uzxDb7IBGYHCm7OPjexCp+Rz3ZC10nw9B5/wv5rZVbKXQ5VcJNwHd6bF0yPXVxfBc9KIsxALgFVTBCpqLBUZVEOjSKX6J79Wh0v0XP93rAYkrHNyexFro+B5fbsJ40Sw16TfQndKAY00WRdeGJv5tc8yYkvMGSgskHIPE7ipyAv49qy8uC5e7I5+2pvBkP6l3/A3KhnIPcEyFhnPBSit9goc0rF1lfDa9Q+kYsxlMVbDMJ3RzF3CxroZbDIeQndVoY7P/VSNlA1OxPY3TWDHSDzwiWzwDmRtbPR37iqMtpDHJP3FNiv28iH3MWWZGc6yWJU9C9t3Ok7EXkTghbq22oZTsVtfrmoBZuoxiHhsx3o4rWAuC0yPrXUMVta1SL7kT3/RjgPqQbSSxEv20SKeZKaRaB/h66eRdR2OMc+p/j7g3QnwfJ4rEUTRiwiFzI2t3kN2GHkav1DajOZPYjN/ggXtsIw3PuoXiylTeC95FVHjeJt6hNoCshbM0Uu9F/gFo+cTfGLHJ9BtORH3tGsG0lAr0n1T283kPusGVF1v8C3eRbAO9Q2J8xidx/0YXs3wFdj6UEeiHFBz5UylbIRRZnELACxWvolyJBLcZQiv9vKwNHoGb+O5HyjZHIhefnaOS2uhX4CXLXbYvuryTGoiRf1eQB+idwW5F1HwLnBZ9nAX8kv79pheB9HNKQY1Bl733gN8gdkjS6ODwvQ6uws9dpBoHuJNfD/TfyBXQsORFMEugwciPpYlhGrnMuFOj4RbB+ZB/PVGhvSDiIZCGFPvDweHERiBL+N+9XedxGE94MSVEyI1BP+DXk/46xyL8f1nQeCV6HIYGshOcp3vGbxLsUF2fI+WG7gDvIF5gB6OERXmNzgldSh22cfvS8RvkKEpI4Q9B5TVq3jHxhTaKb4kK5J7L92lj5lqhW+igS62kot/uHwNdQxWIvJH5JLEYhbNVoz9wS60IhXRHV4uM6sEnw/hzqQ1hM7qF1BMo9fz65AIGQ0L5GtgYKaAaBXp6cH+je2LrNkDB8gJz6o9Bvei1Y/yYSg9EUF9hQLKBQoD8ZvC8h/0JtQzdtKfGcGrw/RH5v9zhUY4TSAj0meJ9XYptKWQk9MKr9v29CIxtL8XbwPhoNpY+yRnDMeDNyNhKGUr+/HHcn7LentKNa2Gmx8pmo9nVdwTfKMwo9THrC4yRPcDEKhX3V6g9eRPE8LtORyN8XK98K3SfdqAa/C/Jlv4ruk5eR26cYi1Ett7eZjcQ0XhnaEl2jt6JW7UHAD4N1YcfsKhQKdOg6fZsUaYZ0o9GazKOxdaF74y7UhD0RPb1DQt9RqQ6CLZDgLkVNqZAOch1055KrYY1HNYBFqMZQzu54CF30eHeU+H5o86sltqmUJcjN8WaVr0oiFl5EN0aSKyasscb/t9noHMYFPW3WQ6IXf3Dsi37n/9WwzzFkdxLk5ymeHGkZsjva3zMY1ZrD8zMHtZLCa3QkilKppq+mt+hCIvtWpGwMckOdgVoT56LKSsgMdI3/K2F/Y1DFqlSES8tQLorjYfTEjnZWrEcuJvMsVKN9gZzfGeS7ThrwEeXnwTZzyR82+/Wg/HZUewrZm1wExrsU7+U9PdgmGiM5AolyN/kPgySeQyI+osx2WeAJkvOCDEEunui61ZH4Jw0LP4x0owOORP/N+pGyGagWNSth+3MonWCoDbWAtuotA2P0NIpjO4o/JA+mUJy+j85PsRzIZ6LcImnwLIUVnnPRwyJpOHwbcpkW04a9ke4Yygv0dBQF8RiKpT0zWP4OEsl7UQzzEbHvzUAX1NUl9h2K/9PoDzsC1ZTeQ+IdF+DJqKe4Gz2Vp5HMMOAKdHMfjS7u+1Fttpv8tIVxwtwiSX71LHIOqqUkcTBKZjUeuYzCB1dSes20BfoadJOfj/6DzVGtrJjAlhPoaahJP7DENj2hpwI9GLnpklwSg1Dn597IDXIM6hBdQHLLexs0ICwNt+kUdE1dhMJmxyE3xh9RxEkSX0cRW8U4m9rHPvQ5KomDbkfNqz1QbSZ8Kk5ANbSZRb53DwpZSxozPw415bpRbWL1YF9hrotiDEfj9a8psx3oJt0FXcArR463Q4nv7E9uJGEzsAWFvsoo6yNf6QboXHSTHHqWpkB3oJr98ci99AXk4ioVB1tOoA9EFYd60RtDva9A11sSg9D9tl9wrJvRwK4465CfV2RMwjb1ZH/kZhuDNOLLlE7+9Elyk1y0k+wCfRiFfBrqm7B/ZyQISUNp9wjWLaX6UKjhVB+6tlfkeMWe7CCxe5jm6CMIeZDKUo3+DLVWkkhToMMsgkmujGKUE+j7gE17YlQZBqBaY0+YRWWdrQNQayDe7zKJ/FGkA6ls6HhvchGFnXzF2IB8LViXwsihzUn2S7cs9Z5R5QoUxhVvfoWxr3fVsM8zUW2wGs4NjlfqhtgBCXixiQeyymwqE9cH0cQEUfqjeNWz0Y2xBoWjQuvNUcitVYk7YgBqVl+P4rtXobCFti2V5fXOAldR/sE0C127MyJlo1GU0r2R13+pn8+9GM9ROCw7iTWQfVF7X0XutyjXkgvPS5WsJOheC90c9cpHcDN6qo9GPdADUBD/LuiG7EDpH+NB7sU4BPmif1xuw4DZSHx2QWLUXuR4o9GMKiehJDvNxHPoodKJOg3jbItcNnuijqml5CJcJqKa5vOoyT4BdeKUin/tLTpQfOzX0AN8Lho1uKjEd6ahJvQDKPxtedQXEh3ccA7yv5faT1a4A7VsrqIwcdVINFT/SPRQehz1vbxGLhnRfZHX7Sg8sxE5Y1ZFfVK7oGtnKRpVWIwpKNw2au/N5Ifm7YY65jOR2zwrKTh3RwHut9TxGCuiWSNORbWe2eT//sVU7s+LJjCqhEkUpgSNH68D+Ct6qh9dxb6zRH+UY+M4Ct0Ys8ivZS6h+OiwRjKQXG6UkPvJjeSshXOD17/LbZghNkK+2/gExBMonBnmGdJJ7hRnGvn5Xaq5h4vt7zvoHKQ6QCVrNGrS2GHkh+plibH0jclWO8klM29FRlE6cVSWmU5rTxq7IS2SgL9aGiXQxhjTNDRTlIAxxrQUFmhjjMkoWRDodrLTWWmMMZkhCwL9DZpnxJwxxjSMLMRB30lusscshO4YY0wmyEIN2hhjTAIWaGOMySgWaGOMySgWaGOMySgWaGOMySgWaGOMySgWaGOMySgWaGOMySgWaGOMySgWaGOMySgWaGOMySgWaGOMySgWaGOMySgWaGOMySgWaGOMySgWaGOMySgWaGOMySgWaGOMySj90jbAGGMS+BTQBbwFPAdcARwTvFoGC7QxJmv8DFgL2Bl4HzgAuA6Ym6ZRrczuwJZpG2GMSZ2vAQuBcZGy0UA3cFAqFqWIfdDGmKywHPBD4FfAa5HyGcH7rQ23KGUs0MaYrPBFYBBwVax8NnJvPNlwi1LGAm2MyQqbAkuAe2LlW6Lac3fDLUoZC7QxJisMBR4HPoiVbUgLujfAAm2MyQ7/Ad6JlX0W6E+LCnSttAE7opjE7wDDgOWBLWrcn6M4jDHrAPOA8cHynsCjQVlbWkalSS1x0IOAy4FngaNQCMz3ga2RWBtjTC08DOyKdGQ+cBuwAIl0y/mfa+VK4Cbyn2jHAh8CI2vcp2vQxpg4A4H3gEPSNiQtqq1B74OecJuR/0SbAjyEAsz7AwcDncCKwfK3gXd7aqwxpqXYFIm0/c8V8gDwIoX+oGeA04PPh6GA85BrgEvK7Nc1aGNMSBvq07oYRXRMoEUDGqr50WOA9SiMR5wCrELuKbc/8K3I+j8iAe6o3UxjTBMzFpgJDK5w+w2Q2/QV4KfACcH3W45qXBzj0ZPt/lj5lsAy4B/B8qnkJzXpj0JnPqrRRmNM87IxCioYh7LSbQ68UeY791A4WKUlqUag5yIhfjVWvjPwb+DNYPmKyLo2YG/gFyX2ewgS+TdQQHqUu4E5sbLPAZNiZfOAi2Jlm5H81D0TZcgKWRH51uP8CXgiVnYUhefsQeCGWNnuwNRY2ULg/FjZBsBWCcc+P9g+ZCzK6BXneuT7j3IoCu6P8gT6PVF2AtaOlb0HnBUrWweFVMa5CJ33kGEkd+bMQf9jlC+jFlmU59CNHGVr4OOxsm7gtFjZaqhvJM7vgOcjy53AkQnb3UWhn3M/1MyO8ipqdkfZHPlK4/yM/AEXk9G9EOePKP43yrcobN0+ANwYK9sDtV6jvAFcECvbkGQX4nkonWfIeDTcOs5f0T0e5XAKa8SPAdfGys5FrWxQhrr9gTMSjmESqDa28Ep0s4c5WY9CNeazSb7wD0I32T7A0iL7HArshsT/n7F1bwKvx8pWQKF+UT5AvvEoo4NXnP+SX5sfSKHggx5I8aD5qRSes7dRSFCUicCQWNlS8sUCFPUyNuHYz5N/vjrRDR5nfnD8KCtR+BB5h8JUjROQqEb5CJ2fKMOCbeO8SL4A9QuOHed1cg/vkMnoN0VZjJq0UcaSHBn0dGx5CDrncV5GD52QNgofnJB8nU1C10aU94GXYmXFrrNn0TUdMghdu3Eqvc7eIj+BEPT8OnsORV+FVHOdrUyh23IRuYf2ePQAOQpdF23BPvZCFQtTB8YAlwLfA44HtkM1ml0Stt0AOIfKaunuJDSmbzAOOBC1pH8PfDV4nwuclKJdLcl+qNYVb66uioLNw1rAVpSurVugjWlu4sJ8IDAqWDcAVdZMlfR0RpUt0OifaPNwAvA/wGVImAcB2wI39/BYxpjsMQ61oLdDLp0bkEjH3VqmBnoi0J3ANsBfYuU/QHOJdUXK/taD4xhjsoeFuQHUmoDkaOSS6EYdBc+jJs2Hpb5Ugt1R7/MtNX7fGNMY4sJ8E+WFuR3NihIP0TVlyEqGKAu0MdmmFmE2PcSzehtjSmFXRopYoI0xSViYM4AF2hgTxcKcISzQxhiorzB3AqcA3+yFfbUUFmhjWptG1JjbqDyTnYlggTZpsxJKQLQ/yl+RNU5BOUdOom9Nu2RXRhNggTb14mRgE1RzGoBGlb4V22Z54HY08jSL4gwS5ttR8p9DU7alN7AwNxEWaFMvbkDpJbdGWeXi4jwIpUD9C+Vn3EmT91Gc/kPAUyiNaDNiYTY142RJfZMbkFvgNwnrfozEL55zOav8CKVEnZa2IVVSKolRo+hHcs510yRYoPse/VD+324kClEmoTzNFzbaqB4wET1Qfpe2IRWSBWE2PcQuDlMv1ic3IUB8VpxvoGT4V9A8vIqmddsdJbV/IV1zimJXRh/CAm16gzHAvsBGqFPwbnIzpryMfLdRPoXyiN9RZH8T0Ew9w8jNCr8jEp3Jwf4uBJ7sgc390Ew+26LZRp5FUzFNQjMBHQq8G/vO7cinvivZ80VbmE3dsIujedkeWAA8gubmG4eyHXaT7H9eNSh/sMj+2pBwd6EOxHDbPwPrAssBV6Opnfas0ebJwT7fQfMEjkUPgFfIzbuZlEhsm8Ceq2s8bj2wK8PUHQt0c/IJ5Jd9H81RF9IRlCX5n3cKyovNS7cjuUl4rwu2vZb8SVT3Dsqfq8HmkWhOw24Uex0lPF4xP/P0YH0WQgKbSZj7o4mCTZXYxWFqpR/waxTjfBn5k82uF5RDof95fPD+RpH9ro1mm24DNg7KriZ/AtZwkt8paNLUuCuiFKeiSVnnkx/e1x45XnyG75DQ5qRJdBtFM7oy2lGfhKkSC7SplZ2B1YLP18bWbR68J/mfw1reoiL7/XHwvg65mahvi22zdvD+EaqpV8oo4IvB57+QP7v79Mjx4g+VkHBm60HoAdLIkYXNKMymh1igTa1EpzS7MbZuVvCeJHSLg/ehZfY/O3h/lUKRD/d/P/kiW46Z5DovbypyvHnAE0W+Pzx4f5PGibOFuYWxQJtaCWubr5A/aXAbuRr0nGD5+8CxSNTmB+tGl9l/+ACIuxvWIefvviBSPhr5pu8H/lnGZtBkx1FCgb6N4uIbzl4/r8j63sTCbCzQpmZeCd7jtdu1kbiA4oY3QaFpxwRloTBOLLHvdnK15Ntj6w4I3u8E/i9SfhkKmfso+O6dJWyO2z0ocrxi/mfI+c+fLrFNT+mLwtyNIn1Mk+IojuZjLdQ59yK5VJIfQ+6BZeimHAb8Ftgr8r125JteSnE3x3rkwvR+RS6CY1dgCQqRi3fUPRr5zs+L7LcTPSC6gQ2CsjEoJ0j43bWTvwroIdMNHFJim1pppqgM0yBcgza18hiKez4B1VYXoyiHfYE1geOQq+E64PLI95YBVwKHo9r13xL2Hbo35gOvoVrt4OC7RyMB/iD2ncMDWxZQXPiXIFfGcUj430YPiiXB+teC31WMzQIb/lpim2rpizVm08dwDbq1mIqE8awi669GNdXf17DvnYHvVvmda4Lj/aHENmNRi+HSGmxKwjVm0zRYoFuP81AtMS5K7agW3E1t+ZevJn/QTDk6yEVlHFZiuxNQTXvVGmyKYmEuzgrIjbVRsDwkKMsKy6HWTtjB3YlG0u5MH58xxgLdegxHg1t+GinrjzoUQ3/wLCSglfKl2P7KMRDdXOWOtxyKVCkl4OVoZWHuQB24pdafis7NmsDnUWfwP4At6m5dZYxCMfo7o07i9ZGrbUMk0g+THyXUp7BAtyZroJC1HYLlY4DngWeC1yvkBpaUY3lyIxsr5fHIsYodrx8KFzy/iv1GaWVhDhkAnFNi/TkoWqd/pOxSlJJ2YB3tqoZvIdfcCuhhfhn5D/O/o3DSPokFunVZA7gneM8iJwGnU11NHizMUUoJ9K5I8D4RK7+c3ECnNqQR3wbORB2qjeb44H0HZG/c1XUDuRGvYe6R0N6P1XpQR3GYtHkCRXNkdULWk4APq9jeURnVcSJqvUQHF7Uh18Z5wfIBwF3oPE4A7gO+g0I4i/ETFK5ZKQvQQKdinBK8d6EkXfFY+KnkcrV8E0UJzUPi/Hfk4vlXFfYA2RDoTvKbNqb1qGa4dqOpVJwtzNUzFeVA+UWsfG0kxOGgoQNRyOUjSPR+g2qnpQT6RHIDpiphYZn14XXQRWEKg+XQb7kdGAF8AYVizgMeCMqPQCGoVZEFgT4E/ehiIVfGZBkLc+2E0Tb3xcq3RHHudwXLj5Ofn3shGv1ZikUUT8hVK8NR5+C5sfLtg/fLkZDHa9eV2Jtp7IM2zYZ9zJXTRnKEQ+ja2jxWfg2FGQyj3IyiPhrNjsjeqbHy29CAq6RJHjqBl4DP1XLALNSgjWkmXGOunmK5OO5DkTPjI2X7oEkdikVE7IUiO07uTQMrpAu545ZHfnNQZ+AK6CGT1I9yPHALNQ5wskAbUxkW5t5nKfLXnojEbVpQ1kZy0qpVkEBvT3WTNPQWXai1tBfyO6+JpmGbCcwtsv0EFLqZ1U7wirCLw2QVuzLqz2AkdgOBryL/c3xk3njgR+Ti3NdtmHViBPIvH4geIGuQSz+bxDoo5UDo9mi0vb2KBdpkDQtz79GGJuqthMvRCMIoQ4FvkGvxj0RJsxpJOJfmauU2RL81nIOxDV1L36yTXQ3BAm2ygoW59yk3kjCkA7kKfhArD5NZRV8X9qaBFfAT8vOJF2MgyogYt/frtRzUPmhjhH3M6XISOZ9tOFIwnOThaxQKXLm45d5iBBLnPYLlC5CrpdikDR+h2nac+QllTYNr0CYtXGOuP5XUoIeTqzB2okx2WWFE5PNIksPp6oJr0KZVcY05W7wd+byE3CQKWeCtyOdG1dwBC7RpPSzMpmmwQJtWwcKcHh/SezPRtBQWaNPXsTCnz0cUzs5uKsACbfoqFmbT9FigTV/Dwmz6DBZo01ewMJs+hwXaDEazPTyEJnFtAzYFJqIht/PSM60iLMzZpxPNSNLUw53TwALd2rShYbUXo06cPYDPotkgnkZidyCaMzBrWJibhzYKkx+ZCrBAtzaz0DxpD6Ce9nPQiM5wbrW/oMToW6ViXTIWZtMyWKBbm43RVGOjUdLxo8mJMyg370yUxCbteQMtzKblsEC3NmegQQTbA+1oKqEoq6AJfdtJT6AtzKZlsUC3NuFMxbOBJ4FXY+tnAk+hmnSjsTD3HZYB96dtRDNigTaQPJX86mjW5RMbbIuFOfushlpX1fAf1FnY1FM/NRoLtBkLTAdOi5UfALwMnNkgOyzMzcMBwFo1fO8JmjwvcqOxQJtZyMe8XKRsA+BLwKepv0BamJuPdjQj9+kVbr8xSrrfXjeL+igWaNMFPIsiNb6CmqG7ocEr9fQbWpibmw+Bdyrc9v16GtKXsUCb2WiK+9OASaiWc34dj2dhbj36UfmksSaCBbq1GQesDfw4WH6pzseyMLcmbeRPG2UqpBqB7gjeo/GwnWRrahpTHVugm+e2Oh7DwmxMjVQq0BOBb6DwmmuAm5DT/zVgQ+CPwG/rYaCpGz8A9g4+fx+4BIlnb2FhNqZB/BQYCnweTZp4OpqpFzRN+hJgpR7s37N6N55h5GYnHkLvubs8S3bf5zTgmCq270KZEpcrt6HJp5KbsgP1wr6DRLgbOAH4IFg/H93onyYXM7sp6hR4GHi0F+01vceiyOd3e2F/rjGbUqSdy6UpqUSgBwC/CD5vDtxC/s09NtjPxGD5aBQVcDcS7DeA/XvDWJNJLMymHEuBx9I2ohmpRKAXB69OVDP+bmz9RsH7S6gpMwK4IyjbH/mpLwVu7KmxJnXGoRFkD6AHt4XZmDpSjd9xI5R0+9ZY+Wx0g14PfAw4Avgh8lW/gQR6LSzQzc4M4GrUUnoTuBc9uC3MxtSJtvKb/H+OQ5Eb45Egg/zTz6Ea82eDsiHkfJrjUIa0WcCdRfZ7OBL5BcAzsXV3U5jE53NoQEWUecBFsbLNUDa2OGeSP7JpRWCfhO3+hHIHRDmKwofagxRGP+wOTI2VLaRwAMgGJCfDPz/YPmQsyn8Q53o0VVWUQ1GHbpQn0O+JshOKgY7yHsoPHWUdYEd0jtaNlD+GOgHDc3ka+YlwpqLzEOf3qMMopIPkqZB68t/PRP9/nLPQbwyZFOwzTqX//UPoP4iyG7BqrCzN//5J9GCN8kmUfyXK+xTmXZkebBtnRfIHnvQjOUjgdfIf3AeS/SnUMkU1An0zMIX8i+8w4FvoYnst4TtnASNR9EcxBqGLug34Z2zdm+hPjrJC8J0oHwAvxspGB5qzGv0AAAnrSURBVK84/yW/w2IghTc9wFwKh7JOpfCcvU1hApiJ6EEVZSnwfKxsJLoB4zxPforPTpJHYs0Pjh9lJQqF5B30e6JMQJEcUT4iXzwJtpmAbv5DUX7oxcC3yX8wPUO+QA8Glk+w+ZXg+yFtFD7MQCK1IFaW5n+/CoW5JHry349AFZg4lf73rwFvxcoq/e/HA8NjZcvQkP8o4X8fZwT5gtwe7DPOInKVtcXooeJsdnVgADrB1wJfRbWe/VDClKSbC2Ab4HJ0Q5fDYXbZpx+q3c1DcdPGmIwwCz351keRHN8Fdqa4D3s68kOHow/jNbU4FujmoA24MG0jjDH5fA81OTvKbYiaoYdHlkcA+5b5jgW6ObBAm1roQNkRTZVUGsWxBfAPygebjwKuQn60zZG/cDJKY2mMaU36oZBMR3JVSTmBHo168DdFJ3crNFClmKN/RSTQcTyasG/QDZyXthHGtArlBHo8Ssy9X2S5FP8OXqbvcm/aBhjTKpQT6CcojAc1xhjTADxHmDHGZBQLtDGm3iwBjk/biGbEU16ZamgDLgC+nLYhVTIMOBgNuOpA+c1noP6VYikIGs1n0TiDu1BH+2wUCTUMTZDRzBEQ3RSOCjVNhOOgm4NmjINeBfWj7BEsj0O/4W00Q1AW2BDl25iEHhonk8sPMxgNZd80HdNMmtjFYfoyQ4G/ohQFfwjKXkMiuAh4KrZ9Wi3KXVFK3uGohj83WAalWHgEOCjhe24B93H8B5u+zPGoBv2jWPla5NLmjkapdLdDApmUOS7OCGBMFXa8RWHSryh3oSx7m6BESfHsfMPJJdVaAdW490S5cE6vwo60aENjJF5I25BmwwJt+iqdqNZ5K/n+zyHAxsBvguWh5DLnVTp34nHAelXYMp/ktKYhYSrYLuAe8qcga0dpYe8PloejrHzLqC4bZZp0ovw9h6RtSLNhgTbVclvaBlTIDCRm/4iVz0SCEdagXwheXVXsOyl/dW/QRe7BEbIu+bMUPR68O21nC2AftKmGbuDitI2okJHB+/2x8i3RJBJPNtacsqyK3ADxSQp2R2FqzdY5a3oBC7Tpq4QTD0Rn9OhESXuy2AoIa/CPRMqGIZ/4CRQm/DctgAXa9FWeQrHDmwTLQ4CfA6tTWEvNAl3Ay+SmCesEfgdcCZyallEmXeyDNn2ZvVHt8xjkJrgepb6NT3ycBbqAy9CMNcciF815KESw2fmQXNigqQILtKmGNuBI4Iy0DamQN9As8yEno4iKrCUAm4bC5+YAf07ZlnrwEXB72kY0I3ZxmGpZK20DekAXEsGkCIgONBQ8DbqQiN1RbsMIHcgNYvowFmjTKqyOBqQ8GCufhmJ0Z6CY6O8Bn2igXR3Ap5DPfGEF22+KXDbDkc3HoggQ0wfJSqD77qg5ekvahpiSNGuypDOA5VH+jZHAS8A3UrVIjATORj7afsHrOAqHoBuTKk6W1Bw0Y7Ikkz6dwE/SNqIZsYvDVMtraRtgmo42lJXPVIkF2lRDN/A/aRthTKtggTbGmIxigTbGmIxigTbG1JtlFCatMhVggTbVskPaBpimYymO/qkJC7SphjZgt7SNMKZVsEAbY0xGsUAbY0xGyYJADwYGpm2EMaZu9Kf50gNkgiwI9JeAz6RthDGmbrQD66dtRDOShXzQZwNz0zbCVIRHEhrTQLJQgzbNhXNxGNMgLNDGGJNRLNDGmHrTDSxO24hmxAJtqmVK2gaYpmMJ8M20jWhGLNCmGtrQjB/GmAZggTbGmIxigTbGmIxigTbG1JsOYLO0jWhGLNDGmHrTD9gnbSOaEQu0qYZu4JK0jTCmVbBAm2q5NW0DjGkVLNDGGJNRLNDGGJNRLNDGmHqzBDg1bSOaEQu0qYY24Ky0jTBNRzfwQtpGNCMWaFMtg9M2wJhWwQJtjDEZxQJtjKk3bcDYtI1oRizQxph60wmclLYRzYgF2lTLvWkbYEyrYIE21dANnJe2Eca0ChZoY4zJKBZoY4zJKBZoY0y9+RC4Om0jmhELtKmGNuDgtI0wTcdHwI1pG9GMWKBNtWyQtgHGtAoWaGOMySgWaGOMySgWaGNMvfFIwhqxQJtqWZy2AabpcC6OGrFAm2roBo5I2whj+jDbAvuHCxZoY4zJDjcCo4CDwAJtjDFZ46doYoyD2oKFtFkbeB94Jm1DAkYBb6ZtRMBgFOj/QdqGBGTp3AxBo9R8bgoZAixF8wGmTTuwCXBn2oYEDEXXzNK0DQkodt1MbgMGNNiYJH4EvAr8LG1DAs4iO77WvYCXgDvSNiQgS+dmH/RQvzttQwKydG6+ADwC3Je2IQFZOjdfBv4F/DttQwKSzs1kMhT58jV0s2WFHdM2IMJ09GdlhSydm3WBSWkbESFL52YGMDFtIyJk6dx8HJiQthER4udmMvB7VLPOBLsDW6ZthDHGpEyeOPdL1xZjjDERBiEXzNtggTbGmCzxZHTBYXbGGJNRLNDGGJNRLNDGGJNRLNDGGJNRLNDGGJNRLNDGGJNRHGZnKuEQYDVgHnAq8HlgZRRM/zRwdnqmGdN3sUCbcmwBLAROBl4HVgcuAi5GLbBHgVeAq9Iy0Ji+il0cphzbA1eQy11wC3Br8HkZ8ARKzBOlHRjXEOtMluhEyb2OAbYKymai7HGmBizQphx/RikrZwbvV8bWjwGmBp/XAb4efOfARhloMsEawL3ooX0KcoF9G10v76Vol+kFnCwp+/wGuD1W1gG8Bfw9WB4LjAAuRLUo0xpMAF4EDouVPw1c13hz+g6uQZtK6QLmxMo+BgwnJ9ALkGCb1uJsVHM+L1LWgR7Y4TXThjK1fQ/4TEOta2LcSWgqYRqwAjnfc8iewLvALxtukckK04Dd0GQbH0bKP45aU+E18ylgNLA1qm2bCrBAm0roCt6fjZSNAw4AjgTmNtwikxW2RbXjm2Pls1HKzAeC5WuC9z0bZFefwC4OUwldwFNIkAFGAn9CU5VdkJZRJhOEs7bEp9baEvVZfIipGdegTSV0AZegDp9j0XVzKLnakWld5qPJV6OtqOHAZsCJqVjUh7BAm3KsgWpJc9CszFmZmdlkg6tQS2oK8DyKeb4EzUYf77MwVWKBNuXoAj6iOmEehAcntAovAvsCZwJ3oeiNh5EPOiszijctFmhTisnAHsBLqAf+XUr7FDdGvfTvoB7849AEmE+W+I5pfq4IXiF/Bu7A/uceY4E2xRiKkiTNAW4DDgJ+BfynxHfuDl6mdelAo05PLbK+LXiZCrBAm2K8A3w3bSNM07EJaj3FR51uitwe04DPoRbZJThEsynwUG9jmpuxKB3AQ8DjwPXkwjJNjbgGbYzpDRagzkLTi3igijHGZBQLtDHGZBQLtDHGZBQLtDHGZBQLtDHGZBQLtDHGZJT/B++VtIhjroRXAAAAAElFTkSuQmCC)\n"
   ]
  },
  {
   "cell_type": "markdown",
   "metadata": {
    "id": "pw2LlAhZItK8"
   },
   "source": [
    "2차원 좌표 평면 상에서 두 점 $p$와 $q$와 사이의 직선 거리를 구하는 문제입니다. 위의 경우에는 직각 삼각형으로 표현이 가능하므로, 중학교 수학 과정인 피타고라스의 정리를 통해 $p$와 $q$ 사이의 거리를 계산할 수 있습니다. 즉, 2차원 좌표 평면에서 두 점 사이의 유클리드 거리 공식은 피타고라스의 정리를 통해 두 점 사이의 거리를 구하는 것과 동일합니다.\n",
    "\n",
    "다시 원점으로 돌아가서 여러 문서에 대해서 유사도를 구하고자 유클리드 거리 공식을 사용한다는 것은, 앞서 본 2차원을 단어의 총 개수만큼의 차원으로 확장하는 것과 같습니다. 예를 들어 아래와 같은 DTM이 있다고 합시다."
   ]
  },
  {
   "cell_type": "markdown",
   "metadata": {
    "id": "cLHG6BQkI_W2"
   },
   "source": [
    "![image.png](data:image/png;base64,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)"
   ]
  },
  {
   "cell_type": "markdown",
   "metadata": {
    "id": "hrMW6GR6JH9H"
   },
   "source": [
    "단어의 개수가 4개이므로, 이는 4차원 공간에 문서1, 문서2, 문서3을 배치하는 것과 같습니다. 이때 다음과 같은 문서Q에 대해서 문서1, 문서2, 문서3 중 가장 유사한 문서를 찾아내고자 합니다."
   ]
  },
  {
   "cell_type": "markdown",
   "metadata": {
    "id": "gkTCcwtUJLqA"
   },
   "source": [
    "![image.png](data:image/png;base64,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)"
   ]
  },
  {
   "cell_type": "markdown",
   "metadata": {
    "id": "vcbKXuM-JOSc"
   },
   "source": [
    "이때 유클리드 거리를 통해 유사도를 구하려고 한다면, 문서Q 또한 다른 문서들처럼 4차원 공간에 배치시켰다는 관점에서 4차원 공간에서의 각각의 문서들과의 유클리드 거리를 구하면 됩니다. 이를 파이썬 코드로 구현해보겠습니다."
   ]
  },
  {
   "cell_type": "code",
   "execution_count": 2,
   "metadata": {
    "executionInfo": {
     "elapsed": 7,
     "status": "ok",
     "timestamp": 1675090038634,
     "user": {
      "displayName": "Jeong-Ho JEON (전정호)",
      "userId": "09770030589626015137"
     },
     "user_tz": -540
    },
    "id": "sMvsj1Xp7LxU"
   },
   "outputs": [],
   "source": [
    "import numpy as np"
   ]
  },
  {
   "cell_type": "code",
   "execution_count": 3,
   "metadata": {
    "colab": {
     "base_uri": "https://localhost:8080/"
    },
    "executionInfo": {
     "elapsed": 6,
     "status": "ok",
     "timestamp": 1675090038634,
     "user": {
      "displayName": "Jeong-Ho JEON (전정호)",
      "userId": "09770030589626015137"
     },
     "user_tz": -540
    },
    "id": "W6GAsKOj7PaR",
    "outputId": "79c28c0c-b690-4a19-c7c8-d1cd8ea84fbb"
   },
   "outputs": [
    {
     "name": "stdout",
     "output_type": "stream",
     "text": [
      "문서1과 문서Q의 거리 : 2.23606797749979\n",
      "문서2과 문서Q의 거리 : 3.1622776601683795\n",
      "문서3과 문서Q의 거리 : 2.449489742783178\n"
     ]
    }
   ],
   "source": [
    "## L2 Norm\n",
    "def dist(x, y):   \n",
    "    return np.sqrt(np.sum((x - y)**2))\n",
    "\n",
    "doc1 = np.array((2, 3, 0, 1))\n",
    "doc2 = np.array((1, 2, 3, 1))\n",
    "doc3 = np.array((2, 1, 2, 2))\n",
    "\n",
    "docQ = np.array((1, 1, 0, 1))\n",
    "\n",
    "print('문서1과 문서Q의 거리 :', dist(doc1, docQ))\n",
    "print('문서2과 문서Q의 거리 :', dist(doc2, docQ))\n",
    "print('문서3과 문서Q의 거리 :', dist(doc3, docQ))"
   ]
  },
  {
   "cell_type": "markdown",
   "metadata": {
    "id": "pTLX4j5YJWgN"
   },
   "source": [
    "유클리드 거리의 값이 가장 작다는 것은 문서 간 거리가 가장 가깝다는 것을 의미합니다. 즉, 문서1이 문서Q와 가장 유사하다고 볼 수 있습니다."
   ]
  },
  {
   "cell_type": "markdown",
   "metadata": {
    "id": "sWhsMz-S7YmH"
   },
   "source": [
    "---\n",
    "### **2. 자카드 유사도(Jaccard similarity)**\n",
    "\n",
    "A와 B 두개의 집합이 있다고 합시다. 이때 교집합은 두 개의 집합에서 공통으로 가지고 있는 원소들의 집합을 말합니다. 즉, **합집합에서 교집합의 비율** 을 구한다면 두 집합 A와 B의 유사도를 구할 수 있다는 것이 **자카드 유사도(jaccard similarity)** 의 아이디어입니다. 자카드 유사도는 0과 1사이의 값을 가지며, 만약 **두 집합이 동일하다면 1** 의 값을 가지고, 두 집합의 **공통 원소가 없다면 0** 의 값을 갖습니다. 자카드 유사도를 구하는 함수를 $J$라고 하였을 때, 자카드 유사도 함수 $J$는 아래와 같습니다.\n",
    "\n",
    " \n"
   ]
  },
  {
   "cell_type": "markdown",
   "metadata": {
    "id": "4M7vPbHIJkHS"
   },
   "source": [
    "$$J(A,B)=\\frac{|A∩B|}{|A∪B|}=\\frac{|A∩B|}{|A|+|B|-|A∩B|}$$"
   ]
  },
  {
   "cell_type": "markdown",
   "metadata": {
    "id": "O2DJXYlQSoos"
   },
   "source": [
    "두 개의 비교할 문서를 각각 $doc_{1}$, $doc_2$ \n",
    "라고 했을 때 $doc_1$과 $doc_2$의 문서의 유사도를 구하기 위한 자카드 유사도는 이와 같습니다.  \n",
    "  \n",
    "$$J(doc_{1},doc_{2})=\\frac{doc_{1}∩doc_{2}}{doc_{1}∪doc_{2}}$$\n",
    "\n"
   ]
  },
  {
   "cell_type": "markdown",
   "metadata": {
    "id": "Ltx7_qWfVyob"
   },
   "source": [
    "두 문서 $doc_1$, $doc_2$ 사이의 자카드 유사도 $J(doc_1, doc_2)$는 두 집합의 교집합 크기를 두 집합의 합집합 크기로 나눈 값으로 정의됩니다. 간단한 예를 통해서 이해해보겠습니다."
   ]
  },
  {
   "cell_type": "code",
   "execution_count": 4,
   "metadata": {
    "colab": {
     "base_uri": "https://localhost:8080/"
    },
    "executionInfo": {
     "elapsed": 480,
     "status": "ok",
     "timestamp": 1675093589016,
     "user": {
      "displayName": "Jeong-Ho JEON (전정호)",
      "userId": "09770030589626015137"
     },
     "user_tz": -540
    },
    "id": "8PSAOmlb7P5w",
    "outputId": "e925149d-4ac5-4099-9dc5-38e4e73c632a"
   },
   "outputs": [
    {
     "name": "stdout",
     "output_type": "stream",
     "text": [
      "문서1 : ['apple', 'banana', 'everyone', 'like', 'likey', 'watch', 'card', 'holder']\n",
      "문서2 : ['apple', 'banana', 'coupon', 'passport', 'love', 'you']\n"
     ]
    }
   ],
   "source": [
    "doc1 = \"apple banana everyone like likey watch card holder\"\n",
    "doc2 = \"apple banana coupon passport love you\"\n",
    "\n",
    "## 토큰화화\n",
    "tokenized_doc1 = doc1.split()\n",
    "tokenized_doc2 = doc2.split()\n",
    "\n",
    "print('문서1 :', tokenized_doc1)\n",
    "print('문서2 :', tokenized_doc2)"
   ]
  },
  {
   "cell_type": "markdown",
   "metadata": {
    "id": "7oKWhXACXClz"
   },
   "source": [
    "문서1과 문서2의 합집합을 구해보겠습니다."
   ]
  },
  {
   "cell_type": "code",
   "execution_count": 5,
   "metadata": {
    "colab": {
     "base_uri": "https://localhost:8080/"
    },
    "executionInfo": {
     "elapsed": 293,
     "status": "ok",
     "timestamp": 1675093596323,
     "user": {
      "displayName": "Jeong-Ho JEON (전정호)",
      "userId": "09770030589626015137"
     },
     "user_tz": -540
    },
    "id": "_mQvLS2R7SdX",
    "outputId": "ff925851-5d3a-4428-ceec-d24e6262f278"
   },
   "outputs": [
    {
     "name": "stdout",
     "output_type": "stream",
     "text": [
      "문서1과 문서2의 합집합 : {'coupon', 'love', 'you', 'banana', 'passport', 'apple', 'card', 'like', 'everyone', 'likey', 'holder', 'watch'}\n"
     ]
    }
   ],
   "source": [
    "## 합집합\n",
    "union = set(tokenized_doc1).union(set(tokenized_doc2))\n",
    "print('문서1과 문서2의 합집합 :', union)"
   ]
  },
  {
   "cell_type": "markdown",
   "metadata": {
    "id": "1lHKsl1ZXFdi"
   },
   "source": [
    "문서1과 문서2의 합집합의 단어의 총 개수는 12개입니다. 이제 문서1과 문서2의 교집합을 구해보겠습니다. 문서1과 문서2에서 둘 다 등장한 단어를 찾으면 됩니다."
   ]
  },
  {
   "cell_type": "code",
   "execution_count": 6,
   "metadata": {
    "colab": {
     "base_uri": "https://localhost:8080/"
    },
    "executionInfo": {
     "elapsed": 265,
     "status": "ok",
     "timestamp": 1675093655121,
     "user": {
      "displayName": "Jeong-Ho JEON (전정호)",
      "userId": "09770030589626015137"
     },
     "user_tz": -540
    },
    "id": "K7VcOsQr7Tdn",
    "outputId": "18dca43d-2aeb-4485-95b1-4d89b2d297b4"
   },
   "outputs": [
    {
     "name": "stdout",
     "output_type": "stream",
     "text": [
      "문서1과 문서2의 교집합 : {'banana', 'apple'}\n"
     ]
    }
   ],
   "source": [
    "## 교집합\n",
    "intersection = set(tokenized_doc1).intersection(set(tokenized_doc2))\n",
    "print('문서1과 문서2의 교집합 :', intersection)"
   ]
  },
  {
   "cell_type": "markdown",
   "metadata": {
    "id": "QKpbRU48XJBp"
   },
   "source": [
    "문서1과 문서2에서 둘 다 등장한 단어는 banana와 apple 총 2개입니다. 이제 교집합의 크기를 합집합의 크기로 나누면 자카드 유사도가 계산됩니다."
   ]
  },
  {
   "cell_type": "code",
   "execution_count": 7,
   "metadata": {
    "colab": {
     "base_uri": "https://localhost:8080/"
    },
    "executionInfo": {
     "elapsed": 284,
     "status": "ok",
     "timestamp": 1675093657500,
     "user": {
      "displayName": "Jeong-Ho JEON (전정호)",
      "userId": "09770030589626015137"
     },
     "user_tz": -540
    },
    "id": "3FqiAU_lqeRR",
    "outputId": "0a01c1ea-604b-4615-de3d-46f8e8478db8"
   },
   "outputs": [
    {
     "name": "stdout",
     "output_type": "stream",
     "text": [
      "자카드 유사도 : 0.16666666666666666\n"
     ]
    }
   ],
   "source": [
    "print('자카드 유사도 :', len(intersection) / len(union))"
   ]
  },
  {
   "cell_type": "code",
   "execution_count": null,
   "metadata": {
    "id": "1tF2n0b3XMSs"
   },
   "outputs": [],
   "source": []
  },
  {
   "cell_type": "code",
   "execution_count": null,
   "metadata": {},
   "outputs": [],
   "source": []
  }
 ],
 "metadata": {
  "colab": {
   "provenance": []
  },
  "kernelspec": {
   "display_name": "Python 3 (ipykernel)",
   "language": "python",
   "name": "python3"
  },
  "language_info": {
   "codemirror_mode": {
    "name": "ipython",
    "version": 3
   },
   "file_extension": ".py",
   "mimetype": "text/x-python",
   "name": "python",
   "nbconvert_exporter": "python",
   "pygments_lexer": "ipython3",
   "version": "3.10.18"
  }
 },
 "nbformat": 4,
 "nbformat_minor": 4
}
