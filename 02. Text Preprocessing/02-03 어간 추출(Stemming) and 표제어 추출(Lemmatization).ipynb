{
 "cells": [
  {
   "cell_type": "markdown",
   "metadata": {
    "id": "FTpT9J3CE8Fq"
   },
   "source": [
    "이 자료는 위키독스 딥 러닝을 이용한 자연어 처리 입문의 어간 추출과 표제어 추출 튜토리얼입니다.  \n",
    "\n",
    "링크 : https://wikidocs.net/21707"
   ]
  },
  {
   "cell_type": "markdown",
   "metadata": {
    "id": "93xKfAEDIsYA"
   },
   "source": [
    "## **02-03 어간 추출(Stemming) and 표제어 추출(Lemmatization)**\n",
    "---\n",
    "  \n",
    "정규화 기법 중 코퍼스에 있는 단어의 개수를 줄일 수 있는 기법인 **표제어 추출(lemmatization)** 과 **어간 추출(stemming)** 의 개념에 대해서 알아봅니다. 또한 이 둘의 결과가 어떻게 다른지 이해합니다.\n",
    "\n",
    "이 두 작업이 갖고 있는 의미는 눈으로 봤을 때는 서로 다른 단어들이지만, 하나의 단어로 일반화시킬 수 있다면 하나의 단어로 일반화시켜서 문서 내의 단어 수를 줄이겠다는 것입니다. 이러한 방법들은 단어의 빈도수를 기반으로 문제를 풀고자 하는 뒤에서 학습하게 될 **BoW(Bag of Words)** 표현을 사용하는 자연어 처리 문제에서 주로 사용됩니다. 자연어 처리에서 전처리, 더 정확히는 정규화의 지향점은 언제나 갖고 있는 코퍼스로부터 복잡성을 줄이는 일입니다."
   ]
  },
  {
   "cell_type": "markdown",
   "metadata": {
    "id": "Gj5Egbm4IzlD"
   },
   "source": [
    "---\n",
    "### **1. 표제어 추출(Lemmatization)**\n",
    "---\n",
    "  \n",
    "표제어(Lemma)는 한글로는 '표제어' 또는 **'기본 사전형 단어'** 정도의 의미를 갖습니다. 표제어 추출은 단어들로부터 표제어를 찾아가는 과정입니다. 표제어 추출은 단어들이 다른 형태를 가지더라도, 그 뿌리 단어를 찾아가서 단어의 개수를 줄일 수 있는지 판단합니다. 예를 들어서 am, are, is는 서로 다른 스펠링이지만 그 뿌리 단어는 be라고 볼 수 있습니다. 이때, 이 단어들의 표제어는 be라고 합니다.\n",
    "\n",
    "표제어 추출을 하는 가장 섬세한 방법은 단어의 형태학적 파싱을 먼저 진행하는 것입니다. **형태소** 란 **'의미를 가진 가장 작은 단위'** 를 뜻합니다. 그리고 형태학(morphology)이란 형태소로부터 단어들을 만들어가는 학문을 뜻합니다. 형태소의 종류로 어간(stem)과 접사(affix)가 존재합니다."
   ]
  },
  {
   "cell_type": "markdown",
   "metadata": {
    "id": "ismb_OxwI6MN"
   },
   "source": [
    "#### **1) 어간(stem)**\n",
    ": 단어의 의미를 담고 있는 단어의 핵심 부분."
   ]
  },
  {
   "cell_type": "markdown",
   "metadata": {
    "id": "xBYy7rbXI8lN"
   },
   "source": [
    "#### **2) 접사(affix)**\n",
    ": 단어에 추가적인 의미를 주는 부분."
   ]
  },
  {
   "cell_type": "markdown",
   "metadata": {
    "id": "lcJw2pANJARE"
   },
   "source": [
    "형태학적 파싱은 이 두 가지 구성 요소를 분리하는 작업을 말합니다. 가령, cats라는 단어에 대해 형태학적 파싱을 수행한다면, 형태학적 파싱은 결과로 cat(어간)와 -s(접사)를 분리합니다. 꼭 두 가지로 분리되지 않는 경우도 있습니다. 단어 fox는 형태학적 파싱을 한다고 하더라도 더 이상 분리할 수 없습니다. fox는 독립적인 형태소이기 때문입니다. 이와 유사하게 cat 또한 더 이상 분리되지 않습니다.\n",
    "\n",
    "NLTK에서는 표제어 추출을 위한 도구인 WordNetLemmatizer를 지원합니다. 이를 통해 표제어 추출을 실습해보겠습니다."
   ]
  },
  {
   "cell_type": "code",
   "execution_count": 1,
   "metadata": {
    "colab": {
     "base_uri": "https://localhost:8080/"
    },
    "executionInfo": {
     "elapsed": 1507,
     "status": "ok",
     "timestamp": 1675056856613,
     "user": {
      "displayName": "Jeong-Ho JEON (전정호)",
      "userId": "09770030589626015137"
     },
     "user_tz": -540
    },
    "id": "YolDZsvREntt",
    "outputId": "1b1c6cc2-f7de-4b90-ad1d-6e8a00fbb3d4"
   },
   "outputs": [
    {
     "name": "stdout",
     "output_type": "stream",
     "text": [
      "표제어 추출 전 : ['policy', 'doing', 'organization', 'have', 'going', 'love', 'lives', 'fly', 'dies', 'watched', 'has', 'starting']\n",
      "표제어 추출 후 : ['policy', 'doing', 'organization', 'have', 'going', 'love', 'life', 'fly', 'dy', 'watched', 'ha', 'starting']\n"
     ]
    }
   ],
   "source": [
    "from nltk.stem import WordNetLemmatizer  # 표제어 추출(Stem)\n",
    "\n",
    "lemmatizer = WordNetLemmatizer()\n",
    "\n",
    "words = ['policy', 'doing', 'organization', 'have', 'going', 'love', 'lives', 'fly', 'dies', 'watched', 'has', 'starting']\n",
    "\n",
    "print('표제어 추출 전 :', words)\n",
    "print('표제어 추출 후 :', [lemmatizer.lemmatize(word) for word in words])"
   ]
  },
  {
   "cell_type": "code",
   "execution_count": 2,
   "metadata": {},
   "outputs": [
    {
     "data": {
      "text/plain": [
       "'life'"
      ]
     },
     "execution_count": 2,
     "metadata": {},
     "output_type": "execute_result"
    }
   ],
   "source": [
    "lemmatizer.lemmatize('lives')  # 표제어 추출"
   ]
  },
  {
   "cell_type": "markdown",
   "metadata": {
    "id": "vKs6nPKuJFit"
   },
   "source": [
    "표제어 추출은 뒤에서 언급할 어간 추출과는 달리 단어의 형태가 적절히 보존되는 양상을 보이는 특징이 있습니다. 하지만 그럼에도 위의 결과에서는 dy나 ha와 같이 의미를 알 수 없는 적절하지 못한 단어를 출력하고 있습니다. 이는 표제어 추출기(lemmatizer)가 본래 단어의 품사 정보를 알아야만 정확한 결과를 얻을 수 있기 때문입니다.\n",
    "\n",
    "WordNetLemmatizer는 입력으로 단어가 동사 품사라는 사실을 알려줄 수 있습니다. 즉, dies와 watched, has가 문장에서 동사로 쓰였다는 것을 알려준다면 표제어 추출기는 품사의 정보를 보존하면서 정확한 Lemma를 출력하게 됩니다."
   ]
  },
  {
   "cell_type": "code",
   "execution_count": 3,
   "metadata": {
    "colab": {
     "base_uri": "https://localhost:8080/"
    },
    "executionInfo": {
     "elapsed": 395,
     "status": "ok",
     "timestamp": 1675056877241,
     "user": {
      "displayName": "Jeong-Ho JEON (전정호)",
      "userId": "09770030589626015137"
     },
     "user_tz": -540
    },
    "id": "S9te_ttZEpMs",
    "outputId": "56d14e75-f836-4d7c-d390-5058b2da4a92"
   },
   "outputs": [
    {
     "data": {
      "text/plain": [
       "'die'"
      ]
     },
     "execution_count": 3,
     "metadata": {},
     "output_type": "execute_result"
    }
   ],
   "source": [
    "lemmatizer.lemmatize('dies', 'v')  # 품사를 지정하여 표제어 추출"
   ]
  },
  {
   "cell_type": "code",
   "execution_count": 4,
   "metadata": {
    "colab": {
     "base_uri": "https://localhost:8080/"
    },
    "executionInfo": {
     "elapsed": 3,
     "status": "ok",
     "timestamp": 1675056878835,
     "user": {
      "displayName": "Jeong-Ho JEON (전정호)",
      "userId": "09770030589626015137"
     },
     "user_tz": -540
    },
    "id": "a9hP-XRTEqLs",
    "outputId": "2780cf23-a9eb-4a49-aae5-42a1c940da9c"
   },
   "outputs": [
    {
     "data": {
      "text/plain": [
       "'watch'"
      ]
     },
     "execution_count": 4,
     "metadata": {},
     "output_type": "execute_result"
    }
   ],
   "source": [
    "lemmatizer.lemmatize('watched', 'v')"
   ]
  },
  {
   "cell_type": "code",
   "execution_count": 5,
   "metadata": {
    "colab": {
     "base_uri": "https://localhost:8080/"
    },
    "executionInfo": {
     "elapsed": 455,
     "status": "ok",
     "timestamp": 1675056882223,
     "user": {
      "displayName": "Jeong-Ho JEON (전정호)",
      "userId": "09770030589626015137"
     },
     "user_tz": -540
    },
    "id": "gK6NxzYyEq3c",
    "outputId": "4860c589-002f-4509-828a-074c22cf0a7a"
   },
   "outputs": [
    {
     "data": {
      "text/plain": [
       "'have'"
      ]
     },
     "execution_count": 5,
     "metadata": {},
     "output_type": "execute_result"
    }
   ],
   "source": [
    "lemmatizer.lemmatize('has', 'v')"
   ]
  },
  {
   "cell_type": "markdown",
   "metadata": {
    "id": "IGCVc57DJVCl"
   },
   "source": [
    "표제어 추출은 문맥을 고려하며 수행했을 때의 결과는 해당 단어의 품사 정보를 보존합니다. 하지만 어간 추출을 수행한 결과는 품사 정보가 보존되지 않습니다. 더 정확히는 어간 추출을 한 결과는 사전에 존재하지 않는 단어일 경우가 많습니다."
   ]
  },
  {
   "cell_type": "markdown",
   "metadata": {
    "id": "hCT9Xr1LJX1e"
   },
   "source": [
    "---\n",
    "### **2. 어간 추출(Stemming)**\n",
    "---\n",
    "어간(Stem)을 추출하는 작업을 어간 추출(stemming)이라고 합니다. 어간 추출은 형태학적 분석을 단순화한 버전이라고 볼 수도 있고, 정해진 규칙만 보고 단어의 어미를 자르는 어림짐작의 작업이라고 볼 수도 있습니다. 이 작업은 섬세한 작업이 아니기 때문에 어간 추출 후에 나오는 결과 단어는 사전에 존재하지 않는 단어일 수도 있습니다. 예제를 보면 쉽게 이해할 수 있습니다. 어간 추출 알고리즘 중 하나인 포터 알고리즘(Porter Algorithm)에 아래의 문자열을 입력으로 넣는다고 해봅시다.\n",
    "\n",
    "**This was not the map we found in Billy Bones's chest, but an accurate copy, complete in all things--names and heights and soundings--with the single exception of the red crosses and the written notes.**"
   ]
  },
  {
   "cell_type": "code",
   "execution_count": 6,
   "metadata": {
    "colab": {
     "base_uri": "https://localhost:8080/"
    },
    "executionInfo": {
     "elapsed": 332,
     "status": "ok",
     "timestamp": 1675056885507,
     "user": {
      "displayName": "Jeong-Ho JEON (전정호)",
      "userId": "09770030589626015137"
     },
     "user_tz": -540
    },
    "id": "CRURBaL3EymE",
    "outputId": "8c905083-35e4-4f31-bd23-bf2bc4412ec5"
   },
   "outputs": [
    {
     "name": "stdout",
     "output_type": "stream",
     "text": [
      "['This', 'was', 'not', 'the', 'map', 'we', 'found', 'in', 'Billy', 'Bones', \"'s\", 'chest', ',', 'but', 'an', 'accurate', 'copy', ',', 'complete', 'in', 'all', 'things', '--', 'names', 'and', 'heights', 'and', 'soundings', '--', 'with', 'the', 'single', 'exception', 'of', 'the', 'red', 'crosses', 'and', 'the', 'written', 'notes', '.']\n"
     ]
    }
   ],
   "source": [
    "from nltk.stem import PorterStemmer\n",
    "from nltk.tokenize import word_tokenize\n",
    "\n",
    "stemmer = PorterStemmer()\n",
    "\n",
    "sentence = \"This was not the map we found in Billy Bones's chest, but an accurate copy, complete in all things--names and heights and soundings--with the single exception of the red crosses and the written notes.\"\n",
    "tokenized_sentence = word_tokenize(sentence)\n",
    "print(tokenized_sentence)"
   ]
  },
  {
   "cell_type": "code",
   "execution_count": 7,
   "metadata": {},
   "outputs": [
    {
     "name": "stdout",
     "output_type": "stream",
     "text": [
      "['thi', 'wa', 'not', 'the', 'map', 'we', 'found', 'in', 'billi', 'bone', \"'s\", 'chest', ',', 'but', 'an', 'accur', 'copi', ',', 'complet', 'in', 'all', 'thing', '--', 'name', 'and', 'height', 'and', 'sound', '--', 'with', 'the', 'singl', 'except', 'of', 'the', 'red', 'cross', 'and', 'the', 'written', 'note', '.']\n"
     ]
    }
   ],
   "source": [
    "## 어간 추출\n",
    "stems = [stemmer.stem(word) for word in tokenized_sentence]\n",
    "print(stems)"
   ]
  },
  {
   "cell_type": "code",
   "execution_count": 8,
   "metadata": {},
   "outputs": [
    {
     "name": "stdout",
     "output_type": "stream",
     "text": [
      "['This', 'wa', 'not', 'the', 'map', 'we', 'found', 'in', 'Billy', 'Bones', \"'s\", 'chest', ',', 'but', 'an', 'accurate', 'copy', ',', 'complete', 'in', 'all', 'thing', '--', 'name', 'and', 'height', 'and', 'sounding', '--', 'with', 'the', 'single', 'exception', 'of', 'the', 'red', 'cross', 'and', 'the', 'written', 'note', '.']\n"
     ]
    }
   ],
   "source": [
    "## 표제어 추출\n",
    "lemm = [lemmatizer.lemmatize(word) for word in tokenized_sentence]\n",
    "print(lemm)"
   ]
  },
  {
   "cell_type": "markdown",
   "metadata": {
    "id": "6Jjj2OWwJi2c"
   },
   "source": [
    "**규칙 기반의 접근** 을 하고 있으므로 어간 추출 후의 결과에는 사전에 없는 단어들도 포함되어 있습니다. 가령, 포터 알고리즘의 어간 추출은 이러한 규칙들을 가집니다.\n",
    "\n",
    "ALIZE → AL  \n",
    "ANCE → 제거  \n",
    "ICAL → IC  \n",
    "  \n",
    "위의 규칙에 따르면 좌측의 단어는 우측의 단어와 같은 결과를 얻게됩니다.\n",
    "\n",
    "formalize → formal  \n",
    "allowance → allow  \n",
    "electricical → electric  \n",
    "\n",
    "실제 코드를 통해 확인해봅시다."
   ]
  },
  {
   "cell_type": "code",
   "execution_count": 9,
   "metadata": {
    "colab": {
     "base_uri": "https://localhost:8080/"
    },
    "executionInfo": {
     "elapsed": 319,
     "status": "ok",
     "timestamp": 1675056890834,
     "user": {
      "displayName": "Jeong-Ho JEON (전정호)",
      "userId": "09770030589626015137"
     },
     "user_tz": -540
    },
    "id": "-M5cviG2E2uE",
    "outputId": "10df1e8c-f35a-4d4f-de92-bc71772c26cc"
   },
   "outputs": [
    {
     "name": "stdout",
     "output_type": "stream",
     "text": [
      "어간 추출 전 : ['formalize', 'allowance', 'electricical']\n",
      "어간 추출 후 : ['formal', 'allow', 'electric']\n"
     ]
    }
   ],
   "source": [
    "words = ['formalize', 'allowance', 'electricical']\n",
    "\n",
    "print('어간 추출 전 :', words)\n",
    "print('어간 추출 후 :', [stemmer.stem(word) for word in words])"
   ]
  },
  {
   "cell_type": "markdown",
   "metadata": {
    "id": "pakuru3YJh5c"
   },
   "source": [
    "**※ Porter 알고리즘의 상세 규칙은 마틴 포터의 홈페이지에서 확인할 수 있다.**\n",
    "\n",
    "어간 추출 속도는 표제어 추출보다 일반적으로 빠른데, 포터 어간 추출기는 정밀하게 설계되어 정확도가 높으므로 영어 자연어 처리에서 어간 추출을 하고자 한다면 가장 준수한 선택입니다. NLTK에서는 포터 알고리즘 외에도 랭커스터 스태머(Lancaster Stemmer) 알고리즘을 지원합니다. 이번에는 포터 알고리즘과 랭커스터 스태머 알고리즘으로 각각 어간 추출을 진행했을 때, 이 둘의 결과를 비교해보겠습니다."
   ]
  },
  {
   "cell_type": "code",
   "execution_count": 10,
   "metadata": {
    "colab": {
     "base_uri": "https://localhost:8080/"
    },
    "executionInfo": {
     "elapsed": 338,
     "status": "ok",
     "timestamp": 1675056893516,
     "user": {
      "displayName": "Jeong-Ho JEON (전정호)",
      "userId": "09770030589626015137"
     },
     "user_tz": -540
    },
    "id": "6VFiuKj-E3os",
    "outputId": "0683d151-c536-42b1-91b4-eb5aaae45f74"
   },
   "outputs": [
    {
     "name": "stdout",
     "output_type": "stream",
     "text": [
      "어간 추출 전 : ['policy', 'doing', 'organization', 'have', 'going', 'love', 'lives', 'fly', 'dies', 'watched', 'has', 'starting']\n",
      "포터 스테머의 어간 추출 후: ['polici', 'do', 'organ', 'have', 'go', 'love', 'live', 'fli', 'die', 'watch', 'ha', 'start']\n",
      "랭커스터 스테머의 어간 추출 후: ['policy', 'doing', 'org', 'hav', 'going', 'lov', 'liv', 'fly', 'die', 'watch', 'has', 'start']\n"
     ]
    }
   ],
   "source": [
    "from nltk.stem import PorterStemmer\n",
    "from nltk.stem import LancasterStemmer\n",
    "\n",
    "porter_stemmer = PorterStemmer()\n",
    "lancaster_stemmer = LancasterStemmer()\n",
    "\n",
    "words = ['policy', 'doing', 'organization', 'have', 'going', 'love', 'lives', 'fly', 'dies', 'watched', 'has', 'starting']\n",
    "print('어간 추출 전 :', words)\n",
    "print('포터 스테머의 어간 추출 후:',[porter_stemmer.stem(w) for w in words])\n",
    "print('랭커스터 스테머의 어간 추출 후:',[lancaster_stemmer.stem(w) for w in words])"
   ]
  },
  {
   "cell_type": "markdown",
   "metadata": {
    "id": "Ptg_KMn2Jw0_"
   },
   "source": [
    "동일한 단어들의 나열에 대해서 두 스태머는 전혀 다른 결과를 보여줍니다. 두 스태머 알고리즘은 서로 다른 알고리즘을 사용하기 때문입니다. 그렇기 때문에 이미 알려진 알고리즘을 사용할 때는, 사용하고자 하는 코퍼스에 스태머를 적용해보고 **어떤 스태머가 해당 코퍼스에 적합한지를 판단한 후에 사용하여야** 합니다.\n",
    "\n",
    "이런 규칙에 기반한 알고리즘은 종종 제대로 된 일반화를 수행하지 못 할 수 있습니다. 어간 추출을 하고나서 일반화가 지나치게 되거나, 또는 덜 되거나 하는 경우입니다. 예를 들어 포터 알고리즘에서 organization을 어간 추출했을 때의 결과를 봅시다.\n",
    "\n",
    "organization → organ\n",
    "\n",
    "organization과 organ은 완전히 다른 단어 임에도 organization에 대해서 어간 추출을 했더니 organ이라는 단어가 나왔습니다. organ에 대해서 어간 추출을 한다고 하더라도 결과는 역시 organ이 되기 때문에, 두 단어에 대해서 어간 추출을 한다면 동일한 어간을 갖게 됩니다. 이는 의미가 동일한 경우에만 같은 단어를 얻기를 원하는 정규화의 목적에는 맞지 않습니다. 마지막으로 동일한 단어에 대해서 표제어 추출과 어간 추출을 각각 수행했을 때, 결과에서 어떤 차이가 있는지 간단한 예를 보겠습니다.  \n",
    "  \n",
    "**Stemming**  \n",
    "am → am  \n",
    "the going → the go  \n",
    "having → hav  \n",
    "  \n",
    "**Lemmatization**  \n",
    "am → be  \n",
    "the going → the going  \n",
    "having → have  \n"
   ]
  },
  {
   "cell_type": "markdown",
   "metadata": {
    "id": "UVQ0Vt5VKBV0"
   },
   "source": [
    "---\n",
    "### **3. 한국어에서의 어간 추출**\n",
    "---  \n",
    "\n",
    "한국어의 어간에 대해서 간략히 설명합니다. 한국어는 아래의 표와 같이 5언 9품사의 구조를 가지고 있습니다."
   ]
  },
  {
   "cell_type": "markdown",
   "metadata": {
    "id": "WISUgviIKJKc"
   },
   "source": [
    "![image.png](data:image/png;base64,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)"
   ]
  },
  {
   "cell_type": "markdown",
   "metadata": {
    "id": "F9R-Hp-XKMVs"
   },
   "source": [
    "이 중 용언에 해당되는 '동사'와 '형용사'는 어간(stem)과 어미(ending)의 결합으로 구성됩니다. 앞으로 용언이라고 언급하는 부분은 전부 동사와 형용사를 포함하여 언급하는 개념입니다."
   ]
  },
  {
   "cell_type": "markdown",
   "metadata": {
    "id": "JsgUsLtKKOaU"
   },
   "source": [
    "#### **(1) 활용(conjugation)**\n",
    "활용(conjugation)은 한국어에서만 가지는 특징이 아니라, 인도유럽어(indo-european language)에서도 주로 볼 수 있는 언어적 특징 중 하나를 말하는 통칭적인 개념입니다. 다만, 여기서는 한국어에 한정하여 설명합니다.\n",
    "\n",
    "활용이란 용언의 어간(stem)이 어미(ending)를 가지는 일을 말합니다.\n",
    "\n",
    "**어간(stem)** : 용언(동사, 형용사)을 활용할 때, **원칙적으로 모양이 변하지 않는 부분** . 활용에서 어미에 선행하는 부분. 때론 어간의 모양도 바뀔 수 있음(예: 긋다, 긋고, 그어서, 그어라).\n",
    "\n",
    "**어미(ending)**: 용언의 어간 뒤에 붙어서 활용하면서 변하는 부분이며, 여러 문법적 기능을 수행\n",
    "\n",
    "활용은 어간이 어미를 취할 때, 어간의 모습이 일정하다면 규칙 활용, 어간이나 어미의 모습이 변하는 불규칙 활용으로 나뉩니다."
   ]
  },
  {
   "cell_type": "markdown",
   "metadata": {
    "id": "aZC0GZ62KV19"
   },
   "source": [
    "#### **(2) 규칙 활용**\n",
    "규칙 활용은 어간이 어미를 취할 때, 어간의 모습이 일정합니다. 아래의 예제는 어간과 어미가 합쳐질 때, 어간의 형태가 바뀌지 않음을 보여줍니다.\n",
    "```\n",
    "잡/어간 + 다/어미\n",
    "```\n",
    "이 경우에는 어간이 어미가 붙기전의 모습과 어미가 붙은 후의 모습이 같으므로, 규칙 기반으로 어미를 단순히 분리해주면 어간 추출이 됩니다."
   ]
  },
  {
   "cell_type": "markdown",
   "metadata": {
    "id": "oUOoIYRnKbYc"
   },
   "source": [
    "#### **(3) 불규칙 활용**\n",
    "불규칙 활용은 어간이 어미를 취할 때 어간의 모습이 바뀌거나 취하는 어미가 특수한 어미일 경우를 말합니다.\n",
    "\n",
    "예를 들어 ‘듣-, 돕-, 곱-, 잇-, 오르-, 노랗-’ 등이 ‘듣/들-, 돕/도우-, 곱/고우-, 잇/이-, 올/올-, 노랗/노라-’와 같이 어간의 형식이 달라지는 일이 있거나 ‘오르+ 아/어→올라, 하+아/어→하여, 이르+아/어→이르러, 푸르+아/어→푸르러’와 같이 일반적인 어미가 아닌 특수한 어미를 취하는 경우 불규칙활용을 하는 예에 속합니다.\n",
    "\n",
    "이 경우에는 어간이 어미가 붙는 과정에서 어간의 모습이 바뀌었으므로 단순한 분리만으로 어간 추출이 되지 않고 좀 더 복잡한 규칙을 필요로 합니다. 아래의 링크는 다양한 불규칙 활용의 예를 보여줍니다.\n",
    "  \n",
    "링크 : https://namu.wiki/w/한국어/불규칙%20활용"
   ]
  },
  {
   "cell_type": "markdown",
   "metadata": {
    "id": "aZ1PWW8-Kf99"
   },
   "source": [
    "마지막 편집일시 : 2022년 11월 14일 2:42 오후"
   ]
  }
 ],
 "metadata": {
  "colab": {
   "machine_shape": "hm",
   "provenance": []
  },
  "kernelspec": {
   "display_name": "Python 3 (ipykernel)",
   "language": "python",
   "name": "python3"
  },
  "language_info": {
   "codemirror_mode": {
    "name": "ipython",
    "version": 3
   },
   "file_extension": ".py",
   "mimetype": "text/x-python",
   "name": "python",
   "nbconvert_exporter": "python",
   "pygments_lexer": "ipython3",
   "version": "3.10.18"
  }
 },
 "nbformat": 4,
 "nbformat_minor": 4
}
