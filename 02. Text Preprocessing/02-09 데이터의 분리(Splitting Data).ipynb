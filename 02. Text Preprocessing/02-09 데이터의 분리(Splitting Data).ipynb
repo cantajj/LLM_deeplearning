{
 "cells": [
  {
   "cell_type": "markdown",
   "metadata": {
    "id": "6-HPYaR9a2Ix"
   },
   "source": [
    "이 자료는 위키독스 딥 러닝을 이용한 자연어 처리 입문의 데이터의 분리 튜토리얼 자료입니다.  \n",
    "링크 : https://wikidocs.net/33274"
   ]
  },
  {
   "cell_type": "markdown",
   "metadata": {
    "id": "y0tsYBAbX_ug"
   },
   "source": [
    "## **02-09 데이터의 분리(Splitting Data)**\n",
    "---"
   ]
  },
  {
   "cell_type": "markdown",
   "metadata": {
    "id": "J2lgyATeYEKm"
   },
   "source": [
    "머신 러닝 모델을 학습시키고 평가하기 위해서는 데이터를 적절하게 분리하는 작업이 필요합니다. 이 책에서는 대부분의 경우에서 지도 학습(Supervised Learning)을 다루는데, 이번에는 지도 학습을 위한 데이터 분리 작업에 대해서 배웁니다."
   ]
  },
  {
   "cell_type": "code",
   "execution_count": 1,
   "metadata": {
    "executionInfo": {
     "elapsed": 2897,
     "status": "ok",
     "timestamp": 1675060657820,
     "user": {
      "displayName": "Jeong-Ho JEON (전정호)",
      "userId": "09770030589626015137"
     },
     "user_tz": -540
    },
    "id": "4wy3jDV7YB8h"
   },
   "outputs": [],
   "source": [
    "import pandas as pd\n",
    "import numpy as np\n",
    "from sklearn.model_selection import train_test_split"
   ]
  },
  {
   "cell_type": "markdown",
   "metadata": {
    "id": "3iQq5ibkYKMe"
   },
   "source": [
    "---\n",
    "### **1. 지도 학습(Supervised Learning)**\n",
    "---\n",
    "지도 학습의 훈련 데이터는 문제지를 연상케 합니다. 지도 학습의 훈련 데이터는 정답이 무엇인지 맞춰 하는 '문제'에 해당되는 데이터와 레이블이라고 부르는 '정답'이 적혀있는 데이터로 구성되어 있습니다. 쉽게 비유하면, 기계는 정답이 적혀져 있는 문제지를 문제와 정답을 함께 보면서 열심히 공부하고, 향후에 정답이 없는 문제에 대해서도 정답을 잘 예측해야 합니다.\n",
    "\n",
    "예를 들어 **스팸 메일 분류기** 를 위한 데이터 같은 경우에는 메일의 본문과 해당 메일이 정상 메일인지, 스팸 메일인지 적혀있는 레이블로 구성되어져 있습니다. 예를 들어 아래와 같은 형식의 데이터가 약 20,000개 있다고 가정해보겠습니다. 이 데이터는 두 개의 열로 구성되는데, 바로 메일의 본문에 해당되는 첫번째 열과 해당 메일이 정상 메일인지 스팸 메일인지가 적혀있는 정답에 해당되는 두번째 열입니다. 그리고 이러한 데이터 배열이 총 20,000개의 행을 가집니다."
   ]
  },
  {
   "cell_type": "markdown",
   "metadata": {
    "id": "vI4hv6uZYQyG"
   },
   "source": [
    "![image.png](data:image/png;base64,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)"
   ]
  },
  {
   "cell_type": "markdown",
   "metadata": {
    "id": "5UP6QbNkYUE2"
   },
   "source": [
    "기계를 지도하는 선생님의 입장이 되어보겠습니다. 기계를 훈련시키기 위해서 데이터를 총 4개로 나눕니다. 우선 메일의 내용이 담긴 첫번째 열을 X에 저장합니다. 그리고 메일이 스팸인지 정상인지 정답이 적혀있는 두번째 열을 y에 저장합니다. 이제 문제지에 해당되는 20,000개의 X와 정답지에 해당되는 20,000개의 y가 생겼습니다.\n",
    "\n",
    "그리고 이제 이 X와 y에 대해서 일부 데이터를 또 다시 분리합니다. 이는 문제지를 다 공부하고나서 실력을 평가하기 위해서 시험(test)용으로 일부로 일부 문제와 해당 문제의 정답지를 분리해놓는 것입니다. 여기서는 2,000개를 분리한다고 가정하겠습니다. 이때 분리 시에는 여전히 X와 y의 맵핑 관계를 유지해야 합니다. 어떤 X(문제)에 대한 어떤 y(정답)인지 바로 찾을 수 있어야 합니다. 이렇게 되면 학습용에 해당되는 18,000개의 X, y의 쌍과 시험용에 해당되는 2000개의 X, y의 쌍이 생깁니다 이 책에서는 이 유형의 데이터들에게 일반적으로 다음과 같은 변수명을 부여합니다.\n",
    "\n",
    "**<훈련 데이터>**  \n",
    "X_train : 문제지 데이터  \n",
    "y_train : 문제지에 대한 정답 데이터.\n",
    "  \n",
    "    \n",
    "**<테스트 데이터>**  \n",
    "X_test : 시험지 데이터.  \n",
    "y_test : 시험지에 대한 정답 데이터.  \n",
    "  \n",
    "기계는 이제부터 X_train과 y_train에 대해서 학습을 합니다. 기계는 학습 상태에서는 정답지인 y_train을 볼 수 있기 때문에 18,000개의 문제지 X_train과 y_train을 함께 보면서 어떤 메일 내용일 때 정상 메일인지 스팸 메일인지를 열심히 규칙을 도출해나가면서 정리해나갑니다. 그리고 학습을 다 한 기계에게 y_test는 보여주지 않고, X_test에 대해서 정답을 예측하게 합니다. 그리고 기계가 예측한 답과 실제 정답인 y_test를 비교하면서 기계가 정답을 얼마나 맞췄는지를 평가합니다. 이 수치가 기계의 **정확도(Accuracy)** 가 됩니다."
   ]
  },
  {
   "cell_type": "markdown",
   "metadata": {
    "id": "rDfnEqNSYfId"
   },
   "source": [
    "---\n",
    "### **2. X와 y분리하기**\n",
    "---"
   ]
  },
  {
   "cell_type": "markdown",
   "metadata": {
    "id": "-BGbBQ_XYjV1"
   },
   "source": [
    "#### **1) zip 함수를 이용하여 분리하기**\n",
    "zip()함수는 동일한 개수를 가지는 시퀀스 자료형에서 각 순서에 등장하는 원소들끼리 묶어주는 역할을 합니다. 리스트의 리스트 구성에서 zip 함수는 X와 y를 분리하는데 유용합니다. 우선 zip 함수가 어떤 역할을 하는지 확인해보도록 하겠습니다."
   ]
  },
  {
   "cell_type": "code",
   "execution_count": 2,
   "metadata": {
    "colab": {
     "base_uri": "https://localhost:8080/"
    },
    "executionInfo": {
     "elapsed": 8,
     "status": "ok",
     "timestamp": 1675060657820,
     "user": {
      "displayName": "Jeong-Ho JEON (전정호)",
      "userId": "09770030589626015137"
     },
     "user_tz": -540
    },
    "id": "qH5Z1ulzYF5A",
    "outputId": "2b734b13-537e-4b88-92f9-1ecb3d007a3f"
   },
   "outputs": [
    {
     "name": "stdout",
     "output_type": "stream",
     "text": [
      "X 데이터 : ('a', 'b', 'c')\n",
      "y 데이터 : (1, 2, 3)\n"
     ]
    }
   ],
   "source": [
    "X, y = zip(['a', 1], ['b', 2], ['c', 3])\n",
    "print('X 데이터 :', X)\n",
    "print('y 데이터 :', y)"
   ]
  },
  {
   "cell_type": "markdown",
   "metadata": {
    "id": "W6P7_JiDYu_O"
   },
   "source": [
    "각 데이터에서 첫번째로 등장한 원소들끼리 묶이고, 두번째로 등장한 원소들끼리 묶인 것을 볼 수 있습니다."
   ]
  },
  {
   "cell_type": "code",
   "execution_count": 3,
   "metadata": {
    "colab": {
     "base_uri": "https://localhost:8080/"
    },
    "executionInfo": {
     "elapsed": 7,
     "status": "ok",
     "timestamp": 1675060657821,
     "user": {
      "displayName": "Jeong-Ho JEON (전정호)",
      "userId": "09770030589626015137"
     },
     "user_tz": -540
    },
    "id": "dw-RC0VoYmoF",
    "outputId": "7767cc84-8a0e-49c9-f14b-b6065d43f492"
   },
   "outputs": [
    {
     "name": "stdout",
     "output_type": "stream",
     "text": [
      "X 데이터 : ('a', 'b', 'c')\n",
      "y 데이터 : (1, 2, 3)\n"
     ]
    }
   ],
   "source": [
    "# 리스트의 리스트 또는 행렬 또는 뒤에서 배울 개념인 2D 텐서.\n",
    "sequences = [['a', 1], ['b', 2], ['c', 3]]\n",
    "X, y = zip(*sequences)\n",
    "print('X 데이터 :',X)\n",
    "print('y 데이터 :',y)"
   ]
  },
  {
   "cell_type": "markdown",
   "metadata": {
    "id": "bKfLnaHgYyUm"
   },
   "source": [
    "각 데이터에서 첫번째로 등장한 원소들끼리 묶이고, 두번째로 등장한 원소들끼리 묶인 것을 볼 수 있습니다. 이를 각각 X데이터와 y데이터로 사용할 수 있습니다."
   ]
  },
  {
   "cell_type": "markdown",
   "metadata": {
    "id": "Q2PorBNvYzhd"
   },
   "source": [
    "#### **2) 데이터프레임을 이용하여 분리하기**"
   ]
  },
  {
   "cell_type": "code",
   "execution_count": 4,
   "metadata": {
    "colab": {
     "base_uri": "https://localhost:8080/",
     "height": 174
    },
    "executionInfo": {
     "elapsed": 5,
     "status": "ok",
     "timestamp": 1675060658193,
     "user": {
      "displayName": "Jeong-Ho JEON (전정호)",
      "userId": "09770030589626015137"
     },
     "user_tz": -540
    },
    "id": "nzR0ZnjTY1Y9",
    "outputId": "e54be3c8-04af-4604-ba15-c426c4c3e77c"
   },
   "outputs": [
    {
     "data": {
      "text/html": [
       "<div>\n",
       "<style scoped>\n",
       "    .dataframe tbody tr th:only-of-type {\n",
       "        vertical-align: middle;\n",
       "    }\n",
       "\n",
       "    .dataframe tbody tr th {\n",
       "        vertical-align: top;\n",
       "    }\n",
       "\n",
       "    .dataframe thead th {\n",
       "        text-align: right;\n",
       "    }\n",
       "</style>\n",
       "<table border=\"1\" class=\"dataframe\">\n",
       "  <thead>\n",
       "    <tr style=\"text-align: right;\">\n",
       "      <th></th>\n",
       "      <th>메일 본문</th>\n",
       "      <th>스팸 메일 유무</th>\n",
       "    </tr>\n",
       "  </thead>\n",
       "  <tbody>\n",
       "    <tr>\n",
       "      <th>0</th>\n",
       "      <td>당신에게 드리는 마지막 혜택!</td>\n",
       "      <td>1</td>\n",
       "    </tr>\n",
       "    <tr>\n",
       "      <th>1</th>\n",
       "      <td>내일 뵐 수 있을지 확인 부탁드...</td>\n",
       "      <td>0</td>\n",
       "    </tr>\n",
       "    <tr>\n",
       "      <th>2</th>\n",
       "      <td>도연씨. 잘 지내시죠? 오랜만입...</td>\n",
       "      <td>0</td>\n",
       "    </tr>\n",
       "    <tr>\n",
       "      <th>3</th>\n",
       "      <td>(광고) AI로 주가를 예측할 수 있다!</td>\n",
       "      <td>1</td>\n",
       "    </tr>\n",
       "  </tbody>\n",
       "</table>\n",
       "</div>"
      ],
      "text/plain": [
       "                    메일 본문  스팸 메일 유무\n",
       "0        당신에게 드리는 마지막 혜택!         1\n",
       "1    내일 뵐 수 있을지 확인 부탁드...         0\n",
       "2    도연씨. 잘 지내시죠? 오랜만입...         0\n",
       "3  (광고) AI로 주가를 예측할 수 있다!         1"
      ]
     },
     "execution_count": 4,
     "metadata": {},
     "output_type": "execute_result"
    }
   ],
   "source": [
    "values = [['당신에게 드리는 마지막 혜택!', 1],\n",
    "          ['내일 뵐 수 있을지 확인 부탁드...', 0],\n",
    "          ['도연씨. 잘 지내시죠? 오랜만입...', 0],\n",
    "          ['(광고) AI로 주가를 예측할 수 있다!', 1]]\n",
    "columns = ['메일 본문', '스팸 메일 유무']\n",
    "\n",
    "df = pd.DataFrame(values, columns=columns)\n",
    "df"
   ]
  },
  {
   "cell_type": "markdown",
   "metadata": {
    "id": "HNe9JhUbY3VY"
   },
   "source": [
    "데이터프레임은 열의 이름으로 각 열에 접근이 가능하므로, 이를 이용하면 손쉽게 X 데이터와 y 데이터를 분리할 수 있습니다."
   ]
  },
  {
   "cell_type": "code",
   "execution_count": 5,
   "metadata": {
    "executionInfo": {
     "elapsed": 363,
     "status": "ok",
     "timestamp": 1675060667648,
     "user": {
      "displayName": "Jeong-Ho JEON (전정호)",
      "userId": "09770030589626015137"
     },
     "user_tz": -540
    },
    "id": "D7oXm9_TY48-"
   },
   "outputs": [
    {
     "data": {
      "text/plain": [
       "0          당신에게 드리는 마지막 혜택!\n",
       "1      내일 뵐 수 있을지 확인 부탁드...\n",
       "2      도연씨. 잘 지내시죠? 오랜만입...\n",
       "3    (광고) AI로 주가를 예측할 수 있다!\n",
       "Name: 메일 본문, dtype: object"
      ]
     },
     "execution_count": 5,
     "metadata": {},
     "output_type": "execute_result"
    }
   ],
   "source": [
    "X = df['메일 본문']\n",
    "y = df['스팸 메일 유무']\n",
    "X"
   ]
  },
  {
   "cell_type": "code",
   "execution_count": 6,
   "metadata": {},
   "outputs": [
    {
     "data": {
      "text/plain": [
       "0    1\n",
       "1    0\n",
       "2    0\n",
       "3    1\n",
       "Name: 스팸 메일 유무, dtype: int64"
      ]
     },
     "execution_count": 6,
     "metadata": {},
     "output_type": "execute_result"
    }
   ],
   "source": [
    "y"
   ]
  },
  {
   "cell_type": "markdown",
   "metadata": {
    "id": "dXW1RFD2Y6QN"
   },
   "source": [
    "X와 y데이터를 출력해보겠습니다."
   ]
  },
  {
   "cell_type": "code",
   "execution_count": 7,
   "metadata": {
    "colab": {
     "base_uri": "https://localhost:8080/"
    },
    "executionInfo": {
     "elapsed": 2,
     "status": "ok",
     "timestamp": 1675060668715,
     "user": {
      "displayName": "Jeong-Ho JEON (전정호)",
      "userId": "09770030589626015137"
     },
     "user_tz": -540
    },
    "id": "3hLRsfsMY7il",
    "outputId": "1a00e848-3eaa-4cdf-976e-7fb9947b3979"
   },
   "outputs": [
    {
     "name": "stdout",
     "output_type": "stream",
     "text": [
      "X 데이터 : ['당신에게 드리는 마지막 혜택!', '내일 뵐 수 있을지 확인 부탁드...', '도연씨. 잘 지내시죠? 오랜만입...', '(광고) AI로 주가를 예측할 수 있다!']\n",
      "y 데이터 : [1, 0, 0, 1]\n"
     ]
    }
   ],
   "source": [
    "print('X 데이터 :', X.to_list())\n",
    "print('y 데이터 :', y.to_list())"
   ]
  },
  {
   "cell_type": "markdown",
   "metadata": {
    "id": "4xAQnUywY99e"
   },
   "source": [
    "#### **3) Numpy를 이용하여 분리하기**\n",
    "임의의 데이터를 만들어서 Numpy의 슬라이싱(slicing)을 사용하여 데이터를 분리해봅시다."
   ]
  },
  {
   "cell_type": "code",
   "execution_count": 8,
   "metadata": {
    "colab": {
     "base_uri": "https://localhost:8080/"
    },
    "executionInfo": {
     "elapsed": 2,
     "status": "ok",
     "timestamp": 1675060670141,
     "user": {
      "displayName": "Jeong-Ho JEON (전정호)",
      "userId": "09770030589626015137"
     },
     "user_tz": -540
    },
    "id": "fyZ9z0svZAv-",
    "outputId": "3f2d9760-57de-4fcc-9e01-f2a2de5a39a3"
   },
   "outputs": [
    {
     "name": "stdout",
     "output_type": "stream",
     "text": [
      "전체 데이터 :\n",
      "[[ 0  1  2  3]\n",
      " [ 4  5  6  7]\n",
      " [ 8  9 10 11]\n",
      " [12 13 14 15]]\n"
     ]
    }
   ],
   "source": [
    "np_array = np.arange(0,16).reshape((4,4))\n",
    "print('전체 데이터 :')\n",
    "print(np_array)"
   ]
  },
  {
   "cell_type": "markdown",
   "metadata": {
    "id": "J3hw-tioZCIG"
   },
   "source": [
    "마지막 열을 제외하고 X데이터에 저장합니다. 마지막 열만을 y데이터에 저장합니다."
   ]
  },
  {
   "cell_type": "code",
   "execution_count": 9,
   "metadata": {
    "colab": {
     "base_uri": "https://localhost:8080/"
    },
    "executionInfo": {
     "elapsed": 2,
     "status": "ok",
     "timestamp": 1675060672170,
     "user": {
      "displayName": "Jeong-Ho JEON (전정호)",
      "userId": "09770030589626015137"
     },
     "user_tz": -540
    },
    "id": "BHYC1YHMZDUG",
    "outputId": "5e9fbce3-bdd4-4d3c-fa27-9c9b35f116ac"
   },
   "outputs": [
    {
     "name": "stdout",
     "output_type": "stream",
     "text": [
      "X 데이터 :\n",
      "[[ 0  1  2]\n",
      " [ 4  5  6]\n",
      " [ 8  9 10]\n",
      " [12 13 14]]\n",
      "y 데이터 : [ 3  7 11 15]\n"
     ]
    }
   ],
   "source": [
    "X = np_array[:, :3]\n",
    "y = np_array[:, 3]\n",
    "\n",
    "print('X 데이터 :')\n",
    "print(X)\n",
    "print('y 데이터 :',y)"
   ]
  },
  {
   "cell_type": "markdown",
   "metadata": {
    "id": "NWYcdHRqZahf"
   },
   "source": [
    "---\n",
    "### **3. 테스트 데이터 분리하기**\n",
    "---\n",
    "이번에는 이미 X와 y가 분리된 데이터에 대해서 테스트 데이터를 분리하는 과정에 대해서 알아보겠습니다."
   ]
  },
  {
   "cell_type": "markdown",
   "metadata": {
    "id": "WlpjsMQGZeGu"
   },
   "source": [
    "#### **1) 사이킷 런을 이용하여 분리하기**\n",
    "사이킷런은 학습용 테스트와 테스트용 데이터를 쉽게 분리할 수 있게 해주는 train_test_split()를 지원합니다."
   ]
  },
  {
   "cell_type": "code",
   "execution_count": 10,
   "metadata": {
    "executionInfo": {
     "elapsed": 3,
     "status": "ok",
     "timestamp": 1675060711073,
     "user": {
      "displayName": "Jeong-Ho JEON (전정호)",
      "userId": "09770030589626015137"
     },
     "user_tz": -540
    },
    "id": "ts-uVKT-ZXCO"
   },
   "outputs": [
    {
     "data": {
      "text/plain": [
       "((3, 3), (3,), (1, 3), (1,))"
      ]
     },
     "execution_count": 10,
     "metadata": {},
     "output_type": "execute_result"
    }
   ],
   "source": [
    "X_train, X_test, y_train, y_test = train_test_split(X, y, test_size= 0.2, random_state=1234)\n",
    "X_train.shape, y_train.shape, X_test.shape, y_test.shape"
   ]
  },
  {
   "cell_type": "markdown",
   "metadata": {
    "id": "VG-k0LTKZin_"
   },
   "source": [
    "각 인자는 다음을 의미합니다. train_size와 test_size는 둘 중 하나만 기재해도 됩니다.\n",
    "\n",
    "* X : 독립 변수 데이터. (배열이나 데이터프레임)  \n",
    "* y : 종속 변수 데이터. 레이블 데이터.  \n",
    "* test_size : 테스트용 데이터 개수를 지정한다. 1보다 작은 실수를 기재할 경우, 비율을 나타낸다.  \n",
    "* train_size : 학습용 데이터의 개수를 지정한다. 1보다 작은 실수를 기재할 경우, 비율을 나타낸다.  \n",
    "* random_state : 난수 시드  \n",
    "  \n",
    "예를 들어보겠습니다. 임의로 X 데이터와 y 데이터를 생성했습니다."
   ]
  },
  {
   "cell_type": "code",
   "execution_count": 11,
   "metadata": {
    "colab": {
     "base_uri": "https://localhost:8080/"
    },
    "executionInfo": {
     "elapsed": 5,
     "status": "ok",
     "timestamp": 1675060744783,
     "user": {
      "displayName": "Jeong-Ho JEON (전정호)",
      "userId": "09770030589626015137"
     },
     "user_tz": -540
    },
    "id": "h5TAxmb5Zgfg",
    "outputId": "1d7f4c8a-7b23-47b2-d959-91931cbfb076"
   },
   "outputs": [
    {
     "name": "stdout",
     "output_type": "stream",
     "text": [
      "X 전체 데이터 :\n",
      "[[0 1]\n",
      " [2 3]\n",
      " [4 5]\n",
      " [6 7]\n",
      " [8 9]]\n",
      "y 전체 데이터 :\n",
      "[0, 1, 2, 3, 4]\n"
     ]
    }
   ],
   "source": [
    "# 임의로 X와 y 데이터를 생성\n",
    "X, y = np.arange(10).reshape((5, 2)), range(5)\n",
    "\n",
    "print('X 전체 데이터 :')\n",
    "print(X)\n",
    "print('y 전체 데이터 :')\n",
    "print(list(y))"
   ]
  },
  {
   "cell_type": "markdown",
   "metadata": {
    "id": "__k3pvbyZrSW"
   },
   "source": [
    "여기서는 7:3의 비율로 데이터를 분리합니다. train_test_split()은 기본적으로 데이터의 순서를 섞고나서 훈련 데이터와 테스트 데이터를 분리합니다. 만약, random_state의 값을 특정 숫자로 기재해준 뒤에 다음에도 동일한 숫자로 기재해주면 항상 동일한 훈련 데이터와 테스트 데이터를 얻을 수 있습니다. 하지만 값을 변경하면 다른 순서로 섞인 채 분리되므로 이전과 다른 훈련 데이터와 테스트 데이터를 얻습니다. 실습을 통해서 이해해봅시다. random_state 값을 임의로 1234로 지정했습니다."
   ]
  },
  {
   "cell_type": "code",
   "execution_count": 12,
   "metadata": {
    "executionInfo": {
     "elapsed": 3,
     "status": "ok",
     "timestamp": 1675060763434,
     "user": {
      "displayName": "Jeong-Ho JEON (전정호)",
      "userId": "09770030589626015137"
     },
     "user_tz": -540
    },
    "id": "AdzxI2ImZoyY"
   },
   "outputs": [],
   "source": [
    "# 7:3의 비율로 훈련 데이터와 테스트 데이터 분리\n",
    "X_train, X_test, y_train, y_test = train_test_split(X, y, test_size=0.3, random_state=1234)"
   ]
  },
  {
   "cell_type": "markdown",
   "metadata": {
    "id": "lGYYWrREZu82"
   },
   "source": [
    "70%의 비율로 분리된 X의 훈련 데이터와 30%의 비율로 분리된 X의 테스트 데이터입니다."
   ]
  },
  {
   "cell_type": "code",
   "execution_count": 13,
   "metadata": {
    "colab": {
     "base_uri": "https://localhost:8080/"
    },
    "executionInfo": {
     "elapsed": 2,
     "status": "ok",
     "timestamp": 1675060775445,
     "user": {
      "displayName": "Jeong-Ho JEON (전정호)",
      "userId": "09770030589626015137"
     },
     "user_tz": -540
    },
    "id": "6-5DFCBpZtSx",
    "outputId": "1082e2bf-5861-437b-e4c5-e0a486865919"
   },
   "outputs": [
    {
     "name": "stdout",
     "output_type": "stream",
     "text": [
      "X 훈련 데이터 :\n",
      "[[2 3]\n",
      " [4 5]\n",
      " [6 7]]\n",
      "X 테스트 데이터 :\n",
      "[[8 9]\n",
      " [0 1]]\n"
     ]
    }
   ],
   "source": [
    "print('X 훈련 데이터 :')\n",
    "print(X_train)\n",
    "print('X 테스트 데이터 :')\n",
    "print(X_test)"
   ]
  },
  {
   "cell_type": "markdown",
   "metadata": {
    "id": "ZcajVe46ZyoB"
   },
   "source": [
    "70%의 비율로 분리된 y의 훈련 데이터와 30%의 비율로 분리된 y의 테스트 데이터입니다."
   ]
  },
  {
   "cell_type": "code",
   "execution_count": 14,
   "metadata": {
    "colab": {
     "base_uri": "https://localhost:8080/"
    },
    "executionInfo": {
     "elapsed": 348,
     "status": "ok",
     "timestamp": 1675060793526,
     "user": {
      "displayName": "Jeong-Ho JEON (전정호)",
      "userId": "09770030589626015137"
     },
     "user_tz": -540
    },
    "id": "zAV5WnvJZwff",
    "outputId": "41bccfd2-1411-4449-b127-3a33fcd128a8"
   },
   "outputs": [
    {
     "name": "stdout",
     "output_type": "stream",
     "text": [
      "y 훈련 데이터 :\n",
      "[1, 2, 3]\n",
      "y 테스트 데이터 :\n",
      "[4, 0]\n"
     ]
    }
   ],
   "source": [
    "print('y 훈련 데이터 :')\n",
    "print(y_train)\n",
    "print('y 테스트 데이터 :')\n",
    "print(y_test)"
   ]
  },
  {
   "cell_type": "markdown",
   "metadata": {
    "id": "rrlDlT5BZ2lG"
   },
   "source": [
    "출력 결과를 보면 데이터를 어느 중간 부분에서 앞과 뒤로 자른 것이 아니라 앞에 있던 샘플이 뒤로 가기도하고, 데이터의 순서가 전반적으로 섞이면서 분리된 것을 확인할 수 있습니다. random_state의 의미를 이해하기 위해서 이번에는 random_state의 값을 임의로 다른 값인 1을 주고 다시 분리해보겠습니다. 그리고 y데이터를 출력해봅시다."
   ]
  },
  {
   "cell_type": "code",
   "execution_count": 15,
   "metadata": {
    "colab": {
     "base_uri": "https://localhost:8080/"
    },
    "executionInfo": {
     "elapsed": 318,
     "status": "ok",
     "timestamp": 1675060809409,
     "user": {
      "displayName": "Jeong-Ho JEON (전정호)",
      "userId": "09770030589626015137"
     },
     "user_tz": -540
    },
    "id": "EDCpRxleZ0v_",
    "outputId": "ddf95f65-d409-4639-a300-6d554bc0ae7d"
   },
   "outputs": [
    {
     "name": "stdout",
     "output_type": "stream",
     "text": [
      "y 훈련 데이터 :\n",
      "[4, 0, 3]\n",
      "y 테스트 데이터 :\n",
      "[2, 1]\n"
     ]
    }
   ],
   "source": [
    "# random_state의 값을 변경\n",
    "X_train, X_test, y_train, y_test = train_test_split(X, y, test_size=0.3, random_state=1)\n",
    "\n",
    "print('y 훈련 데이터 :')\n",
    "print(y_train)\n",
    "print('y 테스트 데이터 :')\n",
    "print(y_test)"
   ]
  },
  {
   "cell_type": "markdown",
   "metadata": {
    "id": "3qR3hKm5Z6NG"
   },
   "source": [
    "random_state 값이 1234일 때와 전혀 다른 y데이터가 출력됩니다. 데이터가 다른 순서로 섞였다는 의미입니다. 이번에는 다시 random_state의 값을 1234로 주고 다시 y데이터를 출력해봅시다."
   ]
  },
  {
   "cell_type": "code",
   "execution_count": 16,
   "metadata": {
    "colab": {
     "base_uri": "https://localhost:8080/"
    },
    "executionInfo": {
     "elapsed": 326,
     "status": "ok",
     "timestamp": 1675060822578,
     "user": {
      "displayName": "Jeong-Ho JEON (전정호)",
      "userId": "09770030589626015137"
     },
     "user_tz": -540
    },
    "id": "29-kcHMfZ4pK",
    "outputId": "680fe808-8ece-4462-930a-0cffc79c560c"
   },
   "outputs": [
    {
     "name": "stdout",
     "output_type": "stream",
     "text": [
      "y 훈련 데이터 :\n",
      "[1, 2, 3]\n",
      "y 테스트 데이터 :\n",
      "[4, 0]\n"
     ]
    }
   ],
   "source": [
    "# random_state을 이전의 값이었던 1234로 변경\n",
    "X_train, X_test, y_train, y_test = train_test_split(X, y, test_size=0.3, random_state=1234)\n",
    "\n",
    "print('y 훈련 데이터 :')\n",
    "print(y_train)\n",
    "print('y 테스트 데이터 :')\n",
    "print(y_test)"
   ]
  },
  {
   "cell_type": "markdown",
   "metadata": {
    "id": "LkmiO1rdZ-Bl"
   },
   "source": [
    "이전과 동일한 y데이터가 출력됩니다. random_state의 값을 고정해두면 실행할 때마다 항상 동일한 순서로 데이터를 섞으므로, 동일한 코드를 다음에 재현하고자 할 때 사용할 수 있습니다."
   ]
  },
  {
   "cell_type": "markdown",
   "metadata": {
    "id": "w3D0wU0MZ_Uf"
   },
   "source": [
    "#### **2) 수동으로 분리하기**\n",
    "데이터를 분리하는 방법 중 하나는 수동으로 분리하는 것입니다. 우선 임의로 X 데이터와 y 데이터를 만들어보겠습니다."
   ]
  },
  {
   "cell_type": "code",
   "execution_count": 17,
   "metadata": {
    "colab": {
     "base_uri": "https://localhost:8080/"
    },
    "executionInfo": {
     "elapsed": 2,
     "status": "ok",
     "timestamp": 1675060850475,
     "user": {
      "displayName": "Jeong-Ho JEON (전정호)",
      "userId": "09770030589626015137"
     },
     "user_tz": -540
    },
    "id": "oxiu-epvZ7zH",
    "outputId": "3d139878-7b6e-4e08-af83-f9c7247070dd"
   },
   "outputs": [
    {
     "name": "stdout",
     "output_type": "stream",
     "text": [
      "X 전체 데이터 :\n",
      "[[ 0  1]\n",
      " [ 2  3]\n",
      " [ 4  5]\n",
      " [ 6  7]\n",
      " [ 8  9]\n",
      " [10 11]\n",
      " [12 13]\n",
      " [14 15]\n",
      " [16 17]\n",
      " [18 19]\n",
      " [20 21]\n",
      " [22 23]]\n",
      "y 전체 데이터 :\n",
      "[0, 1, 2, 3, 4, 5, 6, 7, 8, 9, 10, 11]\n"
     ]
    }
   ],
   "source": [
    "# 실습을 위해 임의로 X와 y가 이미 분리 된 데이터를 생성\n",
    "X, y = np.arange(0, 24).reshape((12, 2)), range(12)\n",
    "\n",
    "print('X 전체 데이터 :')\n",
    "print(X)\n",
    "print('y 전체 데이터 :')\n",
    "print(list(y))"
   ]
  },
  {
   "cell_type": "markdown",
   "metadata": {
    "id": "7dYEcHYhaEeJ"
   },
   "source": [
    "훈련 데이터의 개수와 테스트 데이터의 개수를 정해보겠습니다. num_of_train은 훈련 데이터의 개수를 의미하며, num_of_test는 테스트 데이터의 개수를 의미합니다."
   ]
  },
  {
   "cell_type": "code",
   "execution_count": 18,
   "metadata": {
    "colab": {
     "base_uri": "https://localhost:8080/"
    },
    "executionInfo": {
     "elapsed": 337,
     "status": "ok",
     "timestamp": 1675060865156,
     "user": {
      "displayName": "Jeong-Ho JEON (전정호)",
      "userId": "09770030589626015137"
     },
     "user_tz": -540
    },
    "id": "1vnHaBoDaCzY",
    "outputId": "fd2da3b6-af9c-4f45-a609-6d2ac6c1fbf4"
   },
   "outputs": [
    {
     "name": "stdout",
     "output_type": "stream",
     "text": [
      "훈련 데이터의 크기 : 9\n",
      "테스트 데이터의 크기 : 3\n"
     ]
    }
   ],
   "source": [
    "num_of_train = int(len(X) * 0.8) # 데이터의 전체 길이의 80%에 해당하는 길이값을 구한다.\n",
    "num_of_test = int(len(X) - num_of_train) # 전체 길이에서 80%에 해당하는 길이를 뺀다.\n",
    "print('훈련 데이터의 크기 :',num_of_train)\n",
    "print('테스트 데이터의 크기 :',num_of_test)"
   ]
  },
  {
   "cell_type": "markdown",
   "metadata": {
    "id": "_YmLw45taIHN"
   },
   "source": [
    "아직 훈련 데이터와 테스트 데이터를 나눈 것이 아니라 이 두 개의 개수를 몇 개로 할지 정하기만 한 상태입니다. 여기서 num_of_test를 len(X) * 0.2로 계산해서는 안 됩니다. 데이터에 누락이 발생할 수 있습니다. 예를 들어서 전체 데이터의 개수가 4,518이라고 가정했을 때 4,518의 80%의 값은 3,614.4로 소수점을 내리면 3,614가 됩니다. 또한 4,518의 20%의 값은 903.6으로 소수점을 내리면 903이 됩니다. 그리고 3,614 + 903 = 4517이므로 데이터 1개가 누락이 됩니다. 그러므로 어느 한 쪽을 먼저 계산하고 그 값만큼 제외하는 방식으로 계산해야 합니다."
   ]
  },
  {
   "cell_type": "code",
   "execution_count": 19,
   "metadata": {
    "executionInfo": {
     "elapsed": 346,
     "status": "ok",
     "timestamp": 1675060881968,
     "user": {
      "displayName": "Jeong-Ho JEON (전정호)",
      "userId": "09770030589626015137"
     },
     "user_tz": -540
    },
    "id": "vqowEDplaGOj"
   },
   "outputs": [],
   "source": [
    "X_test = X[num_of_train:] # 전체 데이터 중에서 20%만큼 뒤의 데이터 저장\n",
    "y_test = y[num_of_train:] # 전체 데이터 중에서 20%만큼 뒤의 데이터 저장\n",
    "X_train = X[:num_of_train] # 전체 데이터 중에서 80%만큼 앞의 데이터 저장\n",
    "y_train = y[:num_of_train] # 전체 데이터 중에서 80%만큼 앞의 데이터 저장"
   ]
  },
  {
   "cell_type": "markdown",
   "metadata": {
    "id": "w330Fh21aMa2"
   },
   "source": [
    "데이터를 나눌 때는 num_of_train와 같이 하나의 변수만 사용하면 데이터의 누락을 방지할 수 있습니다. 앞에서 구한 데이터의 개수만큼 훈련 데이터와 테스트 데이터를 분할합니다. 그리고 테스트 데이터를 출력하여 정상적으로 분리되었는지 확인합니다."
   ]
  },
  {
   "cell_type": "code",
   "execution_count": 20,
   "metadata": {
    "colab": {
     "base_uri": "https://localhost:8080/"
    },
    "executionInfo": {
     "elapsed": 583,
     "status": "ok",
     "timestamp": 1675060898030,
     "user": {
      "displayName": "Jeong-Ho JEON (전정호)",
      "userId": "09770030589626015137"
     },
     "user_tz": -540
    },
    "id": "zY9p0Pz6aKQT",
    "outputId": "02df628c-bdda-4269-d37f-c38348a3bcc2"
   },
   "outputs": [
    {
     "name": "stdout",
     "output_type": "stream",
     "text": [
      "X 테스트 데이터 :\n",
      "[[18 19]\n",
      " [20 21]\n",
      " [22 23]]\n",
      "y 테스트 데이터 :\n",
      "[9, 10, 11]\n"
     ]
    }
   ],
   "source": [
    "print('X 테스트 데이터 :')\n",
    "print(X_test)\n",
    "print('y 테스트 데이터 :')\n",
    "print(list(y_test))"
   ]
  },
  {
   "cell_type": "markdown",
   "metadata": {
    "id": "zs6eGHt4aQPG"
   },
   "source": [
    "각 길이가 3인 것을 확인했습니다. train_test_split()과 다른 점은 데이터가 섞이지 않은 채 어느 지점에서 데이터를 앞과 뒤로 분리했다는 점입니다. 만약, 수동으로 분리하게 된다면 데이터를 분리하기 전에 수동으로 데이터를 섞는 과정이 필요할 수 있습니다. 실제로 뒤에서 이러한 실습들을 진행합니다."
   ]
  }
 ],
 "metadata": {
  "colab": {
   "authorship_tag": "ABX9TyNnr1C9K4epsJDjZKKHvDkq",
   "provenance": []
  },
  "kernelspec": {
   "display_name": "Python 3 (ipykernel)",
   "language": "python",
   "name": "python3"
  },
  "language_info": {
   "codemirror_mode": {
    "name": "ipython",
    "version": 3
   },
   "file_extension": ".py",
   "mimetype": "text/x-python",
   "name": "python",
   "nbconvert_exporter": "python",
   "pygments_lexer": "ipython3",
   "version": "3.10.18"
  }
 },
 "nbformat": 4,
 "nbformat_minor": 4
}
