{
 "cells": [
  {
   "cell_type": "markdown",
   "metadata": {
    "id": "ZD6QhGw7mcAx"
   },
   "source": [
    "2021년 10월 9일에 마지막으로 테스트되었습니다."
   ]
  },
  {
   "cell_type": "markdown",
   "metadata": {
    "id": "y3U2eMgpnBlB"
   },
   "source": [
    "이 자료는 위키독스 '딥 러닝을 이용한 자연어 처리 입문'의 센텐스피스 튜토리얼 자료입니다."
   ]
  },
  {
   "cell_type": "markdown",
   "metadata": {
    "id": "71ZuBwyTnEm5"
   },
   "source": [
    "링크 : https://wikidocs.net/86657"
   ]
  },
  {
   "cell_type": "markdown",
   "metadata": {
    "id": "_a1D1Cmw2abj"
   },
   "source": [
    "## **13-02 센텐스피스(SentencePiece)**\n",
    "---"
   ]
  },
  {
   "cell_type": "markdown",
   "metadata": {
    "id": "kpeHy0v-2fe6"
   },
   "source": [
    "앞서 서브워드 토큰화를 위한 BPE(Byte Pair Encoding) 알고리즘과 그 외 BPE의 변형 알고리즘에 대해서 간단히 언급했습니다. BPE를 포함하여 기타 서브워드 토크나이징 알고리즘들을 내장한 센텐스피스(SentencePiece)는 일반적으로 실무에서 선택할 수 있는 최선의 선택 중 하나입니다."
   ]
  },
  {
   "cell_type": "markdown",
   "metadata": {
    "id": "ReahVT6D2iRt"
   },
   "source": [
    "---\n",
    "### **1. 센텐스피스(SentencePiece)**"
   ]
  },
  {
   "cell_type": "markdown",
   "metadata": {
    "id": "5H-QmdeX2nM0"
   },
   "source": [
    "논문 : https://arxiv.org/pdf/1808.06226.pdf  \n",
    "센텐스피스 깃허브 : https://github.com/google/sentencepiece  \n",
    "  \n",
    "내부 단어 분리를 위한 유용한 패키지로 구글의 센텐스피스(Sentencepiece)가 있습니다. 구글은 BPE 알고리즘과 Unigram Language Model Tokenizer를 구현한 센텐스피스를 깃허브에 공개하였습니다.  \n",
    "  \n",
    "내부 단어 분리 알고리즘을 사용하기 위해서, 데이터에 단어 토큰화를 먼저 진행한 상태여야 한다면 이 단어 분리 알고리즘을 모든 언어에 사용하는 것은 쉽지 않습니다. 영어와 달리 한국어와 같은 언어는 단어 토큰화부터가 쉽지 않기 때문입니다. 그런데, 이런 사전 토큰화 작업(pretokenization)없이 전처리를 하지 않은 데이터(raw data)에 바로 단어 분리 토크나이저를 사용할 수 있다면, 이 토크나이저는 그 어떤 언어에도 적용할 수 있는 토크나이저가 될 것입니다. 센텐스피스는 이 이점을 살려서 구현되었습니다. 센텐스피스는 사전 토큰화 작업없이 단어 분리 토큰화를 수행하므로 언어에 종속되지 않습니다."
   ]
  },
  {
   "cell_type": "code",
   "execution_count": 1,
   "metadata": {
    "colab": {
     "base_uri": "https://localhost:8080/"
    },
    "executionInfo": {
     "elapsed": 10786,
     "status": "ok",
     "timestamp": 1674531799982,
     "user": {
      "displayName": "Jeong-Ho JEON (전정호)",
      "userId": "09770030589626015137"
     },
     "user_tz": -540
    },
    "id": "ayZSPiSsmaHf",
    "outputId": "33f25ac7-f37b-498a-bab7-0a326a5c589a"
   },
   "outputs": [
    {
     "name": "stdout",
     "output_type": "stream",
     "text": [
      "Collecting sentencepiece\n",
      "  Using cached sentencepiece-0.2.0-cp310-cp310-win_amd64.whl.metadata (8.3 kB)\n",
      "Using cached sentencepiece-0.2.0-cp310-cp310-win_amd64.whl (991 kB)\n",
      "Installing collected packages: sentencepiece\n",
      "Successfully installed sentencepiece-0.2.0\n"
     ]
    }
   ],
   "source": [
    "!pip install sentencepiece"
   ]
  },
  {
   "cell_type": "code",
   "execution_count": 3,
   "metadata": {},
   "outputs": [
    {
     "name": "stdout",
     "output_type": "stream",
     "text": [
      "Active code page: 65001\n"
     ]
    }
   ],
   "source": [
    "!chcp 65001"
   ]
  },
  {
   "cell_type": "code",
   "execution_count": 5,
   "metadata": {
    "colab": {
     "base_uri": "https://localhost:8080/"
    },
    "executionInfo": {
     "elapsed": 2669,
     "status": "ok",
     "timestamp": 1674531804962,
     "user": {
      "displayName": "Jeong-Ho JEON (전정호)",
      "userId": "09770030589626015137"
     },
     "user_tz": -540
    },
    "id": "TcJOi9CmmiBn",
    "outputId": "d62dd063-3458-4f13-a75c-665827d17ed9"
   },
   "outputs": [],
   "source": [
    "# !pip list | grep sentencepiece  # relux 명령"
   ]
  },
  {
   "cell_type": "markdown",
   "metadata": {
    "id": "JTgODiW-nl7o"
   },
   "source": [
    "---\n",
    "### **2. IMDB 리뷰 토큰화하기**"
   ]
  },
  {
   "cell_type": "code",
   "execution_count": 6,
   "metadata": {
    "executionInfo": {
     "elapsed": 457,
     "status": "ok",
     "timestamp": 1674531808956,
     "user": {
      "displayName": "Jeong-Ho JEON (전정호)",
      "userId": "09770030589626015137"
     },
     "user_tz": -540
    },
    "id": "A5l1q1_5mgJX"
   },
   "outputs": [],
   "source": [
    "import sentencepiece as spm\n",
    "import pandas as pd\n",
    "import urllib.request\n",
    "import csv"
   ]
  },
  {
   "cell_type": "markdown",
   "metadata": {
    "id": "3KM9wOQR0Dq3"
   },
   "source": [
    "IMDB 리뷰 데이터를 다운로드하고 이를 데이터프레임에 저장합니다."
   ]
  },
  {
   "cell_type": "code",
   "execution_count": 7,
   "metadata": {
    "colab": {
     "base_uri": "https://localhost:8080/"
    },
    "executionInfo": {
     "elapsed": 4403,
     "status": "ok",
     "timestamp": 1674531815530,
     "user": {
      "displayName": "Jeong-Ho JEON (전정호)",
      "userId": "09770030589626015137"
     },
     "user_tz": -540
    },
    "id": "EddFJy61mvJ_",
    "outputId": "2fa30cdf-83b4-4c32-86d3-770003053825"
   },
   "outputs": [
    {
     "data": {
      "text/plain": [
       "('IMDb_Reviews.csv', <http.client.HTTPMessage at 0x1aaae8a11e0>)"
      ]
     },
     "execution_count": 7,
     "metadata": {},
     "output_type": "execute_result"
    }
   ],
   "source": [
    "urllib.request.urlretrieve(\"https://raw.githubusercontent.com/LawrenceDuan/IMDb-Review-Analysis/master/IMDb_Reviews.csv\", filename=\"IMDb_Reviews.csv\")"
   ]
  },
  {
   "cell_type": "code",
   "execution_count": 8,
   "metadata": {
    "colab": {
     "base_uri": "https://localhost:8080/"
    },
    "executionInfo": {
     "elapsed": 833,
     "status": "ok",
     "timestamp": 1674531893791,
     "user": {
      "displayName": "Jeong-Ho JEON (전정호)",
      "userId": "09770030589626015137"
     },
     "user_tz": -540
    },
    "id": "JLXsbZ9gm_9_",
    "outputId": "cdbffacf-6b88-46f0-be87-eadc5d53c70d"
   },
   "outputs": [
    {
     "data": {
      "text/plain": [
       "0        My family and I normally do not watch local mo...\n",
       "1        Believe it or not, this was at one time the wo...\n",
       "2        After some internet surfing, I found the \"Home...\n",
       "3        One of the most unheralded great works of anim...\n",
       "4        It was the Sixties, and anyone with long hair ...\n",
       "                               ...                        \n",
       "49995    the people who came up with this are SICK AND ...\n",
       "49996    The script is so so laughable... this in turn,...\n",
       "49997    \"So there's this bride, you see, and she gets ...\n",
       "49998    Your mind will not be satisfied by this nobud...\n",
       "49999    The chaser's war on everything is a weekly sho...\n",
       "Name: review, Length: 50000, dtype: object"
      ]
     },
     "execution_count": 8,
     "metadata": {},
     "output_type": "execute_result"
    }
   ],
   "source": [
    "train_df = pd.read_csv('IMDb_Reviews.csv')\n",
    "train_df['review']"
   ]
  },
  {
   "cell_type": "code",
   "execution_count": 10,
   "metadata": {
    "colab": {
     "base_uri": "https://localhost:8080/",
     "height": 424
    },
    "executionInfo": {
     "elapsed": 8,
     "status": "ok",
     "timestamp": 1674531900632,
     "user": {
      "displayName": "Jeong-Ho JEON (전정호)",
      "userId": "09770030589626015137"
     },
     "user_tz": -540
    },
    "id": "7Ckqjo104PWz",
    "outputId": "09f630bb-8113-4534-9f2e-1d4d290fa11d"
   },
   "outputs": [
    {
     "data": {
      "text/html": [
       "<div>\n",
       "<style scoped>\n",
       "    .dataframe tbody tr th:only-of-type {\n",
       "        vertical-align: middle;\n",
       "    }\n",
       "\n",
       "    .dataframe tbody tr th {\n",
       "        vertical-align: top;\n",
       "    }\n",
       "\n",
       "    .dataframe thead th {\n",
       "        text-align: right;\n",
       "    }\n",
       "</style>\n",
       "<table border=\"1\" class=\"dataframe\">\n",
       "  <thead>\n",
       "    <tr style=\"text-align: right;\">\n",
       "      <th></th>\n",
       "      <th>review</th>\n",
       "      <th>sentiment</th>\n",
       "    </tr>\n",
       "  </thead>\n",
       "  <tbody>\n",
       "    <tr>\n",
       "      <th>0</th>\n",
       "      <td>My family and I normally do not watch local mo...</td>\n",
       "      <td>1</td>\n",
       "    </tr>\n",
       "    <tr>\n",
       "      <th>1</th>\n",
       "      <td>Believe it or not, this was at one time the wo...</td>\n",
       "      <td>0</td>\n",
       "    </tr>\n",
       "    <tr>\n",
       "      <th>2</th>\n",
       "      <td>After some internet surfing, I found the \"Home...</td>\n",
       "      <td>0</td>\n",
       "    </tr>\n",
       "    <tr>\n",
       "      <th>3</th>\n",
       "      <td>One of the most unheralded great works of anim...</td>\n",
       "      <td>1</td>\n",
       "    </tr>\n",
       "    <tr>\n",
       "      <th>4</th>\n",
       "      <td>It was the Sixties, and anyone with long hair ...</td>\n",
       "      <td>0</td>\n",
       "    </tr>\n",
       "    <tr>\n",
       "      <th>...</th>\n",
       "      <td>...</td>\n",
       "      <td>...</td>\n",
       "    </tr>\n",
       "    <tr>\n",
       "      <th>49995</th>\n",
       "      <td>the people who came up with this are SICK AND ...</td>\n",
       "      <td>0</td>\n",
       "    </tr>\n",
       "    <tr>\n",
       "      <th>49996</th>\n",
       "      <td>The script is so so laughable... this in turn,...</td>\n",
       "      <td>0</td>\n",
       "    </tr>\n",
       "    <tr>\n",
       "      <th>49997</th>\n",
       "      <td>\"So there's this bride, you see, and she gets ...</td>\n",
       "      <td>0</td>\n",
       "    </tr>\n",
       "    <tr>\n",
       "      <th>49998</th>\n",
       "      <td>Your mind will not be satisfied by this nobud...</td>\n",
       "      <td>0</td>\n",
       "    </tr>\n",
       "    <tr>\n",
       "      <th>49999</th>\n",
       "      <td>The chaser's war on everything is a weekly sho...</td>\n",
       "      <td>1</td>\n",
       "    </tr>\n",
       "  </tbody>\n",
       "</table>\n",
       "<p>50000 rows × 2 columns</p>\n",
       "</div>"
      ],
      "text/plain": [
       "                                                  review  sentiment\n",
       "0      My family and I normally do not watch local mo...          1\n",
       "1      Believe it or not, this was at one time the wo...          0\n",
       "2      After some internet surfing, I found the \"Home...          0\n",
       "3      One of the most unheralded great works of anim...          1\n",
       "4      It was the Sixties, and anyone with long hair ...          0\n",
       "...                                                  ...        ...\n",
       "49995  the people who came up with this are SICK AND ...          0\n",
       "49996  The script is so so laughable... this in turn,...          0\n",
       "49997  \"So there's this bride, you see, and she gets ...          0\n",
       "49998  Your mind will not be satisfied by this nobud...          0\n",
       "49999  The chaser's war on everything is a weekly sho...          1\n",
       "\n",
       "[50000 rows x 2 columns]"
      ]
     },
     "execution_count": 10,
     "metadata": {},
     "output_type": "execute_result"
    }
   ],
   "source": [
    "train_df"
   ]
  },
  {
   "cell_type": "code",
   "execution_count": 7,
   "metadata": {
    "colab": {
     "base_uri": "https://localhost:8080/"
    },
    "executionInfo": {
     "elapsed": 308,
     "status": "ok",
     "timestamp": 1674532000754,
     "user": {
      "displayName": "Jeong-Ho JEON (전정호)",
      "userId": "09770030589626015137"
     },
     "user_tz": -540
    },
    "id": "MMS8fFjNnA2X",
    "outputId": "4e601446-2199-48d7-bb61-c217c3b111ee"
   },
   "outputs": [
    {
     "name": "stdout",
     "output_type": "stream",
     "text": [
      "리뷰 개수 : 50000\n"
     ]
    }
   ],
   "source": [
    "print('리뷰 개수 :', len(train_df)) # 리뷰 개수 출력"
   ]
  },
  {
   "cell_type": "markdown",
   "metadata": {
    "id": "AOXRIvCn0Dq5"
   },
   "source": [
    "총 5만개의 샘플이 존재합니다. 센텐스피스의 입력으로 사용하기 위해서 데이터프레임을 txt 파일로 저장합니다."
   ]
  },
  {
   "cell_type": "code",
   "execution_count": 11,
   "metadata": {
    "executionInfo": {
     "elapsed": 814,
     "status": "ok",
     "timestamp": 1674532026339,
     "user": {
      "displayName": "Jeong-Ho JEON (전정호)",
      "userId": "09770030589626015137"
     },
     "user_tz": -540
    },
    "id": "_zzERyIT3PRN"
   },
   "outputs": [],
   "source": [
    "with open('imdb_review.txt', 'w', encoding='utf8') as f:\n",
    "    f.write('\\n'.join(train_df['review']))"
   ]
  },
  {
   "cell_type": "code",
   "execution_count": 12,
   "metadata": {
    "colab": {
     "base_uri": "https://localhost:8080/"
    },
    "executionInfo": {
     "elapsed": 4,
     "status": "ok",
     "timestamp": 1674532176310,
     "user": {
      "displayName": "Jeong-Ho JEON (전정호)",
      "userId": "09770030589626015137"
     },
     "user_tz": -540
    },
    "id": "1GCO5R-J481z",
    "outputId": "a388bed4-c21e-418e-a959-180a5fd0bfa8"
   },
   "outputs": [
    {
     "name": "stdout",
     "output_type": "stream",
     "text": [
      "My family and I normally do not watch local movies for the simple reason that they are poorly made, they lack the depth, and just not worth our time.<br /><br />The trailer of \"Nasaan ka man\" caught my attention, my daughter in law's and daughter's so we took time out to watch it this afternoon. The movie exceeded our expectations. The cinematography was very good, the story beautiful and the acting awesome. Jericho Rosales was really very good, so's Claudine Barretto. The fact that I despised Diether Ocampo proves he was effective at his role. I have never been this touched, moved and affected by a local movie before. Imagine a cynic like me dabbing my eyes at the end of the movie? Congratulations to Star Cinema!! Way to go, Jericho and Claudine!!\n",
      "Believe it or not, this was at one time the worst movie I had ever seen. Since that time, I have seen many more movies that are worse (how is it possible??) Therefore, to be fair, I had to give this movie a 2 out of 10. But it was a tough call.\n",
      "After some internet surfing, I found the \"Homefront\" series on DVD at ioffer.com. Before anyone gets excited, the DVD set I received was burned by an amateur from home video tapes recorded off of their TV 15 years ago. The resolution and quality are poor. The images look like you would expect old re-recorded video to look. Although the commercials were edited out, the ending credits of each episode still have voice-over announcements for the segway into the ABC news program \"Nightline\", complete with the top news headlines from the early 1990's. Even with the poor image quality, the shows were watch-able and the sound quality was fine.<br /><br />To this show's credit, the casting was nearly perfect. Everyone was believable and really looked the part. Their acting was also above average. The role of Jeff Metcalf is played particularly well by Kyle Chandler (most recently seen in the 2005 remake of King Kong). The period costumes were very authentic as were the sets, especially the 1940s kitchens with vintage appliances and décor. The direction was also creative and different for a TV show at that time. For example, conversations between characters were sometimes inter-cut with conversations about the same subject between other characters in different scenes. The dialog of the different conversations was kept fluid despite cutting back and fourth between the different characters and locations. That takes good direction and editing and they made it work in this case.<br /><br />As I started watching this series again I suddenly remembered why I lost interest in it 15 years ago. Despite all the ingredients for a fine show, the plots and story lines are disappointing and confusing right from the start. For one thing, the name of the show itself is totally misleading. When WWII ended in 1945, there was no more fighting so obviously there was no longer a \"homefront\" either. Curiously, the first episode of the show \"Homefront\" begins in 1945 after the war had ended. That's like shooting the first episode of \"Gilligan's Island\" showing the castaways being rescued. The whole premise of the show's namesake is completely lost. I still held on to hope with the possibility of the rest of the series being a flashback but no, the entire show takes place from 1946 through 1948. Additionally, this series fails miserably in any attempt to accurately portray any historical events of the late 1940's. By the third episode, it becomes obvious that this series was nothing more than a thinly veiled vehicle for an ultra left-wing political agenda. The show is set in River Run Ohio, near Toledo. However, the show's ongoing racism theme makes it look more like Jackson Mississippi than Ohio. Part of the ensemble cast are Dick Williams, Hattie Winston and Sterling Macer Jr. who portray the Davis family. Much of the series shows the Davis family being discriminated against by the evil \"whites\" to the point of being ridiculous and totally absurd if not laughable. The racism card has been played and over played by Hollywood now for over 40 years. We get it. We're also tired of having our noses rubbed in it on a daily basis. The subject of racism is also unpopular with viewers and it is the kiss of death for any show, as it was for \"Homefront\". The acting talents of Williams, Winston and Macer were wasted in their roles as the stereotypical \"frightened / angry black family\". The wildly exaggerated racism in this series makes it look like everyone in Ohio was a KKK member or something. The racism issue could have been addressed in this show in a single episode with a simple punch in the nose or fist-fight in which a bigot gets a well deserved thrashing, and leave it at that. Devoting a major portion of the series to the racism thing gets really old really quick and its just plain stupid.<br /><br />In yet another ridiculous plot line, the big boss of a local factory (Ken Jenkins) is portrayed as an Ebenezer Scrooge like character who is against pensions and raises and is unconcerned about acid dripping on his employees. The workers revolt and take over the factory in a blatant pro-communist propaganda message to the viewer.<br /><br />Personally, I think this series had great potential. The writers could have easily placed the timeline in 1941  1945 as the title suggests and shown the hardships of food and gas rationing and working 14 hour days at war factories. Of course the loss of brothers, sons and husbands fighting overseas would have also added drama. The situation was also perfect for writing in special guest stars as military or USO personnel passing through their town during training or en-route to Europe or the Pacific. The possibilities for good story lines and plots are endless. But no, the writers of Homefront (David Assael and James Grissom) completely ignored any relevant or interesting plots. Instead, they totally missed the point and strayed into a bizarre and irrelevant obsession with racism and left-wing politics. It would be unfair to the actors to condemn the entire series but the plots and situations in which they were placed are total garbage.\n",
      "One of the most unheralded great works of animation. Though it makes the most sophisticated use of the \"cut-out\" method of animation (a la \"South Park\"), the real talent behind \"Twice Upon a Time\" are the vocal characterizations, with Lorenzo Music's (Carlton from TV's \"Rhoda\") Woody Allen-ish Ralph-the-all-purpose-Animal being the centerpiece. The \"accidental nightmare\" sequence is doubtless one of the best pieces of animation ever filmed.\n",
      "It was the Sixties, and anyone with long hair and a hip, distant attitude could get money to make a movie. That's how Michael Sarne, director of this colossal flop, was able to get the job. Sarne is one of the most supremely untalented people ever given a dollar to make a movie. In fact, the whole studio must have been tricked into agreeing to hire a guy who had made exactly one previous film, a terribly precious 60's-hip black and white featurette called Joanna. That film starred the similarly talentless actress/waif Genevieve Waite who could barely speak an entire line without breaking into some inappropriate facial expression or bat-like twitter. Sarne, who was probably incapable of directing a cartoon, never mind a big-budget Hollywood film, was in way over his head. David Giler's book is the best place to go to find out how the faux-infant terrible Sarne was able to pull the wool over everyone's eyes. If there is ever an historical marker which indicates the superficiality and shallowness of an era, Myra Breckinridge provides that marker. It embodies the emptiness and mindless excess of a decade which is more often remembered for a great sea-change in the body politic. Breckinridge is a touchstone of another, equally important vein. Watch this movie and you'll get a different perspective on the less-often mentioned vacuity of spirit which so often passed for talent during those years.<br /><br />Many reviewers have spoken about the inter-cutting of footage from other films, especially older ones. Some actually liked these clunky \"comments\" on what was taking place in the movie, others found them senseless, annoying, and obtrusive, though since the film is so bad itself any intrusion would have to be an improvement. <br /><br />In my opinion, the real reason Michael Sarne put so many film clips into Myra Brekinridge was to paper over the bottomless insufficiency of wit and imagination that he possessed. That is to say, Sarne was so imagination-challenged that he just threw these clips in to fill space and take up time. They weren't inspiration, they were desperation. His writing skills were nonexistent, and David Giler had wisely stepped away from the project as one might from a ticking bomb, so Sarne was left to actually try and make a movie, and he couldn't. It was beyond his slim capabilities. Hence the introduction of what seems like one half of an entire film's worth of clips. The ghosts of writers and directors - many long since passed on - were called upon to fix this calamitous flopperoo because Sarne sure as heck wasn't able to. This was what he came up with on those days he sat on the set and thought for eight hours while the entire cast and crew (not to mention the producers and the accountants) cooled their heels and waited for something, some great spark of imagination, a hint of originality, a soupcon of wit, to crackle forth from the brow of Zeus. Um, oops. No Zeus + no imagination + no sparks = millions of little dollar bills with tiny wings - each made from the hundreds of licensing agreements required to use the clips - flying out the window. Bye-bye. <br /><br />As for myself, I hated the film clips. They denigrated Sarne's many betters, poked fun at people whose talents - even those whose skills were not great - far outstripped the abilities of the director and so ultimately served to show how lacking he was in inspiration, originality - and even of plain competency - compared to even the cheesiest of them.\n",
      "For my humanities quarter project for school, i chose to do human trafficking. After some research on the internet, i found this DVD and ordered it. I just finished watching it and I am still thinking about it. All I can say is \"Wow\". It is such a compelling story of a 12 year old Vietnamese girl named Holly and an American man named Patric who tries to save her. The ending leaves you breathless, and although it's not a happily-ever-after ending, it is very realistic. It is amazing and I recommend it to anyone! You really connect with Holly and Patric and your heart breaks for her and because of what happens to her. I loved it so much and now I want to know what happens next!\n",
      "Arguebly Al Pacino's best role. He plays Tony Montana, A small time hood from Cuba turned into a rich and powerful crime lord in Miami, and he does it with the only two things he's got in this world, his balls and his word, and he doesn't break'em for nobody. Starts as doing jobs for a big time Cuban dealer, Frank Lopez (Robert Loggia) and quickly goes up the ladder of the organization along with his long time friend Manny (Steven Bauer). Soon he has an eye for the boss's sexy wife Elvira (Michelle Pfeiffer). After Frank sees a threat from Tony to his position, he attempts to assassin Tony but with no luck. Tony is upset and nothing can stop him now. the film has a great supporting cast among them is F. Murray Abraham as a jumpy gangster, another familiar face is Harris Yulin as a crooked cop trying to shake down Tony, Marry Elizabeth Mastrantonio as Tony's young sister. Credits to the Ecxellent screenplay by Oliver Stone. This film is one of Brian DePalma's Brightest points in his long ups and downs career, you can see this guy is very talented. The movie has a magnificent look to it. Also pay attention for two memorable scenes: The one at the fancy restaurant (\"Say goodnight to the bad guy\"). the other is the final shootout where Tony shows that he still knows how to kick ass and kills about 20 assassins that invaded to his house. this is certainly one of the most impressive endings to a movie I have ever seen. For fans of Al Pacino and crime movies it's a must-see. For the rest of you it's highly recommended. 10/10\n",
      "Being a big fan of Stanley Kubrick's Clockwork Orange there was of course \"no question about it\" that I had to see this one. However I put it off far too long because some of my friends discarded it with comments like \"extremely boring\" or \"nothing happened\" \"a complete waste of time\". But when I saw images on the internet of the mysterious black monolith I was allowed to see a glimpse of the exquisite experience that is 2001: A Space Odyssey. There was no doubt in my mind that I was going to rent that movie the same evening. <br /><br />It turned out to be the greatest visual experience of my life. Of course, watching a very good painting or picture can be wonderful, but watching a movie constructed with the same kind of virtuosity in every frame adds a whole new dimension to it. My god... I like my friends a lot but it's a pity that I can't share with them the very thing that makes my heart jump up with excitement and makes my spirit fly like a bird in the sky. That thing, my friends, is beauty. As this film goes to show, beauty is terribly underrated in our technologically advanced, intellectually shallow, consumer driven fast-food western societies. That doesn't mean however that I reject these fast-paced societies or that I look down on them (and neither does Kubrick) but only that they can be so much more if only people would stop for a moment and take a little time to absorb the sheer beauty of the world we live in. And what better opportunity is there to do this then by slowing down to the elegant pace of this film and to let yourself be taken to that place between waking and dreaming. <br /><br />When we go to this place it is possible to get a so called \"natural high\". It is something that our spirit can do whenever we meet pure and boundless beauty. And never in my life has this \"natural high\" or \"spiritual orgasm\" as it is called by some or \"samaddhi\" by others been more intense. Yes it's more intense than a regular orgasm... several times more intense actually. Many religions have claimed that this particular feeling proves that they are right. Are they right? For me a straight answer to such a question would only detract from the impenetrable mesmerizing mystery of the universe. In my opinion the film tries to convey the same mystery through the depiction of the black monolith and by stating the following about it: \"Except for a single very powerful radio emission aimed at Jupiter the four-million year old black monolith has remained completely inert. Its origin and purpose are still a total mystery.\" The trance that Bowman experiences is the same thing I experience when watching those gorgeous visuals. <br /><br />I can imagine that mystery can be frustrating for those who need straight fast-food answers to big ontological questions. But instead of giving us comfort we are constantly irritated by the awareness of the simplifications that are contained in these answers. The doubt and discomfort that is subsequently caused will make us point to our deeper intellectual activity as the source of all this trouble, while in fact we only have our easy answers to blame. But this film shows us that when fast ontological statements give rise to nothing but doubt, we can always rely on phenomena to make some sense out of the world. From the moment you realize that beauty is something that can only really be presented to us as a phenomenon and never as a \"thing in itself\" the mysterious black monolith is no longer disturbing, frightening or irritating but instead becomes fascinating, enchanting and maybe even comforting. We don't need an answer to what's really out there to be in touch with one of the greatest forces in our lives. When we are able to let mystery be what it is, to embrace it even... we can finally bring our souls to rest. I am pretty sure though that a film that contains so much beauty and so much philosophical and artistic depth can never really be surpassed. Especially now that the greatest director who ever lived is no longer with us.\n",
      "I reached the end of this and I was almost shouting \"No, no, no, NO! It cannot end here! There are too many unanswered questions! The engagement of the dishwashers? Mona's disappearance? Helmer's comeuppance? The \"zombie\"? Was Little Brother saved by his father? And what about the head???????\" ARGH!! Then I read that at least two of the cast members had passed on and I have to say, I know it probably wouldn't be true to Lars von Trier's vision, but I would gladly look past replacement actors just to see the ending he had planned! Granted, it would be hard to find someone to play Helmer as the character deserves. Helmer, the doctor you love to hate! I think I have yet to see a more self-absorbed, oblivious, self-righteous character on screen! But, I could overlook a change in actors....I just have to know how it ends!\n",
      "There is no doubt that Halloween is by far one of the best films ever not only in its genre but also outside.I love the films creepy atmosphere like the whole it could happen here sort of situation makes it scary to think about.Also to imagine if you were ever in this situation what would you do.This is a movie that i enjoy watching highly, especially around Halloween time.John Carpenter is a very professional directer i love a lot of his other films, but there is no doubt that his best known movie is the film Halloween.Oh and if your thinking about watching the Rob Zombie remake don't.It is pure crap and a true Halloween fan would like the 1978 John Carpenter version better.Michael Myers is one of the coolest slasher killers in any film, and is a very well known one.So by all means go see this masterpiece you will really like it.\n"
     ]
    }
   ],
   "source": [
    "aaa = '\\n'.join(train_df['review'][:10])\n",
    "print(aaa)"
   ]
  },
  {
   "cell_type": "markdown",
   "metadata": {
    "id": "lqaAIPZ33SWs"
   },
   "source": [
    "센텐스피스로 단어 집합과 각 단어에 고유한 정수를 부여해보겠습니다."
   ]
  },
  {
   "cell_type": "code",
   "execution_count": 13,
   "metadata": {
    "executionInfo": {
     "elapsed": 25674,
     "status": "ok",
     "timestamp": 1674532295745,
     "user": {
      "displayName": "Jeong-Ho JEON (전정호)",
      "userId": "09770030589626015137"
     },
     "user_tz": -540
    },
    "id": "tkP1LZwGnHPn"
   },
   "outputs": [],
   "source": [
    "spm.SentencePieceTrainer.Train('--input=imdb_review.txt --model_prefix=imdb --vocab_size=5000 --model_type=bpe --max_sentence_length=9999')"
   ]
  },
  {
   "cell_type": "markdown",
   "metadata": {
    "id": "WHCHg0aw3X5E"
   },
   "source": [
    "각 인자가 의미하는 바는 다음과 같습니다.\n",
    "  \n",
    "* input : 학습시킬 파일\n",
    "* model_prefix : 만들어질 모델 이름\n",
    "* vocab_size : 단어 집합의 크기\n",
    "* model_type : 사용할 모델 (unigram(default), bpe, char, word)\n",
    "* max_sentence_length: 문장의 최대 길이\n",
    "* pad_id, pad_piece: pad token id, 값\n",
    "* unk_id, unk_piece: unknown token id, 값\n",
    "* bos_id, bos_piece: begin of sentence token id, 값\n",
    "* eos_id, eos_piece: end of sequence token id, 값\n",
    "* user_defined_symbols: 사용자 정의 토큰"
   ]
  },
  {
   "cell_type": "markdown",
   "metadata": {
    "id": "X35prwuu0Dq7"
   },
   "source": [
    "vocab 생성이 완료되면 **imdb.model, imdb.vocab 파일 두개가 생성** 됩니다. vocab 파일에서 학습된 서브워드들을 확인할 수 있습니다. 단어 집합의 크기를 확인하기 위해 vocab 파일을 데이터프레임에 저장해봅시다."
   ]
  },
  {
   "cell_type": "code",
   "execution_count": 14,
   "metadata": {
    "colab": {
     "base_uri": "https://localhost:8080/",
     "height": 363
    },
    "executionInfo": {
     "elapsed": 297,
     "status": "ok",
     "timestamp": 1674532331530,
     "user": {
      "displayName": "Jeong-Ho JEON (전정호)",
      "userId": "09770030589626015137"
     },
     "user_tz": -540
    },
    "id": "8IyDhTQNnIgn",
    "outputId": "543b1625-8585-4ce9-a914-027dee27d0f7",
    "scrolled": true
   },
   "outputs": [
    {
     "data": {
      "text/html": [
       "<div>\n",
       "<style scoped>\n",
       "    .dataframe tbody tr th:only-of-type {\n",
       "        vertical-align: middle;\n",
       "    }\n",
       "\n",
       "    .dataframe tbody tr th {\n",
       "        vertical-align: top;\n",
       "    }\n",
       "\n",
       "    .dataframe thead th {\n",
       "        text-align: right;\n",
       "    }\n",
       "</style>\n",
       "<table border=\"1\" class=\"dataframe\">\n",
       "  <thead>\n",
       "    <tr style=\"text-align: right;\">\n",
       "      <th></th>\n",
       "      <th>0</th>\n",
       "      <th>1</th>\n",
       "    </tr>\n",
       "  </thead>\n",
       "  <tbody>\n",
       "    <tr>\n",
       "      <th>3933</th>\n",
       "      <td>▁explan</td>\n",
       "      <td>-3930</td>\n",
       "    </tr>\n",
       "    <tr>\n",
       "      <th>3844</th>\n",
       "      <td>▁symbol</td>\n",
       "      <td>-3841</td>\n",
       "    </tr>\n",
       "    <tr>\n",
       "      <th>383</th>\n",
       "      <td>for</td>\n",
       "      <td>-380</td>\n",
       "    </tr>\n",
       "    <tr>\n",
       "      <th>1148</th>\n",
       "      <td>▁det</td>\n",
       "      <td>-1145</td>\n",
       "    </tr>\n",
       "    <tr>\n",
       "      <th>3381</th>\n",
       "      <td>▁Sure</td>\n",
       "      <td>-3378</td>\n",
       "    </tr>\n",
       "    <tr>\n",
       "      <th>4116</th>\n",
       "      <td>▁noir</td>\n",
       "      <td>-4113</td>\n",
       "    </tr>\n",
       "    <tr>\n",
       "      <th>4968</th>\n",
       "      <td>(</td>\n",
       "      <td>-4965</td>\n",
       "    </tr>\n",
       "    <tr>\n",
       "      <th>4747</th>\n",
       "      <td>▁categ</td>\n",
       "      <td>-4744</td>\n",
       "    </tr>\n",
       "    <tr>\n",
       "      <th>860</th>\n",
       "      <td>ines</td>\n",
       "      <td>-857</td>\n",
       "    </tr>\n",
       "    <tr>\n",
       "      <th>1733</th>\n",
       "      <td>If</td>\n",
       "      <td>-1730</td>\n",
       "    </tr>\n",
       "  </tbody>\n",
       "</table>\n",
       "</div>"
      ],
      "text/plain": [
       "            0     1\n",
       "3933  ▁explan -3930\n",
       "3844  ▁symbol -3841\n",
       "383       for  -380\n",
       "1148     ▁det -1145\n",
       "3381    ▁Sure -3378\n",
       "4116    ▁noir -4113\n",
       "4968        ( -4965\n",
       "4747   ▁categ -4744\n",
       "860      ines  -857\n",
       "1733       If -1730"
      ]
     },
     "execution_count": 14,
     "metadata": {},
     "output_type": "execute_result"
    }
   ],
   "source": [
    "vocab_list = pd.read_csv('imdb.vocab', sep='\\t', header=None, quoting=csv.QUOTE_NONE)\n",
    "vocab_list.sample(10)"
   ]
  },
  {
   "cell_type": "code",
   "execution_count": 15,
   "metadata": {
    "colab": {
     "base_uri": "https://localhost:8080/",
     "height": 424
    },
    "executionInfo": {
     "elapsed": 292,
     "status": "ok",
     "timestamp": 1674533572394,
     "user": {
      "displayName": "Jeong-Ho JEON (전정호)",
      "userId": "09770030589626015137"
     },
     "user_tz": -540
    },
    "id": "y2i-mvLA0Dq7",
    "outputId": "ee48e256-9a76-4330-ac43-646f98b26a59"
   },
   "outputs": [
    {
     "data": {
      "text/html": [
       "<div>\n",
       "<style scoped>\n",
       "    .dataframe tbody tr th:only-of-type {\n",
       "        vertical-align: middle;\n",
       "    }\n",
       "\n",
       "    .dataframe tbody tr th {\n",
       "        vertical-align: top;\n",
       "    }\n",
       "\n",
       "    .dataframe thead th {\n",
       "        text-align: right;\n",
       "    }\n",
       "</style>\n",
       "<table border=\"1\" class=\"dataframe\">\n",
       "  <thead>\n",
       "    <tr style=\"text-align: right;\">\n",
       "      <th></th>\n",
       "      <th>0</th>\n",
       "      <th>1</th>\n",
       "    </tr>\n",
       "  </thead>\n",
       "  <tbody>\n",
       "    <tr>\n",
       "      <th>0</th>\n",
       "      <td>&lt;unk&gt;</td>\n",
       "      <td>0</td>\n",
       "    </tr>\n",
       "    <tr>\n",
       "      <th>1</th>\n",
       "      <td>&lt;s&gt;</td>\n",
       "      <td>0</td>\n",
       "    </tr>\n",
       "    <tr>\n",
       "      <th>2</th>\n",
       "      <td>&lt;/s&gt;</td>\n",
       "      <td>0</td>\n",
       "    </tr>\n",
       "    <tr>\n",
       "      <th>3</th>\n",
       "      <td>▁t</td>\n",
       "      <td>0</td>\n",
       "    </tr>\n",
       "    <tr>\n",
       "      <th>4</th>\n",
       "      <td>▁a</td>\n",
       "      <td>-1</td>\n",
       "    </tr>\n",
       "    <tr>\n",
       "      <th>...</th>\n",
       "      <td>...</td>\n",
       "      <td>...</td>\n",
       "    </tr>\n",
       "    <tr>\n",
       "      <th>4995</th>\n",
       "      <td>8</td>\n",
       "      <td>-4992</td>\n",
       "    </tr>\n",
       "    <tr>\n",
       "      <th>4996</th>\n",
       "      <td>4</td>\n",
       "      <td>-4993</td>\n",
       "    </tr>\n",
       "    <tr>\n",
       "      <th>4997</th>\n",
       "      <td>7</td>\n",
       "      <td>-4994</td>\n",
       "    </tr>\n",
       "    <tr>\n",
       "      <th>4998</th>\n",
       "      <td>&amp;</td>\n",
       "      <td>-4995</td>\n",
       "    </tr>\n",
       "    <tr>\n",
       "      <th>4999</th>\n",
       "      <td>6</td>\n",
       "      <td>-4996</td>\n",
       "    </tr>\n",
       "  </tbody>\n",
       "</table>\n",
       "<p>5000 rows × 2 columns</p>\n",
       "</div>"
      ],
      "text/plain": [
       "          0     1\n",
       "0     <unk>     0\n",
       "1       <s>     0\n",
       "2      </s>     0\n",
       "3        ▁t     0\n",
       "4        ▁a    -1\n",
       "...     ...   ...\n",
       "4995      8 -4992\n",
       "4996      4 -4993\n",
       "4997      7 -4994\n",
       "4998      & -4995\n",
       "4999      6 -4996\n",
       "\n",
       "[5000 rows x 2 columns]"
      ]
     },
     "execution_count": 15,
     "metadata": {},
     "output_type": "execute_result"
    }
   ],
   "source": [
    "vocab_list"
   ]
  },
  {
   "cell_type": "markdown",
   "metadata": {
    "id": "65R_wUxm3tCi"
   },
   "source": [
    "위에서 vocab_size의 인자를 통해 단어 집합의 크기를 5,000개로 제한하였으므로 단어 집합의 크기는 5,000개입니다."
   ]
  },
  {
   "cell_type": "code",
   "execution_count": 16,
   "metadata": {
    "colab": {
     "base_uri": "https://localhost:8080/"
    },
    "executionInfo": {
     "elapsed": 296,
     "status": "ok",
     "timestamp": 1674533575020,
     "user": {
      "displayName": "Jeong-Ho JEON (전정호)",
      "userId": "09770030589626015137"
     },
     "user_tz": -540
    },
    "id": "H8Llei__nJaP",
    "outputId": "543d4d42-60f2-4188-c3f0-eeb2ee3d979f"
   },
   "outputs": [
    {
     "data": {
      "text/plain": [
       "5000"
      ]
     },
     "execution_count": 16,
     "metadata": {},
     "output_type": "execute_result"
    }
   ],
   "source": [
    "len(vocab_list)"
   ]
  },
  {
   "cell_type": "markdown",
   "metadata": {
    "id": "vwerp_h20Dq8"
   },
   "source": [
    "model 파일을 로드하여 단어 시퀀스를 정수 시퀀스로 바꾸는 인코딩 작업이나 반대로 변환하는 디코딩 작업을 할 수 있습니다."
   ]
  },
  {
   "cell_type": "code",
   "execution_count": 17,
   "metadata": {
    "colab": {
     "base_uri": "https://localhost:8080/"
    },
    "executionInfo": {
     "elapsed": 339,
     "status": "ok",
     "timestamp": 1674533577800,
     "user": {
      "displayName": "Jeong-Ho JEON (전정호)",
      "userId": "09770030589626015137"
     },
     "user_tz": -540
    },
    "id": "F1W4d7afnWH_",
    "outputId": "d4a1f423-c3b4-4988-b616-ab84abd85f50"
   },
   "outputs": [
    {
     "data": {
      "text/plain": [
       "True"
      ]
     },
     "execution_count": 17,
     "metadata": {},
     "output_type": "execute_result"
    }
   ],
   "source": [
    "sp = spm.SentencePieceProcessor()\n",
    "vocab_file = \"imdb.model\"\n",
    "sp.load(vocab_file)"
   ]
  },
  {
   "cell_type": "markdown",
   "metadata": {
    "id": "PayzYLOR0Dq8"
   },
   "source": [
    "아래의 두 가지 도구를 테스트해보겠습니다.\n",
    "\n",
    "* encode_as_pieces : 문장을 입력하면 서브 워드 시퀀스로 변환합니다.\n",
    "* encode_as_ids : 문장을 입력하면 정수 시퀀스로 변환합니다."
   ]
  },
  {
   "cell_type": "code",
   "execution_count": 18,
   "metadata": {
    "colab": {
     "base_uri": "https://localhost:8080/"
    },
    "executionInfo": {
     "elapsed": 302,
     "status": "ok",
     "timestamp": 1674533581484,
     "user": {
      "displayName": "Jeong-Ho JEON (전정호)",
      "userId": "09770030589626015137"
     },
     "user_tz": -540
    },
    "id": "zItBZWrtnXQP",
    "outputId": "ea320111-2402-4c1a-a7dc-7c3cb9f4cefc"
   },
   "outputs": [
    {
     "name": "stdout",
     "output_type": "stream",
     "text": [
      "I didn't at all think of it this way.\n",
      "['▁I', '▁didn', \"'\", 't', '▁at', '▁all', '▁think', '▁of', '▁it', '▁this', '▁way', '.']\n",
      "[41, 624, 4950, 4926, 139, 170, 378, 30, 58, 73, 413, 4945]\n",
      "\n",
      "I have waited a long time for someone to film\n",
      "['▁I', '▁have', '▁wa', 'ited', '▁a', '▁long', '▁time', '▁for', '▁someone', '▁to', '▁film']\n",
      "[41, 142, 1364, 1121, 4, 668, 285, 93, 1079, 33, 91]\n",
      "\n"
     ]
    }
   ],
   "source": [
    "lines = [\n",
    "  \"I didn't at all think of it this way.\",\n",
    "  \"I have waited a long time for someone to film\"\n",
    "]\n",
    "for line in lines:\n",
    "    print(line)\n",
    "    print(sp.encode_as_pieces(line)) # 서브 워드 시퀀스로 변환\n",
    "    print(sp.encode_as_ids(line))    # 정수 시퀀스로 변환\n",
    "    print()"
   ]
  },
  {
   "cell_type": "markdown",
   "metadata": {
    "id": "_KUGn4Xs0Dq9"
   },
   "source": [
    "* GetPieceSize() : 단어 집합의 크기를 확인합니다."
   ]
  },
  {
   "cell_type": "code",
   "execution_count": 19,
   "metadata": {
    "colab": {
     "base_uri": "https://localhost:8080/"
    },
    "executionInfo": {
     "elapsed": 297,
     "status": "ok",
     "timestamp": 1674533612871,
     "user": {
      "displayName": "Jeong-Ho JEON (전정호)",
      "userId": "09770030589626015137"
     },
     "user_tz": -540
    },
    "id": "OhJws4AsnYQH",
    "outputId": "7eac020a-5bdc-4cb2-dc89-e16dcb594656"
   },
   "outputs": [
    {
     "data": {
      "text/plain": [
       "5000"
      ]
     },
     "execution_count": 19,
     "metadata": {},
     "output_type": "execute_result"
    }
   ],
   "source": [
    "sp.GetPieceSize()"
   ]
  },
  {
   "cell_type": "markdown",
   "metadata": {
    "id": "fa4uorI70Dq9"
   },
   "source": [
    "* idToPiece : 정수로부터 맵핑되는 서브 워드로 변환합니다."
   ]
  },
  {
   "cell_type": "code",
   "execution_count": 20,
   "metadata": {
    "colab": {
     "base_uri": "https://localhost:8080/",
     "height": 35
    },
    "executionInfo": {
     "elapsed": 430,
     "status": "ok",
     "timestamp": 1674533645369,
     "user": {
      "displayName": "Jeong-Ho JEON (전정호)",
      "userId": "09770030589626015137"
     },
     "user_tz": -540
    },
    "id": "j61rx7BanZbf",
    "outputId": "53d6cb47-4419-4da9-e000-bbb43f389517"
   },
   "outputs": [
    {
     "data": {
      "text/plain": [
       "'▁character'"
      ]
     },
     "execution_count": 20,
     "metadata": {},
     "output_type": "execute_result"
    }
   ],
   "source": [
    "sp.IdToPiece(430)"
   ]
  },
  {
   "cell_type": "markdown",
   "metadata": {
    "id": "nYoTJW4a0Dq-"
   },
   "source": [
    "* PieceToId : 서브워드로부터 맵핑되는 정수로 변환합니다."
   ]
  },
  {
   "cell_type": "code",
   "execution_count": 21,
   "metadata": {
    "colab": {
     "base_uri": "https://localhost:8080/"
    },
    "executionInfo": {
     "elapsed": 343,
     "status": "ok",
     "timestamp": 1674533647547,
     "user": {
      "displayName": "Jeong-Ho JEON (전정호)",
      "userId": "09770030589626015137"
     },
     "user_tz": -540
    },
    "id": "2yCNfo5EnakP",
    "outputId": "561fc9ae-fff1-4f9e-fe98-6ac37f452139"
   },
   "outputs": [
    {
     "data": {
      "text/plain": [
       "430"
      ]
     },
     "execution_count": 21,
     "metadata": {},
     "output_type": "execute_result"
    }
   ],
   "source": [
    "sp.PieceToId('▁character')"
   ]
  },
  {
   "cell_type": "markdown",
   "metadata": {
    "id": "XWUiedGn0Dq-"
   },
   "source": [
    "* DecodeIds : 정수 시퀀스로부터 문장으로 변환합니다."
   ]
  },
  {
   "cell_type": "code",
   "execution_count": 22,
   "metadata": {
    "colab": {
     "base_uri": "https://localhost:8080/",
     "height": 35
    },
    "executionInfo": {
     "elapsed": 405,
     "status": "ok",
     "timestamp": 1674533706358,
     "user": {
      "displayName": "Jeong-Ho JEON (전정호)",
      "userId": "09770030589626015137"
     },
     "user_tz": -540
    },
    "id": "45soBG8QnbXf",
    "outputId": "e066b0b7-47be-4149-f07f-bed7e17d2a77",
    "scrolled": true
   },
   "outputs": [
    {
     "data": {
      "text/plain": [
       "'Iul wa fall aold timeooland to film'"
      ]
     },
     "execution_count": 22,
     "metadata": {},
     "output_type": "execute_result"
    }
   ],
   "source": [
    "sp.DecodeIds([41, 141, 1364, 1120, 4, 666, 285, 92, 1078, 33, 91])"
   ]
  },
  {
   "cell_type": "markdown",
   "metadata": {
    "id": "XUbdLHyO0Dq-"
   },
   "source": [
    "* DecodePieces : 서브워드 시퀀스로부터 문장으로 변환합니다."
   ]
  },
  {
   "cell_type": "code",
   "execution_count": 23,
   "metadata": {
    "colab": {
     "base_uri": "https://localhost:8080/",
     "height": 35
    },
    "executionInfo": {
     "elapsed": 335,
     "status": "ok",
     "timestamp": 1674533708242,
     "user": {
      "displayName": "Jeong-Ho JEON (전정호)",
      "userId": "09770030589626015137"
     },
     "user_tz": -540
    },
    "id": "MjE7ZaoEncP3",
    "outputId": "98578136-9a12-4121-cd14-b87a98a6f1eb"
   },
   "outputs": [
    {
     "data": {
      "text/plain": [
       "'I have waited a long time for someone to film'"
      ]
     },
     "execution_count": 23,
     "metadata": {},
     "output_type": "execute_result"
    }
   ],
   "source": [
    "sp.DecodePieces(['▁I', '▁have', '▁wa', 'ited', '▁a', '▁long', '▁time', '▁for', '▁someone', '▁to', '▁film'])"
   ]
  },
  {
   "cell_type": "code",
   "execution_count": 24,
   "metadata": {
    "colab": {
     "base_uri": "https://localhost:8080/"
    },
    "executionInfo": {
     "elapsed": 2,
     "status": "ok",
     "timestamp": 1674533709519,
     "user": {
      "displayName": "Jeong-Ho JEON (전정호)",
      "userId": "09770030589626015137"
     },
     "user_tz": -540
    },
    "id": "V7oL-wgGngUv",
    "outputId": "3060af70-91ee-4b78-fee1-bca05436a9f8"
   },
   "outputs": [
    {
     "name": "stdout",
     "output_type": "stream",
     "text": [
      "['▁I', '▁have', '▁wa', 'ited', '▁a', '▁long', '▁time', '▁for', '▁someone', '▁to', '▁film']\n",
      "[41, 142, 1364, 1121, 4, 668, 285, 93, 1079, 33, 91]\n"
     ]
    }
   ],
   "source": [
    "print(sp.encode('I have waited a long time for someone to film', out_type=str))\n",
    "print(sp.encode('I have waited a long time for someone to film', out_type=int))"
   ]
  },
  {
   "cell_type": "markdown",
   "metadata": {
    "id": "Sm_IWR_HnoKB"
   },
   "source": [
    "### **3. 네이버 영화 리뷰 토큰화하기**\n",
    "\n",
    "네이버 영화 리뷰 데이터에 대해서 위의 IMDB 리뷰 데이터와 동일한 과정을 진행해보겠습니다."
   ]
  },
  {
   "cell_type": "code",
   "execution_count": 25,
   "metadata": {
    "executionInfo": {
     "elapsed": 460,
     "status": "ok",
     "timestamp": 1674533711750,
     "user": {
      "displayName": "Jeong-Ho JEON (전정호)",
      "userId": "09770030589626015137"
     },
     "user_tz": -540
    },
    "id": "lYJtIdBXnjPf"
   },
   "outputs": [],
   "source": [
    "import pandas as pd\n",
    "import sentencepiece as spm\n",
    "import urllib.request\n",
    "import csv"
   ]
  },
  {
   "cell_type": "markdown",
   "metadata": {
    "id": "onxYXXCu0DrB"
   },
   "source": [
    "네이버 영화 리뷰 데이터를 다운로드하여 데이터프레임에 저장합니다."
   ]
  },
  {
   "cell_type": "code",
   "execution_count": 26,
   "metadata": {
    "colab": {
     "base_uri": "https://localhost:8080/"
    },
    "executionInfo": {
     "elapsed": 1729,
     "status": "ok",
     "timestamp": 1674533714608,
     "user": {
      "displayName": "Jeong-Ho JEON (전정호)",
      "userId": "09770030589626015137"
     },
     "user_tz": -540
    },
    "id": "e0kkt6gynrJe",
    "outputId": "ae003283-eb8f-4ad8-9ad8-56c39a3fcb18"
   },
   "outputs": [
    {
     "data": {
      "text/plain": [
       "('ratings.txt', <http.client.HTTPMessage at 0x1aaaead1000>)"
      ]
     },
     "execution_count": 26,
     "metadata": {},
     "output_type": "execute_result"
    }
   ],
   "source": [
    "urllib.request.urlretrieve(\"https://raw.githubusercontent.com/e9t/nsmc/master/ratings.txt\", filename=\"ratings.txt\")"
   ]
  },
  {
   "cell_type": "code",
   "execution_count": 27,
   "metadata": {
    "colab": {
     "base_uri": "https://localhost:8080/",
     "height": 285
    },
    "executionInfo": {
     "elapsed": 301,
     "status": "ok",
     "timestamp": 1674533714906,
     "user": {
      "displayName": "Jeong-Ho JEON (전정호)",
      "userId": "09770030589626015137"
     },
     "user_tz": -540
    },
    "id": "ROTA7pZrnsOO",
    "outputId": "8485c615-08f7-4cdf-b33f-5a6c3edb82ac"
   },
   "outputs": [
    {
     "data": {
      "text/html": [
       "<div>\n",
       "<style scoped>\n",
       "    .dataframe tbody tr th:only-of-type {\n",
       "        vertical-align: middle;\n",
       "    }\n",
       "\n",
       "    .dataframe tbody tr th {\n",
       "        vertical-align: top;\n",
       "    }\n",
       "\n",
       "    .dataframe thead th {\n",
       "        text-align: right;\n",
       "    }\n",
       "</style>\n",
       "<table border=\"1\" class=\"dataframe\">\n",
       "  <thead>\n",
       "    <tr style=\"text-align: right;\">\n",
       "      <th></th>\n",
       "      <th>id</th>\n",
       "      <th>document</th>\n",
       "      <th>label</th>\n",
       "    </tr>\n",
       "  </thead>\n",
       "  <tbody>\n",
       "    <tr>\n",
       "      <th>0</th>\n",
       "      <td>8112052</td>\n",
       "      <td>어릴때보고 지금다시봐도 재밌어요ㅋㅋ</td>\n",
       "      <td>1</td>\n",
       "    </tr>\n",
       "    <tr>\n",
       "      <th>1</th>\n",
       "      <td>8132799</td>\n",
       "      <td>디자인을 배우는 학생으로, 외국디자이너와 그들이 일군 전통을 통해 발전해가는 문화산...</td>\n",
       "      <td>1</td>\n",
       "    </tr>\n",
       "    <tr>\n",
       "      <th>2</th>\n",
       "      <td>4655635</td>\n",
       "      <td>폴리스스토리 시리즈는 1부터 뉴까지 버릴께 하나도 없음.. 최고.</td>\n",
       "      <td>1</td>\n",
       "    </tr>\n",
       "    <tr>\n",
       "      <th>3</th>\n",
       "      <td>9251303</td>\n",
       "      <td>와.. 연기가 진짜 개쩔구나.. 지루할거라고 생각했는데 몰입해서 봤다.. 그래 이런...</td>\n",
       "      <td>1</td>\n",
       "    </tr>\n",
       "    <tr>\n",
       "      <th>4</th>\n",
       "      <td>10067386</td>\n",
       "      <td>안개 자욱한 밤하늘에 떠 있는 초승달 같은 영화.</td>\n",
       "      <td>1</td>\n",
       "    </tr>\n",
       "  </tbody>\n",
       "</table>\n",
       "</div>"
      ],
      "text/plain": [
       "         id                                           document  label\n",
       "0   8112052                                어릴때보고 지금다시봐도 재밌어요ㅋㅋ      1\n",
       "1   8132799  디자인을 배우는 학생으로, 외국디자이너와 그들이 일군 전통을 통해 발전해가는 문화산...      1\n",
       "2   4655635               폴리스스토리 시리즈는 1부터 뉴까지 버릴께 하나도 없음.. 최고.      1\n",
       "3   9251303  와.. 연기가 진짜 개쩔구나.. 지루할거라고 생각했는데 몰입해서 봤다.. 그래 이런...      1\n",
       "4  10067386                        안개 자욱한 밤하늘에 떠 있는 초승달 같은 영화.      1"
      ]
     },
     "execution_count": 27,
     "metadata": {},
     "output_type": "execute_result"
    }
   ],
   "source": [
    "naver_df = pd.read_table('ratings.txt')\n",
    "naver_df[:5]"
   ]
  },
  {
   "cell_type": "markdown",
   "metadata": {
    "id": "ZoiCE7ap0DrC"
   },
   "source": [
    "총 20만개의 샘플이 존재합니다."
   ]
  },
  {
   "cell_type": "code",
   "execution_count": 28,
   "metadata": {
    "colab": {
     "base_uri": "https://localhost:8080/"
    },
    "executionInfo": {
     "elapsed": 282,
     "status": "ok",
     "timestamp": 1674533716504,
     "user": {
      "displayName": "Jeong-Ho JEON (전정호)",
      "userId": "09770030589626015137"
     },
     "user_tz": -540
    },
    "id": "lTT7gh9vntH3",
    "outputId": "b49af719-96ee-498b-fdb2-8389fa1f91d6"
   },
   "outputs": [
    {
     "name": "stdout",
     "output_type": "stream",
     "text": [
      "리뷰 개수 : 200000\n"
     ]
    }
   ],
   "source": [
    "print('리뷰 개수 :',len(naver_df)) # 리뷰 개수 출력"
   ]
  },
  {
   "cell_type": "markdown",
   "metadata": {
    "id": "5osXWJSm0DrC"
   },
   "source": [
    "네이버 영화 리뷰 데이터의 경우 Null 값이 존재하므로 이를 제거한 후에 수행합니다."
   ]
  },
  {
   "cell_type": "code",
   "execution_count": 29,
   "metadata": {
    "colab": {
     "base_uri": "https://localhost:8080/"
    },
    "executionInfo": {
     "elapsed": 433,
     "status": "ok",
     "timestamp": 1674533718734,
     "user": {
      "displayName": "Jeong-Ho JEON (전정호)",
      "userId": "09770030589626015137"
     },
     "user_tz": -540
    },
    "id": "IvYDBuyg0DrC",
    "outputId": "e2781588-3932-4b66-a45b-cbdea91b6489"
   },
   "outputs": [
    {
     "data": {
      "text/plain": [
       "id     document  label\n",
       "False  False     False    199992\n",
       "       True      False         8\n",
       "Name: count, dtype: int64"
      ]
     },
     "execution_count": 29,
     "metadata": {},
     "output_type": "execute_result"
    }
   ],
   "source": [
    "naver_df.isnull().value_counts()"
   ]
  },
  {
   "cell_type": "code",
   "execution_count": 30,
   "metadata": {
    "colab": {
     "base_uri": "https://localhost:8080/"
    },
    "executionInfo": {
     "elapsed": 373,
     "status": "ok",
     "timestamp": 1674533720953,
     "user": {
      "displayName": "Jeong-Ho JEON (전정호)",
      "userId": "09770030589626015137"
     },
     "user_tz": -540
    },
    "id": "yWZ9GyhfnuCu",
    "outputId": "86e9a961-b46b-4d43-82e5-2750c1482c14"
   },
   "outputs": [
    {
     "name": "stdout",
     "output_type": "stream",
     "text": [
      "True\n"
     ]
    }
   ],
   "source": [
    "print(naver_df.isnull().values.any())"
   ]
  },
  {
   "cell_type": "code",
   "execution_count": 31,
   "metadata": {
    "colab": {
     "base_uri": "https://localhost:8080/"
    },
    "executionInfo": {
     "elapsed": 3,
     "status": "ok",
     "timestamp": 1674533722113,
     "user": {
      "displayName": "Jeong-Ho JEON (전정호)",
      "userId": "09770030589626015137"
     },
     "user_tz": -540
    },
    "id": "Wx_Swkipnu6W",
    "outputId": "520981cf-f423-48ce-e161-0530bf4c7994"
   },
   "outputs": [
    {
     "name": "stdout",
     "output_type": "stream",
     "text": [
      "False\n"
     ]
    }
   ],
   "source": [
    "naver_df = naver_df.dropna(how = 'any') # Null 값이 존재하는 행 제거\n",
    "print(naver_df.isnull().values.any()) # Null 값이 존재하는지 확인"
   ]
  },
  {
   "cell_type": "code",
   "execution_count": 32,
   "metadata": {
    "colab": {
     "base_uri": "https://localhost:8080/"
    },
    "executionInfo": {
     "elapsed": 3,
     "status": "ok",
     "timestamp": 1674533723386,
     "user": {
      "displayName": "Jeong-Ho JEON (전정호)",
      "userId": "09770030589626015137"
     },
     "user_tz": -540
    },
    "id": "voG14VNXnvyH",
    "outputId": "748c6fc9-bd75-4fad-fd7d-e07a3a1105c9"
   },
   "outputs": [
    {
     "name": "stdout",
     "output_type": "stream",
     "text": [
      "리뷰 개수 : 199992\n"
     ]
    }
   ],
   "source": [
    "print('리뷰 개수 :',len(naver_df)) # 리뷰 개수 출력"
   ]
  },
  {
   "cell_type": "markdown",
   "metadata": {
    "id": "WIr5IlwA0DrE"
   },
   "source": [
    "최종적으로 199,992개의 샘플을 naver_review.txt 파일에 저장한 후에 센텐스피스를 통해 단어 집합을 생성합니다."
   ]
  },
  {
   "cell_type": "code",
   "execution_count": 33,
   "metadata": {
    "executionInfo": {
     "elapsed": 390,
     "status": "ok",
     "timestamp": 1674533725871,
     "user": {
      "displayName": "Jeong-Ho JEON (전정호)",
      "userId": "09770030589626015137"
     },
     "user_tz": -540
    },
    "id": "wUsMGVCunwum"
   },
   "outputs": [],
   "source": [
    "with open('naver_review.txt', 'w', encoding='utf8') as f:\n",
    "    f.write('\\n'.join(naver_df['document']))"
   ]
  },
  {
   "cell_type": "code",
   "execution_count": 34,
   "metadata": {
    "executionInfo": {
     "elapsed": 21552,
     "status": "ok",
     "timestamp": 1674533748466,
     "user": {
      "displayName": "Jeong-Ho JEON (전정호)",
      "userId": "09770030589626015137"
     },
     "user_tz": -540
    },
    "id": "s6ktFBgUn2u6"
   },
   "outputs": [],
   "source": [
    "spm.SentencePieceTrainer.Train('--input=naver_review.txt --model_prefix=naver --vocab_size=5000 --model_type=bpe --max_sentence_length=9999')"
   ]
  },
  {
   "cell_type": "markdown",
   "metadata": {
    "id": "xupHWzQl0DrE"
   },
   "source": [
    "vocab 생성이 완료되면 naver.model, naver.vocab 파일 두개가 생성 됩니다. .vocab 에서 학습된 subwords를 확인할 수 있습니다."
   ]
  },
  {
   "cell_type": "code",
   "execution_count": 35,
   "metadata": {
    "colab": {
     "base_uri": "https://localhost:8080/",
     "height": 323
    },
    "executionInfo": {
     "elapsed": 342,
     "status": "ok",
     "timestamp": 1674498590650,
     "user": {
      "displayName": "Jeong-Ho JEON (전정호)",
      "userId": "09770030589626015137"
     },
     "user_tz": -540
    },
    "id": "0j8g1ZubnxhX",
    "outputId": "126c23c5-24ad-49d4-8ffb-69baf07a85c9",
    "scrolled": true
   },
   "outputs": [
    {
     "data": {
      "text/html": [
       "<div>\n",
       "<style scoped>\n",
       "    .dataframe tbody tr th:only-of-type {\n",
       "        vertical-align: middle;\n",
       "    }\n",
       "\n",
       "    .dataframe tbody tr th {\n",
       "        vertical-align: top;\n",
       "    }\n",
       "\n",
       "    .dataframe thead th {\n",
       "        text-align: right;\n",
       "    }\n",
       "</style>\n",
       "<table border=\"1\" class=\"dataframe\">\n",
       "  <thead>\n",
       "    <tr style=\"text-align: right;\">\n",
       "      <th></th>\n",
       "      <th>0</th>\n",
       "      <th>1</th>\n",
       "    </tr>\n",
       "  </thead>\n",
       "  <tbody>\n",
       "    <tr>\n",
       "      <th>0</th>\n",
       "      <td>&lt;unk&gt;</td>\n",
       "      <td>0</td>\n",
       "    </tr>\n",
       "    <tr>\n",
       "      <th>1</th>\n",
       "      <td>&lt;s&gt;</td>\n",
       "      <td>0</td>\n",
       "    </tr>\n",
       "    <tr>\n",
       "      <th>2</th>\n",
       "      <td>&lt;/s&gt;</td>\n",
       "      <td>0</td>\n",
       "    </tr>\n",
       "    <tr>\n",
       "      <th>3</th>\n",
       "      <td>..</td>\n",
       "      <td>0</td>\n",
       "    </tr>\n",
       "    <tr>\n",
       "      <th>4</th>\n",
       "      <td>영화</td>\n",
       "      <td>-1</td>\n",
       "    </tr>\n",
       "    <tr>\n",
       "      <th>5</th>\n",
       "      <td>▁영화</td>\n",
       "      <td>-2</td>\n",
       "    </tr>\n",
       "    <tr>\n",
       "      <th>6</th>\n",
       "      <td>▁이</td>\n",
       "      <td>-3</td>\n",
       "    </tr>\n",
       "    <tr>\n",
       "      <th>7</th>\n",
       "      <td>▁아</td>\n",
       "      <td>-4</td>\n",
       "    </tr>\n",
       "    <tr>\n",
       "      <th>8</th>\n",
       "      <td>...</td>\n",
       "      <td>-5</td>\n",
       "    </tr>\n",
       "    <tr>\n",
       "      <th>9</th>\n",
       "      <td>ᄏᄏ</td>\n",
       "      <td>-6</td>\n",
       "    </tr>\n",
       "  </tbody>\n",
       "</table>\n",
       "</div>"
      ],
      "text/plain": [
       "       0  1\n",
       "0  <unk>  0\n",
       "1    <s>  0\n",
       "2   </s>  0\n",
       "3     ..  0\n",
       "4     영화 -1\n",
       "5    ▁영화 -2\n",
       "6     ▁이 -3\n",
       "7     ▁아 -4\n",
       "8    ... -5\n",
       "9     ᄏᄏ -6"
      ]
     },
     "execution_count": 35,
     "metadata": {},
     "output_type": "execute_result"
    }
   ],
   "source": [
    "vocab_list = pd.read_csv('naver.vocab', sep='\\t', header=None, quoting=csv.QUOTE_NONE)\n",
    "vocab_list[:10]"
   ]
  },
  {
   "cell_type": "code",
   "execution_count": 36,
   "metadata": {
    "colab": {
     "base_uri": "https://localhost:8080/",
     "height": 363
    },
    "executionInfo": {
     "elapsed": 294,
     "status": "ok",
     "timestamp": 1674498672635,
     "user": {
      "displayName": "Jeong-Ho JEON (전정호)",
      "userId": "09770030589626015137"
     },
     "user_tz": -540
    },
    "id": "sX574cyHn3_v",
    "outputId": "06c7e328-0a7c-4fda-b55c-2a8be0d56d60",
    "scrolled": true
   },
   "outputs": [
    {
     "data": {
      "text/html": [
       "<div>\n",
       "<style scoped>\n",
       "    .dataframe tbody tr th:only-of-type {\n",
       "        vertical-align: middle;\n",
       "    }\n",
       "\n",
       "    .dataframe tbody tr th {\n",
       "        vertical-align: top;\n",
       "    }\n",
       "\n",
       "    .dataframe thead th {\n",
       "        text-align: right;\n",
       "    }\n",
       "</style>\n",
       "<table border=\"1\" class=\"dataframe\">\n",
       "  <thead>\n",
       "    <tr style=\"text-align: right;\">\n",
       "      <th></th>\n",
       "      <th>0</th>\n",
       "      <th>1</th>\n",
       "    </tr>\n",
       "  </thead>\n",
       "  <tbody>\n",
       "    <tr>\n",
       "      <th>2060</th>\n",
       "      <td>▁성장</td>\n",
       "      <td>-2057</td>\n",
       "    </tr>\n",
       "    <tr>\n",
       "      <th>128</th>\n",
       "      <td>▁배우</td>\n",
       "      <td>-125</td>\n",
       "    </tr>\n",
       "    <tr>\n",
       "      <th>292</th>\n",
       "      <td>▁평점이</td>\n",
       "      <td>-289</td>\n",
       "    </tr>\n",
       "    <tr>\n",
       "      <th>1957</th>\n",
       "      <td>▁없네요</td>\n",
       "      <td>-1954</td>\n",
       "    </tr>\n",
       "    <tr>\n",
       "      <th>693</th>\n",
       "      <td>ᄃᄃ</td>\n",
       "      <td>-690</td>\n",
       "    </tr>\n",
       "    <tr>\n",
       "      <th>4008</th>\n",
       "      <td>율</td>\n",
       "      <td>-4005</td>\n",
       "    </tr>\n",
       "    <tr>\n",
       "      <th>349</th>\n",
       "      <td>만에</td>\n",
       "      <td>-346</td>\n",
       "    </tr>\n",
       "    <tr>\n",
       "      <th>4664</th>\n",
       "      <td>쨩</td>\n",
       "      <td>-4661</td>\n",
       "    </tr>\n",
       "    <tr>\n",
       "      <th>983</th>\n",
       "      <td>▁못한</td>\n",
       "      <td>-980</td>\n",
       "    </tr>\n",
       "    <tr>\n",
       "      <th>2667</th>\n",
       "      <td>▁깔끔</td>\n",
       "      <td>-2664</td>\n",
       "    </tr>\n",
       "  </tbody>\n",
       "</table>\n",
       "</div>"
      ],
      "text/plain": [
       "         0     1\n",
       "2060   ▁성장 -2057\n",
       "128    ▁배우  -125\n",
       "292   ▁평점이  -289\n",
       "1957  ▁없네요 -1954\n",
       "693     ᄃᄃ  -690\n",
       "4008     율 -4005\n",
       "349     만에  -346\n",
       "4664     쨩 -4661\n",
       "983    ▁못한  -980\n",
       "2667   ▁깔끔 -2664"
      ]
     },
     "execution_count": 36,
     "metadata": {},
     "output_type": "execute_result"
    }
   ],
   "source": [
    "vocab_list.sample(10)"
   ]
  },
  {
   "cell_type": "markdown",
   "metadata": {
    "id": "euMnJEMP0DrE"
   },
   "source": [
    "Vocabulary 에는 unknown, 문장의 시작, 문장의 끝을 의미하는 special token이 0, 1, 2에 사용되었습니다."
   ]
  },
  {
   "cell_type": "code",
   "execution_count": 37,
   "metadata": {
    "colab": {
     "base_uri": "https://localhost:8080/"
    },
    "executionInfo": {
     "elapsed": 289,
     "status": "ok",
     "timestamp": 1674498674793,
     "user": {
      "displayName": "Jeong-Ho JEON (전정호)",
      "userId": "09770030589626015137"
     },
     "user_tz": -540
    },
    "id": "acfVGyZ8nyvG",
    "outputId": "75cc1598-94bf-4a46-d961-f49f228f8df7",
    "scrolled": true
   },
   "outputs": [
    {
     "data": {
      "text/plain": [
       "5000"
      ]
     },
     "execution_count": 37,
     "metadata": {},
     "output_type": "execute_result"
    }
   ],
   "source": [
    "len(vocab_list)"
   ]
  },
  {
   "cell_type": "markdown",
   "metadata": {
    "id": "GuMlxg4s0DrF"
   },
   "source": [
    "설정한대로 5000개의 서브워드가 단어 집합에 존재합니다."
   ]
  },
  {
   "cell_type": "markdown",
   "metadata": {
    "id": "8gPPqwe10DrF"
   },
   "source": [
    "저장된 naver.model을 읽어와서 Sentence Piece 모델에 할당"
   ]
  },
  {
   "cell_type": "code",
   "execution_count": 38,
   "metadata": {
    "colab": {
     "base_uri": "https://localhost:8080/"
    },
    "executionInfo": {
     "elapsed": 309,
     "status": "ok",
     "timestamp": 1674498723868,
     "user": {
      "displayName": "Jeong-Ho JEON (전정호)",
      "userId": "09770030589626015137"
     },
     "user_tz": -540
    },
    "id": "N1K734zVn9N3",
    "outputId": "75881c10-dcb6-4e96-ba95-a1f66046bc3e"
   },
   "outputs": [
    {
     "data": {
      "text/plain": [
       "True"
      ]
     },
     "execution_count": 38,
     "metadata": {},
     "output_type": "execute_result"
    }
   ],
   "source": [
    "sp = spm.SentencePieceProcessor()\n",
    "vocab_file = \"naver.model\"\n",
    "sp.load(vocab_file)"
   ]
  },
  {
   "cell_type": "code",
   "execution_count": 39,
   "metadata": {
    "colab": {
     "base_uri": "https://localhost:8080/"
    },
    "executionInfo": {
     "elapsed": 278,
     "status": "ok",
     "timestamp": 1674498730665,
     "user": {
      "displayName": "Jeong-Ho JEON (전정호)",
      "userId": "09770030589626015137"
     },
     "user_tz": -540
    },
    "id": "ASZqGuhLoAi_",
    "outputId": "b4556339-3003-4890-8412-a659acea8ff9"
   },
   "outputs": [
    {
     "name": "stdout",
     "output_type": "stream",
     "text": [
      "뭐 이딴 것도 영화냐.\n",
      "['▁뭐', '▁이딴', '▁것도', '▁영화냐', '.']\n",
      "[136, 970, 1299, 2593, 3276]\n",
      "\n",
      "진짜 최고의 영화입니다 ㅋㅋ\n",
      "['▁진짜', '▁최고의', '▁영화입니다', '▁ᄏᄏ']\n",
      "[54, 204, 825, 121]\n",
      "\n"
     ]
    }
   ],
   "source": [
    "lines = [\n",
    "  \"뭐 이딴 것도 영화냐.\",\n",
    "  \"진짜 최고의 영화입니다 ㅋㅋ\",\n",
    "]\n",
    "for line in lines:\n",
    "  print(line)\n",
    "  print(sp.encode_as_pieces(line))\n",
    "  print(sp.encode_as_ids(line))\n",
    "  print()"
   ]
  },
  {
   "cell_type": "markdown",
   "metadata": {
    "id": "B7rdGXqk0DrG"
   },
   "source": [
    "* `GetPieceSize()` : 단어 집합의 크기를 확인합니다."
   ]
  },
  {
   "cell_type": "code",
   "execution_count": 40,
   "metadata": {
    "colab": {
     "base_uri": "https://localhost:8080/"
    },
    "executionInfo": {
     "elapsed": 285,
     "status": "ok",
     "timestamp": 1674498755062,
     "user": {
      "displayName": "Jeong-Ho JEON (전정호)",
      "userId": "09770030589626015137"
     },
     "user_tz": -540
    },
    "id": "3VL_vvjQoBo_",
    "outputId": "8f77e8d5-e5ff-4be6-f8a3-4150f133f33a",
    "scrolled": true
   },
   "outputs": [
    {
     "data": {
      "text/plain": [
       "5000"
      ]
     },
     "execution_count": 40,
     "metadata": {},
     "output_type": "execute_result"
    }
   ],
   "source": [
    "sp.GetPieceSize()"
   ]
  },
  {
   "cell_type": "markdown",
   "metadata": {
    "id": "VOW0tSGp0DrG"
   },
   "source": [
    "* `idToPiece` : 정수로부터 맵핑되는 서브 워드로 변환합니다."
   ]
  },
  {
   "cell_type": "code",
   "execution_count": 41,
   "metadata": {
    "colab": {
     "base_uri": "https://localhost:8080/",
     "height": 35
    },
    "executionInfo": {
     "elapsed": 300,
     "status": "ok",
     "timestamp": 1674498759485,
     "user": {
      "displayName": "Jeong-Ho JEON (전정호)",
      "userId": "09770030589626015137"
     },
     "user_tz": -540
    },
    "id": "d51SRblDoCef",
    "outputId": "a882f9f8-e3cf-416f-cc22-514e560f8550",
    "scrolled": true
   },
   "outputs": [
    {
     "data": {
      "text/plain": [
       "'영화'"
      ]
     },
     "execution_count": 41,
     "metadata": {},
     "output_type": "execute_result"
    }
   ],
   "source": [
    "sp.IdToPiece(4)"
   ]
  },
  {
   "cell_type": "markdown",
   "metadata": {
    "id": "0kgfs1iP0DrH"
   },
   "source": [
    "* `PieceToId` : 서브워드로부터 맵핑되는 정수로 변환합니다."
   ]
  },
  {
   "cell_type": "code",
   "execution_count": 42,
   "metadata": {
    "colab": {
     "base_uri": "https://localhost:8080/"
    },
    "executionInfo": {
     "elapsed": 425,
     "status": "ok",
     "timestamp": 1674498769956,
     "user": {
      "displayName": "Jeong-Ho JEON (전정호)",
      "userId": "09770030589626015137"
     },
     "user_tz": -540
    },
    "id": "epJOlpGloFGX",
    "outputId": "4a8076f5-702a-460a-ec3b-7c9917c4b93b"
   },
   "outputs": [
    {
     "data": {
      "text/plain": [
       "4"
      ]
     },
     "execution_count": 42,
     "metadata": {},
     "output_type": "execute_result"
    }
   ],
   "source": [
    "sp.PieceToId('영화')"
   ]
  },
  {
   "cell_type": "markdown",
   "metadata": {
    "id": "dEA0Yp5r0DrH"
   },
   "source": [
    "* `DecodeIds` : 정수 시퀀스로부터 문장으로 변환합니다."
   ]
  },
  {
   "cell_type": "code",
   "execution_count": 43,
   "metadata": {
    "colab": {
     "base_uri": "https://localhost:8080/",
     "height": 35
    },
    "executionInfo": {
     "elapsed": 6,
     "status": "ok",
     "timestamp": 1674498776100,
     "user": {
      "displayName": "Jeong-Ho JEON (전정호)",
      "userId": "09770030589626015137"
     },
     "user_tz": -540
    },
    "id": "g6e-zFjJoGBP",
    "outputId": "0bf91c66-abf6-4f35-d8a1-a48109daf635"
   },
   "outputs": [
    {
     "data": {
      "text/plain": [
       "'진짜 원 산~~'"
      ]
     },
     "execution_count": 43,
     "metadata": {},
     "output_type": "execute_result"
    }
   ],
   "source": [
    "sp.DecodeIds([54, 200, 821, 85])"
   ]
  },
  {
   "cell_type": "markdown",
   "metadata": {
    "id": "N8ttqkro0DrI"
   },
   "source": [
    "* `DecodePieces` : 서브워드 시퀀스로부터 문장으로 변환합니다."
   ]
  },
  {
   "cell_type": "code",
   "execution_count": 44,
   "metadata": {
    "colab": {
     "base_uri": "https://localhost:8080/",
     "height": 35
    },
    "executionInfo": {
     "elapsed": 300,
     "status": "ok",
     "timestamp": 1674498782143,
     "user": {
      "displayName": "Jeong-Ho JEON (전정호)",
      "userId": "09770030589626015137"
     },
     "user_tz": -540
    },
    "id": "1rB4pQ-NoGzX",
    "outputId": "15947715-89f5-4d63-ab90-f7e84a934f3b"
   },
   "outputs": [
    {
     "data": {
      "text/plain": [
       "'진짜 최고의 영화입니다 ᄏᄏ'"
      ]
     },
     "execution_count": 44,
     "metadata": {},
     "output_type": "execute_result"
    }
   ],
   "source": [
    "sp.DecodePieces(['▁진짜', '▁최고의', '▁영화입니다', '▁ᄏᄏ'])"
   ]
  },
  {
   "cell_type": "markdown",
   "metadata": {
    "id": "SprfBkJ70DrI"
   },
   "source": [
    "* `encode` : 문장으로부터 인자값에 따라서 정수 시퀀스 또는 서브워드 시퀀스로 변환 가능합니다."
   ]
  },
  {
   "cell_type": "code",
   "execution_count": 45,
   "metadata": {
    "colab": {
     "base_uri": "https://localhost:8080/"
    },
    "executionInfo": {
     "elapsed": 303,
     "status": "ok",
     "timestamp": 1674498786149,
     "user": {
      "displayName": "Jeong-Ho JEON (전정호)",
      "userId": "09770030589626015137"
     },
     "user_tz": -540
    },
    "id": "HCzGOy2-oHqv",
    "outputId": "192083e9-e25a-45ae-9586-74baebbc7ec2"
   },
   "outputs": [
    {
     "name": "stdout",
     "output_type": "stream",
     "text": [
      "['▁진짜', '▁최고의', '▁영화입니다', '▁ᄏᄏ']\n",
      "[54, 204, 825, 121]\n"
     ]
    }
   ],
   "source": [
    "print(sp.encode('진짜 최고의 영화입니다 ㅋㅋ', out_type=str))\n",
    "print(sp.encode('진짜 최고의 영화입니다 ㅋㅋ', out_type=int))"
   ]
  },
  {
   "cell_type": "markdown",
   "metadata": {},
   "source": [
    "마지막 편집일시 : 2022년 11월 14일 4:31 오후"
   ]
  },
  {
   "cell_type": "code",
   "execution_count": null,
   "metadata": {
    "id": "DFDqe1Ql0DrI"
   },
   "outputs": [],
   "source": []
  },
  {
   "cell_type": "code",
   "execution_count": null,
   "metadata": {},
   "outputs": [],
   "source": []
  }
 ],
 "metadata": {
  "colab": {
   "provenance": [
    {
     "file_id": "17YXTd0ZcBdgMskSvkZw-T1jrLZsfGLgC",
     "timestamp": 1674497272131
    }
   ]
  },
  "kernelspec": {
   "display_name": "Python 3 (ipykernel)",
   "language": "python",
   "name": "python3"
  },
  "language_info": {
   "codemirror_mode": {
    "name": "ipython",
    "version": 3
   },
   "file_extension": ".py",
   "mimetype": "text/x-python",
   "name": "python",
   "nbconvert_exporter": "python",
   "pygments_lexer": "ipython3",
   "version": "3.10.14"
  }
 },
 "nbformat": 4,
 "nbformat_minor": 0
}
