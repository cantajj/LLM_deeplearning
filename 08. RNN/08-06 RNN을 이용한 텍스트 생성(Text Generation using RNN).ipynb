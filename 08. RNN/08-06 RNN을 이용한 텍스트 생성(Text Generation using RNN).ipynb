{
 "cells": [
  {
   "cell_type": "markdown",
   "metadata": {
    "id": "nQfDeXC5GJEs"
   },
   "source": [
    "이 자료는 위키독스 딥 러닝을 이용한 자연어 처리 입문의 RNN을 이용하여 텍스트 생성하기의 튜토리얼입니다.  \n",
    "\n",
    "링크 : https://wikidocs.net/45101"
   ]
  },
  {
   "cell_type": "markdown",
   "metadata": {
    "id": "Ohqrvu9vGMaa"
   },
   "source": [
    "2021년 10월 13일에 테스트되었습니다."
   ]
  },
  {
   "cell_type": "markdown",
   "metadata": {
    "id": "3Ty3ejSJsnI7"
   },
   "source": [
    "## **08-06 RNN을 이용한 텍스트 생성(Text Generation using RNN)**"
   ]
  },
  {
   "cell_type": "markdown",
   "metadata": {
    "id": "-mwvomP9GHUz"
   },
   "source": [
    "### **1. RNN을 이용하여 텍스트 생성하기**"
   ]
  },
  {
   "cell_type": "markdown",
   "metadata": {
    "id": "p7EwRkgBB648"
   },
   "source": [
    "예를 들어서 '경마장에 있는 말이 뛰고 있다'와 '그의 말이 법이다'와 '가는 말이 고와야 오는 말이 곱다'라는 세 가지 문장이 있다고 해봅시다. 모델이 문맥을 학습할 수 있도록 전체 문장의 앞의 단어들을 전부 고려하여 학습하도록 데이터를 재구성한다면 아래와 같이 총 11개의 샘플이 구성됩니다\n",
    "\n",
    "| samples |            X             |    y   |\n",
    "|:-------:|:-------------------------|:-------|\n",
    "|    1    | 경마장에                   | 있는    |\n",
    "|    2    | 경마장에 있는              | 말이    |\n",
    "|    3    | 경마장에 있는 말이         | 뛰고    |\n",
    "|    4    | 경마장에 있는 말이 뛰고    | 있다    |\n",
    "|    5    | 그의                       | 말이    |\n",
    "|    6    | 그의 말이                  | 법이다  |\n",
    "|    7    | 가는                       | 말이    |\n",
    "|    8    | 가는 말이                  | 고와야  |\n",
    "|    9    | 가는 말이 고와야           | 오는    |\n",
    "|   10    | 가는 말이 고와야 오는      | 말이    |\n",
    "|   11    | 가는 말이 고와야 오는 말이 | 곱다    |\n",
    "\n"
   ]
  },
  {
   "cell_type": "markdown",
   "metadata": {
    "id": "rQJgkUFECEID"
   },
   "source": [
    "#### **1) 데이터에 대한 이해와 전처리**"
   ]
  },
  {
   "cell_type": "code",
   "execution_count": 3,
   "metadata": {
    "executionInfo": {
     "elapsed": 3722,
     "status": "ok",
     "timestamp": 1723709581085,
     "user": {
      "displayName": "전정호",
      "userId": "01748710418857244015"
     },
     "user_tz": -540
    },
    "id": "S4uTNOaoD1bU"
   },
   "outputs": [],
   "source": [
    "import numpy as np\n",
    "from tensorflow.keras.preprocessing.text import Tokenizer\n",
    "from tensorflow.keras.preprocessing.sequence import pad_sequences\n",
    "from tensorflow.keras.utils import to_categorical"
   ]
  },
  {
   "cell_type": "markdown",
   "metadata": {
    "id": "Vbk-AXIMCJYA"
   },
   "source": [
    "우선 예제로 언급한 3개의 한국어 문장을 저장합니다."
   ]
  },
  {
   "cell_type": "code",
   "execution_count": 4,
   "metadata": {
    "colab": {
     "base_uri": "https://localhost:8080/",
     "height": 36
    },
    "executionInfo": {
     "elapsed": 45,
     "status": "ok",
     "timestamp": 1723709581086,
     "user": {
      "displayName": "전정호",
      "userId": "01748710418857244015"
     },
     "user_tz": -540
    },
    "id": "HAiu_PerD3Hf",
    "outputId": "43caf598-3be9-40b3-98ef-051e09b3bac8"
   },
   "outputs": [
    {
     "data": {
      "text/plain": [
       "'경마장에 있는 말이 뛰고 있다\\n\\n그의 말이 법이다\\n\\n가는 말이 고와야 오는 말이 곱다\\n'"
      ]
     },
     "execution_count": 4,
     "metadata": {},
     "output_type": "execute_result"
    }
   ],
   "source": [
    "text = \"\"\"경마장에 있는 말이 뛰고 있다\\n\n",
    "그의 말이 법이다\\n\n",
    "가는 말이 고와야 오는 말이 곱다\\n\"\"\"\n",
    "text"
   ]
  },
  {
   "cell_type": "markdown",
   "metadata": {
    "id": "jOVYb8hoCLD0"
   },
   "source": [
    "단어 집합을 생성하고 크기를 확인해보겠습니다. 단어 집합의 크기를 저장할 때는 **케라스 토크나이저** 의 **정수 인코딩** 은 인덱스가 1부터 시작하지만, **패딩** 을 위한 0을 고려하여 +1을 해줍니다."
   ]
  },
  {
   "cell_type": "code",
   "execution_count": 5,
   "metadata": {
    "colab": {
     "base_uri": "https://localhost:8080/"
    },
    "executionInfo": {
     "elapsed": 40,
     "status": "ok",
     "timestamp": 1723709581086,
     "user": {
      "displayName": "전정호",
      "userId": "01748710418857244015"
     },
     "user_tz": -540
    },
    "id": "xdHAkPfHD75-",
    "outputId": "0e6dbc4b-6a13-4e6b-d23f-9d7531c2c697"
   },
   "outputs": [
    {
     "data": {
      "text/plain": [
       "12"
      ]
     },
     "execution_count": 5,
     "metadata": {},
     "output_type": "execute_result"
    }
   ],
   "source": [
    "tokenizer = Tokenizer()\n",
    "tokenizer.fit_on_texts([text])  # 반드시 리스트 안에 넣어서 입력\n",
    "vocab_size = len(tokenizer.word_index) + 1   # padding할 때 맨 앞자리를 0으로 하기 위함 (인덱스를 맞춤)\n",
    "vocab_size  # 단어 집합의 크기"
   ]
  },
  {
   "cell_type": "markdown",
   "metadata": {
    "id": "7-oYVaEHCO-w"
   },
   "source": [
    "각 단어와 단어에 부여된 정수 인덱스를 출력해보겠습니다."
   ]
  },
  {
   "cell_type": "code",
   "execution_count": 6,
   "metadata": {
    "colab": {
     "base_uri": "https://localhost:8080/"
    },
    "executionInfo": {
     "elapsed": 36,
     "status": "ok",
     "timestamp": 1723709581086,
     "user": {
      "displayName": "전정호",
      "userId": "01748710418857244015"
     },
     "user_tz": -540
    },
    "id": "rjSPtvilD9hO",
    "outputId": "d0483fc6-0333-4035-a335-e4bfb22491aa"
   },
   "outputs": [
    {
     "name": "stdout",
     "output_type": "stream",
     "text": [
      "{'말이': 1, '경마장에': 2, '있는': 3, '뛰고': 4, '있다': 5, '그의': 6, '법이다': 7, '가는': 8, '고와야': 9, '오는': 10, '곱다': 11}\n"
     ]
    }
   ],
   "source": [
    "print(tokenizer.word_index)"
   ]
  },
  {
   "cell_type": "code",
   "execution_count": 7,
   "metadata": {},
   "outputs": [
    {
     "name": "stdout",
     "output_type": "stream",
     "text": [
      "{1: '말이', 2: '경마장에', 3: '있는', 4: '뛰고', 5: '있다', 6: '그의', 7: '법이다', 8: '가는', 9: '고와야', 10: '오는', 11: '곱다'}\n"
     ]
    }
   ],
   "source": [
    "print(tokenizer.index_word)"
   ]
  },
  {
   "cell_type": "markdown",
   "metadata": {
    "id": "OMZE4bD0CRNi"
   },
   "source": [
    "훈련 데이터를 만들어보겠습니다."
   ]
  },
  {
   "cell_type": "code",
   "execution_count": 8,
   "metadata": {
    "colab": {
     "base_uri": "https://localhost:8080/"
    },
    "executionInfo": {
     "elapsed": 32,
     "status": "ok",
     "timestamp": 1723709581086,
     "user": {
      "displayName": "전정호",
      "userId": "01748710418857244015"
     },
     "user_tz": -540
    },
    "id": "F_UafxphRdDw",
    "outputId": "3bd3bc4e-8340-4a6e-de72-456a0f7b548e"
   },
   "outputs": [
    {
     "data": {
      "text/plain": [
       "(['경마장에 있는 말이 뛰고 있다', '', '그의 말이 법이다', '', '가는 말이 고와야 오는 말이 곱다', ''], 6)"
      ]
     },
     "execution_count": 8,
     "metadata": {},
     "output_type": "execute_result"
    }
   ],
   "source": [
    "# 문장 토큰화\n",
    "text.split('\\n'), len(text.split('\\n'))"
   ]
  },
  {
   "cell_type": "code",
   "execution_count": 9,
   "metadata": {
    "colab": {
     "base_uri": "https://localhost:8080/",
     "height": 36
    },
    "executionInfo": {
     "elapsed": 29,
     "status": "ok",
     "timestamp": 1723709581086,
     "user": {
      "displayName": "전정호",
      "userId": "01748710418857244015"
     },
     "user_tz": -540
    },
    "id": "jx7dq3LoRq6l",
    "outputId": "c06ff573-d7e6-4a82-edc1-8d0917e6635a"
   },
   "outputs": [
    {
     "data": {
      "text/plain": [
       "'경마장에 있는 말이 뛰고 있다'"
      ]
     },
     "execution_count": 9,
     "metadata": {},
     "output_type": "execute_result"
    }
   ],
   "source": [
    "line = text.split('\\n')[0]\n",
    "line"
   ]
  },
  {
   "cell_type": "code",
   "execution_count": 10,
   "metadata": {
    "colab": {
     "base_uri": "https://localhost:8080/"
    },
    "executionInfo": {
     "elapsed": 28,
     "status": "ok",
     "timestamp": 1723709581086,
     "user": {
      "displayName": "전정호",
      "userId": "01748710418857244015"
     },
     "user_tz": -540
    },
    "id": "w6Yo2w6ySWjf",
    "outputId": "30196db6-5f07-4872-a9e4-010ca0d1fd1d"
   },
   "outputs": [
    {
     "data": {
      "text/plain": [
       "[[2, 3, 1, 4, 5]]"
      ]
     },
     "execution_count": 10,
     "metadata": {},
     "output_type": "execute_result"
    }
   ],
   "source": [
    "## 정수인코딩\n",
    "tokenizer.texts_to_sequences([line])"
   ]
  },
  {
   "cell_type": "code",
   "execution_count": 11,
   "metadata": {
    "colab": {
     "base_uri": "https://localhost:8080/"
    },
    "executionInfo": {
     "elapsed": 26,
     "status": "ok",
     "timestamp": 1723709581086,
     "user": {
      "displayName": "전정호",
      "userId": "01748710418857244015"
     },
     "user_tz": -540
    },
    "id": "yxtpUv8fEJim",
    "outputId": "ad32fd27-6c53-4204-de67-ea1e157a16d0"
   },
   "outputs": [
    {
     "name": "stdout",
     "output_type": "stream",
     "text": [
      "@@@@ 학습에 사용할 샘플의 개수: 11\n"
     ]
    }
   ],
   "source": [
    "sequences = list()\n",
    "for line in text.split('\\n'):       # \\n을 기준으로 문장 토큰화\n",
    "    encoded = tokenizer.texts_to_sequences([line])[0]\n",
    "    for i in range(1, len(encoded)):\n",
    "        sequence = encoded[:i+1]    # 문장의 시작부터 i번째 단어까지의 시퀀스\n",
    "        sequences.append(sequence)\n",
    "\n",
    "print('@@@@ 학습에 사용할 샘플의 개수: %d' % len(sequences))"
   ]
  },
  {
   "cell_type": "markdown",
   "metadata": {
    "id": "T8XngCEgr9GA"
   },
   "source": [
    "샘플의 개수는 총 11개가 나옵니다. 전체 샘플을 출력해봅시다."
   ]
  },
  {
   "cell_type": "code",
   "execution_count": 12,
   "metadata": {
    "colab": {
     "base_uri": "https://localhost:8080/"
    },
    "executionInfo": {
     "elapsed": 24,
     "status": "ok",
     "timestamp": 1723709581086,
     "user": {
      "displayName": "전정호",
      "userId": "01748710418857244015"
     },
     "user_tz": -540
    },
    "id": "Sn3ScsVyEKbO",
    "outputId": "31376f9f-5918-46ed-8aec-85e91ad9b83b"
   },
   "outputs": [
    {
     "data": {
      "text/plain": [
       "[[2, 3],\n",
       " [2, 3, 1],\n",
       " [2, 3, 1, 4],\n",
       " [2, 3, 1, 4, 5],\n",
       " [6, 1],\n",
       " [6, 1, 7],\n",
       " [8, 1],\n",
       " [8, 1, 9],\n",
       " [8, 1, 9, 10],\n",
       " [8, 1, 9, 10, 1],\n",
       " [8, 1, 9, 10, 1, 11]]"
      ]
     },
     "execution_count": 12,
     "metadata": {},
     "output_type": "execute_result"
    }
   ],
   "source": [
    "sequences"
   ]
  },
  {
   "cell_type": "markdown",
   "metadata": {},
   "source": [
    "| samples |            X             |    y   |\n",
    "|:-------:|:-------------------------|:-------|\n",
    "|    1    | 경마장에                   | 있는    |\n",
    "|    2    | 경마장에 있는              | 말이    |\n",
    "|    3    | 경마장에 있는 말이         | 뛰고    |\n",
    "|    4    | 경마장에 있는 말이 뛰고    | 있다    |\n",
    "|    5    | 그의                       | 말이    |\n",
    "|    6    | 그의 말이                  | 법이다  |\n",
    "|    7    | 가는                       | 말이    |\n",
    "|    8    | 가는 말이                  | 고와야  |\n",
    "|    9    | 가는 말이 고와야           | 오는    |\n",
    "|   10    | 가는 말이 고와야 오는      | 말이    |\n",
    "|   11    | 가는 말이 고와야 오는 말이 | 곱다    |"
   ]
  },
  {
   "cell_type": "markdown",
   "metadata": {
    "id": "ivZaOl8Yr_Yl"
   },
   "source": [
    "위의 데이터는 아직 레이블로 사용될 단어를 분리하지 않은 훈련 데이터입니다. [2, 3]은 [경마장에, 있는]에 해당되며 [2, 3, 1]은 [경마장에, 있는, 말이]에 해당됩니다. 전체 훈련 데이터에 대해서 맨 우측에 있는 단어에 대해서만 레이블로 분리해야 합니다.\n",
    "\n",
    "우선 전체 샘플에 대해서 길이를 일치시켜 줍니다. 가장 긴 샘플의 길이를 기준으로 합니다. 현재 육안으로 봤을 때, 길이가 가장 긴 샘플은 [8, 1, 9, 10, 1, 11]이고 길이는 6입니다. 이를 코드로는 다음과 같이 구할 수 있습니다."
   ]
  },
  {
   "cell_type": "code",
   "execution_count": 13,
   "metadata": {
    "colab": {
     "base_uri": "https://localhost:8080/"
    },
    "executionInfo": {
     "elapsed": 23,
     "status": "ok",
     "timestamp": 1723709581086,
     "user": {
      "displayName": "전정호",
      "userId": "01748710418857244015"
     },
     "user_tz": -540
    },
    "id": "2WQk_gFlELvO",
    "outputId": "2404dc63-40bf-4211-a53c-29e8fadaaf68"
   },
   "outputs": [
    {
     "name": "stdout",
     "output_type": "stream",
     "text": [
      "샘플의 최대 길이 : 6\n"
     ]
    }
   ],
   "source": [
    "max_len = max(len(l) for l in sequences) # 모든 샘플에서 길이가 가장 긴 샘플의 길이 출력\n",
    "print('샘플의 최대 길이 : {}'.format(max_len))"
   ]
  },
  {
   "cell_type": "markdown",
   "metadata": {
    "id": "0gBXl0wqsDWj"
   },
   "source": [
    "전체 훈련 데이터에서 가장 긴 샘플의 길이가 6임을 확인하였습니다. 전체 샘플의 길이를 6으로 패딩합니다."
   ]
  },
  {
   "cell_type": "code",
   "execution_count": 14,
   "metadata": {
    "executionInfo": {
     "elapsed": 21,
     "status": "ok",
     "timestamp": 1723709581086,
     "user": {
      "displayName": "전정호",
      "userId": "01748710418857244015"
     },
     "user_tz": -540
    },
    "id": "D9KPYYerEMiO"
   },
   "outputs": [],
   "source": [
    "sequences = pad_sequences(sequences, maxlen=max_len, padding='pre')"
   ]
  },
  {
   "cell_type": "markdown",
   "metadata": {
    "id": "bbHwi8o7sHMN"
   },
   "source": [
    "pad_sequences()는 모든 샘플에 대해서 0을 사용하여 길이를 맞춰줍니다. maxlen의 값으로 6을 주면 모든 샘플의 길이를 6으로 맞춰주며, **padding** 의 인자로 `'pre'`를 주면 길이가 6보다 짧은 샘플의 앞에 0으로 채웁니다. 전체 훈련 데이터를 출력해봅니다."
   ]
  },
  {
   "cell_type": "code",
   "execution_count": 15,
   "metadata": {
    "colab": {
     "base_uri": "https://localhost:8080/"
    },
    "executionInfo": {
     "elapsed": 21,
     "status": "ok",
     "timestamp": 1723709581086,
     "user": {
      "displayName": "전정호",
      "userId": "01748710418857244015"
     },
     "user_tz": -540
    },
    "id": "H9dK4VDuENZW",
    "outputId": "80953564-df36-43e2-fe42-826a9d1dd0c1"
   },
   "outputs": [
    {
     "data": {
      "text/plain": [
       "array([[ 0,  0,  0,  0,  2,  3],\n",
       "       [ 0,  0,  0,  2,  3,  1],\n",
       "       [ 0,  0,  2,  3,  1,  4],\n",
       "       [ 0,  2,  3,  1,  4,  5],\n",
       "       [ 0,  0,  0,  0,  6,  1],\n",
       "       [ 0,  0,  0,  6,  1,  7],\n",
       "       [ 0,  0,  0,  0,  8,  1],\n",
       "       [ 0,  0,  0,  8,  1,  9],\n",
       "       [ 0,  0,  8,  1,  9, 10],\n",
       "       [ 0,  8,  1,  9, 10,  1],\n",
       "       [ 8,  1,  9, 10,  1, 11]])"
      ]
     },
     "execution_count": 15,
     "metadata": {},
     "output_type": "execute_result"
    }
   ],
   "source": [
    "sequences"
   ]
  },
  {
   "cell_type": "markdown",
   "metadata": {
    "id": "k1XMJKOasLuL"
   },
   "source": [
    "길이가 6보다 짧은 모든 샘플에 대해서 앞에 0을 채워서 모든 샘플의 길이를 6으로 바꿨습니다. 이제 각 샘플의 마지막 단어를 레이블로 분리합시다. 레이블의 분리는 Numpy를 이용해서 가능합니다. 리스트의 마지막 값을 제외하고 저장한 것은 X, 리스트의 마지막 값만 저장한 것은 y. 이는 레이블에 해당됩니다."
   ]
  },
  {
   "cell_type": "code",
   "execution_count": 24,
   "metadata": {
    "executionInfo": {
     "elapsed": 19,
     "status": "ok",
     "timestamp": 1723709581086,
     "user": {
      "displayName": "전정호",
      "userId": "01748710418857244015"
     },
     "user_tz": -540
    },
    "id": "8Vu99bIZEOFG"
   },
   "outputs": [],
   "source": [
    "X = sequences[:, :-1]\n",
    "y = sequences[:, -1]"
   ]
  },
  {
   "cell_type": "markdown",
   "metadata": {
    "id": "bCcgojlisOWT"
   },
   "source": [
    "분리된 X와 y에 대해서 출력해보면 다음과 같습니다."
   ]
  },
  {
   "cell_type": "code",
   "execution_count": 25,
   "metadata": {
    "colab": {
     "base_uri": "https://localhost:8080/"
    },
    "executionInfo": {
     "elapsed": 20,
     "status": "ok",
     "timestamp": 1723709581087,
     "user": {
      "displayName": "전정호",
      "userId": "01748710418857244015"
     },
     "user_tz": -540
    },
    "id": "U63gl8GMEPeG",
    "outputId": "cbde3abd-881e-4134-b289-14d1dc942293"
   },
   "outputs": [
    {
     "data": {
      "text/plain": [
       "array([[ 0,  0,  0,  0,  2],\n",
       "       [ 0,  0,  0,  2,  3],\n",
       "       [ 0,  0,  2,  3,  1],\n",
       "       [ 0,  2,  3,  1,  4],\n",
       "       [ 0,  0,  0,  0,  6],\n",
       "       [ 0,  0,  0,  6,  1],\n",
       "       [ 0,  0,  0,  0,  8],\n",
       "       [ 0,  0,  0,  8,  1],\n",
       "       [ 0,  0,  8,  1,  9],\n",
       "       [ 0,  8,  1,  9, 10],\n",
       "       [ 8,  1,  9, 10,  1]])"
      ]
     },
     "execution_count": 25,
     "metadata": {},
     "output_type": "execute_result"
    }
   ],
   "source": [
    "X"
   ]
  },
  {
   "cell_type": "code",
   "execution_count": 26,
   "metadata": {
    "colab": {
     "base_uri": "https://localhost:8080/"
    },
    "executionInfo": {
     "elapsed": 19,
     "status": "ok",
     "timestamp": 1723709581087,
     "user": {
      "displayName": "전정호",
      "userId": "01748710418857244015"
     },
     "user_tz": -540
    },
    "id": "11m6JFDBEWTe",
    "outputId": "2617f368-5110-4f78-b2db-4b5cdcf0bed3"
   },
   "outputs": [
    {
     "data": {
      "text/plain": [
       "array([ 3,  1,  4,  5,  1,  7,  1,  9, 10,  1, 11])"
      ]
     },
     "execution_count": 26,
     "metadata": {},
     "output_type": "execute_result"
    }
   ],
   "source": [
    "y"
   ]
  },
  {
   "cell_type": "markdown",
   "metadata": {
    "id": "fMsaWT_IsQOz"
   },
   "source": [
    "레이블이 분리되었습니다. RNN 모델에 훈련 데이터를 훈련 시키기 전에 레이블에 대해서 **원-핫 인코딩** 을 수행합니다."
   ]
  },
  {
   "cell_type": "code",
   "execution_count": null,
   "metadata": {
    "executionInfo": {
     "elapsed": 17,
     "status": "ok",
     "timestamp": 1723709581087,
     "user": {
      "displayName": "전정호",
      "userId": "01748710418857244015"
     },
     "user_tz": -540
    },
    "id": "W3bLeTb1EXSe"
   },
   "outputs": [],
   "source": [
    "# y = to_categorical(y, num_classes=vocab_size)  # One Hot Encoding을 안할 경우 loss func : sparse_categrical_crossentropy\n",
    "# # to_categorical(y)"
   ]
  },
  {
   "cell_type": "markdown",
   "metadata": {
    "id": "3QIhwtiEsZWZ"
   },
   "source": [
    "원-핫 인코딩이 수행되었는지 출력합니다."
   ]
  },
  {
   "cell_type": "code",
   "execution_count": 28,
   "metadata": {},
   "outputs": [
    {
     "data": {
      "text/plain": [
       "12"
      ]
     },
     "execution_count": 28,
     "metadata": {},
     "output_type": "execute_result"
    }
   ],
   "source": [
    "vocab_size"
   ]
  },
  {
   "cell_type": "code",
   "execution_count": 29,
   "metadata": {
    "colab": {
     "base_uri": "https://localhost:8080/"
    },
    "executionInfo": {
     "elapsed": 17,
     "status": "ok",
     "timestamp": 1723709581087,
     "user": {
      "displayName": "전정호",
      "userId": "01748710418857244015"
     },
     "user_tz": -540
    },
    "id": "rgaGRDAeEYY-",
    "outputId": "44cda194-da0d-4f42-866d-d063de32d327"
   },
   "outputs": [
    {
     "data": {
      "text/plain": [
       "((11,), array([ 3,  1,  4,  5,  1,  7,  1,  9, 10,  1, 11]))"
      ]
     },
     "execution_count": 29,
     "metadata": {},
     "output_type": "execute_result"
    }
   ],
   "source": [
    "y.shape, y"
   ]
  },
  {
   "cell_type": "markdown",
   "metadata": {
    "id": "5HJyLkKHsj5Q"
   },
   "source": [
    "하이퍼파라미터인 **임베딩 벡터의 차원** 은 10, **은닉 상태의 크기** 는 32입니다. **다 대 일 구조** 의 RNN을 사용합니다. **전결합층(Fully Connected Layer)** 을 출력층으로 단어 집합 크기만큼의 뉴런을 배치하여 모델을 설계합니다. 해당 모델은 마지막 시점에서 **모든 가능한 단어 중 하나의 단어를 예측하는 다중 클래스 분류 문제** 를 수행하는 모델입니다. 다중 클래스 분류 문제의 경우, 출력층에 소프트맥스 회귀를 사용해야 하므로 활성화 함수로는 소프트맥스 함수를 사용하고, 손실 함수로 크로스 엔트로피 함수를 사용하여 200 에포크를 수행합니다."
   ]
  },
  {
   "cell_type": "code",
   "execution_count": 22,
   "metadata": {},
   "outputs": [
    {
     "data": {
      "text/plain": [
       "12"
      ]
     },
     "execution_count": 22,
     "metadata": {},
     "output_type": "execute_result"
    }
   ],
   "source": [
    "vocab_size"
   ]
  },
  {
   "cell_type": "code",
   "execution_count": 23,
   "metadata": {},
   "outputs": [],
   "source": [
    "from tensorflow.keras.models import Sequential\n",
    "from tensorflow.keras.layers import Embedding, Dense, SimpleRNN\n",
    "\n",
    "embedding_dim = 10  # 임베딩 벡터의 크기\n",
    "hidden_units = 32   # 히든 벡터의 크기\n",
    "\n",
    "model = Sequential()\n",
    "model.add(Embedding(vocab_size, embedding_dim))    # (12, 10) : 임베딩도 학습\n",
    "model.add(SimpleRNN(hidden_units))"
   ]
  },
  {
   "cell_type": "code",
   "execution_count": 31,
   "metadata": {},
   "outputs": [
    {
     "data": {
      "text/plain": [
       "12"
      ]
     },
     "execution_count": 31,
     "metadata": {},
     "output_type": "execute_result"
    }
   ],
   "source": [
    "vocab_size"
   ]
  },
  {
   "cell_type": "code",
   "execution_count": 30,
   "metadata": {},
   "outputs": [
    {
     "name": "stdout",
     "output_type": "stream",
     "text": [
      "Epoch 1/200\n",
      "\u001b[1m1/1\u001b[0m \u001b[32m━━━━━━━━━━━━━━━━━━━━\u001b[0m\u001b[37m\u001b[0m \u001b[1m2s\u001b[0m 2s/step - accuracy: 0.1818 - loss: 2.4890\n",
      "Epoch 2/200\n",
      "\u001b[1m1/1\u001b[0m \u001b[32m━━━━━━━━━━━━━━━━━━━━\u001b[0m\u001b[37m\u001b[0m \u001b[1m0s\u001b[0m 55ms/step - accuracy: 0.2727 - loss: 2.4747\n",
      "Epoch 3/200\n",
      "\u001b[1m1/1\u001b[0m \u001b[32m━━━━━━━━━━━━━━━━━━━━\u001b[0m\u001b[37m\u001b[0m \u001b[1m0s\u001b[0m 54ms/step - accuracy: 0.2727 - loss: 2.4604\n",
      "Epoch 4/200\n",
      "\u001b[1m1/1\u001b[0m \u001b[32m━━━━━━━━━━━━━━━━━━━━\u001b[0m\u001b[37m\u001b[0m \u001b[1m0s\u001b[0m 54ms/step - accuracy: 0.2727 - loss: 2.4460\n",
      "Epoch 5/200\n",
      "\u001b[1m1/1\u001b[0m \u001b[32m━━━━━━━━━━━━━━━━━━━━\u001b[0m\u001b[37m\u001b[0m \u001b[1m0s\u001b[0m 56ms/step - accuracy: 0.2727 - loss: 2.4315\n",
      "Epoch 6/200\n",
      "\u001b[1m1/1\u001b[0m \u001b[32m━━━━━━━━━━━━━━━━━━━━\u001b[0m\u001b[37m\u001b[0m \u001b[1m0s\u001b[0m 55ms/step - accuracy: 0.3636 - loss: 2.4166\n",
      "Epoch 7/200\n",
      "\u001b[1m1/1\u001b[0m \u001b[32m━━━━━━━━━━━━━━━━━━━━\u001b[0m\u001b[37m\u001b[0m \u001b[1m0s\u001b[0m 53ms/step - accuracy: 0.3636 - loss: 2.4014\n",
      "Epoch 8/200\n",
      "\u001b[1m1/1\u001b[0m \u001b[32m━━━━━━━━━━━━━━━━━━━━\u001b[0m\u001b[37m\u001b[0m \u001b[1m0s\u001b[0m 58ms/step - accuracy: 0.4545 - loss: 2.3857\n",
      "Epoch 9/200\n",
      "\u001b[1m1/1\u001b[0m \u001b[32m━━━━━━━━━━━━━━━━━━━━\u001b[0m\u001b[37m\u001b[0m \u001b[1m0s\u001b[0m 53ms/step - accuracy: 0.5455 - loss: 2.3695\n",
      "Epoch 10/200\n",
      "\u001b[1m1/1\u001b[0m \u001b[32m━━━━━━━━━━━━━━━━━━━━\u001b[0m\u001b[37m\u001b[0m \u001b[1m0s\u001b[0m 59ms/step - accuracy: 0.4545 - loss: 2.3527\n",
      "Epoch 11/200\n",
      "\u001b[1m1/1\u001b[0m \u001b[32m━━━━━━━━━━━━━━━━━━━━\u001b[0m\u001b[37m\u001b[0m \u001b[1m0s\u001b[0m 57ms/step - accuracy: 0.4545 - loss: 2.3352\n",
      "Epoch 12/200\n",
      "\u001b[1m1/1\u001b[0m \u001b[32m━━━━━━━━━━━━━━━━━━━━\u001b[0m\u001b[37m\u001b[0m \u001b[1m0s\u001b[0m 60ms/step - accuracy: 0.4545 - loss: 2.3169\n",
      "Epoch 13/200\n",
      "\u001b[1m1/1\u001b[0m \u001b[32m━━━━━━━━━━━━━━━━━━━━\u001b[0m\u001b[37m\u001b[0m \u001b[1m0s\u001b[0m 55ms/step - accuracy: 0.4545 - loss: 2.2978\n",
      "Epoch 14/200\n",
      "\u001b[1m1/1\u001b[0m \u001b[32m━━━━━━━━━━━━━━━━━━━━\u001b[0m\u001b[37m\u001b[0m \u001b[1m0s\u001b[0m 56ms/step - accuracy: 0.4545 - loss: 2.2779\n",
      "Epoch 15/200\n",
      "\u001b[1m1/1\u001b[0m \u001b[32m━━━━━━━━━━━━━━━━━━━━\u001b[0m\u001b[37m\u001b[0m \u001b[1m0s\u001b[0m 55ms/step - accuracy: 0.4545 - loss: 2.2571\n",
      "Epoch 16/200\n",
      "\u001b[1m1/1\u001b[0m \u001b[32m━━━━━━━━━━━━━━━━━━━━\u001b[0m\u001b[37m\u001b[0m \u001b[1m0s\u001b[0m 56ms/step - accuracy: 0.4545 - loss: 2.2353\n",
      "Epoch 17/200\n",
      "\u001b[1m1/1\u001b[0m \u001b[32m━━━━━━━━━━━━━━━━━━━━\u001b[0m\u001b[37m\u001b[0m \u001b[1m0s\u001b[0m 60ms/step - accuracy: 0.4545 - loss: 2.2126\n",
      "Epoch 18/200\n",
      "\u001b[1m1/1\u001b[0m \u001b[32m━━━━━━━━━━━━━━━━━━━━\u001b[0m\u001b[37m\u001b[0m \u001b[1m0s\u001b[0m 57ms/step - accuracy: 0.4545 - loss: 2.1890\n",
      "Epoch 19/200\n",
      "\u001b[1m1/1\u001b[0m \u001b[32m━━━━━━━━━━━━━━━━━━━━\u001b[0m\u001b[37m\u001b[0m \u001b[1m0s\u001b[0m 57ms/step - accuracy: 0.4545 - loss: 2.1644\n",
      "Epoch 20/200\n",
      "\u001b[1m1/1\u001b[0m \u001b[32m━━━━━━━━━━━━━━━━━━━━\u001b[0m\u001b[37m\u001b[0m \u001b[1m0s\u001b[0m 68ms/step - accuracy: 0.4545 - loss: 2.1390\n",
      "Epoch 21/200\n",
      "\u001b[1m1/1\u001b[0m \u001b[32m━━━━━━━━━━━━━━━━━━━━\u001b[0m\u001b[37m\u001b[0m \u001b[1m0s\u001b[0m 52ms/step - accuracy: 0.4545 - loss: 2.1127\n",
      "Epoch 22/200\n",
      "\u001b[1m1/1\u001b[0m \u001b[32m━━━━━━━━━━━━━━━━━━━━\u001b[0m\u001b[37m\u001b[0m \u001b[1m0s\u001b[0m 54ms/step - accuracy: 0.4545 - loss: 2.0857\n",
      "Epoch 23/200\n",
      "\u001b[1m1/1\u001b[0m \u001b[32m━━━━━━━━━━━━━━━━━━━━\u001b[0m\u001b[37m\u001b[0m \u001b[1m0s\u001b[0m 55ms/step - accuracy: 0.4545 - loss: 2.0580\n",
      "Epoch 24/200\n",
      "\u001b[1m1/1\u001b[0m \u001b[32m━━━━━━━━━━━━━━━━━━━━\u001b[0m\u001b[37m\u001b[0m \u001b[1m0s\u001b[0m 55ms/step - accuracy: 0.4545 - loss: 2.0299\n",
      "Epoch 25/200\n",
      "\u001b[1m1/1\u001b[0m \u001b[32m━━━━━━━━━━━━━━━━━━━━\u001b[0m\u001b[37m\u001b[0m \u001b[1m0s\u001b[0m 59ms/step - accuracy: 0.4545 - loss: 2.0015\n",
      "Epoch 26/200\n",
      "\u001b[1m1/1\u001b[0m \u001b[32m━━━━━━━━━━━━━━━━━━━━\u001b[0m\u001b[37m\u001b[0m \u001b[1m0s\u001b[0m 55ms/step - accuracy: 0.4545 - loss: 1.9729\n",
      "Epoch 27/200\n",
      "\u001b[1m1/1\u001b[0m \u001b[32m━━━━━━━━━━━━━━━━━━━━\u001b[0m\u001b[37m\u001b[0m \u001b[1m0s\u001b[0m 52ms/step - accuracy: 0.4545 - loss: 1.9444\n",
      "Epoch 28/200\n",
      "\u001b[1m1/1\u001b[0m \u001b[32m━━━━━━━━━━━━━━━━━━━━\u001b[0m\u001b[37m\u001b[0m \u001b[1m0s\u001b[0m 56ms/step - accuracy: 0.4545 - loss: 1.9162\n",
      "Epoch 29/200\n",
      "\u001b[1m1/1\u001b[0m \u001b[32m━━━━━━━━━━━━━━━━━━━━\u001b[0m\u001b[37m\u001b[0m \u001b[1m0s\u001b[0m 55ms/step - accuracy: 0.4545 - loss: 1.8884\n",
      "Epoch 30/200\n",
      "\u001b[1m1/1\u001b[0m \u001b[32m━━━━━━━━━━━━━━━━━━━━\u001b[0m\u001b[37m\u001b[0m \u001b[1m0s\u001b[0m 65ms/step - accuracy: 0.4545 - loss: 1.8612\n",
      "Epoch 31/200\n",
      "\u001b[1m1/1\u001b[0m \u001b[32m━━━━━━━━━━━━━━━━━━━━\u001b[0m\u001b[37m\u001b[0m \u001b[1m0s\u001b[0m 57ms/step - accuracy: 0.4545 - loss: 1.8345\n",
      "Epoch 32/200\n",
      "\u001b[1m1/1\u001b[0m \u001b[32m━━━━━━━━━━━━━━━━━━━━\u001b[0m\u001b[37m\u001b[0m \u001b[1m0s\u001b[0m 58ms/step - accuracy: 0.4545 - loss: 1.8085\n",
      "Epoch 33/200\n",
      "\u001b[1m1/1\u001b[0m \u001b[32m━━━━━━━━━━━━━━━━━━━━\u001b[0m\u001b[37m\u001b[0m \u001b[1m0s\u001b[0m 68ms/step - accuracy: 0.4545 - loss: 1.7831\n",
      "Epoch 34/200\n",
      "\u001b[1m1/1\u001b[0m \u001b[32m━━━━━━━━━━━━━━━━━━━━\u001b[0m\u001b[37m\u001b[0m \u001b[1m0s\u001b[0m 56ms/step - accuracy: 0.4545 - loss: 1.7582\n",
      "Epoch 35/200\n",
      "\u001b[1m1/1\u001b[0m \u001b[32m━━━━━━━━━━━━━━━━━━━━\u001b[0m\u001b[37m\u001b[0m \u001b[1m0s\u001b[0m 59ms/step - accuracy: 0.4545 - loss: 1.7337\n",
      "Epoch 36/200\n",
      "\u001b[1m1/1\u001b[0m \u001b[32m━━━━━━━━━━━━━━━━━━━━\u001b[0m\u001b[37m\u001b[0m \u001b[1m0s\u001b[0m 58ms/step - accuracy: 0.4545 - loss: 1.7094\n",
      "Epoch 37/200\n",
      "\u001b[1m1/1\u001b[0m \u001b[32m━━━━━━━━━━━━━━━━━━━━\u001b[0m\u001b[37m\u001b[0m \u001b[1m0s\u001b[0m 56ms/step - accuracy: 0.4545 - loss: 1.6851\n",
      "Epoch 38/200\n",
      "\u001b[1m1/1\u001b[0m \u001b[32m━━━━━━━━━━━━━━━━━━━━\u001b[0m\u001b[37m\u001b[0m \u001b[1m0s\u001b[0m 52ms/step - accuracy: 0.4545 - loss: 1.6609\n",
      "Epoch 39/200\n",
      "\u001b[1m1/1\u001b[0m \u001b[32m━━━━━━━━━━━━━━━━━━━━\u001b[0m\u001b[37m\u001b[0m \u001b[1m0s\u001b[0m 55ms/step - accuracy: 0.4545 - loss: 1.6366\n",
      "Epoch 40/200\n",
      "\u001b[1m1/1\u001b[0m \u001b[32m━━━━━━━━━━━━━━━━━━━━\u001b[0m\u001b[37m\u001b[0m \u001b[1m0s\u001b[0m 56ms/step - accuracy: 0.5455 - loss: 1.6122\n",
      "Epoch 41/200\n",
      "\u001b[1m1/1\u001b[0m \u001b[32m━━━━━━━━━━━━━━━━━━━━\u001b[0m\u001b[37m\u001b[0m \u001b[1m0s\u001b[0m 72ms/step - accuracy: 0.5455 - loss: 1.5877\n",
      "Epoch 42/200\n",
      "\u001b[1m1/1\u001b[0m \u001b[32m━━━━━━━━━━━━━━━━━━━━\u001b[0m\u001b[37m\u001b[0m \u001b[1m0s\u001b[0m 53ms/step - accuracy: 0.5455 - loss: 1.5632\n",
      "Epoch 43/200\n",
      "\u001b[1m1/1\u001b[0m \u001b[32m━━━━━━━━━━━━━━━━━━━━\u001b[0m\u001b[37m\u001b[0m \u001b[1m0s\u001b[0m 58ms/step - accuracy: 0.5455 - loss: 1.5387\n",
      "Epoch 44/200\n",
      "\u001b[1m1/1\u001b[0m \u001b[32m━━━━━━━━━━━━━━━━━━━━\u001b[0m\u001b[37m\u001b[0m \u001b[1m0s\u001b[0m 56ms/step - accuracy: 0.5455 - loss: 1.5143\n",
      "Epoch 45/200\n",
      "\u001b[1m1/1\u001b[0m \u001b[32m━━━━━━━━━━━━━━━━━━━━\u001b[0m\u001b[37m\u001b[0m \u001b[1m0s\u001b[0m 56ms/step - accuracy: 0.5455 - loss: 1.4901\n",
      "Epoch 46/200\n",
      "\u001b[1m1/1\u001b[0m \u001b[32m━━━━━━━━━━━━━━━━━━━━\u001b[0m\u001b[37m\u001b[0m \u001b[1m0s\u001b[0m 53ms/step - accuracy: 0.5455 - loss: 1.4661\n",
      "Epoch 47/200\n",
      "\u001b[1m1/1\u001b[0m \u001b[32m━━━━━━━━━━━━━━━━━━━━\u001b[0m\u001b[37m\u001b[0m \u001b[1m0s\u001b[0m 55ms/step - accuracy: 0.5455 - loss: 1.4424\n",
      "Epoch 48/200\n",
      "\u001b[1m1/1\u001b[0m \u001b[32m━━━━━━━━━━━━━━━━━━━━\u001b[0m\u001b[37m\u001b[0m \u001b[1m0s\u001b[0m 55ms/step - accuracy: 0.6364 - loss: 1.4190\n",
      "Epoch 49/200\n",
      "\u001b[1m1/1\u001b[0m \u001b[32m━━━━━━━━━━━━━━━━━━━━\u001b[0m\u001b[37m\u001b[0m \u001b[1m0s\u001b[0m 55ms/step - accuracy: 0.6364 - loss: 1.3960\n",
      "Epoch 50/200\n",
      "\u001b[1m1/1\u001b[0m \u001b[32m━━━━━━━━━━━━━━━━━━━━\u001b[0m\u001b[37m\u001b[0m \u001b[1m0s\u001b[0m 56ms/step - accuracy: 0.6364 - loss: 1.3732\n",
      "Epoch 51/200\n",
      "\u001b[1m1/1\u001b[0m \u001b[32m━━━━━━━━━━━━━━━━━━━━\u001b[0m\u001b[37m\u001b[0m \u001b[1m0s\u001b[0m 54ms/step - accuracy: 0.6364 - loss: 1.3509\n",
      "Epoch 52/200\n",
      "\u001b[1m1/1\u001b[0m \u001b[32m━━━━━━━━━━━━━━━━━━━━\u001b[0m\u001b[37m\u001b[0m \u001b[1m0s\u001b[0m 58ms/step - accuracy: 0.6364 - loss: 1.3288\n",
      "Epoch 53/200\n",
      "\u001b[1m1/1\u001b[0m \u001b[32m━━━━━━━━━━━━━━━━━━━━\u001b[0m\u001b[37m\u001b[0m \u001b[1m0s\u001b[0m 54ms/step - accuracy: 0.6364 - loss: 1.3071\n",
      "Epoch 54/200\n",
      "\u001b[1m1/1\u001b[0m \u001b[32m━━━━━━━━━━━━━━━━━━━━\u001b[0m\u001b[37m\u001b[0m \u001b[1m0s\u001b[0m 59ms/step - accuracy: 0.6364 - loss: 1.2856\n",
      "Epoch 55/200\n",
      "\u001b[1m1/1\u001b[0m \u001b[32m━━━━━━━━━━━━━━━━━━━━\u001b[0m\u001b[37m\u001b[0m \u001b[1m0s\u001b[0m 57ms/step - accuracy: 0.6364 - loss: 1.2644\n",
      "Epoch 56/200\n",
      "\u001b[1m1/1\u001b[0m \u001b[32m━━━━━━━━━━━━━━━━━━━━\u001b[0m\u001b[37m\u001b[0m \u001b[1m0s\u001b[0m 57ms/step - accuracy: 0.6364 - loss: 1.2435\n",
      "Epoch 57/200\n",
      "\u001b[1m1/1\u001b[0m \u001b[32m━━━━━━━━━━━━━━━━━━━━\u001b[0m\u001b[37m\u001b[0m \u001b[1m0s\u001b[0m 59ms/step - accuracy: 0.6364 - loss: 1.2228\n",
      "Epoch 58/200\n",
      "\u001b[1m1/1\u001b[0m \u001b[32m━━━━━━━━━━━━━━━━━━━━\u001b[0m\u001b[37m\u001b[0m \u001b[1m0s\u001b[0m 68ms/step - accuracy: 0.6364 - loss: 1.2023\n",
      "Epoch 59/200\n",
      "\u001b[1m1/1\u001b[0m \u001b[32m━━━━━━━━━━━━━━━━━━━━\u001b[0m\u001b[37m\u001b[0m \u001b[1m0s\u001b[0m 54ms/step - accuracy: 0.6364 - loss: 1.1821\n",
      "Epoch 60/200\n",
      "\u001b[1m1/1\u001b[0m \u001b[32m━━━━━━━━━━━━━━━━━━━━\u001b[0m\u001b[37m\u001b[0m \u001b[1m0s\u001b[0m 58ms/step - accuracy: 0.6364 - loss: 1.1620\n",
      "Epoch 61/200\n",
      "\u001b[1m1/1\u001b[0m \u001b[32m━━━━━━━━━━━━━━━━━━━━\u001b[0m\u001b[37m\u001b[0m \u001b[1m0s\u001b[0m 66ms/step - accuracy: 0.6364 - loss: 1.1422\n",
      "Epoch 62/200\n",
      "\u001b[1m1/1\u001b[0m \u001b[32m━━━━━━━━━━━━━━━━━━━━\u001b[0m\u001b[37m\u001b[0m \u001b[1m0s\u001b[0m 65ms/step - accuracy: 0.6364 - loss: 1.1225\n",
      "Epoch 63/200\n",
      "\u001b[1m1/1\u001b[0m \u001b[32m━━━━━━━━━━━━━━━━━━━━\u001b[0m\u001b[37m\u001b[0m \u001b[1m0s\u001b[0m 60ms/step - accuracy: 0.6364 - loss: 1.1029\n",
      "Epoch 64/200\n",
      "\u001b[1m1/1\u001b[0m \u001b[32m━━━━━━━━━━━━━━━━━━━━\u001b[0m\u001b[37m\u001b[0m \u001b[1m0s\u001b[0m 58ms/step - accuracy: 0.7273 - loss: 1.0835\n",
      "Epoch 65/200\n",
      "\u001b[1m1/1\u001b[0m \u001b[32m━━━━━━━━━━━━━━━━━━━━\u001b[0m\u001b[37m\u001b[0m \u001b[1m0s\u001b[0m 58ms/step - accuracy: 0.7273 - loss: 1.0643\n",
      "Epoch 66/200\n",
      "\u001b[1m1/1\u001b[0m \u001b[32m━━━━━━━━━━━━━━━━━━━━\u001b[0m\u001b[37m\u001b[0m \u001b[1m0s\u001b[0m 56ms/step - accuracy: 0.7273 - loss: 1.0451\n",
      "Epoch 67/200\n",
      "\u001b[1m1/1\u001b[0m \u001b[32m━━━━━━━━━━━━━━━━━━━━\u001b[0m\u001b[37m\u001b[0m \u001b[1m0s\u001b[0m 54ms/step - accuracy: 0.7273 - loss: 1.0261\n",
      "Epoch 68/200\n",
      "\u001b[1m1/1\u001b[0m \u001b[32m━━━━━━━━━━━━━━━━━━━━\u001b[0m\u001b[37m\u001b[0m \u001b[1m0s\u001b[0m 66ms/step - accuracy: 0.7273 - loss: 1.0073\n",
      "Epoch 69/200\n",
      "\u001b[1m1/1\u001b[0m \u001b[32m━━━━━━━━━━━━━━━━━━━━\u001b[0m\u001b[37m\u001b[0m \u001b[1m0s\u001b[0m 57ms/step - accuracy: 0.7273 - loss: 0.9885\n",
      "Epoch 70/200\n",
      "\u001b[1m1/1\u001b[0m \u001b[32m━━━━━━━━━━━━━━━━━━━━\u001b[0m\u001b[37m\u001b[0m \u001b[1m0s\u001b[0m 56ms/step - accuracy: 0.7273 - loss: 0.9700\n",
      "Epoch 71/200\n",
      "\u001b[1m1/1\u001b[0m \u001b[32m━━━━━━━━━━━━━━━━━━━━\u001b[0m\u001b[37m\u001b[0m \u001b[1m0s\u001b[0m 55ms/step - accuracy: 0.7273 - loss: 0.9516\n",
      "Epoch 72/200\n",
      "\u001b[1m1/1\u001b[0m \u001b[32m━━━━━━━━━━━━━━━━━━━━\u001b[0m\u001b[37m\u001b[0m \u001b[1m0s\u001b[0m 58ms/step - accuracy: 0.7273 - loss: 0.9334\n",
      "Epoch 73/200\n",
      "\u001b[1m1/1\u001b[0m \u001b[32m━━━━━━━━━━━━━━━━━━━━\u001b[0m\u001b[37m\u001b[0m \u001b[1m0s\u001b[0m 62ms/step - accuracy: 0.7273 - loss: 0.9154\n",
      "Epoch 74/200\n",
      "\u001b[1m1/1\u001b[0m \u001b[32m━━━━━━━━━━━━━━━━━━━━\u001b[0m\u001b[37m\u001b[0m \u001b[1m0s\u001b[0m 54ms/step - accuracy: 0.7273 - loss: 0.8975\n",
      "Epoch 75/200\n",
      "\u001b[1m1/1\u001b[0m \u001b[32m━━━━━━━━━━━━━━━━━━━━\u001b[0m\u001b[37m\u001b[0m \u001b[1m0s\u001b[0m 55ms/step - accuracy: 0.8182 - loss: 0.8799\n",
      "Epoch 76/200\n",
      "\u001b[1m1/1\u001b[0m \u001b[32m━━━━━━━━━━━━━━━━━━━━\u001b[0m\u001b[37m\u001b[0m \u001b[1m0s\u001b[0m 55ms/step - accuracy: 0.8182 - loss: 0.8625\n",
      "Epoch 77/200\n",
      "\u001b[1m1/1\u001b[0m \u001b[32m━━━━━━━━━━━━━━━━━━━━\u001b[0m\u001b[37m\u001b[0m \u001b[1m0s\u001b[0m 53ms/step - accuracy: 0.8182 - loss: 0.8452\n",
      "Epoch 78/200\n",
      "\u001b[1m1/1\u001b[0m \u001b[32m━━━━━━━━━━━━━━━━━━━━\u001b[0m\u001b[37m\u001b[0m \u001b[1m0s\u001b[0m 60ms/step - accuracy: 0.8182 - loss: 0.8282\n",
      "Epoch 79/200\n",
      "\u001b[1m1/1\u001b[0m \u001b[32m━━━━━━━━━━━━━━━━━━━━\u001b[0m\u001b[37m\u001b[0m \u001b[1m0s\u001b[0m 57ms/step - accuracy: 0.8182 - loss: 0.8114\n",
      "Epoch 80/200\n",
      "\u001b[1m1/1\u001b[0m \u001b[32m━━━━━━━━━━━━━━━━━━━━\u001b[0m\u001b[37m\u001b[0m \u001b[1m0s\u001b[0m 53ms/step - accuracy: 0.8182 - loss: 0.7948\n",
      "Epoch 81/200\n",
      "\u001b[1m1/1\u001b[0m \u001b[32m━━━━━━━━━━━━━━━━━━━━\u001b[0m\u001b[37m\u001b[0m \u001b[1m0s\u001b[0m 60ms/step - accuracy: 0.8182 - loss: 0.7784\n",
      "Epoch 82/200\n",
      "\u001b[1m1/1\u001b[0m \u001b[32m━━━━━━━━━━━━━━━━━━━━\u001b[0m\u001b[37m\u001b[0m \u001b[1m0s\u001b[0m 66ms/step - accuracy: 0.8182 - loss: 0.7623\n",
      "Epoch 83/200\n",
      "\u001b[1m1/1\u001b[0m \u001b[32m━━━━━━━━━━━━━━━━━━━━\u001b[0m\u001b[37m\u001b[0m \u001b[1m0s\u001b[0m 60ms/step - accuracy: 0.8182 - loss: 0.7465\n",
      "Epoch 84/200\n",
      "\u001b[1m1/1\u001b[0m \u001b[32m━━━━━━━━━━━━━━━━━━━━\u001b[0m\u001b[37m\u001b[0m \u001b[1m0s\u001b[0m 57ms/step - accuracy: 0.8182 - loss: 0.7309\n",
      "Epoch 85/200\n",
      "\u001b[1m1/1\u001b[0m \u001b[32m━━━━━━━━━━━━━━━━━━━━\u001b[0m\u001b[37m\u001b[0m \u001b[1m0s\u001b[0m 54ms/step - accuracy: 0.8182 - loss: 0.7156\n",
      "Epoch 86/200\n",
      "\u001b[1m1/1\u001b[0m \u001b[32m━━━━━━━━━━━━━━━━━━━━\u001b[0m\u001b[37m\u001b[0m \u001b[1m0s\u001b[0m 59ms/step - accuracy: 0.8182 - loss: 0.7005\n",
      "Epoch 87/200\n",
      "\u001b[1m1/1\u001b[0m \u001b[32m━━━━━━━━━━━━━━━━━━━━\u001b[0m\u001b[37m\u001b[0m \u001b[1m0s\u001b[0m 64ms/step - accuracy: 0.8182 - loss: 0.6857\n",
      "Epoch 88/200\n",
      "\u001b[1m1/1\u001b[0m \u001b[32m━━━━━━━━━━━━━━━━━━━━\u001b[0m\u001b[37m\u001b[0m \u001b[1m0s\u001b[0m 55ms/step - accuracy: 0.8182 - loss: 0.6712\n",
      "Epoch 89/200\n",
      "\u001b[1m1/1\u001b[0m \u001b[32m━━━━━━━━━━━━━━━━━━━━\u001b[0m\u001b[37m\u001b[0m \u001b[1m0s\u001b[0m 56ms/step - accuracy: 0.8182 - loss: 0.6570\n",
      "Epoch 90/200\n",
      "\u001b[1m1/1\u001b[0m \u001b[32m━━━━━━━━━━━━━━━━━━━━\u001b[0m\u001b[37m\u001b[0m \u001b[1m0s\u001b[0m 54ms/step - accuracy: 0.8182 - loss: 0.6431\n",
      "Epoch 91/200\n",
      "\u001b[1m1/1\u001b[0m \u001b[32m━━━━━━━━━━━━━━━━━━━━\u001b[0m\u001b[37m\u001b[0m \u001b[1m0s\u001b[0m 54ms/step - accuracy: 0.9091 - loss: 0.6294\n",
      "Epoch 92/200\n",
      "\u001b[1m1/1\u001b[0m \u001b[32m━━━━━━━━━━━━━━━━━━━━\u001b[0m\u001b[37m\u001b[0m \u001b[1m0s\u001b[0m 57ms/step - accuracy: 0.9091 - loss: 0.6161\n",
      "Epoch 93/200\n",
      "\u001b[1m1/1\u001b[0m \u001b[32m━━━━━━━━━━━━━━━━━━━━\u001b[0m\u001b[37m\u001b[0m \u001b[1m0s\u001b[0m 58ms/step - accuracy: 0.9091 - loss: 0.6030\n",
      "Epoch 94/200\n",
      "\u001b[1m1/1\u001b[0m \u001b[32m━━━━━━━━━━━━━━━━━━━━\u001b[0m\u001b[37m\u001b[0m \u001b[1m0s\u001b[0m 56ms/step - accuracy: 0.9091 - loss: 0.5902\n",
      "Epoch 95/200\n",
      "\u001b[1m1/1\u001b[0m \u001b[32m━━━━━━━━━━━━━━━━━━━━\u001b[0m\u001b[37m\u001b[0m \u001b[1m0s\u001b[0m 56ms/step - accuracy: 0.9091 - loss: 0.5776\n",
      "Epoch 96/200\n",
      "\u001b[1m1/1\u001b[0m \u001b[32m━━━━━━━━━━━━━━━━━━━━\u001b[0m\u001b[37m\u001b[0m \u001b[1m0s\u001b[0m 54ms/step - accuracy: 0.9091 - loss: 0.5654\n",
      "Epoch 97/200\n",
      "\u001b[1m1/1\u001b[0m \u001b[32m━━━━━━━━━━━━━━━━━━━━\u001b[0m\u001b[37m\u001b[0m \u001b[1m0s\u001b[0m 56ms/step - accuracy: 0.9091 - loss: 0.5535\n",
      "Epoch 98/200\n",
      "\u001b[1m1/1\u001b[0m \u001b[32m━━━━━━━━━━━━━━━━━━━━\u001b[0m\u001b[37m\u001b[0m \u001b[1m0s\u001b[0m 59ms/step - accuracy: 0.9091 - loss: 0.5418\n",
      "Epoch 99/200\n",
      "\u001b[1m1/1\u001b[0m \u001b[32m━━━━━━━━━━━━━━━━━━━━\u001b[0m\u001b[37m\u001b[0m \u001b[1m0s\u001b[0m 55ms/step - accuracy: 0.9091 - loss: 0.5304\n",
      "Epoch 100/200\n",
      "\u001b[1m1/1\u001b[0m \u001b[32m━━━━━━━━━━━━━━━━━━━━\u001b[0m\u001b[37m\u001b[0m \u001b[1m0s\u001b[0m 58ms/step - accuracy: 0.9091 - loss: 0.5192\n",
      "Epoch 101/200\n",
      "\u001b[1m1/1\u001b[0m \u001b[32m━━━━━━━━━━━━━━━━━━━━\u001b[0m\u001b[37m\u001b[0m \u001b[1m0s\u001b[0m 56ms/step - accuracy: 0.9091 - loss: 0.5083\n",
      "Epoch 102/200\n",
      "\u001b[1m1/1\u001b[0m \u001b[32m━━━━━━━━━━━━━━━━━━━━\u001b[0m\u001b[37m\u001b[0m \u001b[1m0s\u001b[0m 68ms/step - accuracy: 0.9091 - loss: 0.4977\n",
      "Epoch 103/200\n",
      "\u001b[1m1/1\u001b[0m \u001b[32m━━━━━━━━━━━━━━━━━━━━\u001b[0m\u001b[37m\u001b[0m \u001b[1m0s\u001b[0m 65ms/step - accuracy: 0.9091 - loss: 0.4873\n",
      "Epoch 104/200\n",
      "\u001b[1m1/1\u001b[0m \u001b[32m━━━━━━━━━━━━━━━━━━━━\u001b[0m\u001b[37m\u001b[0m \u001b[1m0s\u001b[0m 68ms/step - accuracy: 0.9091 - loss: 0.4772\n",
      "Epoch 105/200\n",
      "\u001b[1m1/1\u001b[0m \u001b[32m━━━━━━━━━━━━━━━━━━━━\u001b[0m\u001b[37m\u001b[0m \u001b[1m0s\u001b[0m 59ms/step - accuracy: 0.9091 - loss: 0.4673\n",
      "Epoch 106/200\n",
      "\u001b[1m1/1\u001b[0m \u001b[32m━━━━━━━━━━━━━━━━━━━━\u001b[0m\u001b[37m\u001b[0m \u001b[1m0s\u001b[0m 59ms/step - accuracy: 0.9091 - loss: 0.4577\n",
      "Epoch 107/200\n",
      "\u001b[1m1/1\u001b[0m \u001b[32m━━━━━━━━━━━━━━━━━━━━\u001b[0m\u001b[37m\u001b[0m \u001b[1m0s\u001b[0m 65ms/step - accuracy: 0.9091 - loss: 0.4483\n",
      "Epoch 108/200\n",
      "\u001b[1m1/1\u001b[0m \u001b[32m━━━━━━━━━━━━━━━━━━━━\u001b[0m\u001b[37m\u001b[0m \u001b[1m0s\u001b[0m 57ms/step - accuracy: 0.9091 - loss: 0.4391\n",
      "Epoch 109/200\n",
      "\u001b[1m1/1\u001b[0m \u001b[32m━━━━━━━━━━━━━━━━━━━━\u001b[0m\u001b[37m\u001b[0m \u001b[1m0s\u001b[0m 54ms/step - accuracy: 0.9091 - loss: 0.4301\n",
      "Epoch 110/200\n",
      "\u001b[1m1/1\u001b[0m \u001b[32m━━━━━━━━━━━━━━━━━━━━\u001b[0m\u001b[37m\u001b[0m \u001b[1m0s\u001b[0m 56ms/step - accuracy: 0.9091 - loss: 0.4213\n",
      "Epoch 111/200\n",
      "\u001b[1m1/1\u001b[0m \u001b[32m━━━━━━━━━━━━━━━━━━━━\u001b[0m\u001b[37m\u001b[0m \u001b[1m0s\u001b[0m 57ms/step - accuracy: 0.9091 - loss: 0.4128\n",
      "Epoch 112/200\n",
      "\u001b[1m1/1\u001b[0m \u001b[32m━━━━━━━━━━━━━━━━━━━━\u001b[0m\u001b[37m\u001b[0m \u001b[1m0s\u001b[0m 55ms/step - accuracy: 0.9091 - loss: 0.4045\n",
      "Epoch 113/200\n",
      "\u001b[1m1/1\u001b[0m \u001b[32m━━━━━━━━━━━━━━━━━━━━\u001b[0m\u001b[37m\u001b[0m \u001b[1m0s\u001b[0m 58ms/step - accuracy: 0.9091 - loss: 0.3963\n",
      "Epoch 114/200\n",
      "\u001b[1m1/1\u001b[0m \u001b[32m━━━━━━━━━━━━━━━━━━━━\u001b[0m\u001b[37m\u001b[0m \u001b[1m0s\u001b[0m 58ms/step - accuracy: 0.9091 - loss: 0.3883\n",
      "Epoch 115/200\n",
      "\u001b[1m1/1\u001b[0m \u001b[32m━━━━━━━━━━━━━━━━━━━━\u001b[0m\u001b[37m\u001b[0m \u001b[1m0s\u001b[0m 60ms/step - accuracy: 0.9091 - loss: 0.3806\n",
      "Epoch 116/200\n",
      "\u001b[1m1/1\u001b[0m \u001b[32m━━━━━━━━━━━━━━━━━━━━\u001b[0m\u001b[37m\u001b[0m \u001b[1m0s\u001b[0m 54ms/step - accuracy: 0.9091 - loss: 0.3730\n",
      "Epoch 117/200\n",
      "\u001b[1m1/1\u001b[0m \u001b[32m━━━━━━━━━━━━━━━━━━━━\u001b[0m\u001b[37m\u001b[0m \u001b[1m0s\u001b[0m 69ms/step - accuracy: 0.9091 - loss: 0.3656\n",
      "Epoch 118/200\n",
      "\u001b[1m1/1\u001b[0m \u001b[32m━━━━━━━━━━━━━━━━━━━━\u001b[0m\u001b[37m\u001b[0m \u001b[1m0s\u001b[0m 55ms/step - accuracy: 0.9091 - loss: 0.3583\n",
      "Epoch 119/200\n",
      "\u001b[1m1/1\u001b[0m \u001b[32m━━━━━━━━━━━━━━━━━━━━\u001b[0m\u001b[37m\u001b[0m \u001b[1m0s\u001b[0m 57ms/step - accuracy: 0.9091 - loss: 0.3512\n",
      "Epoch 120/200\n",
      "\u001b[1m1/1\u001b[0m \u001b[32m━━━━━━━━━━━━━━━━━━━━\u001b[0m\u001b[37m\u001b[0m \u001b[1m0s\u001b[0m 63ms/step - accuracy: 1.0000 - loss: 0.3443\n",
      "Epoch 121/200\n",
      "\u001b[1m1/1\u001b[0m \u001b[32m━━━━━━━━━━━━━━━━━━━━\u001b[0m\u001b[37m\u001b[0m \u001b[1m0s\u001b[0m 54ms/step - accuracy: 1.0000 - loss: 0.3376\n",
      "Epoch 122/200\n",
      "\u001b[1m1/1\u001b[0m \u001b[32m━━━━━━━━━━━━━━━━━━━━\u001b[0m\u001b[37m\u001b[0m \u001b[1m0s\u001b[0m 51ms/step - accuracy: 1.0000 - loss: 0.3309\n",
      "Epoch 123/200\n",
      "\u001b[1m1/1\u001b[0m \u001b[32m━━━━━━━━━━━━━━━━━━━━\u001b[0m\u001b[37m\u001b[0m \u001b[1m0s\u001b[0m 51ms/step - accuracy: 1.0000 - loss: 0.3245\n",
      "Epoch 124/200\n",
      "\u001b[1m1/1\u001b[0m \u001b[32m━━━━━━━━━━━━━━━━━━━━\u001b[0m\u001b[37m\u001b[0m \u001b[1m0s\u001b[0m 53ms/step - accuracy: 1.0000 - loss: 0.3182\n",
      "Epoch 125/200\n",
      "\u001b[1m1/1\u001b[0m \u001b[32m━━━━━━━━━━━━━━━━━━━━\u001b[0m\u001b[37m\u001b[0m \u001b[1m0s\u001b[0m 56ms/step - accuracy: 1.0000 - loss: 0.3120\n",
      "Epoch 126/200\n",
      "\u001b[1m1/1\u001b[0m \u001b[32m━━━━━━━━━━━━━━━━━━━━\u001b[0m\u001b[37m\u001b[0m \u001b[1m0s\u001b[0m 60ms/step - accuracy: 1.0000 - loss: 0.3059\n",
      "Epoch 127/200\n",
      "\u001b[1m1/1\u001b[0m \u001b[32m━━━━━━━━━━━━━━━━━━━━\u001b[0m\u001b[37m\u001b[0m \u001b[1m0s\u001b[0m 50ms/step - accuracy: 1.0000 - loss: 0.3000\n",
      "Epoch 128/200\n",
      "\u001b[1m1/1\u001b[0m \u001b[32m━━━━━━━━━━━━━━━━━━━━\u001b[0m\u001b[37m\u001b[0m \u001b[1m0s\u001b[0m 56ms/step - accuracy: 1.0000 - loss: 0.2942\n",
      "Epoch 129/200\n",
      "\u001b[1m1/1\u001b[0m \u001b[32m━━━━━━━━━━━━━━━━━━━━\u001b[0m\u001b[37m\u001b[0m \u001b[1m0s\u001b[0m 53ms/step - accuracy: 1.0000 - loss: 0.2886\n",
      "Epoch 130/200\n",
      "\u001b[1m1/1\u001b[0m \u001b[32m━━━━━━━━━━━━━━━━━━━━\u001b[0m\u001b[37m\u001b[0m \u001b[1m0s\u001b[0m 73ms/step - accuracy: 1.0000 - loss: 0.2830\n",
      "Epoch 131/200\n",
      "\u001b[1m1/1\u001b[0m \u001b[32m━━━━━━━━━━━━━━━━━━━━\u001b[0m\u001b[37m\u001b[0m \u001b[1m0s\u001b[0m 56ms/step - accuracy: 1.0000 - loss: 0.2776\n",
      "Epoch 132/200\n",
      "\u001b[1m1/1\u001b[0m \u001b[32m━━━━━━━━━━━━━━━━━━━━\u001b[0m\u001b[37m\u001b[0m \u001b[1m0s\u001b[0m 55ms/step - accuracy: 1.0000 - loss: 0.2723\n",
      "Epoch 133/200\n",
      "\u001b[1m1/1\u001b[0m \u001b[32m━━━━━━━━━━━━━━━━━━━━\u001b[0m\u001b[37m\u001b[0m \u001b[1m0s\u001b[0m 54ms/step - accuracy: 1.0000 - loss: 0.2671\n",
      "Epoch 134/200\n",
      "\u001b[1m1/1\u001b[0m \u001b[32m━━━━━━━━━━━━━━━━━━━━\u001b[0m\u001b[37m\u001b[0m \u001b[1m0s\u001b[0m 52ms/step - accuracy: 1.0000 - loss: 0.2620\n",
      "Epoch 135/200\n",
      "\u001b[1m1/1\u001b[0m \u001b[32m━━━━━━━━━━━━━━━━━━━━\u001b[0m\u001b[37m\u001b[0m \u001b[1m0s\u001b[0m 53ms/step - accuracy: 1.0000 - loss: 0.2570\n",
      "Epoch 136/200\n",
      "\u001b[1m1/1\u001b[0m \u001b[32m━━━━━━━━━━━━━━━━━━━━\u001b[0m\u001b[37m\u001b[0m \u001b[1m0s\u001b[0m 54ms/step - accuracy: 1.0000 - loss: 0.2521\n",
      "Epoch 137/200\n",
      "\u001b[1m1/1\u001b[0m \u001b[32m━━━━━━━━━━━━━━━━━━━━\u001b[0m\u001b[37m\u001b[0m \u001b[1m0s\u001b[0m 56ms/step - accuracy: 1.0000 - loss: 0.2474\n",
      "Epoch 138/200\n",
      "\u001b[1m1/1\u001b[0m \u001b[32m━━━━━━━━━━━━━━━━━━━━\u001b[0m\u001b[37m\u001b[0m \u001b[1m0s\u001b[0m 51ms/step - accuracy: 1.0000 - loss: 0.2427\n",
      "Epoch 139/200\n",
      "\u001b[1m1/1\u001b[0m \u001b[32m━━━━━━━━━━━━━━━━━━━━\u001b[0m\u001b[37m\u001b[0m \u001b[1m0s\u001b[0m 53ms/step - accuracy: 1.0000 - loss: 0.2381\n",
      "Epoch 140/200\n",
      "\u001b[1m1/1\u001b[0m \u001b[32m━━━━━━━━━━━━━━━━━━━━\u001b[0m\u001b[37m\u001b[0m \u001b[1m0s\u001b[0m 62ms/step - accuracy: 1.0000 - loss: 0.2336\n",
      "Epoch 141/200\n",
      "\u001b[1m1/1\u001b[0m \u001b[32m━━━━━━━━━━━━━━━━━━━━\u001b[0m\u001b[37m\u001b[0m \u001b[1m0s\u001b[0m 54ms/step - accuracy: 1.0000 - loss: 0.2292\n",
      "Epoch 142/200\n",
      "\u001b[1m1/1\u001b[0m \u001b[32m━━━━━━━━━━━━━━━━━━━━\u001b[0m\u001b[37m\u001b[0m \u001b[1m0s\u001b[0m 54ms/step - accuracy: 1.0000 - loss: 0.2249\n",
      "Epoch 143/200\n",
      "\u001b[1m1/1\u001b[0m \u001b[32m━━━━━━━━━━━━━━━━━━━━\u001b[0m\u001b[37m\u001b[0m \u001b[1m0s\u001b[0m 54ms/step - accuracy: 1.0000 - loss: 0.2207\n",
      "Epoch 144/200\n",
      "\u001b[1m1/1\u001b[0m \u001b[32m━━━━━━━━━━━━━━━━━━━━\u001b[0m\u001b[37m\u001b[0m \u001b[1m0s\u001b[0m 63ms/step - accuracy: 1.0000 - loss: 0.2165\n",
      "Epoch 145/200\n",
      "\u001b[1m1/1\u001b[0m \u001b[32m━━━━━━━━━━━━━━━━━━━━\u001b[0m\u001b[37m\u001b[0m \u001b[1m0s\u001b[0m 68ms/step - accuracy: 1.0000 - loss: 0.2125\n",
      "Epoch 146/200\n",
      "\u001b[1m1/1\u001b[0m \u001b[32m━━━━━━━━━━━━━━━━━━━━\u001b[0m\u001b[37m\u001b[0m \u001b[1m0s\u001b[0m 53ms/step - accuracy: 1.0000 - loss: 0.2085\n",
      "Epoch 147/200\n",
      "\u001b[1m1/1\u001b[0m \u001b[32m━━━━━━━━━━━━━━━━━━━━\u001b[0m\u001b[37m\u001b[0m \u001b[1m0s\u001b[0m 56ms/step - accuracy: 1.0000 - loss: 0.2046\n",
      "Epoch 148/200\n",
      "\u001b[1m1/1\u001b[0m \u001b[32m━━━━━━━━━━━━━━━━━━━━\u001b[0m\u001b[37m\u001b[0m \u001b[1m0s\u001b[0m 55ms/step - accuracy: 1.0000 - loss: 0.2008\n",
      "Epoch 149/200\n",
      "\u001b[1m1/1\u001b[0m \u001b[32m━━━━━━━━━━━━━━━━━━━━\u001b[0m\u001b[37m\u001b[0m \u001b[1m0s\u001b[0m 58ms/step - accuracy: 1.0000 - loss: 0.1971\n",
      "Epoch 150/200\n",
      "\u001b[1m1/1\u001b[0m \u001b[32m━━━━━━━━━━━━━━━━━━━━\u001b[0m\u001b[37m\u001b[0m \u001b[1m0s\u001b[0m 57ms/step - accuracy: 1.0000 - loss: 0.1934\n",
      "Epoch 151/200\n",
      "\u001b[1m1/1\u001b[0m \u001b[32m━━━━━━━━━━━━━━━━━━━━\u001b[0m\u001b[37m\u001b[0m \u001b[1m0s\u001b[0m 54ms/step - accuracy: 1.0000 - loss: 0.1898\n",
      "Epoch 152/200\n",
      "\u001b[1m1/1\u001b[0m \u001b[32m━━━━━━━━━━━━━━━━━━━━\u001b[0m\u001b[37m\u001b[0m \u001b[1m0s\u001b[0m 52ms/step - accuracy: 1.0000 - loss: 0.1863\n",
      "Epoch 153/200\n",
      "\u001b[1m1/1\u001b[0m \u001b[32m━━━━━━━━━━━━━━━━━━━━\u001b[0m\u001b[37m\u001b[0m \u001b[1m0s\u001b[0m 56ms/step - accuracy: 1.0000 - loss: 0.1829\n",
      "Epoch 154/200\n",
      "\u001b[1m1/1\u001b[0m \u001b[32m━━━━━━━━━━━━━━━━━━━━\u001b[0m\u001b[37m\u001b[0m \u001b[1m0s\u001b[0m 55ms/step - accuracy: 1.0000 - loss: 0.1795\n",
      "Epoch 155/200\n",
      "\u001b[1m1/1\u001b[0m \u001b[32m━━━━━━━━━━━━━━━━━━━━\u001b[0m\u001b[37m\u001b[0m \u001b[1m0s\u001b[0m 56ms/step - accuracy: 1.0000 - loss: 0.1762\n",
      "Epoch 156/200\n",
      "\u001b[1m1/1\u001b[0m \u001b[32m━━━━━━━━━━━━━━━━━━━━\u001b[0m\u001b[37m\u001b[0m \u001b[1m0s\u001b[0m 52ms/step - accuracy: 1.0000 - loss: 0.1730\n",
      "Epoch 157/200\n",
      "\u001b[1m1/1\u001b[0m \u001b[32m━━━━━━━━━━━━━━━━━━━━\u001b[0m\u001b[37m\u001b[0m \u001b[1m0s\u001b[0m 55ms/step - accuracy: 1.0000 - loss: 0.1698\n",
      "Epoch 158/200\n",
      "\u001b[1m1/1\u001b[0m \u001b[32m━━━━━━━━━━━━━━━━━━━━\u001b[0m\u001b[37m\u001b[0m \u001b[1m0s\u001b[0m 52ms/step - accuracy: 1.0000 - loss: 0.1667\n",
      "Epoch 159/200\n",
      "\u001b[1m1/1\u001b[0m \u001b[32m━━━━━━━━━━━━━━━━━━━━\u001b[0m\u001b[37m\u001b[0m \u001b[1m0s\u001b[0m 52ms/step - accuracy: 1.0000 - loss: 0.1637\n",
      "Epoch 160/200\n",
      "\u001b[1m1/1\u001b[0m \u001b[32m━━━━━━━━━━━━━━━━━━━━\u001b[0m\u001b[37m\u001b[0m \u001b[1m0s\u001b[0m 51ms/step - accuracy: 1.0000 - loss: 0.1607\n",
      "Epoch 161/200\n",
      "\u001b[1m1/1\u001b[0m \u001b[32m━━━━━━━━━━━━━━━━━━━━\u001b[0m\u001b[37m\u001b[0m \u001b[1m0s\u001b[0m 51ms/step - accuracy: 1.0000 - loss: 0.1578\n",
      "Epoch 162/200\n",
      "\u001b[1m1/1\u001b[0m \u001b[32m━━━━━━━━━━━━━━━━━━━━\u001b[0m\u001b[37m\u001b[0m \u001b[1m0s\u001b[0m 76ms/step - accuracy: 1.0000 - loss: 0.1549\n",
      "Epoch 163/200\n",
      "\u001b[1m1/1\u001b[0m \u001b[32m━━━━━━━━━━━━━━━━━━━━\u001b[0m\u001b[37m\u001b[0m \u001b[1m0s\u001b[0m 52ms/step - accuracy: 1.0000 - loss: 0.1521\n",
      "Epoch 164/200\n",
      "\u001b[1m1/1\u001b[0m \u001b[32m━━━━━━━━━━━━━━━━━━━━\u001b[0m\u001b[37m\u001b[0m \u001b[1m0s\u001b[0m 53ms/step - accuracy: 1.0000 - loss: 0.1494\n",
      "Epoch 165/200\n",
      "\u001b[1m1/1\u001b[0m \u001b[32m━━━━━━━━━━━━━━━━━━━━\u001b[0m\u001b[37m\u001b[0m \u001b[1m0s\u001b[0m 53ms/step - accuracy: 1.0000 - loss: 0.1467\n",
      "Epoch 166/200\n",
      "\u001b[1m1/1\u001b[0m \u001b[32m━━━━━━━━━━━━━━━━━━━━\u001b[0m\u001b[37m\u001b[0m \u001b[1m0s\u001b[0m 58ms/step - accuracy: 1.0000 - loss: 0.1441\n",
      "Epoch 167/200\n",
      "\u001b[1m1/1\u001b[0m \u001b[32m━━━━━━━━━━━━━━━━━━━━\u001b[0m\u001b[37m\u001b[0m \u001b[1m0s\u001b[0m 53ms/step - accuracy: 1.0000 - loss: 0.1415\n",
      "Epoch 168/200\n",
      "\u001b[1m1/1\u001b[0m \u001b[32m━━━━━━━━━━━━━━━━━━━━\u001b[0m\u001b[37m\u001b[0m \u001b[1m0s\u001b[0m 52ms/step - accuracy: 1.0000 - loss: 0.1390\n",
      "Epoch 169/200\n",
      "\u001b[1m1/1\u001b[0m \u001b[32m━━━━━━━━━━━━━━━━━━━━\u001b[0m\u001b[37m\u001b[0m \u001b[1m0s\u001b[0m 52ms/step - accuracy: 1.0000 - loss: 0.1365\n",
      "Epoch 170/200\n",
      "\u001b[1m1/1\u001b[0m \u001b[32m━━━━━━━━━━━━━━━━━━━━\u001b[0m\u001b[37m\u001b[0m \u001b[1m0s\u001b[0m 52ms/step - accuracy: 1.0000 - loss: 0.1341\n",
      "Epoch 171/200\n",
      "\u001b[1m1/1\u001b[0m \u001b[32m━━━━━━━━━━━━━━━━━━━━\u001b[0m\u001b[37m\u001b[0m \u001b[1m0s\u001b[0m 52ms/step - accuracy: 1.0000 - loss: 0.1318\n",
      "Epoch 172/200\n",
      "\u001b[1m1/1\u001b[0m \u001b[32m━━━━━━━━━━━━━━━━━━━━\u001b[0m\u001b[37m\u001b[0m \u001b[1m0s\u001b[0m 52ms/step - accuracy: 1.0000 - loss: 0.1294\n",
      "Epoch 173/200\n",
      "\u001b[1m1/1\u001b[0m \u001b[32m━━━━━━━━━━━━━━━━━━━━\u001b[0m\u001b[37m\u001b[0m \u001b[1m0s\u001b[0m 52ms/step - accuracy: 1.0000 - loss: 0.1272\n",
      "Epoch 174/200\n",
      "\u001b[1m1/1\u001b[0m \u001b[32m━━━━━━━━━━━━━━━━━━━━\u001b[0m\u001b[37m\u001b[0m \u001b[1m0s\u001b[0m 51ms/step - accuracy: 1.0000 - loss: 0.1250\n",
      "Epoch 175/200\n",
      "\u001b[1m1/1\u001b[0m \u001b[32m━━━━━━━━━━━━━━━━━━━━\u001b[0m\u001b[37m\u001b[0m \u001b[1m0s\u001b[0m 50ms/step - accuracy: 1.0000 - loss: 0.1228\n",
      "Epoch 176/200\n",
      "\u001b[1m1/1\u001b[0m \u001b[32m━━━━━━━━━━━━━━━━━━━━\u001b[0m\u001b[37m\u001b[0m \u001b[1m0s\u001b[0m 70ms/step - accuracy: 1.0000 - loss: 0.1207\n",
      "Epoch 177/200\n",
      "\u001b[1m1/1\u001b[0m \u001b[32m━━━━━━━━━━━━━━━━━━━━\u001b[0m\u001b[37m\u001b[0m \u001b[1m0s\u001b[0m 60ms/step - accuracy: 1.0000 - loss: 0.1186\n",
      "Epoch 178/200\n",
      "\u001b[1m1/1\u001b[0m \u001b[32m━━━━━━━━━━━━━━━━━━━━\u001b[0m\u001b[37m\u001b[0m \u001b[1m0s\u001b[0m 52ms/step - accuracy: 1.0000 - loss: 0.1166\n",
      "Epoch 179/200\n",
      "\u001b[1m1/1\u001b[0m \u001b[32m━━━━━━━━━━━━━━━━━━━━\u001b[0m\u001b[37m\u001b[0m \u001b[1m0s\u001b[0m 51ms/step - accuracy: 1.0000 - loss: 0.1146\n",
      "Epoch 180/200\n",
      "\u001b[1m1/1\u001b[0m \u001b[32m━━━━━━━━━━━━━━━━━━━━\u001b[0m\u001b[37m\u001b[0m \u001b[1m0s\u001b[0m 57ms/step - accuracy: 1.0000 - loss: 0.1126\n",
      "Epoch 181/200\n",
      "\u001b[1m1/1\u001b[0m \u001b[32m━━━━━━━━━━━━━━━━━━━━\u001b[0m\u001b[37m\u001b[0m \u001b[1m0s\u001b[0m 53ms/step - accuracy: 1.0000 - loss: 0.1107\n",
      "Epoch 182/200\n",
      "\u001b[1m1/1\u001b[0m \u001b[32m━━━━━━━━━━━━━━━━━━━━\u001b[0m\u001b[37m\u001b[0m \u001b[1m0s\u001b[0m 52ms/step - accuracy: 1.0000 - loss: 0.1088\n",
      "Epoch 183/200\n",
      "\u001b[1m1/1\u001b[0m \u001b[32m━━━━━━━━━━━━━━━━━━━━\u001b[0m\u001b[37m\u001b[0m \u001b[1m0s\u001b[0m 53ms/step - accuracy: 1.0000 - loss: 0.1070\n",
      "Epoch 184/200\n",
      "\u001b[1m1/1\u001b[0m \u001b[32m━━━━━━━━━━━━━━━━━━━━\u001b[0m\u001b[37m\u001b[0m \u001b[1m0s\u001b[0m 55ms/step - accuracy: 1.0000 - loss: 0.1052\n",
      "Epoch 185/200\n",
      "\u001b[1m1/1\u001b[0m \u001b[32m━━━━━━━━━━━━━━━━━━━━\u001b[0m\u001b[37m\u001b[0m \u001b[1m0s\u001b[0m 51ms/step - accuracy: 1.0000 - loss: 0.1035\n",
      "Epoch 186/200\n",
      "\u001b[1m1/1\u001b[0m \u001b[32m━━━━━━━━━━━━━━━━━━━━\u001b[0m\u001b[37m\u001b[0m \u001b[1m0s\u001b[0m 50ms/step - accuracy: 1.0000 - loss: 0.1017\n",
      "Epoch 187/200\n",
      "\u001b[1m1/1\u001b[0m \u001b[32m━━━━━━━━━━━━━━━━━━━━\u001b[0m\u001b[37m\u001b[0m \u001b[1m0s\u001b[0m 55ms/step - accuracy: 1.0000 - loss: 0.1001\n",
      "Epoch 188/200\n",
      "\u001b[1m1/1\u001b[0m \u001b[32m━━━━━━━━━━━━━━━━━━━━\u001b[0m\u001b[37m\u001b[0m \u001b[1m0s\u001b[0m 55ms/step - accuracy: 1.0000 - loss: 0.0984\n",
      "Epoch 189/200\n",
      "\u001b[1m1/1\u001b[0m \u001b[32m━━━━━━━━━━━━━━━━━━━━\u001b[0m\u001b[37m\u001b[0m \u001b[1m0s\u001b[0m 54ms/step - accuracy: 1.0000 - loss: 0.0968\n",
      "Epoch 190/200\n",
      "\u001b[1m1/1\u001b[0m \u001b[32m━━━━━━━━━━━━━━━━━━━━\u001b[0m\u001b[37m\u001b[0m \u001b[1m0s\u001b[0m 51ms/step - accuracy: 1.0000 - loss: 0.0952\n",
      "Epoch 191/200\n",
      "\u001b[1m1/1\u001b[0m \u001b[32m━━━━━━━━━━━━━━━━━━━━\u001b[0m\u001b[37m\u001b[0m \u001b[1m0s\u001b[0m 53ms/step - accuracy: 1.0000 - loss: 0.0937\n",
      "Epoch 192/200\n",
      "\u001b[1m1/1\u001b[0m \u001b[32m━━━━━━━━━━━━━━━━━━━━\u001b[0m\u001b[37m\u001b[0m \u001b[1m0s\u001b[0m 56ms/step - accuracy: 1.0000 - loss: 0.0922\n",
      "Epoch 193/200\n",
      "\u001b[1m1/1\u001b[0m \u001b[32m━━━━━━━━━━━━━━━━━━━━\u001b[0m\u001b[37m\u001b[0m \u001b[1m0s\u001b[0m 54ms/step - accuracy: 1.0000 - loss: 0.0907\n",
      "Epoch 194/200\n",
      "\u001b[1m1/1\u001b[0m \u001b[32m━━━━━━━━━━━━━━━━━━━━\u001b[0m\u001b[37m\u001b[0m \u001b[1m0s\u001b[0m 55ms/step - accuracy: 1.0000 - loss: 0.0893\n",
      "Epoch 195/200\n",
      "\u001b[1m1/1\u001b[0m \u001b[32m━━━━━━━━━━━━━━━━━━━━\u001b[0m\u001b[37m\u001b[0m \u001b[1m0s\u001b[0m 67ms/step - accuracy: 1.0000 - loss: 0.0878\n",
      "Epoch 196/200\n",
      "\u001b[1m1/1\u001b[0m \u001b[32m━━━━━━━━━━━━━━━━━━━━\u001b[0m\u001b[37m\u001b[0m \u001b[1m0s\u001b[0m 53ms/step - accuracy: 1.0000 - loss: 0.0865\n",
      "Epoch 197/200\n",
      "\u001b[1m1/1\u001b[0m \u001b[32m━━━━━━━━━━━━━━━━━━━━\u001b[0m\u001b[37m\u001b[0m \u001b[1m0s\u001b[0m 56ms/step - accuracy: 1.0000 - loss: 0.0851\n",
      "Epoch 198/200\n",
      "\u001b[1m1/1\u001b[0m \u001b[32m━━━━━━━━━━━━━━━━━━━━\u001b[0m\u001b[37m\u001b[0m \u001b[1m0s\u001b[0m 55ms/step - accuracy: 1.0000 - loss: 0.0838\n",
      "Epoch 199/200\n",
      "\u001b[1m1/1\u001b[0m \u001b[32m━━━━━━━━━━━━━━━━━━━━\u001b[0m\u001b[37m\u001b[0m \u001b[1m0s\u001b[0m 53ms/step - accuracy: 1.0000 - loss: 0.0825\n",
      "Epoch 200/200\n",
      "\u001b[1m1/1\u001b[0m \u001b[32m━━━━━━━━━━━━━━━━━━━━\u001b[0m\u001b[37m\u001b[0m \u001b[1m0s\u001b[0m 52ms/step - accuracy: 1.0000 - loss: 0.0812\n"
     ]
    }
   ],
   "source": [
    "model.add(Dense(vocab_size, activation='softmax'))      # One-Hot (단어 사전의 크기와 동일)\n",
    "\n",
    "model.compile(loss='sparse_categorical_crossentropy', optimizer='adam', metrics=['accuracy'])\n",
    "# model.compile(loss='categorical_crossentropy', optimizer='adam', metrics=['accuracy'])\n",
    "history = model.fit(X, y, epochs=200, verbose=1)"
   ]
  },
  {
   "cell_type": "code",
   "execution_count": 32,
   "metadata": {
    "colab": {
     "base_uri": "https://localhost:8080/"
    },
    "executionInfo": {
     "elapsed": 18085,
     "status": "ok",
     "timestamp": 1723709599157,
     "user": {
      "displayName": "전정호",
      "userId": "01748710418857244015"
     },
     "user_tz": -540
    },
    "id": "da3yM5cTEeNn",
    "outputId": "3b3f4bf0-7123-4efa-feca-849091001ae9"
   },
   "outputs": [
    {
     "data": {
      "text/plain": [
       "<Axes: >"
      ]
     },
     "execution_count": 32,
     "metadata": {},
     "output_type": "execute_result"
    },
    {
     "data": {
      "image/png": "[encoded data removed]",
      "text/plain": [
       "<Figure size 640x480 with 1 Axes>"
      ]
     },
     "metadata": {},
     "output_type": "display_data"
    }
   ],
   "source": [
    "import pandas as pd \n",
    "pd.DataFrame(history.history['accuracy']).plot()"
   ]
  },
  {
   "cell_type": "code",
   "execution_count": 33,
   "metadata": {},
   "outputs": [
    {
     "data": {
      "text/plain": [
       "<Axes: >"
      ]
     },
     "execution_count": 33,
     "metadata": {},
     "output_type": "execute_result"
    },
    {
     "data": {
      "image/png": "[encoded data removed]",
      "text/plain": [
       "<Figure size 640x480 with 1 Axes>"
      ]
     },
     "metadata": {},
     "output_type": "display_data"
    }
   ],
   "source": [
    "pd.DataFrame(history.history['loss']).plot()"
   ]
  },
  {
   "cell_type": "code",
   "execution_count": 36,
   "metadata": {},
   "outputs": [
    {
     "data": {
      "text/plain": [
       "{1: '말이',\n",
       " 2: '경마장에',\n",
       " 3: '있는',\n",
       " 4: '뛰고',\n",
       " 5: '있다',\n",
       " 6: '그의',\n",
       " 7: '법이다',\n",
       " 8: '가는',\n",
       " 9: '고와야',\n",
       " 10: '오는',\n",
       " 11: '곱다'}"
      ]
     },
     "execution_count": 36,
     "metadata": {},
     "output_type": "execute_result"
    }
   ],
   "source": [
    "tokenizer.index_word"
   ]
  },
  {
   "cell_type": "markdown",
   "metadata": {
    "id": "7qaCm25Qsrl1"
   },
   "source": [
    "모델이 정확하게 예측하고 있는지 문장을 생성하는 함수를 만들어서 출력해봅시다."
   ]
  },
  {
   "cell_type": "code",
   "execution_count": 42,
   "metadata": {
    "executionInfo": {
     "elapsed": 6,
     "status": "ok",
     "timestamp": 1723709599819,
     "user": {
      "displayName": "전정호",
      "userId": "01748710418857244015"
     },
     "user_tz": -540
    },
    "id": "t96dpxgNEl4v"
   },
   "outputs": [],
   "source": [
    "## 문장 생성 함수\n",
    "def sentence_generation(model, tokenizer, current_word, n): # 모델, 기학습된 토크나이저, 현재 단어, 반복할 횟수\n",
    "    init_word = current_word\n",
    "    sentence = ''\n",
    "\n",
    "    # n번 반복\n",
    "    for _ in range(n):\n",
    "        # 현재 단어에 대한 정수 인코딩과 패딩\n",
    "        encoded = tokenizer.texts_to_sequences([current_word])[0]    # 정수인코딩 \n",
    "        encoded = pad_sequences([encoded], maxlen=5, padding='pre')  # 학습데이터의 padding 5\n",
    "        \n",
    "        # 입력한 X(현재 단어)에 대해서 Y를 예측하고 Y(예측한 단어)를 result에 저장.\n",
    "        result = model.predict(encoded, verbose=0)\n",
    "        print(result.round(3))\n",
    "        result = np.argmax(result, axis=1) # 예측한 단어의 인덱스\n",
    "        print(result)\n",
    "        # 위의 코드 대체\n",
    "        word = tokenizer.index_word[result[0]] # 예측한 단어의 인덱스를 단어로 변환 (result는 list)\n",
    "\n",
    "        # 현재 단어 + ' ' + 예측 단어를 현재 단어로 변경\n",
    "        current_word = current_word + ' '  + word\n",
    "        \n",
    "        # 예측 단어를 문장에 저장\n",
    "        sentence = sentence + ' ' + word\n",
    "\n",
    "    sentence = init_word + sentence\n",
    "    return sentence"
   ]
  },
  {
   "cell_type": "markdown",
   "metadata": {
    "id": "rdA2CqklsuSh"
   },
   "source": [
    "입력된 단어로부터 다음 단어를 예측해서 문장을 생성하는 함수를 만들었습니다. '경마장에' 라는 단어 뒤에는 총 4개의 단어가 있으므로 4번 예측해봅시다."
   ]
  },
  {
   "cell_type": "code",
   "execution_count": 43,
   "metadata": {
    "colab": {
     "base_uri": "https://localhost:8080/"
    },
    "executionInfo": {
     "elapsed": 400,
     "status": "ok",
     "timestamp": 1723709600213,
     "user": {
      "displayName": "전정호",
      "userId": "01748710418857244015"
     },
     "user_tz": -540
    },
    "id": "jJjBZ6PxE0EX",
    "outputId": "7f3e6e24-bcb8-4ddd-ee8a-e0b6a6e76aea"
   },
   "outputs": [
    {
     "name": "stdout",
     "output_type": "stream",
     "text": [
      "[[0.004 0.142 0.005 0.796 0.    0.002 0.003 0.028 0.001 0.009 0.009 0.   ]]\n",
      "[3]\n",
      "[[0.001 0.982 0.001 0.008 0.    0.001 0.    0.001 0.    0.004 0.    0.   ]]\n",
      "[1]\n",
      "[[0.001 0.    0.    0.    0.95  0.002 0.001 0.023 0.001 0.004 0.003 0.013]]\n",
      "[4]\n",
      "[[0.001 0.008 0.001 0.002 0.006 0.964 0.001 0.004 0.001 0.    0.01  0.   ]]\n",
      "[5]\n",
      "[[0.03  0.51  0.047 0.055 0.003 0.127 0.035 0.003 0.032 0.149 0.    0.009]]\n",
      "[1]\n",
      "[[0.002 0.    0.003 0.001 0.014 0.001 0.009 0.013 0.004 0.003 0.028 0.922]]\n",
      "[11]\n",
      "경마장에 있는 말이 뛰고 있다 말이 곱다\n"
     ]
    }
   ],
   "source": [
    "print(sentence_generation(model, tokenizer, '경마장에', 6))   # 단어 6개 생성성"
   ]
  },
  {
   "cell_type": "code",
   "execution_count": 33,
   "metadata": {},
   "outputs": [
    {
     "data": {
      "text/plain": [
       "1376"
      ]
     },
     "execution_count": 33,
     "metadata": {},
     "output_type": "execute_result"
    }
   ],
   "source": [
    "10 * 32 + 32*32 + 32"
   ]
  },
  {
   "cell_type": "code",
   "execution_count": 30,
   "metadata": {},
   "outputs": [
    {
     "data": {
      "text/html": [
       "<pre style=\"white-space:pre;overflow-x:auto;line-height:normal;font-family:Menlo,'DejaVu Sans Mono',consolas,'Courier New',monospace\"><span style=\"font-weight: bold\">Model: \"sequential_1\"</span>\n",
       "</pre>\n"
      ],
      "text/plain": [
       "\u001b[1mModel: \"sequential_1\"\u001b[0m\n"
      ]
     },
     "metadata": {},
     "output_type": "display_data"
    },
    {
     "data": {
      "text/html": [
       "<pre style=\"white-space:pre;overflow-x:auto;line-height:normal;font-family:Menlo,'DejaVu Sans Mono',consolas,'Courier New',monospace\">┏━━━━━━━━━━━━━━━━━━━━━━━━━━━━━━━━━┳━━━━━━━━━━━━━━━━━━━━━━━━┳━━━━━━━━━━━━━━━┓\n",
       "┃<span style=\"font-weight: bold\"> Layer (type)                    </span>┃<span style=\"font-weight: bold\"> Output Shape           </span>┃<span style=\"font-weight: bold\">       Param # </span>┃\n",
       "┡━━━━━━━━━━━━━━━━━━━━━━━━━━━━━━━━━╇━━━━━━━━━━━━━━━━━━━━━━━━╇━━━━━━━━━━━━━━━┩\n",
       "│ embedding_1 (<span style=\"color: #0087ff; text-decoration-color: #0087ff\">Embedding</span>)         │ (<span style=\"color: #00d7ff; text-decoration-color: #00d7ff\">None</span>, <span style=\"color: #00af00; text-decoration-color: #00af00\">5</span>, <span style=\"color: #00af00; text-decoration-color: #00af00\">10</span>)          │           <span style=\"color: #00af00; text-decoration-color: #00af00\">120</span> │\n",
       "├─────────────────────────────────┼────────────────────────┼───────────────┤\n",
       "│ simple_rnn_1 (<span style=\"color: #0087ff; text-decoration-color: #0087ff\">SimpleRNN</span>)        │ (<span style=\"color: #00d7ff; text-decoration-color: #00d7ff\">None</span>, <span style=\"color: #00af00; text-decoration-color: #00af00\">32</span>)             │         <span style=\"color: #00af00; text-decoration-color: #00af00\">1,376</span> │\n",
       "├─────────────────────────────────┼────────────────────────┼───────────────┤\n",
       "│ dense (<span style=\"color: #0087ff; text-decoration-color: #0087ff\">Dense</span>)                   │ (<span style=\"color: #00d7ff; text-decoration-color: #00d7ff\">None</span>, <span style=\"color: #00af00; text-decoration-color: #00af00\">12</span>)             │           <span style=\"color: #00af00; text-decoration-color: #00af00\">396</span> │\n",
       "└─────────────────────────────────┴────────────────────────┴───────────────┘\n",
       "</pre>\n"
      ],
      "text/plain": [
       "┏━━━━━━━━━━━━━━━━━━━━━━━━━━━━━━━━━┳━━━━━━━━━━━━━━━━━━━━━━━━┳━━━━━━━━━━━━━━━┓\n",
       "┃\u001b[1m \u001b[0m\u001b[1mLayer (type)                   \u001b[0m\u001b[1m \u001b[0m┃\u001b[1m \u001b[0m\u001b[1mOutput Shape          \u001b[0m\u001b[1m \u001b[0m┃\u001b[1m \u001b[0m\u001b[1m      Param #\u001b[0m\u001b[1m \u001b[0m┃\n",
       "┡━━━━━━━━━━━━━━━━━━━━━━━━━━━━━━━━━╇━━━━━━━━━━━━━━━━━━━━━━━━╇━━━━━━━━━━━━━━━┩\n",
       "│ embedding_1 (\u001b[38;5;33mEmbedding\u001b[0m)         │ (\u001b[38;5;45mNone\u001b[0m, \u001b[38;5;34m5\u001b[0m, \u001b[38;5;34m10\u001b[0m)          │           \u001b[38;5;34m120\u001b[0m │\n",
       "├─────────────────────────────────┼────────────────────────┼───────────────┤\n",
       "│ simple_rnn_1 (\u001b[38;5;33mSimpleRNN\u001b[0m)        │ (\u001b[38;5;45mNone\u001b[0m, \u001b[38;5;34m32\u001b[0m)             │         \u001b[38;5;34m1,376\u001b[0m │\n",
       "├─────────────────────────────────┼────────────────────────┼───────────────┤\n",
       "│ dense (\u001b[38;5;33mDense\u001b[0m)                   │ (\u001b[38;5;45mNone\u001b[0m, \u001b[38;5;34m12\u001b[0m)             │           \u001b[38;5;34m396\u001b[0m │\n",
       "└─────────────────────────────────┴────────────────────────┴───────────────┘\n"
      ]
     },
     "metadata": {},
     "output_type": "display_data"
    },
    {
     "data": {
      "text/html": [
       "<pre style=\"white-space:pre;overflow-x:auto;line-height:normal;font-family:Menlo,'DejaVu Sans Mono',consolas,'Courier New',monospace\"><span style=\"font-weight: bold\"> Total params: </span><span style=\"color: #00af00; text-decoration-color: #00af00\">5,678</span> (22.18 KB)\n",
       "</pre>\n"
      ],
      "text/plain": [
       "\u001b[1m Total params: \u001b[0m\u001b[38;5;34m5,678\u001b[0m (22.18 KB)\n"
      ]
     },
     "metadata": {},
     "output_type": "display_data"
    },
    {
     "data": {
      "text/html": [
       "<pre style=\"white-space:pre;overflow-x:auto;line-height:normal;font-family:Menlo,'DejaVu Sans Mono',consolas,'Courier New',monospace\"><span style=\"font-weight: bold\"> Trainable params: </span><span style=\"color: #00af00; text-decoration-color: #00af00\">1,892</span> (7.39 KB)\n",
       "</pre>\n"
      ],
      "text/plain": [
       "\u001b[1m Trainable params: \u001b[0m\u001b[38;5;34m1,892\u001b[0m (7.39 KB)\n"
      ]
     },
     "metadata": {},
     "output_type": "display_data"
    },
    {
     "data": {
      "text/html": [
       "<pre style=\"white-space:pre;overflow-x:auto;line-height:normal;font-family:Menlo,'DejaVu Sans Mono',consolas,'Courier New',monospace\"><span style=\"font-weight: bold\"> Non-trainable params: </span><span style=\"color: #00af00; text-decoration-color: #00af00\">0</span> (0.00 B)\n",
       "</pre>\n"
      ],
      "text/plain": [
       "\u001b[1m Non-trainable params: \u001b[0m\u001b[38;5;34m0\u001b[0m (0.00 B)\n"
      ]
     },
     "metadata": {},
     "output_type": "display_data"
    },
    {
     "data": {
      "text/html": [
       "<pre style=\"white-space:pre;overflow-x:auto;line-height:normal;font-family:Menlo,'DejaVu Sans Mono',consolas,'Courier New',monospace\"><span style=\"font-weight: bold\"> Optimizer params: </span><span style=\"color: #00af00; text-decoration-color: #00af00\">3,786</span> (14.79 KB)\n",
       "</pre>\n"
      ],
      "text/plain": [
       "\u001b[1m Optimizer params: \u001b[0m\u001b[38;5;34m3,786\u001b[0m (14.79 KB)\n"
      ]
     },
     "metadata": {},
     "output_type": "display_data"
    }
   ],
   "source": [
    "model.summary()"
   ]
  },
  {
   "cell_type": "code",
   "execution_count": 44,
   "metadata": {},
   "outputs": [
    {
     "data": {
      "text/plain": [
       "[2]"
      ]
     },
     "execution_count": 44,
     "metadata": {},
     "output_type": "execute_result"
    }
   ],
   "source": [
    "sentence = ''\n",
    "current_word= '경마장에'\n",
    "init_word = current_word\n",
    "\n",
    "## 학습시 만든 tokenizer로 정수 인코딩 실시\n",
    "encoded = tokenizer.texts_to_sequences([current_word])[0]\n",
    "encoded"
   ]
  },
  {
   "cell_type": "code",
   "execution_count": 46,
   "metadata": {},
   "outputs": [
    {
     "data": {
      "text/plain": [
       "array([[0, 0, 0, 0, 2]])"
      ]
     },
     "execution_count": 46,
     "metadata": {},
     "output_type": "execute_result"
    }
   ],
   "source": [
    "## 패딩\n",
    "encoded = pad_sequences([encoded], maxlen=5, padding='pre')\n",
    "encoded  # ' 경마장에'를 원핫인코딩한 단어 -> 문장 차원으로 (2차원 X 데이터)"
   ]
  },
  {
   "cell_type": "code",
   "execution_count": 47,
   "metadata": {},
   "outputs": [
    {
     "name": "stdout",
     "output_type": "stream",
     "text": [
      "\u001b[1m1/1\u001b[0m \u001b[32m━━━━━━━━━━━━━━━━━━━━\u001b[0m\u001b[37m\u001b[0m \u001b[1m0s\u001b[0m 37ms/step\n"
     ]
    },
    {
     "data": {
      "text/plain": [
       "((1, 12),\n",
       " array([[0.004, 0.142, 0.005, 0.796, 0.   , 0.002, 0.003, 0.028, 0.001,\n",
       "         0.009, 0.009, 0.   ]], dtype=float32))"
      ]
     },
     "execution_count": 47,
     "metadata": {},
     "output_type": "execute_result"
    }
   ],
   "source": [
    "# 입력한 X(현재 단어)에 대해서 Y를 예측하고 Y(예측한 단어)를 result에 저장.\n",
    "result = model.predict(encoded, verbose=1)\n",
    "result.shape, result.round(3)   # 다음에 나올 단어 (예측)  : 단어사전 크기 12"
   ]
  },
  {
   "cell_type": "code",
   "execution_count": 48,
   "metadata": {},
   "outputs": [
    {
     "data": {
      "text/plain": [
       "array([3], dtype=int64)"
      ]
     },
     "execution_count": 48,
     "metadata": {},
     "output_type": "execute_result"
    }
   ],
   "source": [
    "result = np.argmax(result, axis=1)\n",
    "result"
   ]
  },
  {
   "cell_type": "code",
   "execution_count": 49,
   "metadata": {},
   "outputs": [
    {
     "data": {
      "text/plain": [
       "{1: '말이',\n",
       " 2: '경마장에',\n",
       " 3: '있는',\n",
       " 4: '뛰고',\n",
       " 5: '있다',\n",
       " 6: '그의',\n",
       " 7: '법이다',\n",
       " 8: '가는',\n",
       " 9: '고와야',\n",
       " 10: '오는',\n",
       " 11: '곱다'}"
      ]
     },
     "execution_count": 49,
     "metadata": {},
     "output_type": "execute_result"
    }
   ],
   "source": [
    "tokenizer.index_word"
   ]
  },
  {
   "cell_type": "code",
   "execution_count": 50,
   "metadata": {},
   "outputs": [
    {
     "data": {
      "text/plain": [
       "'있는'"
      ]
     },
     "execution_count": 50,
     "metadata": {},
     "output_type": "execute_result"
    }
   ],
   "source": [
    "tokenizer.index_word[result[0]]"
   ]
  },
  {
   "cell_type": "code",
   "execution_count": 51,
   "metadata": {
    "colab": {
     "base_uri": "https://localhost:8080/"
    },
    "executionInfo": {
     "elapsed": 4,
     "status": "ok",
     "timestamp": 1723709600213,
     "user": {
      "displayName": "전정호",
      "userId": "01748710418857244015"
     },
     "user_tz": -540
    },
    "id": "AOfI9YuUFVv2",
    "outputId": "36d2212b-db61-49d9-f0b3-fd8200904ccf"
   },
   "outputs": [
    {
     "data": {
      "text/plain": [
       "'경마장에 있는'"
      ]
     },
     "execution_count": 51,
     "metadata": {},
     "output_type": "execute_result"
    }
   ],
   "source": [
    "for word, index in tokenizer.word_index.items():\n",
    "    # 만약 예측한 단어의 인덱스와 동일한 단어가 있다면 break\n",
    "    if index == result:\n",
    "        break\n",
    "\n",
    "# 현재 단어 + ' ' + 예측 단어를 현재 단어로 변경\n",
    "current_word = current_word + ' '  + word\n",
    "current_word"
   ]
  },
  {
   "cell_type": "code",
   "execution_count": 42,
   "metadata": {
    "colab": {
     "base_uri": "https://localhost:8080/"
    },
    "executionInfo": {
     "elapsed": 449,
     "status": "ok",
     "timestamp": 1723709600661,
     "user": {
      "displayName": "전정호",
      "userId": "01748710418857244015"
     },
     "user_tz": -540
    },
    "id": "Gl9zEMmzFh9u",
    "outputId": "24572b20-a897-40bf-ebe5-c25e60b5d9f0"
   },
   "outputs": [
    {
     "data": {
      "text/plain": [
       "' 있는'"
      ]
     },
     "execution_count": 42,
     "metadata": {},
     "output_type": "execute_result"
    }
   ],
   "source": [
    "# 예측 단어를 문장에 저장\n",
    "sentence = sentence + ' ' + word\n",
    "sentence"
   ]
  },
  {
   "cell_type": "code",
   "execution_count": 43,
   "metadata": {
    "colab": {
     "base_uri": "https://localhost:8080/"
    },
    "executionInfo": {
     "elapsed": 467,
     "status": "ok",
     "timestamp": 1723709601126,
     "user": {
      "displayName": "전정호",
      "userId": "01748710418857244015"
     },
     "user_tz": -540
    },
    "id": "PRw5TTRsXyG3",
    "outputId": "c004e3a9-fa05-4238-dcd6-e2c0555a1a51"
   },
   "outputs": [
    {
     "data": {
      "text/plain": [
       "'경마장에 있는'"
      ]
     },
     "execution_count": 43,
     "metadata": {},
     "output_type": "execute_result"
    }
   ],
   "source": [
    "sentence = init_word + sentence\n",
    "sentence"
   ]
  },
  {
   "cell_type": "code",
   "execution_count": 45,
   "metadata": {},
   "outputs": [
    {
     "name": "stdout",
     "output_type": "stream",
     "text": [
      "[1]\n",
      "[7]\n",
      "[1]\n",
      "[4]\n",
      "[5]\n",
      "그의 말이 법이다 말이 뛰고 있다\n"
     ]
    }
   ],
   "source": [
    "print(sentence_generation(model, tokenizer, '그의', 5))"
   ]
  },
  {
   "cell_type": "code",
   "execution_count": 46,
   "metadata": {},
   "outputs": [
    {
     "name": "stdout",
     "output_type": "stream",
     "text": [
      "[1]\n",
      "[9]\n",
      "[10]\n",
      "[1]\n",
      "[11]\n",
      "[10]\n",
      "[1]\n",
      "[11]\n",
      "[10]\n",
      "[1]\n",
      "가는 말이 고와야 오는 말이 곱다 오는 말이 곱다 오는 말이\n"
     ]
    }
   ],
   "source": [
    "print(sentence_generation(model, tokenizer, '가는', 10))"
   ]
  },
  {
   "cell_type": "markdown",
   "metadata": {
    "id": "KEuyoZ50sxMH"
   },
   "source": [
    "앞의 문맥을 기준으로 '말이' 라는 단어 다음에 나올 단어를 기존의 훈련 데이터와 일치하게 예측함을 보여줍니다. 이 모델은 충분한 훈련 데이터를 갖고 있지 못하므로 위에서 문장의 길이에 맞게 적절하게 예측해야하는 횟수 4, 2, 5를 각각 인자값으로 주었습니다. 이 이상의 숫자를 주면 기계는 '있다', '법이다', '곱다' 다음에 나오는 단어가 무엇인지 배운 적이 없으므로 임의 예측을 합니다. 이번에는 더 많은 훈련 데이터를 가지고 실습해봅시다."
   ]
  },
  {
   "cell_type": "markdown",
   "metadata": {
    "id": "jJtAdaMtGn6T"
   },
   "source": [
    "### **2. LSTM을 이용하여 텍스트 생성하기**"
   ]
  },
  {
   "cell_type": "markdown",
   "metadata": {
    "id": "36hTIZ9vs1NZ"
   },
   "source": [
    "이번에는 LSTM을 통해 보다 많은 데이터로 텍스트를 생성해보겠습니다. 본질적으로 앞에서 한 것과 동일한 실습입니다."
   ]
  },
  {
   "cell_type": "markdown",
   "metadata": {
    "id": "ewHFfnNqs3NN"
   },
   "source": [
    "#### **1) 데이터에 대한 이해와 전처리**\n",
    "사용할 데이터는 뉴욕 타임즈 기사의 제목입니다. 아래의 링크에서 ArticlesApril2018.csv 데이터를 다운로드 합니다.\n",
    "\n",
    "파일 다운로드 링크 : https://www.kaggle.com/aashita/nyt-comments"
   ]
  },
  {
   "cell_type": "code",
   "execution_count": 1,
   "metadata": {
    "executionInfo": {
     "elapsed": 3,
     "status": "ok",
     "timestamp": 1723709601126,
     "user": {
      "displayName": "전정호",
      "userId": "01748710418857244015"
     },
     "user_tz": -540
    },
    "id": "wCIJkMG5Go1f"
   },
   "outputs": [],
   "source": [
    "import pandas as pd\n",
    "import numpy as np\n",
    "from string import punctuation\n",
    "\n",
    "from tensorflow.keras.preprocessing.text import Tokenizer\n",
    "from tensorflow.keras.preprocessing.sequence import pad_sequences\n",
    "from tensorflow.keras.utils import to_categorical"
   ]
  },
  {
   "cell_type": "markdown",
   "metadata": {
    "id": "GSE0dmzps76F"
   },
   "source": [
    "다운로드한 훈련 데이터를 데이터프레임에 저장합니다."
   ]
  },
  {
   "cell_type": "code",
   "execution_count": 2,
   "metadata": {
    "colab": {
     "base_uri": "https://localhost:8080/",
     "height": 385
    },
    "executionInfo": {
     "elapsed": 582,
     "status": "error",
     "timestamp": 1723709702006,
     "user": {
      "displayName": "전정호",
      "userId": "01748710418857244015"
     },
     "user_tz": -540
    },
    "id": "BhA4cyOgGrTP",
    "outputId": "2ee6b685-b408-4c39-a54e-8abd3c8cc4fb"
   },
   "outputs": [
    {
     "data": {
      "text/html": [
       "<div>\n",
       "<style scoped>\n",
       "    .dataframe tbody tr th:only-of-type {\n",
       "        vertical-align: middle;\n",
       "    }\n",
       "\n",
       "    .dataframe tbody tr th {\n",
       "        vertical-align: top;\n",
       "    }\n",
       "\n",
       "    .dataframe thead th {\n",
       "        text-align: right;\n",
       "    }\n",
       "</style>\n",
       "<table border=\"1\" class=\"dataframe\">\n",
       "  <thead>\n",
       "    <tr style=\"text-align: right;\">\n",
       "      <th></th>\n",
       "      <th>articleID</th>\n",
       "      <th>articleWordCount</th>\n",
       "      <th>byline</th>\n",
       "      <th>documentType</th>\n",
       "      <th>headline</th>\n",
       "      <th>keywords</th>\n",
       "      <th>multimedia</th>\n",
       "      <th>newDesk</th>\n",
       "      <th>printPage</th>\n",
       "      <th>pubDate</th>\n",
       "      <th>sectionName</th>\n",
       "      <th>snippet</th>\n",
       "      <th>source</th>\n",
       "      <th>typeOfMaterial</th>\n",
       "      <th>webURL</th>\n",
       "    </tr>\n",
       "  </thead>\n",
       "  <tbody>\n",
       "    <tr>\n",
       "      <th>0</th>\n",
       "      <td>5adf6684068401528a2aa69b</td>\n",
       "      <td>781</td>\n",
       "      <td>By JOHN BRANCH</td>\n",
       "      <td>article</td>\n",
       "      <td>Former N.F.L. Cheerleaders’ Settlement Offer: ...</td>\n",
       "      <td>['Workplace Hazards and Violations', 'Football...</td>\n",
       "      <td>68</td>\n",
       "      <td>Sports</td>\n",
       "      <td>0</td>\n",
       "      <td>2018-04-24 17:16:49</td>\n",
       "      <td>Pro Football</td>\n",
       "      <td>“I understand that they could meet with us, pa...</td>\n",
       "      <td>The New York Times</td>\n",
       "      <td>News</td>\n",
       "      <td>https://www.nytimes.com/2018/04/24/sports/foot...</td>\n",
       "    </tr>\n",
       "    <tr>\n",
       "      <th>1</th>\n",
       "      <td>5adf653f068401528a2aa697</td>\n",
       "      <td>656</td>\n",
       "      <td>By LISA FRIEDMAN</td>\n",
       "      <td>article</td>\n",
       "      <td>E.P.A. to Unveil a New Rule. Its Effect: Less ...</td>\n",
       "      <td>['Environmental Protection Agency', 'Pruitt, S...</td>\n",
       "      <td>68</td>\n",
       "      <td>Climate</td>\n",
       "      <td>0</td>\n",
       "      <td>2018-04-24 17:11:21</td>\n",
       "      <td>Unknown</td>\n",
       "      <td>The agency plans to publish a new regulation T...</td>\n",
       "      <td>The New York Times</td>\n",
       "      <td>News</td>\n",
       "      <td>https://www.nytimes.com/2018/04/24/climate/epa...</td>\n",
       "    </tr>\n",
       "    <tr>\n",
       "      <th>2</th>\n",
       "      <td>5adf4626068401528a2aa628</td>\n",
       "      <td>2427</td>\n",
       "      <td>By PETE WELLS</td>\n",
       "      <td>article</td>\n",
       "      <td>The New Noma, Explained</td>\n",
       "      <td>['Restaurants', 'Noma (Copenhagen, Restaurant)...</td>\n",
       "      <td>66</td>\n",
       "      <td>Dining</td>\n",
       "      <td>0</td>\n",
       "      <td>2018-04-24 14:58:44</td>\n",
       "      <td>Unknown</td>\n",
       "      <td>What’s it like to eat at the second incarnatio...</td>\n",
       "      <td>The New York Times</td>\n",
       "      <td>News</td>\n",
       "      <td>https://www.nytimes.com/2018/04/24/dining/noma...</td>\n",
       "    </tr>\n",
       "    <tr>\n",
       "      <th>3</th>\n",
       "      <td>5adf40d2068401528a2aa619</td>\n",
       "      <td>626</td>\n",
       "      <td>By JULIE HIRSCHFELD DAVIS and PETER BAKER</td>\n",
       "      <td>article</td>\n",
       "      <td>Unknown</td>\n",
       "      <td>['Macron, Emmanuel (1977- )', 'Trump, Donald J...</td>\n",
       "      <td>68</td>\n",
       "      <td>Washington</td>\n",
       "      <td>0</td>\n",
       "      <td>2018-04-24 14:35:57</td>\n",
       "      <td>Europe</td>\n",
       "      <td>President Trump welcomed President Emmanuel Ma...</td>\n",
       "      <td>The New York Times</td>\n",
       "      <td>News</td>\n",
       "      <td>https://www.nytimes.com/2018/04/24/world/europ...</td>\n",
       "    </tr>\n",
       "    <tr>\n",
       "      <th>4</th>\n",
       "      <td>5adf3d64068401528a2aa60f</td>\n",
       "      <td>815</td>\n",
       "      <td>By IAN AUSTEN and DAN BILEFSKY</td>\n",
       "      <td>article</td>\n",
       "      <td>Unknown</td>\n",
       "      <td>['Toronto, Ontario, Attack (April, 2018)', 'Mu...</td>\n",
       "      <td>68</td>\n",
       "      <td>Foreign</td>\n",
       "      <td>0</td>\n",
       "      <td>2018-04-24 14:21:21</td>\n",
       "      <td>Canada</td>\n",
       "      <td>Alek Minassian, 25, a resident of Toronto’s Ri...</td>\n",
       "      <td>The New York Times</td>\n",
       "      <td>News</td>\n",
       "      <td>https://www.nytimes.com/2018/04/24/world/canad...</td>\n",
       "    </tr>\n",
       "    <tr>\n",
       "      <th>...</th>\n",
       "      <td>...</td>\n",
       "      <td>...</td>\n",
       "      <td>...</td>\n",
       "      <td>...</td>\n",
       "      <td>...</td>\n",
       "      <td>...</td>\n",
       "      <td>...</td>\n",
       "      <td>...</td>\n",
       "      <td>...</td>\n",
       "      <td>...</td>\n",
       "      <td>...</td>\n",
       "      <td>...</td>\n",
       "      <td>...</td>\n",
       "      <td>...</td>\n",
       "      <td>...</td>\n",
       "    </tr>\n",
       "    <tr>\n",
       "      <th>1319</th>\n",
       "      <td>5ae82c93068401528a2ab969</td>\n",
       "      <td>1004</td>\n",
       "      <td>By CLAIRE CAIN MILLER</td>\n",
       "      <td>article</td>\n",
       "      <td>This Common Question Reinforces the Gender Pay...</td>\n",
       "      <td>['Discrimination', 'Wages and Salaries', 'Labo...</td>\n",
       "      <td>68</td>\n",
       "      <td>Upshot</td>\n",
       "      <td>3</td>\n",
       "      <td>2018-05-01 09:00:01</td>\n",
       "      <td>Unknown</td>\n",
       "      <td>Several states and cities have ordered employe...</td>\n",
       "      <td>The New York Times</td>\n",
       "      <td>News</td>\n",
       "      <td>https://www.nytimes.com/2018/05/01/upshot/how-...</td>\n",
       "    </tr>\n",
       "    <tr>\n",
       "      <th>1320</th>\n",
       "      <td>5ae82c95068401528a2ab96b</td>\n",
       "      <td>1043</td>\n",
       "      <td>By TRACY J. GATES</td>\n",
       "      <td>article</td>\n",
       "      <td>Anna, Llama and Me</td>\n",
       "      <td>['Friendship', 'Dewdney, Anna', 'Writing and W...</td>\n",
       "      <td>65</td>\n",
       "      <td>Well</td>\n",
       "      <td>0</td>\n",
       "      <td>2018-05-01 09:00:02</td>\n",
       "      <td>Family</td>\n",
       "      <td>The beginning, middle and end of a picture boo...</td>\n",
       "      <td>The New York Times</td>\n",
       "      <td>News</td>\n",
       "      <td>https://www.nytimes.com/2018/05/01/well/family...</td>\n",
       "    </tr>\n",
       "    <tr>\n",
       "      <th>1321</th>\n",
       "      <td>5ae82c9d068401528a2ab96d</td>\n",
       "      <td>659</td>\n",
       "      <td>Interview by AUDIE CORNISH</td>\n",
       "      <td>article</td>\n",
       "      <td>Gen. Michael Hayden Has One Regret: Russia</td>\n",
       "      <td>['Classified Information and State Secrets', '...</td>\n",
       "      <td>66</td>\n",
       "      <td>Magazine</td>\n",
       "      <td>70</td>\n",
       "      <td>2018-05-01 09:00:06</td>\n",
       "      <td>Unknown</td>\n",
       "      <td>The former N.S.A. and C.I.A. chief on Trump, S...</td>\n",
       "      <td>The New York Times</td>\n",
       "      <td>News</td>\n",
       "      <td>https://www.nytimes.com/2018/05/01/magazine/ge...</td>\n",
       "    </tr>\n",
       "    <tr>\n",
       "      <th>1322</th>\n",
       "      <td>5ae82c9f068401528a2ab96f</td>\n",
       "      <td>1155</td>\n",
       "      <td>By JASON ROBERT BROWN</td>\n",
       "      <td>article</td>\n",
       "      <td>There Is Nothin’ Like a Tune</td>\n",
       "      <td>['Books and Literature', 'Purdum, Todd S', 'Th...</td>\n",
       "      <td>68</td>\n",
       "      <td>BookReview</td>\n",
       "      <td>17</td>\n",
       "      <td>2018-05-01 09:00:07</td>\n",
       "      <td>Book Review</td>\n",
       "      <td>In “Something Wonderful,” Todd S. Purdum analy...</td>\n",
       "      <td>The New York Times</td>\n",
       "      <td>Review</td>\n",
       "      <td>https://www.nytimes.com/2018/05/01/books/revie...</td>\n",
       "    </tr>\n",
       "    <tr>\n",
       "      <th>1323</th>\n",
       "      <td>5ae82ca3068401528a2ab97a</td>\n",
       "      <td>2055</td>\n",
       "      <td>By MICHAEL PAULSON</td>\n",
       "      <td>article</td>\n",
       "      <td>Unknown</td>\n",
       "      <td>['Theater', 'Tony Awards (Theater Awards)', 'A...</td>\n",
       "      <td>68</td>\n",
       "      <td>Culture</td>\n",
       "      <td>0</td>\n",
       "      <td>2018-05-01 09:00:09</td>\n",
       "      <td>Unknown</td>\n",
       "      <td>A pair of two-part productions, “Harry Potter ...</td>\n",
       "      <td>The New York Times</td>\n",
       "      <td>News</td>\n",
       "      <td>https://www.nytimes.com/2018/05/01/theater/ton...</td>\n",
       "    </tr>\n",
       "  </tbody>\n",
       "</table>\n",
       "<p>1324 rows × 15 columns</p>\n",
       "</div>"
      ],
      "text/plain": [
       "                     articleID  articleWordCount  \\\n",
       "0     5adf6684068401528a2aa69b               781   \n",
       "1     5adf653f068401528a2aa697               656   \n",
       "2     5adf4626068401528a2aa628              2427   \n",
       "3     5adf40d2068401528a2aa619               626   \n",
       "4     5adf3d64068401528a2aa60f               815   \n",
       "...                        ...               ...   \n",
       "1319  5ae82c93068401528a2ab969              1004   \n",
       "1320  5ae82c95068401528a2ab96b              1043   \n",
       "1321  5ae82c9d068401528a2ab96d               659   \n",
       "1322  5ae82c9f068401528a2ab96f              1155   \n",
       "1323  5ae82ca3068401528a2ab97a              2055   \n",
       "\n",
       "                                         byline documentType  \\\n",
       "0                                By JOHN BRANCH      article   \n",
       "1                              By LISA FRIEDMAN      article   \n",
       "2                                 By PETE WELLS      article   \n",
       "3     By JULIE HIRSCHFELD DAVIS and PETER BAKER      article   \n",
       "4                By IAN AUSTEN and DAN BILEFSKY      article   \n",
       "...                                         ...          ...   \n",
       "1319                      By CLAIRE CAIN MILLER      article   \n",
       "1320                          By TRACY J. GATES      article   \n",
       "1321                 Interview by AUDIE CORNISH      article   \n",
       "1322                      By JASON ROBERT BROWN      article   \n",
       "1323                         By MICHAEL PAULSON      article   \n",
       "\n",
       "                                               headline  \\\n",
       "0     Former N.F.L. Cheerleaders’ Settlement Offer: ...   \n",
       "1     E.P.A. to Unveil a New Rule. Its Effect: Less ...   \n",
       "2                               The New Noma, Explained   \n",
       "3                                               Unknown   \n",
       "4                                               Unknown   \n",
       "...                                                 ...   \n",
       "1319  This Common Question Reinforces the Gender Pay...   \n",
       "1320                                 Anna, Llama and Me   \n",
       "1321         Gen. Michael Hayden Has One Regret: Russia   \n",
       "1322                       There Is Nothin’ Like a Tune   \n",
       "1323                                            Unknown   \n",
       "\n",
       "                                               keywords  multimedia  \\\n",
       "0     ['Workplace Hazards and Violations', 'Football...          68   \n",
       "1     ['Environmental Protection Agency', 'Pruitt, S...          68   \n",
       "2     ['Restaurants', 'Noma (Copenhagen, Restaurant)...          66   \n",
       "3     ['Macron, Emmanuel (1977- )', 'Trump, Donald J...          68   \n",
       "4     ['Toronto, Ontario, Attack (April, 2018)', 'Mu...          68   \n",
       "...                                                 ...         ...   \n",
       "1319  ['Discrimination', 'Wages and Salaries', 'Labo...          68   \n",
       "1320  ['Friendship', 'Dewdney, Anna', 'Writing and W...          65   \n",
       "1321  ['Classified Information and State Secrets', '...          66   \n",
       "1322  ['Books and Literature', 'Purdum, Todd S', 'Th...          68   \n",
       "1323  ['Theater', 'Tony Awards (Theater Awards)', 'A...          68   \n",
       "\n",
       "         newDesk  printPage              pubDate   sectionName  \\\n",
       "0         Sports          0  2018-04-24 17:16:49  Pro Football   \n",
       "1        Climate          0  2018-04-24 17:11:21       Unknown   \n",
       "2         Dining          0  2018-04-24 14:58:44       Unknown   \n",
       "3     Washington          0  2018-04-24 14:35:57        Europe   \n",
       "4        Foreign          0  2018-04-24 14:21:21        Canada   \n",
       "...          ...        ...                  ...           ...   \n",
       "1319      Upshot          3  2018-05-01 09:00:01       Unknown   \n",
       "1320        Well          0  2018-05-01 09:00:02        Family   \n",
       "1321    Magazine         70  2018-05-01 09:00:06       Unknown   \n",
       "1322  BookReview         17  2018-05-01 09:00:07   Book Review   \n",
       "1323     Culture          0  2018-05-01 09:00:09       Unknown   \n",
       "\n",
       "                                                snippet              source  \\\n",
       "0     “I understand that they could meet with us, pa...  The New York Times   \n",
       "1     The agency plans to publish a new regulation T...  The New York Times   \n",
       "2     What’s it like to eat at the second incarnatio...  The New York Times   \n",
       "3     President Trump welcomed President Emmanuel Ma...  The New York Times   \n",
       "4     Alek Minassian, 25, a resident of Toronto’s Ri...  The New York Times   \n",
       "...                                                 ...                 ...   \n",
       "1319  Several states and cities have ordered employe...  The New York Times   \n",
       "1320  The beginning, middle and end of a picture boo...  The New York Times   \n",
       "1321  The former N.S.A. and C.I.A. chief on Trump, S...  The New York Times   \n",
       "1322  In “Something Wonderful,” Todd S. Purdum analy...  The New York Times   \n",
       "1323  A pair of two-part productions, “Harry Potter ...  The New York Times   \n",
       "\n",
       "     typeOfMaterial                                             webURL  \n",
       "0              News  https://www.nytimes.com/2018/04/24/sports/foot...  \n",
       "1              News  https://www.nytimes.com/2018/04/24/climate/epa...  \n",
       "2              News  https://www.nytimes.com/2018/04/24/dining/noma...  \n",
       "3              News  https://www.nytimes.com/2018/04/24/world/europ...  \n",
       "4              News  https://www.nytimes.com/2018/04/24/world/canad...  \n",
       "...             ...                                                ...  \n",
       "1319           News  https://www.nytimes.com/2018/05/01/upshot/how-...  \n",
       "1320           News  https://www.nytimes.com/2018/05/01/well/family...  \n",
       "1321           News  https://www.nytimes.com/2018/05/01/magazine/ge...  \n",
       "1322         Review  https://www.nytimes.com/2018/05/01/books/revie...  \n",
       "1323           News  https://www.nytimes.com/2018/05/01/theater/ton...  \n",
       "\n",
       "[1324 rows x 15 columns]"
      ]
     },
     "execution_count": 2,
     "metadata": {},
     "output_type": "execute_result"
    }
   ],
   "source": [
    "df = pd.read_csv('dataset/ArticlesApril2018.csv')\n",
    "df"
   ]
  },
  {
   "cell_type": "markdown",
   "metadata": {
    "id": "bwBc2n3qtC5R"
   },
   "source": [
    "열의 개수가 굉장히 많기 때문에 한 눈에 보기 어렵습니다. 어떤 열이 있고, 열이 총 몇 개가 있는지 출력해봅시다."
   ]
  },
  {
   "cell_type": "code",
   "execution_count": 56,
   "metadata": {
    "executionInfo": {
     "elapsed": 11,
     "status": "aborted",
     "timestamp": 1723709601568,
     "user": {
      "displayName": "전정호",
      "userId": "01748710418857244015"
     },
     "user_tz": -540
    },
    "id": "zMugfN6GGtNH"
   },
   "outputs": [
    {
     "name": "stdout",
     "output_type": "stream",
     "text": [
      "열의 개수:  15\n"
     ]
    },
    {
     "data": {
      "text/plain": [
       "Index(['articleID', 'articleWordCount', 'byline', 'documentType', 'headline',\n",
       "       'keywords', 'multimedia', 'newDesk', 'printPage', 'pubDate',\n",
       "       'sectionName', 'snippet', 'source', 'typeOfMaterial', 'webURL'],\n",
       "      dtype='object')"
      ]
     },
     "execution_count": 56,
     "metadata": {},
     "output_type": "execute_result"
    }
   ],
   "source": [
    "print('열의 개수: ', len(df.columns))\n",
    "df.columns"
   ]
  },
  {
   "cell_type": "markdown",
   "metadata": {
    "id": "WMQvgwvptJaB"
   },
   "source": [
    "총 15개의 열이 존재합니다. 여기서 사용할 열은 제목에 해당되는 headline 열입니다. Null 값이 있는지 확인해봅시다."
   ]
  },
  {
   "cell_type": "code",
   "execution_count": 57,
   "metadata": {
    "executionInfo": {
     "elapsed": 11,
     "status": "aborted",
     "timestamp": 1723709601568,
     "user": {
      "displayName": "전정호",
      "userId": "01748710418857244015"
     },
     "user_tz": -540
    },
    "id": "RNK4ABDtGyMH"
   },
   "outputs": [
    {
     "data": {
      "text/plain": [
       "False"
      ]
     },
     "execution_count": 57,
     "metadata": {},
     "output_type": "execute_result"
    }
   ],
   "source": [
    "df['headline'].isnull().values.any()   # Null 없음"
   ]
  },
  {
   "cell_type": "markdown",
   "metadata": {
    "id": "RXZvTdWbtVTX"
   },
   "source": [
    "Null 값은 별도로 없는 것으로 보입니다. headline 열에서 모든 신문 기사의 제목을 뽑아서 하나의 리스트로 저장해보도록 하겠습니다."
   ]
  },
  {
   "cell_type": "code",
   "execution_count": 58,
   "metadata": {
    "executionInfo": {
     "elapsed": 11,
     "status": "aborted",
     "timestamp": 1723709601568,
     "user": {
      "displayName": "전정호",
      "userId": "01748710418857244015"
     },
     "user_tz": -540
    },
    "id": "EGeLDG7EGz7P"
   },
   "outputs": [
    {
     "data": {
      "text/plain": [
       "((1324,),\n",
       " array(['Former N.F.L. Cheerleaders’ Settlement Offer: $1 and a Meeting With Goodell',\n",
       "        'E.P.A. to Unveil a New Rule. Its Effect: Less Science in Policymaking.',\n",
       "        'The New Noma, Explained', 'Unknown', 'Unknown'], dtype=object))"
      ]
     },
     "execution_count": 58,
     "metadata": {},
     "output_type": "execute_result"
    }
   ],
   "source": [
    "headline = df.headline.values\n",
    "headline.shape, headline[:5]"
   ]
  },
  {
   "cell_type": "markdown",
   "metadata": {
    "id": "XV86IeCDtaP8"
   },
   "source": [
    "headline이라는 리스트에 모든 신문 기사의 제목을 저장했습니다. 저장한 리스트에서 상위 5개만 출력해보았습니다."
   ]
  },
  {
   "cell_type": "markdown",
   "metadata": {
    "id": "EfhSP9ggtdx1"
   },
   "source": [
    "네번째와 다섯 번째 샘플에 Unknown 값이 들어가있습니다. headline 전체에 걸쳐서 Unknown 값을 가진 샘플이 있을 것으로 추정됩니다. 비록 Null 값은 아니지만 실습에 도움이 되지 않는 노이즈 데이터이므로 제거해줄 필요가 있습니다. 제거하기 전에 현재 샘플의 개수를 확인해보고 제거 전, 후의 샘플의 개수를 비교해봅시다."
   ]
  },
  {
   "cell_type": "code",
   "execution_count": 59,
   "metadata": {
    "executionInfo": {
     "elapsed": 10,
     "status": "aborted",
     "timestamp": 1723709601568,
     "user": {
      "displayName": "전정호",
      "userId": "01748710418857244015"
     },
     "user_tz": -540
    },
    "id": "379FN70HG2XX"
   },
   "outputs": [
    {
     "name": "stdout",
     "output_type": "stream",
     "text": [
      "총 샘플의 개수 : 1324\n"
     ]
    }
   ],
   "source": [
    "print('총 샘플의 개수 : {}'.format(len(headline))) # 현재 샘플의 개수"
   ]
  },
  {
   "cell_type": "markdown",
   "metadata": {
    "id": "1crUysmCtgWq"
   },
   "source": [
    "노이즈 데이터를 제거하기 전 신문 기사의 제목 샘플은 총 1,324개입니다. Unknown 값을 가진 샘플을 제거합니다."
   ]
  },
  {
   "cell_type": "code",
   "execution_count": 60,
   "metadata": {
    "executionInfo": {
     "elapsed": 10,
     "status": "aborted",
     "timestamp": 1723709601568,
     "user": {
      "displayName": "전정호",
      "userId": "01748710418857244015"
     },
     "user_tz": -540
    },
    "id": "zy8-4-AyG9Hv"
   },
   "outputs": [
    {
     "name": "stdout",
     "output_type": "stream",
     "text": [
      "노이즈값 제거 후 샘플의 개수 : 1214\n"
     ]
    }
   ],
   "source": [
    " # Unknown 값을 가진 샘플 제거\n",
    "headline = [word for word in headline if word != \"Unknown\"]\n",
    "print('노이즈값 제거 후 샘플의 개수 : {}'.format(len(headline)))"
   ]
  },
  {
   "cell_type": "markdown",
   "metadata": {
    "id": "XRuHkUprt2iu"
   },
   "source": [
    "샘플의 수가 1,324에서 1,214로 110개의 샘플이 제거되었는데 기존에 출력했던 5개의 샘플을 출력해봅시다."
   ]
  },
  {
   "cell_type": "code",
   "execution_count": 62,
   "metadata": {
    "executionInfo": {
     "elapsed": 10,
     "status": "aborted",
     "timestamp": 1723709601568,
     "user": {
      "displayName": "전정호",
      "userId": "01748710418857244015"
     },
     "user_tz": -540
    },
    "id": "Ba1H7Kitt-G-"
   },
   "outputs": [
    {
     "data": {
      "text/plain": [
       "['Former N.F.L. Cheerleaders’ Settlement Offer: $1 and a Meeting With Goodell',\n",
       " 'E.P.A. to Unveil a New Rule. Its Effect: Less Science in Policymaking.',\n",
       " 'The New Noma, Explained',\n",
       " 'How a Bag of Texas Dirt  Became a Times Tradition',\n",
       " 'Is School a Place for Self-Expression?']"
      ]
     },
     "execution_count": 62,
     "metadata": {},
     "output_type": "execute_result"
    }
   ],
   "source": [
    "headline[:5]"
   ]
  },
  {
   "cell_type": "markdown",
   "metadata": {
    "id": "ASdBRe4LuVhJ"
   },
   "source": [
    "기존에 네번째, 다섯 번째 샘플에서는 Unknown 값이 있었는데 현재는 제거가 되었습니다. 이제 데이터 전처리를 수행합니다. 여기서 선택한 전처리는 **구두점 제거와 단어의 소문자** 화입니다. 전처리를 수행하고, 다시 샘플 5개를 출력합니다."
   ]
  },
  {
   "cell_type": "code",
   "execution_count": 63,
   "metadata": {
    "executionInfo": {
     "elapsed": 10,
     "status": "aborted",
     "timestamp": 1723709601568,
     "user": {
      "displayName": "전정호",
      "userId": "01748710418857244015"
     },
     "user_tz": -540
    },
    "id": "pLGQ7s_2G_3W"
   },
   "outputs": [
    {
     "data": {
      "text/plain": [
       "['former nfl cheerleaders settlement offer 1 and a meeting with goodell',\n",
       " 'epa to unveil a new rule its effect less science in policymaking',\n",
       " 'the new noma explained',\n",
       " 'how a bag of texas dirt  became a times tradition',\n",
       " 'is school a place for selfexpression']"
      ]
     },
     "execution_count": 63,
     "metadata": {},
     "output_type": "execute_result"
    }
   ],
   "source": [
    "def repreprocessing(raw_sentence):\n",
    "    preproceseed_sentence = raw_sentence.encode(\"utf8\").decode(\"ascii\",'ignore')\n",
    "    # 구두점 제거와 동시에 소문자화\n",
    "    return ''.join(word for word in preproceseed_sentence if word not in punctuation).lower()\n",
    "\n",
    "preporcessed_headline = [repreprocessing(x) for x in headline]\n",
    "preporcessed_headline[:5]"
   ]
  },
  {
   "cell_type": "markdown",
   "metadata": {
    "id": "t9JmYUmvuY0U"
   },
   "source": [
    "기존의 출력과 비교하면 모든 단어들이 소문자화되었으며 N.F.L.이나 Cheerleaders’ 등과 같이 기존에 구두점이 붙어있던 단어들에서 구두점이 제거되었습니다. 단어 집합(vocabulary)을 만들고 크기를 확인합니다."
   ]
  },
  {
   "cell_type": "code",
   "execution_count": 64,
   "metadata": {
    "executionInfo": {
     "elapsed": 10,
     "status": "aborted",
     "timestamp": 1723709601568,
     "user": {
      "displayName": "전정호",
      "userId": "01748710418857244015"
     },
     "user_tz": -540
    },
    "id": "18-SLG1YHFb3"
   },
   "outputs": [
    {
     "name": "stdout",
     "output_type": "stream",
     "text": [
      "단어 집합의 크기 : 3494\n"
     ]
    }
   ],
   "source": [
    "tokenizer = Tokenizer()   # 띄어쓰기 단위 토큰화 \n",
    "tokenizer.fit_on_texts(preporcessed_headline)  # 단어사전 만들기\n",
    "vocab_size = len(tokenizer.word_index) + 1     # padding시 0번 인덱스에 0 채움\n",
    "print('단어 집합의 크기 : %d' % vocab_size)"
   ]
  },
  {
   "cell_type": "code",
   "execution_count": 65,
   "metadata": {},
   "outputs": [
    {
     "data": {
      "text/plain": [
       "{'the': 1,\n",
       " 'a': 2,\n",
       " 'to': 3,\n",
       " 'of': 4,\n",
       " 'in': 5,\n",
       " 'for': 6,\n",
       " 'and': 7,\n",
       " 'is': 8,\n",
       " 'on': 9,\n",
       " 'with': 10,\n",
       " 'trump': 11,\n",
       " 'as': 12,\n",
       " 'at': 13,\n",
       " 'new': 14,\n",
       " 'how': 15,\n",
       " 'from': 16,\n",
       " 'it': 17,\n",
       " 'an': 18,\n",
       " 'that': 19,\n",
       " 'be': 20,\n",
       " 'season': 21,\n",
       " 'us': 22,\n",
       " 'you': 23,\n",
       " 'its': 24,\n",
       " 'what': 25,\n",
       " 'episode': 26,\n",
       " 'can': 27,\n",
       " 'your': 28,\n",
       " 'not': 29,\n",
       " 'he': 30,\n",
       " 'now': 31,\n",
       " 'his': 32,\n",
       " 'are': 33,\n",
       " 'teaching': 34,\n",
       " 'war': 35,\n",
       " 'out': 36,\n",
       " 'no': 37,\n",
       " 'was': 38,\n",
       " 'by': 39,\n",
       " 'trumps': 40,\n",
       " 'has': 41,\n",
       " 'over': 42,\n",
       " 'may': 43,\n",
       " 'into': 44,\n",
       " 'why': 45,\n",
       " 'more': 46,\n",
       " 'we': 47,\n",
       " 'who': 48,\n",
       " 'about': 49,\n",
       " 'recap': 50,\n",
       " 'activities': 51,\n",
       " '1': 52,\n",
       " 'just': 53,\n",
       " 'do': 54,\n",
       " 'women': 55,\n",
       " 'when': 56,\n",
       " 'syria': 57,\n",
       " 'trade': 58,\n",
       " 'i': 59,\n",
       " '2': 60,\n",
       " 'or': 61,\n",
       " 'will': 62,\n",
       " 'this': 63,\n",
       " 'have': 64,\n",
       " 'president': 65,\n",
       " 'but': 66,\n",
       " 'home': 67,\n",
       " 'up': 68,\n",
       " 'long': 69,\n",
       " 'one': 70,\n",
       " 'off': 71,\n",
       " 'facebook': 72,\n",
       " 'house': 73,\n",
       " 'gop': 74,\n",
       " 'our': 75,\n",
       " 'case': 76,\n",
       " 'they': 77,\n",
       " 'life': 78,\n",
       " 'end': 79,\n",
       " 'right': 80,\n",
       " 'some': 81,\n",
       " 'big': 82,\n",
       " 'dead': 83,\n",
       " 'power': 84,\n",
       " 'say': 85,\n",
       " 'white': 86,\n",
       " 'after': 87,\n",
       " 'still': 88,\n",
       " 'north': 89,\n",
       " 'my': 90,\n",
       " 'dont': 91,\n",
       " 'need': 92,\n",
       " 'race': 93,\n",
       " 'own': 94,\n",
       " 'against': 95,\n",
       " 'here': 96,\n",
       " 'should': 97,\n",
       " 'border': 98,\n",
       " 'former': 99,\n",
       " 'epa': 100,\n",
       " 'battle': 101,\n",
       " 'mr': 102,\n",
       " 'too': 103,\n",
       " 'their': 104,\n",
       " 'plan': 105,\n",
       " '3': 106,\n",
       " 'china': 107,\n",
       " 'real': 108,\n",
       " 'were': 109,\n",
       " 'her': 110,\n",
       " 'russia': 111,\n",
       " 'art': 112,\n",
       " 'good': 113,\n",
       " 'then': 114,\n",
       " 'like': 115,\n",
       " 'pay': 116,\n",
       " 'back': 117,\n",
       " 'get': 118,\n",
       " 'love': 119,\n",
       " 'says': 120,\n",
       " 'officials': 121,\n",
       " 'fight': 122,\n",
       " 'tariffs': 123,\n",
       " 'pruitt': 124,\n",
       " 'democrats': 125,\n",
       " 'black': 126,\n",
       " 'man': 127,\n",
       " 'men': 128,\n",
       " 'help': 129,\n",
       " 'never': 130,\n",
       " 'york': 131,\n",
       " 'comey': 132,\n",
       " 'chief': 133,\n",
       " 'metoo': 134,\n",
       " 'work': 135,\n",
       " 'place': 136,\n",
       " 'could': 137,\n",
       " 'past': 138,\n",
       " 'years': 139,\n",
       " 'rights': 140,\n",
       " 'first': 141,\n",
       " 'money': 142,\n",
       " 'save': 143,\n",
       " 'going': 144,\n",
       " 'all': 145,\n",
       " 'way': 146,\n",
       " 'political': 147,\n",
       " 'fear': 148,\n",
       " 'next': 149,\n",
       " 'fire': 150,\n",
       " 'party': 151,\n",
       " 'me': 152,\n",
       " 'becomes': 153,\n",
       " '8': 154,\n",
       " 'better': 155,\n",
       " 'old': 156,\n",
       " 'dr': 157,\n",
       " 'king': 158,\n",
       " 'homes': 159,\n",
       " 'ryan': 160,\n",
       " 'tax': 161,\n",
       " 'if': 162,\n",
       " 'than': 163,\n",
       " 'americans': 164,\n",
       " 'rules': 165,\n",
       " 'police': 166,\n",
       " 'school': 167,\n",
       " 'leaders': 168,\n",
       " 'korea': 169,\n",
       " 'there': 170,\n",
       " 'top': 171,\n",
       " 'court': 172,\n",
       " 'state': 173,\n",
       " '10': 174,\n",
       " 'lower': 175,\n",
       " 'states': 176,\n",
       " 'whats': 177,\n",
       " 'use': 178,\n",
       " 'cancer': 179,\n",
       " 'britain': 180,\n",
       " 'wont': 181,\n",
       " 'time': 182,\n",
       " 'america': 183,\n",
       " 'history': 184,\n",
       " 'where': 185,\n",
       " 'lead': 186,\n",
       " 'left': 187,\n",
       " 'plans': 188,\n",
       " 'talk': 189,\n",
       " 'crisis': 190,\n",
       " 'two': 191,\n",
       " 'tells': 192,\n",
       " 'trust': 193,\n",
       " 'nuclear': 194,\n",
       " 'children': 195,\n",
       " 'million': 196,\n",
       " 'make': 197,\n",
       " 'leader': 198,\n",
       " 'others': 199,\n",
       " 'attack': 200,\n",
       " 'people': 201,\n",
       " 'another': 202,\n",
       " '6': 203,\n",
       " 'world': 204,\n",
       " 'day': 205,\n",
       " 'car': 206,\n",
       " 'young': 207,\n",
       " 'little': 208,\n",
       " 'california': 209,\n",
       " 'crash': 210,\n",
       " 'last': 211,\n",
       " 'book': 212,\n",
       " 'death': 213,\n",
       " 'gun': 214,\n",
       " 'texas': 215,\n",
       " 'hes': 216,\n",
       " 'sex': 217,\n",
       " 'abuse': 218,\n",
       " 'find': 219,\n",
       " 'truth': 220,\n",
       " 'arizona': 221,\n",
       " 'american': 222,\n",
       " 'pompeo': 223,\n",
       " 'change': 224,\n",
       " 'city': 225,\n",
       " 'kim': 226,\n",
       " 'so': 227,\n",
       " 'music': 228,\n",
       " 'risks': 229,\n",
       " 'being': 230,\n",
       " 'billions': 231,\n",
       " '5': 232,\n",
       " 'family': 233,\n",
       " 'missing': 234,\n",
       " 'gaza': 235,\n",
       " 'vs': 236,\n",
       " 'senate': 237,\n",
       " 'heart': 238,\n",
       " 'justice': 239,\n",
       " 'killing': 240,\n",
       " 'cia': 241,\n",
       " 'come': 242,\n",
       " 'shows': 243,\n",
       " 'turning': 244,\n",
       " 'schools': 245,\n",
       " 'parents': 246,\n",
       " 'law': 247,\n",
       " 'legal': 248,\n",
       " 'economy': 249,\n",
       " 'strike': 250,\n",
       " 'him': 251,\n",
       " 'threat': 252,\n",
       " 'before': 253,\n",
       " 'takes': 254,\n",
       " 'night': 255,\n",
       " 'mueller': 256,\n",
       " 'close': 257,\n",
       " 'cut': 258,\n",
       " 'dream': 259,\n",
       " 'face': 260,\n",
       " 'friends': 261,\n",
       " 'does': 262,\n",
       " 'game': 263,\n",
       " 'dear': 264,\n",
       " 'boss': 265,\n",
       " 'baby': 266,\n",
       " 'kings': 267,\n",
       " 'jail': 268,\n",
       " 'nfl': 269,\n",
       " 'jimmy': 270,\n",
       " 'word': 271,\n",
       " 'hot': 272,\n",
       " 'turns': 273,\n",
       " 'gap': 274,\n",
       " 'got': 275,\n",
       " 'hope': 276,\n",
       " 'making': 277,\n",
       " 'overlooked': 278,\n",
       " 'push': 279,\n",
       " 'high': 280,\n",
       " 'deal': 281,\n",
       " 'heck': 282,\n",
       " 'live': 283,\n",
       " 'families': 284,\n",
       " 'wrong': 285,\n",
       " '2018': 286,\n",
       " 'fix': 287,\n",
       " 'lawyers': 288,\n",
       " 'koreas': 289,\n",
       " 'choose': 290,\n",
       " 'public': 291,\n",
       " 'cuomo': 292,\n",
       " 'steel': 293,\n",
       " 'open': 294,\n",
       " 'scott': 295,\n",
       " 'beyond': 296,\n",
       " 'variety': 297,\n",
       " 'ethics': 298,\n",
       " 'files': 299,\n",
       " 'dept': 300,\n",
       " 'let': 301,\n",
       " 'inside': 302,\n",
       " 'director': 303,\n",
       " 'far': 304,\n",
       " 'side': 305,\n",
       " 'rupauls': 306,\n",
       " 'drag': 307,\n",
       " 'fence': 308,\n",
       " 'sanctions': 309,\n",
       " 'want': 310,\n",
       " 'global': 311,\n",
       " 'great': 312,\n",
       " 'fish': 313,\n",
       " 'market': 314,\n",
       " 'team': 315,\n",
       " 'eat': 316,\n",
       " 'problem': 317,\n",
       " 'miracle': 318,\n",
       " 'tied': 319,\n",
       " 'hours': 320,\n",
       " 'working': 321,\n",
       " 'other': 322,\n",
       " 'yet': 323,\n",
       " 'call': 324,\n",
       " 'allies': 325,\n",
       " 'privacy': 326,\n",
       " 'data': 327,\n",
       " 'experts': 328,\n",
       " 'go': 329,\n",
       " 'met': 330,\n",
       " 'brooklyn': 331,\n",
       " 'didnt': 332,\n",
       " 'russian': 333,\n",
       " 'trial': 334,\n",
       " 'apply': 335,\n",
       " 'college': 336,\n",
       " 'many': 337,\n",
       " '4': 338,\n",
       " 'security': 339,\n",
       " 'year': 340,\n",
       " 'tale': 341,\n",
       " 'social': 342,\n",
       " 'control': 343,\n",
       " 'been': 344,\n",
       " 'hit': 345,\n",
       " 'early': 346,\n",
       " 'behind': 347,\n",
       " 'match': 348,\n",
       " 'ok': 349,\n",
       " 'fears': 350,\n",
       " 'isis': 351,\n",
       " 'walking': 352,\n",
       " 'national': 353,\n",
       " 'presidency': 354,\n",
       " 'student': 355,\n",
       " 'second': 356,\n",
       " 'limits': 357,\n",
       " 'care': 358,\n",
       " 'era': 359,\n",
       " 'south': 360,\n",
       " 'guard': 361,\n",
       " 'rise': 362,\n",
       " 'edge': 363,\n",
       " 'hero': 364,\n",
       " 'tech': 365,\n",
       " 'secret': 366,\n",
       " 'storm': 367,\n",
       " 'gets': 368,\n",
       " 'watch': 369,\n",
       " 'weapons': 370,\n",
       " 'cheerleaders': 371,\n",
       " 'meeting': 372,\n",
       " 'less': 373,\n",
       " 'science': 374,\n",
       " 'dirt': 375,\n",
       " 'times': 376,\n",
       " 'looking': 377,\n",
       " 'win': 378,\n",
       " 'pope': 379,\n",
       " 'stuff': 380,\n",
       " 'wants': 381,\n",
       " 'ruling': 382,\n",
       " 'town': 383,\n",
       " 'cold': 384,\n",
       " 'behavior': 385,\n",
       " 'guns': 386,\n",
       " 'stand': 387,\n",
       " 'human': 388,\n",
       " 'economic': 389,\n",
       " 'tragedy': 390,\n",
       " 'paul': 391,\n",
       " 'them': 392,\n",
       " 'key': 393,\n",
       " 'down': 394,\n",
       " 'given': 395,\n",
       " 'urge': 396,\n",
       " 'kids': 397,\n",
       " 'westworld': 398,\n",
       " 'picture': 399,\n",
       " 'april': 400,\n",
       " '23': 401,\n",
       " 'subway': 402,\n",
       " 'lets': 403,\n",
       " 'impeachment': 404,\n",
       " 'feel': 405,\n",
       " 'told': 406,\n",
       " 'smile': 407,\n",
       " 'meet': 408,\n",
       " 'wild': 409,\n",
       " 'guide': 410,\n",
       " 'business': 411,\n",
       " 'republicans': 412,\n",
       " 'starbucks': 413,\n",
       " 'door': 414,\n",
       " 'heres': 415,\n",
       " 'punch': 416,\n",
       " 'air': 417,\n",
       " 'caution': 418,\n",
       " 'democratic': 419,\n",
       " 'seen': 420,\n",
       " 'west': 421,\n",
       " 'once': 422,\n",
       " 'marriage': 423,\n",
       " 'politics': 424,\n",
       " 'mission': 425,\n",
       " 'support': 426,\n",
       " 'extra': 427,\n",
       " 'stephen': 428,\n",
       " 'colbert': 429,\n",
       " 'doesnt': 430,\n",
       " 'marijuana': 431,\n",
       " 'reading': 432,\n",
       " 'flight': 433,\n",
       " 'navy': 434,\n",
       " 'veteran': 435,\n",
       " 'ban': 436,\n",
       " 'atlanta': 437,\n",
       " 'finally': 438,\n",
       " 'ready': 439,\n",
       " 'todays': 440,\n",
       " 'puzzle': 441,\n",
       " 'deputy': 442,\n",
       " 'gave': 443,\n",
       " 'teenagers': 444,\n",
       " 'training': 445,\n",
       " 'cant': 446,\n",
       " 'remember': 447,\n",
       " '36': 448,\n",
       " 'found': 449,\n",
       " 'look': 450,\n",
       " 'scientists': 451,\n",
       " 'drug': 452,\n",
       " 'start': 453,\n",
       " 'fit': 454,\n",
       " 'syrian': 455,\n",
       " 'israel': 456,\n",
       " 'bush': 457,\n",
       " 'tweets': 458,\n",
       " 'calling': 459,\n",
       " 'genius': 460,\n",
       " 'acrostic': 461,\n",
       " 'strikes': 462,\n",
       " 'americas': 463,\n",
       " 'pregnancy': 464,\n",
       " 'step': 465,\n",
       " 'washington': 466,\n",
       " 'body': 467,\n",
       " 'supreme': 468,\n",
       " 'best': 469,\n",
       " 'run': 470,\n",
       " 'late': 471,\n",
       " 'force': 472,\n",
       " 'france': 473,\n",
       " 'said': 474,\n",
       " 'raid': 475,\n",
       " 'report': 476,\n",
       " 'aide': 477,\n",
       " 'try': 478,\n",
       " 'line': 479,\n",
       " 'loss': 480,\n",
       " 'risk': 481,\n",
       " 'ask': 482,\n",
       " 'trevor': 483,\n",
       " 'noah': 484,\n",
       " 'become': 485,\n",
       " 'affair': 486,\n",
       " 'died': 487,\n",
       " 'travel': 488,\n",
       " 'pollution': 489,\n",
       " 'building': 490,\n",
       " 'details': 491,\n",
       " 'mike': 492,\n",
       " 'immigration': 493,\n",
       " 'much': 494,\n",
       " 'words': 495,\n",
       " 'press': 496,\n",
       " 'energy': 497,\n",
       " 'think': 498,\n",
       " 'kitchen': 499,\n",
       " 'teams': 500,\n",
       " 'roseanne': 501,\n",
       " 'matter': 502,\n",
       " 'warm': 503,\n",
       " 'cohen': 504,\n",
       " 'eye': 505,\n",
       " 'wait': 506,\n",
       " 'seized': 507,\n",
       " 'civil': 508,\n",
       " 'brain': 509,\n",
       " 'die': 510,\n",
       " 'bad': 511,\n",
       " 'island': 512,\n",
       " 'target': 513,\n",
       " 'michael': 514,\n",
       " 'complicated': 515,\n",
       " 'under': 516,\n",
       " 'test': 517,\n",
       " 'did': 518,\n",
       " 'talks': 519,\n",
       " 'put': 520,\n",
       " 'questions': 521,\n",
       " 'dies': 522,\n",
       " 'moves': 523,\n",
       " '15': 524,\n",
       " 'lives': 525,\n",
       " 'james': 526,\n",
       " 'gives': 527,\n",
       " 'warriors': 528,\n",
       " 'mainstream': 529,\n",
       " 'saudi': 530,\n",
       " 'loan': 531,\n",
       " 'puts': 532,\n",
       " 'star': 533,\n",
       " 'broken': 534,\n",
       " 'glass': 535,\n",
       " 'moments': 536,\n",
       " 'sick': 537,\n",
       " 'beat': 538,\n",
       " 'god': 539,\n",
       " 'mean': 540,\n",
       " 'spy': 541,\n",
       " 'immigrants': 542,\n",
       " 'kill': 543,\n",
       " 'shame': 544,\n",
       " 'maybe': 545,\n",
       " 'even': 546,\n",
       " 'land': 547,\n",
       " '14': 548,\n",
       " 'policy': 549,\n",
       " 'agent': 550,\n",
       " 'smart': 551,\n",
       " 'martin': 552,\n",
       " 'luther': 553,\n",
       " 'mind': 554,\n",
       " 'earth': 555,\n",
       " 'action': 556,\n",
       " 'iraq': 557,\n",
       " 'feeling': 558,\n",
       " 'nature': 559,\n",
       " 'church': 560,\n",
       " 'beware': 561,\n",
       " 'away': 562,\n",
       " 'point': 563,\n",
       " 'army': 564,\n",
       " 'va': 565,\n",
       " 'girls': 566,\n",
       " 'play': 567,\n",
       " 'made': 568,\n",
       " 'marathon': 569,\n",
       " 'lies': 570,\n",
       " 'turn': 571,\n",
       " 'fiction': 572,\n",
       " 'terror': 573,\n",
       " 'accept': 574,\n",
       " 'dying': 575,\n",
       " 'victims': 576,\n",
       " 'golden': 577,\n",
       " 'common': 578,\n",
       " 'near': 579,\n",
       " 'cosby': 580,\n",
       " 'revolt': 581,\n",
       " 'offer': 582,\n",
       " 'rule': 583,\n",
       " 'bag': 584,\n",
       " 'tradition': 585,\n",
       " 'failed': 586,\n",
       " 'utah': 587,\n",
       " 'few': 588,\n",
       " 'believe': 589,\n",
       " 'forced': 590,\n",
       " 'artists': 591,\n",
       " 'carter': 592,\n",
       " 'jersey': 593,\n",
       " 'quiz': 594,\n",
       " 'lifethreatening': 595,\n",
       " 'food': 596,\n",
       " 'choosing': 597,\n",
       " 'future': 598,\n",
       " 'gone': 599,\n",
       " 'panel': 600,\n",
       " 'bucks': 601,\n",
       " 'sidewalk': 602,\n",
       " 'van': 603,\n",
       " 'cuts': 604,\n",
       " 'apologies': 605,\n",
       " 'europes': 606,\n",
       " 'iran': 607,\n",
       " 'themselves': 608,\n",
       " 'avengers': 609,\n",
       " 'most': 610,\n",
       " 'movie': 611,\n",
       " 'taking': 612,\n",
       " 'mirror': 613,\n",
       " 'chancellor': 614,\n",
       " 'debate': 615,\n",
       " 'foods': 616,\n",
       " 'citys': 617,\n",
       " 'favorite': 618,\n",
       " 'cruelty': 619,\n",
       " 'robots': 620,\n",
       " 'coffee': 621,\n",
       " 'prince': 622,\n",
       " 'share': 623,\n",
       " 'tolerance': 624,\n",
       " 'stop': 625,\n",
       " 'migrants': 626,\n",
       " 'path': 627,\n",
       " 'aiding': 628,\n",
       " 'europe': 629,\n",
       " 'magic': 630,\n",
       " 'kind': 631,\n",
       " 'losing': 632,\n",
       " 'middle': 633,\n",
       " 'class': 634,\n",
       " 'youll': 635,\n",
       " 'sorry': 636,\n",
       " 'swamp': 637,\n",
       " 'columbia': 638,\n",
       " 'wages': 639,\n",
       " 'painfully': 640,\n",
       " 'wonkish': 641,\n",
       " 'forgotten': 642,\n",
       " 'survival': 643,\n",
       " 'decline': 644,\n",
       " 'mess': 645,\n",
       " 'fake': 646,\n",
       " 'set': 647,\n",
       " 'himself': 648,\n",
       " 'barely': 649,\n",
       " 'quit': 650,\n",
       " '70': 651,\n",
       " 'conspiracy': 652,\n",
       " 'pick': 653,\n",
       " 'wells': 654,\n",
       " 'fargo': 655,\n",
       " 'mayhem': 656,\n",
       " 'fields': 657,\n",
       " '50': 658,\n",
       " 'lack': 659,\n",
       " 'cynthia': 660,\n",
       " 'nixon': 661,\n",
       " 'along': 662,\n",
       " 'promise': 663,\n",
       " 'testing': 664,\n",
       " 'candidates': 665,\n",
       " 'pruitts': 666,\n",
       " 'reforms': 667,\n",
       " 'selling': 668,\n",
       " 'know': 669,\n",
       " 'runners': 670,\n",
       " 'tarot': 671,\n",
       " 'card': 672,\n",
       " 'dress': 673,\n",
       " 'pilot': 674,\n",
       " 'nerves': 675,\n",
       " 'letting': 676,\n",
       " 'al': 677,\n",
       " 'equal': 678,\n",
       " 'returns': 679,\n",
       " 'snake': 680,\n",
       " 'oil': 681,\n",
       " 'betrayed': 682,\n",
       " 'nation': 683,\n",
       " 'fashion': 684,\n",
       " 'lay': 685,\n",
       " 'fine': 686,\n",
       " 'fraud': 687,\n",
       " 'again': 688,\n",
       " 'exfbi': 689,\n",
       " 'sent': 690,\n",
       " 'name': 691,\n",
       " 'sea': 692,\n",
       " 'stands': 693,\n",
       " 'spur': 694,\n",
       " 'means': 695,\n",
       " 'progressive': 696,\n",
       " 'standardized': 697,\n",
       " 'tests': 698,\n",
       " 'antibias': 699,\n",
       " 'goal': 700,\n",
       " 'gentrification': 701,\n",
       " 'shine': 702,\n",
       " 'road': 703,\n",
       " 'deportation': 704,\n",
       " 'voice': 705,\n",
       " 'crazy': 706,\n",
       " 'warming': 707,\n",
       " 'interview': 708,\n",
       " 'launches': 709,\n",
       " 'allout': 710,\n",
       " 'barbara': 711,\n",
       " 'ill': 712,\n",
       " 'treatment': 713,\n",
       " 'blasts': 714,\n",
       " 'slippery': 715,\n",
       " 'around': 716,\n",
       " 'office': 717,\n",
       " 'todo': 718,\n",
       " 'list': 719,\n",
       " 'housing': 720,\n",
       " 'leaves': 721,\n",
       " 'pinch': 722,\n",
       " 'took': 723,\n",
       " 'assad': 724,\n",
       " 'library': 725,\n",
       " 'payment': 726,\n",
       " 'snarl': 727,\n",
       " 'makes': 728,\n",
       " '87': 729,\n",
       " 'comedy': 730,\n",
       " 'rising': 731,\n",
       " 'stars': 732,\n",
       " 'alike': 733,\n",
       " 'coal': 734,\n",
       " 'lobbyist': 735,\n",
       " 'crossword': 736,\n",
       " 'animals': 737,\n",
       " 'whos': 738,\n",
       " 'pentagon': 739,\n",
       " 'signs': 740,\n",
       " 'childhood': 741,\n",
       " 'courts': 742,\n",
       " 'shift': 743,\n",
       " 'saying': 744,\n",
       " 'scandal': 745,\n",
       " 'sticker': 746,\n",
       " 'shock': 747,\n",
       " 'teacher': 748,\n",
       " 'walkouts': 749,\n",
       " 'grip': 750,\n",
       " 'red': 751,\n",
       " 'speaker': 752,\n",
       " 'leave': 753,\n",
       " 'british': 754,\n",
       " 'mexico': 755,\n",
       " 'wish': 756,\n",
       " 'alive': 757,\n",
       " 'longer': 758,\n",
       " 'moscow': 759,\n",
       " 'believes': 760,\n",
       " 'beef': 761,\n",
       " 'stew': 762,\n",
       " 'chinese': 763,\n",
       " 'partner': 764,\n",
       " 'tabloid': 765,\n",
       " 'catches': 766,\n",
       " 'facebooks': 767,\n",
       " 'lot': 768,\n",
       " 'health': 769,\n",
       " 'putin': 770,\n",
       " 'india': 771,\n",
       " 'these': 772,\n",
       " 'begin': 773,\n",
       " 'protest': 774,\n",
       " 'florida': 775,\n",
       " 'colorado': 776,\n",
       " 'thats': 777,\n",
       " 'hopes': 778,\n",
       " 'access': 779,\n",
       " 'hollywood': 780,\n",
       " 'tape': 781,\n",
       " 'focus': 782,\n",
       " 'fbi': 783,\n",
       " 'general': 784,\n",
       " 'leak': 785,\n",
       " 'spring': 786,\n",
       " 'gut': 787,\n",
       " 'advice': 788,\n",
       " 'risotto': 789,\n",
       " 'simple': 790,\n",
       " 'during': 791,\n",
       " 'week': 792,\n",
       " 'ball': 793,\n",
       " 'gluten': 794,\n",
       " 'free': 795,\n",
       " 'seattle': 796,\n",
       " 'exhusband': 797,\n",
       " 'dilemma': 798,\n",
       " 'betting': 799,\n",
       " 'governors': 800,\n",
       " 'collector': 801,\n",
       " 'thriving': 802,\n",
       " 'modern': 803,\n",
       " 'count': 804,\n",
       " 'thousands': 805,\n",
       " 'interest': 806,\n",
       " 'alaska': 807,\n",
       " 'republican': 808,\n",
       " 'midterm': 809,\n",
       " 'elections': 810,\n",
       " 'pose': 811,\n",
       " 'worry': 812,\n",
       " 'view': 813,\n",
       " 'fascism': 814,\n",
       " 'without': 815,\n",
       " 'spending': 816,\n",
       " 'signals': 817,\n",
       " 'boys': 818,\n",
       " 'learning': 819,\n",
       " 'move': 820,\n",
       " 'fast': 821,\n",
       " 'governor': 822,\n",
       " 'those': 823,\n",
       " 'aging': 824,\n",
       " 'warns': 825,\n",
       " 'media': 826,\n",
       " 'exercise': 827,\n",
       " 'allergic': 828,\n",
       " 'signatures': 829,\n",
       " 'military': 830,\n",
       " 'disaster': 831,\n",
       " 'embrace': 832,\n",
       " 'youre': 833,\n",
       " 'defying': 834,\n",
       " 'toll': 835,\n",
       " 'humans': 836,\n",
       " 'store': 837,\n",
       " 'dogs': 838,\n",
       " 'client': 839,\n",
       " 'reports': 840,\n",
       " 'fired': 841,\n",
       " 'coming': 842,\n",
       " 'lavish': 843,\n",
       " 'zone': 844,\n",
       " 'called': 845,\n",
       " 'options': 846,\n",
       " 'paid': 847,\n",
       " 'ice': 848,\n",
       " 'adviser': 849,\n",
       " 'calls': 850,\n",
       " 'polar': 851,\n",
       " 'bears': 852,\n",
       " 'online': 853,\n",
       " 'bust': 854,\n",
       " 'bars': 855,\n",
       " 'private': 856,\n",
       " 'fans': 857,\n",
       " 'remains': 858,\n",
       " 'funny': 859,\n",
       " 'daughter': 860,\n",
       " 'offered': 861,\n",
       " 'massacre': 862,\n",
       " 'prison': 863,\n",
       " 'votes': 864,\n",
       " 'very': 865,\n",
       " 'outsiders': 866,\n",
       " 'gender': 867,\n",
       " 'scrutiny': 868,\n",
       " 'trail': 869,\n",
       " 'nightmare': 870,\n",
       " 'species': 871,\n",
       " 'fuels': 872,\n",
       " 'jacket': 873,\n",
       " 'hair': 874,\n",
       " '81': 875,\n",
       " 'foreign': 876,\n",
       " '9': 877,\n",
       " 'arabian': 878,\n",
       " 'official': 879,\n",
       " 'afghan': 880,\n",
       " 'enters': 881,\n",
       " 'journalism': 882,\n",
       " 'later': 883,\n",
       " 'cry': 884,\n",
       " 'vows': 885,\n",
       " 'price': 886,\n",
       " 'raising': 887,\n",
       " 'song': 888,\n",
       " 'gallery': 889,\n",
       " 'hockey': 890,\n",
       " 'fox': 891,\n",
       " 'fiery': 892,\n",
       " 'chemical': 893,\n",
       " 'hasty': 894,\n",
       " 'viral': 895,\n",
       " 'voters': 896,\n",
       " 'arlee': 897,\n",
       " 'arent': 898,\n",
       " 'friday': 899,\n",
       " 'something': 900,\n",
       " 'every': 901,\n",
       " 'buying': 902,\n",
       " 'ad': 903,\n",
       " 'asparagus': 904,\n",
       " 'blame': 905,\n",
       " 'democracy': 906,\n",
       " 'bracing': 907,\n",
       " 'blood': 908,\n",
       " 'estate': 909,\n",
       " 'jobs': 910,\n",
       " 'raised': 911,\n",
       " 'islam': 912,\n",
       " 'yorks': 913,\n",
       " 'give': 914,\n",
       " 'blast': 915,\n",
       " 'small': 916,\n",
       " 'forces': 917,\n",
       " 'tight': 918,\n",
       " 'labor': 919,\n",
       " 'manhattan': 920,\n",
       " 'intellectual': 921,\n",
       " 'tiny': 922,\n",
       " 'haunting': 923,\n",
       " 'thoughts': 924,\n",
       " 'misconduct': 925,\n",
       " 'usual': 926,\n",
       " 'lisa': 927,\n",
       " 'evil': 928,\n",
       " 'springs': 929,\n",
       " 'stress': 930,\n",
       " 'monkeys': 931,\n",
       " 'gay': 932,\n",
       " 'safety': 933,\n",
       " 'crashes': 934,\n",
       " 'queen': 935,\n",
       " 'indexes': 936,\n",
       " 'indian': 937,\n",
       " 'dreams': 938,\n",
       " 'role': 939,\n",
       " 'macrons': 940,\n",
       " 'locals': 941,\n",
       " 'shot': 942,\n",
       " 'whims': 943,\n",
       " 'sees': 944,\n",
       " 'makers': 945,\n",
       " 'pipe': 946,\n",
       " 'slow': 947,\n",
       " 'quiet': 948,\n",
       " 'ohio': 949,\n",
       " 'primary': 950,\n",
       " 'readers': 951,\n",
       " 'universe': 952,\n",
       " 'older': 953,\n",
       " 'well': 954,\n",
       " 'rents': 955,\n",
       " 'saving': 956,\n",
       " 'worship': 957,\n",
       " 'detail': 958,\n",
       " 'project': 959,\n",
       " 'dissent': 960,\n",
       " 'kennedy': 961,\n",
       " 'assassination': 962,\n",
       " 'edges': 963,\n",
       " 'brazil': 964,\n",
       " 'sports': 965,\n",
       " 'dad': 966,\n",
       " 'amazon': 967,\n",
       " 'trauma': 968,\n",
       " 'anxiety': 969,\n",
       " '100': 970,\n",
       " 'endless': 971,\n",
       " 'video': 972,\n",
       " 'legacy': 973,\n",
       " 'candidate': 974,\n",
       " 'shooting': 975,\n",
       " 'silicon': 976,\n",
       " 'valley': 977,\n",
       " 'light': 978,\n",
       " 'chose': 979,\n",
       " 'heated': 980,\n",
       " 'leads': 981,\n",
       " 'israelis': 982,\n",
       " 'lone': 983,\n",
       " 'journalist': 984,\n",
       " 'sexual': 985,\n",
       " 'assault': 986,\n",
       " 'joke': 987,\n",
       " 'bronx': 988,\n",
       " 'necessary': 989,\n",
       " 'search': 990,\n",
       " 'nights': 991,\n",
       " 'giants': 992,\n",
       " 'streets': 993,\n",
       " 'stocks': 994,\n",
       " 'see': 995,\n",
       " 'teachers': 996,\n",
       " 'spreads': 997,\n",
       " 'african': 998,\n",
       " 'only': 999,\n",
       " 'hard': 1000,\n",
       " ...}"
      ]
     },
     "execution_count": 65,
     "metadata": {},
     "output_type": "execute_result"
    }
   ],
   "source": [
    "tokenizer.word_index ## 단어 사전"
   ]
  },
  {
   "cell_type": "markdown",
   "metadata": {
    "id": "QuB4NHyi0uQO"
   },
   "source": [
    "총 3,494개의 단어가 존재합니다. 정수 인코딩을 진행하는 동시에 하나의 문장을 여러 줄로 분해하여 훈련 데이터를 구성합니다."
   ]
  },
  {
   "cell_type": "code",
   "execution_count": 66,
   "metadata": {
    "executionInfo": {
     "elapsed": 10,
     "status": "aborted",
     "timestamp": 1723709601568,
     "user": {
      "displayName": "전정호",
      "userId": "01748710418857244015"
     },
     "user_tz": -540
    },
    "id": "_9PRhbYzHmrX"
   },
   "outputs": [
    {
     "data": {
      "text/plain": [
       "[[99, 269],\n",
       " [99, 269, 371],\n",
       " [99, 269, 371, 1115],\n",
       " [99, 269, 371, 1115, 582],\n",
       " [99, 269, 371, 1115, 582, 52],\n",
       " [99, 269, 371, 1115, 582, 52, 7],\n",
       " [99, 269, 371, 1115, 582, 52, 7, 2],\n",
       " [99, 269, 371, 1115, 582, 52, 7, 2, 372],\n",
       " [99, 269, 371, 1115, 582, 52, 7, 2, 372, 10],\n",
       " [99, 269, 371, 1115, 582, 52, 7, 2, 372, 10, 1116],\n",
       " [100, 3],\n",
       " [100, 3, 1117],\n",
       " [100, 3, 1117, 2],\n",
       " [100, 3, 1117, 2, 14],\n",
       " [100, 3, 1117, 2, 14, 583],\n",
       " [100, 3, 1117, 2, 14, 583, 24],\n",
       " [100, 3, 1117, 2, 14, 583, 24, 1118],\n",
       " [100, 3, 1117, 2, 14, 583, 24, 1118, 373],\n",
       " [100, 3, 1117, 2, 14, 583, 24, 1118, 373, 374],\n",
       " [100, 3, 1117, 2, 14, 583, 24, 1118, 373, 374, 5]]"
      ]
     },
     "execution_count": 66,
     "metadata": {},
     "output_type": "execute_result"
    }
   ],
   "source": [
    "sequences = list()\n",
    "\n",
    "for sentence in preporcessed_headline:\n",
    "\n",
    "    # 각 샘플에 대한 정수 인코딩\n",
    "    encoded = tokenizer.texts_to_sequences([sentence])[0]\n",
    "    for i in range(1, len(encoded)):\n",
    "        sequence = encoded[:i+1]\n",
    "        sequences.append(sequence)\n",
    "\n",
    "sequences[:20]"
   ]
  },
  {
   "cell_type": "markdown",
   "metadata": {
    "id": "IklfzfHp09jf"
   },
   "source": [
    "이해를 돕기 위해 출력 결과에 주석을 추가하였습니다. 왜 하나의 문장을 저렇게 나눌까요? 예를 들어 '경마장에 있는 말이 뛰고 있다' 라는 문장 하나가 있을 때, 최종적으로 원하는 훈련 데이터의 형태는 다음과 같습니다. 하나의 단어를 예측하기 위해 이전에 등장한 단어들을 모두 참고하는 것입니다.\n",
    "  \n",
    "\n",
    "  ![image.png](data:image/png;base64,iVBORw0KGgoAAAANSUhEUgAABHAAAAE4CAYAAAAzRQR8AAAAAXNSR0IArs4c6QAAAARnQU1BAACxjwv8YQUAAAAJcEhZcwAADsMAAA7DAcdvqGQAAEIrSURBVHhe7d1/aNPn/v//h198QwcbZLADCWxg1MFSJth6Dpjw9o+lVLBlB0xQaMLe4NojbO0ZzHbCe43+UdsNdloHnmaDnfYIk6SgNMIOjXCk2R8eEuEcG8HRHJguwoQGjmDgLRj4CH5fSV6taU1rW/vjlXq/weUrufLDNE3SXo9e1/Pa9sQgAAAAAAAAWNb/Zx4BAAAAAABgUQQ4AAAAAAAAFkeAAwAAAAAAYHEEOAAAAAAAABZHgAMAAAAAAGBxBDgAAAAAAAAWR4ADAAAAAABgcQQ4AAAAAAAAFkeAAwAAAAAAYHEEOAAAAAAAABZHgAMAAAAAAGBxBDgAAAAAAAAWR4ADAAAAAABgcQQ4AAAAAAAAFrfticE8vWo3btwwT6EW2Wy20jGfz5eOAF4+xc8BPgNWZt++feYpAAAAYP2tWYDDL7K1686dO6Xjrl27SkcAL5/i5wCfAcsz+0cLfu4BAABgI7GECgAAAAAAwOIIcAAAAAAAACyOAAcAAAAAAMDiCHAAAAAAAAAsjgAHAAAAAADA4ghwAAAAAAAALI4ABwAAAAAAwOIIcAAAAAAAACyOAAcAAAAAAMDiCHAAAAAAAAAsjgAHAAAAAADA4ghwAAAAAAAALI4ABwAAAAAAwOIIcAAAAAAAACyOAAcAAAAAAMDiCHAAAAAAAAAsjgAHAAAAAADA4ghwAAAAAAAALI4ABwAAAAAAwOIIcNZVTtGj27RtW7n5x3Jm/0vicUohx9Ovf147GjWenaK0hhrMPke9mg42yfN28bxf0bulKwAAAAAA8NIjwMH62e5W/8wTPfl/DzTxmd3sdGsw9UhPLgZU7mlQ9z+nNdxcPO1QQ1u/Iv80Ln8yrsCO0hUAAAAAAHjpEeBg/W23yXuo3QxsUkpkZkqnZhX+FVPkVosGr0xo8JhbTludeQkAAAAAACgiwMGGqHvPr5695dPxczGlyyelu1G1H55Q6+Vxde8luAEAAAAAoBoCHGyQBvk+aSmfvBlR4qZxvBtV0N0tnY2odz/hDQAAAAAAi7FggJNX5vKAOrz1cpgFbx17mtT04ZBSefMqD7NKjA2p6+hswVuzAO6HA4r9u2BeqSx1xry82M6kjJ68Un8Kqr5YXNe4TfBPKaOnLP+PIXW4d5r/Z1BD/5i9pKhKQeJ8WuEPPdpZ7DPuq/VkVJnKmzxPPqPYmY6nX8PbHvk/DivxTK3jZTwnNcDZHJSvdCqtwe9CCrUFlf04ptE2Z6kXAAAAAABUZ7EAJ6vo/7hU7wtp9MeMuUuRlPspocT5pLIPzY6fomoK9Ch8KaHUbbMvlzGuE5Lf5dXAv+aHOE9lFTPu31MMWop3btwmetKjlq/Tyl8fUMuBHo1ez5aumTP+j54DLRoqzhSp5mFSA4ca1XU+ZdyrwbiveDEYOjSg1OzjXEpx9omrXv7To0+/htspxb7tUlNDq8I3Z7+GZT4nteDNFgWPlU/mvh1QoiWpxCm3mHsDbDEPi5+trfK8vVM73R0Vn2emuwkNfNihgR+fSasBAAAALMJSAU7hx1F1XzB/od/bq8n/PNGTJ0/06D/Tmviq8elAf7tN7ecmND1T3K2ofJ0HiX65SxemFPomPjerZp5vutU5e/8VUl91quWjkHHLhVIa/NuzvUXJ050KXTfPVLoeUv+lcgi0qEJaA21BRYsPxR7QyK0H5a/z54gCxUq/ubi6Po+UgqFlPyc1waaWtm7ztFT/rovwBthycop97NW4a1jJH/vVcH1UXcfCT+teGVIXggqdH9UU+Q0AAACwbJYKcPK5pzNM9JvX9bo5uq97w6WWz3rle7N8Xr/t1MgfW+Syl69QyOdVcDjlead0Vjo/pYx5cp6cRyEzLPnl+9ltrA25lLJ7IvrlUXHL6180csTsN+RuZZ8+pgo5eeeClycPpjXywdy9Kf43c1bOIvJXR+fCn4YTPWp/11Y6Xbfbp/YPSielK3Gl7q7gOakJBaWvJ83T0uhfxpd8ngDUoJsR9d/qUeiYU4Wfp1V6xzc49XShZFrJWPFTrUEe19PPTQAAAABLs1SAY3d5jF/pTVd71Ph2vVo/Div+74XzafJKjw3M1at55fXX5XAFNfRv82JllL1nnqz0WedcWOL8oEvtpVNl7ccDchbDke1O+T/oLHcuwfdV/9x9yeZS+8ddTwOhy9VDn1mZm2HzlDGUOdlYrn9Taq+o6U/mBYopa9zJ8p8T68uOtcsXb1TvR+ZXdCWmxOzyMQBbQnZGCvb5jM+tvBKXBkqfhZ2HvTI/LaXbU4oXl6ba/fKYO9MBAAAAeD5r1cDZ26nRc76nf6kt1pX5tkutrte188OYOVsjV6pj0xgIlevV7HbL2+xT56leBZ43GHjtlXlLdl4xj0WvbDdPGGy/cZinFtf49oLCu3anPObJNbWs58T6CtcHFDwhDY0Nq/9Ep8r7UcUVvly5sAJArXMe6lb3+8Yn1v2EYt8aHfZe+Zrn4hvl/hlXonjicINcpR4AAAAAy2GxIsZ1avjjuH4p1nc5Zwzy3306vT573q+u89ny9HyzJoz9swk9+Dmpyb+Pa7jPr8ZS78aYKk6PqVD4eUox87T21i27tkvDV1PlZVhVWu/+4jWW8ZxYXDG88bon1Hp5VIEdRsfuVgXNZWrps/EqtYcA1Lp8KqHR4okPvPLMfSDmNXWt/EnpO9D4dFYOAAAAgOeyWIBjKtZ3+eOwJm5lNHlqbgGR4vdyyv089bQY5sOCCo+LJ/LK/GVQg4vtGLUOYueGFTcznMK9uPpPD5XPFDUv/Zdl5+7yZtpF6bMhDfyYNb8Ow8Oc0pdDGv2XeX7WEs+Jpd2Nqv3wsJzRiHr3z47i7GppMxew5Yyv6cfFdg0DUJsKmrpWXiraeaCy2HpGyeKsHHnV8jvq3wAAAAArYakAJ3d5QANjqadbYxceKHd3xjxj/Mpvt8vueLp0KfetX47/KtaOeV31p0uT8jfO9QG1Osq1a155q1UDcztSNajf51lyBo69uV2ds2OXXFwh7069Uvo6jPaaQ42+AeXMQGc5z4ll5VMaKO469VVSkbb5S85shwLqLT30nAYuLLJrGIAalTc+p8qnHL+pmGdzM6l48Wj3qnF3qQcAAADAMllrBk5hSqGARztfM8OMV3YqOLuF9v5+9RdDgN/61V9aWlTJrsC5IXWZ5zaC77Nus47LfO6+sLrnZpos4o0WdX/XaW57/hzLeU6sppBX5sqQ/L/zKHTdL/+hKo9xe73qD5mnz48qMleAGkDts8vlLn/CJW+ZyzzvxtT1UU95BuUHburfAAAAACtkqQCnzulV5xGv3HN/mTUGAe+1q/uvk5q51iv3q0ZXXYN6/5bU4DF3ubDv7hZ1RxMaPbLBQUZDpyL/HFbArEnj3N+u/ti0Eqfcy6p/43x/WInshIY/8lV8vU65j3Rq0LifTjOkWtZzYhlpDRRnJb3yuupbehQr7TAVlv83QZV2DTYVrnRp2385FDxvdiiuLlc5oApesviSMADL0vBpXMmv2lU416R6d5OaTkaUNafazV9WBQAAAGA5tj0pVst9QTdu3NC+ffvMc1tVTtGjDgUvlc/5ojMab9saNRzu3LlTOu7atat0BPDyKX4OrOVnQOFhQXWvVsQ092Pq+I1fo2rX+H9G5HvD7K9BxZ95RVv/5x4AAACsxJpFjAEANSqn2Ic79cprr6i1Ype87N9GS7tS2T8LqKWGwxsAAABgsxDgAADWTi6p8YrgpuRhQuHP45I9oKGPvSyfAgAAAFaBAAcAsHZsNjmMg+uPE4occ0r5tIYCQQ3Jq/7LowrsKF8NAAAAwMoQ4AAA1k6dV6F/DsvzU79avE3yHOpR5ndDSqYn1fu8HfoAAAAALIoixqCIMYA1L2K8lVHEGAAAAJuBGTgAAAAAAAAWR4ADAAAAAABgcQQ4AAAAAAAAFkeAAwAAAAAAYHEEOAAAAAAAABZHgAMAAAAAAGBxBDgAAAAAAAAWR4ADAAAAAABgcQQ4AAAAAAAAFkeAAwAAAAAAYHEEOAAAAAAAABZHgAMAAAAAAGBxBDgAAAAAAAAWR4ADAAAAAABgcQQ4AAAAAAAAFrfticE8vWp37twxTwEA8HLYtWuXeQoAAABYf2sS4Ny4cUP79u0zz6HWzAZwDEaAl1fxc4DPgOUp/swr4uceAAAANhJLqAAAAAAAACyOAAcAAAAAAMDiCHAAAAAAAAAsjgAHAAAAAADA4ghwAAAAAAAALI4ABwAAAAAAwOIIcAAAAAAAACyOAAcAAAAAAMDiCHAAAAAAAAAsjgAHAAAAAADA4ghwAAAAAAAALI4ABwAAAAAAwOIIcAAAAAAAACyOAAcAAAAAAMDiCHAAAAAAAAAsjgAHAAAAAADA4ghwAAAAAAAALI4AB5aRG/Nr27YBpczzLyalgW3btO3M2txbyfUB4/H5Fb1nnl+1nKJHKx5b6X63aeB6+Szw8lrO+7Z8Hf9YzjwPAAAAvBwIcLAuymGMMRBbtK1FELJ6qTPVHlOVtooAKHtlQME9jtLtHXuCGriSNS8BXkL5jGJnOtRkvie2OerV9OGAYj/lzSsAAAAAWA4CHKwLe9u4njx5UqU90uRnxWu45HyzdNVleX4gZLSjUS33b/LuUwse168R+Yz+/tSC/lPu8g2WKTsWlKdvRv7L2dLtM2NeTX/oUXCMEAcvn8K/RxV0eTW6PaCR1Ez5PZVNarD5gcLNjeq4xPsCAAAAWC7rBzi5uEJeB8tLtoy0UheMw0ceucodK9CvZGW4UtGSfeZVVuteVjHj8Ohx+eyq3I9r6ERCwb5B+XbXlbps77Yr/E2roieGFL9f6gJeEmmFj3Uo84eYxv/XK+erZnedTQ1tg5r43qeJo10avW32AwAAAFiSdQOc+2nFzvi109GqgR+pdbBVFK6OazhnV+f7HtnM2i+zzREoRiibI5edKh3jqXTpuBr5VFxhdcnfXA5vZtkOBdSdCxv3zZIRvET+Fdfg9QYFfW7Nf0eU1TX71WWPK/ojs3AAAACA5bBggJNT/ON6OX7TKP/3ku8jr9mPmldIa+j0kHL7e9R+yCbt7503i2YmWlzEtBmymrgQk3u/W+mzESUemt1VxRR8azZ0ml/HJ3MzLDW75DTPz6lzqvGwFL6ZMTuAl8Dj4qe5U443zPPPcMp5QErkCOgBAACA5bDkDJzCY6eCf01qJjOungPGQB9bQEGpP3UqdN2t/q871WD2WkHhalihdLf6r0QUaY4o9HXKeLSL8Sny62zoNK7AXB2fnLK3jMPbDtnLHRWMvt3G4eeZZdfoAWredhnvhaxmFl06mFX2mvGO2vHsO2Y5YgGzKPIyGktwAQAAsBVYMMCxy/fdhAaPuWU3BgDYCgrK/KVdvtNZBaIR9e6vtqBikzxMqf9kRP7vQvLanAp8E1Nr3Kf2C2u5rKNOr7xmHC745SgNKB0KXipfAmxZv21Rz/60IrHqgWh5OaVP/veembP2HG71VszcW07r3W/eFAAAAKhh1i9ijBqXV+J0q7zHE2o8G9do29PB2sKdpdalBs5pT8X/MaB5m4I/TGso4FPCF9Pg++ZMr1eNweHVuBovNanpdFy5FylqvNCRiGZKA8oZRY6YfcCW1aDusYhcf/Gp9XRMmdmZOIW80mM9av2fmFovDlbMYgMAAACwFAIcrJ9cQgO/d6npzCP5Y0lNfNowr5jpwq3G16UGTl+y4v/o1dym4Hdj6mpu1Pi7EcVPLSiy+qox8PxhSv2vjcp3PLYGy54KevR/xmGPs8ryKmAL2xFQJJNQ53/F1fWeueTJ6VHomlPd16Y0cmSls28AAACAlxcBDtZc4V5C4eNNcjiaNPwwqPFsUsOHLTRQe5zR6MlBFY5PK/GFV9WrLNnk/mxcyb/6lhm62OXcYxyq1rkx+m5LXjvxDV5CNpd8p0Y0eWumHKTOTGvim0617F5BfbMFO9atvi2YhQcAAADUEAIcrL2HWaVv2dWTmFE2MSjfDrPfKra71H4xqZFjrqrbGy+qtGtWZeHi+Vx7O6WrGT1TPaeQ1dTlBrX8jtkGwNLM+jan5ubKlS3YsW71rWIWHgAAAFBjCHCw5ureaddIKqLu9+xzAUn+dlyjJzvU5K03C/mWm2NPk5o+7FF4LCUdKS6p2qQBVj6r+PkedRxsUr2j4i/2jno1HexQz/mY0s9ZS2Vzt6hTwxq/Or9ka/5KVEP7g/LuNTuAl1JO0aPGe+pM9Tkw5ZpYzJABAAAAFkOAg3WWVfxEk1wHhpRxBTQcTSpb8RfxmdS4Rj7xqHA5KIfLr/DNxTfwlkLyVIQ/lc1z2rzKKuSvhtTk8mjolkuBcxElsxV/sf91SuPftavxXkR+x051XFpid6o3WtR91qvI6R7Fbpe/jvxPo+r8eNpyW6cDm2bmgfLmyUqPHhZ7H5XPLOVeVH7jPe8fY1N+AAAAvFwIcLCusue71Pq1TUOpSQ0e88plty0oGGyTc69P3RenlWzLquvYkFJVMpyFBY+rtouBlRcJvh9Tz8EB2b5KavJsu7zv2GWrfIDb62Tb4Vbg1Lim4j5NHA0q/JN5WRXOtlElTjo0fthZCpYa/5BS46W4tbZOBzZFVtPF7fMvJzX1zHu8oOzPCeOY0vTtcg8AAACA+QhwsK5y9+LSEb+8z62DUyd3i1+6OaXs7HbDG+F2RqPyyX/g+fVpbHsa5TEGmIlbS/3lv06uw72KmAVbf0mNqPu/V1CsFdiiClfHNbq3RS32AYX+nDZ7Tffjiv6peCKh2LUlZrkBAAAALzECHKwr526fdGlcibtmx6IKSsXHpb0euRYpErwudrvUrpjGlzFozP0zqaTc8u5hNylgRR6mNHQ6In9fROPf9ksnW9T6ZUK5x8ULjff+uX6N2rvV3+dW/PMhxTcyxAUAAABqBAEO1pW9bVATn+bV7W5Sz/mEMrm8MVyr8DCv7M2Yho7WyzPWqJGxDa4V84ZPvT90K3/So6YTo0r8O6d85QN8XFD+bkrRM355fHG1Xoyo813zMgDP9zir6Mc+Db89pO73barb36tEpl+OazFN3Ssoe6FdvjMz6vwupN7PwurfEVb7iaiypXAHAAAAwCzLBziztU9695sdqDFOtZydVOZat1zZmEIBj5wVxYcdbr86ziVVdziimcyI2t/Z+FoxzvcHNZlJqntPRtFPgvI4Kwokv9Uo//FRTb3Zron//KKRI2wFDixbLq7QQY+CP3cp9k3A+DQoK+1U90NIdWN+ef4nIe/3SQ2/bzMuaFDv2IT8Pxvvw4MhxW5XK3dcFgs4nr5Pn9MGrps3AgAAAGrYtifFdOQF3bhxQ/v27TPPodbcuXOndNy1a1fpuDWkNLDNo1BfUk9ObcrG5Mt3fUDb3CH1pwgqsXmKnwNr/RmQ/8eAgufq1P9dtxoWloJ6mNbQhyE9+ENE/c0LLsynFT4eUv6TiHotWEOq+DOviJ97AAAA2EgEONiiAQ6AlViPAGerIsABAADAZqAGDgAAAAAAgMUR4AAAAAAAAFgcAQ4AAAAAAIDFEeAAAAAAAABYHAEOAAAAAACAxRHgAAAAAAAAWBwBDgAAAAAAgMUR4AAAAAAAAFgcAQ4AAAAAAIDFEeAAAAAAAABYHAEOAAAAAACAxRHgAAAAAAAAWBwBDgAAAAAAgMUR4AAAAAAAAFgcAQ4AAAAAAIDFEeAAAAAAAABYHAEOAAAAAACAxRHgAAAAAAAAWNy2Jwbz9KrduXPHPAUAwMth165d5ikAAABg/a1JgHPjxg3t27fPPIdaMxvAMRgBXl7FzwE+A5an+DOviJ97AAAA2EgsoQIAAAAAALA4AhwAAAAAAACLI8ABAAAAAACwOAIcAAAAAAAAiyPAAQAAAAAAsDgCHAAAAAAAAIsjwAEAAAAAALA4AhwAAAAAAACLI8ABAAAAAACwOAIcAAAAAAAAiyPAAQAAAAAAsDgCHAAAAAAAAIsjwAEAAAAAALA4AhwAAAAAAACLI8ABAAAAAACwOAIcAAAAAAAAiyPAAQAAAAAAsDgCHFhGbsyvbdsGlDLPv5iUBrZt07Yza3NvJdcHjMfnV/SeeX7VcooerXhspfvdpoHr5bPrpfz8Lv341/Z7AKzEgvfFGlnO6x4AAACoBQQ4WBflQZMxGFu0be6AKnWm2mOq0lYxmMxeGVBwj6N0e8eeoAauZM1L1l7ux7C6jnq003y8O91+df05odxj8wrAJlnOe2y1oWX+H8br/vf1chTvx1Gv1o/DSuTMCwEAAIAtigAH68LeNq4nT55UaY80+VnxGi453yxddVmeHwgZ7WhUyx3DuU8teFy/RuQz+vtTC/pPucs3WKbsWFCevhn5L2dLt8+MeTX9oUfBsbUOcfJKfO6R4/OMPJ/HNW0+3umxTjmvdajh4IBSD82rApvlSEQzs++lyma+31aj+B5zHYnL8WlC2dJ9JdXfkFSwoVVDNwvmtQAAAICtx5IBzrOzCjo0cDljDFlR+9JKXTAOH3nkKnesQL+SCweCZkv2mVdZrXtZxYzDoxeZuXI/rqETCQX7BuXbXVfqsr3brvA3rYqeGFL8fqlrTeT/FlLwS4ciY8MK7LWp/L9JdTu86r44qf66kHxfJMRwFlvK7VF1BYz32Pfj6n3PXn7db7ep4Q+jiv1hRj0fDSnNix4AAABblOUCnNzlDjV4+5WxedUbm9RkPKJ2Z1LDvnq1nEkxIK1xhavjGs7Z1fm+Rzaz9stscwSKEcrmyGWnSsd4Kl06rkY+FVdYXfI3z8YpZbZDAXXnwsZ9r1UEmVPiUli5j9rVssPsmsep1g98yn0ZV5I3DLaQ9GXjfdTcr84F7zGpTu7jPfJdD2n0KlE/AAAAtibrzcCpa1A4O6PJ7/rVftgrrzH47Y1OKXaqQanT/YrcNq+H2lNIa+j0kHL7e9R+yCbt7503i2YmutpFFS8qq4kLMbn3u5U+G1FiyaVHMQXfmg2d5tfxydwMS80uOc3zc+qcajwshW9mzI4XVygGM47XZTyLVdmdjca/WeXWcNYPsCFOe54Gu/NqUKWViKbVcKjx2fdY0Ztu+Yvvs2tTBP0AAADYkiwX4NgPdcr3zKyCOrl/75ddcaUz/HW1NhWU+lOnQtfd6v+6Uw1mrxUUroYVSner/0pEkeaIQl8vNdPLp8ivs6HTuAJzdXxyyt4yDm87jNfpQkbfbuPw88yya/Q8T11xAsLMg0WXFZZnFK2sztBTIXlmB9DPayuoOwQsS1/yabBbWYMqP6PsTcmzu2p8Y3DKWfxguZtjuS0AAAC2pNopYmyzq944PChNPUBtKSjzl3b5TmcViEbUu3/h8odN9DCl/pMR+b8LyWtzKvBNTK1xn9ovrGXR4Tq98ppxuOAv75qzzaHgpfIlq2OX90in7N+OKn7X7JqnPKOooa91xUHZ4sWnF2kXA1UCK2AdPMxrxjg4frPYvDPTpazxDgAAAAC2npoJcPK3UkoYw9HGtxku1pa8Eqdb5T2eUOPZuEbbnv71fOHOUutSA6dyOca2Ac3bFPxhWkMBnxK+mAbfNweFr7rVezWuxktNajodX9vtuOd25JlR5IjZt0q29wcV65tRsLlD4eu5uRlDhbsJDR1tUqjQr/Cn7rnixsCmuBQ0Q8sF7a1gqWg4AAAAgOWrjQDnYUrhr0al4vKqvWYfrC+X0MDvXWo680j+WFITnzbMCxQWzvZYlxo4lcsxnvRqbkHG3Zi6mhs1/m5E8VMLgo5XG9T9w5T6XxuV73hsDZYIFfTo/4zDHucazlapk/tUUjPfNShz1qd6c2Bc3xZV4XBE6b8bX+ur5lWBTfDMVv1VWu9+88rL8Ya9VPtm5j/PWSB1xFm9Rg4AAABQ46wf4DzOKvqxT6G7AUW+aecX8xpQuJdQ+HiTHI4mDT8Majyb1PBhC33nHmc0enJQhePTSnzhXaQQsE3uz8aV/KtvmaGLMbjcYxyq1rkx+m5LXvvazx6zv9ep4YtJ/WIOiH9Jjai3zS37dvMKz5VT9OiC2RGrbP4xquHgRdgVuGi8jivr3lSqc8rVLCVvL7ZAKqvpa8bhnbUMSgEAAADrsHaAk4srdNCjYKpVkVREgapbJsNyHmaVvmVXT2JG2cRglaLUm2y7S+0Xkxo55lrZEqPSrlmVhYvnc+3tlK5mnq2/Uchq6nKDWn63uSFWecbTwsdvDporZkWsto23MWzGsxYulXxum7fzVCWnGpsblL6SVNX93G4nFLsqdR+wUol0AAAAYO1YNsDJXw2pqaFViXeHNJ0eIbypIXXvtGskFVH3e/a5gCR/O67Rkx1q8tbPq4nh2NOkpg97FB4zBm1HigFDxTKnjZTPKn6+Rx0Hm1TvqBhMOurVdLBDPedjSj9ngonN3aJODWv86vxC2/krUQ3tD8q7nsv/rg8Yj3f+tuZPpTRgfC3MkMFmWH5h7OfXhmpo65Hvar/Cf1u4jKqg1PdhxfcPKthM5ScAAABsTZYMcLJjQbkOJuT65hclzwXkopZHDcsqfqJJrgNDyrgCGo4mla0YtM2kxjXyiUeFy0E5XH6Fby61y9ji21t7TptXWYVSWOjyaOiWS4FzESWzFYPKX6c0/l27Gu9F5HfsVMelJfa3eaNF3We9ipzuUex2+evI/zSqzo+nN2jr9Kxm7psnKxUe6UHx+PhR6exSUmeKz+eCYs+AVbwZ0ODFVsWP+xW6YhbvfpxT4ku/fH9xKTLWvQHvMwAAAGBzWC7AKfxrQMFAVl3X4taqm4JVyZ7vUuvXNg2lJjV4zCuX3bagYLBNzr0+dV+cVrLN+L4fG1KqSoazrL/ir2ZL6/sx9RwckO2rpCbPtsv7jl22yge4vU62HW4FTo1rKu7TxNGgwj+Zl1XhbBtV4qRD48ZrtxgsNf4hpcZL8XXfOj3785Txb1qJdJWA6V7WuESK3crO7VYFbJTlL6Fa3vb6ziMjmrrarsK3XjmLt3vLq6FfWxRJs8wWAAAAW5vFApy8En8NKXWsR53/Xb20LGpL7l5cOuKX97kDqzq5W/zSzSllq80iWS+3MxqVT/4Dzw8LbXsa5VFKiVtLLUWqk+twryK3ZkqhUrGocPe6v5azSozF1HKoRfHPhxRb8PDSl8NKFE9cSChJgoNN4VPk1yqha7W2WBHjCrZ3Axr8Ybq8Lf/MtCa+6ZSXEkwAAADY4iwW4GSU/tY45BIa/dOQhqq2+LNFYmFZzt0+6dK4EnfNjkUVlIqPS3s9ci1SJHhd7HapXTGNX3v+qyr3z6SScsu7x1ojxexYSKEHg+r/YViR5nH5D3cp+pNZI+RuVP0n02rp61enBhT6tjgXBwAAAABQa6xZxPhKWD0nexZp6SrbNMOq7G2Dmvg0r253k3rOJ5TJ5ecv43mYV/ZmTENH6+UZa9TI2EbUiqnwhk+9P3Qrf9KjphOjSvw7p3zlA3xcUP5uStEzfnl8cbVejKjzXfMyC8j/w1xyWKyxs92pwPcZTTZnNX41q3w+pYG2oGL7B9V/qlehcwFlT3Rq4B8LC8ACAAAAAKzOYgGOW70Lp9M/0zZplyKsklMtZyeVudYtVzamUMBTrlthNofbr45zSdUdjmgmM6L2dzZ+Bxnn+4OazCTVvSej6CdBeZxPH9+2txrlPz6qqTfbNfGfXzRyxCp1mfLKnO9Q44FhOaORiho7Nnn7JjTanFHokEch9St5pVzY1X5kVPGzr2v4QKM6/pxS7nH5Fs9avFj0M+1olEAVyxBT8K0qr5+qbbHd1AAAAICX27YnxVTkBd24cUP79u0zz6HW3Llzp3TctWtX6bg1FLfO9ijUl1xWTY1NVdwC3B1Sf+qJevebfc/zOKvo8S4l3x+uWuw7+7cudV1u0OC59md2ccte7lHX3xo1/F1Azu1mJ156xc+BrfUZUFYsouwISJFfxxVYo+WZxZ95RfzcAwAAwEYiwMEWDXAArMRWDXDWAwEOAAAANoM1a+AAAAAAAABgDgEOAAAAAACAxRHgAAAAAAAAWBwBDgAAAAAAgMUR4AAAAAAAAFgcAQ4AAAAAAIDFEeAAAAAAAABYHAEOAAAAAACAxRHgAAAAAAAAWBwBDgAAAAAAgMUR4AAAAAAAAFgcAQ4AAAAAAIDFEeAAAAAAAABYHAEOAAAAAACAxRHgAAAAAAAAWBwBDgAAAAAAgMUR4AAAAAAAAFgcAQ4AAAAAAIDFbXtiME+v2p07d8xTAAC8HHbt2mWeAgAAANbfmgQ4N27c0L59+8xzqDWzARyDEeDlVfwc4DNgeYo/84r4uQcAAICNxBIqAAAAAAAAiyPAAQAAAAAAsDgCHAAAAAAAAIsjwAEAAAAAALA4AhwAAAAAAACLI8ABAAAAAACwOAIcAAAAAAAAiyPAAQAAAAAAsDgCHAAAAAAAAIsjwAEAAAAAALA4AhwAAAAAAACLI8ABAAAAAACwOAIcAAAAAAAAiyPAAQAAAAAAsDgCHAAAAAAAAIsjwAEAAAAAALA4AhwAAAAAAACLI8CBZeTG/Nq2bUAp8/yLSWlg2zZtO7M291ZyfcB4fH5F75nnVy2n6NGKx1a6320auF4+u17Kz+/Sj39tvwdrZM2e90rr8PrAmkidMb4vR6PGuwQAAABAJQIcrItyEGAMxBZtaz0gX5nSILHq41rQVjHAz14ZUHCPo3R7x56gBq5kzUvWXu7HsLqOerTTfLw73X51/Tmh3GPzClZzLyr/7HO7WFvt4P1hRrEzHfK8Xb6fne4ODVzOKG9ejI1V7TPAP5ZbtB8AAADA0ghwsC7sbeN68uRJlfZIk58Vr+GS883SVZfl+YGQ0VYw8HefWvC4fo3IZ/T3pxb0n3KXb7BM2bGgPH0z8l/Olm6fGfNq+kOPgmNrHeLklfjcI8fnGXk+j2vafLzTY51yXutQw8EBpR6aV7WgZ55nsyX7zCus1MOUBprrNfgfr8LmfU9f8unRV/Vq+SSu9YvQsDSfIr8+/f6Ot9nN/n4lzb75/c+37PB1rm1uWAwAAACsFesFOPdTGj3ZoSb3TvOX753yHO1R9Cf+jr41pJW6YBw+8shV7liB+YO+yrbqgf+se1nFjMOjF5m5cj+uoRMJBfsG5dtdV+qyvduu8Detip4YUvx+qWtN5P8WUvBLhyJjwwrstan8v0l1O7zqvjip/rqQfF8kVDD7t7aCEl/4FHp9RJFzATW8Ue6te7NF/WMROf7crtAlZnhsFc+Er0u0mWgxlgUAAAC2BusFOHeTij20y/fJsCYTk5qIdqr+fkTBPS0auP5yDEe3ssLVcQ3n7Op83yObWftltjkCxQhlc+SyU6VjPJUuHVcjn4orrC75m2fjlDLboYC6c2HjvtcqhMwpcSms3Eftatlhds3jVOsHPuW+jCv5Mrxl7scV/TKn7k+Dxle+wI6Aevqk6BcRrf47CwAAAACbz3oBzm+7NfFNvzrbWuR9z6uWtm6N/BBT796UQn0RlkLUskJaQ6eHlNvfo/ZDNml/r0X+Wp7VxIWY3PvdSp+NKLHk0qOYgm9VX5qRuRmWml3Phgh1TjUelsI3M2bHiysUgxnH6zKexarszkbj36xyazjrZ3Mt/rznUwmNqlPe380Pzma532uXbsY1ddvsAAAAAIAaVBs1cF51q7U4tr+SY2eSmlVQ6k+dCl13q//rTjWYvVZQuBpWKN2t/isRRZojCn2dWmLpUWVNj3EF5ur45JS9ZRzedujZah5G327j8PPMmr1+64pZxcyDRQv0lmcUrazO0FMheSpmRi3ZNmy3oMWedyl7OyntdcqxWJq1o964dWILhVlYGYdsr5onAQAAgBpGEWNsgIIyf2mX73RWgWhEvfurz5TYFA9T6j8Zkf+7kLw2pwLfxNQa96n9wlrO9arTK68Zhwt+OUrBh0PBS+VLVscu75FO2b8dVfyu2TVPeUZRQ1/rioOyxYtPL9IuBqoEVhur8DBdCs4c5vnFTGWJfzde5cwpo83t6rYgJFzXINCh1xcL9wAAAIAaUiMBTlbTxu/99v91W2rmBpYjr8TpVnmPJ9R4Nq7RtqcLjBbuLLUuNXBOeyr+jwHN2xTcGPgPBXxK+GIafN8c4b3qVu/VuBovNanpdHxtt+M+EtFMKfiYUeSI2bdKtvcHFeubUbC5Q+HrubkZQ4W7CQ0dbVKo0K/wp+654sZWE3I//b5XNs9p8wqoeVXDwFPu6v0WCAIBAAAAq7N8gFO4m9LoJ0F1POjU6Mdeyw5IUUUuoYHfu9R05pH8saQmPm2Y9/1bOJBblxo4fcmK/6NXc5uC342pq7lR4+9GFDcGlfNeV682qPuHKfW/Nirf8dgazAwo6NH/GYc9zjUcpNbJfSqpme8alDnrU70ZgNS3RVU4HFH678bXasVlI28GNF7xPa/aVjiYt9u9peVpM+b5xTQ6iQi2ppQGjNe+f+zZd+qjh+xeCAAAgK3DkgFO5cyMV5wejW7v0fTVYbWsqp4HNlrhXkLh401yOJo0/DCo8WxSw4efKe27eR5nNHpyUIXj00p84V2kELBN7s/Glfyrb5lhgl3OPcahap0bo++25LWvfYBgf69TwxeT+sUMP35Jjai3zS37dvMKz5VT9Oj8WTCrbdUG0GuiVOx6ft2bSo4dDdLNrGYWGasXMlOKySfym5dPLpeQ9tYR/AMAAGBLsGSAYzsQKm0hPpmYUORct5xXO1X/dpNCV/lrak14mFX6ll09iRllE4PyVd3qehNtd6n9YlIjx1wrG9g9J0hw7e2Urmae3SmtkNXU5Qa1/G5zQ6zyjKeFj9+uwMUFM2BW2cbbVpKQlGdNVAuCqrf5O09VqmvwqF3FbdqrlZ4uKPljRGpukdtqr8MtK6fY/1T7HprNUa8m984qly3+PV61/2e0ZdRHAgAAAGqBJQOcujcbSluIe99rUeCPg4rcyir58SMNHGzR0E3zSrCsunfaNZKKqPs9+1xAkr8d1+jJDjV5681CvuXm2NOkpg97FB5LSUeKAUPFMqeNlM8qfr5HHQebVO+oGFQWB5sHO9RzPqb0cyaY2Nwt6tSwxq/ODxLyV6Ia2h+Ud6/ZsR6uDywxAF58icnmcau3SghUtaX6zdss4o0Wtfc1KNwXVtrsmnM3pvCXUucf/c9u7451Ypfv+yrfR6Ml+4yLD4QUSf1S5fLFw9HVyelBzviu77Avut0+AAAAUEtqpIhxndwfdMlnDESTGSsNQvF8WcVPNMl1YEgZV0DD0aSyFYO2mdS4Rj7xqHA5KIfLr/DNxTfwXmp76xcpfpu/GlKTy6OhWy4FzkWUzFYMKn+d0vh37Wq8F5HfsVMdl5bYneqNFnWf9Spyukex2+WvI//TqDo/nt6grdOzmqm2VXbhkR4Uj48flc4uJXWm+HwuKPZsecbnw6dh9b8yKP+Ho0qbz0H+p6i62oKa6asoUo2XiF0t3/2iJ19ROw0AAABbQ40EOKhV2fNdav3apqHUpAaPeeWy2+YPpl61ybnXp+6L00q2ZdV1bEjVVsIsa3vr1exkcz+mnoMDsn2V1OTZdnnfsctW+QC318m2w63AqXFNxX2aOBpU+CfzsiqcbaNKnHRo/LCzFCw1/iGlxkvxdd86PfvzlPFvWol0lYDpXrY0MyV2Kzu3W9XmW8ESKnfIvM0SiruH/T2tEVdKneYOV41/SMhxcvrZItUAAAAAUIMsFuCkNfp1Ws9WuikodWFYMbWo5XdUIq0luXtx6Yhf3ufWH6mTu8Uv3ZxSttoskvVyO6NR+eQ/8PwFNrY9jfIopcStpWaB1cl1uFeRWzOlUKlYVLj7v9d79kdWiTHj3XGoRfHPhxRb8PDSl8NKFE9cSChpnQSnbN4uYUu1ZSyv2W6X97MRJX8u36ZU0Pmwi+UzAAAAALYEiwU4BeVONMq1J1iqOZL4MaHY+ZC6WurlOZ1VIDqs9t3mVVETnLt90qVxJe6aHYsqKBUfl/Z65FrTOhjPsduldsU0fm2JpVGm3D+TSsot7x5rhYjZsZBCDwbV/8OwIs3j8h/uUvQnMwa9G1X/ybRa+vrVqQGFvn2mSgxgfaUaTwtmZs01j4pztGIBR5XLFrZaWx4IAAAAPGWxAMetzlvj6vpdTvHP/WryNsn/RUIzO7o18XNGkTbKkNYae9ugJj7Nq9vdpJ7zCWVy+fnLeB7mlb0Z09DRennGGjUythG1Yiq84VPvD93Kn/So6cSoEv/OKV/5AB8XlL+bUvSMXx5fXK0XI+p817zMAvL/GFAwkFVXscbOdqcC32c02ZzV+NWs8vmUBtqCiu0fVP+pXoXOBZQ90amBf7CbG2pMaQe4hbOyVtM2qUg6AAAAsAYsVwPH9q4xoP7rpKZnzF+4f05q/JtOtexmIURtcqrl7KQy17rlysYUCnjkrPiLuMPtV8e5pOoORzSTGVH7OxtfrcT5/qAmM0l178ko+klQHmfFX+zfapT/+Kim3mzXxH9+0cgRq4SIeWXOd6jxwLCc0UhFjR2bvH0TGm3OKHSoODOhX8kr3aVQzH5kVPGzr2v4QKM6/pxS7nH5Fs9avFj0M+1oVC9UVvy0p/r9VmtnmDsBAAAA4OVFEWNsCNvu4lbPwxpPTGum4i/iM7cmNfnXQXW2uWXfbl55M9icajk2qJG/V4SHxTYzrcm/j2jwWItcb5jXfWF2BS4a933qBeYCPH6g9LUZtcSSVWemPcgmlXWNaPpqr9xz2WedGj6dUDLm00w6q2p7UrlPVXzty2mrKRxdsoJtxGfbizxfsITS62vVrxkAAADg5bbNGBg9MU+v2o0bN7Rv3z7zHGrNnTt3Ssddu3aVjgBePsXPAT4Dlqf4M6+In3sAAADYSMzAAQAAAAAAsDgCHAAAAAAAAIsjwAEAAAAAALA4AhwAAAAAAACLI8ABAAAAAACwOAIcAAAAAAAAiyPAAQAAAAAAsDgCHAAAAAAAAIsjwAEAAAAAALA4AhwAAAAAAACLI8ABAAAAAACwOAIcAAAAAAAAiyPAAQAAAAAAsDgCHAAAAAAAAIsjwAEAAAAAALA4AhwAAAAAAACLI8ABAAAAAACwuG1PDObpVbtz5455CgCAl8OuXbvMUwAAAMD6YwYOAAAAAACAxa3JDJwbN25o37595jnUmtkZVPw1GXh5FT8H+AxYnuLPvCJ+7gEAAGAjMQMHAAAAAADA4ghwAAAAAAAALI4ABwAAAAAAwOIIcAAAAAAAACyOAAcAAAAAAMDiCHAAAAAAAAAsjgAHAAAAAADA4ghwAAAAAAAALI4ABwAAAAAAwOIIcAAAAAAAACyOAAcAAAAAAMDiCHAAAAAAAAAsjgAHAAAAAADA4ghwAAAAAAAALI4ABwAAAAAAwOIIcAAAAAAAACyOAAcAAAAAAMDiCHBgGbkxv7ZtG1DKPP9iUhrYtk3bzqzNvZVcHzAen1/Re+b5VcsperTisZXud5sGrpfPrpfy87v041/b78EaWbPnvdI6vD4WYcnn1LLW9vuynNc8AAAAUCsIcLAuygMnYyC2aNvcQVXqTLXHVKWtYiCZvTKg4B5H6faOPUENXMmal6y93I9hdR31aKf5eHe6/er6c0K5x+YVrOZeVP7Z53axdjSqnHn1FXmYUexMhzxvl+9np7tDA5czypsXvzAzaJvXiq+PxfpRli9/X5rM98Q2R72aPhxQ7Kc1+84AAAAALwUCHKwLe9u4njx5UqU90uRnxWu45HyzdNVleX4gZLQVDPzdpxY8rl8j8hn9/akF/afc5RssU3YsKE/fjPyXs6XbZ8a8mv7Qo+DYWoc4eSU+98jxeUaez+OaNh/v9FinnNc61HBwQKmH5lUt6Jnn2WzJPvMKK/UwpYHmeg3+x6uwed/Tl3x69FW9Wj6Jay2f/XmPfe714VPk12r9y7CcUGthq5GAqPDvUQVdXo1uD2gkNVN+brJJDTY/ULi5UR2XVvKdMWfnPKet90w2AAAAYLPURICTv9xR+sXcP7aqv8vDUtJKXTAOH3nkKnesQL+SswPkBW3VA/9Z97KKGYdHLzJz5X5cQycSCvYNyre7rtRle7dd4W9aFT0xpPj9UteayP8tpOCXDkXGhhXYa1P5f5PqdnjVfXFS/XUh+b5IqGD2b20FJb7wKfT6iCLnAmp4o9xb92aL+scicvy5XaFLFv7seDOg8Sqv6eotabwLakVa4WMdyvwhpvH/9cr5qtldZ1ND26Amvvdp4miXRm+b/cvVl6zyvDxtvfvN6wEAAABbjPUDnEJK4b5R8wxqXeHquIZzdnW+75FtwdITR6AYoWyOXHaqdIyn0qXjauRTcYXVJX/zbJxSZjsUUHcubNz3Wi0ZySlxKazcR+1q2WF2zeNU6wc+5b6MK/kyJDj344p+mVP3p0HjK19gR0A9fVL0i4hW/53FqvwrrsHrDQr63HMBY6W6Zr+67Mb37sf1W2IIAAAAbCWWD3CyF/oVMgb8dvM8alghraHTQ8rt71H7IZu0v3feX85nosVFTJshq4kLMbn3u5U+G1FiyaVHMQXfmg2d5tfxydwMS82uZ0OEOqcaD0vhmxmz48UVisGM43UZz2JVdmej8W9WuTWc9bO5Fn/e86mERtUp7++qxQSS+7126WZcUyud6YEX87gYNTrlMGdEPcsp5wEpkWNmJQAAALAc1g5w7sUUOj2l7r6QPGYXalVBqT91KnTdrf6vO9Vg9lpB4WpYoXS3+q9EFGmOKPR1aomlR5W1TsYVmKvjk1P2lnF421ElbDT6dhuHn2dWV5y3irpiVjHzYNECveUZRSurM/SU8X6rmBm1ZFttweEVW+x5l7K3k9JepxyLpVk76o1bJ7ZQmCU1vFo9rLKU7TLeC1nNLPq8Z5W9ZnxndxDPAwAAAMth4QAnp9jnnUocHlXo0OtmH2pTQZm/tMt3OqtANKLe/RYafD5Mqf9kRP7vQvLanAp8E1Nr3Kf2C2u5rKNOr7xmHC745SgFHw4FL5UvWR27vEc6Zf92VPG7Ztc85RlFDX2tKw7KFi8+vUi7GNj02XGFh+lScOYwzy9mKrs2UVPIXS3AqpwhVGzru2240/68r9YCftuinv1pRWLVA9Hyckqf/O89M2cNAAAAQBWWDXCyY93qvOpV+POWRZeJoBbklTjdKu/xhBrPxjXa9nSwtnBnqXWpgXPaU/F/LBhUGwP/oYBPCV9Mg++br7JX3eq9GlfjpSY1nY6v7XbcRyKaKQUfM4ocMftWyfb+oGJ9Mwo2dyh8PTc3QC7cTWjoaJNChX6FP61ee8QK5oUgFc1z2ryCFS1Y8jcXYFXrf9Krle1fthU1qHssItdffGo9HVNmdiZOIa/0WI9a/yem1ouD82ZTrY/54RrF8AEAAFCrrBng3I0qdCIh79l++db9l3usm1xCA793qenMI/ljSU182jAvUFg422NdauDM27GmYlB9N6au5kaNvxtR/NSCoONVY+D5w5T6XxuV73hsDZYIFfTo/4zDHucazlapk/tUUjPfNShz1qd6c3Ba3xZV4XBE6b8bX+vsrj9Wspwdl1Y4q8du95aWp82Y5xfT6KydpTrlcLPKLJ7CIz0wT9aEHQFFMgl1/ldcXe85yiGK06PQNae6r01p5MhGzL6Zv8X7eBtLtgAAAFCbrBfgFNIaaAsq0RzWUMVsDdSOwr2Ewseb5HA0afhhUOPZpIYPW+h7+Tij0ZODKhyfVuIL7yIzvGxyfzau5F99ywwT7HLuMQ5V69wYfbclr33tB4729zo1fDGpX8zB6S+pEfW2uWXfbl7huXKKHn06O+FF2rrNbCjNcJlf96aSY0eDdDOrmUUKAhUyU4oZg/gaym8Wdz+n4uI+Ry3UwJllc8l3akSTt2bKIcrMtCa+6VTLbuZWAgAAACthsQDHLHSrfsW+We7AGZbzMKv0Lbt6EjPKJgblq7rV9Sba7lL7xaRGjrlWtsToOUGCa2+ndDVTGmDPU8hq6nKDWn63uSFWecbTwsdvV+Di09kJL9JWNrMhpYEqIdDibf7OU5XqGjxqV3Gb9qqVVpT8MSI1t8j9Aq/D9Jfm7JGqbac83nqzvtH8NnDdvIO1Yi7pc/xmq4YfbvUWX0+nWIAGAAAALGSpACc7Vix0Kw1+a9HlH1iWunfaNZKKqPs9+1xAkr8d1+jJDjUtGOg69jSp6cMehcdS0pFiwLBJtUPyWcXP96jjYJPqHRWDcEe9mg52qOd8TOnnTDCxuVvUqWGNX50fJOSvRDW0PyjvXrNjPVwfMB7vYiFHOSyxVu0Pc6C+nJbqN2+ziDda1N7XoHBfWGmza87dmMJfSp1/9D+7vfsKNPyvOXtkQSsv+2vXUGLarG80v/XuL99+zdyfUcbulX3RrbmtzJztdaZ6eedFl40BAAAAKLFQgJNSNFDc0SWlnoaKAXSxvRVUsbxtLFD+KzhFKGtJVvETTXIdGFLGFdBwNKlsxQB3JjWukU88KlwOyuHyK3xz8Q28l9re+kWK3+avhtTk8mjolkuBcxElsxWD8F+nNP5duxrvReR37FTHpSV2p3qjRd1nvYqc7lHsdvnryP80qs6Ppzdo6/RFtmyerZvy+FHp7FJSZ4rPZ60Nouvk/jSs/lcG5f9wVGnzOcj/FFVXW1AzfRVFqmvdb7s1PTOp9uK29LVqke3vHz0s9j7/NTq/MHn11vj1M1EeAAAAUPMsFODY1fDVoAartf8NlAa/DR/0ls63OGuo/sNLLnu+S61f2zSUmtTgMa9cdtuCgsE2Off61H1xWsm2rLqODanaSphlbW+9mi2t78fUc3BAtq+SmjzbLu87dtkqH+D2Otl2uBU4Na6puE8TR4MK/2ReVoWzbVSJkw6NH3aWB5J/SKnxUnzdt07P/jxl/JtWIl0lYLqXLc1Mid3KVt3OeXOsYAmVO2TeZgnF3cP+ntaIK6VOc4erxj8k5Dg5/WyRamySrKaL2+dfTmrqmRdiwXgNJ4xjStO3yz3PWv6sralP1z8uBQAAADaahQIcp1o+61Z3tfZxa2n5g/NQV+l8+36KX9aK3L24dMQv73Prj9TJ3eKXbk4pW20WyXq5ndGofPIfeP4CG9ueRnmMAWbi1lIzwOrkOtyriFmwtVhUuPu/1/v1mlViLKaWQy2Kfz6k2IKHl74cVnForAsJJa2T4JTN2yVsqbZ47aE52+3yfjai5M/l25QKOh92LVKkGhutcHVco3tb1GIfUOjPC2bI3I8r+qfiiYRi15aY5QYAAAC8xCxWxBhbjXO3T7o0rsRds2NRBaXi49Jej1wbuXX8bpfaFdP4MgaNuX8mlZRb3j3WKq+dHQsp9GBQ/T8MK9I8Lv/hLkV/Mhep3I2q/2RaLX396pQxcP6WpSXWsPTuX45AcdHo4ksGK1tNLCl9mNLQ6Yj8fRGNf9svnWxR65cJ5UpFmY33/rl+jdq71d/nLoWQ8Y0McQEAAIAaQYCDdWVvG9TEp3l1u5vUcz6hTC4/fxnPw7yyN2MaOlovz1ijRsY2olZMhTd86v2hW/mTHjWdGFXi3znlKx/g44Lyd1OKnvHL44ur9WJEne+al1lA/h8DCgay6irW2NnuVOD7jCabsxq/mlU+nyptyR/bP6j+U70KnQsoe6JTA/9YZL9tbKDN2v1rEzzOKvqxT8NvD6n7fZvq9vcqkemX41pMU/cKyl5ol+/MjDq/C6n3s7D6d4TVfiKqrLnjFgAAAICy2ghw3gxovBYGKqjCqZazk8pc65YrG1Mo4JGzYvaAw+1Xx7mk6g5HNJMZUfs7G1+txPn+oCYzSXXvySj6SVAeZ8UMh7ca5T8+qqk32zXxn180cmRztwJ/Kq/M+Q41HhiWMxqpqLFjk7dvQqPNGYUOeUpb8ievdJdCMfuRUcXPvq7hA43q+HPKnP1QzfJmfpTa0WLh8RewjIK0c22R3YtgYbm4Qgc9Cv7cpdg3gbmdwEo71f0QUt2YX57/Scj7fVLDxULTdQ3qHZuQ/2fjfXgwpNhtwkYAAABgFjNwsCFsu4tbPQ9rfMF2yzO3JjX510F1trll325eeTPYnGo5NqiRv09qeqZihsPMtCb/PqLBYy1yrdnWzebsi1MvsGH64wdKX5tRSyypSNuzodKDbFJZ14imr/bKPVcEpk4Nn04oGfNpJp2tut+P+1TF176ctprC0SUr2EZ8tr3I87VOysW1N2nr+xqQv51W+o0eTV0xnqNXzc5ZhRml01L73zOKfFDxGt7RouErUwq9kVaGDQcBAACAOduMgdET8/Sq3bhxQ/v27TPPodbcuXOndNy1a1fpCODlU/wc4DNgeYo/84r4uQcAAICNxAwcAAAAAAAAiyPAAQAAAAAAsDgCHAAAAAAAAIsjwAEAAAAAALA4AhwAAAAAAACLI8ABAAAAAACwOAIcAAAAAAAAiyPAAQAAAAAAsDgCHAAAAAAAAIsjwAEAAAAAALA4AhwAAAAAAACLI8ABAAAAAACwOAIcAAAAAAAAiyPAAQAAAAAAsDgCHAAAAAAAAIsjwAEAAAAAALA4AhwAAAAAAACL2/bEYJ5etRs3bpinUItsNlvpmM/nS0cAL5/i5wCfASuzb98+8xQAAACw/piBAwAAAAAAYHFrMgMHAAAAAAAA64cZOAAAAAAAABZHgAMAAAAAAGBxBDgAAAAAAAAWR4ADAAAAAABgcQQ4AAAAAAAAlib9/2+Pu8LXACQWAAAAAElFTkSuQmCC)"
   ]
  },
  {
   "cell_type": "markdown",
   "metadata": {
    "id": "FwXoPcBj1JU0"
   },
   "source": [
    "위의 sequences는 모든 문장을 각 단어가 각 시점(time step)마다 하나씩 추가적으로 등장하는 형태로 만들기는 했지만, 아직 예측할 단어에 해당되는 레이블을 분리하는 작업까지는 수행하지 않은 상태입니다. 어떤 정수가 어떤 단어를 의미하는지 알아보기 위해 인덱스로부터 단어를 찾는 index_to_word를 만듭니다."
   ]
  },
  {
   "cell_type": "code",
   "execution_count": 67,
   "metadata": {
    "executionInfo": {
     "elapsed": 10,
     "status": "aborted",
     "timestamp": 1723709601568,
     "user": {
      "displayName": "전정호",
      "userId": "01748710418857244015"
     },
     "user_tz": -540
    },
    "id": "uB9VhghgH4Uf"
   },
   "outputs": [
    {
     "name": "stdout",
     "output_type": "stream",
     "text": [
      "빈도수 상위 582번 단어 : offer\n"
     ]
    }
   ],
   "source": [
    "# index_to_word = {}\n",
    "# for key, value in tokenizer.word_index.items(): # 인덱스를 단어로 바꾸기 위해 index_to_word를 생성\n",
    "#     index_to_word[value] = key\n",
    "index_to_word = tokenizer.index_word\n",
    "\n",
    "print('빈도수 상위 582번 단어 : {}'.format(index_to_word[582]))"
   ]
  },
  {
   "cell_type": "markdown",
   "metadata": {
    "id": "yqjSy1d-1Mzz"
   },
   "source": [
    "582이라는 인덱스를 가진 단어는 본래 offer라는 단어였습니다. 원한다면 다른 숫자로도 시도해보세요. 이제 데이터를 분리하기 전에 전체 샘플의 길이를 동일하게 만드는 패딩 작업을 수행합니다. 패딩 작업을 수행하기 전에 가장 긴 샘플의 길이를 확인합니다."
   ]
  },
  {
   "cell_type": "code",
   "execution_count": 68,
   "metadata": {
    "executionInfo": {
     "elapsed": 10,
     "status": "aborted",
     "timestamp": 1723709601568,
     "user": {
      "displayName": "전정호",
      "userId": "01748710418857244015"
     },
     "user_tz": -540
    },
    "id": "1DFDdcHXIO03"
   },
   "outputs": [
    {
     "name": "stdout",
     "output_type": "stream",
     "text": [
      "샘플의 최대 길이 : 24\n"
     ]
    }
   ],
   "source": [
    "max_len = max(len(l) for l in sequences)\n",
    "print('샘플의 최대 길이 : {}'.format(max_len))"
   ]
  },
  {
   "cell_type": "markdown",
   "metadata": {
    "id": "LtvQstST1Q-h"
   },
   "source": [
    "가장 긴 샘플의 길이인 24로 모든 샘플의 길이를 패딩하겠습니다."
   ]
  },
  {
   "cell_type": "code",
   "execution_count": 69,
   "metadata": {
    "executionInfo": {
     "elapsed": 9,
     "status": "aborted",
     "timestamp": 1723709601568,
     "user": {
      "displayName": "전정호",
      "userId": "01748710418857244015"
     },
     "user_tz": -540
    },
    "id": "gI_BNPqGIUNv"
   },
   "outputs": [
    {
     "name": "stdout",
     "output_type": "stream",
     "text": [
      "[[   0    0    0    0    0    0    0    0    0    0    0    0    0    0\n",
      "     0    0    0    0    0    0    0    0   99  269]\n",
      " [   0    0    0    0    0    0    0    0    0    0    0    0    0    0\n",
      "     0    0    0    0    0    0    0   99  269  371]\n",
      " [   0    0    0    0    0    0    0    0    0    0    0    0    0    0\n",
      "     0    0    0    0    0    0   99  269  371 1115]\n",
      " [   0    0    0    0    0    0    0    0    0    0    0    0    0    0\n",
      "     0    0    0    0    0   99  269  371 1115  582]\n",
      " [   0    0    0    0    0    0    0    0    0    0    0    0    0    0\n",
      "     0    0    0    0   99  269  371 1115  582   52]\n",
      " [   0    0    0    0    0    0    0    0    0    0    0    0    0    0\n",
      "     0    0    0   99  269  371 1115  582   52    7]\n",
      " [   0    0    0    0    0    0    0    0    0    0    0    0    0    0\n",
      "     0    0   99  269  371 1115  582   52    7    2]\n",
      " [   0    0    0    0    0    0    0    0    0    0    0    0    0    0\n",
      "     0   99  269  371 1115  582   52    7    2  372]\n",
      " [   0    0    0    0    0    0    0    0    0    0    0    0    0    0\n",
      "    99  269  371 1115  582   52    7    2  372   10]\n",
      " [   0    0    0    0    0    0    0    0    0    0    0    0    0   99\n",
      "   269  371 1115  582   52    7    2  372   10 1116]\n",
      " [   0    0    0    0    0    0    0    0    0    0    0    0    0    0\n",
      "     0    0    0    0    0    0    0    0  100    3]\n",
      " [   0    0    0    0    0    0    0    0    0    0    0    0    0    0\n",
      "     0    0    0    0    0    0    0  100    3 1117]\n",
      " [   0    0    0    0    0    0    0    0    0    0    0    0    0    0\n",
      "     0    0    0    0    0    0  100    3 1117    2]\n",
      " [   0    0    0    0    0    0    0    0    0    0    0    0    0    0\n",
      "     0    0    0    0    0  100    3 1117    2   14]\n",
      " [   0    0    0    0    0    0    0    0    0    0    0    0    0    0\n",
      "     0    0    0    0  100    3 1117    2   14  583]\n",
      " [   0    0    0    0    0    0    0    0    0    0    0    0    0    0\n",
      "     0    0    0  100    3 1117    2   14  583   24]\n",
      " [   0    0    0    0    0    0    0    0    0    0    0    0    0    0\n",
      "     0    0  100    3 1117    2   14  583   24 1118]\n",
      " [   0    0    0    0    0    0    0    0    0    0    0    0    0    0\n",
      "     0  100    3 1117    2   14  583   24 1118  373]\n",
      " [   0    0    0    0    0    0    0    0    0    0    0    0    0    0\n",
      "   100    3 1117    2   14  583   24 1118  373  374]\n",
      " [   0    0    0    0    0    0    0    0    0    0    0    0    0  100\n",
      "     3 1117    2   14  583   24 1118  373  374    5]]\n"
     ]
    }
   ],
   "source": [
    "sequences = pad_sequences(sequences, maxlen=max_len, padding='pre')\n",
    "print(sequences[:20])"
   ]
  },
  {
   "cell_type": "markdown",
   "metadata": {
    "id": "avDchd4y1WEp"
   },
   "source": [
    "padding='pre'를 설정하여 샘플의 길이가 24보다 짧은 경우에 앞에 0으로 패딩되었습니다. 이제 **맨 우측 단어만 레이블로 분리** 합니다."
   ]
  },
  {
   "cell_type": "code",
   "execution_count": 76,
   "metadata": {
    "executionInfo": {
     "elapsed": 9,
     "status": "aborted",
     "timestamp": 1723709601568,
     "user": {
      "displayName": "전정호",
      "userId": "01748710418857244015"
     },
     "user_tz": -540
    },
    "id": "AS_Xeb68IW7n"
   },
   "outputs": [],
   "source": [
    "# X, Y 데이터 분리 (교사 강요!)\n",
    "sequences = np.array(sequences)\n",
    "X = sequences[:,:-1]\n",
    "y = sequences[:,-1]"
   ]
  },
  {
   "cell_type": "code",
   "execution_count": 77,
   "metadata": {
    "executionInfo": {
     "elapsed": 9,
     "status": "aborted",
     "timestamp": 1723709601568,
     "user": {
      "displayName": "전정호",
      "userId": "01748710418857244015"
     },
     "user_tz": -540
    },
    "id": "hQxwog4tIZOn"
   },
   "outputs": [
    {
     "name": "stdout",
     "output_type": "stream",
     "text": [
      "[[  0   0   0   0   0   0   0   0   0   0   0   0   0   0   0   0   0   0\n",
      "    0   0   0   0  99]\n",
      " [  0   0   0   0   0   0   0   0   0   0   0   0   0   0   0   0   0   0\n",
      "    0   0   0  99 269]\n",
      " [  0   0   0   0   0   0   0   0   0   0   0   0   0   0   0   0   0   0\n",
      "    0   0  99 269 371]]\n"
     ]
    }
   ],
   "source": [
    "print(X[:3])"
   ]
  },
  {
   "cell_type": "markdown",
   "metadata": {
    "id": "EP0WETsE1aCi"
   },
   "source": [
    "훈련 데이터 X에서 3개의 샘플만 출력해보았는데, 맨 우측에 있던 정수값 269, 371, 1115가 사라진 것을 볼 수 있습니다. 뿐만 아니라, 각 샘플의 길이가 24에서 23으로 줄었습니다."
   ]
  },
  {
   "cell_type": "code",
   "execution_count": 78,
   "metadata": {
    "executionInfo": {
     "elapsed": 9,
     "status": "aborted",
     "timestamp": 1723709601568,
     "user": {
      "displayName": "전정호",
      "userId": "01748710418857244015"
     },
     "user_tz": -540
    },
    "id": "ymQ9On9bIZ8f"
   },
   "outputs": [
    {
     "name": "stdout",
     "output_type": "stream",
     "text": [
      "[ 269  371 1115]\n"
     ]
    }
   ],
   "source": [
    "print(y[:3])"
   ]
  },
  {
   "cell_type": "markdown",
   "metadata": {
    "id": "fTz_75AH1dpr"
   },
   "source": [
    "훈련 데이터 y 중 3개의 샘플만 출력해보았는데, 기존 훈련 데이터에서 맨 우측에 있던 정수들이 별도로 저장되었습니다."
   ]
  },
  {
   "cell_type": "code",
   "execution_count": null,
   "metadata": {
    "executionInfo": {
     "elapsed": 10,
     "status": "aborted",
     "timestamp": 1723709601569,
     "user": {
      "displayName": "전정호",
      "userId": "01748710418857244015"
     },
     "user_tz": -540
    },
    "id": "BfI0f9ChIbbP"
   },
   "outputs": [],
   "source": [
    "# y = to_categorical(y, num_classes=vocab_size)"
   ]
  },
  {
   "cell_type": "code",
   "execution_count": 79,
   "metadata": {},
   "outputs": [
    {
     "data": {
      "text/plain": [
       "array([ 269,  371, 1115])"
      ]
     },
     "execution_count": 79,
     "metadata": {},
     "output_type": "execute_result"
    }
   ],
   "source": [
    "y[:3]"
   ]
  },
  {
   "cell_type": "markdown",
   "metadata": {
    "id": "uSefjtIs1fLq"
   },
   "source": [
    "레이블 데이터 y에 대해서 원-핫 인코딩을 수행하였습니다. 이제 모델을 설계합니다."
   ]
  },
  {
   "cell_type": "markdown",
   "metadata": {
    "id": "VRZKFAXY1fnX"
   },
   "source": [
    "#### **2) 모델 설계하기**"
   ]
  },
  {
   "cell_type": "markdown",
   "metadata": {},
   "source": [
    "RNN 모델에 데이터를 훈련시킵니다."
   ]
  },
  {
   "cell_type": "code",
   "execution_count": 80,
   "metadata": {
    "executionInfo": {
     "elapsed": 10,
     "status": "aborted",
     "timestamp": 1723709601569,
     "user": {
      "displayName": "전정호",
      "userId": "01748710418857244015"
     },
     "user_tz": -540
    },
    "id": "HqNmAdYJIcUP"
   },
   "outputs": [],
   "source": [
    "from tensorflow.keras.models import Sequential\n",
    "from tensorflow.keras.layers import Embedding, Dense, LSTM"
   ]
  },
  {
   "cell_type": "markdown",
   "metadata": {
    "id": "UdfVvev-1kAC"
   },
   "source": [
    "하이퍼파라미터인 **임베딩 벡터의 차원은 10, 은닉 상태의 크기는 128** 입니다. **다 대 일 구조의 LSTM** 을 사용합니다. **전결합층(Fully Connected Layer)을 출력층으로** 단어 집합 크기만큼의 뉴런을 배치하여 모델을 설계합니다. 해당 모델은 마지막 시점에서 모든 가능한 단어 중 하나의 단어를 예측하는 다중 클래스 분류 문제를 수행하는 모델입니다. 다중 클래스 분류 문제의 경우, 출력층에 소프트맥스 회귀를 사용해야 하므로 활성화 함수로는 소프트맥스 함수를 사용하고, 손실 함수로 크로스 엔트로피 함수를 사용하여 200 에포크를 수행합니다."
   ]
  },
  {
   "attachments": {
    "image-2.png": {
     "image/png": "[encoded data removed]"
    }
   },
   "cell_type": "markdown",
   "metadata": {
    "id": "-byQRP-lcLjH"
   },
   "source": [
    "![image-2.png](attachment:image-2.png)"
   ]
  },
  {
   "attachments": {
    "image.png": {
     "image/png": "[encoded data removed]"
    }
   },
   "cell_type": "markdown",
   "metadata": {
    "id": "3CDdnGb2cWxl"
   },
   "source": [
    "![image.png](attachment:image.png)"
   ]
  },
  {
   "cell_type": "code",
   "execution_count": 81,
   "metadata": {
    "executionInfo": {
     "elapsed": 10,
     "status": "aborted",
     "timestamp": 1723709601569,
     "user": {
      "displayName": "전정호",
      "userId": "01748710418857244015"
     },
     "user_tz": -540
    },
    "id": "fuVD70-vcWil"
   },
   "outputs": [
    {
     "data": {
      "text/plain": [
       "array([[   0,    0,    0, ...,    0,    0,   99],\n",
       "       [   0,    0,    0, ...,    0,   99,  269],\n",
       "       [   0,    0,    0, ...,   99,  269,  371],\n",
       "       ...,\n",
       "       [   0,    0,    0, ...,  170,    8, 3493],\n",
       "       [   0,    0,    0, ...,    8, 3493,  115],\n",
       "       [   0,    0,    0, ..., 3493,  115,    2]])"
      ]
     },
     "execution_count": 81,
     "metadata": {},
     "output_type": "execute_result"
    }
   ],
   "source": [
    "X  # 원핫 없는 정수 인덱스 상태의 문장 집합"
   ]
  },
  {
   "cell_type": "code",
   "execution_count": 82,
   "metadata": {},
   "outputs": [
    {
     "data": {
      "text/plain": [
       "3494"
      ]
     },
     "execution_count": 82,
     "metadata": {},
     "output_type": "execute_result"
    }
   ],
   "source": [
    "vocab_size"
   ]
  },
  {
   "cell_type": "code",
   "execution_count": 83,
   "metadata": {
    "executionInfo": {
     "elapsed": 10,
     "status": "aborted",
     "timestamp": 1723709601569,
     "user": {
      "displayName": "전정호",
      "userId": "01748710418857244015"
     },
     "user_tz": -540
    },
    "id": "dUQE1WpzIkDP"
   },
   "outputs": [
    {
     "name": "stdout",
     "output_type": "stream",
     "text": [
      "Epoch 1/200\n",
      "244/244 - 5s - 20ms/step - accuracy: 0.0267 - loss: 7.6545\n",
      "Epoch 2/200\n",
      "244/244 - 3s - 12ms/step - accuracy: 0.0286 - loss: 7.1249\n",
      "Epoch 3/200\n",
      "244/244 - 3s - 12ms/step - accuracy: 0.0323 - loss: 6.9915\n",
      "Epoch 4/200\n",
      "244/244 - 3s - 13ms/step - accuracy: 0.0383 - loss: 6.8801\n",
      "Epoch 5/200\n",
      "244/244 - 3s - 14ms/step - accuracy: 0.0419 - loss: 6.7505\n",
      "Epoch 6/200\n",
      "244/244 - 3s - 14ms/step - accuracy: 0.0451 - loss: 6.6031\n",
      "Epoch 7/200\n",
      "244/244 - 3s - 14ms/step - accuracy: 0.0496 - loss: 6.4217\n",
      "Epoch 8/200\n",
      "244/244 - 3s - 14ms/step - accuracy: 0.0547 - loss: 6.2180\n",
      "Epoch 9/200\n",
      "244/244 - 3s - 14ms/step - accuracy: 0.0606 - loss: 6.0140\n",
      "Epoch 10/200\n",
      "244/244 - 3s - 14ms/step - accuracy: 0.0642 - loss: 5.8195\n",
      "Epoch 11/200\n",
      "244/244 - 3s - 14ms/step - accuracy: 0.0666 - loss: 5.6416\n",
      "Epoch 12/200\n",
      "244/244 - 3s - 14ms/step - accuracy: 0.0756 - loss: 5.4697\n",
      "Epoch 13/200\n",
      "244/244 - 4s - 15ms/step - accuracy: 0.0783 - loss: 5.3075\n",
      "Epoch 14/200\n",
      "244/244 - 4s - 15ms/step - accuracy: 0.0821 - loss: 5.1517\n",
      "Epoch 15/200\n",
      "244/244 - 4s - 15ms/step - accuracy: 0.0933 - loss: 5.0010\n",
      "Epoch 16/200\n",
      "244/244 - 3s - 13ms/step - accuracy: 0.1001 - loss: 4.8586\n",
      "Epoch 17/200\n",
      "244/244 - 3s - 12ms/step - accuracy: 0.1135 - loss: 4.7256\n",
      "Epoch 18/200\n",
      "244/244 - 3s - 12ms/step - accuracy: 0.1265 - loss: 4.5883\n",
      "Epoch 19/200\n",
      "244/244 - 3s - 12ms/step - accuracy: 0.1437 - loss: 4.4568\n",
      "Epoch 20/200\n",
      "244/244 - 3s - 12ms/step - accuracy: 0.1631 - loss: 4.3332\n",
      "Epoch 21/200\n",
      "244/244 - 3s - 12ms/step - accuracy: 0.1802 - loss: 4.2117\n",
      "Epoch 22/200\n",
      "244/244 - 3s - 12ms/step - accuracy: 0.1989 - loss: 4.0931\n",
      "Epoch 23/200\n",
      "244/244 - 3s - 12ms/step - accuracy: 0.2162 - loss: 3.9793\n",
      "Epoch 24/200\n",
      "244/244 - 3s - 12ms/step - accuracy: 0.2357 - loss: 3.8675\n",
      "Epoch 25/200\n",
      "244/244 - 3s - 12ms/step - accuracy: 0.2514 - loss: 3.7611\n",
      "Epoch 26/200\n",
      "244/244 - 3s - 12ms/step - accuracy: 0.2741 - loss: 3.6548\n",
      "Epoch 27/200\n",
      "244/244 - 3s - 12ms/step - accuracy: 0.2868 - loss: 3.5544\n",
      "Epoch 28/200\n",
      "244/244 - 3s - 12ms/step - accuracy: 0.3033 - loss: 3.4554\n",
      "Epoch 29/200\n",
      "244/244 - 3s - 12ms/step - accuracy: 0.3230 - loss: 3.3628\n",
      "Epoch 30/200\n",
      "244/244 - 3s - 12ms/step - accuracy: 0.3386 - loss: 3.2744\n",
      "Epoch 31/200\n",
      "244/244 - 3s - 12ms/step - accuracy: 0.3494 - loss: 3.1861\n",
      "Epoch 32/200\n",
      "244/244 - 3s - 12ms/step - accuracy: 0.3733 - loss: 3.1018\n",
      "Epoch 33/200\n",
      "244/244 - 3s - 12ms/step - accuracy: 0.3841 - loss: 3.0196\n",
      "Epoch 34/200\n",
      "244/244 - 3s - 12ms/step - accuracy: 0.4001 - loss: 2.9420\n",
      "Epoch 35/200\n",
      "244/244 - 3s - 12ms/step - accuracy: 0.4174 - loss: 2.8673\n",
      "Epoch 36/200\n",
      "244/244 - 3s - 12ms/step - accuracy: 0.4320 - loss: 2.7938\n",
      "Epoch 37/200\n",
      "244/244 - 3s - 12ms/step - accuracy: 0.4450 - loss: 2.7239\n",
      "Epoch 38/200\n",
      "244/244 - 3s - 12ms/step - accuracy: 0.4574 - loss: 2.6563\n",
      "Epoch 39/200\n",
      "244/244 - 3s - 12ms/step - accuracy: 0.4680 - loss: 2.5881\n",
      "Epoch 40/200\n",
      "244/244 - 3s - 12ms/step - accuracy: 0.4808 - loss: 2.5253\n",
      "Epoch 41/200\n",
      "244/244 - 3s - 12ms/step - accuracy: 0.4931 - loss: 2.4648\n",
      "Epoch 42/200\n",
      "244/244 - 3s - 12ms/step - accuracy: 0.5007 - loss: 2.4065\n",
      "Epoch 43/200\n",
      "244/244 - 3s - 12ms/step - accuracy: 0.5172 - loss: 2.3460\n",
      "Epoch 44/200\n",
      "244/244 - 3s - 12ms/step - accuracy: 0.5275 - loss: 2.2914\n",
      "Epoch 45/200\n",
      "244/244 - 3s - 12ms/step - accuracy: 0.5374 - loss: 2.2382\n",
      "Epoch 46/200\n",
      "244/244 - 3s - 12ms/step - accuracy: 0.5491 - loss: 2.1836\n",
      "Epoch 47/200\n",
      "244/244 - 3s - 12ms/step - accuracy: 0.5573 - loss: 2.1367\n",
      "Epoch 48/200\n",
      "244/244 - 3s - 12ms/step - accuracy: 0.5662 - loss: 2.0851\n",
      "Epoch 49/200\n",
      "244/244 - 3s - 12ms/step - accuracy: 0.5776 - loss: 2.0389\n",
      "Epoch 50/200\n",
      "244/244 - 3s - 12ms/step - accuracy: 0.5849 - loss: 1.9915\n",
      "Epoch 51/200\n",
      "244/244 - 3s - 12ms/step - accuracy: 0.5982 - loss: 1.9434\n",
      "Epoch 52/200\n",
      "244/244 - 3s - 12ms/step - accuracy: 0.6084 - loss: 1.9007\n",
      "Epoch 53/200\n",
      "244/244 - 3s - 12ms/step - accuracy: 0.6137 - loss: 1.8577\n",
      "Epoch 54/200\n",
      "244/244 - 3s - 12ms/step - accuracy: 0.6291 - loss: 1.8127\n",
      "Epoch 55/200\n",
      "244/244 - 3s - 12ms/step - accuracy: 0.6345 - loss: 1.7737\n",
      "Epoch 56/200\n",
      "244/244 - 3s - 12ms/step - accuracy: 0.6453 - loss: 1.7349\n",
      "Epoch 57/200\n",
      "244/244 - 3s - 12ms/step - accuracy: 0.6512 - loss: 1.6936\n",
      "Epoch 58/200\n",
      "244/244 - 3s - 12ms/step - accuracy: 0.6627 - loss: 1.6565\n",
      "Epoch 59/200\n",
      "244/244 - 3s - 12ms/step - accuracy: 0.6715 - loss: 1.6184\n",
      "Epoch 60/200\n",
      "244/244 - 3s - 12ms/step - accuracy: 0.6803 - loss: 1.5795\n",
      "Epoch 61/200\n",
      "244/244 - 3s - 12ms/step - accuracy: 0.6861 - loss: 1.5442\n",
      "Epoch 62/200\n",
      "244/244 - 3s - 12ms/step - accuracy: 0.6958 - loss: 1.5095\n",
      "Epoch 63/200\n",
      "244/244 - 3s - 12ms/step - accuracy: 0.7028 - loss: 1.4754\n",
      "Epoch 64/200\n",
      "244/244 - 3s - 12ms/step - accuracy: 0.7108 - loss: 1.4432\n",
      "Epoch 65/200\n",
      "244/244 - 3s - 12ms/step - accuracy: 0.7181 - loss: 1.4093\n",
      "Epoch 66/200\n",
      "244/244 - 3s - 12ms/step - accuracy: 0.7243 - loss: 1.3767\n",
      "Epoch 67/200\n",
      "244/244 - 3s - 12ms/step - accuracy: 0.7293 - loss: 1.3479\n",
      "Epoch 68/200\n",
      "244/244 - 3s - 12ms/step - accuracy: 0.7375 - loss: 1.3155\n",
      "Epoch 69/200\n",
      "244/244 - 3s - 12ms/step - accuracy: 0.7434 - loss: 1.2844\n",
      "Epoch 70/200\n",
      "244/244 - 3s - 12ms/step - accuracy: 0.7518 - loss: 1.2577\n",
      "Epoch 71/200\n",
      "244/244 - 3s - 12ms/step - accuracy: 0.7560 - loss: 1.2250\n",
      "Epoch 72/200\n",
      "244/244 - 3s - 12ms/step - accuracy: 0.7653 - loss: 1.1958\n",
      "Epoch 73/200\n",
      "244/244 - 3s - 12ms/step - accuracy: 0.7711 - loss: 1.1696\n",
      "Epoch 74/200\n",
      "244/244 - 3s - 12ms/step - accuracy: 0.7727 - loss: 1.1438\n",
      "Epoch 75/200\n",
      "244/244 - 3s - 13ms/step - accuracy: 0.7815 - loss: 1.1192\n",
      "Epoch 76/200\n",
      "244/244 - 4s - 15ms/step - accuracy: 0.7833 - loss: 1.0926\n",
      "Epoch 77/200\n",
      "244/244 - 3s - 14ms/step - accuracy: 0.7896 - loss: 1.0651\n",
      "Epoch 78/200\n",
      "244/244 - 3s - 13ms/step - accuracy: 0.7939 - loss: 1.0394\n",
      "Epoch 79/200\n",
      "244/244 - 3s - 12ms/step - accuracy: 0.7994 - loss: 1.0173\n",
      "Epoch 80/200\n",
      "244/244 - 3s - 12ms/step - accuracy: 0.8040 - loss: 0.9974\n",
      "Epoch 81/200\n",
      "244/244 - 3s - 12ms/step - accuracy: 0.8047 - loss: 0.9752\n",
      "Epoch 82/200\n",
      "244/244 - 3s - 12ms/step - accuracy: 0.8133 - loss: 0.9502\n",
      "Epoch 83/200\n",
      "244/244 - 3s - 12ms/step - accuracy: 0.8172 - loss: 0.9272\n",
      "Epoch 84/200\n",
      "244/244 - 3s - 12ms/step - accuracy: 0.8219 - loss: 0.9054\n",
      "Epoch 85/200\n",
      "244/244 - 3s - 12ms/step - accuracy: 0.8253 - loss: 0.8855\n",
      "Epoch 86/200\n",
      "244/244 - 3s - 12ms/step - accuracy: 0.8270 - loss: 0.8656\n",
      "Epoch 87/200\n",
      "244/244 - 3s - 12ms/step - accuracy: 0.8329 - loss: 0.8455\n",
      "Epoch 88/200\n",
      "244/244 - 3s - 12ms/step - accuracy: 0.8372 - loss: 0.8270\n",
      "Epoch 89/200\n",
      "244/244 - 3s - 12ms/step - accuracy: 0.8411 - loss: 0.8079\n",
      "Epoch 90/200\n",
      "244/244 - 3s - 12ms/step - accuracy: 0.8435 - loss: 0.7933\n",
      "Epoch 91/200\n",
      "244/244 - 3s - 12ms/step - accuracy: 0.8463 - loss: 0.7711\n",
      "Epoch 92/200\n",
      "244/244 - 3s - 12ms/step - accuracy: 0.8502 - loss: 0.7554\n",
      "Epoch 93/200\n",
      "244/244 - 3s - 12ms/step - accuracy: 0.8540 - loss: 0.7393\n",
      "Epoch 94/200\n",
      "244/244 - 3s - 12ms/step - accuracy: 0.8560 - loss: 0.7232\n",
      "Epoch 95/200\n",
      "244/244 - 3s - 12ms/step - accuracy: 0.8568 - loss: 0.7080\n",
      "Epoch 96/200\n",
      "244/244 - 3s - 12ms/step - accuracy: 0.8601 - loss: 0.6911\n",
      "Epoch 97/200\n",
      "244/244 - 3s - 12ms/step - accuracy: 0.8654 - loss: 0.6765\n",
      "Epoch 98/200\n",
      "244/244 - 3s - 12ms/step - accuracy: 0.8672 - loss: 0.6620\n",
      "Epoch 99/200\n",
      "244/244 - 3s - 12ms/step - accuracy: 0.8711 - loss: 0.6485\n",
      "Epoch 100/200\n",
      "244/244 - 3s - 12ms/step - accuracy: 0.8740 - loss: 0.6372\n",
      "Epoch 101/200\n",
      "244/244 - 3s - 12ms/step - accuracy: 0.8745 - loss: 0.6205\n",
      "Epoch 102/200\n",
      "244/244 - 3s - 12ms/step - accuracy: 0.8753 - loss: 0.6080\n",
      "Epoch 103/200\n",
      "244/244 - 3s - 12ms/step - accuracy: 0.8803 - loss: 0.5944\n",
      "Epoch 104/200\n",
      "244/244 - 3s - 12ms/step - accuracy: 0.8794 - loss: 0.5852\n",
      "Epoch 105/200\n",
      "244/244 - 3s - 12ms/step - accuracy: 0.8849 - loss: 0.5706\n",
      "Epoch 106/200\n",
      "244/244 - 3s - 12ms/step - accuracy: 0.8838 - loss: 0.5617\n",
      "Epoch 107/200\n",
      "244/244 - 3s - 12ms/step - accuracy: 0.8856 - loss: 0.5509\n",
      "Epoch 108/200\n",
      "244/244 - 3s - 13ms/step - accuracy: 0.8881 - loss: 0.5381\n",
      "Epoch 109/200\n",
      "244/244 - 3s - 12ms/step - accuracy: 0.8925 - loss: 0.5293\n",
      "Epoch 110/200\n",
      "244/244 - 3s - 12ms/step - accuracy: 0.8925 - loss: 0.5182\n",
      "Epoch 111/200\n",
      "244/244 - 3s - 12ms/step - accuracy: 0.8963 - loss: 0.5066\n",
      "Epoch 112/200\n",
      "244/244 - 3s - 12ms/step - accuracy: 0.8979 - loss: 0.4974\n",
      "Epoch 113/200\n",
      "244/244 - 3s - 12ms/step - accuracy: 0.9000 - loss: 0.4881\n",
      "Epoch 114/200\n",
      "244/244 - 3s - 12ms/step - accuracy: 0.8997 - loss: 0.4804\n",
      "Epoch 115/200\n",
      "244/244 - 3s - 12ms/step - accuracy: 0.9008 - loss: 0.4703\n",
      "Epoch 116/200\n",
      "244/244 - 3s - 12ms/step - accuracy: 0.9023 - loss: 0.4609\n",
      "Epoch 117/200\n",
      "244/244 - 3s - 12ms/step - accuracy: 0.9050 - loss: 0.4542\n",
      "Epoch 118/200\n",
      "244/244 - 3s - 12ms/step - accuracy: 0.9034 - loss: 0.4472\n",
      "Epoch 119/200\n",
      "244/244 - 3s - 12ms/step - accuracy: 0.9067 - loss: 0.4376\n",
      "Epoch 120/200\n",
      "244/244 - 3s - 12ms/step - accuracy: 0.9067 - loss: 0.4307\n",
      "Epoch 121/200\n",
      "244/244 - 3s - 12ms/step - accuracy: 0.9049 - loss: 0.4261\n",
      "Epoch 122/200\n",
      "244/244 - 3s - 12ms/step - accuracy: 0.9076 - loss: 0.4202\n",
      "Epoch 123/200\n",
      "244/244 - 3s - 12ms/step - accuracy: 0.9099 - loss: 0.4105\n",
      "Epoch 124/200\n",
      "244/244 - 3s - 12ms/step - accuracy: 0.9099 - loss: 0.4032\n",
      "Epoch 125/200\n",
      "244/244 - 3s - 12ms/step - accuracy: 0.9112 - loss: 0.3993\n",
      "Epoch 126/200\n",
      "244/244 - 3s - 14ms/step - accuracy: 0.9117 - loss: 0.3901\n",
      "Epoch 127/200\n",
      "244/244 - 3s - 14ms/step - accuracy: 0.9099 - loss: 0.3844\n",
      "Epoch 128/200\n",
      "244/244 - 3s - 14ms/step - accuracy: 0.9126 - loss: 0.3806\n",
      "Epoch 129/200\n",
      "244/244 - 3s - 14ms/step - accuracy: 0.9129 - loss: 0.3742\n",
      "Epoch 130/200\n",
      "244/244 - 3s - 14ms/step - accuracy: 0.9127 - loss: 0.3678\n",
      "Epoch 131/200\n",
      "244/244 - 3s - 14ms/step - accuracy: 0.9126 - loss: 0.3657\n",
      "Epoch 132/200\n",
      "244/244 - 3s - 14ms/step - accuracy: 0.9116 - loss: 0.3618\n",
      "Epoch 133/200\n",
      "244/244 - 3s - 14ms/step - accuracy: 0.9112 - loss: 0.3615\n",
      "Epoch 134/200\n",
      "244/244 - 3s - 14ms/step - accuracy: 0.9144 - loss: 0.3569\n",
      "Epoch 135/200\n",
      "244/244 - 3s - 14ms/step - accuracy: 0.9145 - loss: 0.3488\n",
      "Epoch 136/200\n",
      "244/244 - 3s - 14ms/step - accuracy: 0.9146 - loss: 0.3428\n",
      "Epoch 137/200\n",
      "244/244 - 3s - 14ms/step - accuracy: 0.9158 - loss: 0.3377\n",
      "Epoch 138/200\n",
      "244/244 - 3s - 14ms/step - accuracy: 0.9140 - loss: 0.3344\n",
      "Epoch 139/200\n",
      "244/244 - 3s - 14ms/step - accuracy: 0.9159 - loss: 0.3345\n",
      "Epoch 140/200\n",
      "244/244 - 3s - 14ms/step - accuracy: 0.9152 - loss: 0.3296\n",
      "Epoch 141/200\n",
      "244/244 - 3s - 14ms/step - accuracy: 0.9166 - loss: 0.3260\n",
      "Epoch 142/200\n",
      "244/244 - 3s - 14ms/step - accuracy: 0.9175 - loss: 0.3247\n",
      "Epoch 143/200\n",
      "244/244 - 3s - 14ms/step - accuracy: 0.9143 - loss: 0.3199\n",
      "Epoch 144/200\n",
      "244/244 - 3s - 14ms/step - accuracy: 0.9167 - loss: 0.3171\n",
      "Epoch 145/200\n",
      "244/244 - 4s - 14ms/step - accuracy: 0.9153 - loss: 0.3139\n",
      "Epoch 146/200\n",
      "244/244 - 3s - 14ms/step - accuracy: 0.9175 - loss: 0.3107\n",
      "Epoch 147/200\n",
      "244/244 - 4s - 15ms/step - accuracy: 0.9173 - loss: 0.3090\n",
      "Epoch 148/200\n",
      "244/244 - 4s - 15ms/step - accuracy: 0.9153 - loss: 0.3103\n",
      "Epoch 149/200\n",
      "244/244 - 3s - 12ms/step - accuracy: 0.9157 - loss: 0.3086\n",
      "Epoch 150/200\n",
      "244/244 - 3s - 12ms/step - accuracy: 0.9153 - loss: 0.3112\n",
      "Epoch 151/200\n",
      "244/244 - 3s - 12ms/step - accuracy: 0.9179 - loss: 0.3016\n",
      "Epoch 152/200\n",
      "244/244 - 3s - 12ms/step - accuracy: 0.9157 - loss: 0.2988\n",
      "Epoch 153/200\n",
      "244/244 - 3s - 12ms/step - accuracy: 0.9170 - loss: 0.2968\n",
      "Epoch 154/200\n",
      "244/244 - 3s - 12ms/step - accuracy: 0.9170 - loss: 0.2948\n",
      "Epoch 155/200\n",
      "244/244 - 3s - 12ms/step - accuracy: 0.9187 - loss: 0.2928\n",
      "Epoch 156/200\n",
      "244/244 - 3s - 12ms/step - accuracy: 0.9171 - loss: 0.2969\n",
      "Epoch 157/200\n",
      "244/244 - 3s - 12ms/step - accuracy: 0.9134 - loss: 0.3099\n",
      "Epoch 158/200\n",
      "244/244 - 3s - 12ms/step - accuracy: 0.9159 - loss: 0.3000\n",
      "Epoch 159/200\n",
      "244/244 - 3s - 12ms/step - accuracy: 0.9168 - loss: 0.2910\n",
      "Epoch 160/200\n",
      "244/244 - 3s - 12ms/step - accuracy: 0.9172 - loss: 0.2851\n",
      "Epoch 161/200\n",
      "244/244 - 3s - 12ms/step - accuracy: 0.9170 - loss: 0.2831\n",
      "Epoch 162/200\n",
      "244/244 - 3s - 12ms/step - accuracy: 0.9170 - loss: 0.2821\n",
      "Epoch 163/200\n",
      "244/244 - 3s - 12ms/step - accuracy: 0.9175 - loss: 0.2818\n",
      "Epoch 164/200\n",
      "244/244 - 3s - 12ms/step - accuracy: 0.9176 - loss: 0.2801\n",
      "Epoch 165/200\n",
      "244/244 - 3s - 12ms/step - accuracy: 0.9166 - loss: 0.2800\n",
      "Epoch 166/200\n",
      "244/244 - 3s - 12ms/step - accuracy: 0.9163 - loss: 0.2792\n",
      "Epoch 167/200\n",
      "244/244 - 3s - 12ms/step - accuracy: 0.9152 - loss: 0.2776\n",
      "Epoch 168/200\n",
      "244/244 - 3s - 12ms/step - accuracy: 0.9182 - loss: 0.2771\n",
      "Epoch 169/200\n",
      "244/244 - 3s - 12ms/step - accuracy: 0.9168 - loss: 0.2762\n",
      "Epoch 170/200\n",
      "244/244 - 3s - 12ms/step - accuracy: 0.9171 - loss: 0.2762\n",
      "Epoch 171/200\n",
      "244/244 - 3s - 12ms/step - accuracy: 0.9172 - loss: 0.2744\n",
      "Epoch 172/200\n",
      "244/244 - 3s - 12ms/step - accuracy: 0.9159 - loss: 0.2746\n",
      "Epoch 173/200\n",
      "244/244 - 3s - 12ms/step - accuracy: 0.9161 - loss: 0.2750\n",
      "Epoch 174/200\n",
      "244/244 - 3s - 12ms/step - accuracy: 0.9157 - loss: 0.2730\n",
      "Epoch 175/200\n",
      "244/244 - 3s - 12ms/step - accuracy: 0.9166 - loss: 0.2746\n",
      "Epoch 176/200\n",
      "244/244 - 3s - 12ms/step - accuracy: 0.9155 - loss: 0.2777\n",
      "Epoch 177/200\n",
      "244/244 - 3s - 12ms/step - accuracy: 0.9164 - loss: 0.2784\n",
      "Epoch 178/200\n",
      "244/244 - 3s - 12ms/step - accuracy: 0.9167 - loss: 0.2726\n",
      "Epoch 179/200\n",
      "244/244 - 3s - 12ms/step - accuracy: 0.9173 - loss: 0.2707\n",
      "Epoch 180/200\n",
      "244/244 - 3s - 12ms/step - accuracy: 0.9167 - loss: 0.2692\n",
      "Epoch 181/200\n",
      "244/244 - 3s - 12ms/step - accuracy: 0.9166 - loss: 0.2675\n",
      "Epoch 182/200\n",
      "244/244 - 3s - 12ms/step - accuracy: 0.9159 - loss: 0.2673\n",
      "Epoch 183/200\n",
      "244/244 - 3s - 12ms/step - accuracy: 0.9167 - loss: 0.2663\n",
      "Epoch 184/200\n",
      "244/244 - 3s - 12ms/step - accuracy: 0.9152 - loss: 0.2676\n",
      "Epoch 185/200\n",
      "244/244 - 3s - 12ms/step - accuracy: 0.9159 - loss: 0.2660\n",
      "Epoch 186/200\n",
      "244/244 - 3s - 12ms/step - accuracy: 0.9155 - loss: 0.2669\n",
      "Epoch 187/200\n",
      "244/244 - 3s - 12ms/step - accuracy: 0.9173 - loss: 0.2646\n",
      "Epoch 188/200\n",
      "244/244 - 3s - 12ms/step - accuracy: 0.9152 - loss: 0.2650\n",
      "Epoch 189/200\n",
      "244/244 - 3s - 12ms/step - accuracy: 0.9157 - loss: 0.2681\n",
      "Epoch 190/200\n",
      "244/244 - 3s - 12ms/step - accuracy: 0.9167 - loss: 0.2689\n",
      "Epoch 191/200\n",
      "244/244 - 3s - 12ms/step - accuracy: 0.9109 - loss: 0.2930\n",
      "Epoch 192/200\n",
      "244/244 - 3s - 12ms/step - accuracy: 0.9158 - loss: 0.2681\n",
      "Epoch 193/200\n",
      "244/244 - 3s - 12ms/step - accuracy: 0.9172 - loss: 0.2626\n",
      "Epoch 194/200\n",
      "244/244 - 3s - 12ms/step - accuracy: 0.9158 - loss: 0.2613\n",
      "Epoch 195/200\n",
      "244/244 - 3s - 12ms/step - accuracy: 0.9170 - loss: 0.2627\n",
      "Epoch 196/200\n",
      "244/244 - 3s - 12ms/step - accuracy: 0.9166 - loss: 0.2620\n",
      "Epoch 197/200\n",
      "244/244 - 3s - 12ms/step - accuracy: 0.9180 - loss: 0.2606\n",
      "Epoch 198/200\n",
      "244/244 - 3s - 12ms/step - accuracy: 0.9159 - loss: 0.2627\n",
      "Epoch 199/200\n",
      "244/244 - 3s - 12ms/step - accuracy: 0.9177 - loss: 0.2612\n",
      "Epoch 200/200\n",
      "244/244 - 3s - 12ms/step - accuracy: 0.9168 - loss: 0.2626\n",
      "CPU times: total: 42min 13s\n",
      "Wall time: 10min 6s\n"
     ]
    }
   ],
   "source": [
    "%%time\n",
    "# Epoch 200/200\n",
    "# 244/244 - 2s - 6ms/step - accuracy: 0.6067 - loss: 1.9442\n",
    "# CPU times: total: 3min 38s\n",
    "# Wall time: 6min 3s\n",
    "\n",
    "embedding_dim = 10\n",
    "hidden_units = 128\n",
    "# vocab_size : 3494\n",
    "\n",
    "model = Sequential()\n",
    "model.add(Embedding(vocab_size, embedding_dim))   ## X data는 원핫 없이 바로 Embedding하였음 (OK)\n",
    "model.add(LSTM(hidden_units))\n",
    "model.add(Dense(vocab_size, activation='softmax'))  # 단어장의 모든 단어 중 하나 선택\n",
    "\n",
    "# model.compile(loss='categorical_crossentropy', optimizer='adam', metrics=['accuracy'])\n",
    "model.compile(loss='sparse_categorical_crossentropy', optimizer='adam', metrics=['accuracy'])\n",
    "\n",
    "history = model.fit(X, y, epochs=200, verbose=2)"
   ]
  },
  {
   "cell_type": "markdown",
   "metadata": {
    "id": "tcAN_eoA1q0o"
   },
   "source": [
    "문장을 생성하는 함수 sentence_generation을 만들어서 문장을 생성해봅시다."
   ]
  },
  {
   "cell_type": "code",
   "execution_count": 83,
   "metadata": {
    "executionInfo": {
     "elapsed": 9,
     "status": "aborted",
     "timestamp": 1723709601569,
     "user": {
      "displayName": "전정호",
      "userId": "01748710418857244015"
     },
     "user_tz": -540
    },
    "id": "rWNtF6awhCMO"
   },
   "outputs": [
    {
     "name": "stdout",
     "output_type": "stream",
     "text": [
      "[59]\n",
      "[[ 0  0  0  0  0  0  0  0  0  0  0  0  0  0  0  0  0  0  0  0  0  0 59]]\n"
     ]
    }
   ],
   "source": [
    "# test\n",
    "current_word = 'i'\n",
    "encoded = tokenizer.texts_to_sequences([current_word])[0]\n",
    "print(encoded)\n",
    "encoded = pad_sequences([encoded], maxlen=max_len-1, padding='pre')\n",
    "print(encoded)"
   ]
  },
  {
   "cell_type": "code",
   "execution_count": 87,
   "metadata": {
    "executionInfo": {
     "elapsed": 9,
     "status": "aborted",
     "timestamp": 1723709601569,
     "user": {
      "displayName": "전정호",
      "userId": "01748710418857244015"
     },
     "user_tz": -540
    },
    "id": "mCBgycw-hkEV"
   },
   "outputs": [
    {
     "name": "stdout",
     "output_type": "stream",
     "text": [
      "(1, 3494) [[2.8714370e-10 5.7933114e-05 7.0812066e-06 ... 3.5681064e-17\n",
      "  4.5554144e-10 1.5809055e-13]]\n",
      "[310]\n"
     ]
    },
    {
     "data": {
      "text/plain": [
       "'want'"
      ]
     },
     "execution_count": 87,
     "metadata": {},
     "output_type": "execute_result"
    }
   ],
   "source": [
    "# 결과 예측\n",
    "result = model.predict(encoded, verbose=0)\n",
    "print(result.shape, result)\n",
    "result = np.argmax(result, axis=1)\n",
    "print(result)\n",
    "tokenizer.index_word[result[0]]"
   ]
  },
  {
   "cell_type": "code",
   "execution_count": 88,
   "metadata": {
    "executionInfo": {
     "elapsed": 9,
     "status": "aborted",
     "timestamp": 1723709601569,
     "user": {
      "displayName": "전정호",
      "userId": "01748710418857244015"
     },
     "user_tz": -540
    },
    "id": "J6Lqo_uRIq2X"
   },
   "outputs": [],
   "source": [
    "def sentence_generation(model, tokenizer, current_word, n): # 모델, 토크나이저, 현재 단어, 반복할 횟수\n",
    "    init_word = current_word\n",
    "    sentence = ''\n",
    "\n",
    "    # n번 반복\n",
    "    for _ in range(n):\n",
    "        encoded = tokenizer.texts_to_sequences([current_word])[0]\n",
    "        encoded = pad_sequences([encoded], maxlen=max_len-1, padding='pre')\n",
    "\n",
    "        # 입력한 X(현재 단어)에 대해서 y를 예측하고 y(예측한 단어)를 result에 저장.\n",
    "        result = model.predict(encoded, verbose=0)\n",
    "        result = np.argmax(result, axis=1)\n",
    "\n",
    "        for word, index in tokenizer.word_index.items():\n",
    "            # 만약 예측한 단어와 인덱스와 동일한 단어가 있다면\n",
    "            if index == result:\n",
    "                break\n",
    "\n",
    "        # 현재 단어 + ' ' + 예측 단어를 현재 단어로 변경\n",
    "        current_word = current_word + ' '  + word\n",
    "\n",
    "        # 예측 단어를 문장에 저장\n",
    "        sentence = sentence + ' ' + word\n",
    "\n",
    "    sentence = init_word + sentence\n",
    "    return sentence"
   ]
  },
  {
   "cell_type": "markdown",
   "metadata": {
    "id": "z6U2Ntki1uHd"
   },
   "source": [
    "임의의 단어 'i'에 대해서 10개의 단어를 추가 생성해봅시다."
   ]
  },
  {
   "cell_type": "code",
   "execution_count": null,
   "metadata": {
    "executionInfo": {
     "elapsed": 9,
     "status": "aborted",
     "timestamp": 1723709601569,
     "user": {
      "displayName": "전정호",
      "userId": "01748710418857244015"
     },
     "user_tz": -540
    },
    "id": "uAfJZAD4JIUM"
   },
   "outputs": [
    {
     "name": "stdout",
     "output_type": "stream",
     "text": [
      "i want to be rich and im not sorry clean an\n"
     ]
    }
   ],
   "source": [
    "print(sentence_generation(model, tokenizer, 'i', 10))"
   ]
  },
  {
   "cell_type": "markdown",
   "metadata": {
    "id": "I0epMYRY1yk-"
   },
   "source": [
    "임의의 단어 'how'에 대해서 10개의 단어를 추가 생성해봅시다."
   ]
  },
  {
   "cell_type": "code",
   "execution_count": 90,
   "metadata": {
    "executionInfo": {
     "elapsed": 9,
     "status": "aborted",
     "timestamp": 1723709601569,
     "user": {
      "displayName": "전정호",
      "userId": "01748710418857244015"
     },
     "user_tz": -540
    },
    "id": "JeXp2oTZJLiS"
   },
   "outputs": [
    {
     "name": "stdout",
     "output_type": "stream",
     "text": [
      "how to make facebook more accountable are art in a trade\n"
     ]
    }
   ],
   "source": [
    "print(sentence_generation(model, tokenizer, 'how', 10))"
   ]
  },
  {
   "cell_type": "code",
   "execution_count": 91,
   "metadata": {
    "executionInfo": {
     "elapsed": 9,
     "status": "aborted",
     "timestamp": 1723709601569,
     "user": {
      "displayName": "전정호",
      "userId": "01748710418857244015"
     },
     "user_tz": -540
    },
    "id": "kk_228p10cX7"
   },
   "outputs": [
    {
     "name": "stdout",
     "output_type": "stream",
     "text": [
      "i want to\n"
     ]
    }
   ],
   "source": [
    "print(sentence_generation(model, tokenizer, 'i', 2))"
   ]
  },
  {
   "cell_type": "code",
   "execution_count": 93,
   "metadata": {
    "executionInfo": {
     "elapsed": 9,
     "status": "aborted",
     "timestamp": 1723709601569,
     "user": {
      "displayName": "전정호",
      "userId": "01748710418857244015"
     },
     "user_tz": -540
    },
    "id": "0E-EEvgTiIPh"
   },
   "outputs": [
    {
     "name": "stdout",
     "output_type": "stream",
     "text": [
      "she has a lot to say and say and say on\n"
     ]
    }
   ],
   "source": [
    "print(sentence_generation(model, tokenizer, 'she', 10))"
   ]
  },
  {
   "cell_type": "code",
   "execution_count": 94,
   "metadata": {
    "executionInfo": {
     "elapsed": 9,
     "status": "aborted",
     "timestamp": 1723709601569,
     "user": {
      "displayName": "전정호",
      "userId": "01748710418857244015"
     },
     "user_tz": -540
    },
    "id": "UBIeCHrgiKX0"
   },
   "outputs": [
    {
     "name": "stdout",
     "output_type": "stream",
     "text": [
      "people is wrong to focus on animal welfare when humans are\n"
     ]
    }
   ],
   "source": [
    "print(sentence_generation(model, tokenizer, 'people', 10))"
   ]
  },
  {
   "cell_type": "code",
   "execution_count": 96,
   "metadata": {
    "executionInfo": {
     "elapsed": 8,
     "status": "aborted",
     "timestamp": 1723709601569,
     "user": {
      "displayName": "전정호",
      "userId": "01748710418857244015"
     },
     "user_tz": -540
    },
    "id": "1r9rEcibiiOd"
   },
   "outputs": [
    {
     "name": "stdout",
     "output_type": "stream",
     "text": [
      "peace face metoo fallout to new york is lawyers will the\n"
     ]
    }
   ],
   "source": [
    "print(sentence_generation(model, tokenizer, 'peace', 10))"
   ]
  }
 ],
 "metadata": {
  "accelerator": "TPU",
  "colab": {
   "gpuType": "V28",
   "provenance": [
    {
     "file_id": "159HGpPety-mttkndeOImHND0zvQwDWUL",
     "timestamp": 1673498382134
    }
   ]
  },
  "kernelspec": {
   "display_name": "Python 3 (ipykernel)",
   "language": "python",
   "name": "python3"
  },
  "language_info": {
   "codemirror_mode": {
    "name": "ipython",
    "version": 3
   },
   "file_extension": ".py",
   "mimetype": "text/x-python",
   "name": "python",
   "nbconvert_exporter": "python",
   "pygments_lexer": "ipython3",
   "version": "3.10.18"
  }
 },
 "nbformat": 4,
 "nbformat_minor": 4
}
