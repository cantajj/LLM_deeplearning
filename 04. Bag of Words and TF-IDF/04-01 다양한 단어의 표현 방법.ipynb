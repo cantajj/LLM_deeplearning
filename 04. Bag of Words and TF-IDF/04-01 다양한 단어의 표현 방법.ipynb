{
 "cells": [
  {
   "cell_type": "markdown",
   "metadata": {
    "id": "__aILqZ56Oox"
   },
   "source": [
    "## **04-01 다양한 단어의 표현 방법**\n",
    "---"
   ]
  },
  {
   "cell_type": "markdown",
   "metadata": {
    "id": "s9LhTRDw6SDN"
   },
   "source": [
    "여기서는 카운트 기반의 단어 표현 방법 외에도 다양한 단어의 표현 방법에는 어떤 것이 있으며, 앞으로 이 책에서는 어떤 순서로 단어 표현 방법을 학습하게 될 것인지에 대해서 먼저 설명합니다."
   ]
  },
  {
   "cell_type": "markdown",
   "metadata": {
    "id": "PKKECsZt6ULG"
   },
   "source": [
    "---\n",
    "### **1. 단어의 표현 방법**\n",
    "\n",
    "단어의 표현 방법은 크게 **국소 표현(Local Representation)** 방법과 **분산 표현(Distributed Representation)** 방법으로 나뉩니다. 국소 표현 방법은 해당 단어 그 자체만 보고, 특정값을 맵핑하여 단어를 표현하는 방법이며, 분산 표현 방법은 그 단어를 표현하고자 주변을 참고하여 단어를 표현하는 방법입니다.\n",
    "\n",
    "예를 들어 puppy(강아지), cute(귀여운), lovely(사랑스러운)라는 단어가 있을 때 각 단어에 1번, 2번, 3번 등과 같은 숫자를 맵핑(mapping)하여 부여한다면 이는 **국소 표현 방법** 에 해당됩니다. 반면, **분산 표현 방법** 의 예를 하나 들어보면 해당 단어를 표현하기 위해 주변 단어를 참고합니다. puppy(강아지)라는 단어 근처에는 주로 cute(귀여운), lovely(사랑스러운)이라는 단어가 자주 등장하므로, puppy라는 단어는 cute, lovely한 느낌이다로 단어를 정의합니다. 이렇게 되면 이 두 방법의 차이는 국소 표현 방법은 단어의 의미, 뉘앙스를 표현할 수 없지만, 분산 표현 방법은 단어의 뉘앙스를 표현할 수 있게 됩니다.\n",
    "\n",
    "또한 비슷한 의미로 **국소 표현 방법(Local Representation)을 이산 표현(Discrete Representation)** 이라고도 하며, **분산 표현(Distributed Representation)을 연속 표현(Continuous Represnetation)** 이라고도 합니다.\n",
    "\n",
    "추가 의견으로 구글의 연구원 토마스 미코로브(Tomas Mikolov)는 2016년에 한 발표에서 잠재 의미 분석(LSA)이나 잠재 디리클레 할당(LDA)과 같은 방법들은 단어의 의미를 표현할 수 있다는 점에서 연속 표현(Continuous Represnetation)이지만, 엄밀히 말해서 다른 접근의 방법론을 사용하고 있는 워드투벡터(Word2vec)와 같은 분산 표현(Distributed Representation)은 아닌 것으로 분류하여 연속 표현을 분산 표현을 포괄하고 있는 더 큰 개념으로 설명하기도 했습니다."
   ]
  },
  {
   "cell_type": "markdown",
   "metadata": {
    "id": "1W-5JXL-6Z5o"
   },
   "source": [
    "---\n",
    "### **2. 단어 표현의 카테고리화**\n",
    "\n",
    "이 책에서는 아래와 같은 기준으로 단어 표현을 카테고리화하여 작성되었습니다."
   ]
  },
  {
   "cell_type": "markdown",
   "metadata": {},
   "source": [
    "![image](https://wikidocs.net/images/page/31767/wordrepresentation.PNG)"
   ]
  },
  {
   "cell_type": "markdown",
   "metadata": {
    "id": "7TGkM-Jo6g0p"
   },
   "source": [
    "이번 챕터의 Bag of Words는 **국소 표현에(Local Representation)** 에 속하며, 단어의 빈도수를 카운트(Count)하여 단어를 수치화하는 단어 표현 방법입니다. 이 챕터에서는 BoW와 그의 확장인 DTM(또는 TDM)에 대해서 학습하고, 이러한 빈도수 기반 단어 표현에 단어의 중요도에 따른 가중치를 줄 수 있는 TF-IDF에 대해서 학습합니다.\n",
    "\n",
    "**워드 임베딩** 챕터에서는 **연속 표현(Continuous Representation)** 에 속하면서, 예측(prediction)을 기반으로 단어의 뉘앙스를 표현하는 워드투벡터(Word2Vec)와 그의 확장인 패스트텍스트(FastText)를 학습하고, 예측과 카운트라는 두 가지 방법이 모두 사용된 글로브(GloVe)에 대해서 학습합니다."
   ]
  },
  {
   "cell_type": "markdown",
   "metadata": {
    "id": "gWAhOTIb6iuB"
   },
   "source": [
    "마지막 편집일시 : 2022년 11월 14일 2:46 오후"
   ]
  },
  {
   "cell_type": "code",
   "execution_count": null,
   "metadata": {
    "id": "9UrNLjo36MQW"
   },
   "outputs": [],
   "source": []
  }
 ],
 "metadata": {
  "colab": {
   "authorship_tag": "ABX9TyPEAZHr+8w36N/bW/HnNGmb",
   "provenance": []
  },
  "kernelspec": {
   "display_name": "Python 3 (ipykernel)",
   "language": "python",
   "name": "python3"
  },
  "language_info": {
   "codemirror_mode": {
    "name": "ipython",
    "version": 3
   },
   "file_extension": ".py",
   "mimetype": "text/x-python",
   "name": "python",
   "nbconvert_exporter": "python",
   "pygments_lexer": "ipython3",
   "version": "3.10.18"
  }
 },
 "nbformat": 4,
 "nbformat_minor": 4
}
