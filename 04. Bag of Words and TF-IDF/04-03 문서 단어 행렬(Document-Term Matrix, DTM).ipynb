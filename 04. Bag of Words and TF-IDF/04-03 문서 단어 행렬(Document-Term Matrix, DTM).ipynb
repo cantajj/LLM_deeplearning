{
 "cells": [
  {
   "cell_type": "markdown",
   "metadata": {
    "id": "WsYrg5Z6_qhF"
   },
   "source": [
    "## **04-03 문서 단어 행렬(Document-Term Matrix, DTM)**\n",
    "---"
   ]
  },
  {
   "cell_type": "markdown",
   "metadata": {
    "id": "SStZKREe_ui8"
   },
   "source": [
    "서로 다른 문서들의 BoW들을 결합한 표현 방법인 문서 단어 행렬(Document-Term Matrix, DTM) 표현 방법을 배워보겠습니다. 이하 DTM이라고 명명합니다. 행과 열을 반대로 선택하면 TDM이라고 부르기도 합니다. 이렇게 하면 서로 다른 문서들을 비교할 수 있게 됩니다."
   ]
  },
  {
   "cell_type": "markdown",
   "metadata": {
    "id": "azZiKM0Q_xCg"
   },
   "source": [
    "---\n",
    "### **1. 문서 단어 행렬(Document-Term Matrix, DTM)의 표기법**\n",
    "\n",
    "**문서 단어 행렬(Document-Term Matrix, DTM)** 이란 **다수의 문서에서 등장하는 각 단어들의 빈도를 행렬로 표현한 것** 을 말합니다. 쉽게 생각하면 각 문서에 대한 BoW를 **하나의 행렬** 로 만든 것으로 생각할 수 있으며, BoW와 다른 표현 방법이 아니라 BoW 표현을 다수의 문서에 대해서 행렬로 표현하고 부르는 용어입니다. 예를 들어서 이렇게 4개의 문서가 있다고 합시다.\n",
    "  \n",
    "> 문서1 : 먹고 싶은 사과  \n",
    "> 문서2 : 먹고 싶은 바나나  \n",
    "> 문서3 : 길고 노란 바나나 바나나  \n",
    "> 문서4 : 저는 과일이 좋아요**  \n",
    "  \n",
    "띄어쓰기 단위 토큰화를 수행한다고 가정하고, 문서 단어 행렬로 표현하면 다음과 같습니다."
   ]
  },
  {
   "cell_type": "markdown",
   "metadata": {
    "id": "QUbWAD6BACCx"
   },
   "source": [
    "![image.png](data:image/png;base64,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)"
   ]
  },
  {
   "cell_type": "markdown",
   "metadata": {
    "id": "Bsw40DvaAEhE"
   },
   "source": [
    "각 문서에서 등장한 단어의 빈도를 행렬의 값으로 표기합니다. 문서 단어 행렬은 문서들을 서로 비교할 수 있도록 수치화할 수 있다는 점에서 의의를 갖습니다. 만약 필요에 따라서는 형태소 분석기로 단어 토큰화를 수행하고, 불용어에 해당되는 조사들 또한 제거하여 더 정제된 DTM을 만들 수도 있을 것입니다."
   ]
  },
  {
   "cell_type": "markdown",
   "metadata": {
    "id": "9lzjuC4kAHXM"
   },
   "source": [
    "---\n",
    "### **2. 문서 단어 행렬(Document-Term Matrix)의 한계**\n",
    "\n",
    "DTM은 매우 간단하고 구현하기도 쉽지만, 본질적으로 가지는 몇 가지 한계들이 있습니다."
   ]
  },
  {
   "cell_type": "markdown",
   "metadata": {
    "id": "8l7O5LCgAMff"
   },
   "source": [
    "#### **1) 희소 표현(Sparse representation)**\n",
    "**원-핫 벡터** 는 단어 집합의 크기가 벡터의 차원이 되고 대부분의 값이 0이 되는 벡터입니다. 원-핫 벡터는 공간적 낭비와 계산 리소스를 증가시킬 수 있다는 점에서 단점을 가집니다. **DTM** 도 마찬가지입니다. DTM에서의 각 행을 문서 벡터라고 해봅시다. 각 문서 벡터의 차원은 원-핫 벡터와 마찬가지로 전체 단어 집합의 크기를 가집니다. 만약 가지고 있는 전체 코퍼스가 방대한 데이터라면 문서 벡터의 차원은 수만 이상의 차원을 가질 수도 있습니다. 또한 많은 문서 벡터가 대부분의 값이 0을 가질 수도 있습니다. 당장 위에서 예로 들었던 문서 단어 행렬의 모든 행이 0이 아닌 값보다 0의 값이 더 많은 것을 볼 수 있습니다.\n",
    "\n",
    "원-핫 벡터나 DTM과 같은 대부분의 값이 0인 표현을 **희소 벡터(sparse vector)** 또는 **희소 행렬(sparse matrix)** 라고 부르는데, 희소 벡터는 많은 양의 저장 공간과 높은 계산 복잡도를 요구합니다. 이러한 이유로 전처리를 통해 단어 집합의 크기를 줄이는 일은 BoW 표현을 사용하는 모델에서 중요할 수 있습니다. 앞서 배운 텍스트 전처리 방법을 사용하여 **구두점, 빈도수가 낮은 단어, 불용어를 제거** 하고, **어간이나 표제어 추출** 을 통해 단어를 정규화하여 단어 집합의 크기를 줄일 수 있습니다."
   ]
  },
  {
   "cell_type": "markdown",
   "metadata": {
    "id": "cRZBuBoIARtn"
   },
   "source": [
    "#### **2) 단순 빈도 수 기반 접근**\n",
    "여러 문서에 등장하는 모든 단어에 대해서 빈도 표기를 하는 이런 방법은 때로는 **한계** 를 가지기도 합니다. 예를 들어 영어에 대해서 DTM을 만들었을 때, 불용어인 the는 어떤 문서이든 자주 등장할 수 밖에 없습니다. 그런데 유사한 문서인지 비교하고 싶은 문서1, 문서2, 문서3에서 동일하게 **the가 빈도수가 높다고 해서 이 문서들이 유사한 문서라고 판단해서는 안 됩니다**.\n",
    "\n",
    "각 문서에는 중요한 단어와 불필요한 단어들이 혼재되어 있습니다. 앞서 **불용어(stopwords)** 와 같은 단어들은 빈도수가 높더라도 자연어 처리에 있어 의미를 갖지 못하는 단어라고 언급한 바 있습니다. 그렇다면 **DTM에 불용어와 중요한 단어에 대해서 가중치를 줄 수 있는 방법** 은 없을까요? 이러한 아이디어를 적용한 **TF-IDF** 를 이어서 학습해봅시다. 사이킷런의 CountVectorizer를 사용하여 DTM을 만드는 실습 또한 TF-IDF를 설명하면서 진행하겠습니다."
   ]
  },
  {
   "cell_type": "markdown",
   "metadata": {
    "id": "rdeISkQMAV2D"
   },
   "source": [
    "마지막 편집일시 : 2022년 11월 14일 2:47 오후"
   ]
  },
  {
   "cell_type": "code",
   "execution_count": null,
   "metadata": {
    "id": "k-VCGT-36uo2"
   },
   "outputs": [],
   "source": []
  }
 ],
 "metadata": {
  "colab": {
   "authorship_tag": "ABX9TyOBMUPG1z3U8sCiGsxNq0RW",
   "provenance": []
  },
  "kernelspec": {
   "display_name": "Python 3 (ipykernel)",
   "language": "python",
   "name": "python3"
  },
  "language_info": {
   "codemirror_mode": {
    "name": "ipython",
    "version": 3
   },
   "file_extension": ".py",
   "mimetype": "text/x-python",
   "name": "python",
   "nbconvert_exporter": "python",
   "pygments_lexer": "ipython3",
   "version": "3.10.18"
  }
 },
 "nbformat": 4,
 "nbformat_minor": 4
}
